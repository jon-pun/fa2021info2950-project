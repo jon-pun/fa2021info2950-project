{
 "cells": [
  {
   "cell_type": "markdown",
   "metadata": {},
   "source": [
    "# project phase iv: on fashion & climate change\n",
    "\n",
    "project contributors: jillian beck (jlb574), diane lee (ddl58), alex panovka (amp343), jonathan yun (jly37)\n",
    "\n",
    "-----"
   ]
  },
  {
   "cell_type": "markdown",
   "metadata": {},
   "source": [
    "## introduction\n",
    "\n",
    "[add intro text here]\n",
    "\n",
    "-----"
   ]
  },
  {
   "cell_type": "markdown",
   "metadata": {},
   "source": [
    "## data description\n",
    "\n",
    "#### motivation\n",
    "\n",
    "#### composition\n",
    "\n",
    "#### collection process\n",
    "\n",
    "#### postprocessing / cleaning / labelling\n",
    "\n",
    "-----"
   ]
  },
  {
   "cell_type": "markdown",
   "metadata": {},
   "source": [
    "## preregistration statement\n",
    "\n",
    "here are the following analyses we promised to conduct in project phase iii:\n",
    "\n",
    "#### Analysis One:\n",
    "- Goal: Analyze correlation between HDI (human development index) and GHG emissions per economic sector (i.e. Manufacturing, bunker fuel, etc)\n",
    "\n",
    "- How we’re going to do it: We are going to make a new data frame. It will have these twelve columns: [Country, HDI from 2019,  average annual GHG emissions for each economic sector between 2014-2019 ( 5 columns), average annual change in GHG emissions for each economic sector between 2014-2019 (another 5 columns)]. We will then make a heatmap of the spearman correlation between each variable in the data frame. The reason we use spearman is because we care more about a country's relative HDI and GHG compared to other countries rather than what the actual values are. We will pay specific attention to the correlation between HDI and annual GHG emissions. This will represent five cells in the heat map, each cell being a correlation between emissions from a single sector and HDI. We will also check to see any strong correlations between other variables, such as HDI and change in emissions, and correlation between emissions in separate sectors. With these correlations we will be able to make statements about the relationship between the variables in this dataframe. \n",
    "\n",
    "- What we expect to find: We expect that there will be a strong positive correlation between HDI and GHG emissions suggesting that developed countries release more greenhouse gases. Conversely, we expect a strong negative correlation between HDI and change in GHG emissions suggesting that less developed countries are where most of the industrial growth is occurring. When looking at sectors specifically, we expect a slight negative correlation between HDI and GHG emissions from bunker fuel since developing countries often export their goods to developed countries. Finally we expect a high correlation between emissions from each sector, suggesting that countries that have high emissions in one sector also have high emissions in other sectors. Scatter plots of the data, done outside of this analysis, will allow us to see more specific relationships between sectors by country. The information we will gather from this analysis does not directly pertain to the fashion industry, but the knowledge it gives us about the relationship between development and emissions will help us understand if the relationship between development and environmental impact from fashion has unique characteristics.  \n",
    "\n",
    "#### Analysis Two\n",
    "\n",
    "- Goal: Examine the relationship between HDI and the importance of the fashion industry in a country’s economy. \n",
    "\n",
    "- How we’re going to do it: We are going to make a new data frame with these columns: [Country, HDI, cotton, clothing, garments, textiles]. The HDI column will be downloaded from the United Nations Development Programme, and we will just use the most recent year. Cotton, clothing, garment, and textiles will have data taken from the industries list from the CIA factbook. This page shows the top industries by annual output for every country, and we are looking at industries that are just related to fashion. In the data frame these columns will house values representing what rank that industry has in that country. For instance, textiles is fourth in the list of industries in Argentina, so the textiles value for Argentina will be 4. First we will find the correlation between HDI and fashion industries ranking. Next we will merge this data with the data relating to emissions from analysis one. We will create multiple scatter plots of industry rank versus emissions and change in emissions, with different emissions sectors for each plot, and then cluster the data. We expect the clusters to relate to HDI, so we will then make histograms of the HDI per cluster and determine if the clusters correspond to a country’s stage of development. \n",
    "\n",
    "- What we expect to find: We expect to find a negative correlation between HDI and the importance of fashion in a country’s economy. Based on our knowledge that most clothing is manufactured in developing countries, we expect developing countries to rely more on the fashion industry for their economies than developed countries. Across the scatter plots we expect to see clusters of high HDI countries where importance of fashion is low, and change in emissions is low, and where importance of fashion is low, but absolute emissions are high. For low HDI countries, we expect clusters where importance of fashion is high and change in emissions is high, and where importance of fashion is high and emissions are medium to low. Our data does not take into account the size of each country, so the clusters in the annual emissions plots might represent country size, but we expect the clusters in the scatter plots of change in emissions to definitely represent development. With this information we will be able to determine if less developed countries bear a greater burden from the fashion industry than developed countries. \n",
    "\n",
    "-----"
   ]
  },
  {
   "cell_type": "markdown",
   "metadata": {},
   "source": [
    "## analysis one\n",
    "\n",
    "in this analysis, we will analyze correlation between HDI (human development index) and GHG emissions per economic sector (i.e. manufacturing, bunker fuel, etc)."
   ]
  },
  {
   "cell_type": "code",
   "execution_count": 129,
   "metadata": {},
   "outputs": [],
   "source": [
    "## load libraries\n",
    "\n",
    "## our old friends...\n",
    "import numpy as np\n",
    "import pandas as pd\n",
    "import matplotlib.pyplot as plt\n",
    "\n",
    "## ...and some new ones...\n",
    "import seaborn as sns\n",
    "from sklearn.cluster import KMeans\n",
    "\n",
    "## ..and a most new friend\n",
    "from sklearn.linear_model import LinearRegression\n",
    "\n",
    "## load CSVs\n",
    "agriculture=pd.read_csv('agriculture.csv', na_values={'false','False','FALSE'})\n",
    "energy=pd.read_csv('energy.csv',  na_values={'false','False','FALSE'})\n",
    "waste=pd.read_csv('waste.csv',   na_values={'false','False','FALSE'})\n",
    "industrial=pd.read_csv('industrial-processes.csv',  na_values={'false','False','FALSE'})\n",
    "bunker_fuels=pd.read_csv('bunker-fuels.csv',  na_values={'false','False','FALSE'})"
   ]
  },
  {
   "cell_type": "code",
   "execution_count": 130,
   "metadata": {},
   "outputs": [],
   "source": [
    "## load HDI data\n",
    "hdi = pd.read_csv('Human Development Index (HDI)-2.csv', header = 5)\n",
    "cols = {'Country', '2019'} # subset to just keep 2019 hdis\n",
    "hdi = hdi[cols] # keeping only relevant data\n",
    "\n",
    "hdi['Country'] = hdi['Country'].str.strip(' ')\n",
    "\n",
    "hdi = hdi.rename(columns={'Country': 'country', '2019': 'hdi'})"
   ]
  },
  {
   "cell_type": "markdown",
   "metadata": {},
   "source": [
    "#### data analysis\n",
    "\n",
    "first, let's see a little bit more about the hdi data, and then prepare it for merger with the ghg emissions datasets:"
   ]
  },
  {
   "cell_type": "code",
   "execution_count": 131,
   "metadata": {},
   "outputs": [
    {
     "data": {
      "text/html": [
       "<div>\n",
       "<style scoped>\n",
       "    .dataframe tbody tr th:only-of-type {\n",
       "        vertical-align: middle;\n",
       "    }\n",
       "\n",
       "    .dataframe tbody tr th {\n",
       "        vertical-align: top;\n",
       "    }\n",
       "\n",
       "    .dataframe thead th {\n",
       "        text-align: right;\n",
       "    }\n",
       "</style>\n",
       "<table border=\"1\" class=\"dataframe\">\n",
       "  <thead>\n",
       "    <tr style=\"text-align: right;\">\n",
       "      <th></th>\n",
       "      <th>country</th>\n",
       "      <th>hdi</th>\n",
       "    </tr>\n",
       "  </thead>\n",
       "  <tbody>\n",
       "    <tr>\n",
       "      <th>0</th>\n",
       "      <td>Afghanistan</td>\n",
       "      <td>0.511</td>\n",
       "    </tr>\n",
       "    <tr>\n",
       "      <th>1</th>\n",
       "      <td>Albania</td>\n",
       "      <td>0.795</td>\n",
       "    </tr>\n",
       "    <tr>\n",
       "      <th>2</th>\n",
       "      <td>Algeria</td>\n",
       "      <td>0.748</td>\n",
       "    </tr>\n",
       "    <tr>\n",
       "      <th>3</th>\n",
       "      <td>Andorra</td>\n",
       "      <td>0.868</td>\n",
       "    </tr>\n",
       "    <tr>\n",
       "      <th>4</th>\n",
       "      <td>Angola</td>\n",
       "      <td>0.581</td>\n",
       "    </tr>\n",
       "  </tbody>\n",
       "</table>\n",
       "</div>"
      ],
      "text/plain": [
       "       country    hdi\n",
       "0  Afghanistan  0.511\n",
       "1      Albania  0.795\n",
       "2      Algeria  0.748\n",
       "3      Andorra  0.868\n",
       "4       Angola  0.581"
      ]
     },
     "execution_count": 131,
     "metadata": {},
     "output_type": "execute_result"
    }
   ],
   "source": [
    "hdi.head()"
   ]
  },
  {
   "cell_type": "code",
   "execution_count": 132,
   "metadata": {},
   "outputs": [],
   "source": [
    "agriculture = agriculture.sort_values('Country/Region')\n",
    "energy = energy.sort_values('Country/Region')\n",
    "waste = waste.sort_values('Country/Region')\n",
    "industrial = industrial.sort_values('Country/Region')\n",
    "bunker_fuels = bunker_fuels.sort_values('Country/Region')\n",
    "\n",
    "ag_ghgchange = (agriculture['2018']-agriculture['2008'])\n",
    "energy_ghgchange = (energy['2018']-energy['2008'])\n",
    "waste_ghgchange = (waste['2018']-waste['2008'])\n",
    "industrial_ghgchange = (industrial['2008']-industrial['1998'])\n",
    "bunker_ghgchange = (bunker_fuels['2008']-bunker_fuels['1998'])"
   ]
  },
  {
   "cell_type": "markdown",
   "metadata": {},
   "source": [
    "great! we've sorted, subtracted and prepared our datasets for analysis. let's merge them all together into one dataset about ghg emissions, per country, per industry:"
   ]
  },
  {
   "cell_type": "code",
   "execution_count": 133,
   "metadata": {},
   "outputs": [
    {
     "data": {
      "text/html": [
       "<div>\n",
       "<style scoped>\n",
       "    .dataframe tbody tr th:only-of-type {\n",
       "        vertical-align: middle;\n",
       "    }\n",
       "\n",
       "    .dataframe tbody tr th {\n",
       "        vertical-align: top;\n",
       "    }\n",
       "\n",
       "    .dataframe thead th {\n",
       "        text-align: right;\n",
       "    }\n",
       "</style>\n",
       "<table border=\"1\" class=\"dataframe\">\n",
       "  <thead>\n",
       "    <tr style=\"text-align: right;\">\n",
       "      <th></th>\n",
       "      <th>country</th>\n",
       "      <th>agriculture</th>\n",
       "      <th>energy</th>\n",
       "      <th>waste</th>\n",
       "      <th>industrial</th>\n",
       "      <th>bunker fuels</th>\n",
       "    </tr>\n",
       "  </thead>\n",
       "  <tbody>\n",
       "    <tr>\n",
       "      <th>57</th>\n",
       "      <td>Afghanistan</td>\n",
       "      <td>67.42</td>\n",
       "      <td>-4.08</td>\n",
       "      <td>-0.8</td>\n",
       "      <td>0.54</td>\n",
       "      <td>-1.3</td>\n",
       "    </tr>\n",
       "    <tr>\n",
       "      <th>145</th>\n",
       "      <td>Albania</td>\n",
       "      <td>2.17</td>\n",
       "      <td>0.68</td>\n",
       "      <td>0.95</td>\n",
       "      <td>0.05</td>\n",
       "      <td>-0.03</td>\n",
       "    </tr>\n",
       "    <tr>\n",
       "      <th>38</th>\n",
       "      <td>Algeria</td>\n",
       "      <td>58.44</td>\n",
       "      <td>-17.34</td>\n",
       "      <td>-0.39</td>\n",
       "      <td>5.61</td>\n",
       "      <td>0.56</td>\n",
       "    </tr>\n",
       "    <tr>\n",
       "      <th>177</th>\n",
       "      <td>Andorra</td>\n",
       "      <td>-0.05</td>\n",
       "      <td>0.15</td>\n",
       "      <td>0.08</td>\n",
       "      <td>0.0</td>\n",
       "      <td>0.0</td>\n",
       "    </tr>\n",
       "    <tr>\n",
       "      <th>47</th>\n",
       "      <td>Angola</td>\n",
       "      <td>1.2</td>\n",
       "      <td>64.3</td>\n",
       "      <td>-2.18</td>\n",
       "      <td>1.13</td>\n",
       "      <td>1.59</td>\n",
       "    </tr>\n",
       "    <tr>\n",
       "      <th>...</th>\n",
       "      <td>...</td>\n",
       "      <td>...</td>\n",
       "      <td>...</td>\n",
       "      <td>...</td>\n",
       "      <td>...</td>\n",
       "      <td>...</td>\n",
       "    </tr>\n",
       "    <tr>\n",
       "      <th>29</th>\n",
       "      <td>Venezuela</td>\n",
       "      <td>-67.4</td>\n",
       "      <td>44.14</td>\n",
       "      <td>0.62</td>\n",
       "      <td>6.66</td>\n",
       "      <td>1.41</td>\n",
       "    </tr>\n",
       "    <tr>\n",
       "      <th>23</th>\n",
       "      <td>Vietnam</td>\n",
       "      <td>126.44</td>\n",
       "      <td>126.77</td>\n",
       "      <td>1.21</td>\n",
       "      <td>3.64</td>\n",
       "      <td>-0.78</td>\n",
       "    </tr>\n",
       "    <tr>\n",
       "      <th>122</th>\n",
       "      <td>Yemen</td>\n",
       "      <td>-11.3</td>\n",
       "      <td>4.3</td>\n",
       "      <td>0.34</td>\n",
       "      <td>0.22</td>\n",
       "      <td>-0.03</td>\n",
       "    </tr>\n",
       "    <tr>\n",
       "      <th>59</th>\n",
       "      <td>Zambia</td>\n",
       "      <td>27.67</td>\n",
       "      <td>-5.72</td>\n",
       "      <td>0.52</td>\n",
       "      <td>0.89</td>\n",
       "      <td>0.63</td>\n",
       "    </tr>\n",
       "    <tr>\n",
       "      <th>49</th>\n",
       "      <td>Zimbabwe</td>\n",
       "      <td>83.42</td>\n",
       "      <td>4.39</td>\n",
       "      <td>0.78</td>\n",
       "      <td>2.39</td>\n",
       "      <td>1.06</td>\n",
       "    </tr>\n",
       "  </tbody>\n",
       "</table>\n",
       "<p>195 rows × 6 columns</p>\n",
       "</div>"
      ],
      "text/plain": [
       "         country agriculture  energy waste industrial bunker fuels\n",
       "57   Afghanistan       67.42   -4.08  -0.8       0.54         -1.3\n",
       "145      Albania        2.17    0.68  0.95       0.05        -0.03\n",
       "38       Algeria       58.44  -17.34 -0.39       5.61         0.56\n",
       "177      Andorra       -0.05    0.15  0.08        0.0          0.0\n",
       "47        Angola         1.2    64.3 -2.18       1.13         1.59\n",
       "..           ...         ...     ...   ...        ...          ...\n",
       "29     Venezuela       -67.4   44.14  0.62       6.66         1.41\n",
       "23       Vietnam      126.44  126.77  1.21       3.64        -0.78\n",
       "122        Yemen       -11.3     4.3  0.34       0.22        -0.03\n",
       "59        Zambia       27.67   -5.72  0.52       0.89         0.63\n",
       "49      Zimbabwe       83.42    4.39  0.78       2.39         1.06\n",
       "\n",
       "[195 rows x 6 columns]"
      ]
     },
     "execution_count": 133,
     "metadata": {},
     "output_type": "execute_result"
    }
   ],
   "source": [
    "data_ghgchange = {'country': agriculture['Country/Region'].str.strip(' '), 'agriculture': ag_ghgchange, 'energy': energy_ghgchange,\n",
    "                  'waste': waste_ghgchange, 'industrial': industrial_ghgchange, 'bunker fuels': bunker_ghgchange}\n",
    "df_ghgchange = pd.DataFrame.from_dict(data_ghgchange, orient = 'index')\n",
    "df_ghgchange = df_ghgchange.transpose()\n",
    "\n",
    "df_ghgchange"
   ]
  },
  {
   "cell_type": "markdown",
   "metadata": {},
   "source": [
    "let's also run some summary statistics on this:"
   ]
  },
  {
   "cell_type": "code",
   "execution_count": 134,
   "metadata": {},
   "outputs": [
    {
     "name": "stdout",
     "output_type": "stream",
     "text": [
<<<<<<< Updated upstream
      "       country  agriculture  energy  waste  industrial  bunker fuels\n",
      "count      195       193.00  193.00  191.0       191.0         175.0\n",
      "unique     195       191.00  187.00  150.0       147.0         139.0\n",
      "top      Syria         0.03    0.68    0.0         0.0           0.0\n",
      "freq         1         2.00    2.00   12.0        15.0          20.0\n",
=======
      "         country  agriculture  energy  waste  industrial  bunker fuels\n",
      "count        195       193.00  193.00  191.0       191.0         175.0\n",
      "unique       195       191.00  187.00  150.0       147.0         139.0\n",
      "top     Botswana         0.03    0.68    0.0         0.0           0.0\n",
      "freq           1         2.00    2.00   12.0        15.0          20.0\n",
>>>>>>> Stashed changes
      "country         object\n",
      "agriculture     object\n",
      "energy          object\n",
      "waste           object\n",
      "industrial      object\n",
      "bunker fuels    object\n",
      "dtype: object\n"
     ]
    }
   ],
   "source": [
    "print(df_ghgchange.describe())\n",
    "\n",
    "print(df_ghgchange.dtypes)"
   ]
  },
  {
   "cell_type": "markdown",
   "metadata": {},
   "source": [
    "ok, our climate change emissions data (in megatons) should probably be numeric... let's do that, and then run summary statistics on it:"
   ]
  },
  {
   "cell_type": "code",
   "execution_count": 135,
   "metadata": {},
   "outputs": [
    {
     "data": {
      "text/html": [
       "<div>\n",
       "<style scoped>\n",
       "    .dataframe tbody tr th:only-of-type {\n",
       "        vertical-align: middle;\n",
       "    }\n",
       "\n",
       "    .dataframe tbody tr th {\n",
       "        vertical-align: top;\n",
       "    }\n",
       "\n",
       "    .dataframe thead th {\n",
       "        text-align: right;\n",
       "    }\n",
       "</style>\n",
       "<table border=\"1\" class=\"dataframe\">\n",
       "  <thead>\n",
       "    <tr style=\"text-align: right;\">\n",
       "      <th></th>\n",
       "      <th>energy</th>\n",
       "      <th>industrial</th>\n",
       "      <th>agriculture</th>\n",
       "      <th>waste</th>\n",
       "      <th>bunker fuels</th>\n",
<<<<<<< Updated upstream
       "      <th>agriculture</th>\n",
       "      <th>industrial</th>\n",
=======
>>>>>>> Stashed changes
       "    </tr>\n",
       "  </thead>\n",
       "  <tbody>\n",
       "    <tr>\n",
       "      <th>count</th>\n",
       "      <td>193.000000</td>\n",
       "      <td>191.000000</td>\n",
       "      <td>193.000000</td>\n",
       "      <td>191.000000</td>\n",
       "      <td>175.000000</td>\n",
       "    </tr>\n",
       "    <tr>\n",
       "      <th>mean</th>\n",
       "      <td>22.548031</td>\n",
       "      <td>3.758848</td>\n",
       "      <td>29.479896</td>\n",
       "      <td>0.837068</td>\n",
       "      <td>1.664286</td>\n",
<<<<<<< Updated upstream
       "      <td>29.479896</td>\n",
       "      <td>3.758848</td>\n",
=======
>>>>>>> Stashed changes
       "    </tr>\n",
       "    <tr>\n",
       "      <th>std</th>\n",
       "      <td>239.662242</td>\n",
       "      <td>34.781706</td>\n",
       "      <td>259.370847</td>\n",
       "      <td>5.387391</td>\n",
       "      <td>5.954713</td>\n",
<<<<<<< Updated upstream
       "      <td>259.370847</td>\n",
       "      <td>34.781706</td>\n",
=======
>>>>>>> Stashed changes
       "    </tr>\n",
       "    <tr>\n",
       "      <th>min</th>\n",
       "      <td>-612.040000</td>\n",
       "      <td>-28.900000</td>\n",
       "      <td>-610.260000</td>\n",
       "      <td>-19.850000</td>\n",
       "      <td>-3.840000</td>\n",
<<<<<<< Updated upstream
       "      <td>-610.260000</td>\n",
       "      <td>-28.900000</td>\n",
=======
>>>>>>> Stashed changes
       "    </tr>\n",
       "    <tr>\n",
       "      <th>25%</th>\n",
       "      <td>-1.240000</td>\n",
       "      <td>0.020000</td>\n",
       "      <td>-0.610000</td>\n",
       "      <td>0.010000</td>\n",
       "      <td>0.000000</td>\n",
<<<<<<< Updated upstream
       "      <td>-0.610000</td>\n",
       "      <td>0.020000</td>\n",
=======
>>>>>>> Stashed changes
       "    </tr>\n",
       "    <tr>\n",
       "      <th>50%</th>\n",
       "      <td>0.640000</td>\n",
       "      <td>0.250000</td>\n",
       "      <td>1.830000</td>\n",
       "      <td>0.150000</td>\n",
       "      <td>0.120000</td>\n",
<<<<<<< Updated upstream
       "      <td>1.830000</td>\n",
       "      <td>0.250000</td>\n",
=======
>>>>>>> Stashed changes
       "    </tr>\n",
       "    <tr>\n",
       "      <th>75%</th>\n",
       "      <td>7.050000</td>\n",
       "      <td>1.120000</td>\n",
       "      <td>14.970000</td>\n",
       "      <td>0.845000</td>\n",
       "      <td>0.770000</td>\n",
<<<<<<< Updated upstream
       "      <td>14.970000</td>\n",
       "      <td>1.120000</td>\n",
=======
>>>>>>> Stashed changes
       "    </tr>\n",
       "    <tr>\n",
       "      <th>max</th>\n",
       "      <td>3095.940000</td>\n",
       "      <td>476.610000</td>\n",
       "      <td>3250.160000</td>\n",
       "      <td>57.180000</td>\n",
       "      <td>62.290000</td>\n",
<<<<<<< Updated upstream
       "      <td>3250.160000</td>\n",
       "      <td>476.610000</td>\n",
=======
>>>>>>> Stashed changes
       "    </tr>\n",
       "  </tbody>\n",
       "</table>\n",
       "</div>"
      ],
      "text/plain": [
<<<<<<< Updated upstream
       "            energy       waste  bunker fuels  agriculture  industrial\n",
       "count   193.000000  191.000000    175.000000   193.000000  191.000000\n",
       "mean     22.548031    0.837068      1.664286    29.479896    3.758848\n",
       "std     239.662242    5.387391      5.954713   259.370847   34.781706\n",
       "min    -612.040000  -19.850000     -3.840000  -610.260000  -28.900000\n",
       "25%      -1.240000    0.010000      0.000000    -0.610000    0.020000\n",
       "50%       0.640000    0.150000      0.120000     1.830000    0.250000\n",
       "75%       7.050000    0.845000      0.770000    14.970000    1.120000\n",
       "max    3095.940000   57.180000     62.290000  3250.160000  476.610000"
=======
       "            energy  industrial  agriculture       waste  bunker fuels\n",
       "count   193.000000  191.000000   193.000000  191.000000    175.000000\n",
       "mean     22.548031    3.758848    29.479896    0.837068      1.664286\n",
       "std     239.662242   34.781706   259.370847    5.387391      5.954713\n",
       "min    -612.040000  -28.900000  -610.260000  -19.850000     -3.840000\n",
       "25%      -1.240000    0.020000    -0.610000    0.010000      0.000000\n",
       "50%       0.640000    0.250000     1.830000    0.150000      0.120000\n",
       "75%       7.050000    1.120000    14.970000    0.845000      0.770000\n",
       "max    3095.940000  476.610000  3250.160000   57.180000     62.290000"
>>>>>>> Stashed changes
      ]
     },
     "execution_count": 135,
     "metadata": {},
     "output_type": "execute_result"
    }
   ],
   "source": [
    "df_ghgchange[\"agriculture\"] = df_ghgchange[\"agriculture\"].astype(float)\n",
    "df_ghgchange[\"energy\"] = df_ghgchange[\"energy\"].astype(float)\n",
    "df_ghgchange[\"waste\"] = df_ghgchange[\"waste\"].astype(float)\n",
    "df_ghgchange[\"industrial\"] = df_ghgchange[\"industrial\"].astype(float)\n",
    "df_ghgchange[\"bunker fuels\"] = df_ghgchange[\"bunker fuels\"].astype(float)\n",
    "\n",
    "df_ghgchange[{\"agriculture\", \"energy\", \"waste\", \"industrial\", \"bunker fuels\"}].describe()"
   ]
  },
  {
   "cell_type": "markdown",
   "metadata": {},
   "source": [
    "this data mostly makes sense (aside from some negative ghg emissions, which appear to be outliers), but also does not appear to be very comparable (since some countries might have 3250 megatons of co2-equivalent emissions solely based on size, and others might have almost 0 megatons as a small nation). let's standardize on the basis of population, using population data:"
   ]
  },
  {
   "cell_type": "code",
   "execution_count": 136,
   "metadata": {},
   "outputs": [
    {
     "data": {
      "text/html": [
       "<div>\n",
       "<style scoped>\n",
       "    .dataframe tbody tr th:only-of-type {\n",
       "        vertical-align: middle;\n",
       "    }\n",
       "\n",
       "    .dataframe tbody tr th {\n",
       "        vertical-align: top;\n",
       "    }\n",
       "\n",
       "    .dataframe thead th {\n",
       "        text-align: right;\n",
       "    }\n",
       "</style>\n",
       "<table border=\"1\" class=\"dataframe\">\n",
       "  <thead>\n",
       "    <tr style=\"text-align: right;\">\n",
       "      <th></th>\n",
       "      <th>country</th>\n",
       "      <th>agriculture</th>\n",
       "      <th>energy</th>\n",
       "      <th>waste</th>\n",
       "      <th>industrial</th>\n",
       "      <th>bunker fuels</th>\n",
       "      <th>Time</th>\n",
       "      <th>PopTotal</th>\n",
       "    </tr>\n",
       "  </thead>\n",
       "  <tbody>\n",
       "    <tr>\n",
       "      <th>0</th>\n",
       "      <td>Afghanistan</td>\n",
       "      <td>0.001772</td>\n",
       "      <td>-0.000107</td>\n",
       "      <td>-0.000021</td>\n",
       "      <td>0.000014</td>\n",
       "      <td>-0.000034</td>\n",
       "      <td>2019</td>\n",
       "      <td>38041.757</td>\n",
       "    </tr>\n",
       "    <tr>\n",
       "      <th>1</th>\n",
       "      <td>Albania</td>\n",
       "      <td>0.000753</td>\n",
       "      <td>0.000236</td>\n",
       "      <td>0.000330</td>\n",
       "      <td>0.000017</td>\n",
       "      <td>-0.000010</td>\n",
       "      <td>2019</td>\n",
       "      <td>2880.913</td>\n",
       "    </tr>\n",
       "    <tr>\n",
       "      <th>2</th>\n",
       "      <td>Algeria</td>\n",
       "      <td>0.001357</td>\n",
       "      <td>-0.000403</td>\n",
       "      <td>-0.000009</td>\n",
       "      <td>0.000130</td>\n",
       "      <td>0.000013</td>\n",
       "      <td>2019</td>\n",
       "      <td>43053.054</td>\n",
       "    </tr>\n",
       "    <tr>\n",
       "      <th>3</th>\n",
       "      <td>Andorra</td>\n",
       "      <td>-0.000648</td>\n",
       "      <td>0.001944</td>\n",
       "      <td>0.001037</td>\n",
       "      <td>0.000000</td>\n",
       "      <td>0.000000</td>\n",
       "      <td>2019</td>\n",
       "      <td>77.146</td>\n",
       "    </tr>\n",
       "    <tr>\n",
       "      <th>4</th>\n",
       "      <td>Angola</td>\n",
       "      <td>0.000038</td>\n",
       "      <td>0.002020</td>\n",
       "      <td>-0.000068</td>\n",
       "      <td>0.000036</td>\n",
       "      <td>0.000050</td>\n",
       "      <td>2019</td>\n",
       "      <td>31825.299</td>\n",
       "    </tr>\n",
       "  </tbody>\n",
       "</table>\n",
       "</div>"
      ],
      "text/plain": [
       "       country  agriculture    energy     waste  industrial  bunker fuels  \\\n",
       "0  Afghanistan     0.001772 -0.000107 -0.000021    0.000014     -0.000034   \n",
       "1      Albania     0.000753  0.000236  0.000330    0.000017     -0.000010   \n",
       "2      Algeria     0.001357 -0.000403 -0.000009    0.000130      0.000013   \n",
       "3      Andorra    -0.000648  0.001944  0.001037    0.000000      0.000000   \n",
       "4       Angola     0.000038  0.002020 -0.000068    0.000036      0.000050   \n",
       "\n",
       "   Time   PopTotal  \n",
       "0  2019  38041.757  \n",
       "1  2019   2880.913  \n",
       "2  2019  43053.054  \n",
       "3  2019     77.146  \n",
       "4  2019  31825.299  "
      ]
     },
     "execution_count": 136,
     "metadata": {},
     "output_type": "execute_result"
    }
   ],
   "source": [
    "pop = pd.read_csv(\"WPP2019_TotalPopulationBySex.csv\")\n",
    "\n",
    "pop = pop[pop[\"Time\"] == 2019] # ensuring it's only 2019 data\n",
    "pop = pop[{\"Location\", \"Time\", \"PopTotal\"}] # removing unnecessary columns\n",
    "pop = pop.rename(columns = {\"Location\" : \"country\"}) # renaming the column for the merge\n",
    "\n",
    "df_ghgchange = df_ghgchange.merge(pop, on = \"country\") # performing an inner join\n",
    "\n",
    "df_ghgchange.head()\n",
    "\n",
    "df_ghgchange.columns\n",
    "\n",
    "for emissions in {\"agriculture\", \"energy\", \"waste\", \"industrial\", \"bunker fuels\"}:\n",
    "    df_ghgchange[emissions] = df_ghgchange[emissions] / df_ghgchange[\"PopTotal\"]\n",
    "    \n",
    "df_ghgchange.head()"
   ]
  },
  {
   "cell_type": "markdown",
   "metadata": {},
   "source": [
    "nice! let's now merge this data with each country's human development index, and also drop the population column now that it's unneeded:"
   ]
  },
  {
   "cell_type": "code",
   "execution_count": 137,
   "metadata": {},
   "outputs": [
    {
     "name": "stdout",
     "output_type": "stream",
     "text": [
      "       country    hdi  agriculture    energy     waste  industrial  \\\n",
      "0  Afghanistan  0.511     0.001772 -0.000107 -0.000021    0.000014   \n",
      "1      Albania  0.795     0.000753  0.000236  0.000330    0.000017   \n",
      "2      Algeria  0.748     0.001357 -0.000403 -0.000009    0.000130   \n",
      "3      Andorra  0.868    -0.000648  0.001944  0.001037    0.000000   \n",
      "4       Angola  0.581     0.000038  0.002020 -0.000068    0.000036   \n",
      "\n",
      "   bunker fuels  \n",
      "0     -0.000034  \n",
      "1     -0.000010  \n",
      "2      0.000013  \n",
      "3      0.000000  \n",
      "4      0.000050  \n"
     ]
    },
    {
     "data": {
      "text/plain": [
       "True"
      ]
     },
     "execution_count": 137,
     "metadata": {},
     "output_type": "execute_result"
    }
   ],
   "source": [
    "analysis_one = hdi.merge(df_ghgchange, on = 'country')\n",
    "\n",
    "analysis_one.drop([\"Time\", \"PopTotal\"], axis = 1, inplace = True)\n",
    "print(analysis_one.head())\n",
    "\n",
    "analysis_one.isnull().values.any()"
   ]
  },
  {
   "cell_type": "markdown",
   "metadata": {},
   "source": [
    "interestingly, this data contains nans. let's remove them!"
   ]
  },
  {
   "cell_type": "code",
   "execution_count": 147,
   "metadata": {},
   "outputs": [],
   "source": [
    "analysis_one = analysis_one.dropna()"
   ]
  },
  {
   "cell_type": "markdown",
   "metadata": {},
   "source": [
    "Dear Diane and Jon,\n",
    "    We are stealing your data frame. We renamed it as a new variable so we can use it later before you drop the country "
   ]
  },
  {
   "cell_type": "code",
   "execution_count": 139,
   "metadata": {},
   "outputs": [],
   "source": [
    "# second_analysis_one=analysis_one\n",
    "analysis_one = analysis_one.drop(['country'], axis = 1)\n",
    "analysis_one = analysis_one.astype(float)"
   ]
  },
  {
   "cell_type": "markdown",
   "metadata": {},
   "source": [
    "in order to describe a little more about the data, let's create a heatmap to check for correlation! this is as follows:"
   ]
  },
  {
   "cell_type": "code",
   "execution_count": 140,
   "metadata": {},
   "outputs": [
    {
     "data": {
      "text/html": [
       "<div>\n",
       "<style scoped>\n",
       "    .dataframe tbody tr th:only-of-type {\n",
       "        vertical-align: middle;\n",
       "    }\n",
       "\n",
       "    .dataframe tbody tr th {\n",
       "        vertical-align: top;\n",
       "    }\n",
       "\n",
       "    .dataframe thead th {\n",
       "        text-align: right;\n",
       "    }\n",
       "</style>\n",
       "<table border=\"1\" class=\"dataframe\">\n",
       "  <thead>\n",
       "    <tr style=\"text-align: right;\">\n",
       "      <th></th>\n",
       "      <th>hdi</th>\n",
       "      <th>agriculture</th>\n",
       "      <th>energy</th>\n",
       "      <th>waste</th>\n",
       "      <th>industrial</th>\n",
       "      <th>bunker fuels</th>\n",
       "    </tr>\n",
       "  </thead>\n",
       "  <tbody>\n",
       "    <tr>\n",
       "      <th>hdi</th>\n",
       "      <td>1.000000</td>\n",
       "      <td>-0.183555</td>\n",
       "      <td>0.187827</td>\n",
       "      <td>0.129007</td>\n",
       "      <td>0.278464</td>\n",
       "      <td>0.053446</td>\n",
       "    </tr>\n",
       "    <tr>\n",
       "      <th>agriculture</th>\n",
       "      <td>-0.183555</td>\n",
       "      <td>1.000000</td>\n",
       "      <td>-0.023319</td>\n",
       "      <td>0.113897</td>\n",
       "      <td>0.168232</td>\n",
       "      <td>0.037648</td>\n",
       "    </tr>\n",
       "    <tr>\n",
       "      <th>energy</th>\n",
       "      <td>0.187827</td>\n",
       "      <td>-0.023319</td>\n",
       "      <td>1.000000</td>\n",
       "      <td>0.127375</td>\n",
       "      <td>0.079025</td>\n",
       "      <td>0.078211</td>\n",
       "    </tr>\n",
       "    <tr>\n",
       "      <th>waste</th>\n",
       "      <td>0.129007</td>\n",
       "      <td>0.113897</td>\n",
       "      <td>0.127375</td>\n",
       "      <td>1.000000</td>\n",
       "      <td>0.047546</td>\n",
       "      <td>-0.020237</td>\n",
       "    </tr>\n",
       "    <tr>\n",
       "      <th>industrial</th>\n",
       "      <td>0.278464</td>\n",
       "      <td>0.168232</td>\n",
       "      <td>0.079025</td>\n",
       "      <td>0.047546</td>\n",
       "      <td>1.000000</td>\n",
       "      <td>0.274530</td>\n",
       "    </tr>\n",
       "    <tr>\n",
       "      <th>bunker fuels</th>\n",
       "      <td>0.053446</td>\n",
       "      <td>0.037648</td>\n",
       "      <td>0.078211</td>\n",
       "      <td>-0.020237</td>\n",
       "      <td>0.274530</td>\n",
       "      <td>1.000000</td>\n",
       "    </tr>\n",
       "  </tbody>\n",
       "</table>\n",
       "</div>"
      ],
      "text/plain": [
       "                   hdi  agriculture    energy     waste  industrial  \\\n",
       "hdi           1.000000    -0.183555  0.187827  0.129007    0.278464   \n",
       "agriculture  -0.183555     1.000000 -0.023319  0.113897    0.168232   \n",
       "energy        0.187827    -0.023319  1.000000  0.127375    0.079025   \n",
       "waste         0.129007     0.113897  0.127375  1.000000    0.047546   \n",
       "industrial    0.278464     0.168232  0.079025  0.047546    1.000000   \n",
       "bunker fuels  0.053446     0.037648  0.078211 -0.020237    0.274530   \n",
       "\n",
       "              bunker fuels  \n",
       "hdi               0.053446  \n",
       "agriculture       0.037648  \n",
       "energy            0.078211  \n",
       "waste            -0.020237  \n",
       "industrial        0.274530  \n",
       "bunker fuels      1.000000  "
      ]
     },
     "execution_count": 140,
     "metadata": {},
     "output_type": "execute_result"
    }
   ],
   "source": [
    "analysis_one.corr(method = 'spearman')"
   ]
  },
  {
   "cell_type": "code",
   "execution_count": 141,
   "metadata": {},
   "outputs": [
    {
     "data": {
      "text/plain": [
       "dtype('float64')"
      ]
     },
     "execution_count": 141,
     "metadata": {},
     "output_type": "execute_result"
    }
   ],
   "source": [
    "analysis_one.hdi.dtype"
   ]
  },
  {
   "cell_type": "code",
   "execution_count": 142,
   "metadata": {},
   "outputs": [
    {
     "data": {
      "image/png": "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\n",
      "text/plain": [
       "<Figure size 432x288 with 2 Axes>"
      ]
     },
     "metadata": {
      "needs_background": "light"
     },
     "output_type": "display_data"
    }
   ],
   "source": [
    "sns.heatmap(analysis_one.corr(method = 'spearman'), center=0, cmap='coolwarm')\n",
    "plt.tight_layout()\n",
    "plt.show()"
   ]
  },
  {
   "cell_type": "markdown",
   "metadata": {},
   "source": [
    "these results might not be very significant in themselves, but we'd like to at least try to construct a model based on this data (given the wealth of what we have, and that there is a known correlation *at the least* between hdi and ghg emissions per capita). along these lines, let's try creating a multivariate linear regression to predict hdi, since hdi is a continuous float from 0-1:"
   ]
  },
  {
   "cell_type": "code",
   "execution_count": 148,
   "metadata": {},
   "outputs": [
    {
     "name": "stdout",
     "output_type": "stream",
     "text": [
<<<<<<< Updated upstream
      "coefficients = [  6.86723421   7.08507715 -72.89289381  -1.8797825  288.46484019]\n",
      "r^2 = 0.06860448875673764\n"
=======
      "coefficients = [  6.86723421 288.46484019  -1.8797825    7.08507715 -72.89289381]\n",
      "r^2 = 0.06860448875673753\n"
>>>>>>> Stashed changes
     ]
    }
   ],
   "source": [
    "regression1 = LinearRegression().fit(analysis_one[{\"agriculture\", \"energy\", \"waste\", \"industrial\", \"bunker fuels\"}], analysis_one[\"hdi\"])\n",
    "print(\"coefficients = {}\".format(regression1.coef_))\n",
    "print(\"r^2 = {}\".format(regression1.score(analysis_one[{\"agriculture\", \"energy\", \"waste\", \"industrial\", \"bunker fuels\"}], analysis_one[\"hdi\"])))"
   ]
  },
  {
   "cell_type": "markdown",
   "metadata": {},
   "source": [
    "#### evaluation of significance\n",
    "\n",
    "already, this data doesn't seem particularly significant, but let's validate that with an evaluation of significance. for this, let's try bootstrapping our regression with n = 500 trials, to try and see how many slopes because of randomness could be more random than the one we got:"
   ]
  },
  {
   "cell_type": "code",
   "execution_count": 151,
   "metadata": {},
   "outputs": [
    {
     "name": "stdout",
     "output_type": "stream",
     "text": [
<<<<<<< Updated upstream
      "210 permuted slopes were of greater magnitude than the observed data.\n",
      "p-value implied: 0.42000\n"
=======
      "213 permuted slopes were of greater magnitude than the observed data.\n",
      "p-value implied: 0.42600\n"
>>>>>>> Stashed changes
     ]
    }
   ],
   "source": [
    "# creating the permutation method\n",
    "def permute(input_array):\n",
    "    # shuffle is inplace, so copy to preserve input\n",
    "    permuted = input_array.copy().values #convert to numpy array, avoiding warning\n",
    "    np.random.shuffle(permuted)\n",
    "    return pd.Series(permuted) # convert back to pandas\n",
    "\n",
    "count = 0\n",
    "\n",
    "for i in range(500):\n",
    "    permuted_model = LinearRegression().fit(analysis_one[{\"agriculture\", \"energy\", \"waste\", \"industrial\", \"bunker fuels\"}], permute(analysis_one[\"hdi\"]))\n",
    "    if(np.abs(permuted_model.coef_[0]) > np.abs(regression1.coef_[0])):\n",
    "        count += 1\n",
    "                                            \n",
    "print(\"{} permuted slopes were of greater magnitude than the observed data.\".format(count))\n",
    "                                            \n",
    "print(\"p-value implied: {:.5f}\".format(count / 500))"
   ]
  },
  {
   "cell_type": "markdown",
   "metadata": {},
   "source": [
    "that is... exactly what we thought? unfortunately, the implied value is much greater than most p-value cutoffs traditionally used (p = 0.1, p = 0.05, or p = 0.01); as a result, this data doesn't seem to be much better than could be done by random chance :("
   ]
  },
  {
   "cell_type": "markdown",
   "metadata": {},
   "source": [
    "#### interpretation and conclusions\n",
    "\n",
    "reflecting now (after completing the data analysis, and the evaluation of significance), it seems as if much of the prior data analysis isn't that significant. while we've found some (slightly) interesting trends, such as how ghg emissions are (somewhat) negatively correlated with hdi, we haven't found much else; the multivariate linear regression also did not return a statistically-significant slope. in this sense, i don't think that our results lined up with our initial expectations, that there would be a high correlation between hdi and certain industries' emissions; perhaps this is a quirk of our own analysis? it seems likely that climatewatch.org would be incentivized to publish such data if they proved significant connection between emissions and a countries \"developedness\": perhaps this sort of \"mangling\" of the data is how climate-change-related misinformation (and false statistics) spreads? \n",
    "\n",
    "\n",
    "#### limitations\n",
    "\n",
    "there are certainly many limitations to this data: at the very least, part of the scope of this analysis seems limited, since it's about *greenhouse gas emissions by industry* and not pointing directly at fashion itself. but, looking into the data itself, it seems like there could be limitations just based on scale (in megatons, or with population in thousands); given that some countries inevitably get rounded down (to ~ 0 emissions), it seems harder to create significant analyses. this is unsatisfying; however, we are unsure how this might otherwise be solved (since all data will come with this issue as well).\n",
    "\n",
    "#### acknowledgements\n",
    "\n",
    "we'd like to thank our ta, anna, for her constant support for this project, and for many early-rising tas showing up in rhodes to answer the questions we had! :)"
   ]
  },
  {
   "cell_type": "markdown",
   "metadata": {},
   "source": [
    "## analysis two"
   ]
  },
  {
   "cell_type": "code",
   "execution_count": null,
   "metadata": {},
   "outputs": [],
   "source": [
    "industry_data=pd.read_csv('CIA_industry_data.csv')\n",
    "industry_data=industry_data.rename(columns={'Country/Region': 'country'})\n",
    "industry_data=industry_data.drop(columns='Jute')\n",
    "industry_data.dtypes"
   ]
  },
  {
   "cell_type": "code",
   "execution_count": null,
   "metadata": {},
   "outputs": [],
   "source": [
    "industry_data.head()"
   ]
  },
  {
   "cell_type": "code",
   "execution_count": null,
   "metadata": {},
   "outputs": [],
   "source": [
    "analysis_two=hdi.merge(industry_data, how='left', on='country')\n",
    "# analysis_two = analysis_two.drop(['country'], axis = 1)"
   ]
  },
  {
   "cell_type": "code",
   "execution_count": null,
   "metadata": {},
   "outputs": [],
   "source": [
    "analysis_two[analysis_two.hdi.str.find('..')==0]"
   ]
  },
  {
   "cell_type": "code",
   "execution_count": null,
   "metadata": {},
   "outputs": [],
   "source": [
    "analysis_two=analysis_two.drop([189,195])\n",
    "analysis_two.hdi=analysis_two.hdi.astype(float)"
   ]
  },
  {
   "cell_type": "code",
   "execution_count": null,
   "metadata": {},
   "outputs": [],
   "source": [
    "sns.heatmap(analysis_two.corr(), cmap='coolwarm')\n",
    "plt.tight_layout()\n",
    "plt.show()"
   ]
  },
  {
   "cell_type": "code",
   "execution_count": null,
   "metadata": {},
   "outputs": [],
   "source": [
    "analysis_two.corr(method='pearson')"
   ]
  },
  {
   "cell_type": "code",
   "execution_count": null,
   "metadata": {},
   "outputs": [],
   "source": [
    "analysis_two.hdi.dtype"
   ]
  },
  {
   "cell_type": "code",
   "execution_count": null,
   "metadata": {},
<<<<<<< Updated upstream
   "outputs": [],
=======
   "outputs": [
    {
     "data": {
      "text/plain": [
       "<matplotlib.collections.PathCollection at 0x121c1e460>"
      ]
     },
     "execution_count": 25,
     "metadata": {},
     "output_type": "execute_result"
    },
    {
     "data": {
      "image/png": "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\n",
      "text/plain": [
       "<Figure size 432x288 with 1 Axes>"
      ]
     },
     "metadata": {
      "needs_background": "light"
     },
     "output_type": "display_data"
    }
   ],
>>>>>>> Stashed changes
   "source": [
    "plt.scatter(analysis_two.Textiles, analysis_two.hdi)"
   ]
  },
  {
   "cell_type": "code",
   "execution_count": null,
   "metadata": {},
<<<<<<< Updated upstream
   "outputs": [],
=======
   "outputs": [
    {
     "data": {
      "text/plain": [
       "<matplotlib.collections.PathCollection at 0x121e6b190>"
      ]
     },
     "execution_count": 26,
     "metadata": {},
     "output_type": "execute_result"
    },
    {
     "data": {
      "image/png": "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\n",
      "text/plain": [
       "<Figure size 432x288 with 1 Axes>"
      ]
     },
     "metadata": {
      "needs_background": "light"
     },
     "output_type": "display_data"
    }
   ],
>>>>>>> Stashed changes
   "source": [
    "plt.scatter(analysis_two.Cotton, analysis_two.hdi)"
   ]
  },
  {
   "cell_type": "code",
   "execution_count": null,
   "metadata": {},
<<<<<<< Updated upstream
   "outputs": [],
=======
   "outputs": [
    {
     "data": {
      "text/plain": [
       "<matplotlib.collections.PathCollection at 0x121f354c0>"
      ]
     },
     "execution_count": 27,
     "metadata": {},
     "output_type": "execute_result"
    },
    {
     "data": {
      "image/png": "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\n",
      "text/plain": [
       "<Figure size 432x288 with 1 Axes>"
      ]
     },
     "metadata": {
      "needs_background": "light"
     },
     "output_type": "display_data"
    }
   ],
>>>>>>> Stashed changes
   "source": [
    "plt.scatter(analysis_two.Garments, analysis_two.hdi)"
   ]
  },
  {
   "cell_type": "code",
   "execution_count": null,
   "metadata": {},
<<<<<<< Updated upstream
   "outputs": [],
=======
   "outputs": [
    {
     "data": {
      "text/plain": [
       "<matplotlib.collections.PathCollection at 0x121f14af0>"
      ]
     },
     "execution_count": 28,
     "metadata": {},
     "output_type": "execute_result"
    },
    {
     "data": {
      "image/png": "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\n",
      "text/plain": [
       "<Figure size 432x288 with 1 Axes>"
      ]
     },
     "metadata": {
      "needs_background": "light"
     },
     "output_type": "display_data"
    }
   ],
>>>>>>> Stashed changes
   "source": [
    "plt.scatter(analysis_two.Clothing, analysis_two.hdi)"
   ]
  },
  {
   "cell_type": "markdown",
   "metadata": {},
   "source": [
    "Here I'm merging the analysis_one dataframe that contains GHG emissions per sector ('countries','agriculture','energy','waste','industrial','bunker fuels') with the analysis_two df that contains the list of countries and their corresponding hdi and indexes regarding cotton, clothing, garments, and textiles."
   ]
  },
  {
   "cell_type": "code",
   "execution_count": null,
   "metadata": {},
   "outputs": [],
   "source": [
    "analysis_two"
   ]
  },
  {
   "cell_type": "markdown",
   "metadata": {},
   "source": [
    "In this cell, we are merging our analysis_two dataframe with the GHG emission dataframe and loading the merged data into a new dataframe labeled \"analysis_two_all\""
   ]
  },
  {
   "cell_type": "code",
   "execution_count": null,
   "metadata": {},
   "outputs": [],
   "source": [
    "analysis_two_all = df_ghgchange.merge(analysis_two, how='left', on='country')\n",
    "analysis_two_all"
   ]
  },
  {
   "cell_type": "markdown",
   "metadata": {},
   "source": [
    "### Task List\n",
    "- 1) Create a scatterplot for each sector compared against the GHG emissions. - Completed.\n",
    "- 2) Cluster the data.\n",
    "- 3) Make histogram of each cluster of HDI (assuming the clusters relate to HDI.\n",
    "- 4) determine if there is a correlation between each cluster and a country's stage of developement."
   ]
  },
  {
   "cell_type": "markdown",
   "metadata": {},
   "source": [
    "These are scatterplots representing the different emission sectors in comparison to the Textile production index of each country (all data is taken from the analysis_two_all dataframe)"
   ]
  },
  {
   "cell_type": "code",
<<<<<<< Updated upstream
   "execution_count": null,
   "metadata": {},
   "outputs": [],
=======
   "execution_count": 31,
   "metadata": {},
   "outputs": [
    {
     "data": {
      "image/png": "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\n",
      "text/plain": [
       "<Figure size 432x288 with 1 Axes>"
      ]
     },
     "metadata": {
      "needs_background": "light"
     },
     "output_type": "display_data"
    },
    {
     "data": {
      "image/png": "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\n",
      "text/plain": [
       "<Figure size 432x288 with 1 Axes>"
      ]
     },
     "metadata": {
      "needs_background": "light"
     },
     "output_type": "display_data"
    },
    {
     "data": {
      "image/png": "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\n",
      "text/plain": [
       "<Figure size 432x288 with 1 Axes>"
      ]
     },
     "metadata": {
      "needs_background": "light"
     },
     "output_type": "display_data"
    },
    {
     "data": {
      "image/png": "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\n",
      "text/plain": [
       "<Figure size 432x288 with 1 Axes>"
      ]
     },
     "metadata": {
      "needs_background": "light"
     },
     "output_type": "display_data"
    },
    {
     "data": {
      "image/png": "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\n",
      "text/plain": [
       "<Figure size 432x288 with 1 Axes>"
      ]
     },
     "metadata": {
      "needs_background": "light"
     },
     "output_type": "display_data"
    }
   ],
>>>>>>> Stashed changes
   "source": [
    "list = ['agriculture','energy','waste','industrial','bunker fuels']\n",
    "i = 0\n",
    "for i in list:\n",
    "    first_scatter = sns.scatterplot(x=analysis_two_all[i], y=analysis_two_all['Textiles'])\n",
    "    first_scatter.set_xlabel(i + ' emissions')\n",
    "    first_scatter.set_ylabel('Textiles Index')\n",
    "    plt.show()"
   ]
  },
  {
   "cell_type": "markdown",
   "metadata": {},
   "source": [
    "These are scatterplots representing the different emission sectors in comparison to the Cotton production index of each country. "
   ]
  },
  {
   "cell_type": "code",
   "execution_count": null,
   "metadata": {},
   "outputs": [],
   "source": [
    "for i in list:\n",
    "    first_scatter = sns.scatterplot(x=analysis_two_all[i], y=analysis_two_all['Cotton'])\n",
    "    first_scatter.set_xlabel(i + ' emissions')\n",
    "    first_scatter.set_ylabel('Cotton Index')\n",
    "    plt.show()"
   ]
  },
  {
   "cell_type": "markdown",
   "metadata": {},
   "source": [
    "These are scatterplots representing the different emission sectors in comparison to the Clothing production index of each country. "
   ]
  },
  {
   "cell_type": "code",
   "execution_count": null,
   "metadata": {},
   "outputs": [],
   "source": [
    "for i in list:\n",
    "    first_scatter = sns.scatterplot(x=analysis_two_all[i], y=analysis_two_all['Clothing'])\n",
    "    first_scatter.set_xlabel(i + ' emissions')\n",
    "    first_scatter.set_ylabel('Clothing Index')\n",
    "    plt.show()"
   ]
  },
  {
   "cell_type": "markdown",
   "metadata": {},
   "source": [
    "These are scatterplots representing the different emission sectors in comparison to the Garment production index of each country. "
   ]
  },
  {
   "cell_type": "code",
   "execution_count": null,
   "metadata": {},
   "outputs": [],
   "source": [
    "for i in list:\n",
    "    first_scatter = sns.scatterplot(x=analysis_two_all[i], y=analysis_two_all['Garments'])\n",
    "    first_scatter.set_xlabel(i + ' emissions')\n",
    "    first_scatter.set_ylabel('Garments Index')\n",
    "    plt.show()"
   ]
  },
  {
<<<<<<< Updated upstream
=======
   "cell_type": "markdown",
   "metadata": {},
   "source": [
    "In this cell, we are replacing all empty values with 0 so that we are able to run correlation tests with more data and so we can complete a KMeans clustering. "
   ]
  },
  {
   "cell_type": "code",
   "execution_count": 53,
   "metadata": {},
   "outputs": [
    {
     "data": {
      "text/html": [
       "<div>\n",
       "<style scoped>\n",
       "    .dataframe tbody tr th:only-of-type {\n",
       "        vertical-align: middle;\n",
       "    }\n",
       "\n",
       "    .dataframe tbody tr th {\n",
       "        vertical-align: top;\n",
       "    }\n",
       "\n",
       "    .dataframe thead th {\n",
       "        text-align: right;\n",
       "    }\n",
       "</style>\n",
       "<table border=\"1\" class=\"dataframe\">\n",
       "  <thead>\n",
       "    <tr style=\"text-align: right;\">\n",
       "      <th></th>\n",
       "      <th>Cotton</th>\n",
       "      <th>Clothing</th>\n",
       "      <th>Garments</th>\n",
       "      <th>Textiles</th>\n",
       "    </tr>\n",
       "  </thead>\n",
       "  <tbody>\n",
       "    <tr>\n",
       "      <th>0</th>\n",
       "      <td>0.0</td>\n",
       "      <td>0.0</td>\n",
       "      <td>0.0</td>\n",
       "      <td>2.0</td>\n",
       "    </tr>\n",
       "    <tr>\n",
       "      <th>1</th>\n",
       "      <td>0.0</td>\n",
       "      <td>2.0</td>\n",
       "      <td>0.0</td>\n",
       "      <td>0.0</td>\n",
       "    </tr>\n",
       "    <tr>\n",
       "      <th>2</th>\n",
       "      <td>0.0</td>\n",
       "      <td>0.0</td>\n",
       "      <td>0.0</td>\n",
       "      <td>0.0</td>\n",
       "    </tr>\n",
       "    <tr>\n",
       "      <th>3</th>\n",
       "      <td>0.0</td>\n",
       "      <td>0.0</td>\n",
       "      <td>0.0</td>\n",
       "      <td>0.0</td>\n",
       "    </tr>\n",
       "    <tr>\n",
       "      <th>4</th>\n",
       "      <td>0.0</td>\n",
       "      <td>0.0</td>\n",
       "      <td>0.0</td>\n",
       "      <td>5.0</td>\n",
       "    </tr>\n",
       "    <tr>\n",
       "      <th>...</th>\n",
       "      <td>...</td>\n",
       "      <td>...</td>\n",
       "      <td>...</td>\n",
       "      <td>...</td>\n",
       "    </tr>\n",
       "    <tr>\n",
       "      <th>171</th>\n",
       "      <td>0.0</td>\n",
       "      <td>0.0</td>\n",
       "      <td>0.0</td>\n",
       "      <td>1.0</td>\n",
       "    </tr>\n",
       "    <tr>\n",
       "      <th>172</th>\n",
       "      <td>0.0</td>\n",
       "      <td>0.0</td>\n",
       "      <td>0.0</td>\n",
       "      <td>0.0</td>\n",
       "    </tr>\n",
       "    <tr>\n",
       "      <th>173</th>\n",
       "      <td>2.0</td>\n",
       "      <td>0.0</td>\n",
       "      <td>0.0</td>\n",
       "      <td>2.0</td>\n",
       "    </tr>\n",
       "    <tr>\n",
       "      <th>174</th>\n",
       "      <td>0.0</td>\n",
       "      <td>0.0</td>\n",
       "      <td>0.0</td>\n",
       "      <td>7.0</td>\n",
       "    </tr>\n",
       "    <tr>\n",
       "      <th>175</th>\n",
       "      <td>0.0</td>\n",
       "      <td>7.0</td>\n",
       "      <td>0.0</td>\n",
       "      <td>0.0</td>\n",
       "    </tr>\n",
       "  </tbody>\n",
       "</table>\n",
       "<p>176 rows × 4 columns</p>\n",
       "</div>"
      ],
      "text/plain": [
       "     Cotton  Clothing  Garments  Textiles\n",
       "0       0.0       0.0       0.0       2.0\n",
       "1       0.0       2.0       0.0       0.0\n",
       "2       0.0       0.0       0.0       0.0\n",
       "3       0.0       0.0       0.0       0.0\n",
       "4       0.0       0.0       0.0       5.0\n",
       "..      ...       ...       ...       ...\n",
       "171     0.0       0.0       0.0       1.0\n",
       "172     0.0       0.0       0.0       0.0\n",
       "173     2.0       0.0       0.0       2.0\n",
       "174     0.0       0.0       0.0       7.0\n",
       "175     0.0       7.0       0.0       0.0\n",
       "\n",
       "[176 rows x 4 columns]"
      ]
     },
     "execution_count": 53,
     "metadata": {},
     "output_type": "execute_result"
    }
   ],
   "source": [
    "analysis_two_all_temp= analysis_two_all[['Cotton','Clothing','Garments','Textiles']].fillna(0)\n",
    "analysis_two_all_temp"
   ]
  },
  {
   "cell_type": "code",
   "execution_count": 54,
   "metadata": {},
   "outputs": [
    {
     "data": {
      "text/html": [
       "<div>\n",
       "<style scoped>\n",
       "    .dataframe tbody tr th:only-of-type {\n",
       "        vertical-align: middle;\n",
       "    }\n",
       "\n",
       "    .dataframe tbody tr th {\n",
       "        vertical-align: top;\n",
       "    }\n",
       "\n",
       "    .dataframe thead th {\n",
       "        text-align: right;\n",
       "    }\n",
       "</style>\n",
       "<table border=\"1\" class=\"dataframe\">\n",
       "  <thead>\n",
       "    <tr style=\"text-align: right;\">\n",
       "      <th></th>\n",
       "      <th>Cotton</th>\n",
       "      <th>Clothing</th>\n",
       "      <th>Garments</th>\n",
       "      <th>Textiles</th>\n",
       "    </tr>\n",
       "  </thead>\n",
       "  <tbody>\n",
       "    <tr>\n",
       "      <th>Cotton</th>\n",
       "      <td>1.000000</td>\n",
       "      <td>-0.028088</td>\n",
       "      <td>0.025150</td>\n",
       "      <td>0.144092</td>\n",
       "    </tr>\n",
       "    <tr>\n",
       "      <th>Clothing</th>\n",
       "      <td>-0.028088</td>\n",
       "      <td>1.000000</td>\n",
       "      <td>-0.049113</td>\n",
       "      <td>0.228152</td>\n",
       "    </tr>\n",
       "    <tr>\n",
       "      <th>Garments</th>\n",
       "      <td>0.025150</td>\n",
       "      <td>-0.049113</td>\n",
       "      <td>1.000000</td>\n",
       "      <td>0.023861</td>\n",
       "    </tr>\n",
       "    <tr>\n",
       "      <th>Textiles</th>\n",
       "      <td>0.144092</td>\n",
       "      <td>0.228152</td>\n",
       "      <td>0.023861</td>\n",
       "      <td>1.000000</td>\n",
       "    </tr>\n",
       "  </tbody>\n",
       "</table>\n",
       "</div>"
      ],
      "text/plain": [
       "            Cotton  Clothing  Garments  Textiles\n",
       "Cotton    1.000000 -0.028088  0.025150  0.144092\n",
       "Clothing -0.028088  1.000000 -0.049113  0.228152\n",
       "Garments  0.025150 -0.049113  1.000000  0.023861\n",
       "Textiles  0.144092  0.228152  0.023861  1.000000"
      ]
     },
     "execution_count": 54,
     "metadata": {},
     "output_type": "execute_result"
    }
   ],
   "source": [
    "analysis_two_all_temp.corr(method='pearson')"
   ]
  },
  {
   "cell_type": "code",
   "execution_count": 45,
   "metadata": {},
   "outputs": [
    {
     "data": {
      "image/png": "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\n",
      "text/plain": [
       "<Figure size 432x288 with 1 Axes>"
      ]
     },
     "metadata": {
      "needs_background": "light"
     },
     "output_type": "display_data"
    },
    {
     "data": {
      "image/png": "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\n",
      "text/plain": [
       "<Figure size 432x288 with 1 Axes>"
      ]
     },
     "metadata": {
      "needs_background": "light"
     },
     "output_type": "display_data"
    },
    {
     "data": {
      "image/png": "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\n",
      "text/plain": [
       "<Figure size 432x288 with 1 Axes>"
      ]
     },
     "metadata": {
      "needs_background": "light"
     },
     "output_type": "display_data"
    },
    {
     "data": {
      "image/png": "iVBORw0KGgoAAAANSUhEUgAAAX4AAAEGCAYAAABiq/5QAAAAOXRFWHRTb2Z0d2FyZQBNYXRwbG90bGliIHZlcnNpb24zLjMuMiwgaHR0cHM6Ly9tYXRwbG90bGliLm9yZy8vihELAAAACXBIWXMAAAsTAAALEwEAmpwYAAAyMklEQVR4nO3de5gcd3ng++9bVX3TXC1pPJJly5IdMDYCYlAAkeAQLiciZENONrtZdmG9SThKdvfJbpblSciSJ4TsyVkC7CbsOefJiRYIXshJ2A1wIGsQIZwQk0Q4FviCbFk2lmzZ0mg0us21b1X17h9V3dPd093TM9O3mX4/zzPP9FT/uupXVT1vVf3qV+9PVBVjjDGDw+l1BYwxxnSXBX5jjBkwFviNMWbAWOA3xpgBY4HfGGMGjNfrCrRi586dum/fvl5XwxhjNpVvf/vbl1V1onb6pgj8+/bt48SJE72uhjHGbCoi8ly96dbUY4wxA8YCvzHGDBgL/MYYM2As8BtjzICxwG+MMQNmU/TqMaZfnJqa5djJac5fz7JnPMPhA5PcuXus19Vak62wDmZj7IzfmBadmprl6ANnmc0W2T2WZjZb5OgDZzk1NdvrqrVsK6yD2TgL/Ma06NjJacYyCcYyCRyR8utjJ6d7XbWWbYV1MBtngd+YFp2/nmUkXd06OpL2OH8926Mard1WWAezcRb4jWnRnvEM8zm/atp8zmfPeKZHNVq7rbAOZuMs8BvTosMHJpnNFpnNFglVy68PH5jsddVathXWwWycBX5jWnTn7jGO3LOfsUyCqdkcY5kER+7Zv6l6xGyFdTAbZ905jVmDO3ePbfoguRXWwWyMnfEbY8yAscBvjDEDxgK/McYMGAv8xhgzYCzwG2PMgOlY4BeRT4rIJRE5Wee994qIisjOTi3fGGNMfZ084/8UcLh2oojcArwFONfBZRtjjGmgY4FfVR8ArtZ563eBXwG0U8s2xhjTWFfb+EXkJ4DzqvpoC2WPiMgJETkxMzPThdoZY8xg6FrgF5FtwPuB32ilvKoeVdWDqnpwYmKis5UzxpgB0s0z/tuB/cCjIvIscDPwHRHZ1cU6GGPMwOtarh5V/S5wY+nvOPgfVNXL3aqDMcaYznbn/GPgOHCHiLwgIj/fqWUZY4xpXcfO+FX1Hau8v69TyzbGGNOYPblrjDEDxgK/McYMGAv8xhgzYCzwG2PMgLHAb4wxA8bG3DWmD5yamuXYyWnOX8+yZzzD4QOTNi6u6Rg74zemx05NzXL0gbPMZovsHkszmy1y9IGznJqa7XXVzBZlgd+YHjt2cpqxTIKxTAJHpPz62MnpXlfNbFEW+I3psfPXs4ykq1tdR9Ie569ne1Qjs9VZ4Demx/aMZ5jP+VXT5nM+e8YzPaqR2eos8BvTY4cPTDKbLTKbLRKqll8fPjDZ66qZLcoCvzE9dufuMY7cs5+xTIKp2RxjmQRH7tlvvXpMx1h3TmP6wJ27xyzQm66xM35jjBkwFviNMWbAWOA3xpgBY4HfGGMGjAV+Y4wZMB3r1SMinwR+HLikqgfiaR8B/h5QAJ4BflZVr3eqDsb0K0vKZnqpk2f8nwIO10z7GnBAVV8OPAX8WgeXb0xfsqRsptc6FvhV9QHgas20P1fV0rPp3wJu7tTyjelXlpTN9Fov2/h/DvhKozdF5IiInBCREzMzM12sljGdZUnZTK/1JPCLyPsBH/ijRmVU9aiqHlTVgxMTE92rnDEdZknZTK91PfCLyL1EN33/iapqt5dvTK9ZUjbTa10N/CJyGPhV4CdUdambyzamX1hSNtNrnezO+cfAG4CdIvIC8AGiXjwp4GsiAvAtVf3FTtXBmH5lSdlML3Us8KvqO+pM/kSnlmeMMaY19uSuMcYMGAv8xhgzYCzwG2PMgLHAb4wxA8aGXhxwlixs67N9bGrZGf8As2RhW5/tY1OPBf4BZsnCtj7bx6YeC/wDzJKFbX22j009FvgHmCUL2/psH5t6LPAPMEsWtvXZPjb1WOAfYJYsbOuzfWzqse6cA86ShW19to9NLTvjN8aYAWOB3xhjBowFfmOMGTAW+I0xZsBY4DfGmAHTyaEXP0k0qPolVT0QT9sOfBbYBzwL/ENVvdapOhjTj+5/7Dz3HT/H9FyOydE09x7ay9tevqeqTCmx2uMXZpnL+YxlPO7aPWYJ1kxbdPKM/1PA4Zpp7wO+rqovAr4e/23MwLj/sfN86CunmcsWuXE4yVy2yIe+cpr7HztfLlNKrHZ2ZoEXrmaZyxY5d2WJZy8vWII10xYdC/yq+gBwtWby24H74tf3AT/ZqeUb04/uO36OoZQXJU1zHMYyCYZSHvcdP1cuU0qsdnE+TyoRlUknXC7O5S3BmmmLbrfxT6rqFED8+8ZGBUXkiIicEJETMzMzXaugMZ00PZdjJOVWTRtJuUzP5cp/lxKrLeR8Ul70L5ryHOZyRUuwZtqib2/uqupRVT2oqgcnJiZ6XR1j2mJyNM18PqiaNp8PmBxNl/8uJVYbTnvk/RCAvB8ymk5YgjXTFt0O/NMishsg/n2py8s3pqfuPbSXxbwfJU0LQ2azRRbzPvce2lsuU0qstmskRb4YlckVA3aNpizBmmmLbufq+RJwL/Ch+PcXu7x8Y3qq1HunslfPL73x9qpePaXEasdOTrNUDMq9evbtHLZePaYtRFU7M2ORPwbeAOwEpoEPAP8f8N+AvcA54B+oau0N4BUOHjyoJ06c6Eg9jTFmqxKRb6vqwdrpHTvjV9V3NHjrTZ1apjHGmNX17c1dY4wxnWGB3xhjBowFfmOMGTAW+I0xZsDY0IvGdEEp6dr561n2jGf6oltmP9bJtEdp33rju/bVe9/O+I3psFLStdlskd1jaWazxZ4nW+vHOpn2qNy3GviFemUs8BvTYaWka2OZBI5I+XUvk631Y51Me1Tu20Ys8BvTYaWka5V6nWytH+tk2qPevq1lgd+YDislXavU62Rr/Vgn0x719m0tC/zGdFgp6dpstkioWn7dy2Rr/Vgn0x6V+7aRVQO/iPygiAzFr98pIv9JRG5tYz2N2dJKSdfGMgmmZnOMZRIcuWd/T3vQ9GOdTHtU7ltxvWS9MqsmaRORx4BXAC8HPg18AvgpVf3hdle4EUvSZowxa9coSVsrTT2+RkeHtwMfU9WPASPtrqAxxpjuaOUBrnkR+TXgXcDrRcQFGvcTMsYY09daOeP/GSAP/JyqXgT2AB/paK2MMcZ0zKqBPw72nwNS8aTLwBc6WSljjDGd00qvnv8N+FPgD+JJe4hG0jLGGLMJtdLG/y+BVwMPAqjq0yJy40YWKiL/Bng3oMB3gZ9V1dxG5mkGT78lGSvV54mpWWazPqNpj5feNFbuG/+Z48/x8POzKMrdt4zzrkO3rqhv7Tq9eHKIp6YX+2Yd263f9uGgaKWNP6+q5UQ/IuIRBex1EZE9wL8CDqrqAcAF/tF652cGU78lGSvV59nLC5y7ssRctsgLV7OcnVngw8dO84EvPs7xM1fxHEg6woNnrvLhY6er6lu7Ts9eXuBDXznN2ZmFvljHduu3fThIWgn8fyUi/w7IiMhbgP8O/NkGl+vF8/OAbcCFDc7PDJh+SzJWqs/FuTzphMtYJkEq4XBxPs/VxQLPXllkJO2RSXqkkx7DaY+ri4Wq+tau08W5PEMpj4vz+b5Yx3brt304SFoJ/O8DZoiaZH4B+DLw6+tdoKqeBz4KnAOmgFlV/fPaciJyREROiMiJmZmZ9S7ObFH9lmSsVJ+5XJGUF/1bpTyHhZxPwQ/JFYPy9NJ7BT+sqm/tOs3lioykXBYq8q5spURq/bYPB0krvXpCVf0vqvoPVPWn49cbaeq5gehhsP3ATcCQiLyzznKPqupBVT04MTGx3sWZLarfkoyV6jOaTpD3QwDyfshw2iPpOaQTbnl66b2k51TVt3adRtMJ5vMBwxXBcSslUuu3fThIGgZ+EfmuiDzW6GcDy3wzcFZVZ1S1CHweeN0G5mcGUL8lGSvVZ9doilwxYDZbJF8M2TWSYvtQkn07hpjP+WQLPrmCz0LOZ/tQsqq+teu0azTFYt5n10iqL9ax3fptHw6Shrl6VkvEpqrPrWuBIq8BPgn8AJAFPgWcUNX/s9FnLFePqaffeoRYr56167d9uNU0ytWzapK2DlXmg0RPBPvAw8C7VTXfqLwFfmOMWbtGgb9hP34R+WtV/SERmae6+6YAqqqj662Mqn4A+MB6P2+MMWb9GgZ+Vf2h+Ldl4jTGmC2klZQNn25lmjHGmM2hlX78L638I37o6lWdqY4xxphOa9ad89fi9v2Xi8hc/DMPTANf6loNjTHGtFXDwK+q/yFu3/+Iqo7GPyOqukNV39fFOhpjjGmjVrJzfq/yj3gErl9X1Q92pkqmF6w/9fq0ut0alaucnnQFAfKBbmgfnJqa5dPHn+P4mSvM53xG0h6HbttR97mBTqyr6X+ttPG/SUS+LCK7ReRlwLewMXe3FMuSuD6tbrdG5e5/7Hx5uufAg2eucvzMVRIu694Hp6Zm+fCx0zzw1GWuLRYJQ+XaYoEHnrq8IhtoJ9bVbA6t5Or5x8B9REna7gd+WVXf2+mKme6xLInr0+p2a1TuvuPnyq/PXF5iOO0xkvY4M7O07n1w7OQ0VxcLFIIoKVwm6ZLyXIpBsCIbaCfW1WwOrXTnfBHwr4mGX3wWeJeIbOtwvUwXWZbE9Wl1uzUqNz2XK09fyPmkPIeU5zCXKzacVyt1KvghQai4jgDgOoIf6opsoGudr31Hto5Wmnr+DPgNVf0F4IeBp4GHOlor01WWJXF9Wt1ujcpNjqbL04fTHnk/JO+HjKYTDefVSp2SnoPrCEEYPXAfhIrnyIpsoGudr31Hto5WAv+rVfUvIMrToKr/EfjJjtbKdJVlSVyfVrdbo3L3Htpbfn3bzm0s5Hzmcz63TWxb9z44fGCS7UNJkm6UBjpbCMj7AQnXXZENtBPrajaHVZO0icgk8H8Ae1T1sIjcBRxS1U90o4JgSdq6wXpsrI/16rHvSD9bd3ZOEfkK8IfA+1X1FfGTuw+r6ss6U9WVLPAbY8zaNQr8zZ7cLd3J2amq/w0IAVTVB4KO1NIYY0zHNWvj/7v496KI7CBOzSwirwWs864xxmxSzZ7clfj3e4hy89wuIn8DTAA/3emKGWOM6YxmgX9CRN4Tv/4C8GWig0GeaNzcjYy7a4wxpkeaBX4XGGb5zL/EHt4yxphNrFngn1LV3+rEQkVkHPg4cIDo3sHPqerxdi/Hup+ZZjr5/WjWTXOrD6Bu+l+zm7u1Z/rt9DHgmKq+BHgFcKrdC7CkUqaZTn4/Kuddm3zt2csLfOgrpzk7s2DfS9MzzQL/mzqxQBEZBe4BPgGgqgVVvd7u5VhSKdNMJ78flfOuTb52cS7PUMrj4nzevpemZ5oNxHK1Q8u8DZgB/lBEHhaRj4vIUG0hETkiIidE5MTMzMyaF2JJpUwznfx+VM67NvnaXK7ISMploSLvjX0vTbe1kqun3TzglcDvq+rdwCKwYkQvVT2qqgdV9eDExMSaF2JJpUwznfx+VM67NvnaaDrBfD5guOKgY99L0229CPwvAC+o6oPx339KdCBoK0sqZZrp5Pejct61ydd2jaZYzPvsGknZ99L0TNcDv6peBJ4XkTviSW8Cnmj3cu7cPcaRe/YzlkkwNZtjLJPgyD37rfeEATr7/aictx/Ca27bzqHbtlMMYN/OYd731jvYPzFs30vTM6smaevIQkW+n6g7ZxI4A/ysql5rVN6StBljzNo1StLWymDrbaeqjwArKtNIMQi5vJCPb5K5JL1etFAZY8zW0JPAv1ahwly2WP7bkWg0odJPynNIug4inXz0wBhjtoZNEfhrharkigG54nJ2aBEh4QopzyWViA4EKc8OBsYYU2tTBv56VJWCHw0oPZ+LplUeDEpXBnYwMMYMui0T+OupPBiU2MHAGDPotnTgr6fRwaDyIJBOuCRcu4Fs2qtyLNzri0UUZXxbgtfdvrPueLhrSSJXW7ZZIrhTU7N85vhzPPz8LIpy9y3jGx6Ptxc6lWRvEJI79qQ751q97PtfqV/82gNdXabrxPcLPIdUIupN5Dp2VWDW59TULB8+dpqnpxeYXSqQ8wNEhJTnMJZO8KJdI/zK4TuqgvPRB84ylkkwkvaYz/nMZot1+/zXlj13ZZHvnLvO3beMc+vOoarPAnz0q09x9vIiwykXARbyAXt3bKtafr9by/bph/n2Sl9159wMglBZKvgsFZanJdzlg0CpJ5FjBwPTgmMnp7m6WKAYBIRA0nMBJVSlGCpXFwscOzldDi6Vid6A8u/KMpXzrixbmQhu/8Rw1WcBLi/kGUl7pBNuNAORFcvvd2vZPv0w335jgX8NikFIMQhZYDnHS8J1SLhRt9KEK9HBwe4ZmBrnr2cp+CF+GAX76OpR8IOQQKOmx8pEbeevZ9k9lq6aR6NkbrVlV0sEl/cDRtOJ8nspz2E+52+qRHFr2T79MN9+Y4F/g0oHg8orA6i4OnCXu5fa1cHg2jOe4enpeTxHcESIWlijA4Ab32OqTNS2ZzzDbLZYPuOExsncasuOphPMZouMNvjs09Pz5P2wfMaf98MVy+93a9k+/TDffmN3MDukGIQs5HyuLOa5cD3Ls1cWef7qEpfmcswuFckWAsKw/++vmPY4fGCS7UNJEq6LAxT8gGKgOCIkHGH7ULIqUdtaksjVlm2WCO7wgUl2DqeYz/lkCz65gs9Czl+x/H7XqSR7g5Lc0W7u9lipaShZkY7CbiJvTdarp72sV8/qGt3ctcDfh0r3DFJ2MDDGbID16tlESvcNFvPL0zzHWZGfyJ41MMashwX+TcIPQ/xC9U1ke9bAGLMeFvg3sUbPGpQzlnp2MDDGrGSBf4tp1EyUjq8I0snotzFmcFngHwB+GLKQD1nI+7C4PJ5B1ETkknSjh8/soTNjBkPPAr+IuMAJ4Lyq/niv6jGIqsYzqBjgpvQUcsKV+Elke/BsPZp1B7z/sfP8/jfO8Py1JRKuw6tvvYFfevOL1tSVs13dDbdSt8WN2mrbQlUJmjwn1LPunCLyHqLhF0dXC/yD1p2z37iOLKemcB0SnuA5dpVQT7MkX2dmFvit/3GKbD4gnRACjZ6avWv3KB98+0tbStAGtCWJ2FZLRrYRm3VbqCqFIKQYKH4QUghC/ECjnzB6MnvPDdv6pzuniNwMvA34beA9vaiDaV0QKkFYPeIZROmsPWf56qCUq2iQrxKaJfk6fuYKQaBkki6eKyQAQXjuylLLCdpKf280idigJCNrRT9vC1WlGCjFOKgXghA/DCn6UXBfr1419fwe8CvASKMCInIEOAJw0823dKdWZk0qv5S1Kp87SCcc0p47EAeDZkm+pudyqCqus/z8RcIVlorBmhK0tSOJ2KAkI2tFL7aFquKH0dl5EDfLhGH0uvTbb/C/1Q5dD/wi8uPAJVX9toi8oVE5VT0KHIWoqac7tTPtUu+5g6TnkEm4pOOfrdjNtFmSr3OjaRZzPkGoeG607sVASXvumhK0tSOJ2KAkI2tFp7ZFKfNqEC6fIJXO3P1Q6WXWhF48+vmDwE+IyLPAnwBvFJHP9KAepssKfshstsj0XI7n6iSt8zt0dtNNzZJ83XtoL64rZAsBRT9qOsv5Abfu2NZygrZ2JREblGRkrVjLtvCDkLwfsFTwmc8Vub5U4MpCnktzOaZms7xwbYnnrixyZmaBc1eXOH8ty8XZHFcW8sxlo+95MQh7GvShx7l64jP+99rNXVPiiOC5EncxdUjE4xwk3c0zxoH16tl8StvihWtL7BpN8yMvmeD2iRGK4fIN00B7e5a+Vs1u7lrgN5tC5bjI6YRL2nPwLFeRWSdVJe9HTS8FP+oRs9Ebpv2m73r1lKjqN4Bv9LIOZnNQVfLFgHwxYC5+9qCU0tpzbfQz09hyYI9+F+KAP8jsyV2zaZVullUSERKulNNZpzw7GGx10c3TMO4lE5Z7y/hh1Md9MzXPdIsFfrOlqCoFPxrDtlLpATTPFRJO9BBaaZrpD6WnTaMujUS/4+6NoUYBPoynRd0f2XTt7v3CAr8ZCPWuDmD5ITTXqfwdHSA8N3q9FbuddlMYKsUwLHdrLJ2VF4OQMAQlCuwWwLvHAr8ZaMsPoTUuUzo4eG50YEi60X0Fr+JgMahNSbVBPQijJpag9HBSfJZu+sumCPxz2SJ/+eSlquEIo4FHVr5u99nZMzMLfPPpy0zP5ZgcTfP6F+3k9onhti7D9KdW9/0zMwv82SMXeOLiHA7Cy/aMcsv2DA88fYWZ+Tw3jqZ552tu4a0vuwlHhK+evMCnH3y+PN97D+3lbS/fs2K+q3W3bFeXzyBUnrhwna8+fqn8FOub7pzg+yZGyw8glZpgVJVSHK8X1O3/ZXPYFGPupna/SHff+3stlY1Gpao4KHhO1U2+VMKtGqSk6v34vdJnry7l+dvvXWE47TGc8ij4IbliwE+9cg93TI7aWLhb2DMzC3z2oecZSScYSrks5gPmc0V+5gduqQpkz8ws8PFvnuHC9RxDCQcFLi0WWMz7TAwl2T6UZLEQslTwq5KsbUt6DCUdFgsh2YLPL/zwbbzpzl048VXEM5fm+cyD5xhLR4nDFvIBc7ki/+x1t3LHrlFOX5zjD//mOUbTHkMpj4V8lFjsXa/dC8Cnv3WO0XSC4bTLQi6q+z957V6+78aRcht56afVdW3XNjPd0bfdOVvlOcJ4JkHej56aa5JtNB6VKmCpEADFxgU34K+/d6X8upTCuPIgkq7pUZKM+56X+6GX3k+U3q884DQ+ICU9B2dAmxS67ZtPX2YkDrpA+fc3n75cFcS++fRlZpeKDCVdkologJvctWzUhBQq4jgMp6MbyF94ZAqAbUmP4Xh+pfc+9/AF7nnxjRBAHjj2+DQpzyXhOeT8MLop7Tp86dEp/tlQii89OhUlx/McCkFY/o4dezxK5JZORFfCxUBJJRwKgctXH59m99jKNAStrmu7tpnpvU0R+G+bGObz/+J15b/9ICTnh1G/bj8k70d9c/N+/HexNK36/Vz8dyGelveDumWjaQGLeZ9glQuiqH04YDHfpJG4jRKuVB1EKrstpmsPIonKg1HFewmnutmsZl6l0boGOe3y9FyOiZFU1bShlMv0XG5FuUKgDKWWRzXzozuWFCu+PENJhysL0bBoO7YlquZR+V6ry1/t/VbqvtZ1XU275mM6b1ME/lqe6zDsOgynOlv9T/3ts8xliwylvPINq9msTzrh8NYDu8oHiZwfRAeTegeR+ABTqPi74AfkijUHoIoDVDPRgcbv6HqXCFQ3izU4YFRe8TS9iml0wIkPUF4f3SSdHE0zn/PLZ60Ai/mAydH0inLPXV6k6IflM37PcfDDkIS7vC6LhZAdw1FQXMz55TP92vdaXf5q77dS97Wu62raNR/TeZsy8HfL61+0k88+9DwiwlDKpeAHqCo/8YqbOnbpGvVDrz5olK9YinWuWOIDTqHmALLigFOsnlfp/WKTSxoFcn50dQWdP9g4QvVBpPKKJtHogFN9gz9Z83664oBT2QS3WnbQ0r4Hqtqrf+xlu1aUO31xjgvXc6CKAumky2JeSTiChmG5jf+dr43Six994Gw037iNv/K9Vpe/2vut1H2t67qads3HdN6muLnby1w9W72XQhBGgzsU4gNDrqbZbPnAUafZrLj8uvaKprLJrXQAyvlh0+Hguq2yI8DKA46DHyrXs0WKQchwyuPWHdu4cSRd8RmXdMLh2lKBh5+7xgvXczgCt+8cYtd4mkdfmOP6UoEdwyl+6u7dvPElUQD8xulpvvDIFFcW8uwYTvG/fv9u3nDHykyQq333mr2/1u9tu77nW/3/ZTPp2yRtrbIkbVtHEGp101ax9kql+iBS74BTalarPeDk61wR9dFxBs+R+MqkTm8zr35vs9L9lno906wjgGlm0/fqMVuH6wjbkh7bkt1ZXpQ/fWWzWX7FAaf2Bn/l1U9ts1ltp4Llac2OM36o+PnudgSovvdSp7fZioPQ8g3+ZM19m7pNcBXz6pf7M2Z1FvjNlubFT9kOpVYvu1Glp4BX3m+pvE+zfICpfF333k2DjgCVVznNlDoC1HQY6phWb/av6PJc5wpmtZ5ng9zjrB0s8BvTJtGYAdFzHcNd+Neq7QhQe28m5zfo3lz3Rv/K3mWV3Z1X6wgAtHQwapdSj7PqBzKr772sfL6mcUeA1XqebbWxHyzwG7NJiUgU+BLu6oXbIKw80NTcT8k1bQprfLO/4RVPMUrk1kh1j7POc4Saey8rm7pSVQec+l2W63ckcEkmqg9Anc4IYIHfGNMSR6KHB9MJFzKJ1T+wQUGodQ4c6+sI0MrzNc16nIUK2WJAtlk2vzby4h5n9W72N2o2q+0IMJxuHN67HvhF5BbgvwK7gBA4qqof63Y9jDH9zXWETNIlk+zOFU1lR4CVB47mHQEaX/3Ue8Ymer9ZjzM/VPxCwGKHUs/04ozfB/6tqn5HREaAb4vI11T1iR7UxZgqa+2H7ojgiFC6z/jMzDx/9dRlvndpnktzeRbzPpmkx127R3j73XvYv3O4nHe+clkJRxCgECpJR1CgGCqTo2nSCeH4mWur9vvvha3Ub7/bHQH8UOtexVT3PFvbzf7Kzxf8kOcarWvnV7Gaqk4BU/HreRE5BewBLPCbrvMcB8eJzi6fuTTP579znrFMglu2b2Mx7/PFRy7w8z+0j7tuGsOVqCeJACKs6FVyamqWLz4yRRiGnLuyxLXFIo4jZBIO3z0/x0I+4L0/+mLu3D3G4xeuc/9jU4xmEoxnPB46ew0F7pgc4uSFRQQ4uP8Gzs7Mc+K5a9w4mmbXSIr5fMDHv/ks25Iub3zJLgLtXd77ymycEyMp5nM+n33oecvG2YLSEKEJt3MdAdIJlz2/Xv+9nrbxi8g+4G7gwV7Ww2wdjkQDo5RG1BIRHIkCu+MIrlSPtlUZvP/k755ncjTNWNx+PZT0SHlFvnH6Mnfv3b7qso+dnGYsk+DU1By5Yhg3UShLxZCdwykuL+Q5dnKaO3eP8eePX2J8W5KxTILjZ+YZiZf52IV5JuK8Pc9eyfLCtSVSnocfKAnPZXt84+/zD0/xj169r2r5Yajlka38IBogxQ+Wx6Nt98Oalo1z8+pZ4BeRYeBzwC+r6lyd948ARwBuuvmW2rfNgCk1qTgO5eEQE+7yUImlYO5soDdEaRCSSiNpj/PXs2v6/FyuSBAqSS/qApj3Q1Kew1yuWJ5X5bIWcj7DcXbPxbzPzeOZ8vTFfMC2hFR1kxxpkPHScYSkI+Xl1ioPRB4qQaBVY9oW44HK15JSw7Jxbl49CfwikiAK+n+kqp+vV0ZVjwJHIUrZ0MXqmR5wRMo55ysHRY/Gve3Owzp7xjPMZovlM36IslzuGV+Zw77Z50fTCa4uFOIgqqQ8Jw7+bnlelcsaTnvk494iQymvHOSH0x5DKZelfFCV9nl+nRkvozbs5mWCcPkKwQ9CCvHVgx9EQypWsmycm1cvevUI8AnglKr+p24v33TPcpNL9Rl5+XXc7OLUaS/vhcMHJsuZM0fSHvO5aFSrn/mBm9f0+V2jKS7OZstt/KNph/mcz/6dQxw+MLliWbft3FZu43/FnlFOT0dt/HfuHiHjCQ89d40bvARhGDKfj8aJ+KU33t6JTRDvs/pHh7CU0C+Ibhy+5a4b+fTxcwiwzbJxbipdT9ImIj8EfBP4LlF3ToB/p6pfbvQZS9LWX9w4aHt1mloatZ9vFmsZq7bZ55+YmmXqeo6FfJFtyQR33zLGOw/d2nDM3KQb3TTOB0rKjXr1FAJlz3iGbUnh609eXnWM3l4orcML15bYNZbmzXfeyG0TI1GvkiCk6Ic22HqPWHZO05LSGXgpoLsSB3W3OqhvxoBueqcYLHcvLHU57Kf03FuVZec0QNSc4jmldnQh4Tldb0c3g6d036ayf3wxWH5QqnQvoRi0v+eRqc8C/xbkOss3SZOuQ8KLztwto6HpF6XvJxUHA1UtHwAq0y/YwaD9LPBvUqUHQJLx04alh0GSrrOhLo3G9IpIafwAyuNpq2o59UHOD8gVrZmoHSzw97ly18aKM/jS38ZsdVKRGG6MqJttPk5bkC9Gv2u7mZrVWeDvA47E7e01Z/BJ10Y1MqZWdFWwnCHUr+hiWupN5AfdT2GxmVjg74La3jKlG6qls/hO594267PRrp0Af/BXT3Pf8XPMZotsS7jcMTnMrvFtVfM7NTXLZ44/x8PPz6Iod98yzrtqun6W6lNb7ge/bwdPTS82rWOj9WjH+vWDUnK12uE8a4fdLKySenmQWHfODarX3bGdaQRMb5yamuXoA2cZyySqHuY6cs/+loPjH/zV03zs698j6bq4oszlfEKF1+6/gRftGmM2W+TNd07w+e9c4OzlRYZTLgIs5AP27tjGrxy+o7ysU1OzfPSrT1WVu7JQoKjKa/dvZ++Oobp1bLQeb75zgr84NbOh9duMKq8OSvcOtmpTkXXnXIdS18et+JCSWV0p4VopfUPpdynJWivuO36OpOsylHKZyxZJeg5+qDx6fo6D+3eWy+SLASNpLxrgBECEq4uFqmUdOznN5YV8VblimCcIlYtzefbtHK5bx0brcd/xc9y1e3RD67cZ1bs6KA34Un7oLM5Z1InEdv1iIAO/naWb1Ww0YRsQ5e2Jc+z4ocbfLcq5eEbSHtNzOTIJh9H0cn6glBeleKhc1vnrWfJ+UFUu0CgwzeWWB+qorWOj9Ziey/Ga/dtXTF/L+m0VzQZ8KcYHgqKv5YNCcY3J7PrRlgz8pX7sXsXNUs/O0s0abDRhG0Rn0VGCtWgovTAefCMVZ8+cz/lMjqbLfdZLZ/J5PyTpOVXL2jOe4enp+apyrgiBUHUwqK1jo/UoJVjbyPoNgvLzBjX3D8pXCRUHg810D2HT9Qn0nGjg4qGUx2gmwfahJDtHUuwaS7Pnhgz7dgxx644hbhrPcONImvFtSYZT0eWxZ71kTIsOH5hkNltkNlskVC2/LiVZa8W9h/ZSCAIW8wFJV+KnVJVX7Bktz+/eQ3vZORwNYpIt+OQKPgs5n+1DyaplHT4wuaJcwhFcV9g1mmpYx0brce+hvRtev0FWukoYyyTYOZxi91iGW+PYs3ssw/ahJEMpr287bmyKm7uvfNWr9FsPPmRPnpqusl49ph2KQUgufuag1LuoGzZ9kraDBw/qiRMnel0NY4zZsDCMnkbOldNSdOZpZOvVY4wxfcKpczO5Mmld6X5BMejclYEFfmOM6bFmSeuig4C29YBggd8YY/rQctK66m6mlVlM13uFYIHfGGM2kcospo3SWhf8kGbdYCzwG2PMFtDogFBPTwK/iBwGPga4wMdV9UPNyr9wLcvvfu2pDXU3s65rg6Md+3q1LpD//5PTnL28iB+E5Py198jIeMINwyl2DCVBYXoux3zexw/CKP2257At5bFjKEmocH2pQN4PGUl7HLptR7kb5xNTszxzaYGri4V40BKicW4BR2D7UJJ3v34f97z4xvL6lMb0nVnIV40LvH2bx/Wsz3zeXzG2b+VYwrNZn9G0x0tvGqvaLp8+/hwPP38dQeqOMVy7feuVB8rLuXA9x1LBJ5PwVp1fs3221rLr+f60K750K071YrB1F3gKeAvwAvAQ8A5VfaLRZ2558QH9+Y9+dt1JpNqRcMtsDu3Y16slNnv+6gIPn5vFdYRCsP7/H09AiZ6iLGr0u7KVNp0Q8kUl6UZP/WYSLo7jkPKii/g7d4/y5MU5riwUCUMlqLMMB3AceMmuEQ7u20He93nwzLXoYbIwYCkf4jhCyoXLi0XSCZdbd2QIVVjM+7zvrXdw28QwRx84SxiGPHlxPnqWRuHFk8O4rsOb75zgT799nnNXlhhOuShRorn9O4d474++uO5zBR8+dnpF+Z3D0UNPo2mPR56/zrWlIo4IE8NJAqXh/Jrts3r7vVlZYM3fn3bFl07EKRGp252zF0/uvhr4nqqeUdUC8CfA21f7UCnR1LGT02teYGWiKkdkQ/My/a0d+7rRPO47fo6xTIInLy7guU459cJ6lS4UigquVAd9gIKviEAhUDzXQYnz+OR9/BCeurTAfM7Hc6MDSK1SG2+ocObyImOZBGdmlhhJexSDgPmcTybpkvKEq0s+niuAcj0bpXIYSnncd/xceXtcnMtHA6JkEqQSDhfn8+XtcnWxwHDaI530yCQ9RtIelxfydbf7sZPTdcs/e2WRq4sFLs7lyRVDMoloGy/GSewaza80z1b3e7Oy6/n+tCu+dDNO9SLw7wGer/j7hXhaFRE5IiInROTE4uw1YP1JpM5fzzKSrm7VGtSEVFtdO/Z1o3lMz+UYSXvk/ZBEm/9z6j3ZH2o0XYny8pQSvfmBIsBifABwROoGfog+K1B+WnQuVyQVZwn1wyj1gOsIgWqcT2i57EjKZXouV94epc9CdABayPnl7VLww6oDYcpzyPtB3e1+/nq2bvlcMXqqdS5XJFAt161UttH8SvNsdb83K7ue70+74ks341QvAn+9m80rvreqelRVD6rqwaGxG4D1J5HaM55hPudXTbOEVFtTO/Z1o3mUEpulPIdim5+tqffgpiPRdIFyYA5CxYvb6IdSHp4DoWrDHhzROTwk4yA7mk6Q98M4aWGUbCwItXxgcWS57Hw+YHI0Xd4epc9ClEhuOG6OmBxNk/Sc8nul91OeW3e77xnP1C2fTrgkvShTqStSrlupbKP5lebZ6n5vVnY93592xZduxqleBP4XgFsq/r4ZuLDahzaSRKodCbfM5tCOfb1aYrOX7Bouj+60EXFTPQmBQFf+MyY9QRWSruAHUfe8vB8yEgf8F984zEjaww+an005ArftHGI2W+S2iW3M53wSrstI2iNbCMj7yvZtHn4QXR+MZzxms0UW8z73Htpb3h67RlPkigGz2SL5YsiukVR5u2wfSrKQi5LHZQs+8zmfncOputv98IHJuuX37Rhi+1CSXaMp0gmHbDHaxkMJt+n8SvNsdb83K7ue70+74ks341Qvbu56RDd33wScJ7q5+49V9fFGn9l1+0v1V/+fL1ivHtMS69VjvXqsV0+k0c3dniRpE5EfA36PqDvnJ1X1t5uVtyRtxhizdo0Cf0/68avql4Ev92LZxhgz6DbdQCzGGGM2xgK/McYMGAv8xhgzYCzwG2PMgNkUQy+KyAzwXI8WvxO43KNl9yvbJvXZdqnPtkt93dgut6rqRO3ETRH4e0lETtTrDjXIbJvUZ9ulPtsu9fVyu1hTjzHGDBgL/MYYM2As8K/uaK8r0Idsm9Rn26U+2y719Wy7WBu/McYMGDvjN8aYAWOB3xhjBszABH4R2S4iXxORp+PfNzQod1hETovI90Tkfa18XkR+LS5/WkR+tM48vyQiJzuzZhvT7e0iIttE5H4ReVJEHheRD3V+LVvTaB0r3hcR+c/x+4+JyCtX++xGvjf9opvbRUTeIiLfFpHvxr/f2J21XLtuf1/i9/eKyIKIvHdDlVfVgfgBPgy8L379PuB36pRxgWeA24Ak8ChwV7PPA3fF5VLA/vjzbsU8fwr4f4GTvd4G/bBdgG3Aj8RlksA3gbf2wXZouI4VZX4M+ArRuCevBR7s1PemX356sF3uBm6KXx8Azvd6G/TDdqmY5+eA/w68dyP1H5gzfqIB3e+LX98H/GSdMs0Ggm/0+bcDf6KqeVU9C3wvng8iMgy8B/jf27om7dXV7aKqS6r6lwDxvL5DNApbrzVbx5K3A/9VI98CxkVk9yqfXfP3ps90dbuo6sOqWhqR73EgLSKpDq3bRnT7+4KI/CRwhmi7bMggBf5JVZ0CiH/fWKdMs4HgG32+2Wf+PfAfgaV2rECH9GK7ACAi48DfA76+sVVoi1Xr26RMR7ZPn+j2dqn094GHVTW/7tp3Tle3i4gMAb8KfLAdle/JQCydIiJ/Aeyq89b7W51FnWmr9Xet+xkR+X7g+1T134jIvhaX3xH9tF0q6uQBfwz8Z1U902I9OqmVdWxUpu3bp490e7tEMxR5KfA7wP/SSvke6PZ2+SDwu6q6IFLv42uzpQK/qr650XsiMi0iu1V1Kr7culSnWLOB4Bt9vtFnDgGvEpFnibbzjSLyDVV9wzpWbUP6bLuUHAWeVtXfW9vadMxq9W1WJtnks+vdPv2i29sFEbkZ+ALwT1X1mbasRft1e7u8BvhpEfkwMA6EIpJT1f9rXbXv9k2RXv0AH6H6psmH65TxiNrQ9rN80+WlzT4PvJTqm3RnqLlJB+yjf2/udn27EN3z+Bzg9Hr9W1nHijJvo/pm3d918nvTDz892C7jcbm/3+t176ftUjPf32SDN3d7vgG7uKN2ELUlPx3/3h5Pvwn4ckW5HwOeIrrr/v7VPh+/9/64/Gnq9FChvwN/V7cL0dmNAqeAR+Kfd/d6OzRaR+AXgV+MXwvwf8fvfxc42MnvTb/8dHO7AL8OLFZ8Nx4Bbuz1Nuj1dqlZ7m+ywcBvKRuMMWbADFKvHmOMMVjgN8aYgWOB3xhjBowFfmOMGTAW+I0xZsBY4DcDQUT+do3l3yAi/2Ody/plEdnW5P2Pi8hdq8zjGyJiA5SbjrDAbwaCqr6ui4v7ZaIspCuIiKuq71bVJ7pYH2OqWOA3A0FEFuLfb4jPpv9UojEB/kji5CdxjvQnReSvidJplz77m5X5z0XkpIjsE5EhicYWeDSe9jMi8q+IHn77SxH5y9KyReS3RORB4FDl2byI/L6InJBobIK2JOAyZjVbKlePMS26myhlwgXgb4AfFJETwH8B3kiUIvmzLcznMHBBVd8GICJjqjorIu8hGnPgclxuiOjJ7d+Iy1XO4/2qelVEXODrIvJyVX1s46toTGN2xm8G0d+p6guqGhKlBNgHvAQ4q6pPa/Q4+2damM93gTeLyO+IyOtVdbZBuYAoN1E9/1BEvgM8THQwatr2b0w7WOA3g6gyv3vA8pVvo/wlPtX/K2kAVX0KeBXRAeA/iMhvNPh8TlWD2okish94L/AmVX05cH9p3sZ0kgV+YyJPAvtF5Pb473dUvPcs8EqAeNzU/fHrm4AlVf0M8NFSGWAeGGlhmaNECclmRWQSeOsG18GYllgbvzGAquZE5Ahwv4hcBv6aaMxXiJpp/qmIPAI8RJRVEeBlwEdEJASKwD+Ppx8FviIiU6r6I02W+aiIPEw0lN4ZovsNxnScZec0xpgBY009xhgzYCzwG2PMgLHAb4wxA8YCvzHGDBgL/MYYM2As8BtjzICxwG+MMQPmfwLpwkbQ+Ut/+gAAAABJRU5ErkJggg==\n",
      "text/plain": [
       "<Figure size 432x288 with 1 Axes>"
      ]
     },
     "metadata": {
      "needs_background": "light"
     },
     "output_type": "display_data"
    },
    {
     "data": {
      "image/png": "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\n",
      "text/plain": [
       "<Figure size 432x288 with 1 Axes>"
      ]
     },
     "metadata": {
      "needs_background": "light"
     },
     "output_type": "display_data"
    }
   ],
   "source": [
    "for c in list:\n",
    "  sns.regplot(x = c, y ='Textiles', data = analysis_two_all_temp, scatter_kws ={'alpha': 0.5}) \n",
    "  plt.show()"
   ]
  },
  {
   "cell_type": "code",
   "execution_count": 46,
   "metadata": {},
   "outputs": [
    {
     "data": {
      "image/png": "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\n",
      "text/plain": [
       "<Figure size 432x288 with 1 Axes>"
      ]
     },
     "metadata": {
      "needs_background": "light"
     },
     "output_type": "display_data"
    },
    {
     "data": {
      "image/png": "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\n",
      "text/plain": [
       "<Figure size 432x288 with 1 Axes>"
      ]
     },
     "metadata": {
      "needs_background": "light"
     },
     "output_type": "display_data"
    },
    {
     "data": {
      "image/png": "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\n",
      "text/plain": [
       "<Figure size 432x288 with 1 Axes>"
      ]
     },
     "metadata": {
      "needs_background": "light"
     },
     "output_type": "display_data"
    },
    {
     "data": {
      "image/png": "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\n",
      "text/plain": [
       "<Figure size 432x288 with 1 Axes>"
      ]
     },
     "metadata": {
      "needs_background": "light"
     },
     "output_type": "display_data"
    },
    {
     "data": {
      "image/png": "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\n",
      "text/plain": [
       "<Figure size 432x288 with 1 Axes>"
      ]
     },
     "metadata": {
      "needs_background": "light"
     },
     "output_type": "display_data"
    }
   ],
   "source": [
    "for c in list:\n",
    "  sns.regplot(x = c, y ='Garments', data = analysis_two_all_temp, scatter_kws ={'alpha': 0.5}) \n",
    "  plt.show()"
   ]
  },
  {
   "cell_type": "code",
   "execution_count": 47,
   "metadata": {},
   "outputs": [
    {
     "data": {
      "image/png": "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\n",
      "text/plain": [
       "<Figure size 432x288 with 1 Axes>"
      ]
     },
     "metadata": {
      "needs_background": "light"
     },
     "output_type": "display_data"
    },
    {
     "data": {
      "image/png": "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\n",
      "text/plain": [
       "<Figure size 432x288 with 1 Axes>"
      ]
     },
     "metadata": {
      "needs_background": "light"
     },
     "output_type": "display_data"
    },
    {
     "data": {
      "image/png": "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\n",
      "text/plain": [
       "<Figure size 432x288 with 1 Axes>"
      ]
     },
     "metadata": {
      "needs_background": "light"
     },
     "output_type": "display_data"
    },
    {
     "data": {
      "image/png": "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\n",
      "text/plain": [
       "<Figure size 432x288 with 1 Axes>"
      ]
     },
     "metadata": {
      "needs_background": "light"
     },
     "output_type": "display_data"
    },
    {
     "data": {
      "image/png": "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\n",
      "text/plain": [
       "<Figure size 432x288 with 1 Axes>"
      ]
     },
     "metadata": {
      "needs_background": "light"
     },
     "output_type": "display_data"
    }
   ],
   "source": [
    "for c in list:\n",
    "  sns.regplot(x = c, y ='Cotton', data = analysis_two_all_temp, scatter_kws ={'alpha': 0.5}) \n",
    "  plt.show()"
   ]
  },
  {
   "cell_type": "code",
   "execution_count": 48,
   "metadata": {},
   "outputs": [
    {
     "data": {
      "image/png": "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\n",
      "text/plain": [
       "<Figure size 432x288 with 1 Axes>"
      ]
     },
     "metadata": {
      "needs_background": "light"
     },
     "output_type": "display_data"
    },
    {
     "data": {
      "image/png": "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\n",
      "text/plain": [
       "<Figure size 432x288 with 1 Axes>"
      ]
     },
     "metadata": {
      "needs_background": "light"
     },
     "output_type": "display_data"
    },
    {
     "data": {
      "image/png": "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\n",
      "text/plain": [
       "<Figure size 432x288 with 1 Axes>"
      ]
     },
     "metadata": {
      "needs_background": "light"
     },
     "output_type": "display_data"
    },
    {
     "data": {
      "image/png": "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\n",
      "text/plain": [
       "<Figure size 432x288 with 1 Axes>"
      ]
     },
     "metadata": {
      "needs_background": "light"
     },
     "output_type": "display_data"
    },
    {
     "data": {
      "image/png": "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\n",
      "text/plain": [
       "<Figure size 432x288 with 1 Axes>"
      ]
     },
     "metadata": {
      "needs_background": "light"
     },
     "output_type": "display_data"
    }
   ],
   "source": [
    "for c in list:\n",
    "  sns.regplot(x = c, y ='Clothing', data = analysis_two_all_temp, scatter_kws ={'alpha': 0.5}) \n",
    "  plt.show()"
   ]
  },
  {
>>>>>>> Stashed changes
   "cell_type": "markdown",
   "metadata": {},
   "source": [
    "In this cell, we are clustering the data. "
   ]
  },
  {
   "cell_type": "code",
   "execution_count": 56,
   "metadata": {},
   "outputs": [
    {
     "name": "stdout",
     "output_type": "stream",
     "text": [
      "[0 0 0 0 3]\n"
     ]
    },
    {
     "data": {
      "text/html": [
       "<div>\n",
       "<style scoped>\n",
       "    .dataframe tbody tr th:only-of-type {\n",
       "        vertical-align: middle;\n",
       "    }\n",
       "\n",
       "    .dataframe tbody tr th {\n",
       "        vertical-align: top;\n",
       "    }\n",
       "\n",
       "    .dataframe thead th {\n",
       "        text-align: right;\n",
       "    }\n",
       "</style>\n",
       "<table border=\"1\" class=\"dataframe\">\n",
       "  <thead>\n",
       "    <tr style=\"text-align: right;\">\n",
       "      <th></th>\n",
       "      <th>country</th>\n",
       "      <th>agriculture</th>\n",
       "      <th>energy</th>\n",
       "      <th>waste</th>\n",
       "      <th>industrial</th>\n",
       "      <th>bunker fuels</th>\n",
       "      <th>Time</th>\n",
       "      <th>PopTotal</th>\n",
       "      <th>hdi</th>\n",
       "      <th>Cotton</th>\n",
       "      <th>Clothing</th>\n",
       "      <th>Garments</th>\n",
       "      <th>Textiles</th>\n",
       "      <th>cluster_label</th>\n",
       "    </tr>\n",
       "  </thead>\n",
       "  <tbody>\n",
       "    <tr>\n",
       "      <th>0</th>\n",
       "      <td>Afghanistan</td>\n",
       "      <td>0.001772</td>\n",
       "      <td>-0.000107</td>\n",
       "      <td>-0.000021</td>\n",
       "      <td>0.000014</td>\n",
       "      <td>-0.000034</td>\n",
       "      <td>2019</td>\n",
       "      <td>38041.757</td>\n",
       "      <td>0.511</td>\n",
       "      <td>NaN</td>\n",
       "      <td>NaN</td>\n",
       "      <td>NaN</td>\n",
       "      <td>2.0</td>\n",
       "      <td>0</td>\n",
       "    </tr>\n",
       "    <tr>\n",
       "      <th>1</th>\n",
       "      <td>Albania</td>\n",
       "      <td>0.000753</td>\n",
       "      <td>0.000236</td>\n",
       "      <td>0.000330</td>\n",
       "      <td>0.000017</td>\n",
       "      <td>-0.000010</td>\n",
       "      <td>2019</td>\n",
       "      <td>2880.913</td>\n",
       "      <td>0.795</td>\n",
       "      <td>NaN</td>\n",
       "      <td>2.0</td>\n",
       "      <td>NaN</td>\n",
       "      <td>NaN</td>\n",
       "      <td>0</td>\n",
       "    </tr>\n",
       "    <tr>\n",
       "      <th>2</th>\n",
       "      <td>Algeria</td>\n",
       "      <td>0.001357</td>\n",
       "      <td>-0.000403</td>\n",
       "      <td>-0.000009</td>\n",
       "      <td>0.000130</td>\n",
       "      <td>0.000013</td>\n",
       "      <td>2019</td>\n",
       "      <td>43053.054</td>\n",
       "      <td>0.748</td>\n",
       "      <td>NaN</td>\n",
       "      <td>NaN</td>\n",
       "      <td>NaN</td>\n",
       "      <td>NaN</td>\n",
       "      <td>0</td>\n",
       "    </tr>\n",
       "    <tr>\n",
       "      <th>3</th>\n",
       "      <td>Andorra</td>\n",
       "      <td>-0.000648</td>\n",
       "      <td>0.001944</td>\n",
       "      <td>0.001037</td>\n",
       "      <td>0.000000</td>\n",
       "      <td>0.000000</td>\n",
       "      <td>2019</td>\n",
       "      <td>77.146</td>\n",
       "      <td>0.868</td>\n",
       "      <td>NaN</td>\n",
       "      <td>NaN</td>\n",
       "      <td>NaN</td>\n",
       "      <td>NaN</td>\n",
       "      <td>0</td>\n",
       "    </tr>\n",
       "    <tr>\n",
       "      <th>4</th>\n",
       "      <td>Angola</td>\n",
       "      <td>0.000038</td>\n",
       "      <td>0.002020</td>\n",
       "      <td>-0.000068</td>\n",
       "      <td>0.000036</td>\n",
       "      <td>0.000050</td>\n",
       "      <td>2019</td>\n",
       "      <td>31825.299</td>\n",
       "      <td>0.581</td>\n",
       "      <td>NaN</td>\n",
       "      <td>NaN</td>\n",
       "      <td>NaN</td>\n",
       "      <td>5.0</td>\n",
       "      <td>3</td>\n",
       "    </tr>\n",
       "    <tr>\n",
       "      <th>5</th>\n",
       "      <td>Antigua and Barbuda</td>\n",
       "      <td>0.002471</td>\n",
       "      <td>0.001236</td>\n",
       "      <td>0.002162</td>\n",
       "      <td>0.000103</td>\n",
       "      <td>0.000103</td>\n",
       "      <td>2019</td>\n",
       "      <td>97.115</td>\n",
       "      <td>0.778</td>\n",
       "      <td>NaN</td>\n",
       "      <td>3.0</td>\n",
       "      <td>NaN</td>\n",
       "      <td>NaN</td>\n",
       "      <td>4</td>\n",
       "    </tr>\n",
       "    <tr>\n",
       "      <th>6</th>\n",
       "      <td>Argentina</td>\n",
       "      <td>-0.001060</td>\n",
       "      <td>0.000660</td>\n",
       "      <td>0.000067</td>\n",
       "      <td>0.000132</td>\n",
       "      <td>0.000036</td>\n",
       "      <td>2019</td>\n",
       "      <td>44780.675</td>\n",
       "      <td>0.845</td>\n",
       "      <td>NaN</td>\n",
       "      <td>NaN</td>\n",
       "      <td>NaN</td>\n",
       "      <td>4.0</td>\n",
       "      <td>3</td>\n",
       "    </tr>\n",
       "    <tr>\n",
       "      <th>7</th>\n",
       "      <td>Armenia</td>\n",
       "      <td>0.000098</td>\n",
       "      <td>0.000446</td>\n",
       "      <td>0.000412</td>\n",
       "      <td>0.000024</td>\n",
       "      <td>NaN</td>\n",
       "      <td>2019</td>\n",
       "      <td>2957.728</td>\n",
       "      <td>0.776</td>\n",
       "      <td>NaN</td>\n",
       "      <td>NaN</td>\n",
       "      <td>NaN</td>\n",
       "      <td>NaN</td>\n",
       "      <td>0</td>\n",
       "    </tr>\n",
       "    <tr>\n",
       "      <th>8</th>\n",
       "      <td>Australia</td>\n",
       "      <td>0.000086</td>\n",
       "      <td>0.000045</td>\n",
       "      <td>-0.000191</td>\n",
       "      <td>0.000419</td>\n",
       "      <td>0.000149</td>\n",
       "      <td>2019</td>\n",
       "      <td>25203.200</td>\n",
       "      <td>0.944</td>\n",
       "      <td>NaN</td>\n",
       "      <td>NaN</td>\n",
       "      <td>NaN</td>\n",
       "      <td>NaN</td>\n",
       "      <td>0</td>\n",
       "    </tr>\n",
       "    <tr>\n",
       "      <th>9</th>\n",
       "      <td>Austria</td>\n",
       "      <td>-0.001110</td>\n",
       "      <td>-0.000243</td>\n",
       "      <td>0.000026</td>\n",
       "      <td>-0.000031</td>\n",
       "      <td>0.000037</td>\n",
       "      <td>2019</td>\n",
       "      <td>8955.108</td>\n",
       "      <td>0.922</td>\n",
       "      <td>NaN</td>\n",
       "      <td>NaN</td>\n",
       "      <td>NaN</td>\n",
       "      <td>NaN</td>\n",
       "      <td>0</td>\n",
       "    </tr>\n",
       "    <tr>\n",
       "      <th>10</th>\n",
       "      <td>Azerbaijan</td>\n",
       "      <td>0.000634</td>\n",
       "      <td>-0.000743</td>\n",
       "      <td>-0.000013</td>\n",
       "      <td>0.000127</td>\n",
       "      <td>0.000032</td>\n",
       "      <td>2019</td>\n",
       "      <td>10047.719</td>\n",
       "      <td>0.756</td>\n",
       "      <td>NaN</td>\n",
       "      <td>NaN</td>\n",
       "      <td>NaN</td>\n",
       "      <td>5.0</td>\n",
       "      <td>3</td>\n",
       "    </tr>\n",
       "    <tr>\n",
       "      <th>11</th>\n",
       "      <td>Bahamas</td>\n",
       "      <td>0.000436</td>\n",
       "      <td>-0.001181</td>\n",
       "      <td>0.000513</td>\n",
       "      <td>0.000103</td>\n",
       "      <td>0.000026</td>\n",
       "      <td>2019</td>\n",
       "      <td>389.486</td>\n",
       "      <td>0.814</td>\n",
       "      <td>NaN</td>\n",
       "      <td>NaN</td>\n",
       "      <td>NaN</td>\n",
       "      <td>NaN</td>\n",
       "      <td>0</td>\n",
       "    </tr>\n",
       "    <tr>\n",
       "      <th>12</th>\n",
       "      <td>Bahrain</td>\n",
       "      <td>0.007629</td>\n",
       "      <td>0.002827</td>\n",
       "      <td>0.000006</td>\n",
       "      <td>0.000219</td>\n",
       "      <td>-0.000122</td>\n",
       "      <td>2019</td>\n",
       "      <td>1641.164</td>\n",
       "      <td>0.852</td>\n",
       "      <td>NaN</td>\n",
       "      <td>NaN</td>\n",
       "      <td>NaN</td>\n",
       "      <td>NaN</td>\n",
       "      <td>0</td>\n",
       "    </tr>\n",
       "    <tr>\n",
       "      <th>13</th>\n",
       "      <td>Bangladesh</td>\n",
       "      <td>0.000327</td>\n",
       "      <td>0.000178</td>\n",
       "      <td>-0.000006</td>\n",
       "      <td>-0.000010</td>\n",
       "      <td>-0.000006</td>\n",
       "      <td>2019</td>\n",
       "      <td>163046.173</td>\n",
       "      <td>0.632</td>\n",
       "      <td>2.0</td>\n",
       "      <td>NaN</td>\n",
       "      <td>3.0</td>\n",
       "      <td>NaN</td>\n",
       "      <td>0</td>\n",
       "    </tr>\n",
       "    <tr>\n",
       "      <th>14</th>\n",
       "      <td>Barbados</td>\n",
       "      <td>-0.001324</td>\n",
       "      <td>-0.004111</td>\n",
       "      <td>0.001638</td>\n",
       "      <td>0.000070</td>\n",
       "      <td>0.000000</td>\n",
       "      <td>2019</td>\n",
       "      <td>287.021</td>\n",
       "      <td>0.814</td>\n",
       "      <td>NaN</td>\n",
       "      <td>NaN</td>\n",
       "      <td>NaN</td>\n",
       "      <td>NaN</td>\n",
       "      <td>0</td>\n",
       "    </tr>\n",
       "  </tbody>\n",
       "</table>\n",
       "</div>"
      ],
      "text/plain": [
       "                country  agriculture    energy     waste  industrial  \\\n",
       "0           Afghanistan     0.001772 -0.000107 -0.000021    0.000014   \n",
       "1               Albania     0.000753  0.000236  0.000330    0.000017   \n",
       "2               Algeria     0.001357 -0.000403 -0.000009    0.000130   \n",
       "3               Andorra    -0.000648  0.001944  0.001037    0.000000   \n",
       "4                Angola     0.000038  0.002020 -0.000068    0.000036   \n",
       "5   Antigua and Barbuda     0.002471  0.001236  0.002162    0.000103   \n",
       "6             Argentina    -0.001060  0.000660  0.000067    0.000132   \n",
       "7               Armenia     0.000098  0.000446  0.000412    0.000024   \n",
       "8             Australia     0.000086  0.000045 -0.000191    0.000419   \n",
       "9               Austria    -0.001110 -0.000243  0.000026   -0.000031   \n",
       "10           Azerbaijan     0.000634 -0.000743 -0.000013    0.000127   \n",
       "11              Bahamas     0.000436 -0.001181  0.000513    0.000103   \n",
       "12              Bahrain     0.007629  0.002827  0.000006    0.000219   \n",
       "13           Bangladesh     0.000327  0.000178 -0.000006   -0.000010   \n",
       "14             Barbados    -0.001324 -0.004111  0.001638    0.000070   \n",
       "\n",
       "    bunker fuels  Time    PopTotal    hdi  Cotton  Clothing  Garments  \\\n",
       "0      -0.000034  2019   38041.757  0.511     NaN       NaN       NaN   \n",
       "1      -0.000010  2019    2880.913  0.795     NaN       2.0       NaN   \n",
       "2       0.000013  2019   43053.054  0.748     NaN       NaN       NaN   \n",
       "3       0.000000  2019      77.146  0.868     NaN       NaN       NaN   \n",
       "4       0.000050  2019   31825.299  0.581     NaN       NaN       NaN   \n",
       "5       0.000103  2019      97.115  0.778     NaN       3.0       NaN   \n",
       "6       0.000036  2019   44780.675  0.845     NaN       NaN       NaN   \n",
       "7            NaN  2019    2957.728  0.776     NaN       NaN       NaN   \n",
       "8       0.000149  2019   25203.200  0.944     NaN       NaN       NaN   \n",
       "9       0.000037  2019    8955.108  0.922     NaN       NaN       NaN   \n",
       "10      0.000032  2019   10047.719  0.756     NaN       NaN       NaN   \n",
       "11      0.000026  2019     389.486  0.814     NaN       NaN       NaN   \n",
       "12     -0.000122  2019    1641.164  0.852     NaN       NaN       NaN   \n",
       "13     -0.000006  2019  163046.173  0.632     2.0       NaN       3.0   \n",
       "14      0.000000  2019     287.021  0.814     NaN       NaN       NaN   \n",
       "\n",
       "    Textiles  cluster_label  \n",
       "0        2.0              0  \n",
       "1        NaN              0  \n",
       "2        NaN              0  \n",
       "3        NaN              0  \n",
       "4        5.0              3  \n",
       "5        NaN              4  \n",
       "6        4.0              3  \n",
       "7        NaN              0  \n",
       "8        NaN              0  \n",
       "9        NaN              0  \n",
       "10       5.0              3  \n",
       "11       NaN              0  \n",
       "12       NaN              0  \n",
       "13       NaN              0  \n",
       "14       NaN              0  "
      ]
     },
     "execution_count": 56,
     "metadata": {},
     "output_type": "execute_result"
    }
   ],
   "source": [
    "clustering = KMeans(n_clusters = 5, random_state = 15)\n",
    "KM = clustering.fit(analysis_two_all_temp)\n",
    "KM.cluster_centers_\n",
    "\n",
    "cluster_labels = KM.labels_\n",
    "print(cluster_labels[:5])\n",
    "analysis_two_all[\"cluster_label\"] = cluster_labels\n",
    "analysis_two_all.head(15)\n"
   ]
  },
  {
   "cell_type": "code",
   "execution_count": 60,
   "metadata": {},
   "outputs": [
    {
     "data": {
      "text/html": [
       "<div>\n",
       "<style scoped>\n",
       "    .dataframe tbody tr th:only-of-type {\n",
       "        vertical-align: middle;\n",
       "    }\n",
       "\n",
       "    .dataframe tbody tr th {\n",
       "        vertical-align: top;\n",
       "    }\n",
       "\n",
       "    .dataframe thead th {\n",
       "        text-align: right;\n",
       "    }\n",
       "</style>\n",
       "<table border=\"1\" class=\"dataframe\">\n",
       "  <thead>\n",
       "    <tr style=\"text-align: right;\">\n",
       "      <th></th>\n",
       "      <th>country</th>\n",
       "      <th>agriculture</th>\n",
       "      <th>energy</th>\n",
       "      <th>waste</th>\n",
       "      <th>industrial</th>\n",
       "      <th>bunker fuels</th>\n",
       "      <th>Time</th>\n",
       "      <th>PopTotal</th>\n",
       "      <th>hdi</th>\n",
       "      <th>Cotton</th>\n",
       "      <th>Clothing</th>\n",
       "      <th>Garments</th>\n",
       "      <th>Textiles</th>\n",
       "    </tr>\n",
       "    <tr>\n",
       "      <th>cluster_label</th>\n",
       "      <th></th>\n",
       "      <th></th>\n",
       "      <th></th>\n",
       "      <th></th>\n",
       "      <th></th>\n",
       "      <th></th>\n",
       "      <th></th>\n",
       "      <th></th>\n",
       "      <th></th>\n",
       "      <th></th>\n",
       "      <th></th>\n",
       "      <th></th>\n",
       "      <th></th>\n",
       "    </tr>\n",
       "  </thead>\n",
       "  <tbody>\n",
       "    <tr>\n",
       "      <th>0</th>\n",
       "      <td>99</td>\n",
       "      <td>99</td>\n",
       "      <td>99</td>\n",
       "      <td>99</td>\n",
       "      <td>97</td>\n",
       "      <td>86</td>\n",
       "      <td>99</td>\n",
       "      <td>99</td>\n",
       "      <td>91</td>\n",
       "      <td>4</td>\n",
       "      <td>5</td>\n",
       "      <td>2</td>\n",
       "      <td>20</td>\n",
       "    </tr>\n",
       "    <tr>\n",
       "      <th>1</th>\n",
       "      <td>17</td>\n",
       "      <td>17</td>\n",
       "      <td>17</td>\n",
       "      <td>15</td>\n",
       "      <td>17</td>\n",
       "      <td>16</td>\n",
       "      <td>17</td>\n",
       "      <td>17</td>\n",
       "      <td>17</td>\n",
       "      <td>1</td>\n",
       "      <td>0</td>\n",
       "      <td>1</td>\n",
       "      <td>17</td>\n",
       "    </tr>\n",
       "    <tr>\n",
       "      <th>2</th>\n",
       "      <td>6</td>\n",
       "      <td>6</td>\n",
       "      <td>6</td>\n",
       "      <td>6</td>\n",
       "      <td>6</td>\n",
       "      <td>6</td>\n",
       "      <td>6</td>\n",
       "      <td>6</td>\n",
       "      <td>6</td>\n",
       "      <td>0</td>\n",
       "      <td>6</td>\n",
       "      <td>0</td>\n",
       "      <td>6</td>\n",
       "    </tr>\n",
       "    <tr>\n",
       "      <th>3</th>\n",
       "      <td>41</td>\n",
       "      <td>41</td>\n",
       "      <td>41</td>\n",
       "      <td>41</td>\n",
       "      <td>41</td>\n",
       "      <td>40</td>\n",
       "      <td>41</td>\n",
       "      <td>41</td>\n",
       "      <td>41</td>\n",
       "      <td>3</td>\n",
       "      <td>0</td>\n",
       "      <td>2</td>\n",
       "      <td>41</td>\n",
       "    </tr>\n",
       "    <tr>\n",
       "      <th>4</th>\n",
       "      <td>13</td>\n",
       "      <td>13</td>\n",
       "      <td>13</td>\n",
       "      <td>13</td>\n",
       "      <td>13</td>\n",
       "      <td>12</td>\n",
       "      <td>13</td>\n",
       "      <td>13</td>\n",
       "      <td>13</td>\n",
       "      <td>1</td>\n",
       "      <td>13</td>\n",
       "      <td>0</td>\n",
       "      <td>5</td>\n",
       "    </tr>\n",
       "  </tbody>\n",
       "</table>\n",
       "</div>"
      ],
      "text/plain": [
       "               country  agriculture  energy  waste  industrial  bunker fuels  \\\n",
       "cluster_label                                                                  \n",
       "0                   99           99      99     99          97            86   \n",
       "1                   17           17      17     15          17            16   \n",
       "2                    6            6       6      6           6             6   \n",
       "3                   41           41      41     41          41            40   \n",
       "4                   13           13      13     13          13            12   \n",
       "\n",
       "               Time  PopTotal  hdi  Cotton  Clothing  Garments  Textiles  \n",
       "cluster_label                                                             \n",
       "0                99        99   91       4         5         2        20  \n",
       "1                17        17   17       1         0         1        17  \n",
       "2                 6         6    6       0         6         0         6  \n",
       "3                41        41   41       3         0         2        41  \n",
       "4                13        13   13       1        13         0         5  "
      ]
     },
     "execution_count": 60,
     "metadata": {},
     "output_type": "execute_result"
    }
   ],
   "source": [
    "analysis_two_all.groupby('cluster_label').count()"
   ]
  },
  {
   "cell_type": "code",
   "execution_count": 57,
   "metadata": {},
   "outputs": [
    {
     "data": {
      "text/html": [
       "<div>\n",
       "<style scoped>\n",
       "    .dataframe tbody tr th:only-of-type {\n",
       "        vertical-align: middle;\n",
       "    }\n",
       "\n",
       "    .dataframe tbody tr th {\n",
       "        vertical-align: top;\n",
       "    }\n",
       "\n",
       "    .dataframe thead th {\n",
       "        text-align: right;\n",
       "    }\n",
       "</style>\n",
       "<table border=\"1\" class=\"dataframe\">\n",
       "  <thead>\n",
       "    <tr style=\"text-align: right;\">\n",
       "      <th></th>\n",
       "      <th>agriculture</th>\n",
       "      <th>energy</th>\n",
       "      <th>waste</th>\n",
       "      <th>industrial</th>\n",
       "      <th>bunker fuels</th>\n",
       "      <th>Time</th>\n",
       "      <th>PopTotal</th>\n",
       "      <th>hdi</th>\n",
       "      <th>Cotton</th>\n",
       "      <th>Clothing</th>\n",
       "      <th>Garments</th>\n",
       "      <th>Textiles</th>\n",
       "    </tr>\n",
       "    <tr>\n",
       "      <th>cluster_label</th>\n",
       "      <th></th>\n",
       "      <th></th>\n",
       "      <th></th>\n",
       "      <th></th>\n",
       "      <th></th>\n",
       "      <th></th>\n",
       "      <th></th>\n",
       "      <th></th>\n",
       "      <th></th>\n",
       "      <th></th>\n",
       "      <th></th>\n",
       "      <th></th>\n",
       "    </tr>\n",
       "  </thead>\n",
       "  <tbody>\n",
       "    <tr>\n",
       "      <th>0</th>\n",
       "      <td>0.001672</td>\n",
       "      <td>0.000063</td>\n",
       "      <td>0.000172</td>\n",
       "      <td>0.000058</td>\n",
       "      <td>0.000046</td>\n",
       "      <td>2019</td>\n",
       "      <td>36050.732960</td>\n",
       "      <td>0.710330</td>\n",
       "      <td>2.000000</td>\n",
       "      <td>1.800000</td>\n",
       "      <td>2.5</td>\n",
       "      <td>1.450000</td>\n",
       "    </tr>\n",
       "    <tr>\n",
       "      <th>1</th>\n",
       "      <td>0.000544</td>\n",
       "      <td>0.000515</td>\n",
       "      <td>0.000479</td>\n",
       "      <td>0.000068</td>\n",
       "      <td>-0.000003</td>\n",
       "      <td>2019</td>\n",
       "      <td>25624.393412</td>\n",
       "      <td>0.814353</td>\n",
       "      <td>11.000000</td>\n",
       "      <td>NaN</td>\n",
       "      <td>2.0</td>\n",
       "      <td>9.764706</td>\n",
       "    </tr>\n",
       "    <tr>\n",
       "      <th>2</th>\n",
       "      <td>-0.000687</td>\n",
       "      <td>0.000695</td>\n",
       "      <td>-0.000026</td>\n",
       "      <td>0.000016</td>\n",
       "      <td>0.000038</td>\n",
       "      <td>2019</td>\n",
       "      <td>49911.713333</td>\n",
       "      <td>0.876333</td>\n",
       "      <td>NaN</td>\n",
       "      <td>10.166667</td>\n",
       "      <td>NaN</td>\n",
       "      <td>9.166667</td>\n",
       "    </tr>\n",
       "    <tr>\n",
       "      <th>3</th>\n",
       "      <td>0.000494</td>\n",
       "      <td>0.000325</td>\n",
       "      <td>-0.000170</td>\n",
       "      <td>0.000048</td>\n",
       "      <td>0.000035</td>\n",
       "      <td>2019</td>\n",
       "      <td>58008.633878</td>\n",
       "      <td>0.689878</td>\n",
       "      <td>2.333333</td>\n",
       "      <td>NaN</td>\n",
       "      <td>6.0</td>\n",
       "      <td>4.780488</td>\n",
       "    </tr>\n",
       "    <tr>\n",
       "      <th>4</th>\n",
       "      <td>0.000745</td>\n",
       "      <td>0.000445</td>\n",
       "      <td>0.000504</td>\n",
       "      <td>0.000066</td>\n",
       "      <td>0.000019</td>\n",
       "      <td>2019</td>\n",
       "      <td>8474.097308</td>\n",
       "      <td>0.719308</td>\n",
       "      <td>2.000000</td>\n",
       "      <td>4.615385</td>\n",
       "      <td>NaN</td>\n",
       "      <td>2.600000</td>\n",
       "    </tr>\n",
       "  </tbody>\n",
       "</table>\n",
       "</div>"
      ],
      "text/plain": [
       "               agriculture    energy     waste  industrial  bunker fuels  \\\n",
       "cluster_label                                                              \n",
       "0                 0.001672  0.000063  0.000172    0.000058      0.000046   \n",
       "1                 0.000544  0.000515  0.000479    0.000068     -0.000003   \n",
       "2                -0.000687  0.000695 -0.000026    0.000016      0.000038   \n",
       "3                 0.000494  0.000325 -0.000170    0.000048      0.000035   \n",
       "4                 0.000745  0.000445  0.000504    0.000066      0.000019   \n",
       "\n",
       "               Time      PopTotal       hdi     Cotton   Clothing  Garments  \\\n",
       "cluster_label                                                                 \n",
       "0              2019  36050.732960  0.710330   2.000000   1.800000       2.5   \n",
       "1              2019  25624.393412  0.814353  11.000000        NaN       2.0   \n",
       "2              2019  49911.713333  0.876333        NaN  10.166667       NaN   \n",
       "3              2019  58008.633878  0.689878   2.333333        NaN       6.0   \n",
       "4              2019   8474.097308  0.719308   2.000000   4.615385       NaN   \n",
       "\n",
       "               Textiles  \n",
       "cluster_label            \n",
       "0              1.450000  \n",
       "1              9.764706  \n",
       "2              9.166667  \n",
       "3              4.780488  \n",
       "4              2.600000  "
      ]
     },
     "execution_count": 57,
     "metadata": {},
     "output_type": "execute_result"
    }
   ],
   "source": [
    "analysis_two_all.groupby('cluster_label').mean()"
   ]
  },
  {
   "cell_type": "code",
   "execution_count": 58,
   "metadata": {},
   "outputs": [
    {
     "data": {
      "text/html": [
       "<div>\n",
       "<style scoped>\n",
       "    .dataframe tbody tr th:only-of-type {\n",
       "        vertical-align: middle;\n",
       "    }\n",
       "\n",
       "    .dataframe tbody tr th {\n",
       "        vertical-align: top;\n",
       "    }\n",
       "\n",
       "    .dataframe thead th {\n",
       "        text-align: right;\n",
       "    }\n",
       "</style>\n",
       "<table border=\"1\" class=\"dataframe\">\n",
       "  <thead>\n",
       "    <tr style=\"text-align: right;\">\n",
       "      <th></th>\n",
       "      <th>country</th>\n",
       "      <th>agriculture</th>\n",
       "      <th>energy</th>\n",
       "      <th>waste</th>\n",
       "      <th>industrial</th>\n",
       "      <th>bunker fuels</th>\n",
       "      <th>Time</th>\n",
       "      <th>PopTotal</th>\n",
       "      <th>hdi</th>\n",
       "      <th>Cotton</th>\n",
       "      <th>Clothing</th>\n",
       "      <th>Garments</th>\n",
       "      <th>Textiles</th>\n",
       "    </tr>\n",
       "    <tr>\n",
       "      <th>cluster_label</th>\n",
       "      <th></th>\n",
       "      <th></th>\n",
       "      <th></th>\n",
       "      <th></th>\n",
       "      <th></th>\n",
       "      <th></th>\n",
       "      <th></th>\n",
       "      <th></th>\n",
       "      <th></th>\n",
       "      <th></th>\n",
       "      <th></th>\n",
       "      <th></th>\n",
       "      <th></th>\n",
       "    </tr>\n",
       "  </thead>\n",
       "  <tbody>\n",
       "    <tr>\n",
       "      <th>0</th>\n",
       "      <td>Afghanistan</td>\n",
       "      <td>-0.006312</td>\n",
       "      <td>-0.009772</td>\n",
       "      <td>-9.412631e-03</td>\n",
       "      <td>-0.000488</td>\n",
       "      <td>-0.000144</td>\n",
       "      <td>2019</td>\n",
       "      <td>1.614</td>\n",
       "      <td>0.397</td>\n",
       "      <td>2.0</td>\n",
       "      <td>1.0</td>\n",
       "      <td>2.0</td>\n",
       "      <td>1.0</td>\n",
       "    </tr>\n",
       "    <tr>\n",
       "      <th>1</th>\n",
       "      <td>Belarus</td>\n",
       "      <td>-0.002484</td>\n",
       "      <td>-0.004064</td>\n",
       "      <td>-4.111083e-03</td>\n",
       "      <td>-0.000097</td>\n",
       "      <td>-0.000333</td>\n",
       "      <td>2019</td>\n",
       "      <td>1394.969</td>\n",
       "      <td>0.539</td>\n",
       "      <td>11.0</td>\n",
       "      <td>NaN</td>\n",
       "      <td>2.0</td>\n",
       "      <td>8.0</td>\n",
       "    </tr>\n",
       "    <tr>\n",
       "      <th>2</th>\n",
       "      <td>Denmark</td>\n",
       "      <td>-0.003022</td>\n",
       "      <td>-0.000393</td>\n",
       "      <td>-1.245250e-04</td>\n",
       "      <td>-0.000234</td>\n",
       "      <td>-0.000073</td>\n",
       "      <td>2019</td>\n",
       "      <td>5532.159</td>\n",
       "      <td>0.777</td>\n",
       "      <td>NaN</td>\n",
       "      <td>8.0</td>\n",
       "      <td>NaN</td>\n",
       "      <td>6.0</td>\n",
       "    </tr>\n",
       "    <tr>\n",
       "      <th>3</th>\n",
       "      <td>Angola</td>\n",
       "      <td>-0.005220</td>\n",
       "      <td>-0.003975</td>\n",
       "      <td>-9.136611e-03</td>\n",
       "      <td>-0.000442</td>\n",
       "      <td>-0.000074</td>\n",
       "      <td>2019</td>\n",
       "      <td>782.775</td>\n",
       "      <td>0.394</td>\n",
       "      <td>1.0</td>\n",
       "      <td>NaN</td>\n",
       "      <td>5.0</td>\n",
       "      <td>3.0</td>\n",
       "    </tr>\n",
       "    <tr>\n",
       "      <th>4</th>\n",
       "      <td>Antigua and Barbuda</td>\n",
       "      <td>-0.002384</td>\n",
       "      <td>-0.000284</td>\n",
       "      <td>9.899327e-07</td>\n",
       "      <td>0.000000</td>\n",
       "      <td>-0.000045</td>\n",
       "      <td>2019</td>\n",
       "      <td>52.834</td>\n",
       "      <td>0.459</td>\n",
       "      <td>2.0</td>\n",
       "      <td>3.0</td>\n",
       "      <td>NaN</td>\n",
       "      <td>1.0</td>\n",
       "    </tr>\n",
       "  </tbody>\n",
       "</table>\n",
       "</div>"
      ],
      "text/plain": [
       "                           country  agriculture    energy         waste  \\\n",
       "cluster_label                                                             \n",
       "0                      Afghanistan    -0.006312 -0.009772 -9.412631e-03   \n",
       "1                          Belarus    -0.002484 -0.004064 -4.111083e-03   \n",
       "2                          Denmark    -0.003022 -0.000393 -1.245250e-04   \n",
       "3                           Angola    -0.005220 -0.003975 -9.136611e-03   \n",
       "4              Antigua and Barbuda    -0.002384 -0.000284  9.899327e-07   \n",
       "\n",
       "               industrial  bunker fuels  Time  PopTotal    hdi  Cotton  \\\n",
       "cluster_label                                                            \n",
       "0               -0.000488     -0.000144  2019     1.614  0.397     2.0   \n",
       "1               -0.000097     -0.000333  2019  1394.969  0.539    11.0   \n",
       "2               -0.000234     -0.000073  2019  5532.159  0.777     NaN   \n",
       "3               -0.000442     -0.000074  2019   782.775  0.394     1.0   \n",
       "4                0.000000     -0.000045  2019    52.834  0.459     2.0   \n",
       "\n",
       "               Clothing  Garments  Textiles  \n",
       "cluster_label                                \n",
       "0                   1.0       2.0       1.0  \n",
       "1                   NaN       2.0       8.0  \n",
       "2                   8.0       NaN       6.0  \n",
       "3                   NaN       5.0       3.0  \n",
       "4                   3.0       NaN       1.0  "
      ]
     },
     "execution_count": 58,
     "metadata": {},
     "output_type": "execute_result"
    }
   ],
   "source": [
    "analysis_two_all.groupby('cluster_label').min()"
   ]
  },
  {
   "cell_type": "code",
<<<<<<< Updated upstream
   "execution_count": null,
   "metadata": {},
   "outputs": [],
=======
   "execution_count": 59,
   "metadata": {},
   "outputs": [
    {
     "data": {
      "text/html": [
       "<div>\n",
       "<style scoped>\n",
       "    .dataframe tbody tr th:only-of-type {\n",
       "        vertical-align: middle;\n",
       "    }\n",
       "\n",
       "    .dataframe tbody tr th {\n",
       "        vertical-align: top;\n",
       "    }\n",
       "\n",
       "    .dataframe thead th {\n",
       "        text-align: right;\n",
       "    }\n",
       "</style>\n",
       "<table border=\"1\" class=\"dataframe\">\n",
       "  <thead>\n",
       "    <tr style=\"text-align: right;\">\n",
       "      <th></th>\n",
       "      <th>country</th>\n",
       "      <th>agriculture</th>\n",
       "      <th>energy</th>\n",
       "      <th>waste</th>\n",
       "      <th>industrial</th>\n",
       "      <th>bunker fuels</th>\n",
       "      <th>Time</th>\n",
       "      <th>PopTotal</th>\n",
       "      <th>hdi</th>\n",
       "      <th>Cotton</th>\n",
       "      <th>Clothing</th>\n",
       "      <th>Garments</th>\n",
       "      <th>Textiles</th>\n",
       "    </tr>\n",
       "    <tr>\n",
       "      <th>cluster_label</th>\n",
       "      <th></th>\n",
       "      <th></th>\n",
       "      <th></th>\n",
       "      <th></th>\n",
       "      <th></th>\n",
       "      <th></th>\n",
       "      <th></th>\n",
       "      <th></th>\n",
       "      <th></th>\n",
       "      <th></th>\n",
       "      <th></th>\n",
       "      <th></th>\n",
       "      <th></th>\n",
       "    </tr>\n",
       "  </thead>\n",
       "  <tbody>\n",
       "    <tr>\n",
       "      <th>0</th>\n",
       "      <td>Yemen</td>\n",
       "      <td>0.065615</td>\n",
       "      <td>0.007655</td>\n",
       "      <td>0.003922</td>\n",
       "      <td>0.000419</td>\n",
       "      <td>0.000858</td>\n",
       "      <td>2019</td>\n",
       "      <td>1366417.756</td>\n",
       "      <td>0.955</td>\n",
       "      <td>2.0</td>\n",
       "      <td>2.0</td>\n",
       "      <td>3.0</td>\n",
       "      <td>2.0</td>\n",
       "    </tr>\n",
       "    <tr>\n",
       "      <th>1</th>\n",
       "      <td>United Arab Emirates</td>\n",
       "      <td>0.006484</td>\n",
       "      <td>0.001878</td>\n",
       "      <td>0.010998</td>\n",
       "      <td>0.000471</td>\n",
       "      <td>0.000122</td>\n",
       "      <td>2019</td>\n",
       "      <td>200963.603</td>\n",
       "      <td>0.957</td>\n",
       "      <td>11.0</td>\n",
       "      <td>NaN</td>\n",
       "      <td>2.0</td>\n",
       "      <td>15.0</td>\n",
       "    </tr>\n",
       "    <tr>\n",
       "      <th>2</th>\n",
       "      <td>United Kingdom</td>\n",
       "      <td>0.001375</td>\n",
       "      <td>0.001623</td>\n",
       "      <td>0.000031</td>\n",
       "      <td>0.000224</td>\n",
       "      <td>0.000161</td>\n",
       "      <td>2019</td>\n",
       "      <td>127575.529</td>\n",
       "      <td>0.940</td>\n",
       "      <td>NaN</td>\n",
       "      <td>16.0</td>\n",
       "      <td>NaN</td>\n",
       "      <td>15.0</td>\n",
       "    </tr>\n",
       "    <tr>\n",
       "      <th>3</th>\n",
       "      <td>Zambia</td>\n",
       "      <td>0.008023</td>\n",
       "      <td>0.002212</td>\n",
       "      <td>0.000739</td>\n",
       "      <td>0.000332</td>\n",
       "      <td>0.000446</td>\n",
       "      <td>2019</td>\n",
       "      <td>1433783.692</td>\n",
       "      <td>0.955</td>\n",
       "      <td>4.0</td>\n",
       "      <td>NaN</td>\n",
       "      <td>7.0</td>\n",
       "      <td>7.0</td>\n",
       "    </tr>\n",
       "    <tr>\n",
       "      <th>4</th>\n",
       "      <td>Zimbabwe</td>\n",
       "      <td>0.005696</td>\n",
       "      <td>0.002000</td>\n",
       "      <td>0.002162</td>\n",
       "      <td>0.000189</td>\n",
       "      <td>0.000103</td>\n",
       "      <td>2019</td>\n",
       "      <td>50339.443</td>\n",
       "      <td>0.895</td>\n",
       "      <td>2.0</td>\n",
       "      <td>9.0</td>\n",
       "      <td>NaN</td>\n",
       "      <td>4.0</td>\n",
       "    </tr>\n",
       "  </tbody>\n",
       "</table>\n",
       "</div>"
      ],
      "text/plain": [
       "                            country  agriculture    energy     waste  \\\n",
       "cluster_label                                                          \n",
       "0                             Yemen     0.065615  0.007655  0.003922   \n",
       "1              United Arab Emirates     0.006484  0.001878  0.010998   \n",
       "2                    United Kingdom     0.001375  0.001623  0.000031   \n",
       "3                            Zambia     0.008023  0.002212  0.000739   \n",
       "4                          Zimbabwe     0.005696  0.002000  0.002162   \n",
       "\n",
       "               industrial  bunker fuels  Time     PopTotal    hdi  Cotton  \\\n",
       "cluster_label                                                               \n",
       "0                0.000419      0.000858  2019  1366417.756  0.955     2.0   \n",
       "1                0.000471      0.000122  2019   200963.603  0.957    11.0   \n",
       "2                0.000224      0.000161  2019   127575.529  0.940     NaN   \n",
       "3                0.000332      0.000446  2019  1433783.692  0.955     4.0   \n",
       "4                0.000189      0.000103  2019    50339.443  0.895     2.0   \n",
       "\n",
       "               Clothing  Garments  Textiles  \n",
       "cluster_label                                \n",
       "0                   2.0       3.0       2.0  \n",
       "1                   NaN       2.0      15.0  \n",
       "2                  16.0       NaN      15.0  \n",
       "3                   NaN       7.0       7.0  \n",
       "4                   9.0       NaN       4.0  "
      ]
     },
     "execution_count": 59,
     "metadata": {},
     "output_type": "execute_result"
    }
   ],
>>>>>>> Stashed changes
   "source": [
    "analysis_two_all.groupby('cluster_label').max()"
   ]
  },
  {
   "cell_type": "code",
   "execution_count": null,
   "metadata": {},
   "outputs": [],
<<<<<<< Updated upstream
   "source": [
    "sns.relplot(x=\"bill_length_mm\", y = \"flipper_length_mm\", style = \"cluster_label\", s = 80, hue = \"species\", alpha=.6, data = analysis_two_all)"
   ]
=======
   "source": []
>>>>>>> Stashed changes
  }
 ],
 "metadata": {
  "kernelspec": {
   "display_name": "Python 3",
   "language": "python",
   "name": "python3"
  },
  "language_info": {
   "codemirror_mode": {
    "name": "ipython",
    "version": 3
   },
   "file_extension": ".py",
   "mimetype": "text/x-python",
   "name": "python",
   "nbconvert_exporter": "python",
   "pygments_lexer": "ipython3",
   "version": "3.8.5"
  }
 },
 "nbformat": 4,
 "nbformat_minor": 4
}
