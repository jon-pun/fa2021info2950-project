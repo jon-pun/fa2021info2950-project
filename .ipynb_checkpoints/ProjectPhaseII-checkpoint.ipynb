{
 "cells": [
  {
   "cell_type": "markdown",
   "metadata": {},
   "source": [
    "# Research Question & Data Collection\n",
    "With our project we want to compare the environmental impacts of the fashion industry across countries, particularly paying attention to the differences observed between developed and developing countries. To do this we found data from the non-profit Climate Watch that lists greenhouse gas emissions by country, by year, over a number of industries. Using this data we will answer the following question: **How does the impact of the fast fashion industry vary across countries based on the development of a country?**\n",
    "\n",
    "The data we collected is from five CSV files beings: agriculture, energy, waste, industrial-processes, and bunker-fuels.\" These file contain data that shows MtCO2 emissions for almost 200 countires for years between 1991 and 2018. Some files contain data before this windown, but to keep our obesrvations consistent we will not take these values into account. "
   ]
  },
  {
   "cell_type": "code",
   "execution_count": null,
   "metadata": {},
   "outputs": [],
   "source": [
    "## load libraries\n",
    "\n",
    "## our old friends...\n",
    "import numpy as np\n",
    "import pandas as pd\n",
    "import matplotlib.pyplot as plt\n",
    "\n",
    "## ...and some new ones\n",
    "import seaborn as sns\n"
   ]
  },
  {
   "cell_type": "markdown",
   "metadata": {},
   "source": [
    "# Data Cleaning, Data Description, Beginnings of EDA\n",
    "\n",
    "Below we load the CSV files to python variables. The CSV files contained values that made jupyter interperut that columns values as strings. \n",
    "Using the na_value paramter we converted these cells into na values so that the columns could be processed at floats without their summary statistic values being affected by these unusable cells."
   ]
  },
  {
   "cell_type": "markdown",
   "metadata": {},
   "source": [
    "#Load CSVs\n",
    "agriculture=pd.read_csv('agriculture.csv', na_values={'false','False','FALSE'})\n",
    "energy=pd.read_csv('energy.csv',  na_values={'false','False','FALSE'})\n",
    "waste=pd.read_csv('waste.csv',   na_values={'false','False','FALSE'})\n",
    "industrial=pd.read_csv('industrial-processes.csv',  na_values={'false','False','FALSE'})\n",
    "bunker_fuels=pd.read_csv('bunker-fuels.csv',  na_values={'false','False','FALSE'})"
   ]
  },
  {
   "cell_type": "markdown",
   "metadata": {},
   "source": [
    "#### Agriculture\n",
    "We have chosen to look at agriculture emissions since cotton produciton is both a major source of these emissions as well as a material used in lots of fashion production. We use the .head() and .describe() to give us a brief overview of our data, and .dtype to let us know that the CSV file was read properly. "
   ]
  },
  {
   "cell_type": "code",
   "execution_count": null,
   "metadata": {},
   "outputs": [],
   "source": [
    "agriculture.head()"
   ]
  },
  {
   "cell_type": "code",
   "execution_count": null,
   "metadata": {},
   "outputs": [],
   "source": [
    "agriculture.describe()"
   ]
  },
  {
   "cell_type": "code",
   "execution_count": null,
   "metadata": {},
   "outputs": [],
   "source": [
    "agriculture.dtypes"
   ]
  },
  {
   "cell_type": "markdown",
   "metadata": {},
   "source": [
    "#### Bunker Fuel\n",
    "We have chosen to look at bunker fuel emissions since this fuel source is mostly used for large shipping containers which could be indictive of how fashion products are shipped. We use the .head() and .describe() to give us a brief overview of our data, and .dtype to let us know that the CSV file was read properly. "
   ]
  },
  {
   "cell_type": "code",
   "execution_count": null,
   "metadata": {},
   "outputs": [],
   "source": [
    "bunker_fuels.head()"
   ]
  },
  {
   "cell_type": "code",
   "execution_count": null,
   "metadata": {},
   "outputs": [],
   "source": [
    "bunker_fuels.describe()"
   ]
  },
  {
   "cell_type": "code",
   "execution_count": null,
   "metadata": {},
   "outputs": [],
   "source": [
    "bunker_fuels.dtypes"
   ]
  },
  {
   "cell_type": "markdown",
   "metadata": {},
   "source": [
    "#### Energy\n",
    "We have chosen to look at energy emissions as a proxy for industrialziaiton, which could help us find relationship between development, energy, and clothing producvtion. We use the .head() and .describe() to give us a brief overview of our data, and .dtype to let us know that the CSV file was read properly. "
   ]
  },
  {
   "cell_type": "code",
   "execution_count": null,
   "metadata": {},
   "outputs": [],
   "source": [
    "energy.head()"
   ]
  },
  {
   "cell_type": "code",
   "execution_count": null,
   "metadata": {},
   "outputs": [],
   "source": [
    "energy.describe()"
   ]
  },
  {
   "cell_type": "code",
   "execution_count": null,
   "metadata": {},
   "outputs": [],
   "source": [
    "energy.dtypes"
   ]
  },
  {
   "cell_type": "markdown",
   "metadata": {},
   "source": [
    "#### Industrial Processes\n",
    "Clothing production is an industrial process which is why we have included this cataegory of emissions. We use the .head() and .describe() to give us a brief overview of our data, and .dtype to let us know that the CSV file was read properly. "
   ]
  },
  {
   "cell_type": "code",
   "execution_count": null,
   "metadata": {},
   "outputs": [],
   "source": [
    "industrial.head()"
   ]
  },
  {
   "cell_type": "code",
   "execution_count": null,
   "metadata": {},
   "outputs": [],
   "source": [
    "industrial.describe()"
   ]
  },
  {
   "cell_type": "code",
   "execution_count": null,
   "metadata": {},
   "outputs": [],
   "source": [
    "industrial.dtypes"
   ]
  },
  {
   "cell_type": "markdown",
   "metadata": {},
   "source": [
    "#### Waste\n",
    "Fashion production generates a lot of waste which is why we look at emissions from this sector. We use the .head() and .describe() to give us a brief overview of our data, and .dtype to let us know that the CSV file was read properly. "
   ]
  },
  {
   "cell_type": "code",
   "execution_count": null,
   "metadata": {},
   "outputs": [],
   "source": [
    "waste.head()"
   ]
  },
  {
   "cell_type": "code",
   "execution_count": null,
   "metadata": {},
   "outputs": [],
   "source": [
    "waste.describe()"
   ]
  },
  {
   "cell_type": "code",
   "execution_count": null,
   "metadata": {},
   "outputs": [],
   "source": [
    "waste.dtypes"
   ]
  },
  {
   "cell_type": "markdown",
   "metadata": {},
   "source": [
    "# More Exploratory Data Analysis\n",
    "\n",
    "A good starting point for this data is looking at emissions over time. Not only has fast fashion uptake increased with globalization, but this impact has not been spread evenly by each country. In the following Seaborn plots, 2018-versus-1991 emissions are plotted on each axis, with each individual point representing a specific country."
   ]
  },
  {
   "cell_type": "code",
   "execution_count": 2,
   "metadata": {},
   "outputs": [
    {
     "ename": "NameError",
     "evalue": "name 'sns' is not defined",
     "output_type": "error",
     "traceback": [
      "\u001b[0;31m---------------------------------------------------------------------------\u001b[0m",
      "\u001b[0;31mNameError\u001b[0m                                 Traceback (most recent call last)",
      "\u001b[0;32m<ipython-input-2-7da6a3cf2f63>\u001b[0m in \u001b[0;36m<module>\u001b[0;34m\u001b[0m\n\u001b[0;32m----> 1\u001b[0;31m \u001b[0mxxxxxx\u001b[0m \u001b[0;34m=\u001b[0m \u001b[0msns\u001b[0m\u001b[0;34m.\u001b[0m\u001b[0mscatterplot\u001b[0m\u001b[0;34m(\u001b[0m\u001b[0mdata\u001b[0m \u001b[0;34m=\u001b[0m \u001b[0magriculture\u001b[0m\u001b[0;34m,\u001b[0m \u001b[0mx\u001b[0m \u001b[0;34m=\u001b[0m \u001b[0;34m'1991'\u001b[0m\u001b[0;34m,\u001b[0m \u001b[0my\u001b[0m \u001b[0;34m=\u001b[0m \u001b[0;34m'2018'\u001b[0m\u001b[0;34m)\u001b[0m\u001b[0;34m\u001b[0m\u001b[0;34m\u001b[0m\u001b[0m\n\u001b[0m",
      "\u001b[0;31mNameError\u001b[0m: name 'sns' is not defined"
     ]
    }
   ],
   "source": [
    "# agriculture plot\n",
    "agricultureplot = sns.scatterplot(data = agriculture, x = '1991', y = '2018') "
   ]
  },
  {
   "cell_type": "code",
   "execution_count": null,
   "metadata": {},
   "outputs": [],
   "source": [
    "# bunker fuel (shipping) plot\n",
    "shippingplot = sns.scatterplot(data = bunker_fuels, x = '1991', y = '2018')"
   ]
  },
  {
   "cell_type": "code",
   "execution_count": null,
   "metadata": {},
   "outputs": [],
   "source": [
    "# energy plot\n",
    "energyplot = sns.scatterplot(data = energy, x = '1991', y = '2018')"
   ]
  },
  {
   "cell_type": "code",
   "execution_count": null,
   "metadata": {},
   "outputs": [],
   "source": [
    "# industrial ghg emission plot\n",
    "industrialplot = sns.scatterplot(data = industrial, x = '1991', y = '2018')"
   ]
  },
  {
   "cell_type": "code",
   "execution_count": 3,
   "metadata": {},
   "outputs": [
    {
     "ename": "NameError",
     "evalue": "name 'sns' is not defined",
     "output_type": "error",
     "traceback": [
      "\u001b[0;31m---------------------------------------------------------------------------\u001b[0m",
      "\u001b[0;31mNameError\u001b[0m                                 Traceback (most recent call last)",
      "\u001b[0;32m<ipython-input-3-c6c46a206629>\u001b[0m in \u001b[0;36m<module>\u001b[0;34m\u001b[0m\n\u001b[1;32m      1\u001b[0m \u001b[0;31m# waste plot\u001b[0m\u001b[0;34m\u001b[0m\u001b[0;34m\u001b[0m\u001b[0;34m\u001b[0m\u001b[0m\n\u001b[0;32m----> 2\u001b[0;31m \u001b[0mwasteplot\u001b[0m \u001b[0;34m=\u001b[0m \u001b[0msns\u001b[0m\u001b[0;34m.\u001b[0m\u001b[0mscatterplot\u001b[0m\u001b[0;34m(\u001b[0m\u001b[0mdata\u001b[0m \u001b[0;34m=\u001b[0m \u001b[0mwaste\u001b[0m\u001b[0;34m,\u001b[0m \u001b[0mx\u001b[0m \u001b[0;34m=\u001b[0m \u001b[0;34m'1991'\u001b[0m\u001b[0;34m,\u001b[0m \u001b[0my\u001b[0m \u001b[0;34m=\u001b[0m \u001b[0;34m'2018'\u001b[0m\u001b[0;34m)\u001b[0m\u001b[0;34m\u001b[0m\u001b[0;34m\u001b[0m\u001b[0m\n\u001b[0m",
      "\u001b[0;31mNameError\u001b[0m: name 'sns' is not defined"
     ]
    }
   ],
   "source": [
    "# waste plot\n",
    "wasteplot = sns.scatterplot(data = waste, x = '1991', y = '2018')"
   ]
  },
  {
   "cell_type": "markdown",
   "metadata": {},
   "source": [
    "While useful, there are some outliers in this plot that are concentrating some of the points; let's remove them. In almost all cases, it’s China (making sense as a result of their massive growth in recent decades), but in the case of bunker fuels, it’s actually Singapore (as a global trading hub). Let's do that now:"
   ]
  },
  {
   "cell_type": "code",
   "execution_count": null,
   "metadata": {},
   "outputs": [],
   "source": [
    "#agriculture plot, again\n",
    "newagplot = sns.scatterplot(data = agriculture[agriculture['Country/Region'] != 'China'], \n",
    "                            x = '1991', y = '2018')"
   ]
  },
  {
   "cell_type": "code",
   "execution_count": null,
   "metadata": {},
   "outputs": [],
   "source": [
    "#shipping plot, again\n",
    "newbfplot = sns.scatterplot(data = bunker_fuels[bunker_fuels['Country/Region'] != 'Singapore'], \n",
    "                            x = '1991', y = '2018')"
   ]
  },
  {
   "cell_type": "code",
   "execution_count": null,
   "metadata": {},
   "outputs": [],
   "source": [
    "#energy plot, again\n",
    "newegplot = sns.scatterplot(data = energy[energy['Country/Region'] != 'China'], \n",
    "                            x = '1991', y = '2018')"
   ]
  },
  {
   "cell_type": "code",
   "execution_count": 4,
   "metadata": {},
   "outputs": [
    {
     "ename": "NameError",
     "evalue": "name 'sns' is not defined",
     "output_type": "error",
     "traceback": [
      "\u001b[0;31m---------------------------------------------------------------------------\u001b[0m",
      "\u001b[0;31mNameError\u001b[0m                                 Traceback (most recent call last)",
      "\u001b[0;32m<ipython-input-4-94c8e7309bc7>\u001b[0m in \u001b[0;36m<module>\u001b[0;34m\u001b[0m\n\u001b[1;32m      1\u001b[0m \u001b[0;31m#new industrial plot, again\u001b[0m\u001b[0;34m\u001b[0m\u001b[0;34m\u001b[0m\u001b[0;34m\u001b[0m\u001b[0m\n\u001b[0;32m----> 2\u001b[0;31m newidplot = sns.scatterplot(data = industrial[industrial['Country/Region'] != 'China'],\n\u001b[0m\u001b[1;32m      3\u001b[0m                             x = '1991', y = '2018')\n",
      "\u001b[0;31mNameError\u001b[0m: name 'sns' is not defined"
     ]
    }
   ],
   "source": [
    "#new industrial plot, again\n",
    "newidplot = sns.scatterplot(data = industrial[industrial['Country/Region'] != 'China'],\n",
    "                            x = '1991', y = '2018')"
   ]
  },
  {
   "cell_type": "code",
   "execution_count": null,
   "metadata": {},
   "outputs": [],
   "source": [
    "# new waste plot, again\n",
    "newwsplot = sns.scatterplot(data = waste[waste['Country/Region'] != 'China'],\n",
    "x = '1991', y = '2018')"
   ]
  },
  {
   "cell_type": "markdown",
   "metadata": {},
   "source": [
    "This is interesting! While many of the relationships seem linear (good for exploring later), a good piece of info that proves we might be on the right track might come from looking at the industrial GHG emission scatterplot.\n",
    "\n",
    "Many of the top-facing \"outliers\" in the plot (like India, South Korea, Thailand, Cameroon, and Vietnam) are actually top clothes-producing countries! This suggests that fashion is (in part) likely contributing to the rise in industrial emissions there, outpacing the global \"trend line.\""
   ]
  }
 ],
 "metadata": {
  "kernelspec": {
   "display_name": "Python 3",
   "language": "python",
   "name": "python3"
  },
  "language_info": {
   "codemirror_mode": {
    "name": "ipython",
    "version": 3
   },
   "file_extension": ".py",
   "mimetype": "text/x-python",
   "name": "python",
   "nbconvert_exporter": "python",
   "pygments_lexer": "ipython3",
   "version": "3.8.8"
  }
 },
 "nbformat": 4,
 "nbformat_minor": 4
}
