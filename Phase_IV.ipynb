{
 "cells": [
  {
   "cell_type": "markdown",
   "metadata": {},
   "source": [
    "# project phase V: on fast fashion & climate change\n",
    "\n",
    "project contributors: jillian beck (jlb574), diane lee (ddl58), alexander panovka (amp343), jonathan yun (jly37)\n",
    "\n",
    "-----"
   ]
  },
  {
   "cell_type": "markdown",
   "metadata": {},
   "source": [
    "## introduction\n",
    "In an age where people want everything in the most convenient and fast way possible, it is no surprise that the fashion industry has stepped up to this expectation but with less than desirable consequences. Today, millions of Americans shop at the height of fast fashion’s boom. Fast fashion refers to cheaply produced, and therefore cheaply priced, clothing that gets pumped through stores quickly, hence the “fast” notation The very premise of fast fashion emphasizes quantity over quality; brands aim to market and promote short-lived trends that allow for the production of dozens of clothing collections each year. Fast fashion brands like H&M, Zara, and Shein release thousands, if not tens of thousands, of new styles each week. This process allows for a steady monetary gain on behalf of the partaking companies, but it also comes with one major drawback: it is an unsustainable method with possibly detrimental environmental effects. To maintain such a cycle, the fast fashion industry uses petrochemical textiles made from non-renewable fossil fuels. To make matters worse, the fast fashion industry exports its production overseas for cheap labor. As fast fashion has grown significantly in the garment industry over the past few decades, the industrial sectors involved, such as agriculture, bunker fuels, waste and more, consequently have also experienced changes, all to a different extent in different countries. In our analysis, we will be answering the question, “What is the relationship, if any, between the growth and environmental effects of fast fashion and the development level of a country?”\n",
    "\n",
    "-----"
   ]
  },
  {
   "cell_type": "markdown",
   "metadata": {},
   "source": [
    "## data description\n",
    "We are examining three main datasets to address our research question.\n",
    "\n",
    "The first is from the United Nations and lists the Human Development Index (HDI) for each country starting from 1990 to 2019. HDI measures the average achievement of a country in terms of human development by examining and ranking the country in three dimensions - 1) human longevity 2) education 3) gross national income. These dimensions are examined and then the geometric mean between them is found and that number becomes the country’s corresponding HDI. The UN created this dataset for research to further their mission of fostering human welfare through the advocacy for change in restrictive government policies, and the promotion of innovative ideas. For focus and simplicity, we are only examining the HDI observed in 2019; the resultant dataset is a singular column of the 2019 HDI’s indexed by country. The observations(row values) are the country names, and the only attribute(column value) is the recorded HDI in 2019.  ( http://hdr.undp.org/en/indicators/137506 )\n",
    "\n",
    "\n",
    "The second dataset we examine contains raw data concerning anthropogenic greenhouse gas (GHG) emissions for all 195 countries from 1990 to 2018 taken from and created by Climate Watch. The GHG emissions (measured in metric tons of carbon dioxide) are divided into multiple sectors including energy, bunker-fuels, industry, waste, and agriculture. The GHG emissions per country per year are then listed in relation to each of those sectors. Climate Watch created this dataset in order to raise awareness not only to the broader and most pressing issue of our time, climate change, but also to hone in on the sectors and countries that are causing the most detrimental environmental effects. The observations (row values) are the country names, and the attributes (column values) are the recorded GHG emissions for every year from 1990 to 2018.  A potential influence on the observed and recorded data in this dataset is that the creator of the dataset (e.g the UN) does not use the GHG emissions listed in each country’s annual inventory report in hopes of avoiding bias and inaccuracy. Although this seems like a good way to mitigate bias, it also warrants a three year gap between updating the dataset so that the GHG emissions for every country can be measured. This brief lapse in time could pose a small threat to using the dataset to predict trends since the values are always, at the latest update, three years old. (https://www.climatewatchdata.org/ghg-emissions?end_year=2018&start_year=1990 )\n",
    "\n",
    "\n",
    "The third dataset is a dataframe that we created ourselves using data from the CIA World Factbook, which lists countries and their annual industry output by rank. We decided to create this dataset so that we could access and analyze industries that have a direct correlation with the fashion industry, as such we chose to examine only industries relevant to fast fashion: Clothing, textiles, garments, cotton, and jute (which we later decided to drop for redundancy mitigation). We sifted through the factbook for our relevant industries and wrote down where that industry output was ranked for the specific country in question. Due to the wide variety of existing industries, there were a surprisingly low number of countries that produced garments, clothing, textiles, or cotton. Despite this, we were still able to construct a fairly comprehensive CSV file of ranked industry output by country to use in our data analysis. The CIA created the World Factbook, and this specific dataset, as part of their mission to provide accessible, up-to-date information about the world to anyone interested in doing research or simply learning more about specific fields of study. The observations (row values) are the country names, and the attributes (column values) are the four chosen industries with their annual output rank: Clothing, textiles, garments, and cotton. A potential limitation in this dataset is that some industries, like “mining” for example, listed under one country can be listed under another country as “steel, coal, and iron ore.” This lack of specification and continuity could cause issues to an inattentive observer. ( https://www.cia.gov/the-world-factbook/field/industries/ )\n",
    "\n",
    "#### postprocessing / cleaning / labelling\n",
    "\n",
    "-----"
   ]
  },
  {
   "cell_type": "markdown",
   "metadata": {},
   "source": [
    "## preregistration statement\n",
    "\n",
    "here are the following analyses we promised to conduct in project phase iii:\n",
    "\n",
    "#### analysis One:\n",
    "- Goal: Analyze correlation between HDI (human development index) and GHG emissions per economic sector (i.e. Manufacturing, bunker fuel, etc)\n",
    "\n",
    "- How we’re going to do it: We are going to make a new data frame. It will have these twelve columns: [Country, HDI from 2019,  average annual GHG emissions for each economic sector between 2014-2019 ( 5 columns), average annual change in GHG emissions for each economic sector between 2014-2019 (another 5 columns)]. We will then make a heatmap of the spearman correlation between each variable in the data frame. The reason we use spearman is because we care more about a country's relative HDI and GHG compared to other countries rather than what the actual values are. We will pay specific attention to the correlation between HDI and annual GHG emissions. This will represent five cells in the heat map, each cell being a correlation between emissions from a single sector and HDI. We will also check to see any strong correlations between other variables, such as HDI and change in emissions, and correlation between emissions in separate sectors. With these correlations we will be able to make statements about the relationship between the variables in this dataframe. \n",
    "\n",
    "- What we expect to find: We expect that there will be a strong positive correlation between HDI and GHG emissions suggesting that developed countries release more greenhouse gases. Conversely, we expect a strong negative correlation between HDI and change in GHG emissions suggesting that less developed countries are where most of the industrial growth is occurring. When looking at sectors specifically, we expect a slight negative correlation between HDI and GHG emissions from bunker fuel since developing countries often export their goods to developed countries. Finally we expect a high correlation between emissions from each sector, suggesting that countries that have high emissions in one sector also have high emissions in other sectors. Scatter plots of the data, done outside of this analysis, will allow us to see more specific relationships between sectors by country. The information we will gather from this analysis does not directly pertain to the fashion industry, but the knowledge it gives us about the relationship between development and emissions will help us understand if the relationship between development and environmental impact from fashion has unique characteristics.  \n",
    "\n",
    "#### analysis Two\n",
    "\n",
    "- Goal: Examine the relationship between HDI and the importance of the fashion industry in a country’s economy. \n",
    "\n",
    "- How we’re going to do it: We are going to make a new data frame with these columns: [Country, HDI, cotton, clothing, garments, textiles]. The HDI column will be downloaded from the United Nations Development Programme, and we will just use the most recent year. Cotton, clothing, garment, and textiles will have data taken from the industries list from the CIA factbook. This page shows the top industries by annual output for every country, and we are looking at industries that are just related to fashion. In the data frame these columns will house values representing what rank that industry has in that country. For instance, textiles is fourth in the list of industries in Argentina, so the textiles value for Argentina will be 4. First we will find the correlation between HDI and fashion industries ranking. Next we will merge this data with the data relating to emissions from analysis one. We will create multiple scatter plots of industry rank versus emissions and change in emissions, with different emissions sectors for each plot, and then cluster the data. We expect the clusters to relate to HDI, so we will then make histograms of the HDI per cluster and determine if the clusters correspond to a country’s stage of development. \n",
    "\n",
    "- What we expect to find: We expect to find a negative correlation between HDI and the importance of fashion in a country’s economy. Based on our knowledge that most clothing is manufactured in developing countries, we expect developing countries to rely more on the fashion industry for their economies than developed countries. Across the scatter plots we expect to see clusters of high HDI countries where importance of fashion is low, and change in emissions is low, and where importance of fashion is low, but absolute emissions are high. For low HDI countries, we expect clusters where importance of fashion is high and change in emissions is high, and where importance of fashion is high and emissions are medium to low. Our data does not take into account the size of each country, so the clusters in the annual emissions plots might represent country size, but we expect the clusters in the scatter plots of change in emissions to definitely represent development. With this information we will be able to determine if less developed countries bear a greater burden from the fashion industry than developed countries. \n",
    "\n",
    "-----"
   ]
  },
  {
   "cell_type": "markdown",
   "metadata": {},
   "source": [
    "## analysis one\n",
    "\n",
    "in this analysis, we will analyze correlation between HDI (human development index) and GHG emissions per economic sector (i.e. manufacturing, bunker fuel, etc)."
   ]
  },
  {
   "cell_type": "code",
   "execution_count": 1,
   "metadata": {},
   "outputs": [],
   "source": [
    "## load libraries\n",
    "\n",
    "## our old friends...\n",
    "import numpy as np\n",
    "import pandas as pd\n",
    "import matplotlib.pyplot as plt\n",
    "\n",
    "## ...and some new ones...\n",
    "import seaborn as sns\n",
    "from sklearn.cluster import KMeans\n",
    "\n",
    "## ..and a most new friend\n",
    "from sklearn.linear_model import LinearRegression"
   ]
  },
  {
   "cell_type": "markdown",
   "metadata": {},
   "source": [
    "Our data for this analysis comes from two data sets: one one GHG emissions by country, and the other for HDI index by country. These, however, have been cleaned in the data cleanin file already, and are ready for use in a CSV titled \"df_ghgchange.csv\".\n",
    "\n",
    "We can now import it for analysis here:"
   ]
  },
  {
   "cell_type": "code",
   "execution_count": 2,
   "metadata": {},
   "outputs": [],
   "source": [
    "df_ghgchange = pd.read_csv(\"df_ghgchange.csv\")"
   ]
  },
  {
   "cell_type": "markdown",
   "metadata": {},
   "source": [
    "let's also run some summary statistics on this:"
   ]
  },
  {
   "cell_type": "code",
   "execution_count": 3,
   "metadata": {},
   "outputs": [
    {
     "data": {
      "text/html": [
       "<div>\n",
       "<style scoped>\n",
       "    .dataframe tbody tr th:only-of-type {\n",
       "        vertical-align: middle;\n",
       "    }\n",
       "\n",
       "    .dataframe tbody tr th {\n",
       "        vertical-align: top;\n",
       "    }\n",
       "\n",
       "    .dataframe thead th {\n",
       "        text-align: right;\n",
       "    }\n",
       "</style>\n",
       "<table border=\"1\" class=\"dataframe\">\n",
       "  <thead>\n",
       "    <tr style=\"text-align: right;\">\n",
       "      <th></th>\n",
       "      <th>Unnamed: 0</th>\n",
       "      <th>agriculture</th>\n",
       "      <th>energy</th>\n",
       "      <th>waste</th>\n",
       "      <th>industrial</th>\n",
       "      <th>bunker fuels</th>\n",
       "    </tr>\n",
       "  </thead>\n",
       "  <tbody>\n",
       "    <tr>\n",
       "      <th>count</th>\n",
       "      <td>195.000000</td>\n",
       "      <td>193.000000</td>\n",
       "      <td>193.000000</td>\n",
       "      <td>191.000000</td>\n",
       "      <td>191.000000</td>\n",
       "      <td>175.000000</td>\n",
       "    </tr>\n",
       "    <tr>\n",
       "      <th>mean</th>\n",
       "      <td>97.000000</td>\n",
       "      <td>29.479896</td>\n",
       "      <td>22.548031</td>\n",
       "      <td>0.837068</td>\n",
       "      <td>3.758848</td>\n",
       "      <td>1.664286</td>\n",
       "    </tr>\n",
       "    <tr>\n",
       "      <th>std</th>\n",
       "      <td>56.435804</td>\n",
       "      <td>259.370847</td>\n",
       "      <td>239.662242</td>\n",
       "      <td>5.387391</td>\n",
       "      <td>34.781706</td>\n",
       "      <td>5.954713</td>\n",
       "    </tr>\n",
       "    <tr>\n",
       "      <th>min</th>\n",
       "      <td>0.000000</td>\n",
       "      <td>-610.260000</td>\n",
       "      <td>-612.040000</td>\n",
       "      <td>-19.850000</td>\n",
       "      <td>-28.900000</td>\n",
       "      <td>-3.840000</td>\n",
       "    </tr>\n",
       "    <tr>\n",
       "      <th>25%</th>\n",
       "      <td>48.500000</td>\n",
       "      <td>-0.610000</td>\n",
       "      <td>-1.240000</td>\n",
       "      <td>0.010000</td>\n",
       "      <td>0.020000</td>\n",
       "      <td>0.000000</td>\n",
       "    </tr>\n",
       "    <tr>\n",
       "      <th>50%</th>\n",
       "      <td>97.000000</td>\n",
       "      <td>1.830000</td>\n",
       "      <td>0.640000</td>\n",
       "      <td>0.150000</td>\n",
       "      <td>0.250000</td>\n",
       "      <td>0.120000</td>\n",
       "    </tr>\n",
       "    <tr>\n",
       "      <th>75%</th>\n",
       "      <td>145.500000</td>\n",
       "      <td>14.970000</td>\n",
       "      <td>7.050000</td>\n",
       "      <td>0.845000</td>\n",
       "      <td>1.120000</td>\n",
       "      <td>0.770000</td>\n",
       "    </tr>\n",
       "    <tr>\n",
       "      <th>max</th>\n",
       "      <td>194.000000</td>\n",
       "      <td>3250.160000</td>\n",
       "      <td>3095.940000</td>\n",
       "      <td>57.180000</td>\n",
       "      <td>476.610000</td>\n",
       "      <td>62.290000</td>\n",
       "    </tr>\n",
       "  </tbody>\n",
       "</table>\n",
       "</div>"
      ],
      "text/plain": [
       "       Unnamed: 0  agriculture       energy       waste  industrial  \\\n",
       "count  195.000000   193.000000   193.000000  191.000000  191.000000   \n",
       "mean    97.000000    29.479896    22.548031    0.837068    3.758848   \n",
       "std     56.435804   259.370847   239.662242    5.387391   34.781706   \n",
       "min      0.000000  -610.260000  -612.040000  -19.850000  -28.900000   \n",
       "25%     48.500000    -0.610000    -1.240000    0.010000    0.020000   \n",
       "50%     97.000000     1.830000     0.640000    0.150000    0.250000   \n",
       "75%    145.500000    14.970000     7.050000    0.845000    1.120000   \n",
       "max    194.000000  3250.160000  3095.940000   57.180000  476.610000   \n",
       "\n",
       "       bunker fuels  \n",
       "count    175.000000  \n",
       "mean       1.664286  \n",
       "std        5.954713  \n",
       "min       -3.840000  \n",
       "25%        0.000000  \n",
       "50%        0.120000  \n",
       "75%        0.770000  \n",
       "max       62.290000  "
      ]
     },
     "execution_count": 3,
     "metadata": {},
     "output_type": "execute_result"
    }
   ],
   "source": [
    "df_ghgchange.describe()\n"
   ]
  },
  {
   "cell_type": "code",
   "execution_count": 4,
   "metadata": {},
   "outputs": [
    {
     "data": {
      "text/plain": [
       "Unnamed: 0        int64\n",
       "country          object\n",
       "agriculture     float64\n",
       "energy          float64\n",
       "waste           float64\n",
       "industrial      float64\n",
       "bunker fuels    float64\n",
       "dtype: object"
      ]
     },
     "execution_count": 4,
     "metadata": {},
     "output_type": "execute_result"
    }
   ],
   "source": [
    "df_ghgchange.dtypes"
   ]
  },
  {
   "cell_type": "markdown",
   "metadata": {},
   "source": [
    "ok, our climate change emissions data (in megatons) should probably be numeric... let's do that, and then run summary statistics on it:"
   ]
  },
  {
   "cell_type": "code",
   "execution_count": 5,
   "metadata": {},
   "outputs": [
    {
     "data": {
      "text/html": [
       "<div>\n",
       "<style scoped>\n",
       "    .dataframe tbody tr th:only-of-type {\n",
       "        vertical-align: middle;\n",
       "    }\n",
       "\n",
       "    .dataframe tbody tr th {\n",
       "        vertical-align: top;\n",
       "    }\n",
       "\n",
       "    .dataframe thead th {\n",
       "        text-align: right;\n",
       "    }\n",
       "</style>\n",
       "<table border=\"1\" class=\"dataframe\">\n",
       "  <thead>\n",
       "    <tr style=\"text-align: right;\">\n",
       "      <th></th>\n",
       "      <th>bunker fuels</th>\n",
       "      <th>industrial</th>\n",
       "      <th>agriculture</th>\n",
       "      <th>energy</th>\n",
       "      <th>waste</th>\n",
       "    </tr>\n",
       "  </thead>\n",
       "  <tbody>\n",
       "    <tr>\n",
       "      <th>count</th>\n",
       "      <td>175.000000</td>\n",
       "      <td>191.000000</td>\n",
       "      <td>193.000000</td>\n",
       "      <td>193.000000</td>\n",
       "      <td>191.000000</td>\n",
       "    </tr>\n",
       "    <tr>\n",
       "      <th>mean</th>\n",
       "      <td>1.664286</td>\n",
       "      <td>3.758848</td>\n",
       "      <td>29.479896</td>\n",
       "      <td>22.548031</td>\n",
       "      <td>0.837068</td>\n",
       "    </tr>\n",
       "    <tr>\n",
       "      <th>std</th>\n",
       "      <td>5.954713</td>\n",
       "      <td>34.781706</td>\n",
       "      <td>259.370847</td>\n",
       "      <td>239.662242</td>\n",
       "      <td>5.387391</td>\n",
       "    </tr>\n",
       "    <tr>\n",
       "      <th>min</th>\n",
       "      <td>-3.840000</td>\n",
       "      <td>-28.900000</td>\n",
       "      <td>-610.260000</td>\n",
       "      <td>-612.040000</td>\n",
       "      <td>-19.850000</td>\n",
       "    </tr>\n",
       "    <tr>\n",
       "      <th>25%</th>\n",
       "      <td>0.000000</td>\n",
       "      <td>0.020000</td>\n",
       "      <td>-0.610000</td>\n",
       "      <td>-1.240000</td>\n",
       "      <td>0.010000</td>\n",
       "    </tr>\n",
       "    <tr>\n",
       "      <th>50%</th>\n",
       "      <td>0.120000</td>\n",
       "      <td>0.250000</td>\n",
       "      <td>1.830000</td>\n",
       "      <td>0.640000</td>\n",
       "      <td>0.150000</td>\n",
       "    </tr>\n",
       "    <tr>\n",
       "      <th>75%</th>\n",
       "      <td>0.770000</td>\n",
       "      <td>1.120000</td>\n",
       "      <td>14.970000</td>\n",
       "      <td>7.050000</td>\n",
       "      <td>0.845000</td>\n",
       "    </tr>\n",
       "    <tr>\n",
       "      <th>max</th>\n",
       "      <td>62.290000</td>\n",
       "      <td>476.610000</td>\n",
       "      <td>3250.160000</td>\n",
       "      <td>3095.940000</td>\n",
       "      <td>57.180000</td>\n",
       "    </tr>\n",
       "  </tbody>\n",
       "</table>\n",
       "</div>"
      ],
      "text/plain": [
       "       bunker fuels  industrial  agriculture       energy       waste\n",
       "count    175.000000  191.000000   193.000000   193.000000  191.000000\n",
       "mean       1.664286    3.758848    29.479896    22.548031    0.837068\n",
       "std        5.954713   34.781706   259.370847   239.662242    5.387391\n",
       "min       -3.840000  -28.900000  -610.260000  -612.040000  -19.850000\n",
       "25%        0.000000    0.020000    -0.610000    -1.240000    0.010000\n",
       "50%        0.120000    0.250000     1.830000     0.640000    0.150000\n",
       "75%        0.770000    1.120000    14.970000     7.050000    0.845000\n",
       "max       62.290000  476.610000  3250.160000  3095.940000   57.180000"
      ]
     },
     "execution_count": 5,
     "metadata": {},
     "output_type": "execute_result"
    }
   ],
   "source": [
    "df_ghgchange[\"agriculture\"] = df_ghgchange[\"agriculture\"].astype(float)\n",
    "df_ghgchange[\"energy\"] = df_ghgchange[\"energy\"].astype(float)\n",
    "df_ghgchange[\"waste\"] = df_ghgchange[\"waste\"].astype(float)\n",
    "df_ghgchange[\"industrial\"] = df_ghgchange[\"industrial\"].astype(float)\n",
    "df_ghgchange[\"bunker fuels\"] = df_ghgchange[\"bunker fuels\"].astype(float)\n",
    "\n",
    "df_ghgchange[{\"agriculture\", \"energy\", \"waste\", \"industrial\", \"bunker fuels\"}].describe()"
   ]
  },
  {
   "cell_type": "markdown",
   "metadata": {},
   "source": [
    "This data mostly makes sense (aside from some negative ghg emissions, which appear to be outliers), but also does not appear to be very comparable (since some countries might have 3250 megatons of co2-equivalent emissions solely based on size, and others might have almost 0 megatons as a small nation). let's standardize on the basis of population, using a population data:"
   ]
  },
  {
   "cell_type": "code",
   "execution_count": 6,
   "metadata": {},
   "outputs": [
    {
     "data": {
      "text/html": [
       "<div>\n",
       "<style scoped>\n",
       "    .dataframe tbody tr th:only-of-type {\n",
       "        vertical-align: middle;\n",
       "    }\n",
       "\n",
       "    .dataframe tbody tr th {\n",
       "        vertical-align: top;\n",
       "    }\n",
       "\n",
       "    .dataframe thead th {\n",
       "        text-align: right;\n",
       "    }\n",
       "</style>\n",
       "<table border=\"1\" class=\"dataframe\">\n",
       "  <thead>\n",
       "    <tr style=\"text-align: right;\">\n",
       "      <th></th>\n",
       "      <th>Unnamed: 0</th>\n",
       "      <th>country</th>\n",
       "      <th>agriculture</th>\n",
       "      <th>energy</th>\n",
       "      <th>waste</th>\n",
       "      <th>industrial</th>\n",
       "      <th>bunker fuels</th>\n",
       "      <th>Time</th>\n",
       "      <th>PopTotal</th>\n",
       "    </tr>\n",
       "  </thead>\n",
       "  <tbody>\n",
       "    <tr>\n",
       "      <th>0</th>\n",
       "      <td>57</td>\n",
       "      <td>Afghanistan</td>\n",
       "      <td>1.772263</td>\n",
       "      <td>-0.107251</td>\n",
       "      <td>-0.021030</td>\n",
       "      <td>0.014195</td>\n",
       "      <td>-0.034173</td>\n",
       "      <td>2019</td>\n",
       "      <td>38041757.0</td>\n",
       "    </tr>\n",
       "    <tr>\n",
       "      <th>1</th>\n",
       "      <td>145</td>\n",
       "      <td>Albania</td>\n",
       "      <td>0.753233</td>\n",
       "      <td>0.236036</td>\n",
       "      <td>0.329757</td>\n",
       "      <td>0.017356</td>\n",
       "      <td>-0.010413</td>\n",
       "      <td>2019</td>\n",
       "      <td>2880913.0</td>\n",
       "    </tr>\n",
       "    <tr>\n",
       "      <th>2</th>\n",
       "      <td>38</td>\n",
       "      <td>Algeria</td>\n",
       "      <td>1.357395</td>\n",
       "      <td>-0.402759</td>\n",
       "      <td>-0.009059</td>\n",
       "      <td>0.130304</td>\n",
       "      <td>0.013007</td>\n",
       "      <td>2019</td>\n",
       "      <td>43053054.0</td>\n",
       "    </tr>\n",
       "    <tr>\n",
       "      <th>3</th>\n",
       "      <td>177</td>\n",
       "      <td>Andorra</td>\n",
       "      <td>-0.648122</td>\n",
       "      <td>1.944365</td>\n",
       "      <td>1.036995</td>\n",
       "      <td>0.000000</td>\n",
       "      <td>0.000000</td>\n",
       "      <td>2019</td>\n",
       "      <td>77146.0</td>\n",
       "    </tr>\n",
       "    <tr>\n",
       "      <th>4</th>\n",
       "      <td>47</td>\n",
       "      <td>Angola</td>\n",
       "      <td>0.037706</td>\n",
       "      <td>2.020405</td>\n",
       "      <td>-0.068499</td>\n",
       "      <td>0.035506</td>\n",
       "      <td>0.049960</td>\n",
       "      <td>2019</td>\n",
       "      <td>31825299.0</td>\n",
       "    </tr>\n",
       "  </tbody>\n",
       "</table>\n",
       "</div>"
      ],
      "text/plain": [
       "   Unnamed: 0      country  agriculture    energy     waste  industrial  \\\n",
       "0          57  Afghanistan     1.772263 -0.107251 -0.021030    0.014195   \n",
       "1         145      Albania     0.753233  0.236036  0.329757    0.017356   \n",
       "2          38      Algeria     1.357395 -0.402759 -0.009059    0.130304   \n",
       "3         177      Andorra    -0.648122  1.944365  1.036995    0.000000   \n",
       "4          47       Angola     0.037706  2.020405 -0.068499    0.035506   \n",
       "\n",
       "   bunker fuels  Time    PopTotal  \n",
       "0     -0.034173  2019  38041757.0  \n",
       "1     -0.010413  2019   2880913.0  \n",
       "2      0.013007  2019  43053054.0  \n",
       "3      0.000000  2019     77146.0  \n",
       "4      0.049960  2019  31825299.0  "
      ]
     },
     "execution_count": 6,
     "metadata": {},
     "output_type": "execute_result"
    }
   ],
   "source": [
    "pop = pd.read_csv(\"WPP2019_TotalPopulationBySex.csv\")\n",
    "\n",
    "pop = pop[pop[\"Time\"] == 2019] # ensuring it's only 2019 data\n",
    "pop = pop[{\"Location\", \"Time\", \"PopTotal\"}] # removing unnecessary columns\n",
    "pop = pop.rename(columns = {\"Location\" : \"country\"}) # renaming the column for the merge\n",
    "pop['PopTotal']=pop['PopTotal']*1000\n",
    "\n",
    "df_ghgchange = df_ghgchange.merge(pop, on = \"country\") # performing an inner join\n",
    "\n",
    "df_ghgchange.head()\n",
    "\n",
    "df_ghgchange.columns\n",
    "\n",
    "for emissions in {\"agriculture\", \"energy\", \"waste\", \"industrial\", \"bunker fuels\"}:\n",
    "    df_ghgchange[emissions] = (df_ghgchange[emissions]*1000000/ df_ghgchange[\"PopTotal\"])\n",
    "    \n",
    "df_ghgchange.head()"
   ]
  },
  {
   "cell_type": "code",
   "execution_count": 7,
   "metadata": {},
   "outputs": [
    {
     "data": {
      "text/html": [
       "<div>\n",
       "<style scoped>\n",
       "    .dataframe tbody tr th:only-of-type {\n",
       "        vertical-align: middle;\n",
       "    }\n",
       "\n",
       "    .dataframe tbody tr th {\n",
       "        vertical-align: top;\n",
       "    }\n",
       "\n",
       "    .dataframe thead th {\n",
       "        text-align: right;\n",
       "    }\n",
       "</style>\n",
       "<table border=\"1\" class=\"dataframe\">\n",
       "  <thead>\n",
       "    <tr style=\"text-align: right;\">\n",
       "      <th></th>\n",
       "      <th>Time</th>\n",
       "      <th>country</th>\n",
       "      <th>PopTotal</th>\n",
       "    </tr>\n",
       "  </thead>\n",
       "  <tbody>\n",
       "    <tr>\n",
       "      <th>69</th>\n",
       "      <td>2019</td>\n",
       "      <td>Afghanistan</td>\n",
       "      <td>3.804176e+07</td>\n",
       "    </tr>\n",
       "    <tr>\n",
       "      <th>953</th>\n",
       "      <td>2019</td>\n",
       "      <td>Africa</td>\n",
       "      <td>1.308064e+09</td>\n",
       "    </tr>\n",
       "    <tr>\n",
       "      <th>1837</th>\n",
       "      <td>2019</td>\n",
       "      <td>African Group</td>\n",
       "      <td>1.306321e+09</td>\n",
       "    </tr>\n",
       "    <tr>\n",
       "      <th>1988</th>\n",
       "      <td>2019</td>\n",
       "      <td>African Union</td>\n",
       "      <td>1.306903e+09</td>\n",
       "    </tr>\n",
       "    <tr>\n",
       "      <th>2139</th>\n",
       "      <td>2019</td>\n",
       "      <td>African Union: Central Africa</td>\n",
       "      <td>1.540137e+08</td>\n",
       "    </tr>\n",
       "  </tbody>\n",
       "</table>\n",
       "</div>"
      ],
      "text/plain": [
       "      Time                        country      PopTotal\n",
       "69    2019                    Afghanistan  3.804176e+07\n",
       "953   2019                         Africa  1.308064e+09\n",
       "1837  2019                  African Group  1.306321e+09\n",
       "1988  2019                  African Union  1.306903e+09\n",
       "2139  2019  African Union: Central Africa  1.540137e+08"
      ]
     },
     "execution_count": 7,
     "metadata": {},
     "output_type": "execute_result"
    }
   ],
   "source": [
    "pop.head()"
   ]
  },
  {
   "cell_type": "markdown",
   "metadata": {},
   "source": [
    "nice! let's now merge this data with each country's human development index, and also drop the population column now that it's unneeded:"
   ]
  },
  {
   "cell_type": "code",
   "execution_count": 8,
   "metadata": {},
   "outputs": [
    {
     "name": "stdout",
     "output_type": "stream",
     "text": [
      "   Unnamed: 0_x      country    hdi  Unnamed: 0_y  agriculture    energy  \\\n",
      "0             0  Afghanistan  0.511            57     1.772263 -0.107251   \n",
      "1             1      Albania  0.795           145     0.753233  0.236036   \n",
      "2             2      Algeria  0.748            38     1.357395 -0.402759   \n",
      "3             3      Andorra  0.868           177    -0.648122  1.944365   \n",
      "4             4       Angola  0.581            47     0.037706  2.020405   \n",
      "\n",
      "      waste  industrial  bunker fuels  \n",
      "0 -0.021030    0.014195     -0.034173  \n",
      "1  0.329757    0.017356     -0.010413  \n",
      "2 -0.009059    0.130304      0.013007  \n",
      "3  1.036995    0.000000      0.000000  \n",
      "4 -0.068499    0.035506      0.049960  \n"
     ]
    },
    {
     "data": {
      "text/plain": [
       "True"
      ]
     },
     "execution_count": 8,
     "metadata": {},
     "output_type": "execute_result"
    }
   ],
   "source": [
    "hdi = pd.read_csv(\"hdi.csv\")\n",
    "analysis_one = hdi.merge(df_ghgchange, on = 'country')\n",
    "\n",
    "analysis_one.drop([\"Time\", \"PopTotal\"], axis = 1, inplace = True)\n",
    "print(analysis_one.head())\n",
    "\n",
    "analysis_one.isnull().values.any()"
   ]
  },
  {
   "cell_type": "markdown",
   "metadata": {},
   "source": [
    "interestingly, this data contains nans. let's remove them!"
   ]
  },
  {
   "cell_type": "code",
   "execution_count": 9,
   "metadata": {},
   "outputs": [],
   "source": [
    "analysis_one = analysis_one.dropna()"
   ]
  },
  {
   "cell_type": "code",
   "execution_count": 10,
   "metadata": {},
   "outputs": [],
   "source": [
    "\n",
    "analysis_one = analysis_one.drop(['country'], axis = 1)\n",
    "analysis_one = analysis_one.astype(float)"
   ]
  },
  {
   "cell_type": "markdown",
   "metadata": {},
   "source": [
    "in order to describe a little more about the data, let's create a heatmap to check for correlation! this is as follows:"
   ]
  },
  {
   "cell_type": "code",
   "execution_count": 11,
   "metadata": {},
   "outputs": [
    {
     "data": {
      "image/png": "[encoded data removed]",
      "text/plain": [
       "<Figure size 432x288 with 2 Axes>"
      ]
     },
     "metadata": {
      "needs_background": "light"
     },
     "output_type": "display_data"
    }
   ],
   "source": [
    "sns.heatmap(analysis_one.corr(method = 'spearman'), center=0, cmap='coolwarm')\n",
    "plt.tight_layout()\n",
    "plt.show()"
   ]
  },
  {
   "cell_type": "markdown",
   "metadata": {},
   "source": [
    "these results might not be very significant in themselves, but we'd like to at least try to construct a model based on this data (given the wealth of what we have, and that there is a known correlation *at the least* between hdi and ghg emissions per capita). along these lines, let's try creating a multivariate linear regression to predict hdi, since hdi is a continuous float from 0-1:"
   ]
  },
  {
   "cell_type": "code",
   "execution_count": 12,
   "metadata": {},
   "outputs": [
    {
     "name": "stdout",
     "output_type": "stream",
     "text": [
      "                Agriculture  Energy      Waste      Industiral   Bunker Fuels\n",
      "coefficients = [-0.07289289  0.28846484 -0.00187978  0.00686723  0.00708508]\n",
      "r^2 = 0.06860448875673753\n"
     ]
    }
   ],
   "source": [
    "regression1 = LinearRegression().fit(analysis_one[{\"agriculture\", \"energy\", \"waste\", \"industrial\", \"bunker fuels\"}], analysis_one[\"hdi\"])\n",
    "print(\"                Agriculture  Energy      Waste      Industiral   Bunker Fuels\")\n",
    "print(\"coefficients = {}\".format(regression1.coef_))\n",
    "print(\"r^2 = {}\".format(regression1.score(analysis_one[{\"agriculture\", \"energy\", \"waste\", \"industrial\", \"bunker fuels\"}], analysis_one[\"hdi\"])))"
   ]
  },
  {
   "cell_type": "code",
   "execution_count": 13,
   "metadata": {},
   "outputs": [],
   "source": [
    "# for x in [\"agriculture\", \"energy\", \"waste\", \"industrial\", \"bunker fuels\"]:\n",
    "#     regression1 = LinearRegression().fit(analysis_one[[x]], analysis_one[\"hdi\"])\n",
    "#     print(x.capitalize() +':')\n",
    "#     print(\"coefficients = {}\".format(regression1.coef_))\n",
    "#     print(\"r^2 = {}\".format(regression1.score(analysis_one[[x]], analysis_one[\"hdi\"])))"
   ]
  },
  {
   "cell_type": "markdown",
   "metadata": {},
   "source": [
    "#### evaluation of significance\n",
    "\n",
    "already, this data doesn't seem particularly significant, but let's validate that with an evaluation of significance. for this, let's try bootstrapping our regression with n = 500 trials, to try and see how many slopes because of randomness could be more random than the one we got:"
   ]
  },
  {
   "cell_type": "code",
   "execution_count": 14,
   "metadata": {},
   "outputs": [
    {
     "name": "stdout",
     "output_type": "stream",
     "text": [
      "255 permuted slopes were of greater magnitude than the observed data.\n",
      "p-value implied: 0.51000\n"
     ]
    }
   ],
   "source": [
    "# creating the permutation method\n",
    "def permute(input_array):\n",
    "    # shuffle is inplace, so copy to preserve input\n",
    "    permuted = input_array.copy().values #convert to numpy array, avoiding warning\n",
    "    np.random.shuffle(permuted)\n",
    "    return pd.Series(permuted) # convert back to pandas\n",
    "\n",
    "count = 0\n",
    "\n",
    "for i in range(500):\n",
    "    permuted_model = LinearRegression().fit(analysis_one[{\"agriculture\", \"energy\", \"waste\", \"industrial\", \"bunker fuels\"}], permute(analysis_one[\"hdi\"]))\n",
    "    if(np.abs(permuted_model.coef_[0]) > np.abs(regression1.coef_[0])):\n",
    "        count += 1\n",
    "                                            \n",
    "print(\"{} permuted slopes were of greater magnitude than the observed data.\".format(count))\n",
    "                                            \n",
    "print(\"p-value implied: {:.5f}\".format(count / 500))"
   ]
  },
  {
   "cell_type": "markdown",
   "metadata": {},
   "source": [
    "that is... exactly what we thought? unfortunately, the implied value is much greater than most p-value cutoffs traditionally used (p = 0.1, p = 0.05, or p = 0.01); as a result, this data doesn't seem to be much better than could be done by random chance :("
   ]
  },
  {
   "cell_type": "markdown",
   "metadata": {},
   "source": [
    "## analysis two"
   ]
  },
  {
   "cell_type": "markdown",
   "metadata": {},
   "source": [
    "Like in analysis one, the data for analysis two has been imported and cleaned already in the data-cleaing file. In this case, the dataset is CIA industry data hand-formatted in Excel, containing the  CIA's ranking of the most important industires for each country's economy. In this file, we've chosen to focus on if each country has a focus on four industires related to fashion: Cotton, Clothing, Garments, Textiles. \n",
    "\n",
    "Here is the cleaned data being loaded:"
   ]
  },
  {
   "cell_type": "code",
   "execution_count": 15,
   "metadata": {},
   "outputs": [],
   "source": [
    "analysis_two=pd.read_csv(\"analysis_two.csv\")"
   ]
  },
  {
   "cell_type": "markdown",
   "metadata": {},
   "source": [
    "Now we can perform numerical analysis on the analysis two dataframe. The first thing we will do is create a heatmap of correlations in the dataframe. "
   ]
  },
  {
   "cell_type": "code",
   "execution_count": 16,
   "metadata": {},
   "outputs": [
    {
     "data": {
      "image/png": "[encoded data removed]",
      "text/plain": [
       "<Figure size 432x288 with 2 Axes>"
      ]
     },
     "metadata": {
      "needs_background": "light"
     },
     "output_type": "display_data"
    }
   ],
   "source": [
    "sns.heatmap(analysis_two.corr(), cmap='coolwarm', annot=True)\n",
    "plt.tight_layout()\n",
    "plt.show()"
   ]
  },
  {
   "cell_type": "markdown",
   "metadata": {},
   "source": [
    "We want to look at the correlations between hdi and the industry ranks, so we will only consider the first row. We see postive correlations between .29 and .62 for all four variables. The industry rank data is arranged in such a way that the higher the number, the less important that industry is in a counrty's economy. These correlations are showing that fashion related industries are less important to more developed countries. This fits with our intial expectations which were that the fashion industry is more important for less developed countries."
   ]
  },
  {
   "cell_type": "markdown",
   "metadata": {},
   "source": [
    "#### scatter Plots:\n",
    "To visualize these correaltions we will make scatter plots with linear regression lines"
   ]
  },
  {
   "cell_type": "code",
   "execution_count": 17,
   "metadata": {},
   "outputs": [
    {
     "data": {
      "text/plain": [
       "<function matplotlib.pyplot.ylabel(ylabel, fontdict=None, labelpad=None, *, loc=None, **kwargs)>"
      ]
     },
     "execution_count": 17,
     "metadata": {},
     "output_type": "execute_result"
    },
    {
     "data": {
      "image/png": "[encoded data removed]",
      "text/plain": [
       "<Figure size 432x288 with 1 Axes>"
      ]
     },
     "metadata": {
      "needs_background": "light"
     },
     "output_type": "display_data"
    }
   ],
   "source": [
    "plt.scatter(analysis_two.Textiles, analysis_two.hdi)\n",
    "plt.xlabel('Textiles')\n",
    "plt.ylabel"
   ]
  },
  {
   "cell_type": "code",
   "execution_count": 18,
   "metadata": {},
   "outputs": [
    {
     "data": {
      "text/plain": [
       "<matplotlib.collections.PathCollection at 0x7fcd8ad710a0>"
      ]
     },
     "execution_count": 18,
     "metadata": {},
     "output_type": "execute_result"
    },
    {
     "data": {
      "image/png": "[encoded data removed]",
      "text/plain": [
       "<Figure size 432x288 with 1 Axes>"
      ]
     },
     "metadata": {
      "needs_background": "light"
     },
     "output_type": "display_data"
    }
   ],
   "source": [
    "plt.scatter(analysis_two.Cotton, analysis_two.hdi)"
   ]
  },
  {
   "cell_type": "code",
   "execution_count": 19,
   "metadata": {},
   "outputs": [
    {
     "data": {
      "text/plain": [
       "<matplotlib.collections.PathCollection at 0x7fcd8ac94520>"
      ]
     },
     "execution_count": 19,
     "metadata": {},
     "output_type": "execute_result"
    },
    {
     "data": {
      "image/png": "[encoded data removed]",
      "text/plain": [
       "<Figure size 432x288 with 1 Axes>"
      ]
     },
     "metadata": {
      "needs_background": "light"
     },
     "output_type": "display_data"
    }
   ],
   "source": [
    "plt.scatter(analysis_two.Garments, analysis_two.hdi)"
   ]
  },
  {
   "cell_type": "code",
   "execution_count": 20,
   "metadata": {},
   "outputs": [
    {
     "data": {
      "text/plain": [
       "<matplotlib.collections.PathCollection at 0x7fcd8aa80b80>"
      ]
     },
     "execution_count": 20,
     "metadata": {},
     "output_type": "execute_result"
    },
    {
     "data": {
      "image/png": "[encoded data removed]",
      "text/plain": [
       "<Figure size 432x288 with 1 Axes>"
      ]
     },
     "metadata": {
      "needs_background": "light"
     },
     "output_type": "display_data"
    }
   ],
   "source": [
    "plt.scatter(analysis_two.Clothing, analysis_two.hdi)"
   ]
  },
  {
   "cell_type": "markdown",
   "metadata": {},
   "source": [
    "Here I'm merging the analysis_one dataframe that contains GHG emissions per sector ('countries', 'agriculture', 'energy', 'waste','industrial','bunker fuels') with the analysis_two df that contains the list of countries and their corresponding hdi and indexes regarding cotton, clothing, garments, and textiles."
   ]
  },
  {
   "cell_type": "code",
   "execution_count": 21,
   "metadata": {},
   "outputs": [
    {
     "data": {
      "text/html": [
       "<div>\n",
       "<style scoped>\n",
       "    .dataframe tbody tr th:only-of-type {\n",
       "        vertical-align: middle;\n",
       "    }\n",
       "\n",
       "    .dataframe tbody tr th {\n",
       "        vertical-align: top;\n",
       "    }\n",
       "\n",
       "    .dataframe thead th {\n",
       "        text-align: right;\n",
       "    }\n",
       "</style>\n",
       "<table border=\"1\" class=\"dataframe\">\n",
       "  <thead>\n",
       "    <tr style=\"text-align: right;\">\n",
       "      <th></th>\n",
       "      <th>Unnamed: 0_x</th>\n",
       "      <th>country</th>\n",
       "      <th>agriculture</th>\n",
       "      <th>energy</th>\n",
       "      <th>waste</th>\n",
       "      <th>industrial</th>\n",
       "      <th>bunker fuels</th>\n",
       "      <th>Time</th>\n",
       "      <th>PopTotal</th>\n",
       "      <th>Unnamed: 0_y</th>\n",
       "      <th>hdi</th>\n",
       "      <th>Cotton</th>\n",
       "      <th>Clothing</th>\n",
       "      <th>Garments</th>\n",
       "      <th>Textiles</th>\n",
       "    </tr>\n",
       "  </thead>\n",
       "  <tbody>\n",
       "    <tr>\n",
       "      <th>0</th>\n",
       "      <td>57</td>\n",
       "      <td>Afghanistan</td>\n",
       "      <td>1.772263</td>\n",
       "      <td>-0.107251</td>\n",
       "      <td>-0.021030</td>\n",
       "      <td>0.014195</td>\n",
       "      <td>-0.034173</td>\n",
       "      <td>2019</td>\n",
       "      <td>38041757.0</td>\n",
       "      <td>0.0</td>\n",
       "      <td>0.511</td>\n",
       "      <td>NaN</td>\n",
       "      <td>NaN</td>\n",
       "      <td>NaN</td>\n",
       "      <td>2.0</td>\n",
       "    </tr>\n",
       "    <tr>\n",
       "      <th>1</th>\n",
       "      <td>145</td>\n",
       "      <td>Albania</td>\n",
       "      <td>0.753233</td>\n",
       "      <td>0.236036</td>\n",
       "      <td>0.329757</td>\n",
       "      <td>0.017356</td>\n",
       "      <td>-0.010413</td>\n",
       "      <td>2019</td>\n",
       "      <td>2880913.0</td>\n",
       "      <td>1.0</td>\n",
       "      <td>0.795</td>\n",
       "      <td>NaN</td>\n",
       "      <td>2.0</td>\n",
       "      <td>NaN</td>\n",
       "      <td>NaN</td>\n",
       "    </tr>\n",
       "    <tr>\n",
       "      <th>2</th>\n",
       "      <td>38</td>\n",
       "      <td>Algeria</td>\n",
       "      <td>1.357395</td>\n",
       "      <td>-0.402759</td>\n",
       "      <td>-0.009059</td>\n",
       "      <td>0.130304</td>\n",
       "      <td>0.013007</td>\n",
       "      <td>2019</td>\n",
       "      <td>43053054.0</td>\n",
       "      <td>2.0</td>\n",
       "      <td>0.748</td>\n",
       "      <td>NaN</td>\n",
       "      <td>NaN</td>\n",
       "      <td>NaN</td>\n",
       "      <td>NaN</td>\n",
       "    </tr>\n",
       "    <tr>\n",
       "      <th>3</th>\n",
       "      <td>177</td>\n",
       "      <td>Andorra</td>\n",
       "      <td>-0.648122</td>\n",
       "      <td>1.944365</td>\n",
       "      <td>1.036995</td>\n",
       "      <td>0.000000</td>\n",
       "      <td>0.000000</td>\n",
       "      <td>2019</td>\n",
       "      <td>77146.0</td>\n",
       "      <td>3.0</td>\n",
       "      <td>0.868</td>\n",
       "      <td>NaN</td>\n",
       "      <td>NaN</td>\n",
       "      <td>NaN</td>\n",
       "      <td>NaN</td>\n",
       "    </tr>\n",
       "    <tr>\n",
       "      <th>4</th>\n",
       "      <td>47</td>\n",
       "      <td>Angola</td>\n",
       "      <td>0.037706</td>\n",
       "      <td>2.020405</td>\n",
       "      <td>-0.068499</td>\n",
       "      <td>0.035506</td>\n",
       "      <td>0.049960</td>\n",
       "      <td>2019</td>\n",
       "      <td>31825299.0</td>\n",
       "      <td>4.0</td>\n",
       "      <td>0.581</td>\n",
       "      <td>NaN</td>\n",
       "      <td>NaN</td>\n",
       "      <td>NaN</td>\n",
       "      <td>5.0</td>\n",
       "    </tr>\n",
       "    <tr>\n",
       "      <th>...</th>\n",
       "      <td>...</td>\n",
       "      <td>...</td>\n",
       "      <td>...</td>\n",
       "      <td>...</td>\n",
       "      <td>...</td>\n",
       "      <td>...</td>\n",
       "      <td>...</td>\n",
       "      <td>...</td>\n",
       "      <td>...</td>\n",
       "      <td>...</td>\n",
       "      <td>...</td>\n",
       "      <td>...</td>\n",
       "      <td>...</td>\n",
       "      <td>...</td>\n",
       "      <td>...</td>\n",
       "    </tr>\n",
       "    <tr>\n",
       "      <th>171</th>\n",
       "      <td>35</td>\n",
       "      <td>Uzbekistan</td>\n",
       "      <td>-0.468138</td>\n",
       "      <td>-0.446914</td>\n",
       "      <td>0.030320</td>\n",
       "      <td>0.088534</td>\n",
       "      <td>0.058517</td>\n",
       "      <td>2019</td>\n",
       "      <td>32981715.0</td>\n",
       "      <td>182.0</td>\n",
       "      <td>0.720</td>\n",
       "      <td>NaN</td>\n",
       "      <td>NaN</td>\n",
       "      <td>NaN</td>\n",
       "      <td>1.0</td>\n",
       "    </tr>\n",
       "    <tr>\n",
       "      <th>172</th>\n",
       "      <td>171</td>\n",
       "      <td>Vanuatu</td>\n",
       "      <td>0.466850</td>\n",
       "      <td>-0.266772</td>\n",
       "      <td>-1.200472</td>\n",
       "      <td>0.066693</td>\n",
       "      <td>0.033346</td>\n",
       "      <td>2019</td>\n",
       "      <td>299882.0</td>\n",
       "      <td>183.0</td>\n",
       "      <td>0.609</td>\n",
       "      <td>NaN</td>\n",
       "      <td>NaN</td>\n",
       "      <td>NaN</td>\n",
       "      <td>NaN</td>\n",
       "    </tr>\n",
       "    <tr>\n",
       "      <th>173</th>\n",
       "      <td>122</td>\n",
       "      <td>Yemen</td>\n",
       "      <td>-0.387492</td>\n",
       "      <td>0.147453</td>\n",
       "      <td>0.011659</td>\n",
       "      <td>0.007544</td>\n",
       "      <td>-0.001029</td>\n",
       "      <td>2019</td>\n",
       "      <td>29161922.0</td>\n",
       "      <td>186.0</td>\n",
       "      <td>0.470</td>\n",
       "      <td>2.0</td>\n",
       "      <td>NaN</td>\n",
       "      <td>NaN</td>\n",
       "      <td>2.0</td>\n",
       "    </tr>\n",
       "    <tr>\n",
       "      <th>174</th>\n",
       "      <td>59</td>\n",
       "      <td>Zambia</td>\n",
       "      <td>1.549182</td>\n",
       "      <td>-0.320250</td>\n",
       "      <td>0.029114</td>\n",
       "      <td>0.049829</td>\n",
       "      <td>0.035272</td>\n",
       "      <td>2019</td>\n",
       "      <td>17861034.0</td>\n",
       "      <td>187.0</td>\n",
       "      <td>0.584</td>\n",
       "      <td>NaN</td>\n",
       "      <td>NaN</td>\n",
       "      <td>NaN</td>\n",
       "      <td>7.0</td>\n",
       "    </tr>\n",
       "    <tr>\n",
       "      <th>175</th>\n",
       "      <td>49</td>\n",
       "      <td>Zimbabwe</td>\n",
       "      <td>5.695958</td>\n",
       "      <td>0.299751</td>\n",
       "      <td>0.053259</td>\n",
       "      <td>0.163190</td>\n",
       "      <td>0.072377</td>\n",
       "      <td>2019</td>\n",
       "      <td>14645473.0</td>\n",
       "      <td>188.0</td>\n",
       "      <td>0.571</td>\n",
       "      <td>NaN</td>\n",
       "      <td>7.0</td>\n",
       "      <td>NaN</td>\n",
       "      <td>NaN</td>\n",
       "    </tr>\n",
       "  </tbody>\n",
       "</table>\n",
       "<p>176 rows × 15 columns</p>\n",
       "</div>"
      ],
      "text/plain": [
       "     Unnamed: 0_x      country  agriculture    energy     waste  industrial  \\\n",
       "0              57  Afghanistan     1.772263 -0.107251 -0.021030    0.014195   \n",
       "1             145      Albania     0.753233  0.236036  0.329757    0.017356   \n",
       "2              38      Algeria     1.357395 -0.402759 -0.009059    0.130304   \n",
       "3             177      Andorra    -0.648122  1.944365  1.036995    0.000000   \n",
       "4              47       Angola     0.037706  2.020405 -0.068499    0.035506   \n",
       "..            ...          ...          ...       ...       ...         ...   \n",
       "171            35   Uzbekistan    -0.468138 -0.446914  0.030320    0.088534   \n",
       "172           171      Vanuatu     0.466850 -0.266772 -1.200472    0.066693   \n",
       "173           122        Yemen    -0.387492  0.147453  0.011659    0.007544   \n",
       "174            59       Zambia     1.549182 -0.320250  0.029114    0.049829   \n",
       "175            49     Zimbabwe     5.695958  0.299751  0.053259    0.163190   \n",
       "\n",
       "     bunker fuels  Time    PopTotal  Unnamed: 0_y    hdi  Cotton  Clothing  \\\n",
       "0       -0.034173  2019  38041757.0           0.0  0.511     NaN       NaN   \n",
       "1       -0.010413  2019   2880913.0           1.0  0.795     NaN       2.0   \n",
       "2        0.013007  2019  43053054.0           2.0  0.748     NaN       NaN   \n",
       "3        0.000000  2019     77146.0           3.0  0.868     NaN       NaN   \n",
       "4        0.049960  2019  31825299.0           4.0  0.581     NaN       NaN   \n",
       "..            ...   ...         ...           ...    ...     ...       ...   \n",
       "171      0.058517  2019  32981715.0         182.0  0.720     NaN       NaN   \n",
       "172      0.033346  2019    299882.0         183.0  0.609     NaN       NaN   \n",
       "173     -0.001029  2019  29161922.0         186.0  0.470     2.0       NaN   \n",
       "174      0.035272  2019  17861034.0         187.0  0.584     NaN       NaN   \n",
       "175      0.072377  2019  14645473.0         188.0  0.571     NaN       7.0   \n",
       "\n",
       "     Garments  Textiles  \n",
       "0         NaN       2.0  \n",
       "1         NaN       NaN  \n",
       "2         NaN       NaN  \n",
       "3         NaN       NaN  \n",
       "4         NaN       5.0  \n",
       "..        ...       ...  \n",
       "171       NaN       1.0  \n",
       "172       NaN       NaN  \n",
       "173       NaN       2.0  \n",
       "174       NaN       7.0  \n",
       "175       NaN       NaN  \n",
       "\n",
       "[176 rows x 15 columns]"
      ]
     },
     "execution_count": 21,
     "metadata": {},
     "output_type": "execute_result"
    }
   ],
   "source": [
    "analysis_two_all = df_ghgchange.merge(analysis_two, how='left', on='country')\n",
    "analysis_two_all"
   ]
  },
  {
   "cell_type": "markdown",
   "metadata": {},
   "source": [
    "In this cell, we are replacing all empty values with 0 so that we are able to run correlation tests with more data and so we can complete a KMeans clustering further down. "
   ]
  },
  {
   "cell_type": "code",
   "execution_count": 22,
   "metadata": {},
   "outputs": [
    {
     "data": {
      "text/html": [
       "<div>\n",
       "<style scoped>\n",
       "    .dataframe tbody tr th:only-of-type {\n",
       "        vertical-align: middle;\n",
       "    }\n",
       "\n",
       "    .dataframe tbody tr th {\n",
       "        vertical-align: top;\n",
       "    }\n",
       "\n",
       "    .dataframe thead th {\n",
       "        text-align: right;\n",
       "    }\n",
       "</style>\n",
       "<table border=\"1\" class=\"dataframe\">\n",
       "  <thead>\n",
       "    <tr style=\"text-align: right;\">\n",
       "      <th></th>\n",
       "      <th>Cotton</th>\n",
       "      <th>Clothing</th>\n",
       "      <th>Garments</th>\n",
       "      <th>Textiles</th>\n",
       "      <th>hdi</th>\n",
       "      <th>energy</th>\n",
       "      <th>bunker fuels</th>\n",
       "      <th>agriculture</th>\n",
       "      <th>industrial</th>\n",
       "      <th>waste</th>\n",
       "    </tr>\n",
       "  </thead>\n",
       "  <tbody>\n",
       "    <tr>\n",
       "      <th>0</th>\n",
       "      <td>0.0</td>\n",
       "      <td>0.0</td>\n",
       "      <td>0.0</td>\n",
       "      <td>2.0</td>\n",
       "      <td>0.511</td>\n",
       "      <td>-0.107251</td>\n",
       "      <td>-0.034173</td>\n",
       "      <td>1.772263</td>\n",
       "      <td>0.014195</td>\n",
       "      <td>-0.021030</td>\n",
       "    </tr>\n",
       "    <tr>\n",
       "      <th>1</th>\n",
       "      <td>0.0</td>\n",
       "      <td>2.0</td>\n",
       "      <td>0.0</td>\n",
       "      <td>0.0</td>\n",
       "      <td>0.795</td>\n",
       "      <td>0.236036</td>\n",
       "      <td>-0.010413</td>\n",
       "      <td>0.753233</td>\n",
       "      <td>0.017356</td>\n",
       "      <td>0.329757</td>\n",
       "    </tr>\n",
       "    <tr>\n",
       "      <th>2</th>\n",
       "      <td>0.0</td>\n",
       "      <td>0.0</td>\n",
       "      <td>0.0</td>\n",
       "      <td>0.0</td>\n",
       "      <td>0.748</td>\n",
       "      <td>-0.402759</td>\n",
       "      <td>0.013007</td>\n",
       "      <td>1.357395</td>\n",
       "      <td>0.130304</td>\n",
       "      <td>-0.009059</td>\n",
       "    </tr>\n",
       "    <tr>\n",
       "      <th>3</th>\n",
       "      <td>0.0</td>\n",
       "      <td>0.0</td>\n",
       "      <td>0.0</td>\n",
       "      <td>0.0</td>\n",
       "      <td>0.868</td>\n",
       "      <td>1.944365</td>\n",
       "      <td>0.000000</td>\n",
       "      <td>-0.648122</td>\n",
       "      <td>0.000000</td>\n",
       "      <td>1.036995</td>\n",
       "    </tr>\n",
       "    <tr>\n",
       "      <th>4</th>\n",
       "      <td>0.0</td>\n",
       "      <td>0.0</td>\n",
       "      <td>0.0</td>\n",
       "      <td>5.0</td>\n",
       "      <td>0.581</td>\n",
       "      <td>2.020405</td>\n",
       "      <td>0.049960</td>\n",
       "      <td>0.037706</td>\n",
       "      <td>0.035506</td>\n",
       "      <td>-0.068499</td>\n",
       "    </tr>\n",
       "    <tr>\n",
       "      <th>...</th>\n",
       "      <td>...</td>\n",
       "      <td>...</td>\n",
       "      <td>...</td>\n",
       "      <td>...</td>\n",
       "      <td>...</td>\n",
       "      <td>...</td>\n",
       "      <td>...</td>\n",
       "      <td>...</td>\n",
       "      <td>...</td>\n",
       "      <td>...</td>\n",
       "    </tr>\n",
       "    <tr>\n",
       "      <th>171</th>\n",
       "      <td>0.0</td>\n",
       "      <td>0.0</td>\n",
       "      <td>0.0</td>\n",
       "      <td>1.0</td>\n",
       "      <td>0.720</td>\n",
       "      <td>-0.446914</td>\n",
       "      <td>0.058517</td>\n",
       "      <td>-0.468138</td>\n",
       "      <td>0.088534</td>\n",
       "      <td>0.030320</td>\n",
       "    </tr>\n",
       "    <tr>\n",
       "      <th>172</th>\n",
       "      <td>0.0</td>\n",
       "      <td>0.0</td>\n",
       "      <td>0.0</td>\n",
       "      <td>0.0</td>\n",
       "      <td>0.609</td>\n",
       "      <td>-0.266772</td>\n",
       "      <td>0.033346</td>\n",
       "      <td>0.466850</td>\n",
       "      <td>0.066693</td>\n",
       "      <td>-1.200472</td>\n",
       "    </tr>\n",
       "    <tr>\n",
       "      <th>173</th>\n",
       "      <td>2.0</td>\n",
       "      <td>0.0</td>\n",
       "      <td>0.0</td>\n",
       "      <td>2.0</td>\n",
       "      <td>0.470</td>\n",
       "      <td>0.147453</td>\n",
       "      <td>-0.001029</td>\n",
       "      <td>-0.387492</td>\n",
       "      <td>0.007544</td>\n",
       "      <td>0.011659</td>\n",
       "    </tr>\n",
       "    <tr>\n",
       "      <th>174</th>\n",
       "      <td>0.0</td>\n",
       "      <td>0.0</td>\n",
       "      <td>0.0</td>\n",
       "      <td>7.0</td>\n",
       "      <td>0.584</td>\n",
       "      <td>-0.320250</td>\n",
       "      <td>0.035272</td>\n",
       "      <td>1.549182</td>\n",
       "      <td>0.049829</td>\n",
       "      <td>0.029114</td>\n",
       "    </tr>\n",
       "    <tr>\n",
       "      <th>175</th>\n",
       "      <td>0.0</td>\n",
       "      <td>7.0</td>\n",
       "      <td>0.0</td>\n",
       "      <td>0.0</td>\n",
       "      <td>0.571</td>\n",
       "      <td>0.299751</td>\n",
       "      <td>0.072377</td>\n",
       "      <td>5.695958</td>\n",
       "      <td>0.163190</td>\n",
       "      <td>0.053259</td>\n",
       "    </tr>\n",
       "  </tbody>\n",
       "</table>\n",
       "<p>176 rows × 10 columns</p>\n",
       "</div>"
      ],
      "text/plain": [
       "     Cotton  Clothing  Garments  Textiles    hdi    energy  bunker fuels  \\\n",
       "0       0.0       0.0       0.0       2.0  0.511 -0.107251     -0.034173   \n",
       "1       0.0       2.0       0.0       0.0  0.795  0.236036     -0.010413   \n",
       "2       0.0       0.0       0.0       0.0  0.748 -0.402759      0.013007   \n",
       "3       0.0       0.0       0.0       0.0  0.868  1.944365      0.000000   \n",
       "4       0.0       0.0       0.0       5.0  0.581  2.020405      0.049960   \n",
       "..      ...       ...       ...       ...    ...       ...           ...   \n",
       "171     0.0       0.0       0.0       1.0  0.720 -0.446914      0.058517   \n",
       "172     0.0       0.0       0.0       0.0  0.609 -0.266772      0.033346   \n",
       "173     2.0       0.0       0.0       2.0  0.470  0.147453     -0.001029   \n",
       "174     0.0       0.0       0.0       7.0  0.584 -0.320250      0.035272   \n",
       "175     0.0       7.0       0.0       0.0  0.571  0.299751      0.072377   \n",
       "\n",
       "     agriculture  industrial     waste  \n",
       "0       1.772263    0.014195 -0.021030  \n",
       "1       0.753233    0.017356  0.329757  \n",
       "2       1.357395    0.130304 -0.009059  \n",
       "3      -0.648122    0.000000  1.036995  \n",
       "4       0.037706    0.035506 -0.068499  \n",
       "..           ...         ...       ...  \n",
       "171    -0.468138    0.088534  0.030320  \n",
       "172     0.466850    0.066693 -1.200472  \n",
       "173    -0.387492    0.007544  0.011659  \n",
       "174     1.549182    0.049829  0.029114  \n",
       "175     5.695958    0.163190  0.053259  \n",
       "\n",
       "[176 rows x 10 columns]"
      ]
     },
     "execution_count": 22,
     "metadata": {},
     "output_type": "execute_result"
    }
   ],
   "source": [
    "analysis_two_all_temp = analysis_two_all[['Cotton','Clothing','Garments','Textiles','hdi','energy','bunker fuels','agriculture','industrial','waste']].fillna(0)\n",
    "analysis_two_all_temp"
   ]
  },
  {
   "cell_type": "markdown",
   "metadata": {},
   "source": [
    "Though we have already generated scatterplots showing the correlation between country industry output vs. hdi, we decided to run a pearson correlation method here so we could generate a table that shows a quantifiable strength of association between all of our variables."
   ]
  },
  {
   "cell_type": "code",
   "execution_count": 23,
   "metadata": {},
   "outputs": [
    {
     "data": {
      "text/html": [
       "<div>\n",
       "<style scoped>\n",
       "    .dataframe tbody tr th:only-of-type {\n",
       "        vertical-align: middle;\n",
       "    }\n",
       "\n",
       "    .dataframe tbody tr th {\n",
       "        vertical-align: top;\n",
       "    }\n",
       "\n",
       "    .dataframe thead th {\n",
       "        text-align: right;\n",
       "    }\n",
       "</style>\n",
       "<table border=\"1\" class=\"dataframe\">\n",
       "  <thead>\n",
       "    <tr style=\"text-align: right;\">\n",
       "      <th></th>\n",
       "      <th>Unnamed: 0_x</th>\n",
       "      <th>agriculture</th>\n",
       "      <th>energy</th>\n",
       "      <th>waste</th>\n",
       "      <th>industrial</th>\n",
       "      <th>bunker fuels</th>\n",
       "      <th>Time</th>\n",
       "      <th>PopTotal</th>\n",
       "      <th>Unnamed: 0_y</th>\n",
       "      <th>hdi</th>\n",
       "      <th>Cotton</th>\n",
       "      <th>Clothing</th>\n",
       "      <th>Garments</th>\n",
       "      <th>Textiles</th>\n",
       "    </tr>\n",
       "  </thead>\n",
       "  <tbody>\n",
       "    <tr>\n",
       "      <th>Unnamed: 0_x</th>\n",
       "      <td>1.000000</td>\n",
       "      <td>0.003570</td>\n",
       "      <td>0.010272</td>\n",
       "      <td>0.084269</td>\n",
       "      <td>-0.245767</td>\n",
       "      <td>-0.074313</td>\n",
       "      <td>NaN</td>\n",
       "      <td>-0.343702</td>\n",
       "      <td>-0.034148</td>\n",
       "      <td>-0.114833</td>\n",
       "      <td>0.225349</td>\n",
       "      <td>-0.452557</td>\n",
       "      <td>0.746374</td>\n",
       "      <td>-0.017087</td>\n",
       "    </tr>\n",
       "    <tr>\n",
       "      <th>agriculture</th>\n",
       "      <td>0.003570</td>\n",
       "      <td>1.000000</td>\n",
       "      <td>0.159097</td>\n",
       "      <td>0.073843</td>\n",
       "      <td>-0.162669</td>\n",
       "      <td>0.032573</td>\n",
       "      <td>NaN</td>\n",
       "      <td>-0.015141</td>\n",
       "      <td>0.145425</td>\n",
       "      <td>-0.094774</td>\n",
       "      <td>-0.393239</td>\n",
       "      <td>-0.322005</td>\n",
       "      <td>0.621798</td>\n",
       "      <td>-0.102082</td>\n",
       "    </tr>\n",
       "    <tr>\n",
       "      <th>energy</th>\n",
       "      <td>0.010272</td>\n",
       "      <td>0.159097</td>\n",
       "      <td>1.000000</td>\n",
       "      <td>0.115894</td>\n",
       "      <td>-0.044348</td>\n",
       "      <td>0.166024</td>\n",
       "      <td>NaN</td>\n",
       "      <td>0.065008</td>\n",
       "      <td>-0.061850</td>\n",
       "      <td>0.099588</td>\n",
       "      <td>0.765674</td>\n",
       "      <td>0.263331</td>\n",
       "      <td>-0.009347</td>\n",
       "      <td>0.197165</td>\n",
       "    </tr>\n",
       "    <tr>\n",
       "      <th>waste</th>\n",
       "      <td>0.084269</td>\n",
       "      <td>0.073843</td>\n",
       "      <td>0.115894</td>\n",
       "      <td>1.000000</td>\n",
       "      <td>0.023730</td>\n",
       "      <td>0.043180</td>\n",
       "      <td>NaN</td>\n",
       "      <td>-0.019987</td>\n",
       "      <td>0.023466</td>\n",
       "      <td>0.088450</td>\n",
       "      <td>-0.061182</td>\n",
       "      <td>-0.112905</td>\n",
       "      <td>0.817127</td>\n",
       "      <td>-0.036636</td>\n",
       "    </tr>\n",
       "    <tr>\n",
       "      <th>industrial</th>\n",
       "      <td>-0.245767</td>\n",
       "      <td>-0.162669</td>\n",
       "      <td>-0.044348</td>\n",
       "      <td>0.023730</td>\n",
       "      <td>1.000000</td>\n",
       "      <td>0.153997</td>\n",
       "      <td>NaN</td>\n",
       "      <td>0.090065</td>\n",
       "      <td>-0.029595</td>\n",
       "      <td>0.206157</td>\n",
       "      <td>0.286376</td>\n",
       "      <td>-0.113893</td>\n",
       "      <td>-0.779732</td>\n",
       "      <td>-0.002842</td>\n",
       "    </tr>\n",
       "    <tr>\n",
       "      <th>bunker fuels</th>\n",
       "      <td>-0.074313</td>\n",
       "      <td>0.032573</td>\n",
       "      <td>0.166024</td>\n",
       "      <td>0.043180</td>\n",
       "      <td>0.153997</td>\n",
       "      <td>1.000000</td>\n",
       "      <td>NaN</td>\n",
       "      <td>-0.006062</td>\n",
       "      <td>0.004061</td>\n",
       "      <td>-0.007977</td>\n",
       "      <td>-0.482955</td>\n",
       "      <td>0.257322</td>\n",
       "      <td>-0.424436</td>\n",
       "      <td>-0.095443</td>\n",
       "    </tr>\n",
       "    <tr>\n",
       "      <th>Time</th>\n",
       "      <td>NaN</td>\n",
       "      <td>NaN</td>\n",
       "      <td>NaN</td>\n",
       "      <td>NaN</td>\n",
       "      <td>NaN</td>\n",
       "      <td>NaN</td>\n",
       "      <td>NaN</td>\n",
       "      <td>NaN</td>\n",
       "      <td>NaN</td>\n",
       "      <td>NaN</td>\n",
       "      <td>NaN</td>\n",
       "      <td>NaN</td>\n",
       "      <td>NaN</td>\n",
       "      <td>NaN</td>\n",
       "    </tr>\n",
       "    <tr>\n",
       "      <th>PopTotal</th>\n",
       "      <td>-0.343702</td>\n",
       "      <td>-0.015141</td>\n",
       "      <td>0.065008</td>\n",
       "      <td>-0.019987</td>\n",
       "      <td>0.090065</td>\n",
       "      <td>-0.006062</td>\n",
       "      <td>NaN</td>\n",
       "      <td>1.000000</td>\n",
       "      <td>-0.075188</td>\n",
       "      <td>-0.030505</td>\n",
       "      <td>-0.231505</td>\n",
       "      <td>0.349150</td>\n",
       "      <td>-0.249725</td>\n",
       "      <td>-0.130103</td>\n",
       "    </tr>\n",
       "    <tr>\n",
       "      <th>Unnamed: 0_y</th>\n",
       "      <td>-0.034148</td>\n",
       "      <td>0.145425</td>\n",
       "      <td>-0.061850</td>\n",
       "      <td>0.023466</td>\n",
       "      <td>-0.029595</td>\n",
       "      <td>0.004061</td>\n",
       "      <td>NaN</td>\n",
       "      <td>-0.075188</td>\n",
       "      <td>1.000000</td>\n",
       "      <td>-0.020059</td>\n",
       "      <td>0.389003</td>\n",
       "      <td>0.294384</td>\n",
       "      <td>0.007843</td>\n",
       "      <td>-0.015891</td>\n",
       "    </tr>\n",
       "    <tr>\n",
       "      <th>hdi</th>\n",
       "      <td>-0.114833</td>\n",
       "      <td>-0.094774</td>\n",
       "      <td>0.099588</td>\n",
       "      <td>0.088450</td>\n",
       "      <td>0.206157</td>\n",
       "      <td>-0.007977</td>\n",
       "      <td>NaN</td>\n",
       "      <td>-0.030505</td>\n",
       "      <td>-0.020059</td>\n",
       "      <td>1.000000</td>\n",
       "      <td>0.618061</td>\n",
       "      <td>0.379034</td>\n",
       "      <td>0.289884</td>\n",
       "      <td>0.394550</td>\n",
       "    </tr>\n",
       "    <tr>\n",
       "      <th>Cotton</th>\n",
       "      <td>0.225349</td>\n",
       "      <td>-0.393239</td>\n",
       "      <td>0.765674</td>\n",
       "      <td>-0.061182</td>\n",
       "      <td>0.286376</td>\n",
       "      <td>-0.482955</td>\n",
       "      <td>NaN</td>\n",
       "      <td>-0.231505</td>\n",
       "      <td>0.389003</td>\n",
       "      <td>0.618061</td>\n",
       "      <td>1.000000</td>\n",
       "      <td>NaN</td>\n",
       "      <td>NaN</td>\n",
       "      <td>0.847122</td>\n",
       "    </tr>\n",
       "    <tr>\n",
       "      <th>Clothing</th>\n",
       "      <td>-0.452557</td>\n",
       "      <td>-0.322005</td>\n",
       "      <td>0.263331</td>\n",
       "      <td>-0.112905</td>\n",
       "      <td>-0.113893</td>\n",
       "      <td>0.257322</td>\n",
       "      <td>NaN</td>\n",
       "      <td>0.349150</td>\n",
       "      <td>0.294384</td>\n",
       "      <td>0.379034</td>\n",
       "      <td>NaN</td>\n",
       "      <td>1.000000</td>\n",
       "      <td>NaN</td>\n",
       "      <td>0.978453</td>\n",
       "    </tr>\n",
       "    <tr>\n",
       "      <th>Garments</th>\n",
       "      <td>0.746374</td>\n",
       "      <td>0.621798</td>\n",
       "      <td>-0.009347</td>\n",
       "      <td>0.817127</td>\n",
       "      <td>-0.779732</td>\n",
       "      <td>-0.424436</td>\n",
       "      <td>NaN</td>\n",
       "      <td>-0.249725</td>\n",
       "      <td>0.007843</td>\n",
       "      <td>0.289884</td>\n",
       "      <td>NaN</td>\n",
       "      <td>NaN</td>\n",
       "      <td>1.000000</td>\n",
       "      <td>-0.441726</td>\n",
       "    </tr>\n",
       "    <tr>\n",
       "      <th>Textiles</th>\n",
       "      <td>-0.017087</td>\n",
       "      <td>-0.102082</td>\n",
       "      <td>0.197165</td>\n",
       "      <td>-0.036636</td>\n",
       "      <td>-0.002842</td>\n",
       "      <td>-0.095443</td>\n",
       "      <td>NaN</td>\n",
       "      <td>-0.130103</td>\n",
       "      <td>-0.015891</td>\n",
       "      <td>0.394550</td>\n",
       "      <td>0.847122</td>\n",
       "      <td>0.978453</td>\n",
       "      <td>-0.441726</td>\n",
       "      <td>1.000000</td>\n",
       "    </tr>\n",
       "  </tbody>\n",
       "</table>\n",
       "</div>"
      ],
      "text/plain": [
       "              Unnamed: 0_x  agriculture    energy     waste  industrial  \\\n",
       "Unnamed: 0_x      1.000000     0.003570  0.010272  0.084269   -0.245767   \n",
       "agriculture       0.003570     1.000000  0.159097  0.073843   -0.162669   \n",
       "energy            0.010272     0.159097  1.000000  0.115894   -0.044348   \n",
       "waste             0.084269     0.073843  0.115894  1.000000    0.023730   \n",
       "industrial       -0.245767    -0.162669 -0.044348  0.023730    1.000000   \n",
       "bunker fuels     -0.074313     0.032573  0.166024  0.043180    0.153997   \n",
       "Time                   NaN          NaN       NaN       NaN         NaN   \n",
       "PopTotal         -0.343702    -0.015141  0.065008 -0.019987    0.090065   \n",
       "Unnamed: 0_y     -0.034148     0.145425 -0.061850  0.023466   -0.029595   \n",
       "hdi              -0.114833    -0.094774  0.099588  0.088450    0.206157   \n",
       "Cotton            0.225349    -0.393239  0.765674 -0.061182    0.286376   \n",
       "Clothing         -0.452557    -0.322005  0.263331 -0.112905   -0.113893   \n",
       "Garments          0.746374     0.621798 -0.009347  0.817127   -0.779732   \n",
       "Textiles         -0.017087    -0.102082  0.197165 -0.036636   -0.002842   \n",
       "\n",
       "              bunker fuels  Time  PopTotal  Unnamed: 0_y       hdi    Cotton  \\\n",
       "Unnamed: 0_x     -0.074313   NaN -0.343702     -0.034148 -0.114833  0.225349   \n",
       "agriculture       0.032573   NaN -0.015141      0.145425 -0.094774 -0.393239   \n",
       "energy            0.166024   NaN  0.065008     -0.061850  0.099588  0.765674   \n",
       "waste             0.043180   NaN -0.019987      0.023466  0.088450 -0.061182   \n",
       "industrial        0.153997   NaN  0.090065     -0.029595  0.206157  0.286376   \n",
       "bunker fuels      1.000000   NaN -0.006062      0.004061 -0.007977 -0.482955   \n",
       "Time                   NaN   NaN       NaN           NaN       NaN       NaN   \n",
       "PopTotal         -0.006062   NaN  1.000000     -0.075188 -0.030505 -0.231505   \n",
       "Unnamed: 0_y      0.004061   NaN -0.075188      1.000000 -0.020059  0.389003   \n",
       "hdi              -0.007977   NaN -0.030505     -0.020059  1.000000  0.618061   \n",
       "Cotton           -0.482955   NaN -0.231505      0.389003  0.618061  1.000000   \n",
       "Clothing          0.257322   NaN  0.349150      0.294384  0.379034       NaN   \n",
       "Garments         -0.424436   NaN -0.249725      0.007843  0.289884       NaN   \n",
       "Textiles         -0.095443   NaN -0.130103     -0.015891  0.394550  0.847122   \n",
       "\n",
       "              Clothing  Garments  Textiles  \n",
       "Unnamed: 0_x -0.452557  0.746374 -0.017087  \n",
       "agriculture  -0.322005  0.621798 -0.102082  \n",
       "energy        0.263331 -0.009347  0.197165  \n",
       "waste        -0.112905  0.817127 -0.036636  \n",
       "industrial   -0.113893 -0.779732 -0.002842  \n",
       "bunker fuels  0.257322 -0.424436 -0.095443  \n",
       "Time               NaN       NaN       NaN  \n",
       "PopTotal      0.349150 -0.249725 -0.130103  \n",
       "Unnamed: 0_y  0.294384  0.007843 -0.015891  \n",
       "hdi           0.379034  0.289884  0.394550  \n",
       "Cotton             NaN       NaN  0.847122  \n",
       "Clothing      1.000000       NaN  0.978453  \n",
       "Garments           NaN  1.000000 -0.441726  \n",
       "Textiles      0.978453 -0.441726  1.000000  "
      ]
     },
     "execution_count": 23,
     "metadata": {},
     "output_type": "execute_result"
    }
   ],
   "source": [
    "analysis_two_all.corr(method='pearson')"
   ]
  },
  {
   "cell_type": "markdown",
   "metadata": {},
   "source": [
    "some interesting points to keep in mind regarding this output:\n",
    "- there is a relatively high positive correlation (.765674) between Cotton industry output and energy GHG emissions\n",
    "- there is also a fairly high positive correlation (.618061) between hdi and cotton industry output.\n",
    "- in fact, there is actually a smaller, but still present, positive correlation between hdi and clothing industry output, hdi and garments industry output, and hdi and textiles industry output. \n",
    "- there is a high positive correlation between Garments industry output and agriculture GHG emissions, and between Garments and waste GHG emissions. \n",
    "- apart from the above exceptions, many of the correlations between industry outputs and GHG emissions by sector appear to not be strong associations. This is not what we would initially expect to find considering the general common notion that fast fashion has detrimental environmental effects. "
   ]
  },
  {
   "cell_type": "markdown",
   "metadata": {},
   "source": [
    "since the pearson correlations above seem to imply a positive relationship between certain industry outputs and GHG emissions, we want to create regplots for each industry output compared to each GHG emission sector so we can visualize any relationship trends"
   ]
  },
  {
   "cell_type": "markdown",
   "metadata": {},
   "source": [
    "we'll start with comparing each GHG emission sector to Textile industry output. "
   ]
  },
  {
   "cell_type": "code",
   "execution_count": 24,
   "metadata": {},
   "outputs": [
    {
     "data": {
      "image/png": "[encoded data removed]",
      "text/plain": [
       "<Figure size 432x288 with 1 Axes>"
      ]
     },
     "metadata": {
      "needs_background": "light"
     },
     "output_type": "display_data"
    },
    {
     "data": {
      "image/png": "[encoded data removed]",
      "text/plain": [
       "<Figure size 432x288 with 1 Axes>"
      ]
     },
     "metadata": {
      "needs_background": "light"
     },
     "output_type": "display_data"
    },
    {
     "data": {
      "image/png": "[encoded data removed]",
      "text/plain": [
       "<Figure size 432x288 with 1 Axes>"
      ]
     },
     "metadata": {
      "needs_background": "light"
     },
     "output_type": "display_data"
    },
    {
     "data": {
      "image/png": "[encoded data removed]",
      "text/plain": [
       "<Figure size 432x288 with 1 Axes>"
      ]
     },
     "metadata": {
      "needs_background": "light"
     },
     "output_type": "display_data"
    },
    {
     "data": {
      "image/png": "[encoded data removed]",
      "text/plain": [
       "<Figure size 432x288 with 1 Axes>"
      ]
     },
     "metadata": {
      "needs_background": "light"
     },
     "output_type": "display_data"
    }
   ],
   "source": [
    "list = ['agriculture','energy','waste','industrial','bunker fuels']\n",
    "for c in list:\n",
    "  sns.regplot(x = c, y ='Textiles', data = analysis_two_all, scatter_kws ={'alpha': 0.5}) \n",
    "  plt.show()"
   ]
  },
  {
   "cell_type": "markdown",
   "metadata": {},
   "source": [
    "OOO - what's this? These graphs are a little all over the place but if we examine the Energy Emissions vs. Textiles Index we can see what appears to be a slight positive linear correlation, implying that there is in fact a relationship between the increase in textile industry output and the green house gas emissions per country in the energy sector. This makes complete sense considering that energy GHG emissions are produced from electricity, power, heat,and chemical reactions which are all processes involved in manufacturing textiles on a mass scale. There could also be a very slight positive correlation seen in the industrial GHG Emissions vs. Textiles Index graph which would again make sense for the same reasons previously stated. The other three graphs deliver inconclusive data. "
   ]
  },
  {
   "cell_type": "markdown",
   "metadata": {},
   "source": [
    "Next, let's look at the garment industry output vs. each emission sector. "
   ]
  },
  {
   "cell_type": "code",
   "execution_count": 25,
   "metadata": {},
   "outputs": [
    {
     "data": {
      "image/png": "[encoded data removed]",
      "text/plain": [
       "<Figure size 432x288 with 1 Axes>"
      ]
     },
     "metadata": {
      "needs_background": "light"
     },
     "output_type": "display_data"
    },
    {
     "data": {
      "image/png": "[encoded data removed]",
      "text/plain": [
       "<Figure size 432x288 with 1 Axes>"
      ]
     },
     "metadata": {
      "needs_background": "light"
     },
     "output_type": "display_data"
    },
    {
     "data": {
      "image/png": "[encoded data removed]",
      "text/plain": [
       "<Figure size 432x288 with 1 Axes>"
      ]
     },
     "metadata": {
      "needs_background": "light"
     },
     "output_type": "display_data"
    },
    {
     "data": {
      "image/png": "[encoded data removed]",
      "text/plain": [
       "<Figure size 432x288 with 1 Axes>"
      ]
     },
     "metadata": {
      "needs_background": "light"
     },
     "output_type": "display_data"
    },
    {
     "data": {
      "image/png": "[encoded data removed]",
      "text/plain": [
       "<Figure size 432x288 with 1 Axes>"
      ]
     },
     "metadata": {
      "needs_background": "light"
     },
     "output_type": "display_data"
    }
   ],
   "source": [
    "for c in list:\n",
    "  sns.regplot(x = c, y ='Garments', data = analysis_two_all, scatter_kws ={'alpha': 0.5}) \n",
    "  plt.show()"
   ]
  },
  {
   "cell_type": "markdown",
   "metadata": {},
   "source": [
    "Hmmm these graphs don't seem to be telling us much...Due to the lack of data under Garment indexes, there's not a very clear relationship between Garments and any of the GHG emission sectors, or at least not a relationship discernable from a simple scatterplot."
   ]
  },
  {
   "cell_type": "markdown",
   "metadata": {},
   "source": [
    "Now let's examine cotton industry output vs. GHG emission sector"
   ]
  },
  {
   "cell_type": "code",
   "execution_count": 26,
   "metadata": {},
   "outputs": [
    {
     "data": {
      "image/png": "[encoded data removed]",
      "text/plain": [
       "<Figure size 432x288 with 1 Axes>"
      ]
     },
     "metadata": {
      "needs_background": "light"
     },
     "output_type": "display_data"
    },
    {
     "data": {
      "image/png": "[encoded data removed]",
      "text/plain": [
       "<Figure size 432x288 with 1 Axes>"
      ]
     },
     "metadata": {
      "needs_background": "light"
     },
     "output_type": "display_data"
    },
    {
     "data": {
      "image/png": "[encoded data removed]",
      "text/plain": [
       "<Figure size 432x288 with 1 Axes>"
      ]
     },
     "metadata": {
      "needs_background": "light"
     },
     "output_type": "display_data"
    },
    {
     "data": {
      "image/png": "[encoded data removed]",
      "text/plain": [
       "<Figure size 432x288 with 1 Axes>"
      ]
     },
     "metadata": {
      "needs_background": "light"
     },
     "output_type": "display_data"
    },
    {
     "data": {
      "image/png": "[encoded data removed]",
      "text/plain": [
       "<Figure size 432x288 with 1 Axes>"
      ]
     },
     "metadata": {
      "needs_background": "light"
     },
     "output_type": "display_data"
    }
   ],
   "source": [
    "for c in list:\n",
    "  sns.regplot(x = c, y ='Cotton', data = analysis_two_all, scatter_kws ={'alpha': 0.5}) \n",
    "  plt.show()"
   ]
  },
  {
   "cell_type": "markdown",
   "metadata": {},
   "source": [
    "Uh oh, the lack of data for Cotton indexes seems to be giving us some issues in terms of deciphering a relationship between cotton indexes and GHG emission sectors. "
   ]
  },
  {
   "cell_type": "markdown",
   "metadata": {},
   "source": [
    "Finally, we will examine clothing industry output vs. GHG emission sector. "
   ]
  },
  {
   "cell_type": "code",
   "execution_count": 27,
   "metadata": {},
   "outputs": [
    {
     "data": {
      "image/png": "[encoded data removed]",
      "text/plain": [
       "<Figure size 432x288 with 1 Axes>"
      ]
     },
     "metadata": {
      "needs_background": "light"
     },
     "output_type": "display_data"
    },
    {
     "data": {
      "image/png": "[encoded data removed]",
      "text/plain": [
       "<Figure size 432x288 with 1 Axes>"
      ]
     },
     "metadata": {
      "needs_background": "light"
     },
     "output_type": "display_data"
    },
    {
     "data": {
      "image/png": "[encoded data removed]",
      "text/plain": [
       "<Figure size 432x288 with 1 Axes>"
      ]
     },
     "metadata": {
      "needs_background": "light"
     },
     "output_type": "display_data"
    },
    {
     "data": {
      "image/png": "[encoded data removed]",
      "text/plain": [
       "<Figure size 432x288 with 1 Axes>"
      ]
     },
     "metadata": {
      "needs_background": "light"
     },
     "output_type": "display_data"
    },
    {
     "data": {
      "image/png": "[encoded data removed]",
      "text/plain": [
       "<Figure size 432x288 with 1 Axes>"
      ]
     },
     "metadata": {
      "needs_background": "light"
     },
     "output_type": "display_data"
    }
   ],
   "source": [
    "for c in list:\n",
    "  sns.regplot(x = c, y ='Clothing', data = analysis_two_all, scatter_kws ={'alpha': 0.5}) \n",
    "  plt.show()"
   ]
  },
  {
   "cell_type": "markdown",
   "metadata": {},
   "source": [
    "Hmm what are these graphs telling us? It seems like there is yet another slight positive correlation for Industrial GHG Emissions vs Clothing indexes, and Energy GHG Emissions vs. Clothing indexes. For Agriculture, Bunker Fuels, and Waste, the relationship with Clothing indexes still remains unclear. "
   ]
  },
  {
   "cell_type": "markdown",
   "metadata": {},
   "source": [
    "In this cell, we perform KMeans clustering in an attempt to discover the structure/categories in which our data points fall. We are just going to cluster based on variabels related to fashion industry and emissions. We want to see if theres a structure to this data that can indicate the develpoment level of a country."
   ]
  },
  {
   "cell_type": "code",
   "execution_count": 45,
   "metadata": {},
   "outputs": [
    {
     "name": "stdout",
     "output_type": "stream",
     "text": [
      "[4 4 4 4 2]\n"
     ]
    },
    {
     "data": {
      "text/html": [
       "<div>\n",
       "<style scoped>\n",
       "    .dataframe tbody tr th:only-of-type {\n",
       "        vertical-align: middle;\n",
       "    }\n",
       "\n",
       "    .dataframe tbody tr th {\n",
       "        vertical-align: top;\n",
       "    }\n",
       "\n",
       "    .dataframe thead th {\n",
       "        text-align: right;\n",
       "    }\n",
       "</style>\n",
       "<table border=\"1\" class=\"dataframe\">\n",
       "  <thead>\n",
       "    <tr style=\"text-align: right;\">\n",
       "      <th></th>\n",
       "      <th>Unnamed: 0_x</th>\n",
       "      <th>country</th>\n",
       "      <th>agriculture</th>\n",
       "      <th>energy</th>\n",
       "      <th>waste</th>\n",
       "      <th>industrial</th>\n",
       "      <th>bunker fuels</th>\n",
       "      <th>Time</th>\n",
       "      <th>PopTotal</th>\n",
       "      <th>Unnamed: 0_y</th>\n",
       "      <th>hdi</th>\n",
       "      <th>Cotton</th>\n",
       "      <th>Clothing</th>\n",
       "      <th>Garments</th>\n",
       "      <th>Textiles</th>\n",
       "      <th>cluster_label</th>\n",
       "    </tr>\n",
       "  </thead>\n",
       "  <tbody>\n",
       "    <tr>\n",
       "      <th>0</th>\n",
       "      <td>57</td>\n",
       "      <td>Afghanistan</td>\n",
       "      <td>1.772263</td>\n",
       "      <td>-0.107251</td>\n",
       "      <td>-0.021030</td>\n",
       "      <td>0.014195</td>\n",
       "      <td>-0.034173</td>\n",
       "      <td>2019</td>\n",
       "      <td>38041757.0</td>\n",
       "      <td>0.0</td>\n",
       "      <td>0.511</td>\n",
       "      <td>NaN</td>\n",
       "      <td>NaN</td>\n",
       "      <td>NaN</td>\n",
       "      <td>2.0</td>\n",
       "      <td>4</td>\n",
       "    </tr>\n",
       "    <tr>\n",
       "      <th>1</th>\n",
       "      <td>145</td>\n",
       "      <td>Albania</td>\n",
       "      <td>0.753233</td>\n",
       "      <td>0.236036</td>\n",
       "      <td>0.329757</td>\n",
       "      <td>0.017356</td>\n",
       "      <td>-0.010413</td>\n",
       "      <td>2019</td>\n",
       "      <td>2880913.0</td>\n",
       "      <td>1.0</td>\n",
       "      <td>0.795</td>\n",
       "      <td>NaN</td>\n",
       "      <td>2.0</td>\n",
       "      <td>NaN</td>\n",
       "      <td>NaN</td>\n",
       "      <td>4</td>\n",
       "    </tr>\n",
       "    <tr>\n",
       "      <th>2</th>\n",
       "      <td>38</td>\n",
       "      <td>Algeria</td>\n",
       "      <td>1.357395</td>\n",
       "      <td>-0.402759</td>\n",
       "      <td>-0.009059</td>\n",
       "      <td>0.130304</td>\n",
       "      <td>0.013007</td>\n",
       "      <td>2019</td>\n",
       "      <td>43053054.0</td>\n",
       "      <td>2.0</td>\n",
       "      <td>0.748</td>\n",
       "      <td>NaN</td>\n",
       "      <td>NaN</td>\n",
       "      <td>NaN</td>\n",
       "      <td>NaN</td>\n",
       "      <td>4</td>\n",
       "    </tr>\n",
       "    <tr>\n",
       "      <th>3</th>\n",
       "      <td>177</td>\n",
       "      <td>Andorra</td>\n",
       "      <td>-0.648122</td>\n",
       "      <td>1.944365</td>\n",
       "      <td>1.036995</td>\n",
       "      <td>0.000000</td>\n",
       "      <td>0.000000</td>\n",
       "      <td>2019</td>\n",
       "      <td>77146.0</td>\n",
       "      <td>3.0</td>\n",
       "      <td>0.868</td>\n",
       "      <td>NaN</td>\n",
       "      <td>NaN</td>\n",
       "      <td>NaN</td>\n",
       "      <td>NaN</td>\n",
       "      <td>4</td>\n",
       "    </tr>\n",
       "    <tr>\n",
       "      <th>4</th>\n",
       "      <td>47</td>\n",
       "      <td>Angola</td>\n",
       "      <td>0.037706</td>\n",
       "      <td>2.020405</td>\n",
       "      <td>-0.068499</td>\n",
       "      <td>0.035506</td>\n",
       "      <td>0.049960</td>\n",
       "      <td>2019</td>\n",
       "      <td>31825299.0</td>\n",
       "      <td>4.0</td>\n",
       "      <td>0.581</td>\n",
       "      <td>NaN</td>\n",
       "      <td>NaN</td>\n",
       "      <td>NaN</td>\n",
       "      <td>5.0</td>\n",
       "      <td>2</td>\n",
       "    </tr>\n",
       "    <tr>\n",
       "      <th>5</th>\n",
       "      <td>169</td>\n",
       "      <td>Antigua and Barbuda</td>\n",
       "      <td>2.471297</td>\n",
       "      <td>1.235648</td>\n",
       "      <td>2.162385</td>\n",
       "      <td>0.102971</td>\n",
       "      <td>0.102971</td>\n",
       "      <td>2019</td>\n",
       "      <td>97115.0</td>\n",
       "      <td>5.0</td>\n",
       "      <td>0.778</td>\n",
       "      <td>NaN</td>\n",
       "      <td>3.0</td>\n",
       "      <td>NaN</td>\n",
       "      <td>NaN</td>\n",
       "      <td>4</td>\n",
       "    </tr>\n",
       "    <tr>\n",
       "      <th>6</th>\n",
       "      <td>20</td>\n",
       "      <td>Argentina</td>\n",
       "      <td>-1.060279</td>\n",
       "      <td>0.660329</td>\n",
       "      <td>0.066547</td>\n",
       "      <td>0.131530</td>\n",
       "      <td>0.036400</td>\n",
       "      <td>2019</td>\n",
       "      <td>44780675.0</td>\n",
       "      <td>6.0</td>\n",
       "      <td>0.845</td>\n",
       "      <td>NaN</td>\n",
       "      <td>NaN</td>\n",
       "      <td>NaN</td>\n",
       "      <td>4.0</td>\n",
       "      <td>4</td>\n",
       "    </tr>\n",
       "    <tr>\n",
       "      <th>7</th>\n",
       "      <td>146</td>\n",
       "      <td>Armenia</td>\n",
       "      <td>0.098048</td>\n",
       "      <td>0.446289</td>\n",
       "      <td>0.412479</td>\n",
       "      <td>0.023667</td>\n",
       "      <td>NaN</td>\n",
       "      <td>2019</td>\n",
       "      <td>2957728.0</td>\n",
       "      <td>7.0</td>\n",
       "      <td>0.776</td>\n",
       "      <td>NaN</td>\n",
       "      <td>NaN</td>\n",
       "      <td>NaN</td>\n",
       "      <td>NaN</td>\n",
       "      <td>4</td>\n",
       "    </tr>\n",
       "    <tr>\n",
       "      <th>8</th>\n",
       "      <td>14</td>\n",
       "      <td>Australia</td>\n",
       "      <td>0.086100</td>\n",
       "      <td>0.044836</td>\n",
       "      <td>-0.191246</td>\n",
       "      <td>0.418598</td>\n",
       "      <td>0.149187</td>\n",
       "      <td>2019</td>\n",
       "      <td>25203200.0</td>\n",
       "      <td>8.0</td>\n",
       "      <td>0.944</td>\n",
       "      <td>NaN</td>\n",
       "      <td>NaN</td>\n",
       "      <td>NaN</td>\n",
       "      <td>NaN</td>\n",
       "      <td>4</td>\n",
       "    </tr>\n",
       "    <tr>\n",
       "      <th>9</th>\n",
       "      <td>73</td>\n",
       "      <td>Austria</td>\n",
       "      <td>-1.109981</td>\n",
       "      <td>-0.243436</td>\n",
       "      <td>0.025684</td>\n",
       "      <td>-0.031267</td>\n",
       "      <td>0.036850</td>\n",
       "      <td>2019</td>\n",
       "      <td>8955108.0</td>\n",
       "      <td>9.0</td>\n",
       "      <td>0.922</td>\n",
       "      <td>NaN</td>\n",
       "      <td>NaN</td>\n",
       "      <td>NaN</td>\n",
       "      <td>NaN</td>\n",
       "      <td>4</td>\n",
       "    </tr>\n",
       "    <tr>\n",
       "      <th>10</th>\n",
       "      <td>67</td>\n",
       "      <td>Azerbaijan</td>\n",
       "      <td>0.633975</td>\n",
       "      <td>-0.743452</td>\n",
       "      <td>-0.012938</td>\n",
       "      <td>0.127392</td>\n",
       "      <td>0.031848</td>\n",
       "      <td>2019</td>\n",
       "      <td>10047719.0</td>\n",
       "      <td>10.0</td>\n",
       "      <td>0.756</td>\n",
       "      <td>NaN</td>\n",
       "      <td>NaN</td>\n",
       "      <td>NaN</td>\n",
       "      <td>5.0</td>\n",
       "      <td>2</td>\n",
       "    </tr>\n",
       "    <tr>\n",
       "      <th>11</th>\n",
       "      <td>164</td>\n",
       "      <td>Bahamas</td>\n",
       "      <td>0.436473</td>\n",
       "      <td>-1.181044</td>\n",
       "      <td>0.513497</td>\n",
       "      <td>0.102699</td>\n",
       "      <td>0.025675</td>\n",
       "      <td>2019</td>\n",
       "      <td>389486.0</td>\n",
       "      <td>11.0</td>\n",
       "      <td>0.814</td>\n",
       "      <td>NaN</td>\n",
       "      <td>NaN</td>\n",
       "      <td>NaN</td>\n",
       "      <td>NaN</td>\n",
       "      <td>4</td>\n",
       "    </tr>\n",
       "    <tr>\n",
       "      <th>12</th>\n",
       "      <td>88</td>\n",
       "      <td>Bahrain</td>\n",
       "      <td>7.628732</td>\n",
       "      <td>2.827262</td>\n",
       "      <td>0.006093</td>\n",
       "      <td>0.219357</td>\n",
       "      <td>-0.121865</td>\n",
       "      <td>2019</td>\n",
       "      <td>1641164.0</td>\n",
       "      <td>12.0</td>\n",
       "      <td>0.852</td>\n",
       "      <td>NaN</td>\n",
       "      <td>NaN</td>\n",
       "      <td>NaN</td>\n",
       "      <td>NaN</td>\n",
       "      <td>3</td>\n",
       "    </tr>\n",
       "    <tr>\n",
       "      <th>13</th>\n",
       "      <td>37</td>\n",
       "      <td>Bangladesh</td>\n",
       "      <td>0.327453</td>\n",
       "      <td>0.178416</td>\n",
       "      <td>-0.005704</td>\n",
       "      <td>-0.010181</td>\n",
       "      <td>-0.006072</td>\n",
       "      <td>2019</td>\n",
       "      <td>163046173.0</td>\n",
       "      <td>13.0</td>\n",
       "      <td>0.632</td>\n",
       "      <td>2.0</td>\n",
       "      <td>NaN</td>\n",
       "      <td>3.0</td>\n",
       "      <td>NaN</td>\n",
       "      <td>4</td>\n",
       "    </tr>\n",
       "    <tr>\n",
       "      <th>14</th>\n",
       "      <td>160</td>\n",
       "      <td>Barbados</td>\n",
       "      <td>-1.323945</td>\n",
       "      <td>-4.111197</td>\n",
       "      <td>1.637511</td>\n",
       "      <td>0.069681</td>\n",
       "      <td>0.000000</td>\n",
       "      <td>2019</td>\n",
       "      <td>287021.0</td>\n",
       "      <td>14.0</td>\n",
       "      <td>0.814</td>\n",
       "      <td>NaN</td>\n",
       "      <td>NaN</td>\n",
       "      <td>NaN</td>\n",
       "      <td>NaN</td>\n",
       "      <td>4</td>\n",
       "    </tr>\n",
       "  </tbody>\n",
       "</table>\n",
       "</div>"
      ],
      "text/plain": [
       "    Unnamed: 0_x              country  agriculture    energy     waste  \\\n",
       "0             57          Afghanistan     1.772263 -0.107251 -0.021030   \n",
       "1            145              Albania     0.753233  0.236036  0.329757   \n",
       "2             38              Algeria     1.357395 -0.402759 -0.009059   \n",
       "3            177              Andorra    -0.648122  1.944365  1.036995   \n",
       "4             47               Angola     0.037706  2.020405 -0.068499   \n",
       "5            169  Antigua and Barbuda     2.471297  1.235648  2.162385   \n",
       "6             20            Argentina    -1.060279  0.660329  0.066547   \n",
       "7            146              Armenia     0.098048  0.446289  0.412479   \n",
       "8             14            Australia     0.086100  0.044836 -0.191246   \n",
       "9             73              Austria    -1.109981 -0.243436  0.025684   \n",
       "10            67           Azerbaijan     0.633975 -0.743452 -0.012938   \n",
       "11           164              Bahamas     0.436473 -1.181044  0.513497   \n",
       "12            88              Bahrain     7.628732  2.827262  0.006093   \n",
       "13            37           Bangladesh     0.327453  0.178416 -0.005704   \n",
       "14           160             Barbados    -1.323945 -4.111197  1.637511   \n",
       "\n",
       "    industrial  bunker fuels  Time     PopTotal  Unnamed: 0_y    hdi  Cotton  \\\n",
       "0     0.014195     -0.034173  2019   38041757.0           0.0  0.511     NaN   \n",
       "1     0.017356     -0.010413  2019    2880913.0           1.0  0.795     NaN   \n",
       "2     0.130304      0.013007  2019   43053054.0           2.0  0.748     NaN   \n",
       "3     0.000000      0.000000  2019      77146.0           3.0  0.868     NaN   \n",
       "4     0.035506      0.049960  2019   31825299.0           4.0  0.581     NaN   \n",
       "5     0.102971      0.102971  2019      97115.0           5.0  0.778     NaN   \n",
       "6     0.131530      0.036400  2019   44780675.0           6.0  0.845     NaN   \n",
       "7     0.023667           NaN  2019    2957728.0           7.0  0.776     NaN   \n",
       "8     0.418598      0.149187  2019   25203200.0           8.0  0.944     NaN   \n",
       "9    -0.031267      0.036850  2019    8955108.0           9.0  0.922     NaN   \n",
       "10    0.127392      0.031848  2019   10047719.0          10.0  0.756     NaN   \n",
       "11    0.102699      0.025675  2019     389486.0          11.0  0.814     NaN   \n",
       "12    0.219357     -0.121865  2019    1641164.0          12.0  0.852     NaN   \n",
       "13   -0.010181     -0.006072  2019  163046173.0          13.0  0.632     2.0   \n",
       "14    0.069681      0.000000  2019     287021.0          14.0  0.814     NaN   \n",
       "\n",
       "    Clothing  Garments  Textiles  cluster_label  \n",
       "0        NaN       NaN       2.0              4  \n",
       "1        2.0       NaN       NaN              4  \n",
       "2        NaN       NaN       NaN              4  \n",
       "3        NaN       NaN       NaN              4  \n",
       "4        NaN       NaN       5.0              2  \n",
       "5        3.0       NaN       NaN              4  \n",
       "6        NaN       NaN       4.0              4  \n",
       "7        NaN       NaN       NaN              4  \n",
       "8        NaN       NaN       NaN              4  \n",
       "9        NaN       NaN       NaN              4  \n",
       "10       NaN       NaN       5.0              2  \n",
       "11       NaN       NaN       NaN              4  \n",
       "12       NaN       NaN       NaN              3  \n",
       "13       NaN       3.0       NaN              4  \n",
       "14       NaN       NaN       NaN              4  "
      ]
     },
     "execution_count": 45,
     "metadata": {},
     "output_type": "execute_result"
    }
   ],
   "source": [
    "clustering = KMeans(n_clusters = 5, random_state = 15)\n",
    "KM = clustering.fit(analysis_two_all_temp[['agriculture',  'energy', 'waste', 'industrial',\t\n",
    "                                           'bunker fuels', 'Cotton', 'Clothing', 'Garments', 'Textiles']])\n",
    "KM.cluster_centers_\n",
    "\n",
    "cluster_labels = KM.labels_\n",
    "print(cluster_labels[:5])\n",
    "analysis_two_all[\"cluster_label\"] = cluster_labels\n",
    "analysis_two_all.head(15)\n"
   ]
  },
  {
   "cell_type": "code",
   "execution_count": 46,
   "metadata": {},
   "outputs": [
    {
     "data": {
      "text/html": [
       "<div>\n",
       "<style scoped>\n",
       "    .dataframe tbody tr th:only-of-type {\n",
       "        vertical-align: middle;\n",
       "    }\n",
       "\n",
       "    .dataframe tbody tr th {\n",
       "        vertical-align: top;\n",
       "    }\n",
       "\n",
       "    .dataframe thead th {\n",
       "        text-align: right;\n",
       "    }\n",
       "</style>\n",
       "<table border=\"1\" class=\"dataframe\">\n",
       "  <thead>\n",
       "    <tr style=\"text-align: right;\">\n",
       "      <th></th>\n",
       "      <th>Unnamed: 0_x</th>\n",
       "      <th>country</th>\n",
       "      <th>agriculture</th>\n",
       "      <th>energy</th>\n",
       "      <th>waste</th>\n",
       "      <th>industrial</th>\n",
       "      <th>bunker fuels</th>\n",
       "      <th>Time</th>\n",
       "      <th>PopTotal</th>\n",
       "      <th>Unnamed: 0_y</th>\n",
       "      <th>hdi</th>\n",
       "      <th>Cotton</th>\n",
       "      <th>Clothing</th>\n",
       "      <th>Garments</th>\n",
       "      <th>Textiles</th>\n",
       "    </tr>\n",
       "    <tr>\n",
       "      <th>cluster_label</th>\n",
       "      <th></th>\n",
       "      <th></th>\n",
       "      <th></th>\n",
       "      <th></th>\n",
       "      <th></th>\n",
       "      <th></th>\n",
       "      <th></th>\n",
       "      <th></th>\n",
       "      <th></th>\n",
       "      <th></th>\n",
       "      <th></th>\n",
       "      <th></th>\n",
       "      <th></th>\n",
       "      <th></th>\n",
       "      <th></th>\n",
       "    </tr>\n",
       "  </thead>\n",
       "  <tbody>\n",
       "    <tr>\n",
       "      <th>0</th>\n",
       "      <td>8</td>\n",
       "      <td>8</td>\n",
       "      <td>8</td>\n",
       "      <td>8</td>\n",
       "      <td>8</td>\n",
       "      <td>8</td>\n",
       "      <td>8</td>\n",
       "      <td>8</td>\n",
       "      <td>8</td>\n",
       "      <td>8</td>\n",
       "      <td>8</td>\n",
       "      <td>0</td>\n",
       "      <td>8</td>\n",
       "      <td>0</td>\n",
       "      <td>6</td>\n",
       "    </tr>\n",
       "    <tr>\n",
       "      <th>1</th>\n",
       "      <td>1</td>\n",
       "      <td>1</td>\n",
       "      <td>1</td>\n",
       "      <td>1</td>\n",
       "      <td>1</td>\n",
       "      <td>1</td>\n",
       "      <td>1</td>\n",
       "      <td>1</td>\n",
       "      <td>1</td>\n",
       "      <td>1</td>\n",
       "      <td>1</td>\n",
       "      <td>0</td>\n",
       "      <td>0</td>\n",
       "      <td>0</td>\n",
       "      <td>0</td>\n",
       "    </tr>\n",
       "    <tr>\n",
       "      <th>2</th>\n",
       "      <td>39</td>\n",
       "      <td>39</td>\n",
       "      <td>39</td>\n",
       "      <td>39</td>\n",
       "      <td>37</td>\n",
       "      <td>39</td>\n",
       "      <td>38</td>\n",
       "      <td>39</td>\n",
       "      <td>39</td>\n",
       "      <td>39</td>\n",
       "      <td>39</td>\n",
       "      <td>2</td>\n",
       "      <td>0</td>\n",
       "      <td>1</td>\n",
       "      <td>39</td>\n",
       "    </tr>\n",
       "    <tr>\n",
       "      <th>3</th>\n",
       "      <td>15</td>\n",
       "      <td>15</td>\n",
       "      <td>15</td>\n",
       "      <td>15</td>\n",
       "      <td>15</td>\n",
       "      <td>15</td>\n",
       "      <td>12</td>\n",
       "      <td>15</td>\n",
       "      <td>15</td>\n",
       "      <td>15</td>\n",
       "      <td>15</td>\n",
       "      <td>0</td>\n",
       "      <td>1</td>\n",
       "      <td>1</td>\n",
       "      <td>3</td>\n",
       "    </tr>\n",
       "    <tr>\n",
       "      <th>4</th>\n",
       "      <td>113</td>\n",
       "      <td>113</td>\n",
       "      <td>113</td>\n",
       "      <td>113</td>\n",
       "      <td>113</td>\n",
       "      <td>111</td>\n",
       "      <td>101</td>\n",
       "      <td>113</td>\n",
       "      <td>113</td>\n",
       "      <td>105</td>\n",
       "      <td>105</td>\n",
       "      <td>7</td>\n",
       "      <td>15</td>\n",
       "      <td>3</td>\n",
       "      <td>41</td>\n",
       "    </tr>\n",
       "  </tbody>\n",
       "</table>\n",
       "</div>"
      ],
      "text/plain": [
       "               Unnamed: 0_x  country  agriculture  energy  waste  industrial  \\\n",
       "cluster_label                                                                  \n",
       "0                         8        8            8       8      8           8   \n",
       "1                         1        1            1       1      1           1   \n",
       "2                        39       39           39      39     37          39   \n",
       "3                        15       15           15      15     15          15   \n",
       "4                       113      113          113     113    113         111   \n",
       "\n",
       "               bunker fuels  Time  PopTotal  Unnamed: 0_y  hdi  Cotton  \\\n",
       "cluster_label                                                            \n",
       "0                         8     8         8             8    8       0   \n",
       "1                         1     1         1             1    1       0   \n",
       "2                        38    39        39            39   39       2   \n",
       "3                        12    15        15            15   15       0   \n",
       "4                       101   113       113           105  105       7   \n",
       "\n",
       "               Clothing  Garments  Textiles  \n",
       "cluster_label                                \n",
       "0                     8         0         6  \n",
       "1                     0         0         0  \n",
       "2                     0         1        39  \n",
       "3                     1         1         3  \n",
       "4                    15         3        41  "
      ]
     },
     "execution_count": 46,
     "metadata": {},
     "output_type": "execute_result"
    }
   ],
   "source": [
    "analysis_two_all.groupby('cluster_label').count()"
   ]
  },
  {
   "cell_type": "code",
   "execution_count": 47,
   "metadata": {},
   "outputs": [
    {
     "data": {
      "text/html": [
       "<div>\n",
       "<style scoped>\n",
       "    .dataframe tbody tr th:only-of-type {\n",
       "        vertical-align: middle;\n",
       "    }\n",
       "\n",
       "    .dataframe tbody tr th {\n",
       "        vertical-align: top;\n",
       "    }\n",
       "\n",
       "    .dataframe thead th {\n",
       "        text-align: right;\n",
       "    }\n",
       "</style>\n",
       "<table border=\"1\" class=\"dataframe\">\n",
       "  <thead>\n",
       "    <tr style=\"text-align: right;\">\n",
       "      <th></th>\n",
       "      <th>Unnamed: 0_x</th>\n",
       "      <th>agriculture</th>\n",
       "      <th>energy</th>\n",
       "      <th>waste</th>\n",
       "      <th>industrial</th>\n",
       "      <th>bunker fuels</th>\n",
       "      <th>Time</th>\n",
       "      <th>PopTotal</th>\n",
       "      <th>Unnamed: 0_y</th>\n",
       "      <th>hdi</th>\n",
       "      <th>Cotton</th>\n",
       "      <th>Clothing</th>\n",
       "      <th>Garments</th>\n",
       "      <th>Textiles</th>\n",
       "    </tr>\n",
       "    <tr>\n",
       "      <th>cluster_label</th>\n",
       "      <th></th>\n",
       "      <th></th>\n",
       "      <th></th>\n",
       "      <th></th>\n",
       "      <th></th>\n",
       "      <th></th>\n",
       "      <th></th>\n",
       "      <th></th>\n",
       "      <th></th>\n",
       "      <th></th>\n",
       "      <th></th>\n",
       "      <th></th>\n",
       "      <th></th>\n",
       "      <th></th>\n",
       "    </tr>\n",
       "  </thead>\n",
       "  <tbody>\n",
       "    <tr>\n",
       "      <th>0</th>\n",
       "      <td>73.625000</td>\n",
       "      <td>-0.777702</td>\n",
       "      <td>0.569816</td>\n",
       "      <td>0.109682</td>\n",
       "      <td>0.023767</td>\n",
       "      <td>0.023282</td>\n",
       "      <td>2019.0</td>\n",
       "      <td>3.778229e+07</td>\n",
       "      <td>97.750000</td>\n",
       "      <td>0.831125</td>\n",
       "      <td>NaN</td>\n",
       "      <td>9.75</td>\n",
       "      <td>NaN</td>\n",
       "      <td>9.166667</td>\n",
       "    </tr>\n",
       "    <tr>\n",
       "      <th>1</th>\n",
       "      <td>90.000000</td>\n",
       "      <td>65.614545</td>\n",
       "      <td>2.552921</td>\n",
       "      <td>0.074647</td>\n",
       "      <td>-0.432951</td>\n",
       "      <td>0.149294</td>\n",
       "      <td>2019.0</td>\n",
       "      <td>6.698210e+05</td>\n",
       "      <td>156.000000</td>\n",
       "      <td>0.567000</td>\n",
       "      <td>NaN</td>\n",
       "      <td>NaN</td>\n",
       "      <td>NaN</td>\n",
       "      <td>NaN</td>\n",
       "    </tr>\n",
       "    <tr>\n",
       "      <th>2</th>\n",
       "      <td>80.820513</td>\n",
       "      <td>0.335965</td>\n",
       "      <td>0.622913</td>\n",
       "      <td>-0.037821</td>\n",
       "      <td>0.051712</td>\n",
       "      <td>0.025901</td>\n",
       "      <td>2019.0</td>\n",
       "      <td>6.110155e+07</td>\n",
       "      <td>87.256410</td>\n",
       "      <td>0.747205</td>\n",
       "      <td>6.000000</td>\n",
       "      <td>NaN</td>\n",
       "      <td>2.000000</td>\n",
       "      <td>7.589744</td>\n",
       "    </tr>\n",
       "    <tr>\n",
       "      <th>3</th>\n",
       "      <td>102.066667</td>\n",
       "      <td>7.155556</td>\n",
       "      <td>1.261093</td>\n",
       "      <td>0.761402</td>\n",
       "      <td>0.143652</td>\n",
       "      <td>0.013105</td>\n",
       "      <td>2019.0</td>\n",
       "      <td>5.120459e+06</td>\n",
       "      <td>106.866667</td>\n",
       "      <td>0.767133</td>\n",
       "      <td>NaN</td>\n",
       "      <td>7.00</td>\n",
       "      <td>7.000000</td>\n",
       "      <td>4.000000</td>\n",
       "    </tr>\n",
       "    <tr>\n",
       "      <th>4</th>\n",
       "      <td>105.823009</td>\n",
       "      <td>0.184015</td>\n",
       "      <td>-0.106917</td>\n",
       "      <td>0.112192</td>\n",
       "      <td>0.051639</td>\n",
       "      <td>0.042387</td>\n",
       "      <td>2019.0</td>\n",
       "      <td>3.566309e+07</td>\n",
       "      <td>92.695238</td>\n",
       "      <td>0.700133</td>\n",
       "      <td>2.285714</td>\n",
       "      <td>3.00</td>\n",
       "      <td>3.333333</td>\n",
       "      <td>2.341463</td>\n",
       "    </tr>\n",
       "  </tbody>\n",
       "</table>\n",
       "</div>"
      ],
      "text/plain": [
       "               Unnamed: 0_x  agriculture    energy     waste  industrial  \\\n",
       "cluster_label                                                              \n",
       "0                 73.625000    -0.777702  0.569816  0.109682    0.023767   \n",
       "1                 90.000000    65.614545  2.552921  0.074647   -0.432951   \n",
       "2                 80.820513     0.335965  0.622913 -0.037821    0.051712   \n",
       "3                102.066667     7.155556  1.261093  0.761402    0.143652   \n",
       "4                105.823009     0.184015 -0.106917  0.112192    0.051639   \n",
       "\n",
       "               bunker fuels    Time      PopTotal  Unnamed: 0_y       hdi  \\\n",
       "cluster_label                                                               \n",
       "0                  0.023282  2019.0  3.778229e+07     97.750000  0.831125   \n",
       "1                  0.149294  2019.0  6.698210e+05    156.000000  0.567000   \n",
       "2                  0.025901  2019.0  6.110155e+07     87.256410  0.747205   \n",
       "3                  0.013105  2019.0  5.120459e+06    106.866667  0.767133   \n",
       "4                  0.042387  2019.0  3.566309e+07     92.695238  0.700133   \n",
       "\n",
       "                 Cotton  Clothing  Garments  Textiles  \n",
       "cluster_label                                          \n",
       "0                   NaN      9.75       NaN  9.166667  \n",
       "1                   NaN       NaN       NaN       NaN  \n",
       "2              6.000000       NaN  2.000000  7.589744  \n",
       "3                   NaN      7.00  7.000000  4.000000  \n",
       "4              2.285714      3.00  3.333333  2.341463  "
      ]
     },
     "execution_count": 47,
     "metadata": {},
     "output_type": "execute_result"
    }
   ],
   "source": [
    "mean_clusterlabel = analysis_two_all.groupby('cluster_label').mean()\n",
    "mean_clusterlabel.head()"
   ]
  },
  {
   "cell_type": "markdown",
   "metadata": {},
   "source": [
    "Above we have looked at some summary statistics of our clustered data. We see that each cluster has a totally different number of countries assigned to it ranging from label 1 with one country to label 4 with 117 countries. Next we have summary stastics for each of the clusters. We are going to speifically pay attention to the hdi column whcih gives us the average hdi for each label. "
   ]
  },
  {
   "cell_type": "code",
   "execution_count": 48,
   "metadata": {},
   "outputs": [
    {
     "data": {
      "image/png": "[encoded data removed]",
      "text/plain": [
       "<Figure size 1080x216 with 5 Axes>"
      ]
     },
     "metadata": {
      "needs_background": "light"
     },
     "output_type": "display_data"
    }
   ],
   "source": [
    "g = sns.FacetGrid(data=analysis_two_all, col=\"cluster_label\")\n",
    "g.map_dataframe(sns.histplot, y=\"hdi\", bins=10);"
   ]
  },
  {
   "cell_type": "markdown",
   "metadata": {},
   "source": []
  },
  {
   "cell_type": "code",
   "execution_count": 49,
   "metadata": {},
   "outputs": [
    {
     "data": {
      "text/html": [
       "<div>\n",
       "<style scoped>\n",
       "    .dataframe tbody tr th:only-of-type {\n",
       "        vertical-align: middle;\n",
       "    }\n",
       "\n",
       "    .dataframe tbody tr th {\n",
       "        vertical-align: top;\n",
       "    }\n",
       "\n",
       "    .dataframe thead th {\n",
       "        text-align: right;\n",
       "    }\n",
       "</style>\n",
       "<table border=\"1\" class=\"dataframe\">\n",
       "  <thead>\n",
       "    <tr style=\"text-align: right;\">\n",
       "      <th></th>\n",
       "      <th>Unnamed: 0_x</th>\n",
       "      <th>country</th>\n",
       "      <th>agriculture</th>\n",
       "      <th>energy</th>\n",
       "      <th>waste</th>\n",
       "      <th>industrial</th>\n",
       "      <th>bunker fuels</th>\n",
       "      <th>Time</th>\n",
       "      <th>PopTotal</th>\n",
       "      <th>Unnamed: 0_y</th>\n",
       "      <th>hdi</th>\n",
       "      <th>Cotton</th>\n",
       "      <th>Clothing</th>\n",
       "      <th>Garments</th>\n",
       "      <th>Textiles</th>\n",
       "    </tr>\n",
       "    <tr>\n",
       "      <th>cluster_label</th>\n",
       "      <th></th>\n",
       "      <th></th>\n",
       "      <th></th>\n",
       "      <th></th>\n",
       "      <th></th>\n",
       "      <th></th>\n",
       "      <th></th>\n",
       "      <th></th>\n",
       "      <th></th>\n",
       "      <th></th>\n",
       "      <th></th>\n",
       "      <th></th>\n",
       "      <th></th>\n",
       "      <th></th>\n",
       "      <th></th>\n",
       "    </tr>\n",
       "  </thead>\n",
       "  <tbody>\n",
       "    <tr>\n",
       "      <th>0</th>\n",
       "      <td>10</td>\n",
       "      <td>Denmark</td>\n",
       "      <td>-3.021547</td>\n",
       "      <td>-0.393412</td>\n",
       "      <td>-0.124525</td>\n",
       "      <td>-0.233893</td>\n",
       "      <td>-0.072900</td>\n",
       "      <td>2019</td>\n",
       "      <td>440377.0</td>\n",
       "      <td>46.0</td>\n",
       "      <td>0.496</td>\n",
       "      <td>NaN</td>\n",
       "      <td>8.0</td>\n",
       "      <td>NaN</td>\n",
       "      <td>6.0</td>\n",
       "    </tr>\n",
       "    <tr>\n",
       "      <th>1</th>\n",
       "      <td>90</td>\n",
       "      <td>Solomon Islands</td>\n",
       "      <td>65.614545</td>\n",
       "      <td>2.552921</td>\n",
       "      <td>0.074647</td>\n",
       "      <td>-0.432951</td>\n",
       "      <td>0.149294</td>\n",
       "      <td>2019</td>\n",
       "      <td>669821.0</td>\n",
       "      <td>156.0</td>\n",
       "      <td>0.567</td>\n",
       "      <td>NaN</td>\n",
       "      <td>NaN</td>\n",
       "      <td>NaN</td>\n",
       "      <td>NaN</td>\n",
       "    </tr>\n",
       "    <tr>\n",
       "      <th>2</th>\n",
       "      <td>0</td>\n",
       "      <td>Angola</td>\n",
       "      <td>-5.220250</td>\n",
       "      <td>-4.064264</td>\n",
       "      <td>-9.136611</td>\n",
       "      <td>-0.442260</td>\n",
       "      <td>-0.332775</td>\n",
       "      <td>2019</td>\n",
       "      <td>1198574.0</td>\n",
       "      <td>4.0</td>\n",
       "      <td>0.394</td>\n",
       "      <td>1.0</td>\n",
       "      <td>NaN</td>\n",
       "      <td>2.0</td>\n",
       "      <td>5.0</td>\n",
       "    </tr>\n",
       "    <tr>\n",
       "      <th>3</th>\n",
       "      <td>13</td>\n",
       "      <td>Bahrain</td>\n",
       "      <td>4.999722</td>\n",
       "      <td>-3.975030</td>\n",
       "      <td>0.000000</td>\n",
       "      <td>-0.393342</td>\n",
       "      <td>-0.144150</td>\n",
       "      <td>2019</td>\n",
       "      <td>18001.0</td>\n",
       "      <td>12.0</td>\n",
       "      <td>0.571</td>\n",
       "      <td>NaN</td>\n",
       "      <td>7.0</td>\n",
       "      <td>7.0</td>\n",
       "      <td>3.0</td>\n",
       "    </tr>\n",
       "    <tr>\n",
       "      <th>4</th>\n",
       "      <td>2</td>\n",
       "      <td>Afghanistan</td>\n",
       "      <td>-6.311774</td>\n",
       "      <td>-9.771516</td>\n",
       "      <td>-9.412631</td>\n",
       "      <td>-0.487748</td>\n",
       "      <td>-0.127491</td>\n",
       "      <td>2019</td>\n",
       "      <td>1614.0</td>\n",
       "      <td>0.0</td>\n",
       "      <td>0.397</td>\n",
       "      <td>2.0</td>\n",
       "      <td>1.0</td>\n",
       "      <td>2.0</td>\n",
       "      <td>1.0</td>\n",
       "    </tr>\n",
       "  </tbody>\n",
       "</table>\n",
       "</div>"
      ],
      "text/plain": [
       "               Unnamed: 0_x          country  agriculture    energy     waste  \\\n",
       "cluster_label                                                                   \n",
       "0                        10          Denmark    -3.021547 -0.393412 -0.124525   \n",
       "1                        90  Solomon Islands    65.614545  2.552921  0.074647   \n",
       "2                         0           Angola    -5.220250 -4.064264 -9.136611   \n",
       "3                        13          Bahrain     4.999722 -3.975030  0.000000   \n",
       "4                         2      Afghanistan    -6.311774 -9.771516 -9.412631   \n",
       "\n",
       "               industrial  bunker fuels  Time   PopTotal  Unnamed: 0_y    hdi  \\\n",
       "cluster_label                                                                   \n",
       "0               -0.233893     -0.072900  2019   440377.0          46.0  0.496   \n",
       "1               -0.432951      0.149294  2019   669821.0         156.0  0.567   \n",
       "2               -0.442260     -0.332775  2019  1198574.0           4.0  0.394   \n",
       "3               -0.393342     -0.144150  2019    18001.0          12.0  0.571   \n",
       "4               -0.487748     -0.127491  2019     1614.0           0.0  0.397   \n",
       "\n",
       "               Cotton  Clothing  Garments  Textiles  \n",
       "cluster_label                                        \n",
       "0                 NaN       8.0       NaN       6.0  \n",
       "1                 NaN       NaN       NaN       NaN  \n",
       "2                 1.0       NaN       2.0       5.0  \n",
       "3                 NaN       7.0       7.0       3.0  \n",
       "4                 2.0       1.0       2.0       1.0  "
      ]
     },
     "execution_count": 49,
     "metadata": {},
     "output_type": "execute_result"
    }
   ],
   "source": [
    "analysis_two_all.groupby('cluster_label').min()"
   ]
  },
  {
   "cell_type": "code",
   "execution_count": 50,
   "metadata": {},
   "outputs": [
    {
     "data": {
      "text/html": [
       "<div>\n",
       "<style scoped>\n",
       "    .dataframe tbody tr th:only-of-type {\n",
       "        vertical-align: middle;\n",
       "    }\n",
       "\n",
       "    .dataframe tbody tr th {\n",
       "        vertical-align: top;\n",
       "    }\n",
       "\n",
       "    .dataframe thead th {\n",
       "        text-align: right;\n",
       "    }\n",
       "</style>\n",
       "<table border=\"1\" class=\"dataframe\">\n",
       "  <thead>\n",
       "    <tr style=\"text-align: right;\">\n",
       "      <th></th>\n",
       "      <th>Unnamed: 0_x</th>\n",
       "      <th>country</th>\n",
       "      <th>agriculture</th>\n",
       "      <th>energy</th>\n",
       "      <th>waste</th>\n",
       "      <th>industrial</th>\n",
       "      <th>bunker fuels</th>\n",
       "      <th>Time</th>\n",
       "      <th>PopTotal</th>\n",
       "      <th>Unnamed: 0_y</th>\n",
       "      <th>hdi</th>\n",
       "      <th>Cotton</th>\n",
       "      <th>Clothing</th>\n",
       "      <th>Garments</th>\n",
       "      <th>Textiles</th>\n",
       "    </tr>\n",
       "    <tr>\n",
       "      <th>cluster_label</th>\n",
       "      <th></th>\n",
       "      <th></th>\n",
       "      <th></th>\n",
       "      <th></th>\n",
       "      <th></th>\n",
       "      <th></th>\n",
       "      <th></th>\n",
       "      <th></th>\n",
       "      <th></th>\n",
       "      <th></th>\n",
       "      <th></th>\n",
       "      <th></th>\n",
       "      <th></th>\n",
       "      <th></th>\n",
       "      <th></th>\n",
       "    </tr>\n",
       "  </thead>\n",
       "  <tbody>\n",
       "    <tr>\n",
       "      <th>0</th>\n",
       "      <td>167</td>\n",
       "      <td>United Kingdom</td>\n",
       "      <td>1.375250</td>\n",
       "      <td>1.623389</td>\n",
       "      <td>0.703942</td>\n",
       "      <td>0.224144</td>\n",
       "      <td>0.160669</td>\n",
       "      <td>2019</td>\n",
       "      <td>1.275755e+08</td>\n",
       "      <td>179.0</td>\n",
       "      <td>0.940</td>\n",
       "      <td>NaN</td>\n",
       "      <td>16.0</td>\n",
       "      <td>NaN</td>\n",
       "      <td>15.0</td>\n",
       "    </tr>\n",
       "    <tr>\n",
       "      <th>1</th>\n",
       "      <td>90</td>\n",
       "      <td>Solomon Islands</td>\n",
       "      <td>65.614545</td>\n",
       "      <td>2.552921</td>\n",
       "      <td>0.074647</td>\n",
       "      <td>-0.432951</td>\n",
       "      <td>0.149294</td>\n",
       "      <td>2019</td>\n",
       "      <td>6.698210e+05</td>\n",
       "      <td>156.0</td>\n",
       "      <td>0.567</td>\n",
       "      <td>NaN</td>\n",
       "      <td>NaN</td>\n",
       "      <td>NaN</td>\n",
       "      <td>NaN</td>\n",
       "    </tr>\n",
       "    <tr>\n",
       "      <th>2</th>\n",
       "      <td>153</td>\n",
       "      <td>Zambia</td>\n",
       "      <td>6.483786</td>\n",
       "      <td>2.211745</td>\n",
       "      <td>10.997501</td>\n",
       "      <td>0.470804</td>\n",
       "      <td>0.445595</td>\n",
       "      <td>2019</td>\n",
       "      <td>1.433784e+09</td>\n",
       "      <td>187.0</td>\n",
       "      <td>0.957</td>\n",
       "      <td>11.0</td>\n",
       "      <td>NaN</td>\n",
       "      <td>2.0</td>\n",
       "      <td>15.0</td>\n",
       "    </tr>\n",
       "    <tr>\n",
       "      <th>3</th>\n",
       "      <td>182</td>\n",
       "      <td>Zimbabwe</td>\n",
       "      <td>13.827337</td>\n",
       "      <td>7.655175</td>\n",
       "      <td>3.921818</td>\n",
       "      <td>0.331913</td>\n",
       "      <td>0.180080</td>\n",
       "      <td>2019</td>\n",
       "      <td>3.426853e+07</td>\n",
       "      <td>188.0</td>\n",
       "      <td>0.866</td>\n",
       "      <td>NaN</td>\n",
       "      <td>7.0</td>\n",
       "      <td>7.0</td>\n",
       "      <td>5.0</td>\n",
       "    </tr>\n",
       "    <tr>\n",
       "      <th>4</th>\n",
       "      <td>192</td>\n",
       "      <td>Yemen</td>\n",
       "      <td>3.421024</td>\n",
       "      <td>5.286408</td>\n",
       "      <td>2.566060</td>\n",
       "      <td>0.418598</td>\n",
       "      <td>0.857924</td>\n",
       "      <td>2019</td>\n",
       "      <td>1.366418e+09</td>\n",
       "      <td>186.0</td>\n",
       "      <td>0.955</td>\n",
       "      <td>4.0</td>\n",
       "      <td>5.0</td>\n",
       "      <td>5.0</td>\n",
       "      <td>4.0</td>\n",
       "    </tr>\n",
       "  </tbody>\n",
       "</table>\n",
       "</div>"
      ],
      "text/plain": [
       "               Unnamed: 0_x          country  agriculture    energy  \\\n",
       "cluster_label                                                         \n",
       "0                       167   United Kingdom     1.375250  1.623389   \n",
       "1                        90  Solomon Islands    65.614545  2.552921   \n",
       "2                       153           Zambia     6.483786  2.211745   \n",
       "3                       182         Zimbabwe    13.827337  7.655175   \n",
       "4                       192            Yemen     3.421024  5.286408   \n",
       "\n",
       "                   waste  industrial  bunker fuels  Time      PopTotal  \\\n",
       "cluster_label                                                            \n",
       "0               0.703942    0.224144      0.160669  2019  1.275755e+08   \n",
       "1               0.074647   -0.432951      0.149294  2019  6.698210e+05   \n",
       "2              10.997501    0.470804      0.445595  2019  1.433784e+09   \n",
       "3               3.921818    0.331913      0.180080  2019  3.426853e+07   \n",
       "4               2.566060    0.418598      0.857924  2019  1.366418e+09   \n",
       "\n",
       "               Unnamed: 0_y    hdi  Cotton  Clothing  Garments  Textiles  \n",
       "cluster_label                                                             \n",
       "0                     179.0  0.940     NaN      16.0       NaN      15.0  \n",
       "1                     156.0  0.567     NaN       NaN       NaN       NaN  \n",
       "2                     187.0  0.957    11.0       NaN       2.0      15.0  \n",
       "3                     188.0  0.866     NaN       7.0       7.0       5.0  \n",
       "4                     186.0  0.955     4.0       5.0       5.0       4.0  "
      ]
     },
     "execution_count": 50,
     "metadata": {},
     "output_type": "execute_result"
    }
   ],
   "source": [
    "analysis_two_all.groupby('cluster_label').max()"
   ]
  },
  {
   "cell_type": "markdown",
   "metadata": {},
   "source": [
    "##### let's see if our data is at all significant..."
   ]
  },
  {
   "cell_type": "markdown",
   "metadata": {},
   "source": [
    "here we decided to run a linear regression model in order to further examine the relationship between different countries' industry outputs and respective hdi values"
   ]
  },
  {
   "cell_type": "code",
   "execution_count": 51,
   "metadata": {},
   "outputs": [
    {
     "name": "stdout",
     "output_type": "stream",
     "text": [
      "                Cotton  Clothing      Garments      Textiles\n",
      "coefficients = [ 0.00058075  0.00946882  0.01456267 -0.01653906]\n",
      "r^2 = 0.08096785068956658\n"
     ]
    }
   ],
   "source": [
    "regression1 = LinearRegression().fit(analysis_two_all_temp[{\"Cotton\", \"Clothing\", \"Garments\", \"Textiles\"}], analysis_two_all_temp[\"hdi\"])\n",
    "print(\"                Cotton  Clothing      Garments      Textiles\")\n",
    "print(\"coefficients = {}\".format(regression1.coef_))\n",
    "print(\"r^2 = {}\".format(regression1.score(analysis_two_all_temp[{\"Cotton\", \"Clothing\", \"Garments\", \"Textiles\"}], analysis_two_all_temp[\"hdi\"])))"
   ]
  },
  {
   "cell_type": "markdown",
   "metadata": {},
   "source": [
    "our r^2 represents the proportion of variation in the industry output that can be attributed to the hdi value. In other words, our r^2 measures the strength of the relationship between our two variables, with a value of 1 implying a perfect positive linear association, a value of 0 implying no association, and a value of -1 implying a perfect negative linear association. Since our r^2 value is 0.08097, this implies that there is an almost negligable positive association between country industry output and hdi. "
   ]
  },
  {
   "cell_type": "code",
   "execution_count": 52,
   "metadata": {},
   "outputs": [
    {
     "name": "stdout",
     "output_type": "stream",
     "text": [
      "492 permuted slopes were of greater magnitude than the observed data.\n",
      "p-value implied: 0.98400\n"
     ]
    }
   ],
   "source": [
    "# creating the permutation method\n",
    "def permute(input_array):\n",
    "    # shuffle is inplace, so copy to preserve input\n",
    "    permuted = input_array.copy().values #convert to numpy array, avoiding warning\n",
    "    np.random.shuffle(permuted)\n",
    "    return pd.Series(permuted) # convert back to pandas\n",
    "\n",
    "count = 0\n",
    "\n",
    "for i in range(500):\n",
    "    permuted_model = LinearRegression().fit(analysis_two_all_temp[{\"Cotton\", \"Clothing\", \"Garments\", \"Textiles\"}], permute(analysis_two_all_temp[\"hdi\"]))\n",
    "    if(np.abs(permuted_model.coef_[0]) > np.abs(regression1.coef_[0])):\n",
    "        count += 1\n",
    "                                            \n",
    "print(\"{} permuted slopes were of greater magnitude than the observed data.\".format(count))\n",
    "                                            \n",
    "print(\"p-value implied: {:.5f}\".format(count / 500))"
   ]
  },
  {
   "cell_type": "markdown",
   "metadata": {},
   "source": [
    "Disheartening yet unsuprising...our p-value is not that statistically different than zero thus this implies that there is an insufficient amount of evidence to conclude that there is a linear relationship between our output Industries and hdi "
   ]
  },
  {
   "cell_type": "markdown",
   "metadata": {},
   "source": [
    "#### interpretation and conclusions\n",
    "Analysis One:\n",
    "reflecting now (after completing the data analysis, and the evaluation of significance), it seems as if much of the prior data analysis isn't that significant. while we've found some (slightly) interesting trends, such as how ghg emissions are (somewhat) negatively correlated with hdi, we haven't found much else; the multivariate linear regression also did not return a statistically-significant slope. in this sense, i don't think that our results lined up with our initial expectations, that there would be a high correlation between hdi and certain industries' emissions; perhaps this is a quirk of our own analysis? it seems likely that climatewatch.org would be incentivized to publish such data if they proved significant connection between emissions and a countries \"developedness\": perhaps this sort of \"mangling\" of the data is how climate-change-related misinformation (and false statistics) spreads? \n",
    "\n",
    "Analysis Two:\n",
    "While some of our scatterplots produced earlier, along with our Pearson Correlation computation, seem to suggest a positive correlation between Textiles and energy GHG emissions, Clothing and Energy, Cotton and Energy, and Garments and Waste, our significance test tells us to beware trusting this initial analysis as our data does not appear to be significant in reality. \n",
    "\n",
    "\n",
    "\n",
    "#### limitations\n",
    "\n",
    "there are certainly many limitations to this data: at the very least, part of the scope of this analysis seems limited, since it's about *greenhouse gas emissions by industry* and not pointing directly at fashion itself. but, looking into the data itself, it seems like there could be limitations just based on scale (in megatons, or with population in thousands); given that some countries inevitably get rounded down (to ~ 0 emissions), it seems harder to create significant analyses. this is unsatisfying; however, we are unsure how this might otherwise be solved (since all data will come with this issue as well).\n",
    "\n",
    "The main limitation we are faced with in the second analysis is a lack of data in quantifying the fashion industry into different sectors (cotton, garments, textiles, clothing). There are limitations to the CIA data, each countries industires are not listed in the same way. When using the CIA website to gather data we had to use our own discretion to best make sure that we were keeping our data consistent. The data is also listed in a non numerical way, and we applied numerical analysis to it. The industries are ranked by size, so comparing the rank from one country againt the next will not show the magnitude of how that industry ranks against the countries other industires. This could be fixed with a data set that lists industries by economic output, but this would require another large data set and as much work as we put into our primary data set.\n",
    "\n",
    "#### acknowledgements\n",
    "\n",
    "we'd like to thank our ta, anna, for her constant support for this project, and for many early-rising tas showing up in rhodes to answer the questions we had! :)"
   ]
  },
  {
   "cell_type": "code",
   "execution_count": null,
   "metadata": {},
   "outputs": [],
   "source": []
  }
 ],
 "metadata": {
  "kernelspec": {
   "display_name": "Python 3",
   "language": "python",
   "name": "python3"
  },
  "language_info": {
   "codemirror_mode": {
    "name": "ipython",
    "version": 3
   },
   "file_extension": ".py",
   "mimetype": "text/x-python",
   "name": "python",
   "nbconvert_exporter": "python",
   "pygments_lexer": "ipython3",
   "version": "3.8.5"
  }
 },
 "nbformat": 4,
 "nbformat_minor": 4
}
