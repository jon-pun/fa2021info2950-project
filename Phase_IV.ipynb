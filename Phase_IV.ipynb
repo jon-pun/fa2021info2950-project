{
 "cells": [
  {
   "cell_type": "markdown",
   "metadata": {},
   "source": [
    "# project phase iv: on fashion & climate change\n",
    "\n",
    "project contributors: jillian beck (jlb574), diane lee (ddl58), alex panovka (amp343), jonathan yun (jly37)\n",
    "\n",
    "-----"
   ]
  },
  {
   "cell_type": "markdown",
   "metadata": {},
   "source": [
    "## introduction\n",
    "\n",
    "[add intro text here]\n",
    "\n",
    "-----"
   ]
  },
  {
   "cell_type": "markdown",
   "metadata": {},
   "source": [
    "## data description\n",
    "\n",
    "#### motivation\n",
    "\n",
    "#### composition\n",
    "\n",
    "#### collection process\n",
    "\n",
    "#### postprocessing / cleaning / labelling\n",
    "\n",
    "-----"
   ]
  },
  {
   "cell_type": "markdown",
   "metadata": {},
   "source": [
    "## preregistration statement\n",
    "\n",
    "here are the following analyses we promised to conduct in project phase iii:\n",
    "\n",
    "#### Analysis One:\n",
    "- Goal: Analyze correlation between HDI (human development index) and GHG emissions per economic sector (i.e. Manufacturing, bunker fuel, etc)\n",
    "\n",
    "- How we’re going to do it: We are going to make a new data frame. It will have these twelve columns: [Country, HDI from 2019,  average annual GHG emissions for each economic sector between 2014-2019 ( 5 columns), average annual change in GHG emissions for each economic sector between 2014-2019 (another 5 columns)]. We will then make a heatmap of the spearman correlation between each variable in the data frame. The reason we use spearman is because we care more about a country's relative HDI and GHG compared to other countries rather than what the actual values are. We will pay specific attention to the correlation between HDI and annual GHG emissions. This will represent five cells in the heat map, each cell being a correlation between emissions from a single sector and HDI. We will also check to see any strong correlations between other variables, such as HDI and change in emissions, and correlation between emissions in separate sectors. With these correlations we will be able to make statements about the relationship between the variables in this dataframe. \n",
    "\n",
    "- What we expect to find: We expect that there will be a strong positive correlation between HDI and GHG emissions suggesting that developed countries release more greenhouse gases. Conversely, we expect a strong negative correlation between HDI and change in GHG emissions suggesting that less developed countries are where most of the industrial growth is occurring. When looking at sectors specifically, we expect a slight negative correlation between HDI and GHG emissions from bunker fuel since developing countries often export their goods to developed countries. Finally we expect a high correlation between emissions from each sector, suggesting that countries that have high emissions in one sector also have high emissions in other sectors. Scatter plots of the data, done outside of this analysis, will allow us to see more specific relationships between sectors by country. The information we will gather from this analysis does not directly pertain to the fashion industry, but the knowledge it gives us about the relationship between development and emissions will help us understand if the relationship between development and environmental impact from fashion has unique characteristics.  \n",
    "\n",
    "#### Analysis Two\n",
    "\n",
    "- Goal: Examine the relationship between HDI and the importance of the fashion industry in a country’s economy. \n",
    "\n",
    "- How we’re going to do it: We are going to make a new data frame with these columns: [Country, HDI, cotton, clothing, garments, textiles]. The HDI column will be downloaded from the United Nations Development Programme, and we will just use the most recent year. Cotton, clothing, garment, and textiles will have data taken from the industries list from the CIA factbook. This page shows the top industries by annual output for every country, and we are looking at industries that are just related to fashion. In the data frame these columns will house values representing what rank that industry has in that country. For instance, textiles is fourth in the list of industries in Argentina, so the textiles value for Argentina will be 4. First we will find the correlation between HDI and fashion industries ranking. Next we will merge this data with the data relating to emissions from analysis one. We will create multiple scatter plots of industry rank versus emissions and change in emissions, with different emissions sectors for each plot, and then cluster the data. We expect the clusters to relate to HDI, so we will then make histograms of the HDI per cluster and determine if the clusters correspond to a country’s stage of development. \n",
    "\n",
    "- What we expect to find: We expect to find a negative correlation between HDI and the importance of fashion in a country’s economy. Based on our knowledge that most clothing is manufactured in developing countries, we expect developing countries to rely more on the fashion industry for their economies than developed countries. Across the scatter plots we expect to see clusters of high HDI countries where importance of fashion is low, and change in emissions is low, and where importance of fashion is low, but absolute emissions are high. For low HDI countries, we expect clusters where importance of fashion is high and change in emissions is high, and where importance of fashion is high and emissions are medium to low. Our data does not take into account the size of each country, so the clusters in the annual emissions plots might represent country size, but we expect the clusters in the scatter plots of change in emissions to definitely represent development. With this information we will be able to determine if less developed countries bear a greater burden from the fashion industry than developed countries. \n",
    "\n",
    "-----"
   ]
  },
  {
   "cell_type": "markdown",
   "metadata": {},
   "source": [
    "## analysis one\n",
    "\n",
    "in this analysis, we will analyze correlation between HDI (human development index) and GHG emissions per economic sector (i.e. manufacturing, bunker fuel, etc)."
   ]
  },
  {
   "cell_type": "code",
<<<<<<< Updated upstream
   "execution_count": 129,
=======
   "execution_count": 1,
>>>>>>> Stashed changes
   "metadata": {},
   "outputs": [],
   "source": [
    "## load libraries\n",
    "\n",
    "## our old friends...\n",
    "import numpy as np\n",
    "import pandas as pd\n",
    "import matplotlib.pyplot as plt\n",
    "\n",
    "## ...and some new ones...\n",
    "import seaborn as sns\n",
    "from sklearn.cluster import KMeans\n",
    "\n",
    "## ..and a most new friend\n",
    "from sklearn.linear_model import LinearRegression\n",
    "\n",
    "## load CSVs\n",
    "agriculture=pd.read_csv('agriculture.csv', na_values={'false','False','FALSE'})\n",
    "energy=pd.read_csv('energy.csv',  na_values={'false','False','FALSE'})\n",
    "waste=pd.read_csv('waste.csv',   na_values={'false','False','FALSE'})\n",
    "industrial=pd.read_csv('industrial-processes.csv',  na_values={'false','False','FALSE'})\n",
    "bunker_fuels=pd.read_csv('bunker-fuels.csv',  na_values={'false','False','FALSE'})"
   ]
  },
  {
   "cell_type": "code",
<<<<<<< Updated upstream
   "execution_count": 130,
=======
   "execution_count": 2,
>>>>>>> Stashed changes
   "metadata": {},
   "outputs": [],
   "source": [
    "## load HDI data\n",
    "hdi = pd.read_csv('Human Development Index (HDI)-2.csv', header = 5)\n",
    "cols = {'Country', '2019'} # subset to just keep 2019 hdis\n",
    "hdi = hdi[cols] # keeping only relevant data\n",
    "\n",
    "hdi['Country'] = hdi['Country'].str.strip(' ')\n",
    "\n",
    "hdi = hdi.rename(columns={'Country': 'country', '2019': 'hdi'})"
   ]
  },
  {
   "cell_type": "markdown",
   "metadata": {},
   "source": [
    "#### data analysis\n",
    "\n",
    "first, let's see a little bit more about the hdi data, and then prepare it for merger with the ghg emissions datasets:"
   ]
  },
  {
   "cell_type": "code",
<<<<<<< Updated upstream
   "execution_count": 131,
=======
   "execution_count": 3,
>>>>>>> Stashed changes
   "metadata": {},
   "outputs": [
    {
     "data": {
      "text/html": [
       "<div>\n",
       "<style scoped>\n",
       "    .dataframe tbody tr th:only-of-type {\n",
       "        vertical-align: middle;\n",
       "    }\n",
       "\n",
       "    .dataframe tbody tr th {\n",
       "        vertical-align: top;\n",
       "    }\n",
       "\n",
       "    .dataframe thead th {\n",
       "        text-align: right;\n",
       "    }\n",
       "</style>\n",
       "<table border=\"1\" class=\"dataframe\">\n",
       "  <thead>\n",
       "    <tr style=\"text-align: right;\">\n",
       "      <th></th>\n",
       "      <th>hdi</th>\n",
       "      <th>country</th>\n",
       "    </tr>\n",
       "  </thead>\n",
       "  <tbody>\n",
       "    <tr>\n",
       "      <th>0</th>\n",
       "      <td>0.511</td>\n",
       "      <td>Afghanistan</td>\n",
       "    </tr>\n",
       "    <tr>\n",
       "      <th>1</th>\n",
       "      <td>0.795</td>\n",
       "      <td>Albania</td>\n",
       "    </tr>\n",
       "    <tr>\n",
       "      <th>2</th>\n",
       "      <td>0.748</td>\n",
       "      <td>Algeria</td>\n",
       "    </tr>\n",
       "    <tr>\n",
       "      <th>3</th>\n",
       "      <td>0.868</td>\n",
       "      <td>Andorra</td>\n",
       "    </tr>\n",
       "    <tr>\n",
       "      <th>4</th>\n",
       "      <td>0.581</td>\n",
       "      <td>Angola</td>\n",
       "    </tr>\n",
       "  </tbody>\n",
       "</table>\n",
       "</div>"
      ],
      "text/plain": [
       "     hdi      country\n",
       "0  0.511  Afghanistan\n",
       "1  0.795      Albania\n",
       "2  0.748      Algeria\n",
       "3  0.868      Andorra\n",
       "4  0.581       Angola"
      ]
     },
<<<<<<< Updated upstream
     "execution_count": 131,
=======
     "execution_count": 3,
>>>>>>> Stashed changes
     "metadata": {},
     "output_type": "execute_result"
    }
   ],
   "source": [
    "hdi.head()"
   ]
  },
  {
   "cell_type": "code",
<<<<<<< Updated upstream
   "execution_count": 132,
=======
   "execution_count": 4,
>>>>>>> Stashed changes
   "metadata": {},
   "outputs": [],
   "source": [
    "agriculture = agriculture.sort_values('Country/Region')\n",
    "energy = energy.sort_values('Country/Region')\n",
    "waste = waste.sort_values('Country/Region')\n",
    "industrial = industrial.sort_values('Country/Region')\n",
    "bunker_fuels = bunker_fuels.sort_values('Country/Region')\n",
    "\n",
    "ag_ghgchange = (agriculture['2018']-agriculture['2008'])\n",
    "energy_ghgchange = (energy['2018']-energy['2008'])\n",
    "waste_ghgchange = (waste['2018']-waste['2008'])\n",
    "industrial_ghgchange = (industrial['2008']-industrial['1998'])\n",
    "bunker_ghgchange = (bunker_fuels['2008']-bunker_fuels['1998'])"
   ]
  },
  {
   "cell_type": "markdown",
   "metadata": {},
   "source": [
    "great! we've sorted, subtracted and prepared our datasets for analysis. let's merge them all together into one dataset about ghg emissions, per country, per industry:"
   ]
  },
  {
   "cell_type": "code",
<<<<<<< Updated upstream
   "execution_count": 133,
=======
   "execution_count": 5,
>>>>>>> Stashed changes
   "metadata": {},
   "outputs": [
    {
     "data": {
      "text/html": [
       "<div>\n",
       "<style scoped>\n",
       "    .dataframe tbody tr th:only-of-type {\n",
       "        vertical-align: middle;\n",
       "    }\n",
       "\n",
       "    .dataframe tbody tr th {\n",
       "        vertical-align: top;\n",
       "    }\n",
       "\n",
       "    .dataframe thead th {\n",
       "        text-align: right;\n",
       "    }\n",
       "</style>\n",
       "<table border=\"1\" class=\"dataframe\">\n",
       "  <thead>\n",
       "    <tr style=\"text-align: right;\">\n",
       "      <th></th>\n",
       "      <th>country</th>\n",
       "      <th>agriculture</th>\n",
       "      <th>energy</th>\n",
       "      <th>waste</th>\n",
       "      <th>industrial</th>\n",
       "      <th>bunker fuels</th>\n",
       "    </tr>\n",
       "  </thead>\n",
       "  <tbody>\n",
       "    <tr>\n",
       "      <th>57</th>\n",
       "      <td>Afghanistan</td>\n",
       "      <td>67.42</td>\n",
       "      <td>-4.08</td>\n",
       "      <td>-0.8</td>\n",
       "      <td>0.54</td>\n",
       "      <td>-1.3</td>\n",
       "    </tr>\n",
       "    <tr>\n",
       "      <th>145</th>\n",
       "      <td>Albania</td>\n",
       "      <td>2.17</td>\n",
       "      <td>0.68</td>\n",
       "      <td>0.95</td>\n",
       "      <td>0.05</td>\n",
       "      <td>-0.03</td>\n",
       "    </tr>\n",
       "    <tr>\n",
       "      <th>38</th>\n",
       "      <td>Algeria</td>\n",
       "      <td>58.44</td>\n",
       "      <td>-17.34</td>\n",
       "      <td>-0.39</td>\n",
       "      <td>5.61</td>\n",
       "      <td>0.56</td>\n",
       "    </tr>\n",
       "    <tr>\n",
       "      <th>177</th>\n",
       "      <td>Andorra</td>\n",
       "      <td>-0.05</td>\n",
       "      <td>0.15</td>\n",
       "      <td>0.08</td>\n",
       "      <td>0.0</td>\n",
       "      <td>0.0</td>\n",
       "    </tr>\n",
       "    <tr>\n",
       "      <th>47</th>\n",
       "      <td>Angola</td>\n",
       "      <td>1.2</td>\n",
       "      <td>64.3</td>\n",
       "      <td>-2.18</td>\n",
       "      <td>1.13</td>\n",
       "      <td>1.59</td>\n",
       "    </tr>\n",
       "    <tr>\n",
       "      <th>...</th>\n",
       "      <td>...</td>\n",
       "      <td>...</td>\n",
       "      <td>...</td>\n",
       "      <td>...</td>\n",
       "      <td>...</td>\n",
       "      <td>...</td>\n",
       "    </tr>\n",
       "    <tr>\n",
       "      <th>29</th>\n",
       "      <td>Venezuela</td>\n",
       "      <td>-67.4</td>\n",
       "      <td>44.14</td>\n",
       "      <td>0.62</td>\n",
       "      <td>6.66</td>\n",
       "      <td>1.41</td>\n",
       "    </tr>\n",
       "    <tr>\n",
       "      <th>23</th>\n",
       "      <td>Vietnam</td>\n",
       "      <td>126.44</td>\n",
       "      <td>126.77</td>\n",
       "      <td>1.21</td>\n",
       "      <td>3.64</td>\n",
       "      <td>-0.78</td>\n",
       "    </tr>\n",
       "    <tr>\n",
       "      <th>122</th>\n",
       "      <td>Yemen</td>\n",
       "      <td>-11.3</td>\n",
       "      <td>4.3</td>\n",
       "      <td>0.34</td>\n",
       "      <td>0.22</td>\n",
       "      <td>-0.03</td>\n",
       "    </tr>\n",
       "    <tr>\n",
       "      <th>59</th>\n",
       "      <td>Zambia</td>\n",
       "      <td>27.67</td>\n",
       "      <td>-5.72</td>\n",
       "      <td>0.52</td>\n",
       "      <td>0.89</td>\n",
       "      <td>0.63</td>\n",
       "    </tr>\n",
       "    <tr>\n",
       "      <th>49</th>\n",
       "      <td>Zimbabwe</td>\n",
       "      <td>83.42</td>\n",
       "      <td>4.39</td>\n",
       "      <td>0.78</td>\n",
       "      <td>2.39</td>\n",
       "      <td>1.06</td>\n",
       "    </tr>\n",
       "  </tbody>\n",
       "</table>\n",
       "<p>195 rows × 6 columns</p>\n",
       "</div>"
      ],
      "text/plain": [
       "         country agriculture  energy waste industrial bunker fuels\n",
       "57   Afghanistan       67.42   -4.08  -0.8       0.54         -1.3\n",
       "145      Albania        2.17    0.68  0.95       0.05        -0.03\n",
       "38       Algeria       58.44  -17.34 -0.39       5.61         0.56\n",
       "177      Andorra       -0.05    0.15  0.08        0.0          0.0\n",
       "47        Angola         1.2    64.3 -2.18       1.13         1.59\n",
       "..           ...         ...     ...   ...        ...          ...\n",
       "29     Venezuela       -67.4   44.14  0.62       6.66         1.41\n",
       "23       Vietnam      126.44  126.77  1.21       3.64        -0.78\n",
       "122        Yemen       -11.3     4.3  0.34       0.22        -0.03\n",
       "59        Zambia       27.67   -5.72  0.52       0.89         0.63\n",
       "49      Zimbabwe       83.42    4.39  0.78       2.39         1.06\n",
       "\n",
       "[195 rows x 6 columns]"
      ]
     },
<<<<<<< Updated upstream
     "execution_count": 133,
=======
     "execution_count": 5,
>>>>>>> Stashed changes
     "metadata": {},
     "output_type": "execute_result"
    }
   ],
   "source": [
    "data_ghgchange = {'country': agriculture['Country/Region'].str.strip(' '), 'agriculture': ag_ghgchange, 'energy': energy_ghgchange,\n",
    "                  'waste': waste_ghgchange, 'industrial': industrial_ghgchange, 'bunker fuels': bunker_ghgchange}\n",
    "df_ghgchange = pd.DataFrame.from_dict(data_ghgchange, orient = 'index')\n",
    "df_ghgchange = df_ghgchange.transpose()\n",
    "\n",
    "df_ghgchange"
   ]
  },
  {
   "cell_type": "markdown",
   "metadata": {},
   "source": [
    "let's also run some summary statistics on this:"
   ]
  },
  {
   "cell_type": "code",
<<<<<<< Updated upstream
   "execution_count": 134,
   "metadata": {},
   "outputs": [
    {
     "name": "stdout",
     "output_type": "stream",
     "text": [
      "       country  agriculture  energy  waste  industrial  bunker fuels\n",
      "count      195       193.00  193.00  191.0       191.0         175.0\n",
      "unique     195       191.00  187.00  150.0       147.0         139.0\n",
      "top      Syria         0.03    0.68    0.0         0.0           0.0\n",
      "freq         1         2.00    2.00   12.0        15.0          20.0\n",
      "country         object\n",
      "agriculture     object\n",
      "energy          object\n",
      "waste           object\n",
      "industrial      object\n",
      "bunker fuels    object\n",
      "dtype: object\n"
     ]
=======
   "execution_count": 6,
   "metadata": {},
   "outputs": [
    {
     "data": {
      "text/plain": [
       "<AxesSubplot:xlabel='hdi', ylabel='agriculture'>"
      ]
     },
     "execution_count": 6,
     "metadata": {},
     "output_type": "execute_result"
    },
    {
     "data": {
      "image/png": "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\n",
      "text/plain": [
       "<Figure size 432x288 with 1 Axes>"
      ]
     },
     "metadata": {
      "needs_background": "light"
     },
     "output_type": "display_data"
>>>>>>> Stashed changes
    }
   ],
   "source": [
    "print(df_ghgchange.describe())\n",
    "\n",
    "print(df_ghgchange.dtypes)"
   ]
  },
  {
   "cell_type": "markdown",
   "metadata": {},
   "source": [
<<<<<<< Updated upstream
    "ok, our climate change emissions data (in megatons) should probably be numeric... let's do that, and then run summary statistics on it:"
=======
    "Dear Diane and Jon,\n",
    "    We are stealing your data frame. We renamed it as a new variable so we can use it later before you drop the country "
   ]
  },
  {
   "cell_type": "code",
   "execution_count": 7,
   "metadata": {},
   "outputs": [],
   "source": [
    "# second_analysis_one=analysis_one\n",
    "analysis_one = analysis_one.drop(['country'], axis = 1)\n",
    "analysis_one = analysis_one.astype(float)"
>>>>>>> Stashed changes
   ]
  },
  {
   "cell_type": "code",
<<<<<<< Updated upstream
   "execution_count": 135,
=======
   "execution_count": 8,
>>>>>>> Stashed changes
   "metadata": {},
   "outputs": [
    {
     "data": {
      "text/html": [
       "<div>\n",
       "<style scoped>\n",
       "    .dataframe tbody tr th:only-of-type {\n",
       "        vertical-align: middle;\n",
       "    }\n",
       "\n",
       "    .dataframe tbody tr th {\n",
       "        vertical-align: top;\n",
       "    }\n",
       "\n",
       "    .dataframe thead th {\n",
       "        text-align: right;\n",
       "    }\n",
       "</style>\n",
       "<table border=\"1\" class=\"dataframe\">\n",
       "  <thead>\n",
       "    <tr style=\"text-align: right;\">\n",
       "      <th></th>\n",
       "      <th>energy</th>\n",
       "      <th>waste</th>\n",
       "      <th>bunker fuels</th>\n",
       "      <th>agriculture</th>\n",
       "      <th>industrial</th>\n",
       "    </tr>\n",
       "  </thead>\n",
       "  <tbody>\n",
       "    <tr>\n",
       "      <th>count</th>\n",
       "      <td>193.000000</td>\n",
       "      <td>191.000000</td>\n",
       "      <td>175.000000</td>\n",
       "      <td>193.000000</td>\n",
       "      <td>191.000000</td>\n",
       "    </tr>\n",
       "    <tr>\n",
       "      <th>mean</th>\n",
       "      <td>22.548031</td>\n",
       "      <td>0.837068</td>\n",
       "      <td>1.664286</td>\n",
       "      <td>29.479896</td>\n",
       "      <td>3.758848</td>\n",
       "    </tr>\n",
       "    <tr>\n",
       "      <th>std</th>\n",
       "      <td>239.662242</td>\n",
       "      <td>5.387391</td>\n",
       "      <td>5.954713</td>\n",
       "      <td>259.370847</td>\n",
       "      <td>34.781706</td>\n",
       "    </tr>\n",
       "    <tr>\n",
       "      <th>min</th>\n",
       "      <td>-612.040000</td>\n",
       "      <td>-19.850000</td>\n",
       "      <td>-3.840000</td>\n",
       "      <td>-610.260000</td>\n",
       "      <td>-28.900000</td>\n",
       "    </tr>\n",
       "    <tr>\n",
       "      <th>25%</th>\n",
       "      <td>-1.240000</td>\n",
       "      <td>0.010000</td>\n",
       "      <td>0.000000</td>\n",
       "      <td>-0.610000</td>\n",
       "      <td>0.020000</td>\n",
       "    </tr>\n",
       "    <tr>\n",
       "      <th>50%</th>\n",
       "      <td>0.640000</td>\n",
       "      <td>0.150000</td>\n",
       "      <td>0.120000</td>\n",
       "      <td>1.830000</td>\n",
       "      <td>0.250000</td>\n",
       "    </tr>\n",
       "    <tr>\n",
       "      <th>75%</th>\n",
       "      <td>7.050000</td>\n",
       "      <td>0.845000</td>\n",
       "      <td>0.770000</td>\n",
       "      <td>14.970000</td>\n",
       "      <td>1.120000</td>\n",
       "    </tr>\n",
       "    <tr>\n",
       "      <th>max</th>\n",
       "      <td>3095.940000</td>\n",
       "      <td>57.180000</td>\n",
       "      <td>62.290000</td>\n",
       "      <td>3250.160000</td>\n",
       "      <td>476.610000</td>\n",
       "    </tr>\n",
       "  </tbody>\n",
       "</table>\n",
       "</div>"
      ],
      "text/plain": [
<<<<<<< Updated upstream
       "            energy       waste  bunker fuels  agriculture  industrial\n",
       "count   193.000000  191.000000    175.000000   193.000000  191.000000\n",
       "mean     22.548031    0.837068      1.664286    29.479896    3.758848\n",
       "std     239.662242    5.387391      5.954713   259.370847   34.781706\n",
       "min    -612.040000  -19.850000     -3.840000  -610.260000  -28.900000\n",
       "25%      -1.240000    0.010000      0.000000    -0.610000    0.020000\n",
       "50%       0.640000    0.150000      0.120000     1.830000    0.250000\n",
       "75%       7.050000    0.845000      0.770000    14.970000    1.120000\n",
       "max    3095.940000   57.180000     62.290000  3250.160000  476.610000"
      ]
     },
     "execution_count": 135,
=======
       "                   hdi  agriculture    energy     waste  industrial  \\\n",
       "hdi           1.000000    -0.312070  0.135556  0.030513    0.067183   \n",
       "agriculture  -0.312070     1.000000 -0.070286  0.030426    0.133120   \n",
       "energy        0.135556    -0.070286  1.000000  0.092365    0.248048   \n",
       "waste         0.030513     0.030426  0.092365  1.000000    0.084119   \n",
       "industrial    0.067183     0.133120  0.248048  0.084119    1.000000   \n",
       "bunker fuels -0.027572    -0.002558  0.194022  0.009608    0.318410   \n",
       "\n",
       "              bunker fuels  \n",
       "hdi              -0.027572  \n",
       "agriculture      -0.002558  \n",
       "energy            0.194022  \n",
       "waste             0.009608  \n",
       "industrial        0.318410  \n",
       "bunker fuels      1.000000  "
      ]
     },
     "execution_count": 8,
     "metadata": {},
     "output_type": "execute_result"
    }
   ],
   "source": [
    "analysis_one.corr(method = 'spearman')"
   ]
  },
  {
   "cell_type": "code",
   "execution_count": 9,
   "metadata": {},
   "outputs": [
    {
     "data": {
      "text/plain": [
       "dtype('float64')"
      ]
     },
     "execution_count": 9,
>>>>>>> Stashed changes
     "metadata": {},
     "output_type": "execute_result"
    }
   ],
   "source": [
<<<<<<< Updated upstream
    "df_ghgchange[\"agriculture\"] = df_ghgchange[\"agriculture\"].astype(float)\n",
    "df_ghgchange[\"energy\"] = df_ghgchange[\"energy\"].astype(float)\n",
    "df_ghgchange[\"waste\"] = df_ghgchange[\"waste\"].astype(float)\n",
    "df_ghgchange[\"industrial\"] = df_ghgchange[\"industrial\"].astype(float)\n",
    "df_ghgchange[\"bunker fuels\"] = df_ghgchange[\"bunker fuels\"].astype(float)\n",
    "\n",
    "df_ghgchange[{\"agriculture\", \"energy\", \"waste\", \"industrial\", \"bunker fuels\"}].describe()"
=======
    "analysis_one.hdi.dtype"
   ]
  },
  {
   "cell_type": "code",
   "execution_count": 10,
   "metadata": {},
   "outputs": [
    {
     "data": {
      "image/png": "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\n",
      "text/plain": [
       "<Figure size 432x288 with 2 Axes>"
      ]
     },
     "metadata": {
      "needs_background": "light"
     },
     "output_type": "display_data"
    }
   ],
   "source": [
    "sns.heatmap(analysis_one.corr(method = 'spearman'), center=0, cmap='coolwarm')\n",
    "plt.tight_layout()\n",
    "plt.show()"
>>>>>>> Stashed changes
   ]
  },
  {
   "cell_type": "markdown",
   "metadata": {},
   "source": [
    "this data mostly makes sense (aside from some negative ghg emissions, which appear to be outliers), but also does not appear to be very comparable (since some countries might have 3250 megatons of co2-equivalent emissions solely based on size, and others might have almost 0 megatons as a small nation). let's standardize on the basis of population, using population data:"
   ]
  },
  {
   "cell_type": "code",
<<<<<<< Updated upstream
   "execution_count": 136,
=======
   "execution_count": 11,
   "metadata": {},
   "outputs": [],
   "source": [
    "industry_data=pd.read_csv('CIA_industry_data.csv')\n",
    "industry_data=industry_data.rename(columns={'Country/Region': 'country'})\n",
    "industry_data=industry_data.drop(columns='Jute')"
   ]
  },
  {
   "cell_type": "code",
   "execution_count": 12,
>>>>>>> Stashed changes
   "metadata": {},
   "outputs": [
    {
     "data": {
      "text/html": [
       "<div>\n",
       "<style scoped>\n",
       "    .dataframe tbody tr th:only-of-type {\n",
       "        vertical-align: middle;\n",
       "    }\n",
       "\n",
       "    .dataframe tbody tr th {\n",
       "        vertical-align: top;\n",
       "    }\n",
       "\n",
       "    .dataframe thead th {\n",
       "        text-align: right;\n",
       "    }\n",
       "</style>\n",
       "<table border=\"1\" class=\"dataframe\">\n",
       "  <thead>\n",
       "    <tr style=\"text-align: right;\">\n",
       "      <th></th>\n",
       "      <th>country</th>\n",
       "      <th>agriculture</th>\n",
       "      <th>energy</th>\n",
       "      <th>waste</th>\n",
       "      <th>industrial</th>\n",
       "      <th>bunker fuels</th>\n",
       "      <th>Time</th>\n",
       "      <th>PopTotal</th>\n",
       "    </tr>\n",
       "  </thead>\n",
       "  <tbody>\n",
       "    <tr>\n",
       "      <th>0</th>\n",
       "      <td>Afghanistan</td>\n",
       "      <td>0.001772</td>\n",
       "      <td>-0.000107</td>\n",
       "      <td>-0.000021</td>\n",
       "      <td>0.000014</td>\n",
       "      <td>-0.000034</td>\n",
       "      <td>2019</td>\n",
       "      <td>38041.757</td>\n",
       "    </tr>\n",
       "    <tr>\n",
       "      <th>1</th>\n",
       "      <td>Albania</td>\n",
       "      <td>0.000753</td>\n",
       "      <td>0.000236</td>\n",
       "      <td>0.000330</td>\n",
       "      <td>0.000017</td>\n",
       "      <td>-0.000010</td>\n",
       "      <td>2019</td>\n",
       "      <td>2880.913</td>\n",
       "    </tr>\n",
       "    <tr>\n",
       "      <th>2</th>\n",
       "      <td>Algeria</td>\n",
       "      <td>0.001357</td>\n",
       "      <td>-0.000403</td>\n",
       "      <td>-0.000009</td>\n",
       "      <td>0.000130</td>\n",
       "      <td>0.000013</td>\n",
       "      <td>2019</td>\n",
       "      <td>43053.054</td>\n",
       "    </tr>\n",
       "    <tr>\n",
       "      <th>3</th>\n",
       "      <td>Andorra</td>\n",
       "      <td>-0.000648</td>\n",
       "      <td>0.001944</td>\n",
       "      <td>0.001037</td>\n",
       "      <td>0.000000</td>\n",
       "      <td>0.000000</td>\n",
       "      <td>2019</td>\n",
       "      <td>77.146</td>\n",
       "    </tr>\n",
       "    <tr>\n",
       "      <th>4</th>\n",
       "      <td>Angola</td>\n",
       "      <td>0.000038</td>\n",
       "      <td>0.002020</td>\n",
       "      <td>-0.000068</td>\n",
       "      <td>0.000036</td>\n",
       "      <td>0.000050</td>\n",
       "      <td>2019</td>\n",
       "      <td>31825.299</td>\n",
       "    </tr>\n",
       "  </tbody>\n",
       "</table>\n",
       "</div>"
      ],
      "text/plain": [
       "       country  agriculture    energy     waste  industrial  bunker fuels  \\\n",
       "0  Afghanistan     0.001772 -0.000107 -0.000021    0.000014     -0.000034   \n",
       "1      Albania     0.000753  0.000236  0.000330    0.000017     -0.000010   \n",
       "2      Algeria     0.001357 -0.000403 -0.000009    0.000130      0.000013   \n",
       "3      Andorra    -0.000648  0.001944  0.001037    0.000000      0.000000   \n",
       "4       Angola     0.000038  0.002020 -0.000068    0.000036      0.000050   \n",
       "\n",
       "   Time   PopTotal  \n",
       "0  2019  38041.757  \n",
       "1  2019   2880.913  \n",
       "2  2019  43053.054  \n",
       "3  2019     77.146  \n",
       "4  2019  31825.299  "
      ]
     },
<<<<<<< Updated upstream
     "execution_count": 136,
=======
     "execution_count": 12,
>>>>>>> Stashed changes
     "metadata": {},
     "output_type": "execute_result"
    }
   ],
   "source": [
    "pop = pd.read_csv(\"WPP2019_TotalPopulationBySex.csv\")\n",
    "\n",
    "pop = pop[pop[\"Time\"] == 2019] # ensuring it's only 2019 data\n",
    "pop = pop[{\"Location\", \"Time\", \"PopTotal\"}] # removing unnecessary columns\n",
    "pop = pop.rename(columns = {\"Location\" : \"country\"}) # renaming the column for the merge\n",
    "\n",
    "df_ghgchange = df_ghgchange.merge(pop, on = \"country\") # performing an inner join\n",
    "\n",
    "df_ghgchange.head()\n",
    "\n",
    "df_ghgchange.columns\n",
    "\n",
    "for emissions in {\"agriculture\", \"energy\", \"waste\", \"industrial\", \"bunker fuels\"}:\n",
    "    df_ghgchange[emissions] = df_ghgchange[emissions] / df_ghgchange[\"PopTotal\"]\n",
    "    \n",
    "df_ghgchange.head()"
   ]
  },
  {
   "cell_type": "markdown",
   "metadata": {},
   "source": [
    "nice! let's now merge this data with each country's human development index, and also drop the population column now that it's unneeded:"
   ]
  },
  {
   "cell_type": "code",
   "execution_count": 137,
   "metadata": {},
   "outputs": [
    {
     "name": "stdout",
     "output_type": "stream",
     "text": [
      "       country    hdi  agriculture    energy     waste  industrial  \\\n",
      "0  Afghanistan  0.511     0.001772 -0.000107 -0.000021    0.000014   \n",
      "1      Albania  0.795     0.000753  0.000236  0.000330    0.000017   \n",
      "2      Algeria  0.748     0.001357 -0.000403 -0.000009    0.000130   \n",
      "3      Andorra  0.868    -0.000648  0.001944  0.001037    0.000000   \n",
      "4       Angola  0.581     0.000038  0.002020 -0.000068    0.000036   \n",
      "\n",
      "   bunker fuels  \n",
      "0     -0.000034  \n",
      "1     -0.000010  \n",
      "2      0.000013  \n",
      "3      0.000000  \n",
      "4      0.000050  \n"
     ]
    },
    {
     "data": {
      "text/plain": [
       "True"
      ]
     },
     "execution_count": 137,
     "metadata": {},
     "output_type": "execute_result"
    }
   ],
   "source": [
    "analysis_one = hdi.merge(df_ghgchange, on = 'country')\n",
    "\n",
    "analysis_one.drop([\"Time\", \"PopTotal\"], axis = 1, inplace = True)\n",
    "print(analysis_one.head())\n",
    "\n",
    "analysis_one.isnull().values.any()"
   ]
  },
  {
   "cell_type": "markdown",
   "metadata": {},
   "source": [
    "interestingly, this data contains nans. let's remove them!"
   ]
  },
  {
   "cell_type": "code",
<<<<<<< Updated upstream
   "execution_count": 147,
=======
   "execution_count": 13,
>>>>>>> Stashed changes
   "metadata": {},
   "outputs": [],
   "source": [
    "analysis_one = analysis_one.dropna()"
   ]
  },
  {
   "cell_type": "markdown",
   "metadata": {},
   "source": [
    "Dear Diane and Jon,\n",
    "    We are stealing your data frame. We renamed it as a new variable so we can use it later before you drop the country "
   ]
  },
  {
   "cell_type": "code",
   "execution_count": 139,
   "metadata": {},
   "outputs": [],
   "source": [
    "# second_analysis_one=analysis_one\n",
    "analysis_one = analysis_one.drop(['country'], axis = 1)\n",
    "analysis_one = analysis_one.astype(float)"
   ]
  },
  {
   "cell_type": "markdown",
   "metadata": {},
   "source": [
    "in order to describe a little more about the data, let's create a heatmap to check for correlation! this is as follows:"
   ]
  },
  {
   "cell_type": "code",
<<<<<<< Updated upstream
   "execution_count": 140,
=======
   "execution_count": 14,
>>>>>>> Stashed changes
   "metadata": {},
   "outputs": [
    {
     "data": {
      "text/html": [
       "<div>\n",
       "<style scoped>\n",
       "    .dataframe tbody tr th:only-of-type {\n",
       "        vertical-align: middle;\n",
       "    }\n",
       "\n",
       "    .dataframe tbody tr th {\n",
       "        vertical-align: top;\n",
       "    }\n",
       "\n",
       "    .dataframe thead th {\n",
       "        text-align: right;\n",
       "    }\n",
       "</style>\n",
       "<table border=\"1\" class=\"dataframe\">\n",
       "  <thead>\n",
       "    <tr style=\"text-align: right;\">\n",
       "      <th></th>\n",
       "      <th>hdi</th>\n",
<<<<<<< Updated upstream
       "      <th>agriculture</th>\n",
       "      <th>energy</th>\n",
       "      <th>waste</th>\n",
       "      <th>industrial</th>\n",
       "      <th>bunker fuels</th>\n",
=======
       "      <th>country</th>\n",
       "      <th>Cotton</th>\n",
       "      <th>Clothing</th>\n",
       "      <th>Garments</th>\n",
       "      <th>Textiles</th>\n",
       "    </tr>\n",
       "  </thead>\n",
       "  <tbody>\n",
       "    <tr>\n",
       "      <th>189</th>\n",
       "      <td>..</td>\n",
       "      <td>Human Development</td>\n",
       "      <td>NaN</td>\n",
       "      <td>NaN</td>\n",
       "      <td>NaN</td>\n",
       "      <td>NaN</td>\n",
       "    </tr>\n",
       "    <tr>\n",
       "      <th>195</th>\n",
       "      <td>..</td>\n",
       "      <td>Regions</td>\n",
       "      <td>NaN</td>\n",
       "      <td>NaN</td>\n",
       "      <td>NaN</td>\n",
       "      <td>NaN</td>\n",
       "    </tr>\n",
       "  </tbody>\n",
       "</table>\n",
       "</div>"
      ],
      "text/plain": [
       "    hdi            country  Cotton  Clothing  Garments  Textiles\n",
       "189  ..  Human Development     NaN       NaN       NaN       NaN\n",
       "195  ..            Regions     NaN       NaN       NaN       NaN"
      ]
     },
     "execution_count": 14,
     "metadata": {},
     "output_type": "execute_result"
    }
   ],
   "source": [
    "analysis_two[analysis_two.hdi.str.find('..')==0]"
   ]
  },
  {
   "cell_type": "code",
   "execution_count": 15,
   "metadata": {},
   "outputs": [],
   "source": [
    "analysis_two=analysis_two.drop([189,195])\n",
    "analysis_two.hdi=analysis_two.hdi.astype(float)"
   ]
  },
  {
   "cell_type": "code",
   "execution_count": 16,
   "metadata": {},
   "outputs": [
    {
     "data": {
      "image/png": "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\n",
      "text/plain": [
       "<Figure size 432x288 with 2 Axes>"
      ]
     },
     "metadata": {
      "needs_background": "light"
     },
     "output_type": "display_data"
    }
   ],
   "source": [
    "sns.heatmap(analysis_two.corr(), cmap='coolwarm')\n",
    "plt.tight_layout()\n",
    "plt.show()"
   ]
  },
  {
   "cell_type": "code",
   "execution_count": 17,
   "metadata": {},
   "outputs": [
    {
     "data": {
      "text/html": [
       "<div>\n",
       "<style scoped>\n",
       "    .dataframe tbody tr th:only-of-type {\n",
       "        vertical-align: middle;\n",
       "    }\n",
       "\n",
       "    .dataframe tbody tr th {\n",
       "        vertical-align: top;\n",
       "    }\n",
       "\n",
       "    .dataframe thead th {\n",
       "        text-align: right;\n",
       "    }\n",
       "</style>\n",
       "<table border=\"1\" class=\"dataframe\">\n",
       "  <thead>\n",
       "    <tr style=\"text-align: right;\">\n",
       "      <th></th>\n",
       "      <th>hdi</th>\n",
       "      <th>Cotton</th>\n",
       "      <th>Clothing</th>\n",
       "      <th>Garments</th>\n",
       "      <th>Textiles</th>\n",
>>>>>>> Stashed changes
       "    </tr>\n",
       "  </thead>\n",
       "  <tbody>\n",
       "    <tr>\n",
       "      <th>hdi</th>\n",
       "      <td>1.000000</td>\n",
       "      <td>-0.183555</td>\n",
       "      <td>0.187827</td>\n",
       "      <td>0.129007</td>\n",
       "      <td>0.278464</td>\n",
       "      <td>0.053446</td>\n",
       "    </tr>\n",
       "    <tr>\n",
       "      <th>agriculture</th>\n",
       "      <td>-0.183555</td>\n",
       "      <td>1.000000</td>\n",
       "      <td>-0.023319</td>\n",
       "      <td>0.113897</td>\n",
       "      <td>0.168232</td>\n",
       "      <td>0.037648</td>\n",
       "    </tr>\n",
       "    <tr>\n",
       "      <th>energy</th>\n",
       "      <td>0.187827</td>\n",
       "      <td>-0.023319</td>\n",
       "      <td>1.000000</td>\n",
       "      <td>0.127375</td>\n",
       "      <td>0.079025</td>\n",
       "      <td>0.078211</td>\n",
       "    </tr>\n",
       "    <tr>\n",
       "      <th>waste</th>\n",
       "      <td>0.129007</td>\n",
       "      <td>0.113897</td>\n",
       "      <td>0.127375</td>\n",
       "      <td>1.000000</td>\n",
       "      <td>0.047546</td>\n",
       "      <td>-0.020237</td>\n",
       "    </tr>\n",
       "    <tr>\n",
       "      <th>industrial</th>\n",
       "      <td>0.278464</td>\n",
       "      <td>0.168232</td>\n",
       "      <td>0.079025</td>\n",
       "      <td>0.047546</td>\n",
       "      <td>1.000000</td>\n",
       "      <td>0.274530</td>\n",
       "    </tr>\n",
       "    <tr>\n",
       "      <th>bunker fuels</th>\n",
       "      <td>0.053446</td>\n",
       "      <td>0.037648</td>\n",
       "      <td>0.078211</td>\n",
       "      <td>-0.020237</td>\n",
       "      <td>0.274530</td>\n",
       "      <td>1.000000</td>\n",
       "    </tr>\n",
       "  </tbody>\n",
       "</table>\n",
       "</div>"
      ],
      "text/plain": [
       "                   hdi  agriculture    energy     waste  industrial  \\\n",
       "hdi           1.000000    -0.183555  0.187827  0.129007    0.278464   \n",
       "agriculture  -0.183555     1.000000 -0.023319  0.113897    0.168232   \n",
       "energy        0.187827    -0.023319  1.000000  0.127375    0.079025   \n",
       "waste         0.129007     0.113897  0.127375  1.000000    0.047546   \n",
       "industrial    0.278464     0.168232  0.079025  0.047546    1.000000   \n",
       "bunker fuels  0.053446     0.037648  0.078211 -0.020237    0.274530   \n",
       "\n",
       "              bunker fuels  \n",
       "hdi               0.053446  \n",
       "agriculture       0.037648  \n",
       "energy            0.078211  \n",
       "waste            -0.020237  \n",
       "industrial        0.274530  \n",
       "bunker fuels      1.000000  "
      ]
     },
<<<<<<< Updated upstream
     "execution_count": 140,
=======
     "execution_count": 17,
>>>>>>> Stashed changes
     "metadata": {},
     "output_type": "execute_result"
    }
   ],
   "source": [
    "analysis_one.corr(method = 'spearman')"
   ]
  },
  {
   "cell_type": "code",
<<<<<<< Updated upstream
   "execution_count": 141,
=======
   "execution_count": 18,
>>>>>>> Stashed changes
   "metadata": {},
   "outputs": [
    {
     "data": {
      "text/plain": [
       "dtype('float64')"
      ]
     },
<<<<<<< Updated upstream
     "execution_count": 141,
=======
     "execution_count": 18,
>>>>>>> Stashed changes
     "metadata": {},
     "output_type": "execute_result"
    }
   ],
   "source": [
    "analysis_one.hdi.dtype"
   ]
  },
  {
   "cell_type": "code",
<<<<<<< Updated upstream
   "execution_count": 142,
=======
   "execution_count": 19,
>>>>>>> Stashed changes
   "metadata": {},
   "outputs": [
    {
     "data": {
      "image/png": "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\n",
      "text/plain": [
<<<<<<< Updated upstream
       "<Figure size 432x288 with 2 Axes>"
=======
       "<matplotlib.collections.PathCollection at 0x7ffea182f4f0>"
      ]
     },
     "execution_count": 19,
     "metadata": {},
     "output_type": "execute_result"
    },
    {
     "data": {
      "image/png": "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\n",
      "text/plain": [
       "<Figure size 432x288 with 1 Axes>"
>>>>>>> Stashed changes
      ]
     },
     "metadata": {
      "needs_background": "light"
     },
     "output_type": "display_data"
    }
   ],
   "source": [
    "sns.heatmap(analysis_one.corr(method = 'spearman'), center=0, cmap='coolwarm')\n",
    "plt.tight_layout()\n",
    "plt.show()"
   ]
  },
  {
<<<<<<< Updated upstream
   "cell_type": "markdown",
   "metadata": {},
=======
   "cell_type": "code",
   "execution_count": 20,
   "metadata": {},
   "outputs": [
    {
     "data": {
      "text/plain": [
       "<matplotlib.collections.PathCollection at 0x7ffea10591c0>"
      ]
     },
     "execution_count": 20,
     "metadata": {},
     "output_type": "execute_result"
    },
    {
     "data": {
      "image/png": "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\n",
      "text/plain": [
       "<Figure size 432x288 with 1 Axes>"
      ]
     },
     "metadata": {
      "needs_background": "light"
     },
     "output_type": "display_data"
    }
   ],
>>>>>>> Stashed changes
   "source": [
    "these results might not be very significant in themselves, but we'd like to at least try to construct a model based on this data (given the wealth of what we have, and that there is a known correlation *at the least* between hdi and ghg emissions per capita). along these lines, let's try creating a multivariate linear regression to predict hdi, since hdi is a continuous float from 0-1:"
   ]
  },
  {
   "cell_type": "code",
<<<<<<< Updated upstream
   "execution_count": 148,
   "metadata": {},
   "outputs": [
    {
     "name": "stdout",
     "output_type": "stream",
     "text": [
      "coefficients = [  6.86723421   7.08507715 -72.89289381  -1.8797825  288.46484019]\n",
      "r^2 = 0.06860448875673764\n"
     ]
=======
   "execution_count": 21,
   "metadata": {},
   "outputs": [
    {
     "data": {
      "text/plain": [
       "<matplotlib.collections.PathCollection at 0x7ffea177e9d0>"
      ]
     },
     "execution_count": 21,
     "metadata": {},
     "output_type": "execute_result"
    },
    {
     "data": {
      "image/png": "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\n",
      "text/plain": [
       "<Figure size 432x288 with 1 Axes>"
      ]
     },
     "metadata": {
      "needs_background": "light"
     },
     "output_type": "display_data"
>>>>>>> Stashed changes
    }
   ],
   "source": [
    "regression1 = LinearRegression().fit(analysis_one[{\"agriculture\", \"energy\", \"waste\", \"industrial\", \"bunker fuels\"}], analysis_one[\"hdi\"])\n",
    "print(\"coefficients = {}\".format(regression1.coef_))\n",
    "print(\"r^2 = {}\".format(regression1.score(analysis_one[{\"agriculture\", \"energy\", \"waste\", \"industrial\", \"bunker fuels\"}], analysis_one[\"hdi\"])))"
   ]
  },
  {
   "cell_type": "markdown",
   "metadata": {},
   "source": [
    "#### evaluation of significance\n",
    "\n",
    "already, this data doesn't seem particularly significant, but let's validate that with an evaluation of significance. for this, let's try bootstrapping our regression with n = 500 trials, to try and see how many slopes because of randomness could be more random than the one we got:"
   ]
  },
  {
   "cell_type": "code",
<<<<<<< Updated upstream
   "execution_count": 151,
   "metadata": {},
   "outputs": [
    {
     "name": "stdout",
     "output_type": "stream",
     "text": [
      "210 permuted slopes were of greater magnitude than the observed data.\n",
      "p-value implied: 0.42000\n"
     ]
=======
   "execution_count": 22,
   "metadata": {},
   "outputs": [
    {
     "data": {
      "text/plain": [
       "<matplotlib.collections.PathCollection at 0x7ffea113c070>"
      ]
     },
     "execution_count": 22,
     "metadata": {},
     "output_type": "execute_result"
    },
    {
     "data": {
      "image/png": "iVBORw0KGgoAAAANSUhEUgAAAXQAAAD4CAYAAAD8Zh1EAAAAOXRFWHRTb2Z0d2FyZQBNYXRwbG90bGliIHZlcnNpb24zLjMuMiwgaHR0cHM6Ly9tYXRwbG90bGliLm9yZy8vihELAAAACXBIWXMAAAsTAAALEwEAmpwYAAATf0lEQVR4nO3df2xd533f8fentIzR/UUXVtKJMiJ3cNQ4cRI1nNfW6JYly+Ssma25/cPptgZZB8NDnWXDxtVasaLFgFmY9qtdvBlG6qXDghiZozJO64YJ4i4Ziq4xFdqRZZer4Ky2qKxRlrHZUmKRle/+4JVDUaR0SZ/Lc3nu+wUI5n3uEe9HFvW55z7nuc9NVSFJ2vm+o+0AkqRmWOiS1BEWuiR1hIUuSR1hoUtSR1zV1gNfd911tW/fvrYeXpJ2pOPHj3+1qnavd19rhb5v3z7m5ubaenhJ2pGS/OFG9znlIkkdYaFLUkdY6JLUERa6JHWEhS5JHdHaKhdJgzMzv8jR2QXOLC2zZ2Kc6YP7OXRgsu1YGjALXdqCYS7MmflFDh87wfK58wAsLi1z+NgJgKHJqMFwykXapAuFubi0TPHtwpyZX2w7GgBHZxdeLvMLls+d5+jsQkuJtF0sdGmThr0wzywtb2pc3eGUi7RJw16YeybGWVwny56J8RbSaLVBT9V5hi5t0kbFOCyFOX1wP+O7xi4aG981xvTB/S0lEmzPVJ2FLm3SsBfmoQOT3H/nzUxOjBNgcmKc+++82QuiLduOqTqnXKRNulCMw7rKBVYyDlMebc9UnYUubYGFqc3ajmsbTrlI0jbYjqk6z9AlaRtsx1SdhS5J22TQU3VOuUhSR1joktQRFrokdYSFLkkdYaFLUkf0VehJbkuykORUkvvWuf/aJL+e5ItJPp/kDc1HlSRdzhULPckY8ADwTuAm4N1Jblpz2D8GnqqqNwI/Dfxy00ElSZfXzzr0W4BTVfU8QJJHgDuAZ1cdcxNwP0BV/X6SfUleXVV/1HRgabOG+dOFpCb1M+UyCby46vbp3thqTwN3AiS5BXgNsHftN0pyd5K5JHNnz57dWmJpE2bmF5l+9OmLtiydfvTpofl0IalJ/RR61hmrNbePANcmeQp4HzAPvHTJb6p6qKqmqmpq9+7dm80qbdovfeIk585f/ON67nzxS5842VIiaXD6mXI5DVy/6vZe4MzqA6rq68B7AZIE+FLvl9Sq//0n5zY1Lu1k/ZyhPwncmOSGJFcDdwGPrT4gyUTvPoC/DXyuV/KSpG1yxTP0qnopyb3ALDAGPFxVJ5Pc07v/QeB1wH9Mcp6Vi6U/M8DMUt8mxnextHzp2fjE+K4W0kiD1ddui1X1OPD4mrEHV339u8CNzUaTXrlfvP31TP/npzn3rW/Po+/6jvCLt7++xVTSYLh9rjptJ3xcnNQUC12d58fFaVS4l4skdYSFLkkdYaFLUkeM/By6+3xI6oqRLvSZ+UUOHzvB8rnzwMo+H4ePnQCw1CXtOCM95XJ0duHlMr9g+dx5js4utJRIkrZupAv9zNLypsYlaZiNdKHvmRjf1LgkDbORLvTpg/sZ3zV20dj4rjGmD+5vKZEkbd1IXxT1beGSumSkCx18W7ik7hjpKRdJ6hILXZI6wkKXpI6w0CWpIyx0SeoIC12SOsJCl6SOsNAlqSMsdEnqCAtdkjrCQpekjrDQJakjLHRJ6ggLXZI6wkKXpI4Y+f3QmzYzv+gHZkhqhYXeoJn5RQ4fO8HyufMALC4tc/jYCQBLXdLAOeXSoKOzCy+X+QXL585zdHahpUSSRomF3qDFpeVNjUtSk/oq9CS3JVlIcirJfevc/71JPpHk6SQnk7y3+ajDbyzZ1LgkNemKhZ5kDHgAeCdwE/DuJDetOexngWer6k3AW4F/meTqhrMOvfNVmxqXpCb1c1H0FuBUVT0PkOQR4A7g2VXHFPDdSQJ8F/A14KWGsw5Ek6tSJifG151emZwYf6UxJemK+plymQReXHX7dG9stQ8ArwPOACeA91fVt9Z+oyR3J5lLMnf27NktRm7OhVUpi0vLFN9elTIzv7il7zd9cD/ju8YuGhvfNcb0wf0NpJWky+un0NebAF47h3AQeArYA7wZ+ECS77nkN1U9VFVTVTW1e/fuTUZtXtOrUg4dmOT+O29mcmKcsHJmfv+dN7tkUdK26GfK5TRw/arbe1k5E1/tvcCRqirgVJIvAT8IfL6RlANyZoPVJxuN9+PQgUkLXFIr+jlDfxK4MckNvQuddwGPrTnmBeDtAEleDewHnm8y6CDs2WBue6NxSRpmVyz0qnoJuBeYBZ4DPlpVJ5Pck+Se3mH/FPjRJCeAzwA/V1VfHVTopuyEOe+Z+UVuPfIEN9z3m9x65Iktz+9L6r6+3vpfVY8Dj68Ze3DV12eAv9xstMG7MDUyrHuvDGorgVHbb2bU/rwaXamW1khPTU3V3NxcK489SE2Wx61HnthwGeTv3Pe2Ledb/SQBK69KunrxdlB/Xp8k1JYkx6tqar37fOt/g5peBjmIi7ajtt/MIP68Tf89S02x0BvUdHkM4qLtIJ4khplPiholFnqDmi6PQVy0HbWVPT4papRY6A1qujwOHZjkJ94y+fLmXmMJP/GWV7bOfSes7GmST4oaJRZ6g5ouj5n5RT52fPHlzb3OV/Gx44uvaK521N7NOog/76g9KWrncJVLw4Z9lYua4SoXteVyq1z8CLqGNfnWf+dqh5dbPGgYjXyhD/OZ1p4NtuN1rlbSekZ6Dn3Y1xM7VytpM0a60Id9PfGoXcCU9MqM9JTLTpijdq5WUr9G+gzd9cSSumSkC905akldMtJTLoPYPneYV81I6raRLnRodo56UPuXS1I/Rr7Qm3S5VTPDVOi+ipC6yUJv0E5YNeOrCKm7RvqiaNN2wqqZYV97L2nrLPQG7YRVMzvhVYSkrbHQGzSI/cubthNeRUjaGgu9QYPYv7xpO+FVhKStsdAbtBPmp90fRuouV7k0aKfMT7s/jNRNnqE3yPlpSW2y0Bvk/LSkNjnl0qBB7A0jSf2y0Bvm/LSktjjlIkkdYaFLUkdY6JLUERa6JHVEX4We5LYkC0lOJblvnfunkzzV+/VMkvNJvq/5uJKkjVyx0JOMAQ8A7wRuAt6d5KbVx1TV0ap6c1W9GTgMfLaqvjaAvJKkDfRzhn4LcKqqnq+qbwKPAHdc5vh3Ax9pIpwkqX/9FPok8OKq26d7Y5dIcg1wG/CxDe6/O8lckrmzZ89uNqsk6TL6KfSsM1YbHPtXgd/ZaLqlqh6qqqmqmtq9e3e/GSVJfein0E8D16+6vRc4s8Gxd+F0iyS1op9CfxK4MckNSa5mpbQfW3tQku8F/gLw8WYjSpL6ccW9XKrqpST3ArPAGPBwVZ1Mck/v/gd7h/414FNV9Y2BpZUkbShVG02HD9bU1FTNzc218tiStFMlOV5VU+vd5ztFJakjLHRJ6ggLXZI6wkKXpI6w0CWpIyx0SeqIkf9M0Zn5RT/UWVInjHShz8wvcvjYCZbPnQdgcWmZw8dOAFjqknackZ5yOTq78HKZX7B87jxHZxdaSiRJWzfShX5maXlT45I0zEa60PdMjG9qXJKG2UgX+vTB/YzvGrtobHzXGNMH97eUSJK2bqQvil648OkqF0ldMNKFDiulboFL6oKRnnKRpC6x0CWpIyx0SeoIC12SOsJCl6SOsNAlqSMsdEnqCAtdkjrCQpekjrDQJakjLHRJ6ggLXZI6wkKXpI6w0CWpIyx0SeoIC12SOsJCl6SOsNAlqSP6KvQktyVZSHIqyX0bHPPWJE8lOZnks83GXDEzv8itR57ghvt+k1uPPMHM/OIgHkaSdqQrfqZokjHgAeAdwGngySSPVdWzq46ZAP4dcFtVvZDkVU0HnZlf5PCxEyyfOw/A4tIyh4+dAPAzQSWJ/s7QbwFOVdXzVfVN4BHgjjXH/BRwrKpeAKiqrzQbE47OLrxc5hcsnzvP0dmFph9Kknakfgp9Enhx1e3TvbHVXgtcm+S/JDme5KfX+0ZJ7k4yl2Tu7Nmzmwp6Zml5U+OSNGr6KfSsM1Zrbl8FvAX4ceAg8E+SvPaS31T1UFVNVdXU7t27NxV0z8T4psYladT0U+ingetX3d4LnFnnmE9W1Teq6qvA54A3NRNxxfTB/YzvGrtobHzXGNMH9zf5MJK0Y/VT6E8CNya5IcnVwF3AY2uO+TjwY0muSnIN8OeA55oMeujAJPffeTOTE+MEmJwY5/47b/aCqCT1XHGVS1W9lOReYBYYAx6uqpNJ7und/2BVPZfkk8AXgW8BH6yqZ5oOe+jApAUuSRtI1drp8O0xNTVVc3NzrTy2JO1USY5X1dR69/lOUUnqCAtdkjrCQpekjrjiRVFpu83ML3J0doEzS8vsmRhn+uB+L4ZLfbDQNVTcs0faOqdcNFTcs0faOgtdQ8U9e6Sts9A1VNyzR9o6C11DxT17pK3zoqiGyoULn65ykTbPQtfQcc8eaWuccpGkjrDQJakjLHRJ6ggLXZI6wkKXpI6w0CWpIyx0SeoIC12SOsJCl6SOsNAlqSMsdEnqCAtdkjrCQpekjrDQJakjLHRJ6ggLXZI6wkKXpI6w0CWpIyx0SeoIC12SOsJCl6SO6KvQk9yWZCHJqST3rXP/W5P8cZKner9+ofmokqTLuepKByQZAx4A3gGcBp5M8lhVPbvm0P9aVe8aQEZJUh+uWOjALcCpqnoeIMkjwB3A2kKXRsbM/CJHZxc4s7TMnolxpg/u59CBybZjacT1M+UyCby46vbp3thaP5Lk6SS/leT1632jJHcnmUsyd/bs2S3Eldo3M7/I4WMnWFxapoDFpWUOHzvBzPxi29E04vop9KwzVmtufwF4TVW9Cfi3wMx636iqHqqqqaqa2r1796aCSsPi6OwCy+fOXzS2fO48R2cXWkokrein0E8D16+6vRc4s/qAqvp6Vf3f3tePA7uSXNdYSmmInFla3tS4tF36KfQngRuT3JDkauAu4LHVByT5/iTpfX1L7/v+r6bDSsNgz8T4psal7XLFQq+ql4B7gVngOeCjVXUyyT1J7ukd9pPAM0meBn4FuKuq1k7LSJ0wfXA/47vGLhob3zXG9MH9LSWSVqSt3p2amqq5ublWHlt6pVzlorYkOV5VU+vd18+yRUlrHDowaYFr6PjWf0nqCAtdkjrCQpekjrDQJakjLHRJ6ggLXZI6wkKXpI5wHXrDfMOJpLZY6A26sK3qhZ34LmyrCljqkgbOKZcGua2qpDZZ6A1yW1VJbbLQG+S2qpLaZKE3yG1VJbXJi6INunDh01UuktpgoTfMbVUltcUpF0nqCAtdkjrCQpekjrDQJakjLHRJ6ohUVTsPnJwF/rCVB1/fdcBX2w5xGcOeD4Y/47DnAzM2YdjzwSvL+Jqq2r3eHa0V+rBJMldVU23n2Miw54Phzzjs+cCMTRj2fDC4jE65SFJHWOiS1BEW+rc91HaAKxj2fDD8GYc9H5ixCcOeDwaU0Tl0SeoIz9AlqSMsdEnqiJEu9CTXJ/ntJM8lOZnk/W1n2kiSsSTzSX6j7SxrJZlI8miS3+/9v/yRtjOtleTv9/6On0nykSR/aggyPZzkK0meWTX2fUk+neQPev+9dsjyHe39PX8xya8nmWgrXy/PJRlX3fcPk1SS69rItirHuhmTvC/JQu/n8p838VgjXejAS8A/qKrXAT8M/GySm1rOtJH3A8+1HWIDvwx8sqp+EHgTQ5YzySTwd4GpqnoDMAbc1W4qAD4E3LZm7D7gM1V1I/CZ3u22fIhL830aeENVvRH478Dh7Q61xoe4NCNJrgfeAbyw3YHW8SHWZEzyF4E7gDdW1euBf9HEA410oVfVl6vqC72v/w8rRTR0m5kn2Qv8OPDBtrOsleR7gD8P/CpAVX2zqpZaDbW+q4DxJFcB1wBnWs5DVX0O+Nqa4TuAX+t9/WvAoe3MtNp6+arqU1X1Uu/mfwP2bnuwi/Os9/8Q4F8D/whofdXHBhn/DnCkqv5f75ivNPFYI13oqyXZBxwAfq/lKOv5N6z8cH6r5Rzr+QHgLPAfelNCH0zynW2HWq2qFlk5A3oB+DLwx1X1qXZTbejVVfVlWDnhAF7Vcp7L+VvAb7UdYq0ktwOLVfV021ku47XAjyX5vSSfTfJnm/imFjqQ5LuAjwF/r6q+3nae1ZK8C/hKVR1vO8sGrgJ+CPj3VXUA+AbtThNcojcPfQdwA7AH+M4kf6PdVDtbkp9nZcryw21nWS3JNcDPA7/QdpYruAq4lpWp3mngo0nySr/pyBd6kl2slPmHq+pY23nWcStwe5L/ATwCvC3Jf2o30kVOA6er6sIrm0dZKfhh8peAL1XV2ao6BxwDfrTlTBv5oyR/GqD330ZeijcpyXuAdwF/vYbvjSx/hpUn7qd7/2b2Al9I8v2tprrUaeBYrfg8K6++X/HF25Eu9N4z4q8Cz1XVv2o7z3qq6nBV7a2qfaxcyHuiqobm7LKq/ifwYpL9vaG3A8+2GGk9LwA/nOSa3t/52xmyC7erPAa8p/f1e4CPt5jlEkluA34OuL2q/qTtPGtV1YmqelVV7ev9mzkN/FDv53SYzABvA0jyWuBqGtghcqQLnZWz37/JylnvU71ff6XtUDvQ+4APJ/ki8Gbgn7Ub52K9Vw+PAl8ATrDyc9/628OTfAT4XWB/ktNJfgY4ArwjyR+wskrjyJDl+wDw3cCne/9eHmwr32UyDpUNMj4M/EBvKeMjwHuaeLXjW/8lqSNG/QxdkjrDQpekjrDQJakjLHRJ6ggLXZI6wkKXpI6w0CWpI/4/q1mc3sqM7d0AAAAASUVORK5CYII=\n",
      "text/plain": [
       "<Figure size 432x288 with 1 Axes>"
      ]
     },
     "metadata": {
      "needs_background": "light"
     },
     "output_type": "display_data"
>>>>>>> Stashed changes
    }
   ],
   "source": [
    "# creating the permutation method\n",
    "def permute(input_array):\n",
    "    # shuffle is inplace, so copy to preserve input\n",
    "    permuted = input_array.copy().values #convert to numpy array, avoiding warning\n",
    "    np.random.shuffle(permuted)\n",
    "    return pd.Series(permuted) # convert back to pandas\n",
    "\n",
    "count = 0\n",
    "\n",
    "for i in range(500):\n",
    "    permuted_model = LinearRegression().fit(analysis_one[{\"agriculture\", \"energy\", \"waste\", \"industrial\", \"bunker fuels\"}], permute(analysis_one[\"hdi\"]))\n",
    "    if(np.abs(permuted_model.coef_[0]) > np.abs(regression1.coef_[0])):\n",
    "        count += 1\n",
    "                                            \n",
    "print(\"{} permuted slopes were of greater magnitude than the observed data.\".format(count))\n",
    "                                            \n",
    "print(\"p-value implied: {:.5f}\".format(count / 500))"
   ]
  },
  {
   "cell_type": "markdown",
   "metadata": {},
   "source": [
    "that is... exactly what we thought? unfortunately, the implied value is much greater than most p-value cutoffs traditionally used (p = 0.1, p = 0.05, or p = 0.01); as a result, this data doesn't seem to be much better than could be done by random chance :("
   ]
  },
  {
   "cell_type": "markdown",
   "metadata": {},
   "source": [
    "#### interpretation and conclusions\n",
    "\n",
    "reflecting now (after completing the data analysis, and the evaluation of significance), it seems as if much of the prior data analysis isn't that significant. while we've found some (slightly) interesting trends, such as how ghg emissions are (somewhat) negatively correlated with hdi, we haven't found much else; the multivariate linear regression also did not return a statistically-significant slope. in this sense, i don't think that our results lined up with our initial expectations, that there would be a high correlation between hdi and certain industries' emissions; perhaps this is a quirk of our own analysis? it seems likely that climatewatch.org would be incentivized to publish such data if they proved significant connection between emissions and a countries \"developedness\": perhaps this sort of \"mangling\" of the data is how climate-change-related misinformation (and false statistics) spreads? \n",
    "\n",
    "\n",
    "#### limitations\n",
    "\n",
    "there are certainly many limitations to this data: at the very least, part of the scope of this analysis seems limited, since it's about *greenhouse gas emissions by industry* and not pointing directly at fashion itself. but, looking into the data itself, it seems like there could be limitations just based on scale (in megatons, or with population in thousands); given that some countries inevitably get rounded down (to ~ 0 emissions), it seems harder to create significant analyses. this is unsatisfying; however, we are unsure how this might otherwise be solved (since all data will come with this issue as well).\n",
    "\n",
    "#### acknowledgements\n",
    "\n",
    "we'd like to thank our ta, anna, for her constant support for this project, and for many early-rising tas showing up in rhodes to answer the questions we had! :)"
   ]
  },
  {
   "cell_type": "markdown",
   "metadata": {},
   "source": [
    "## analysis two"
   ]
  },
  {
   "cell_type": "code",
<<<<<<< Updated upstream
   "execution_count": null,
   "metadata": {},
   "outputs": [],
=======
   "execution_count": 23,
   "metadata": {},
   "outputs": [
    {
     "data": {
      "text/html": [
       "<div>\n",
       "<style scoped>\n",
       "    .dataframe tbody tr th:only-of-type {\n",
       "        vertical-align: middle;\n",
       "    }\n",
       "\n",
       "    .dataframe tbody tr th {\n",
       "        vertical-align: top;\n",
       "    }\n",
       "\n",
       "    .dataframe thead th {\n",
       "        text-align: right;\n",
       "    }\n",
       "</style>\n",
       "<table border=\"1\" class=\"dataframe\">\n",
       "  <thead>\n",
       "    <tr style=\"text-align: right;\">\n",
       "      <th></th>\n",
       "      <th>hdi</th>\n",
       "      <th>country</th>\n",
       "      <th>Cotton</th>\n",
       "      <th>Clothing</th>\n",
       "      <th>Garments</th>\n",
       "      <th>Textiles</th>\n",
       "    </tr>\n",
       "  </thead>\n",
       "  <tbody>\n",
       "    <tr>\n",
       "      <th>0</th>\n",
       "      <td>0.511</td>\n",
       "      <td>Afghanistan</td>\n",
       "      <td>NaN</td>\n",
       "      <td>NaN</td>\n",
       "      <td>NaN</td>\n",
       "      <td>2.0</td>\n",
       "    </tr>\n",
       "    <tr>\n",
       "      <th>1</th>\n",
       "      <td>0.795</td>\n",
       "      <td>Albania</td>\n",
       "      <td>NaN</td>\n",
       "      <td>2.0</td>\n",
       "      <td>NaN</td>\n",
       "      <td>NaN</td>\n",
       "    </tr>\n",
       "    <tr>\n",
       "      <th>2</th>\n",
       "      <td>0.748</td>\n",
       "      <td>Algeria</td>\n",
       "      <td>NaN</td>\n",
       "      <td>NaN</td>\n",
       "      <td>NaN</td>\n",
       "      <td>NaN</td>\n",
       "    </tr>\n",
       "    <tr>\n",
       "      <th>3</th>\n",
       "      <td>0.868</td>\n",
       "      <td>Andorra</td>\n",
       "      <td>NaN</td>\n",
       "      <td>NaN</td>\n",
       "      <td>NaN</td>\n",
       "      <td>NaN</td>\n",
       "    </tr>\n",
       "    <tr>\n",
       "      <th>4</th>\n",
       "      <td>0.581</td>\n",
       "      <td>Angola</td>\n",
       "      <td>NaN</td>\n",
       "      <td>NaN</td>\n",
       "      <td>NaN</td>\n",
       "      <td>5.0</td>\n",
       "    </tr>\n",
       "    <tr>\n",
       "      <th>...</th>\n",
       "      <td>...</td>\n",
       "      <td>...</td>\n",
       "      <td>...</td>\n",
       "      <td>...</td>\n",
       "      <td>...</td>\n",
       "      <td>...</td>\n",
       "    </tr>\n",
       "    <tr>\n",
       "      <th>202</th>\n",
       "      <td>0.538</td>\n",
       "      <td>Least Developed Countries</td>\n",
       "      <td>NaN</td>\n",
       "      <td>NaN</td>\n",
       "      <td>NaN</td>\n",
       "      <td>NaN</td>\n",
       "    </tr>\n",
       "    <tr>\n",
       "      <th>203</th>\n",
       "      <td>0.728</td>\n",
       "      <td>Small Island Developing States</td>\n",
       "      <td>NaN</td>\n",
       "      <td>NaN</td>\n",
       "      <td>NaN</td>\n",
       "      <td>NaN</td>\n",
       "    </tr>\n",
       "    <tr>\n",
       "      <th>204</th>\n",
       "      <td>0.900</td>\n",
       "      <td>Organization for Economic Co-operation and Dev...</td>\n",
       "      <td>NaN</td>\n",
       "      <td>NaN</td>\n",
       "      <td>NaN</td>\n",
       "      <td>NaN</td>\n",
       "    </tr>\n",
       "    <tr>\n",
       "      <th>205</th>\n",
       "      <td>0.737</td>\n",
       "      <td>World</td>\n",
       "      <td>NaN</td>\n",
       "      <td>NaN</td>\n",
       "      <td>NaN</td>\n",
       "      <td>NaN</td>\n",
       "    </tr>\n",
       "    <tr>\n",
       "      <th>206</th>\n",
       "      <td>NaN</td>\n",
       "      <td>NaN</td>\n",
       "      <td>NaN</td>\n",
       "      <td>NaN</td>\n",
       "      <td>NaN</td>\n",
       "      <td>NaN</td>\n",
       "    </tr>\n",
       "  </tbody>\n",
       "</table>\n",
       "<p>205 rows × 6 columns</p>\n",
       "</div>"
      ],
      "text/plain": [
       "       hdi                                            country  Cotton  \\\n",
       "0    0.511                                        Afghanistan     NaN   \n",
       "1    0.795                                            Albania     NaN   \n",
       "2    0.748                                            Algeria     NaN   \n",
       "3    0.868                                            Andorra     NaN   \n",
       "4    0.581                                             Angola     NaN   \n",
       "..     ...                                                ...     ...   \n",
       "202  0.538                          Least Developed Countries     NaN   \n",
       "203  0.728                     Small Island Developing States     NaN   \n",
       "204  0.900  Organization for Economic Co-operation and Dev...     NaN   \n",
       "205  0.737                                              World     NaN   \n",
       "206    NaN                                                NaN     NaN   \n",
       "\n",
       "     Clothing  Garments  Textiles  \n",
       "0         NaN       NaN       2.0  \n",
       "1         2.0       NaN       NaN  \n",
       "2         NaN       NaN       NaN  \n",
       "3         NaN       NaN       NaN  \n",
       "4         NaN       NaN       5.0  \n",
       "..        ...       ...       ...  \n",
       "202       NaN       NaN       NaN  \n",
       "203       NaN       NaN       NaN  \n",
       "204       NaN       NaN       NaN  \n",
       "205       NaN       NaN       NaN  \n",
       "206       NaN       NaN       NaN  \n",
       "\n",
       "[205 rows x 6 columns]"
      ]
     },
     "execution_count": 23,
     "metadata": {},
     "output_type": "execute_result"
    }
   ],
>>>>>>> Stashed changes
   "source": [
    "industry_data=pd.read_csv('CIA_industry_data.csv')\n",
    "industry_data=industry_data.rename(columns={'Country/Region': 'country'})\n",
    "industry_data=industry_data.drop(columns='Jute')\n",
    "industry_data.dtypes"
   ]
  },
  {
   "cell_type": "code",
   "execution_count": null,
   "metadata": {},
   "outputs": [],
   "source": [
    "industry_data.head()"
   ]
  },
  {
   "cell_type": "code",
<<<<<<< Updated upstream
   "execution_count": null,
   "metadata": {},
   "outputs": [],
   "source": [
    "analysis_two=hdi.merge(industry_data, how='left', on='country')\n",
    "# analysis_two = analysis_two.drop(['country'], axis = 1)"
   ]
  },
  {
   "cell_type": "code",
   "execution_count": null,
   "metadata": {},
   "outputs": [],
   "source": [
    "analysis_two[analysis_two.hdi.str.find('..')==0]"
   ]
  },
  {
   "cell_type": "code",
   "execution_count": null,
   "metadata": {},
   "outputs": [],
   "source": [
    "analysis_two=analysis_two.drop([189,195])\n",
    "analysis_two.hdi=analysis_two.hdi.astype(float)"
   ]
  },
  {
   "cell_type": "code",
   "execution_count": null,
   "metadata": {},
   "outputs": [],
   "source": [
    "sns.heatmap(analysis_two.corr(), cmap='coolwarm')\n",
    "plt.tight_layout()\n",
    "plt.show()"
   ]
  },
  {
   "cell_type": "code",
   "execution_count": null,
   "metadata": {},
   "outputs": [],
   "source": [
    "analysis_two.corr(method='pearson')"
   ]
  },
  {
   "cell_type": "code",
   "execution_count": null,
   "metadata": {},
   "outputs": [],
   "source": [
    "analysis_two.hdi.dtype"
   ]
  },
  {
   "cell_type": "code",
   "execution_count": null,
   "metadata": {},
   "outputs": [],
   "source": [
    "plt.scatter(analysis_two.Textiles, analysis_two.hdi)"
   ]
  },
  {
   "cell_type": "code",
   "execution_count": null,
   "metadata": {},
   "outputs": [],
   "source": [
    "plt.scatter(analysis_two.Cotton, analysis_two.hdi)"
   ]
  },
  {
   "cell_type": "code",
   "execution_count": null,
   "metadata": {},
   "outputs": [],
   "source": [
    "plt.scatter(analysis_two.Garments, analysis_two.hdi)"
   ]
  },
  {
   "cell_type": "code",
   "execution_count": null,
   "metadata": {},
   "outputs": [],
   "source": [
    "plt.scatter(analysis_two.Clothing, analysis_two.hdi)"
   ]
  },
  {
   "cell_type": "markdown",
   "metadata": {},
   "source": [
    "Here I'm merging the analysis_one dataframe that contains GHG emissions per sector ('countries','agriculture','energy','waste','industrial','bunker fuels') with the analysis_two df that contains the list of countries and their corresponding hdi and indexes regarding cotton, clothing, garments, and textiles."
   ]
  },
  {
   "cell_type": "code",
   "execution_count": null,
   "metadata": {},
   "outputs": [],
   "source": [
    "analysis_two"
   ]
  },
  {
   "cell_type": "markdown",
   "metadata": {},
   "source": [
    "In this cell, we are merging our analysis_two dataframe with the GHG emission dataframe and loading the merged data into a new dataframe labeled \"analysis_two_all\""
   ]
  },
  {
   "cell_type": "code",
   "execution_count": null,
   "metadata": {},
   "outputs": [],
=======
   "execution_count": 24,
   "metadata": {},
   "outputs": [
    {
     "data": {
      "text/html": [
       "<div>\n",
       "<style scoped>\n",
       "    .dataframe tbody tr th:only-of-type {\n",
       "        vertical-align: middle;\n",
       "    }\n",
       "\n",
       "    .dataframe tbody tr th {\n",
       "        vertical-align: top;\n",
       "    }\n",
       "\n",
       "    .dataframe thead th {\n",
       "        text-align: right;\n",
       "    }\n",
       "</style>\n",
       "<table border=\"1\" class=\"dataframe\">\n",
       "  <thead>\n",
       "    <tr style=\"text-align: right;\">\n",
       "      <th></th>\n",
       "      <th>country</th>\n",
       "      <th>agriculture</th>\n",
       "      <th>energy</th>\n",
       "      <th>waste</th>\n",
       "      <th>industrial</th>\n",
       "      <th>bunker fuels</th>\n",
       "      <th>hdi</th>\n",
       "      <th>Cotton</th>\n",
       "      <th>Clothing</th>\n",
       "      <th>Garments</th>\n",
       "      <th>Textiles</th>\n",
       "    </tr>\n",
       "  </thead>\n",
       "  <tbody>\n",
       "    <tr>\n",
       "      <th>0</th>\n",
       "      <td>Afghanistan</td>\n",
       "      <td>67.42</td>\n",
       "      <td>-4.08</td>\n",
       "      <td>-0.8</td>\n",
       "      <td>0.54</td>\n",
       "      <td>-1.3</td>\n",
       "      <td>0.511</td>\n",
       "      <td>NaN</td>\n",
       "      <td>NaN</td>\n",
       "      <td>NaN</td>\n",
       "      <td>2.0</td>\n",
       "    </tr>\n",
       "    <tr>\n",
       "      <th>1</th>\n",
       "      <td>Albania</td>\n",
       "      <td>2.17</td>\n",
       "      <td>0.68</td>\n",
       "      <td>0.95</td>\n",
       "      <td>0.05</td>\n",
       "      <td>-0.03</td>\n",
       "      <td>0.795</td>\n",
       "      <td>NaN</td>\n",
       "      <td>2.0</td>\n",
       "      <td>NaN</td>\n",
       "      <td>NaN</td>\n",
       "    </tr>\n",
       "    <tr>\n",
       "      <th>2</th>\n",
       "      <td>Algeria</td>\n",
       "      <td>58.44</td>\n",
       "      <td>-17.34</td>\n",
       "      <td>-0.39</td>\n",
       "      <td>5.61</td>\n",
       "      <td>0.56</td>\n",
       "      <td>0.748</td>\n",
       "      <td>NaN</td>\n",
       "      <td>NaN</td>\n",
       "      <td>NaN</td>\n",
       "      <td>NaN</td>\n",
       "    </tr>\n",
       "    <tr>\n",
       "      <th>3</th>\n",
       "      <td>Andorra</td>\n",
       "      <td>-0.05</td>\n",
       "      <td>0.15</td>\n",
       "      <td>0.08</td>\n",
       "      <td>0</td>\n",
       "      <td>0</td>\n",
       "      <td>0.868</td>\n",
       "      <td>NaN</td>\n",
       "      <td>NaN</td>\n",
       "      <td>NaN</td>\n",
       "      <td>NaN</td>\n",
       "    </tr>\n",
       "    <tr>\n",
       "      <th>4</th>\n",
       "      <td>Angola</td>\n",
       "      <td>1.2</td>\n",
       "      <td>64.3</td>\n",
       "      <td>-2.18</td>\n",
       "      <td>1.13</td>\n",
       "      <td>1.59</td>\n",
       "      <td>0.581</td>\n",
       "      <td>NaN</td>\n",
       "      <td>NaN</td>\n",
       "      <td>NaN</td>\n",
       "      <td>5.0</td>\n",
       "    </tr>\n",
       "    <tr>\n",
       "      <th>...</th>\n",
       "      <td>...</td>\n",
       "      <td>...</td>\n",
       "      <td>...</td>\n",
       "      <td>...</td>\n",
       "      <td>...</td>\n",
       "      <td>...</td>\n",
       "      <td>...</td>\n",
       "      <td>...</td>\n",
       "      <td>...</td>\n",
       "      <td>...</td>\n",
       "      <td>...</td>\n",
       "    </tr>\n",
       "    <tr>\n",
       "      <th>190</th>\n",
       "      <td>Venezuela</td>\n",
       "      <td>-67.4</td>\n",
       "      <td>44.14</td>\n",
       "      <td>0.62</td>\n",
       "      <td>6.66</td>\n",
       "      <td>1.41</td>\n",
       "      <td>NaN</td>\n",
       "      <td>NaN</td>\n",
       "      <td>NaN</td>\n",
       "      <td>NaN</td>\n",
       "      <td>NaN</td>\n",
       "    </tr>\n",
       "    <tr>\n",
       "      <th>191</th>\n",
       "      <td>Vietnam</td>\n",
       "      <td>126.44</td>\n",
       "      <td>126.77</td>\n",
       "      <td>1.21</td>\n",
       "      <td>3.64</td>\n",
       "      <td>-0.78</td>\n",
       "      <td>NaN</td>\n",
       "      <td>NaN</td>\n",
       "      <td>NaN</td>\n",
       "      <td>NaN</td>\n",
       "      <td>NaN</td>\n",
       "    </tr>\n",
       "    <tr>\n",
       "      <th>192</th>\n",
       "      <td>Yemen</td>\n",
       "      <td>-11.3</td>\n",
       "      <td>4.3</td>\n",
       "      <td>0.34</td>\n",
       "      <td>0.22</td>\n",
       "      <td>-0.03</td>\n",
       "      <td>0.470</td>\n",
       "      <td>2.0</td>\n",
       "      <td>NaN</td>\n",
       "      <td>NaN</td>\n",
       "      <td>2.0</td>\n",
       "    </tr>\n",
       "    <tr>\n",
       "      <th>193</th>\n",
       "      <td>Zambia</td>\n",
       "      <td>27.67</td>\n",
       "      <td>-5.72</td>\n",
       "      <td>0.52</td>\n",
       "      <td>0.89</td>\n",
       "      <td>0.63</td>\n",
       "      <td>0.584</td>\n",
       "      <td>NaN</td>\n",
       "      <td>NaN</td>\n",
       "      <td>NaN</td>\n",
       "      <td>7.0</td>\n",
       "    </tr>\n",
       "    <tr>\n",
       "      <th>194</th>\n",
       "      <td>Zimbabwe</td>\n",
       "      <td>83.42</td>\n",
       "      <td>4.39</td>\n",
       "      <td>0.78</td>\n",
       "      <td>2.39</td>\n",
       "      <td>1.06</td>\n",
       "      <td>0.571</td>\n",
       "      <td>NaN</td>\n",
       "      <td>7.0</td>\n",
       "      <td>NaN</td>\n",
       "      <td>NaN</td>\n",
       "    </tr>\n",
       "  </tbody>\n",
       "</table>\n",
       "<p>195 rows × 11 columns</p>\n",
       "</div>"
      ],
      "text/plain": [
       "         country agriculture  energy waste industrial bunker fuels    hdi  \\\n",
       "0    Afghanistan       67.42   -4.08  -0.8       0.54         -1.3  0.511   \n",
       "1        Albania        2.17    0.68  0.95       0.05        -0.03  0.795   \n",
       "2        Algeria       58.44  -17.34 -0.39       5.61         0.56  0.748   \n",
       "3        Andorra       -0.05    0.15  0.08          0            0  0.868   \n",
       "4         Angola         1.2    64.3 -2.18       1.13         1.59  0.581   \n",
       "..           ...         ...     ...   ...        ...          ...    ...   \n",
       "190    Venezuela       -67.4   44.14  0.62       6.66         1.41    NaN   \n",
       "191      Vietnam      126.44  126.77  1.21       3.64        -0.78    NaN   \n",
       "192        Yemen       -11.3     4.3  0.34       0.22        -0.03  0.470   \n",
       "193       Zambia       27.67   -5.72  0.52       0.89         0.63  0.584   \n",
       "194     Zimbabwe       83.42    4.39  0.78       2.39         1.06  0.571   \n",
       "\n",
       "     Cotton  Clothing  Garments  Textiles  \n",
       "0       NaN       NaN       NaN       2.0  \n",
       "1       NaN       2.0       NaN       NaN  \n",
       "2       NaN       NaN       NaN       NaN  \n",
       "3       NaN       NaN       NaN       NaN  \n",
       "4       NaN       NaN       NaN       5.0  \n",
       "..      ...       ...       ...       ...  \n",
       "190     NaN       NaN       NaN       NaN  \n",
       "191     NaN       NaN       NaN       NaN  \n",
       "192     2.0       NaN       NaN       2.0  \n",
       "193     NaN       NaN       NaN       7.0  \n",
       "194     NaN       7.0       NaN       NaN  \n",
       "\n",
       "[195 rows x 11 columns]"
      ]
     },
     "execution_count": 24,
     "metadata": {},
     "output_type": "execute_result"
    }
   ],
>>>>>>> Stashed changes
   "source": [
    "analysis_two_all = df_ghgchange.merge(analysis_two, how='left', on='country')\n",
    "analysis_two_all"
   ]
  },
  {
   "cell_type": "markdown",
   "metadata": {},
   "source": [
    "### Task List\n",
    "- 1) Create a scatterplot for each sector compared against the GHG emissions. - Completed.\n",
    "- 2) Cluster the data.\n",
    "- 3) Make histogram of each cluster of HDI (assuming the clusters relate to HDI.\n",
    "- 4) determine if there is a correlation between each cluster and a country's stage of developement."
   ]
  },
  {
   "cell_type": "markdown",
   "metadata": {},
   "source": [
    "These are scatterplots representing the different emission sectors in comparison to the Textile production index of each country (all data is taken from the analysis_two_all dataframe)"
   ]
  },
  {
   "cell_type": "code",
<<<<<<< Updated upstream
<<<<<<< Updated upstream
   "execution_count": null,
=======
   "execution_count": 25,
>>>>>>> Stashed changes
=======
   "execution_count": 61,
>>>>>>> Stashed changes
   "metadata": {},
   "outputs": [
    {
     "data": {
      "image/png": "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\n",
      "text/plain": [
       "<Figure size 432x288 with 1 Axes>"
      ]
     },
     "metadata": {
      "needs_background": "light"
     },
     "output_type": "display_data"
    },
    {
     "data": {
      "image/png": "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\n",
      "text/plain": [
       "<Figure size 432x288 with 1 Axes>"
      ]
     },
     "metadata": {
      "needs_background": "light"
     },
     "output_type": "display_data"
    },
    {
     "data": {
      "image/png": "iVBORw0KGgoAAAANSUhEUgAAAYEAAAEGCAYAAACD7ClEAAAAOXRFWHRTb2Z0d2FyZQBNYXRwbG90bGliIHZlcnNpb24zLjMuMiwgaHR0cHM6Ly9tYXRwbG90bGliLm9yZy8vihELAAAACXBIWXMAAAsTAAALEwEAmpwYAAAgOklEQVR4nO3df3xddZ3n8dc7TdvQtCm0TX9QhFCmK9pSKpNRQZzBVseOdgFdqTI6sKKi+3AEB2cVxC3acR/jDk4d2HWcwV+IujqMKD8dFGFYGAU0hVJaUapQsPRXKNKUlDRt72f/OCfpTXKT3N7k/kjO+/l45JHcc8693w8n9H5yz/me91FEYGZm2VRX7QLMzKx63ATMzDLMTcDMLMPcBMzMMsxNwMwsw+qrXUAxZs2aFS0tLdUuw8xsTFm3bt1zEdE81DZjogm0tLTQ1tZW7TLMzMYUSU8Pt40PB5mZZZibgJlZhrkJmJllmJuAmVmGuQmYmWXYmJgdZCOXywVbdneys6OLOU0NtMxspK5Oo7a9mY1NbgIZkMsFd27awWU3rqfrQI6GiXWsXbWUFYvmFnxjP9LtzWzs8uGgDNiyu7P3DR2g60COy25cz5bdnaOyvZmNXW4CGbCzo6v3Db1H14Ecu/Z2jcr2ZjZ2uQlkwJymBhom9v1VN0ysY/a0hlHZ3szGLjeBDGiZ2cjaVUt739h7jvG3zGwcle3NbOzSWLi9ZGtrazg7aGR6Zvvs2tvF7GnFzw4qdnszqz2S1kVE61DbeHZQRtTViQXNU1nQPLUs25vZ2OTDQWZmGeYmYGaWYW4CZmYZ5iZgZpZhbgJmZhnmJmBmlmFlawKSviZpl6SNBdb9taSQNKtc45uZ2fDK+UngemBF/4WSXga8CXimjGObmVkRytYEIuI+4PkCq74AfByo/UuVzczGuYqeE5B0NvBsRDxaxLYXS2qT1Nbe3l6B6szMsqdiTUDSFOBKYHUx20fEdRHRGhGtzc3N5S3OzCyjKvlJ4CTgROBRSVuA44CHJc2tYA1mZpanYgFyEfEYMLvncdoIWiPiuUrVYGZmfZVziuh3gAeAl0vaKul95RrLzMxKU7ZPAhFx/jDrW8o1tpmZFcdXDJuZZZibgJlZhrkJmJllmJuAmVmGuQmYmWWYbzRvJcvlgi27O9nZ0cWcpgZaZjZSV6dql2VmR8BNwEqSywV3btrBZTeup+tAjoaJdaxdtZQVi+a6EZiNIT4cZCXZsruztwEAdB3IcdmN69myu7PKlZnZkXATsJLs7OjqbQA9ug7k2LW3q0oVmVkp3ASsJHOaGmiY2Pd/n4aJdcye1lClisysFG4CVpKWmY2sXbW0txH0nBNomdlY5crM7Ej4xLCVpK5OrFg0l5MveT279nYxe5pnB5mNRW4CVrK6OrGgeSoLmqdWuxQzK5EPB5mZZZibgJlZhrkJmJllmJuAmVmGuQmYmWWYm4CZWYaV80bzX5O0S9LGvGVXS/qVpA2SfiDp6HKNb2ZmwyvnJ4HrgRX9lt0FLI6IJcATwBVlHN9KlMsFT7a/yAO/fY4n218kl4tql2RmZVK2i8Ui4j5JLf2W/Tjv4YPAO8o1vpXGEdFm2VLNcwIXAf9WxfGtAEdEm2VLVZqApCuBg8C3h9jmYkltktra29srV1zGOSLaLFsq3gQkXQisBN4dEYMebI6I6yKiNSJam5ubK1dgxjki2ixbKtoEJK0APgGcHRH7Kjm2FccR0WbZUrYTw5K+A5wFzJK0FbiKZDbQZOAuSQAPRsSHylWDHTlHRJtlSzlnB51fYPFXyzWejR5HRJtlh68YNjPLMDcBM7MMcxMwM8swNwEzswxzEzAzyzA3ATOzDCvbFFEbu3K5YMvuTnZ2dDGnydcJmI1nbgLWh1NEzbLFh4OsD6eImmWLm4D14RRRs2xxE7A+nCJqli1uAtaHU0TNssUnhq0Pp4iaZYubgA3gFFGz7PDhIDOzDHMTMDPLMDcBM7MMcxMwM8swNwEzswwbtglIml1g2cvLU46ZmVVSMZ8E7pe0queBpI8BPxjuSZK+JmmXpI15y2ZIukvS5vT7MaWVPfpyueDJ9hd54LfP8WT7i+RyUe2Sqqa7+xBtW57n9g3bWLflebq7D1W7JDMrk2KuEzgLuE7SecAc4HHg1UU873rg/wA35C27HLg7Ij4n6fL08SeOpOBycHLmYd3dh7h5wzZW37Kxd1+sOWcx5y45lkmTJlS7PDMbZcN+EoiI7cCdwOlAC3BDRLxYxPPuA57vt/gc4Bvpz98Azj2CWsvGyZmHbdi2p7cBQLIvVt+ykQ3b9lS5MjMrh2LOCdwFvAZYDLwF+IKkz5c43py0qfQ0lwHnG/LGvVhSm6S29vb2EocrjpMzD9sxyL7Y2ZG9fWGWBcWcE/hiRFwQES9ExEaSTwRl/7MwIq6LiNaIaG1ubi7rWE7OPGzeIPtiTlP29oVZFhRzOOhmSWdKem+66BjgWyWOt1PSPID0+64SX2dUOTnzsFOOnc6acxb32RdrzlnMkmOnV7kyMyuHYU8MS7oKaAVeDnwdmETSBF5Xwni3AhcCn0u/31LCa4w6J2ceNmnSBM5dciwLZjX23mN4ybHTfVLYbJwqZnbQ24BXAQ8DRMQ2SdOGe5Kk75DMLJolaStwFcmb/42S3gc8A5xXYt2jzsmZh02aNIHWlhnVLsPMKqCYJtAdESEpACQVdYwkIs4fZNXyYoszM7PyKubE8I2S/hk4WtIHgJ8AXy5vWWZmVgnDfhKIiM9LehPQQXJeYHVE3FX2yszMrOyKurNY+qbvN34zs3Fm0CYgaS8waIBORDSVpSIzM6uYQZtAREwDkLQG2AF8ExDwbmDY2UFmZlb7ijkc9OaIeE3e4y9Jegj4uzLVZDXi4MEcm7bvYWdHFzMbJ5MjmNk4ObPXUJiNR8U0gUOS3g18l+Tw0PmAs4XHuYMHc9z86LN86ubDaaKXLFvIv7Q9wydWvCKTCatm41ExU0T/HFgF7Ey/zkuX2Ti2afue3gYASYjctfdsZuWS+ZlNWDUbj4qZIrqFJALaMmT7nsJpotLhhFVfXW029hWTHdQMfIDkXgK920fEReUry6pt3vSjaJhY16cRNEysIyK7Catm41Exh4NuAaaTXCl8R96XjWOL5jXx2XP7polesmwht294NrMJq2bjUTEnhqdERNVvAWmVVV9fx7mnzmfh7Kns7NjPjMZJBMGKxXM9O8hsHCmmCdwu6S0R8cOyV2M1pb6+jlNfdky1yzCzMirmcNClJI3gJUkdkvZK6ih3YWZmVn7FzA7y1cFmZuPUUNlBpw31xIh4ePTLMTOzShrqk8DfD7EugGWjXIuZmVXYUAFyb6hkIWZmVnnFnBg2M7Nxqqibyow2SX8FvJ/ksNJjwHsjoqsatRjkcsGW3Z3s7OhiTlMDx05rYOOODnZ0dDGvqYFFc5vYtrerd33PhWL5z/G1A0eu/373PrRqqHgTkDQfuAR4ZUS8JOlG4F3A9ZWuxZI3ojs37eCyG9f3poWuOXsxX7x3M0/vfokTZh7Fh89ayOpbD6eJrl21lEn14i//7yN9ljlZtHiF9rv3oVXDsIeDJL1OUmP683skrZV0wgjHrQeOklQPTAG2jfD1rERbdnf2vhFBEg63+taNrFwyH4CVS+b3NoCe9ZfduJ4NW/cMWOZk0eIV2u/eh1YNxZwT+BKwT9KpwMeBp4EbSh0wIp4FPg88A2wH9kTEj/tvJ+liSW2S2trb20sdzoaxs2PwtFCgNzW0//pcvxuP9iSLWnEG2+/eh1ZpxTSBgxERJHHS10TENYzg9pKSjklf60TgWKBR0nv6bxcR10VEa0S0Njc3lzqcDWNOU0NvSFyPnrTQ/Mf91/c/YuFk0SMz2H73PrRKK6YJ7JV0BfAXwB2SJgATRzDmG4GnIqI9Ig4A3wfOGMHr2Qi0zGxk7aqlfdJC15y9mNs3PAvAbY8+y5qz+6aJrl21lCXHTR+wzMmixSu0370PrRoUEUNvIM0luZPYLyLifknHA2dFREmHhCS9Bvga8EfASyQnhNsi4n8P9pzW1tZoa2srZTgrQs8slV17u5g97fDsoJ5ZK4vT2UE96/NnB+Uv8wnNI9N/v3sf2miTtC4iWofcZrgmkL7QCcDCiPiJpCnAhIjYO4LCPgO8EzgIPAK8PyL2D7a9m4CZ2ZErpgkUc2exDwAXAzOAk4D5wD8By0stLCKuAq4q9flmZjY6ijkn8GHgdUAHQERsBmaXsygzM6uMYprA/ojo7nmQzu0f/hiSmZnVvGKawP+T9EmSi7veBPwrcFt5yzIzs0oopglcDrSTZPx8EPgh8KlyFmVmZpVRzJ3FcsCX0y8zMxtHhrqz2GMMcew/IpaUpaJR4oTGgYbaJ/nr5k6bzO9fOsBznd1Mb5jIvu6DHD+jkRNnlb4P/fswq01DfRJYWbEqRpkTGgcaap8AveuOmTKJC04/ge/+4hne2Xo8196zecT70L8Ps9o16DmBiHh6qK9KFnmknNA40FD7JH/d2087jmvu3szKJfN7G0D/7UdzbDOrrkGbgKT/SL/vldSR97VXUkflSjxyTmgcaKh9kr+uJzV0sPTQUvahfx9mtWuoewyfmX4vOTG0WnoSGvPfeLKe0DjcPslflx9qNhr70L8Ps9pVzE1lvlnMslrihMaBhton+etuWreVS5cv5LZHn+WSZQtHZR/692FWu4pJEX04Ik7Le1wPbIiIV5a7uB6lBMg5oXGgofZJn3VTJ/PCSwfY3dlN0yjPDvLvw6xyRpQimt5D4JPAUcC+nsVAN/DliLh8FGsdklNEzcyOXDFNYKjZQX+bng+4OiKa0q9pETGzkg3AzMzKp5jYiN/kP5A0QZJjoM3MxoFimsByST+UNE/SKcCDjOAew2ZmVjuKyQ76c0nvJAmQ2wecHxE/LXtlZmZWdsVMEV0IXArcBGwB/iK9xaSZmY1xxRwOug1YHREfBP4E2Az8oqxVmZlZRQx7OAh4dUT03FoygL+XdOtIBpV0NPAVYDFJUulFEfHASF5zPKpU8mb/cY6d1sDGHR3s6OhiXlMDpxw7nUmTJoz6uGZWfcU0gaMkfQGYHxErJL0SOJ3kE0GprgHujIh3SJoE+PBSP5VK3uw/TusJ01nVegKrb93YO+6acxZz7pJj3QjMxqFiDgddD/wImJc+fgL4aKkDSmoC/hj4KkBEdEfEC6W+3nhVqeTN/uNccMaC3gbQM+7qWzayYdueUR3XzGrDUCmiPZ8SZkXEjUAOICIOAodGMOYCkttVfl3SI5K+ImlAiIykiyW1SWprb28fwXBjU6WSN/uP89L+gwXH3dnhxE+z8WioTwI/T793SppJepcxSa8FRvJnYT1wGvCliHgV0ElyH+M+IuK6iGiNiNbm5uYRDDc29SRv5itH8mb/caZMri847pwmJ36ajUdDNYGeA8+XAbcCJ0n6KXAD8JERjLkV2BoRD6WPv0fSFCxPpZI3+4/zjZ89yZqzF/cZd805i1ly7PRRHdfMasNQAXJbgbXpwzpgMklj2A8cioi1BZ9YzKDS/cD7I+LXkj4NNEbEfx9s+6wGyFUqebP/OD2zg3pmCy3x7CCzMamYALmhZgdNAKZy+BNBj9GYyfMR4NvpzKAngfeOwmuOO3V1YkHzVBY0T634OK0tM8o6ppnVhqGawPaIWFOOQSNiPTBkdzIzs/Ir5pyAmZmNU0M1geUVq8LMzKpiqJvKPF/JQszMrPKKuWLYzMzGKTcBM7MMKyZAzsaR4ZJJc7lg6wud7Nizn50d+5nTNJnJE+ro3H+IuUf33b5SKadmWVSpf19uAhkyXDJpLhc8+FQ7v3u+i6tu3dS7zaXLF3LDA0/z+33dvdsDFUk5NcuiSqUIgw8HZcpwyaRbdndy8BC9DaBnm2vu3szbTzuuz/aVSjk1y6JK/vtyE8iQ4ZJJd3Z08XzngYLbSH23r1TKqVkWVfLflw8HZUhPYmj+/1z5yaRzmho4cChXcJueiKn87Yd6LTMr3XD/VkeTPwlkyHDJpC0zG6mfAJ85e1GfbS5dvpDvP7y1z/aVSjk1y6JK/vsaNEW0lmQ1RbQchksmzZ8dtKtjP7N7Zgd1H2Lu9MKzg8qdcmqWRaPx76uYFFE3ATOzcaqYJuDDQWZmGeYmYGaWYW4CZmYZ5iZgZpZhbgJmZhnmJmBmlmFVawKSJkh6RNLt1arBzCzrqhkbcSnwONBUxRqsgH0vdbNpx17aX+ymqaGeuU2TWdA8reCFKo6TNhvbqtIEJB0HvBX4n8Bl1ajBCtv3Ujd3bNrJ/7hlY58o6T/YvY/lJ88ZcHWx46TNxrZqHQ76B+DjQG6Y7azCNu7Y29sA4HCU9GPP7hkQY+s4abOxr+JNQNJKYFdErBtmu4sltUlqa29vr1B1trNjf8EI21wwIMbWcdJmY181Pgm8Djhb0hbgu8AySd/qv1FEXBcRrRHR2tzcXOkaM2tO0+Te5MIeDRPrqBMDYmx74m77b+s4abOxo+JNICKuiIjjIqIFeBdwT0S8p9J1WGGL507jb85ZPCBK+pT50wfE2DpO2mzs801lrI8pR03irYvm0DJzCs+92M20IWYH1dWJFYvmcvIlr3ectNkYVdUmEBH3AvdWswYbaMpRk/ijE2cWtW1dnVjQPJUFzVPLXJWZlYOvGDYzyzA3ATOzDHMTMDPLMDcBM7MMcxMwM8swNwEzswzzdQI2QFfXQTbu6KB9736mT6nnqPoJbNvTRfO0yUwQHNM42dcDmI0TbgLWR1fXQW7buH1AiugNDzzN7/d1c9XKRdz08ONcdOZJTgs1Gwd8OMj6eGz7noIpom8/7Ti6DuT4zO2buOCMBU4LNRsn3ASsjx2DpIhKh39+qfug00LNxgk3Aetj7iApohGHfz5qUr3TQs3GCTcB6+OUedMLpoh+/+GtNEys46qVi7jhZ086LdRsnPCJYeujoaGe/7x4HifOakxmBx1Vz1ETJ3D8jCk0T5tMveDv3rHUs4PMxgk3ARugoaGe1pYZfZa9qkq1mFl5+XCQmVmGuQmYmWWYm4CZWYa5CZiZZZibgJlZhrkJmJllWMWniEp6GXADMBfIAddFxDWVrsMOy+WCLbs72dnRxbzpDRw4GDy7Zx+T6yfQuf8gs6Y1cODQIWY2Tub4Y6bwzO/3sbOjizlNDRW5XiC/vkqNOZbqMRuJalwncBD4WEQ8LGkasE7SXRHxyyrUknm5XHDnph1cduN6jpkyiQ/+8QK+/rOneGfr8Vx7z+beJNFLli3knl/t4F2vPoFP3Xw4YXTtqqVlTRPNr69SY46lesxGquKHgyJie0Q8nP68F3gcmF/pOiyxZXdn7xva2087js/d+StWLpnf2wAgCY279p7NXHDGgt4G0LO83Gmi+fVVasyxVI/ZSFX1nICkFpKLUR8qsO5iSW2S2trb2yteW1bs7OjqfUOTDieGFkoS7UkP7b+8nGmi+fVVasyxVI/ZSFWtCUiaCtwEfDQiOvqvj4jrIqI1Ilqbm5srX2BGzGlq6JMamh8cl69hYh1T0vTQ/svLmSbav75KjDmW6jEbqao0AUkTSRrAtyPi+9WowRItMxtZu2opDRPruGndVi5fcTK3Pfoslyxb2KchXLJsId/42ZN89ty+CaPlThPNr69SY46lesxGStETFF+pASUB3wCej4iPFvOc1tbWaGtrK2tdWdYz22XX3i7mNhWYHTR1MgdzOWbkzQ7atbeL2dMqOzuokmOOpXrMBiNpXUS0DrlNFZrAmcD9wGMkU0QBPhkRPxzsOW4CZmZHrpgmUPEpohHxH4D/bDIzqwG+YtjMLMPcBMzMMsxNwMwsw9wEzMwyzE3AzCzDfKN5G5CKefwxU9j6wj52duxnX/dBZk+bzL7uQ+zu7GZm4yT27j/AzMYGFs1ror6+rvc1nnquk6ef76RxUj1zmiZz/Iyh58+PZhqnkz3NSuMmkHGFUjGvfscStu/pYu1dT3DMlElccPoJXHN330TRf2n7JR9ZtpBzT51PXZ0GvMalyxeycM5Ulr18TsE349FM43Syp1npfDgo4wqlYm7e9SJr73qiN1m0pwH0rL/2ns2sXDKfT928kU3b9xR8jWvu3syGrXsGTdcczTROJ3ualc5NIOMKpWLmggHJovnyk0Z37OkaNFkzFwyarjmaaZxO9jQrnZtAxhVKxZwgCiaL5j+OSL7Pnd4waLJmnRg0XXM00zid7GlWOjeBjCuUivkHs6dy2Zv+U2+y6KXLByaK3r7hWT577mIWzZte8DUuXb6QJcdNHzRdczTTOJ3saVa6igfIlcIBcuXVPxWz/+yg5mmTean7EM93djOjd3bQZBbNmz5gdtAzz3cy5QhnB41GGqeTPc0GqskU0VK4CZiZHblimoAPB5mZZZibgJlZhrkJmJllmJuAmVmGuQmYmWXYmJgdJKkdeLrEp88CnhvFckZTLdcGtV1fLdcGtV1fLdcGtV1fLdcGA+s7ISKah3rCmGgCIyGpbbgpUtVSy7VBbddXy7VBbddXy7VBbddXy7VBafX5cJCZWYa5CZiZZVgWmsB11S5gCLVcG9R2fbVcG9R2fbVcG9R2fbVcG5RQ37g/J2BmZoPLwicBMzMbhJuAmVmGjcsmIOlqSb+StEHSDyQdnbfuCkm/kfRrSW+uUn3nSdokKSeptd+6WqhvRTr+byRdXo0a+tXzNUm7JG3MWzZD0l2SNqffj6lSbS+T9O+SHk9/p5fWSn2SGiT9XNKjaW2fqZXa+tU5QdIjkm6vtfokbZH0mKT1ktpqqT5JR0v6Xvpe97ik00upbVw2AeAuYHFELAGeAK4AkPRK4F3AImAF8I+SJlShvo3A24H78hfWQn3peF8E/gx4JXB+Wlc1XU+yP/JdDtwdEQuBu9PH1XAQ+FhEvAJ4LfDhdH/VQn37gWURcSqwFFgh6bU1Ulu+S4HH8x7XWn1viIilefPva6W+a4A7I+Jk4FSSfXjktUXEuP4C3gZ8O/35CuCKvHU/Ak6vYm33Aq15j6teH3A68KPBaqrivmoBNuY9/jUwL/15HvDrateY1nIL8KZaqw+YAjwMvKaWagOOS9+slgG319rvFtgCzOq3rOr1AU3AU6STe0ZS23j9JJDvIuDf0p/nA7/LW7c1XVYraqG+WqihGHMiYjtA+n12letBUgvwKuAhaqS+9FDLemAXcFdE1ExtqX8APg7k8pbVUn0B/FjSOkkXp8tqob4FQDvw9fRQ2lckNZZSW3156ywfST8B5hZYdWVE3JJucyXJx/Vv9zytwPZlmSNbTH2FnlZgWaXn8NZCDWOOpKnATcBHI6JDqo1bW0bEIWBpel7sB5IWV7mkXpJWArsiYp2ks6pczmBeFxHbJM0G7pL0q2oXlKoHTgM+EhEPSbqGEg9LjdkmEBFvHGq9pAuBlcDySD8bkfxV+7K8zY4DtlWjvkFUrL4ar6EYOyXNi4jtkuaR/KVbFZImkjSAb0fE92utPoCIeEHSvSTnVmqlttcBZ0t6C9AANEn6Vg3VR0RsS7/vkvQD4NU1Ut9WYGv6yQ7geyRN4IhrG5eHgyStAD4BnB0R+/JW3Qq8S9JkSScCC4GfV6PGQdRCfb8AFko6UdIkkhPVt1a4hmLcClyY/nwhybH4ilPyJ/9XgccjYm3eqqrXJ6k5/QSApKOANwK/qoXaACLiiog4LiJaSP4/uyci3lMr9UlqlDSt52fgT0kmdVS9vojYAfxO0svTRcuBX5ZUW7VOuJT5pMlvSI5rr0+//ilv3ZXAb0lOoPxZlep7G0kn3w/spO+J2Fqo7y0ks6p+S3L4qtq/z+8A24ED6X57HzCT5ITi5vT7jCrVdibJ4bINef+/vaUW6gOWAI+ktW0EVqfLq15bgVrP4vCJ4Zqoj+S4+6Pp16aefws1VN9SoC39/d4MHFNKbY6NMDPLsHF5OMjMzIrjJmBmlmFuAmZmGeYmYGaWYW4CZmYZ5iZgmSHp3EqH4UlaI+mILhyU1Crp2nLVZJbPU0QtMyRdTzIX/XvVrsWsVviTgNUsSR+XdEn68xck3ZP+vDyNF0DSlyS15eflp8s/J+mXSu4p8XlJZwBnA1en2fAnpV93puFg90s6uUANjUruZ/CLNKjrnHT5f5V0s6TbJD0l6S8lXZZu86CkGel210t6R6Ga0mXnSdqoJPP/vnTZWeqbrX9z+pwHJS1Jl386reteSU/m7adGSXekr7dR0jvL89ux8WLMZgdZJtwHfAy4FmgFJqc5PWcC96fbXBkRzyu5D8Ld6ZvkVpKrsk+OiJB0dCTZObeS90lA0t3AhyJis6TXAP9IEmmc70qSOIOL0giGn6fhgACLSVJDG0iuUv9ERLxK0heAC0gSMknHmtG/pnTVauDNEfFs3rJ8nwEeiYhzJS0DbiC5UhTgZOANwDTg15K+RJINtC0i3pqOO324nWzZ5k8CVsvWAX+Y5rfsBx4gaQav53ATWCXpYZJ4hEUkN8LpALqAr0h6O7Cv/wsrSf08A/hXJVHL/0ySv97fnwKXp9vcS/KGf3y67t8jYm9EtAN7gNvS5Y+R3P8g32A1/RS4XtIHgEI3EDoT+CZARNwDzMx7Y78jIvZHxHMkQWFz0rHfKOl/SXp9ROwp8JpmvdwErGZFxAGSm3q8F/gZyRv/G4CTgMfTkL2/JkmKXQLcATRExEGStMebgHOBOwu8fB3wQiR3jOr5ekWB7QT8l7xtjo+Inrtg7c/bLpf3OEe/T9mD1RQRHwI+RZLcul7SzALjD9g1BcY/BNRHxBPAH5I0g7+VtLrA8816uQlYrbuP5I3+PpIm8CFgfSQzGpqATmCPpDkkt8Ts+St/ekT8EPgohw+f7CU5dEJEdABPSTovfY4knVpg/B8BH0nTQpH0qlL+IwarSdJJEfFQRKwGnqNvjHfPf/+7023PAp5Lax9snGOBfRHxLeDzJJnzZoPyOQGrdfeTHJd/ICI6JXWly4iIRyU9QpLw+CTJoRVI3uhvkdRA8pf0X6XLvwt8OT2J+g6SN9cvSfoUMDFd/2i/8f+G5Nj+hrQRbCG5T8WRGqymqyUtTJfdnY7/J3nP+zTJ3aM2kBxCupChnZK+Zo4kdfW/lVCrZYiniJqZZZgPB5mZZZibgJlZhrkJmJllmJuAmVmGuQmYmWWYm4CZWYa5CZiZZdj/B07CEVkk55+JAAAAAElFTkSuQmCC\n",
      "text/plain": [
       "<Figure size 432x288 with 1 Axes>"
      ]
     },
     "metadata": {
      "needs_background": "light"
     },
     "output_type": "display_data"
    },
    {
     "data": {
      "image/png": "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\n",
      "text/plain": [
       "<Figure size 432x288 with 1 Axes>"
      ]
     },
     "metadata": {
      "needs_background": "light"
     },
     "output_type": "display_data"
    },
    {
     "data": {
      "image/png": "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\n",
      "text/plain": [
       "<Figure size 432x288 with 1 Axes>"
      ]
     },
     "metadata": {
      "needs_background": "light"
     },
     "output_type": "display_data"
    }
   ],
   "source": [
    "list = ['agriculture','energy','waste','industrial','bunker fuels']\n",
    "i = 0\n",
    "for i in list:\n",
    "    first_scatter = sns.scatterplot(x=analysis_two_all[i], y=analysis_two_all['Textiles'])\n",
    "    first_scatter.set_xlabel(i + ' emissions')\n",
    "    first_scatter.set_ylabel('Textiles Index')\n",
    "    plt.show()"
   ]
  },
  {
   "cell_type": "markdown",
   "metadata": {},
   "source": [
    "These are scatterplots representing the different emission sectors in comparison to the Cotton production index of each country. "
   ]
  },
  {
   "cell_type": "code",
<<<<<<< Updated upstream
   "execution_count": null,
=======
   "execution_count": 26,
>>>>>>> Stashed changes
   "metadata": {},
   "outputs": [],
   "source": [
    "for i in list:\n",
    "    first_scatter = sns.scatterplot(x=analysis_two_all[i], y=analysis_two_all['Cotton'])\n",
    "    first_scatter.set_xlabel(i + ' emissions')\n",
    "    first_scatter.set_ylabel('Cotton Index')\n",
    "    plt.show()"
   ]
  },
  {
   "cell_type": "markdown",
   "metadata": {},
   "source": [
    "These are scatterplots representing the different emission sectors in comparison to the Clothing production index of each country. "
   ]
  },
  {
   "cell_type": "code",
<<<<<<< Updated upstream
   "execution_count": null,
=======
   "execution_count": 27,
>>>>>>> Stashed changes
   "metadata": {},
   "outputs": [],
   "source": [
    "for i in list:\n",
    "    first_scatter = sns.scatterplot(x=analysis_two_all[i], y=analysis_two_all['Clothing'])\n",
    "    first_scatter.set_xlabel(i + ' emissions')\n",
    "    first_scatter.set_ylabel('Clothing Index')\n",
    "    plt.show()"
   ]
  },
  {
   "cell_type": "markdown",
   "metadata": {},
   "source": [
    "These are scatterplots representing the different emission sectors in comparison to the Garment production index of each country. "
   ]
  },
  {
   "cell_type": "code",
<<<<<<< Updated upstream
   "execution_count": null,
=======
   "execution_count": 28,
>>>>>>> Stashed changes
   "metadata": {},
   "outputs": [],
   "source": [
    "for i in list:\n",
    "    first_scatter = sns.scatterplot(x=analysis_two_all[i], y=analysis_two_all['Garments'])\n",
    "    first_scatter.set_xlabel(i + ' emissions')\n",
    "    first_scatter.set_ylabel('Garments Index')\n",
    "    plt.show()"
   ]
  },
  {
   "cell_type": "code",
   "execution_count": 92,
   "metadata": {},
   "outputs": [
    {
     "data": {
      "text/html": [
       "<div>\n",
       "<style scoped>\n",
       "    .dataframe tbody tr th:only-of-type {\n",
       "        vertical-align: middle;\n",
       "    }\n",
       "\n",
       "    .dataframe tbody tr th {\n",
       "        vertical-align: top;\n",
       "    }\n",
       "\n",
       "    .dataframe thead th {\n",
       "        text-align: right;\n",
       "    }\n",
       "</style>\n",
       "<table border=\"1\" class=\"dataframe\">\n",
       "  <thead>\n",
       "    <tr style=\"text-align: right;\">\n",
       "      <th></th>\n",
       "      <th>Cotton</th>\n",
       "      <th>Clothing</th>\n",
       "      <th>Garments</th>\n",
       "      <th>Textiles</th>\n",
       "    </tr>\n",
       "  </thead>\n",
       "  <tbody>\n",
       "    <tr>\n",
       "      <th>0</th>\n",
       "      <td>0.0</td>\n",
       "      <td>0.0</td>\n",
       "      <td>0.0</td>\n",
       "      <td>2.0</td>\n",
       "    </tr>\n",
       "    <tr>\n",
       "      <th>1</th>\n",
       "      <td>0.0</td>\n",
       "      <td>2.0</td>\n",
       "      <td>0.0</td>\n",
       "      <td>0.0</td>\n",
       "    </tr>\n",
       "    <tr>\n",
       "      <th>2</th>\n",
       "      <td>0.0</td>\n",
       "      <td>0.0</td>\n",
       "      <td>0.0</td>\n",
       "      <td>0.0</td>\n",
       "    </tr>\n",
       "    <tr>\n",
       "      <th>3</th>\n",
       "      <td>0.0</td>\n",
       "      <td>0.0</td>\n",
       "      <td>0.0</td>\n",
       "      <td>0.0</td>\n",
       "    </tr>\n",
       "    <tr>\n",
       "      <th>4</th>\n",
       "      <td>0.0</td>\n",
       "      <td>0.0</td>\n",
       "      <td>0.0</td>\n",
       "      <td>5.0</td>\n",
       "    </tr>\n",
       "    <tr>\n",
       "      <th>...</th>\n",
       "      <td>...</td>\n",
       "      <td>...</td>\n",
       "      <td>...</td>\n",
       "      <td>...</td>\n",
       "    </tr>\n",
       "    <tr>\n",
       "      <th>190</th>\n",
       "      <td>0.0</td>\n",
       "      <td>0.0</td>\n",
       "      <td>0.0</td>\n",
       "      <td>0.0</td>\n",
       "    </tr>\n",
       "    <tr>\n",
       "      <th>191</th>\n",
       "      <td>0.0</td>\n",
       "      <td>0.0</td>\n",
       "      <td>0.0</td>\n",
       "      <td>0.0</td>\n",
       "    </tr>\n",
       "    <tr>\n",
       "      <th>192</th>\n",
       "      <td>2.0</td>\n",
       "      <td>0.0</td>\n",
       "      <td>0.0</td>\n",
       "      <td>2.0</td>\n",
       "    </tr>\n",
       "    <tr>\n",
       "      <th>193</th>\n",
       "      <td>0.0</td>\n",
       "      <td>0.0</td>\n",
       "      <td>0.0</td>\n",
       "      <td>7.0</td>\n",
       "    </tr>\n",
       "    <tr>\n",
       "      <th>194</th>\n",
       "      <td>0.0</td>\n",
       "      <td>7.0</td>\n",
       "      <td>0.0</td>\n",
       "      <td>0.0</td>\n",
       "    </tr>\n",
       "  </tbody>\n",
       "</table>\n",
       "<p>195 rows × 4 columns</p>\n",
       "</div>"
      ],
      "text/plain": [
       "     Cotton  Clothing  Garments  Textiles\n",
       "0       0.0       0.0       0.0       2.0\n",
       "1       0.0       2.0       0.0       0.0\n",
       "2       0.0       0.0       0.0       0.0\n",
       "3       0.0       0.0       0.0       0.0\n",
       "4       0.0       0.0       0.0       5.0\n",
       "..      ...       ...       ...       ...\n",
       "190     0.0       0.0       0.0       0.0\n",
       "191     0.0       0.0       0.0       0.0\n",
       "192     2.0       0.0       0.0       2.0\n",
       "193     0.0       0.0       0.0       7.0\n",
       "194     0.0       7.0       0.0       0.0\n",
       "\n",
       "[195 rows x 4 columns]"
      ]
     },
     "execution_count": 92,
     "metadata": {},
     "output_type": "execute_result"
    }
   ],
   "source": [
    "analysis_two_all_temp = analysis_two_all[['Cotton','Clothing','Garments','Textiles']].fillna(0)\n",
    "analysis_two_all_temp"
   ]
  },
  {
   "cell_type": "code",
<<<<<<< Updated upstream
<<<<<<< Updated upstream
   "execution_count": null,
=======
   "execution_count": 93,
>>>>>>> Stashed changes
   "metadata": {},
   "outputs": [],
=======
   "execution_count": 29,
   "metadata": {},
   "outputs": [
    {
     "ename": "ValueError",
     "evalue": "Input contains NaN, infinity or a value too large for dtype('float64').",
     "output_type": "error",
     "traceback": [
      "\u001b[0;31m---------------------------------------------------------------------------\u001b[0m",
      "\u001b[0;31mValueError\u001b[0m                                Traceback (most recent call last)",
      "\u001b[0;32m<ipython-input-29-44a757bedbe1>\u001b[0m in \u001b[0;36m<module>\u001b[0;34m\u001b[0m\n\u001b[1;32m      1\u001b[0m \u001b[0mclustering\u001b[0m \u001b[0;34m=\u001b[0m \u001b[0mKMeans\u001b[0m\u001b[0;34m(\u001b[0m\u001b[0mn_clusters\u001b[0m \u001b[0;34m=\u001b[0m \u001b[0;36m3\u001b[0m\u001b[0;34m,\u001b[0m \u001b[0mrandom_state\u001b[0m \u001b[0;34m=\u001b[0m \u001b[0;36m15\u001b[0m\u001b[0;34m)\u001b[0m\u001b[0;34m\u001b[0m\u001b[0;34m\u001b[0m\u001b[0m\n\u001b[0;32m----> 2\u001b[0;31m \u001b[0mKM\u001b[0m \u001b[0;34m=\u001b[0m \u001b[0mclustering\u001b[0m\u001b[0;34m.\u001b[0m\u001b[0mfit\u001b[0m\u001b[0;34m(\u001b[0m\u001b[0manalysis_two_all\u001b[0m\u001b[0;34m[\u001b[0m\u001b[0;34m[\u001b[0m\u001b[0;34m\"agriculture\"\u001b[0m\u001b[0;34m,\u001b[0m \u001b[0;34m\"Textiles\"\u001b[0m\u001b[0;34m]\u001b[0m\u001b[0;34m]\u001b[0m\u001b[0;34m)\u001b[0m\u001b[0;34m\u001b[0m\u001b[0;34m\u001b[0m\u001b[0m\n\u001b[0m\u001b[1;32m      3\u001b[0m \u001b[0mKM\u001b[0m\u001b[0;34m.\u001b[0m\u001b[0mcluster_centers_\u001b[0m\u001b[0;34m\u001b[0m\u001b[0;34m\u001b[0m\u001b[0m\n\u001b[1;32m      4\u001b[0m \u001b[0;34m\u001b[0m\u001b[0m\n\u001b[1;32m      5\u001b[0m \u001b[0mcluster_labels\u001b[0m \u001b[0;34m=\u001b[0m \u001b[0mKM\u001b[0m\u001b[0;34m.\u001b[0m\u001b[0mlabels_\u001b[0m\u001b[0;34m\u001b[0m\u001b[0;34m\u001b[0m\u001b[0m\n",
      "\u001b[0;32m/Applications/anaconda3/lib/python3.8/site-packages/sklearn/cluster/_kmeans.py\u001b[0m in \u001b[0;36mfit\u001b[0;34m(self, X, y, sample_weight)\u001b[0m\n\u001b[1;32m   1028\u001b[0m             \u001b[0mFitted\u001b[0m \u001b[0mestimator\u001b[0m\u001b[0;34m.\u001b[0m\u001b[0;34m\u001b[0m\u001b[0;34m\u001b[0m\u001b[0m\n\u001b[1;32m   1029\u001b[0m         \"\"\"\n\u001b[0;32m-> 1030\u001b[0;31m         X = self._validate_data(X, accept_sparse='csr',\n\u001b[0m\u001b[1;32m   1031\u001b[0m                                 \u001b[0mdtype\u001b[0m\u001b[0;34m=\u001b[0m\u001b[0;34m[\u001b[0m\u001b[0mnp\u001b[0m\u001b[0;34m.\u001b[0m\u001b[0mfloat64\u001b[0m\u001b[0;34m,\u001b[0m \u001b[0mnp\u001b[0m\u001b[0;34m.\u001b[0m\u001b[0mfloat32\u001b[0m\u001b[0;34m]\u001b[0m\u001b[0;34m,\u001b[0m\u001b[0;34m\u001b[0m\u001b[0;34m\u001b[0m\u001b[0m\n\u001b[1;32m   1032\u001b[0m                                 \u001b[0morder\u001b[0m\u001b[0;34m=\u001b[0m\u001b[0;34m'C'\u001b[0m\u001b[0;34m,\u001b[0m \u001b[0mcopy\u001b[0m\u001b[0;34m=\u001b[0m\u001b[0mself\u001b[0m\u001b[0;34m.\u001b[0m\u001b[0mcopy_x\u001b[0m\u001b[0;34m,\u001b[0m\u001b[0;34m\u001b[0m\u001b[0;34m\u001b[0m\u001b[0m\n",
      "\u001b[0;32m/Applications/anaconda3/lib/python3.8/site-packages/sklearn/base.py\u001b[0m in \u001b[0;36m_validate_data\u001b[0;34m(self, X, y, reset, validate_separately, **check_params)\u001b[0m\n\u001b[1;32m    418\u001b[0m                     \u001b[0;34mf\"requires y to be passed, but the target y is None.\"\u001b[0m\u001b[0;34m\u001b[0m\u001b[0;34m\u001b[0m\u001b[0m\n\u001b[1;32m    419\u001b[0m                 )\n\u001b[0;32m--> 420\u001b[0;31m             \u001b[0mX\u001b[0m \u001b[0;34m=\u001b[0m \u001b[0mcheck_array\u001b[0m\u001b[0;34m(\u001b[0m\u001b[0mX\u001b[0m\u001b[0;34m,\u001b[0m \u001b[0;34m**\u001b[0m\u001b[0mcheck_params\u001b[0m\u001b[0;34m)\u001b[0m\u001b[0;34m\u001b[0m\u001b[0;34m\u001b[0m\u001b[0m\n\u001b[0m\u001b[1;32m    421\u001b[0m             \u001b[0mout\u001b[0m \u001b[0;34m=\u001b[0m \u001b[0mX\u001b[0m\u001b[0;34m\u001b[0m\u001b[0;34m\u001b[0m\u001b[0m\n\u001b[1;32m    422\u001b[0m         \u001b[0;32melse\u001b[0m\u001b[0;34m:\u001b[0m\u001b[0;34m\u001b[0m\u001b[0;34m\u001b[0m\u001b[0m\n",
      "\u001b[0;32m/Applications/anaconda3/lib/python3.8/site-packages/sklearn/utils/validation.py\u001b[0m in \u001b[0;36minner_f\u001b[0;34m(*args, **kwargs)\u001b[0m\n\u001b[1;32m     70\u001b[0m                           FutureWarning)\n\u001b[1;32m     71\u001b[0m         \u001b[0mkwargs\u001b[0m\u001b[0;34m.\u001b[0m\u001b[0mupdate\u001b[0m\u001b[0;34m(\u001b[0m\u001b[0;34m{\u001b[0m\u001b[0mk\u001b[0m\u001b[0;34m:\u001b[0m \u001b[0marg\u001b[0m \u001b[0;32mfor\u001b[0m \u001b[0mk\u001b[0m\u001b[0;34m,\u001b[0m \u001b[0marg\u001b[0m \u001b[0;32min\u001b[0m \u001b[0mzip\u001b[0m\u001b[0;34m(\u001b[0m\u001b[0msig\u001b[0m\u001b[0;34m.\u001b[0m\u001b[0mparameters\u001b[0m\u001b[0;34m,\u001b[0m \u001b[0margs\u001b[0m\u001b[0;34m)\u001b[0m\u001b[0;34m}\u001b[0m\u001b[0;34m)\u001b[0m\u001b[0;34m\u001b[0m\u001b[0;34m\u001b[0m\u001b[0m\n\u001b[0;32m---> 72\u001b[0;31m         \u001b[0;32mreturn\u001b[0m \u001b[0mf\u001b[0m\u001b[0;34m(\u001b[0m\u001b[0;34m**\u001b[0m\u001b[0mkwargs\u001b[0m\u001b[0;34m)\u001b[0m\u001b[0;34m\u001b[0m\u001b[0;34m\u001b[0m\u001b[0m\n\u001b[0m\u001b[1;32m     73\u001b[0m     \u001b[0;32mreturn\u001b[0m \u001b[0minner_f\u001b[0m\u001b[0;34m\u001b[0m\u001b[0;34m\u001b[0m\u001b[0m\n\u001b[1;32m     74\u001b[0m \u001b[0;34m\u001b[0m\u001b[0m\n",
      "\u001b[0;32m/Applications/anaconda3/lib/python3.8/site-packages/sklearn/utils/validation.py\u001b[0m in \u001b[0;36mcheck_array\u001b[0;34m(array, accept_sparse, accept_large_sparse, dtype, order, copy, force_all_finite, ensure_2d, allow_nd, ensure_min_samples, ensure_min_features, estimator)\u001b[0m\n\u001b[1;32m    642\u001b[0m \u001b[0;34m\u001b[0m\u001b[0m\n\u001b[1;32m    643\u001b[0m         \u001b[0;32mif\u001b[0m \u001b[0mforce_all_finite\u001b[0m\u001b[0;34m:\u001b[0m\u001b[0;34m\u001b[0m\u001b[0;34m\u001b[0m\u001b[0m\n\u001b[0;32m--> 644\u001b[0;31m             _assert_all_finite(array,\n\u001b[0m\u001b[1;32m    645\u001b[0m                                allow_nan=force_all_finite == 'allow-nan')\n\u001b[1;32m    646\u001b[0m \u001b[0;34m\u001b[0m\u001b[0m\n",
      "\u001b[0;32m/Applications/anaconda3/lib/python3.8/site-packages/sklearn/utils/validation.py\u001b[0m in \u001b[0;36m_assert_all_finite\u001b[0;34m(X, allow_nan, msg_dtype)\u001b[0m\n\u001b[1;32m     94\u001b[0m                 not allow_nan and not np.isfinite(X).all()):\n\u001b[1;32m     95\u001b[0m             \u001b[0mtype_err\u001b[0m \u001b[0;34m=\u001b[0m \u001b[0;34m'infinity'\u001b[0m \u001b[0;32mif\u001b[0m \u001b[0mallow_nan\u001b[0m \u001b[0;32melse\u001b[0m \u001b[0;34m'NaN, infinity'\u001b[0m\u001b[0;34m\u001b[0m\u001b[0;34m\u001b[0m\u001b[0m\n\u001b[0;32m---> 96\u001b[0;31m             raise ValueError(\n\u001b[0m\u001b[1;32m     97\u001b[0m                     \u001b[0mmsg_err\u001b[0m\u001b[0;34m.\u001b[0m\u001b[0mformat\u001b[0m\u001b[0;34m\u001b[0m\u001b[0;34m\u001b[0m\u001b[0m\n\u001b[1;32m     98\u001b[0m                     (type_err,\n",
      "\u001b[0;31mValueError\u001b[0m: Input contains NaN, infinity or a value too large for dtype('float64')."
     ]
    }
   ],
>>>>>>> Stashed changes
   "source": [
    "analysis_two_all['agriculture'] = pd.to_numeric(analysis_two_all['agriculture'])\n",
    "analysis_two_all['energy'] = pd.to_numeric(analysis_two_all['energy'])\n",
    "analysis_two_all['bunker fuels'] = pd.to_numeric(analysis_two_all['bunker fuels'])\n",
    "analysis_two_all['waste'] = pd.to_numeric(analysis_two_all['waste'])\n",
    "analysis_two_all['industrial'] = pd.to_numeric(analysis_two_all['industrial'])"
   ]
  },
  {
   "cell_type": "code",
   "execution_count": 94,
   "metadata": {},
   "outputs": [
    {
     "data": {
      "text/html": [
       "<div>\n",
       "<style scoped>\n",
       "    .dataframe tbody tr th:only-of-type {\n",
       "        vertical-align: middle;\n",
       "    }\n",
       "\n",
       "    .dataframe tbody tr th {\n",
       "        vertical-align: top;\n",
       "    }\n",
       "\n",
       "    .dataframe thead th {\n",
       "        text-align: right;\n",
       "    }\n",
       "</style>\n",
       "<table border=\"1\" class=\"dataframe\">\n",
       "  <thead>\n",
       "    <tr style=\"text-align: right;\">\n",
       "      <th></th>\n",
       "      <th>agriculture</th>\n",
       "      <th>energy</th>\n",
       "      <th>waste</th>\n",
       "      <th>industrial</th>\n",
       "      <th>bunker fuels</th>\n",
       "      <th>hdi</th>\n",
       "      <th>Cotton</th>\n",
       "      <th>Clothing</th>\n",
       "      <th>Garments</th>\n",
       "      <th>Textiles</th>\n",
       "      <th>cluster_label</th>\n",
       "    </tr>\n",
       "  </thead>\n",
       "  <tbody>\n",
       "    <tr>\n",
       "      <th>agriculture</th>\n",
       "      <td>1.000000</td>\n",
       "      <td>0.921810</td>\n",
       "      <td>0.785876</td>\n",
       "      <td>0.919212</td>\n",
       "      <td>0.709618</td>\n",
       "      <td>-0.044247</td>\n",
       "      <td>-0.232577</td>\n",
       "      <td>-0.393654</td>\n",
       "      <td>-0.625888</td>\n",
       "      <td>-0.074252</td>\n",
       "      <td>-0.083347</td>\n",
       "    </tr>\n",
       "    <tr>\n",
       "      <th>energy</th>\n",
       "      <td>0.921810</td>\n",
       "      <td>1.000000</td>\n",
       "      <td>0.765420</td>\n",
       "      <td>0.943233</td>\n",
       "      <td>0.723118</td>\n",
       "      <td>0.002142</td>\n",
       "      <td>-0.106314</td>\n",
       "      <td>0.161572</td>\n",
       "      <td>-0.012721</td>\n",
       "      <td>-0.020179</td>\n",
       "      <td>-0.120738</td>\n",
       "    </tr>\n",
       "    <tr>\n",
       "      <th>waste</th>\n",
       "      <td>0.785876</td>\n",
       "      <td>0.765420</td>\n",
       "      <td>1.000000</td>\n",
       "      <td>0.779162</td>\n",
       "      <td>0.680511</td>\n",
       "      <td>0.019266</td>\n",
       "      <td>-0.006164</td>\n",
       "      <td>-0.366712</td>\n",
       "      <td>0.266033</td>\n",
       "      <td>-0.127175</td>\n",
       "      <td>-0.032355</td>\n",
       "    </tr>\n",
       "    <tr>\n",
       "      <th>industrial</th>\n",
       "      <td>0.919212</td>\n",
       "      <td>0.943233</td>\n",
       "      <td>0.779162</td>\n",
       "      <td>1.000000</td>\n",
       "      <td>0.806495</td>\n",
       "      <td>0.023644</td>\n",
       "      <td>0.063064</td>\n",
       "      <td>0.063551</td>\n",
       "      <td>0.294240</td>\n",
       "      <td>-0.035727</td>\n",
       "      <td>-0.093974</td>\n",
       "    </tr>\n",
       "    <tr>\n",
       "      <th>bunker fuels</th>\n",
       "      <td>0.709618</td>\n",
       "      <td>0.723118</td>\n",
       "      <td>0.680511</td>\n",
       "      <td>0.806495</td>\n",
       "      <td>1.000000</td>\n",
       "      <td>0.106523</td>\n",
       "      <td>-0.093080</td>\n",
       "      <td>0.456522</td>\n",
       "      <td>-0.196186</td>\n",
       "      <td>-0.059026</td>\n",
       "      <td>-0.042823</td>\n",
       "    </tr>\n",
       "    <tr>\n",
       "      <th>hdi</th>\n",
       "      <td>-0.044247</td>\n",
       "      <td>0.002142</td>\n",
       "      <td>0.019266</td>\n",
       "      <td>0.023644</td>\n",
       "      <td>0.106523</td>\n",
       "      <td>1.000000</td>\n",
       "      <td>0.618061</td>\n",
       "      <td>0.379034</td>\n",
       "      <td>0.289884</td>\n",
       "      <td>0.394550</td>\n",
       "      <td>-0.113843</td>\n",
       "    </tr>\n",
       "    <tr>\n",
       "      <th>Cotton</th>\n",
       "      <td>-0.232577</td>\n",
       "      <td>-0.106314</td>\n",
       "      <td>-0.006164</td>\n",
       "      <td>0.063064</td>\n",
       "      <td>-0.093080</td>\n",
       "      <td>0.618061</td>\n",
       "      <td>1.000000</td>\n",
       "      <td>NaN</td>\n",
       "      <td>NaN</td>\n",
       "      <td>0.847122</td>\n",
       "      <td>-0.544735</td>\n",
       "    </tr>\n",
       "    <tr>\n",
       "      <th>Clothing</th>\n",
       "      <td>-0.393654</td>\n",
       "      <td>0.161572</td>\n",
       "      <td>-0.366712</td>\n",
       "      <td>0.063551</td>\n",
       "      <td>0.456522</td>\n",
       "      <td>0.379034</td>\n",
       "      <td>NaN</td>\n",
       "      <td>1.000000</td>\n",
       "      <td>NaN</td>\n",
       "      <td>0.978453</td>\n",
       "      <td>-0.646167</td>\n",
       "    </tr>\n",
       "    <tr>\n",
       "      <th>Garments</th>\n",
       "      <td>-0.625888</td>\n",
       "      <td>-0.012721</td>\n",
       "      <td>0.266033</td>\n",
       "      <td>0.294240</td>\n",
       "      <td>-0.196186</td>\n",
       "      <td>0.289884</td>\n",
       "      <td>NaN</td>\n",
       "      <td>NaN</td>\n",
       "      <td>1.000000</td>\n",
       "      <td>-0.441726</td>\n",
       "      <td>0.464140</td>\n",
       "    </tr>\n",
       "    <tr>\n",
       "      <th>Textiles</th>\n",
       "      <td>-0.074252</td>\n",
       "      <td>-0.020179</td>\n",
       "      <td>-0.127175</td>\n",
       "      <td>-0.035727</td>\n",
       "      <td>-0.059026</td>\n",
       "      <td>0.394550</td>\n",
       "      <td>0.847122</td>\n",
       "      <td>0.978453</td>\n",
       "      <td>-0.441726</td>\n",
       "      <td>1.000000</td>\n",
       "      <td>-0.689489</td>\n",
       "    </tr>\n",
       "    <tr>\n",
       "      <th>cluster_label</th>\n",
       "      <td>-0.083347</td>\n",
       "      <td>-0.120738</td>\n",
       "      <td>-0.032355</td>\n",
       "      <td>-0.093974</td>\n",
       "      <td>-0.042823</td>\n",
       "      <td>-0.113843</td>\n",
       "      <td>-0.544735</td>\n",
       "      <td>-0.646167</td>\n",
       "      <td>0.464140</td>\n",
       "      <td>-0.689489</td>\n",
       "      <td>1.000000</td>\n",
       "    </tr>\n",
       "  </tbody>\n",
       "</table>\n",
       "</div>"
      ],
      "text/plain": [
       "               agriculture    energy     waste  industrial  bunker fuels  \\\n",
       "agriculture       1.000000  0.921810  0.785876    0.919212      0.709618   \n",
       "energy            0.921810  1.000000  0.765420    0.943233      0.723118   \n",
       "waste             0.785876  0.765420  1.000000    0.779162      0.680511   \n",
       "industrial        0.919212  0.943233  0.779162    1.000000      0.806495   \n",
       "bunker fuels      0.709618  0.723118  0.680511    0.806495      1.000000   \n",
       "hdi              -0.044247  0.002142  0.019266    0.023644      0.106523   \n",
       "Cotton           -0.232577 -0.106314 -0.006164    0.063064     -0.093080   \n",
       "Clothing         -0.393654  0.161572 -0.366712    0.063551      0.456522   \n",
       "Garments         -0.625888 -0.012721  0.266033    0.294240     -0.196186   \n",
       "Textiles         -0.074252 -0.020179 -0.127175   -0.035727     -0.059026   \n",
       "cluster_label    -0.083347 -0.120738 -0.032355   -0.093974     -0.042823   \n",
       "\n",
       "                    hdi    Cotton  Clothing  Garments  Textiles  cluster_label  \n",
       "agriculture   -0.044247 -0.232577 -0.393654 -0.625888 -0.074252      -0.083347  \n",
       "energy         0.002142 -0.106314  0.161572 -0.012721 -0.020179      -0.120738  \n",
       "waste          0.019266 -0.006164 -0.366712  0.266033 -0.127175      -0.032355  \n",
       "industrial     0.023644  0.063064  0.063551  0.294240 -0.035727      -0.093974  \n",
       "bunker fuels   0.106523 -0.093080  0.456522 -0.196186 -0.059026      -0.042823  \n",
       "hdi            1.000000  0.618061  0.379034  0.289884  0.394550      -0.113843  \n",
       "Cotton         0.618061  1.000000       NaN       NaN  0.847122      -0.544735  \n",
       "Clothing       0.379034       NaN  1.000000       NaN  0.978453      -0.646167  \n",
       "Garments       0.289884       NaN       NaN  1.000000 -0.441726       0.464140  \n",
       "Textiles       0.394550  0.847122  0.978453 -0.441726  1.000000      -0.689489  \n",
       "cluster_label -0.113843 -0.544735 -0.646167  0.464140 -0.689489       1.000000  "
      ]
     },
     "execution_count": 94,
     "metadata": {},
     "output_type": "execute_result"
    }
   ],
   "source": [
    "analysis_two_all.corr(method='pearson')"
   ]
  },
  {
   "cell_type": "code",
   "execution_count": 95,
   "metadata": {},
   "outputs": [
    {
     "data": {
      "image/png": "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\n",
      "text/plain": [
       "<Figure size 432x288 with 1 Axes>"
      ]
     },
     "metadata": {
      "needs_background": "light"
     },
     "output_type": "display_data"
    },
    {
     "data": {
      "text/plain": [
       "(0, 12)"
      ]
     },
     "execution_count": 95,
     "metadata": {},
     "output_type": "execute_result"
    }
   ],
   "source": [
    "# overall US volume vs. price\n",
    "temp_df = analysis_two_all.dropna()\n",
    "\n",
    "sns.regplot(\n",
    "    x = 'agriculture',\n",
    "    y = 'Clothing',\n",
    "    data = analysis_two_all\n",
    ")\n",
    "plt.show()\n",
    "temp_df.shape"
   ]
  },
  {
   "cell_type": "markdown",
   "metadata": {},
   "source": [
    "In this cell, we are organizing the data into clear groups via kmeans clustering. "
   ]
  },
  {
   "cell_type": "code",
   "execution_count": 117,
   "metadata": {},
   "outputs": [
    {
     "name": "stdout",
     "output_type": "stream",
     "text": [
      "[1 1 1 1 3]\n"
     ]
    },
    {
     "data": {
      "text/html": [
       "<div>\n",
       "<style scoped>\n",
       "    .dataframe tbody tr th:only-of-type {\n",
       "        vertical-align: middle;\n",
       "    }\n",
       "\n",
       "    .dataframe tbody tr th {\n",
       "        vertical-align: top;\n",
       "    }\n",
       "\n",
       "    .dataframe thead th {\n",
       "        text-align: right;\n",
       "    }\n",
       "</style>\n",
       "<table border=\"1\" class=\"dataframe\">\n",
       "  <thead>\n",
       "    <tr style=\"text-align: right;\">\n",
       "      <th></th>\n",
       "      <th>country</th>\n",
       "      <th>agriculture</th>\n",
       "      <th>energy</th>\n",
       "      <th>waste</th>\n",
       "      <th>industrial</th>\n",
       "      <th>bunker fuels</th>\n",
       "      <th>hdi</th>\n",
       "      <th>Cotton</th>\n",
       "      <th>Clothing</th>\n",
       "      <th>Garments</th>\n",
       "      <th>Textiles</th>\n",
       "      <th>cluster_label</th>\n",
       "    </tr>\n",
       "  </thead>\n",
       "  <tbody>\n",
       "    <tr>\n",
       "      <th>0</th>\n",
       "      <td>Afghanistan</td>\n",
       "      <td>67.42</td>\n",
       "      <td>-4.08</td>\n",
       "      <td>-0.80</td>\n",
       "      <td>0.54</td>\n",
       "      <td>-1.30</td>\n",
       "      <td>0.511</td>\n",
       "      <td>NaN</td>\n",
       "      <td>NaN</td>\n",
       "      <td>NaN</td>\n",
       "      <td>2.0</td>\n",
       "      <td>1</td>\n",
       "    </tr>\n",
       "    <tr>\n",
       "      <th>1</th>\n",
       "      <td>Albania</td>\n",
       "      <td>2.17</td>\n",
       "      <td>0.68</td>\n",
       "      <td>0.95</td>\n",
       "      <td>0.05</td>\n",
       "      <td>-0.03</td>\n",
       "      <td>0.795</td>\n",
       "      <td>NaN</td>\n",
       "      <td>2.0</td>\n",
       "      <td>NaN</td>\n",
       "      <td>NaN</td>\n",
       "      <td>1</td>\n",
       "    </tr>\n",
       "    <tr>\n",
       "      <th>2</th>\n",
       "      <td>Algeria</td>\n",
       "      <td>58.44</td>\n",
       "      <td>-17.34</td>\n",
       "      <td>-0.39</td>\n",
       "      <td>5.61</td>\n",
       "      <td>0.56</td>\n",
       "      <td>0.748</td>\n",
       "      <td>NaN</td>\n",
       "      <td>NaN</td>\n",
       "      <td>NaN</td>\n",
       "      <td>NaN</td>\n",
       "      <td>1</td>\n",
       "    </tr>\n",
       "    <tr>\n",
       "      <th>3</th>\n",
       "      <td>Andorra</td>\n",
       "      <td>-0.05</td>\n",
       "      <td>0.15</td>\n",
       "      <td>0.08</td>\n",
       "      <td>0.00</td>\n",
       "      <td>0.00</td>\n",
       "      <td>0.868</td>\n",
       "      <td>NaN</td>\n",
       "      <td>NaN</td>\n",
       "      <td>NaN</td>\n",
       "      <td>NaN</td>\n",
       "      <td>1</td>\n",
       "    </tr>\n",
       "    <tr>\n",
       "      <th>4</th>\n",
       "      <td>Angola</td>\n",
       "      <td>1.20</td>\n",
       "      <td>64.30</td>\n",
       "      <td>-2.18</td>\n",
       "      <td>1.13</td>\n",
       "      <td>1.59</td>\n",
       "      <td>0.581</td>\n",
       "      <td>NaN</td>\n",
       "      <td>NaN</td>\n",
       "      <td>NaN</td>\n",
       "      <td>5.0</td>\n",
       "      <td>3</td>\n",
       "    </tr>\n",
       "    <tr>\n",
       "      <th>5</th>\n",
       "      <td>Antigua and Barbuda</td>\n",
       "      <td>0.24</td>\n",
       "      <td>0.12</td>\n",
       "      <td>0.21</td>\n",
       "      <td>0.01</td>\n",
       "      <td>0.01</td>\n",
       "      <td>0.778</td>\n",
       "      <td>NaN</td>\n",
       "      <td>3.0</td>\n",
       "      <td>NaN</td>\n",
       "      <td>NaN</td>\n",
       "      <td>1</td>\n",
       "    </tr>\n",
       "    <tr>\n",
       "      <th>6</th>\n",
       "      <td>Argentina</td>\n",
       "      <td>-47.48</td>\n",
       "      <td>29.57</td>\n",
       "      <td>2.98</td>\n",
       "      <td>5.89</td>\n",
       "      <td>1.63</td>\n",
       "      <td>0.845</td>\n",
       "      <td>NaN</td>\n",
       "      <td>NaN</td>\n",
       "      <td>NaN</td>\n",
       "      <td>4.0</td>\n",
       "      <td>3</td>\n",
       "    </tr>\n",
       "    <tr>\n",
       "      <th>7</th>\n",
       "      <td>Armenia</td>\n",
       "      <td>0.29</td>\n",
       "      <td>1.32</td>\n",
       "      <td>1.22</td>\n",
       "      <td>0.07</td>\n",
       "      <td>NaN</td>\n",
       "      <td>0.776</td>\n",
       "      <td>NaN</td>\n",
       "      <td>NaN</td>\n",
       "      <td>NaN</td>\n",
       "      <td>NaN</td>\n",
       "      <td>1</td>\n",
       "    </tr>\n",
       "    <tr>\n",
       "      <th>8</th>\n",
       "      <td>Australia</td>\n",
       "      <td>2.17</td>\n",
       "      <td>1.13</td>\n",
       "      <td>-4.82</td>\n",
       "      <td>10.55</td>\n",
       "      <td>3.76</td>\n",
       "      <td>0.944</td>\n",
       "      <td>NaN</td>\n",
       "      <td>NaN</td>\n",
       "      <td>NaN</td>\n",
       "      <td>NaN</td>\n",
       "      <td>1</td>\n",
       "    </tr>\n",
       "    <tr>\n",
       "      <th>9</th>\n",
       "      <td>Austria</td>\n",
       "      <td>-9.94</td>\n",
       "      <td>-2.18</td>\n",
       "      <td>0.23</td>\n",
       "      <td>-0.28</td>\n",
       "      <td>0.33</td>\n",
       "      <td>0.922</td>\n",
       "      <td>NaN</td>\n",
       "      <td>NaN</td>\n",
       "      <td>NaN</td>\n",
       "      <td>NaN</td>\n",
       "      <td>1</td>\n",
       "    </tr>\n",
       "    <tr>\n",
       "      <th>10</th>\n",
       "      <td>Azerbaijan</td>\n",
       "      <td>6.37</td>\n",
       "      <td>-7.47</td>\n",
       "      <td>-0.13</td>\n",
       "      <td>1.28</td>\n",
       "      <td>0.32</td>\n",
       "      <td>0.756</td>\n",
       "      <td>NaN</td>\n",
       "      <td>NaN</td>\n",
       "      <td>NaN</td>\n",
       "      <td>5.0</td>\n",
       "      <td>3</td>\n",
       "    </tr>\n",
       "    <tr>\n",
       "      <th>11</th>\n",
       "      <td>Bahamas</td>\n",
       "      <td>0.17</td>\n",
       "      <td>-0.46</td>\n",
       "      <td>0.20</td>\n",
       "      <td>0.04</td>\n",
       "      <td>0.01</td>\n",
       "      <td>0.814</td>\n",
       "      <td>NaN</td>\n",
       "      <td>NaN</td>\n",
       "      <td>NaN</td>\n",
       "      <td>NaN</td>\n",
       "      <td>1</td>\n",
       "    </tr>\n",
       "    <tr>\n",
       "      <th>12</th>\n",
       "      <td>Bahrain</td>\n",
       "      <td>12.52</td>\n",
       "      <td>4.64</td>\n",
       "      <td>0.01</td>\n",
       "      <td>0.36</td>\n",
       "      <td>-0.20</td>\n",
       "      <td>0.852</td>\n",
       "      <td>NaN</td>\n",
       "      <td>NaN</td>\n",
       "      <td>NaN</td>\n",
       "      <td>NaN</td>\n",
       "      <td>1</td>\n",
       "    </tr>\n",
       "    <tr>\n",
       "      <th>13</th>\n",
       "      <td>Bangladesh</td>\n",
       "      <td>53.39</td>\n",
       "      <td>29.09</td>\n",
       "      <td>-0.93</td>\n",
       "      <td>-1.66</td>\n",
       "      <td>-0.99</td>\n",
       "      <td>0.632</td>\n",
       "      <td>2.0</td>\n",
       "      <td>NaN</td>\n",
       "      <td>3.0</td>\n",
       "      <td>NaN</td>\n",
       "      <td>1</td>\n",
       "    </tr>\n",
       "    <tr>\n",
       "      <th>14</th>\n",
       "      <td>Barbados</td>\n",
       "      <td>-0.38</td>\n",
       "      <td>-1.18</td>\n",
       "      <td>0.47</td>\n",
       "      <td>0.02</td>\n",
       "      <td>0.00</td>\n",
       "      <td>0.814</td>\n",
       "      <td>NaN</td>\n",
       "      <td>NaN</td>\n",
       "      <td>NaN</td>\n",
       "      <td>NaN</td>\n",
       "      <td>1</td>\n",
       "    </tr>\n",
       "  </tbody>\n",
       "</table>\n",
       "</div>"
      ],
      "text/plain": [
       "                country  agriculture  energy  waste  industrial  bunker fuels  \\\n",
       "0           Afghanistan        67.42   -4.08  -0.80        0.54         -1.30   \n",
       "1               Albania         2.17    0.68   0.95        0.05         -0.03   \n",
       "2               Algeria        58.44  -17.34  -0.39        5.61          0.56   \n",
       "3               Andorra        -0.05    0.15   0.08        0.00          0.00   \n",
       "4                Angola         1.20   64.30  -2.18        1.13          1.59   \n",
       "5   Antigua and Barbuda         0.24    0.12   0.21        0.01          0.01   \n",
       "6             Argentina       -47.48   29.57   2.98        5.89          1.63   \n",
       "7               Armenia         0.29    1.32   1.22        0.07           NaN   \n",
       "8             Australia         2.17    1.13  -4.82       10.55          3.76   \n",
       "9               Austria        -9.94   -2.18   0.23       -0.28          0.33   \n",
       "10           Azerbaijan         6.37   -7.47  -0.13        1.28          0.32   \n",
       "11              Bahamas         0.17   -0.46   0.20        0.04          0.01   \n",
       "12              Bahrain        12.52    4.64   0.01        0.36         -0.20   \n",
       "13           Bangladesh        53.39   29.09  -0.93       -1.66         -0.99   \n",
       "14             Barbados        -0.38   -1.18   0.47        0.02          0.00   \n",
       "\n",
       "      hdi  Cotton  Clothing  Garments  Textiles  cluster_label  \n",
       "0   0.511     NaN       NaN       NaN       2.0              1  \n",
       "1   0.795     NaN       2.0       NaN       NaN              1  \n",
       "2   0.748     NaN       NaN       NaN       NaN              1  \n",
       "3   0.868     NaN       NaN       NaN       NaN              1  \n",
       "4   0.581     NaN       NaN       NaN       5.0              3  \n",
       "5   0.778     NaN       3.0       NaN       NaN              1  \n",
       "6   0.845     NaN       NaN       NaN       4.0              3  \n",
       "7   0.776     NaN       NaN       NaN       NaN              1  \n",
       "8   0.944     NaN       NaN       NaN       NaN              1  \n",
       "9   0.922     NaN       NaN       NaN       NaN              1  \n",
       "10  0.756     NaN       NaN       NaN       5.0              3  \n",
       "11  0.814     NaN       NaN       NaN       NaN              1  \n",
       "12  0.852     NaN       NaN       NaN       NaN              1  \n",
       "13  0.632     2.0       NaN       3.0       NaN              1  \n",
       "14  0.814     NaN       NaN       NaN       NaN              1  "
      ]
     },
     "execution_count": 117,
     "metadata": {},
     "output_type": "execute_result"
    }
   ],
   "source": [
    "clustering = KMeans(n_clusters = 5, random_state = 15)\n",
    "KM = clustering.fit(analysis_two_all_temp)\n",
    "KM.cluster_centers_\n",
    "\n",
    "cluster_labels = KM.labels_\n",
    "print(cluster_labels[:5])\n",
    "analysis_two_all[\"cluster_label\"] = cluster_labels\n",
    "analysis_two_all.head(15)\n",
    "\n",
    "\n",
    "\n",
    "\n",
    "#for c in cluster_labels:\n",
    "#    countries = analysis_two_all[analysis_two_all['cluster_label']==c].count()\n",
    "#    print(countries)\n",
    "\n",
    "#analysis_two_all[analysis_two_all['cluster_label']==0]\n",
    "\n",
    "\n",
    "#for i in list: \n",
    "#    KM = clustering.fit(analysis_two_all[[i, \"Textiles\"]])\n",
    "#    KM.cluster_centers_\n",
    " #   sns.relplot(x=analysis_two_all[i], y = \"Textiles\", style = \"cluster_label\", s = 80, alpha=.6, data = analysis_two_all)"
   ]
  },
  {
   "cell_type": "code",
   "execution_count": 121,
   "metadata": {},
   "outputs": [
    {
     "data": {
      "text/plain": [
       "<matplotlib.collections.PathCollection at 0x11f0464f0>"
      ]
     },
     "execution_count": 121,
     "metadata": {},
     "output_type": "execute_result"
    },
    {
     "data": {
      "image/png": "iVBORw0KGgoAAAANSUhEUgAAAXAAAAD4CAYAAAD1jb0+AAAAOXRFWHRTb2Z0d2FyZQBNYXRwbG90bGliIHZlcnNpb24zLjMuMiwgaHR0cHM6Ly9tYXRwbG90bGliLm9yZy8vihELAAAACXBIWXMAAAsTAAALEwEAmpwYAAAR5ElEQVR4nO3df5DcdX3H8dcrd8mF/IIkd4SQEC9hCAgOFlkUtWIVFUpT0WmtMKNNK53M1Gptp1Zx0ql2bAfrbx1ntKmkUH+EsQGVOqIEKlBbIGxCCAlHSAIhOZJwlxwJIb8ul3v3j/uGnsft7d7u927vczwfMzu3+/l+d7/v9+zeK9/75vv9rCNCAID0TKh3AQCA6hDgAJAoAhwAEkWAA0CiCHAASFTjaG6subk5WltbR3OTAJC8devW7YuIloHjoxrgra2tKhaLo7lJAEie7WcHG+cQCgAkigAHgEQR4ACQKAIcABJFgANAosoGuO2Vtjtsbxow/nHbW2xvtv3FkSsRADCYSvbAb5F0df8B2++QdK2kiyPiIklfzr80AMBQygZ4RDwgqWvA8J9L+kJEHM/W6RiB2k5tX9++b5s+tfox7X/p+EhtBgCSU+0x8MWS3mb7Ydv3276s1Iq2l9ku2i52dnYOe0MR0oZdB7TrhaN6/kUCHABOqfZKzEZJMyVdLukyST+yvSgG+XaIiFghaYUkFQqFYX97xIQJ1vJrLtS+w8f12rnTqywXAMafagO8XdIdWWCvtd0rqVnS8HexK7Bg9hQtmD1lJF4aAJJV7SGUn0h6pyTZXixpkqR9OdUEAKhA2T1w26sk/Y6kZtvtkj4raaWkldmphd2Slg52+AQAMHLKBnhEXF9i0YdyrgUAMAxciQkAiSLAASBRBDgAJIoAB4BEEeAAkCgCHAASRYADQKIIcABIFAEOAIkiwAEgUQQ4ACSKAAeARBHgAJAoAhwAEkWAA0CiCHAASBQBDgCJKhvgtlfa7si+Pm3gsk/aDtvNI1MeAKCUSvbAb5F09cBB2+dIereknTnXBACoQNkAj4gHJHUNsuhrkj4liS8zBoA6qOoYuO33SnouIh7LuR4AQIXKfiv9QLanSFou6T0Vrr9M0jJJWrBgwXA3BwAooZo98HMlLZT0mO0dkuZLWm/7rMFWjogVEVGIiEJLS0v1lQIAfsOw98Aj4nFJZ556nIV4ISL25VgXAKCMSk4jXCXpQUnn2263fcPIlwUAKKfsHnhEXF9meWtu1QAAKsaVmACQKAIcABJFgANAoghwAEgUAQ4AiSLAASBRBDgAJIoAB4BEEeAAkCgCHAASRYADQKIIcABIFAEOAIkiwAEgUQQ4ACSKAAeARBHgAJAoAhwAElXJd2KutN1he1O/sS/ZftL2Rts/tn3GiFYJAHiFSvbAb5F09YCxNZJeFxEXS3pK0mdyrgsAUEbZAI+IByR1DRi7OyJ6socPSZo/ArUBAIaQxzHwj0i6q9RC28tsF20XOzs7c9gcAECqMcBtL5fUI+kHpdaJiBURUYiIQktLSy2bAwD001jtE20vlbRE0pUREfmVBACoRFUBbvtqSZ+W9PaIOJJvSQCASlRyGuEqSQ9KOt92u+0bJH1L0nRJa2xvsP2dEa4TADBA2T3wiLh+kOGbR6AWAMAwcCUmACSKAAeARBHgAJAoAhwAEkWAA0CiCHBgFPX2hk6c7K13GRgnCHBglESEvnT3Fn3sh+u1+8DRepeDcYAAB0bR7gNHdbT7pA4ePVHvUjAOVD0XCoDhsa2/X3KhXjhyQue2TK13ORgHCHBgFM2e1qTZ05rqXQbGCQ6hAECiCHAASBQBDgCJIsABIFEEOAAkigAHgEQR4ACQqEq+Um2l7Q7bm/qNzbK9xvbW7OfMkS0TADBQJXvgt0i6esDYjZLujYjzJN2bPQYAjKKyAR4RD0jqGjB8raRbs/u3SnpfvmUBAMqp9hj4nIjYI0nZzzNLrWh7me2i7WJnZ2eVmwMADDTi/4kZESsiohARhZaWlpHeHAC8alQb4M/bnitJ2c+O/EoCAFSi2gC/U9LS7P5SST/NpxwAQKUqOY1wlaQHJZ1vu932DZK+IOndtrdKenf2GAAwisrOBx4R15dYdGXOtQAAhoErMQEgUQQ4ACSKAAeARBHgAJAoAhwAEkWAAwmLiHqXgDoiwIFE3dO2VzfcWtTN//30bwR5b2/o9vXtumN9u3p7x2bAH+0+qVv+Z4fu28JF3LUgwIFE3fX4XjU1TtB9T3Xq6ImTL48/f+iYbl/XrtXr2rXvpeN1rLC0J/e+qP/c+Jxu/d8d/BVRg7IX8gAYm5ZcfLZ++PBOXXnBHJ02seHl8TnTJ+uDhXMkSy3Tm+pYYWkXnDVD77tknlpnT5XtepeTLI/mv36FQiGKxeKobQ8AxgPb6yKiMHCcQygAkCgCHAASRYADQKIIcABIFAEOAIkiwAEgUQQ4ACSKAAeARNUU4Lb/2vZm25tsr7I9Oa/CAABDqzrAbc+T9JeSChHxOkkNkq7LqzCMvOKOLj3yzH7mokjMrq4j+sefPaFVa3eO2cmq8P8OHOnWmif2jsi8NLUeQmmUdJrtRklTJO2uvSSMhs5Dx/X1e57SN+7dpo5DY3PCIwzux48+p60dL+mux/eo/YWj9S4HZfx0w259bc1W/eiRXbm/dtUBHhHPSfqypJ2S9kg6GBF3D1zP9jLbRdvFzs7O6itFrs6YMlFvWjhbl7XO1Kypk+pdDobh9eecLkmaM2Oymqfz3o11hdaZ+q1zztDli2bn/tpVT2Zle6ak2yV9UNIBSf8haXVEfL/Uc5jMCsjHC4e7NaWpQU2NDeVXRvJGYjKrd0l6JiI6I+KEpDskvaWG1wNQoZlTJxHeqCnAd0q63PYU903oe6WktnzKAgCUU8sx8IclrZa0XtLj2WutyKkuAEAZNX0jT0R8VtJnc6oFADAMXIkJAIkiwAEgUQQ4ACSKAAeARBHgAJAoAhwASli3o0vff+hZdRw6Vu9SBlXTaYQAMF69cLhb3/rVNnWf7NWeg0f1t1ddUO+SXoE9cAAYxOSJDZo+eaIm2JozfWx+1QF74AAwiNMmNegf3nuR9hw8psVzptW7nEER4ABQwsypkzRzDE+3zCEUAEgUAQ4AiSLAASBRBDgAJIoAB4BEEeAAkCgCHAASVVOA2z7D9mrbT9pus/3mvAoDAAyt1gt5viHpFxHxh7YnSZqSQ00AgApUHeC2Z0i6QtKfSFJEdEvqzqcsAEA5tRxCWSSpU9K/2X7U9ndtTx24ku1ltou2i52dnTVsDgDQXy0B3ijpDZK+HRGXSDos6caBK0XEiogoREShpaWlhs0BAPqrJcDbJbVHxMPZ49XqC3QAwCioOsAjYq+kXbbPz4aulPRELlUBAMqq9SyUj0v6QXYGytOS/rT2kgAAlagpwCNig6RCPqUAAIaDKzEBIFEEOAAkigAHgEQR4ACQKAIcABJFgAOJKu7o0ubdB+tdBuqo1vPAAdTBjx7ZqS/84klNsPWND16it57XXO+SUAfsgQMJ2t75knpOhk6c7NWzXYfrXQ7qhD1wIEF/9rZztefgMU1tatT7L5lX73JQJwQ4kKCW6U365vXMHfdqxyEUAEgUAQ4AiSLAASBRBDgAJIoAB4BEEeAAkCgCHAASVXOA226w/ajtn+VREACgMnnsgX9CUlsOrwMgQS8d71Fvb9S7jFelmgLc9nxJvyfpu/mUAyBPh4/36HN3btanb9+orsPdub/+XZv26KPfX6+b7mpTz8ne3F8fQ6t1D/zrkj4lqeQ7Z3uZ7aLtYmdnZ42bAzAczx04qq0dh7Sr64ie2fdS7q//0NP7NalxgrbsPaQXj/Xk/voYWtUBbnuJpI6IWDfUehGxIiIKEVFoaWmpdnMAqrCoeaqWXHy2rrroLF109um5v/4HLp2v5mmTtOT1Z2vmlIm5vz6G5ojqjl3ZvknShyX1SJosaYakOyLiQ6WeUygUolgsVrU9AHi1sr0uIgoDx6veA4+Iz0TE/IholXSdpP8aKrwBAPniPHAASFQu84FHxH2S7svjtQAAlWEPHAASRYADQKIIcABIFAEOAIkiwAEgUQQ4ACSKAAfGuJ37j+imn7fpnra9L48d7zmpL/7iSS1d+ZAeenp/yece6e7R2me6dLzn5GiUilFGgANj3C8379WGXQf0vQd3vjxt6/aOw7pt7U7d/9R+3Xj7xpIB/eut+3TTz9u0YeeBUawYoyWXC3kAjJwrFreobe+LetPCWZowwZKk1uYpumJxi57YfVAffce5ampsGPS5l7XOUu/bpYvm5T+RFeqv6smsqsFkVgAwfLlPZgUAqC8CHAASRYADQKIIcABIFAEOAIkiwAEgUQQ4ACSKAAeARFUd4LbPsf0r2222N9v+RJ6FAQCGVsseeI+kv4mI10q6XNJf2L4wn7IA7Dl4VMdOlJ6EavPug9r74lEd6e7R3oPHRrEyjBVVz4USEXsk7cnuH7LdJmmepCdyqg141dp78Jg+vXqjfvu8Fi27YtErlm/vOKSlK9dq/szTdOUFc1R89gV95Y9er+ZpTXWoFvWSy2RWtlslXSLp4UGWLZO0TJIWLFiQx+aAce+MKRP19sUtesNrZg66fM7pp+kt587WhXNn6NLWWZo2uVEzJk8c5SpRbzVPZmV7mqT7Jf1TRNwx1LpMZgUAwzcik1nZnijpdkk/KBfeAIB81XIWiiXdLKktIr6aX0kAgErUsgf+VkkflvRO2xuy2zU51QUAKKOWs1B+Lck51gIAGAauxASARBHgAJAoAhwAEkWAA0CiCHAASBQBDoxhJ072qre3tqulMX4R4MAYdaS7R3912wb9ywPb610KxigCHBijGiZYc0+fzAyDKCmX2QgB5K+psUF/t4Qp9lEae+AAkCgCHAASRYADQKIIcABIFAEOAIkiwAEgUQQ4ACSKAAeARNX8rfTD2pjdKenZUdvgyGuWtK/eRYyA8djXeOxJGp99jceepNr6ek1EtAwcHNUAH29sFyOiUO868jYe+xqPPUnjs6/x2JM0Mn1xCAUAEkWAA0CiCPDarKh3ASNkPPY1HnuSxmdf47EnaQT64hg4ACSKPXAASBQBDgCJIsArYPsDtjfb7rVd6Dfeavuo7Q3Z7Tv9ll1q+3Hb22x/07brU31ppfrKln0mq32L7av6jY/5vvqz/Tnbz/V7j67pt2zQHlNg++qs7m22b6x3PbWwvSP7TG2wXczGZtleY3tr9nNmvessx/ZK2x22N/UbK9lHLp+/iOBW5ibptZLOl3SfpEK/8VZJm0o8Z62kN0uypLsk/W69+xhGXxdKekxSk6SFkrZLakilrwE9fk7SJwcZL9njWL9JasjqXSRpUtbHhfWuq4Z+dkhqHjD2RUk3ZvdvlPTP9a6zgj6ukPSG/plQqo+8Pn/sgVcgItoiYkul69ueK2lGRDwYfe/Wv0t630jVV60h+rpW0m0RcTwinpG0TdIbU+mrQoP2WOeaKvVGSdsi4umI6JZ0m/r6GU+ulXRrdv9WJfA5i4gHJHUNGC7VRy6fPwK8dgttP2r7fttvy8bmSWrvt057NpaKeZJ29Xt8qv5U+/qY7Y3Zn7in/oQt1WMKUq59MCHpbtvrbC/LxuZExB5Jyn6eWbfqalOqj1zeQ77UOGP7HklnDbJoeUT8tMTT9khaEBH7bV8q6Se2L1Lf4YWB6nK+ZpV9lap/zPTV31A9Svq2pM+rr87PS/qKpI9ojPZSoZRrH8xbI2K37TMlrbH9ZL0LGgW5vIcEeCYi3lXFc45LOp7dX2d7u6TF6vvXdH6/VedL2p1HncNVTV/qq/+cfo9P1T9m+uqv0h5t/6ukn2UPS/WYgpRrf4WI2J397LD9Y/UdSnje9tyI2JMduuuoa5HVK9VHLu8hh1BqYLvFdkN2f5Gk8yQ9nf2pdMj25dlZGn8sqdTe7lh0p6TrbDfZXqi+vtam2Ff2S3PK+yWdOkNg0B5Hu74qPSLpPNsLbU+SdJ36+kmO7am2p5+6L+k96nuP7pS0NFttqcb452wIpfrI5/NX7/+5TeGmvl/8dvXtbT8v6ZfZ+B9I2qy+/01eL+n3+z2noL4P4nZJ31J21etYupXqK1u2PKt9i/qdaZJCXwN6/J6kxyVtzH5p5pbrMYWbpGskPZXVv7ze9dTQx6Ls9+ex7HdpeTY+W9K9krZmP2fVu9YKelmlvsOqJ7LfqxuG6iOPzx+X0gNAojiEAgCJIsABIFEEOAAkigAHgEQR4ACQKAIcABJFgANAov4Pd20k8tzJcZAAAAAASUVORK5CYII=\n",
      "text/plain": [
       "<Figure size 432x288 with 1 Axes>"
      ]
     },
     "metadata": {
      "needs_background": "light"
     },
     "output_type": "display_data"
    }
   ],
   "source": [
    "plt.scatter(analysis_two_all.agriculture, analysis_two_all.Clothing, s=analysis_two_all.cluster_label, alpha = 0.6)"
   ]
  },
  {
   "cell_type": "code",
   "execution_count": 107,
   "metadata": {},
   "outputs": [
    {
     "data": {
      "text/html": [
       "<div>\n",
       "<style scoped>\n",
       "    .dataframe tbody tr th:only-of-type {\n",
       "        vertical-align: middle;\n",
       "    }\n",
       "\n",
       "    .dataframe tbody tr th {\n",
       "        vertical-align: top;\n",
       "    }\n",
       "\n",
       "    .dataframe thead th {\n",
       "        text-align: right;\n",
       "    }\n",
       "</style>\n",
       "<table border=\"1\" class=\"dataframe\">\n",
       "  <thead>\n",
       "    <tr style=\"text-align: right;\">\n",
       "      <th></th>\n",
       "      <th>agriculture</th>\n",
       "      <th>energy</th>\n",
       "      <th>waste</th>\n",
       "      <th>industrial</th>\n",
       "      <th>bunker fuels</th>\n",
       "      <th>hdi</th>\n",
       "      <th>Cotton</th>\n",
       "      <th>Clothing</th>\n",
       "      <th>Garments</th>\n",
       "      <th>Textiles</th>\n",
       "    </tr>\n",
       "    <tr>\n",
       "      <th>cluster_label</th>\n",
       "      <th></th>\n",
       "      <th></th>\n",
       "      <th></th>\n",
       "      <th></th>\n",
       "      <th></th>\n",
       "      <th></th>\n",
       "      <th></th>\n",
       "      <th></th>\n",
       "      <th></th>\n",
       "      <th></th>\n",
       "    </tr>\n",
       "  </thead>\n",
       "  <tbody>\n",
       "    <tr>\n",
       "      <th>0</th>\n",
       "      <td>2.168000</td>\n",
       "      <td>6.858000</td>\n",
       "      <td>-0.062609</td>\n",
       "      <td>-0.936400</td>\n",
       "      <td>0.606250</td>\n",
       "      <td>0.784040</td>\n",
       "      <td>11.000000</td>\n",
       "      <td>NaN</td>\n",
       "      <td>2.0</td>\n",
       "      <td>8.880000</td>\n",
       "    </tr>\n",
       "    <tr>\n",
       "      <th>1</th>\n",
       "      <td>18.296417</td>\n",
       "      <td>4.342000</td>\n",
       "      <td>0.828583</td>\n",
       "      <td>1.923559</td>\n",
       "      <td>1.599905</td>\n",
       "      <td>0.714792</td>\n",
       "      <td>2.000000</td>\n",
       "      <td>2.333333</td>\n",
       "      <td>2.5</td>\n",
       "      <td>1.476190</td>\n",
       "    </tr>\n",
       "    <tr>\n",
       "      <th>2</th>\n",
       "      <td>-25.901667</td>\n",
       "      <td>28.245000</td>\n",
       "      <td>-1.891667</td>\n",
       "      <td>1.920000</td>\n",
       "      <td>3.806667</td>\n",
       "      <td>0.876333</td>\n",
       "      <td>NaN</td>\n",
       "      <td>10.166667</td>\n",
       "      <td>NaN</td>\n",
       "      <td>9.166667</td>\n",
       "    </tr>\n",
       "    <tr>\n",
       "      <th>3</th>\n",
       "      <td>96.683889</td>\n",
       "      <td>94.012222</td>\n",
       "      <td>1.955278</td>\n",
       "      <td>13.717778</td>\n",
       "      <td>2.367429</td>\n",
       "      <td>0.682750</td>\n",
       "      <td>2.333333</td>\n",
       "      <td>3.333333</td>\n",
       "      <td>6.0</td>\n",
       "      <td>4.166667</td>\n",
       "    </tr>\n",
       "    <tr>\n",
       "      <th>4</th>\n",
       "      <td>19.106667</td>\n",
       "      <td>17.561667</td>\n",
       "      <td>0.475000</td>\n",
       "      <td>1.501667</td>\n",
       "      <td>0.602000</td>\n",
       "      <td>0.707667</td>\n",
       "      <td>2.000000</td>\n",
       "      <td>6.333333</td>\n",
       "      <td>NaN</td>\n",
       "      <td>1.000000</td>\n",
       "    </tr>\n",
       "  </tbody>\n",
       "</table>\n",
       "</div>"
      ],
      "text/plain": [
       "               agriculture     energy     waste  industrial  bunker fuels  \\\n",
       "cluster_label                                                               \n",
       "0                 2.168000   6.858000 -0.062609   -0.936400      0.606250   \n",
       "1                18.296417   4.342000  0.828583    1.923559      1.599905   \n",
       "2               -25.901667  28.245000 -1.891667    1.920000      3.806667   \n",
       "3                96.683889  94.012222  1.955278   13.717778      2.367429   \n",
       "4                19.106667  17.561667  0.475000    1.501667      0.602000   \n",
       "\n",
       "                    hdi     Cotton   Clothing  Garments  Textiles  \n",
       "cluster_label                                                      \n",
       "0              0.784040  11.000000        NaN       2.0  8.880000  \n",
       "1              0.714792   2.000000   2.333333       2.5  1.476190  \n",
       "2              0.876333        NaN  10.166667       NaN  9.166667  \n",
       "3              0.682750   2.333333   3.333333       6.0  4.166667  \n",
       "4              0.707667   2.000000   6.333333       NaN  1.000000  "
      ]
     },
     "execution_count": 107,
     "metadata": {},
     "output_type": "execute_result"
    }
   ],
   "source": [
    "analysis_two_all.groupby('cluster_label').mean()"
   ]
  },
  {
   "cell_type": "code",
   "execution_count": 108,
   "metadata": {},
   "outputs": [
    {
     "data": {
      "text/html": [
       "<div>\n",
       "<style scoped>\n",
       "    .dataframe tbody tr th:only-of-type {\n",
       "        vertical-align: middle;\n",
       "    }\n",
       "\n",
       "    .dataframe tbody tr th {\n",
       "        vertical-align: top;\n",
       "    }\n",
       "\n",
       "    .dataframe thead th {\n",
       "        text-align: right;\n",
       "    }\n",
       "</style>\n",
       "<table border=\"1\" class=\"dataframe\">\n",
       "  <thead>\n",
       "    <tr style=\"text-align: right;\">\n",
       "      <th></th>\n",
       "      <th>country</th>\n",
       "      <th>agriculture</th>\n",
       "      <th>energy</th>\n",
       "      <th>waste</th>\n",
       "      <th>industrial</th>\n",
       "      <th>bunker fuels</th>\n",
       "      <th>hdi</th>\n",
       "      <th>Cotton</th>\n",
       "      <th>Clothing</th>\n",
       "      <th>Garments</th>\n",
       "      <th>Textiles</th>\n",
       "    </tr>\n",
       "    <tr>\n",
       "      <th>cluster_label</th>\n",
       "      <th></th>\n",
       "      <th></th>\n",
       "      <th></th>\n",
       "      <th></th>\n",
       "      <th></th>\n",
       "      <th></th>\n",
       "      <th></th>\n",
       "      <th></th>\n",
       "      <th></th>\n",
       "      <th></th>\n",
       "      <th></th>\n",
       "    </tr>\n",
       "  </thead>\n",
       "  <tbody>\n",
       "    <tr>\n",
       "      <th>0</th>\n",
       "      <td>Belarus</td>\n",
       "      <td>-112.86</td>\n",
       "      <td>-80.06</td>\n",
       "      <td>-19.85</td>\n",
       "      <td>-28.90</td>\n",
       "      <td>-3.84</td>\n",
       "      <td>0.528</td>\n",
       "      <td>11.0</td>\n",
       "      <td>NaN</td>\n",
       "      <td>2.0</td>\n",
       "      <td>7.0</td>\n",
       "    </tr>\n",
       "    <tr>\n",
       "      <th>1</th>\n",
       "      <td>Afghanistan</td>\n",
       "      <td>-610.26</td>\n",
       "      <td>-612.04</td>\n",
       "      <td>-7.33</td>\n",
       "      <td>-2.61</td>\n",
       "      <td>-1.30</td>\n",
       "      <td>0.397</td>\n",
       "      <td>2.0</td>\n",
       "      <td>1.0</td>\n",
       "      <td>2.0</td>\n",
       "      <td>1.0</td>\n",
       "    </tr>\n",
       "    <tr>\n",
       "      <th>2</th>\n",
       "      <td>Denmark</td>\n",
       "      <td>-184.43</td>\n",
       "      <td>-12.79</td>\n",
       "      <td>-7.54</td>\n",
       "      <td>-3.24</td>\n",
       "      <td>-2.37</td>\n",
       "      <td>0.777</td>\n",
       "      <td>NaN</td>\n",
       "      <td>8.0</td>\n",
       "      <td>NaN</td>\n",
       "      <td>6.0</td>\n",
       "    </tr>\n",
       "    <tr>\n",
       "      <th>3</th>\n",
       "      <td>Angola</td>\n",
       "      <td>-47.48</td>\n",
       "      <td>-37.12</td>\n",
       "      <td>-2.18</td>\n",
       "      <td>-16.13</td>\n",
       "      <td>-0.17</td>\n",
       "      <td>0.394</td>\n",
       "      <td>1.0</td>\n",
       "      <td>3.0</td>\n",
       "      <td>5.0</td>\n",
       "      <td>3.0</td>\n",
       "    </tr>\n",
       "    <tr>\n",
       "      <th>4</th>\n",
       "      <td>Colombia</td>\n",
       "      <td>-1.05</td>\n",
       "      <td>0.01</td>\n",
       "      <td>0.07</td>\n",
       "      <td>0.00</td>\n",
       "      <td>-0.02</td>\n",
       "      <td>0.496</td>\n",
       "      <td>2.0</td>\n",
       "      <td>4.0</td>\n",
       "      <td>NaN</td>\n",
       "      <td>1.0</td>\n",
       "    </tr>\n",
       "  </tbody>\n",
       "</table>\n",
       "</div>"
      ],
      "text/plain": [
       "                   country  agriculture  energy  waste  industrial  \\\n",
       "cluster_label                                                        \n",
       "0                  Belarus      -112.86  -80.06 -19.85      -28.90   \n",
       "1              Afghanistan      -610.26 -612.04  -7.33       -2.61   \n",
       "2                  Denmark      -184.43  -12.79  -7.54       -3.24   \n",
       "3                   Angola       -47.48  -37.12  -2.18      -16.13   \n",
       "4                 Colombia        -1.05    0.01   0.07        0.00   \n",
       "\n",
       "               bunker fuels    hdi  Cotton  Clothing  Garments  Textiles  \n",
       "cluster_label                                                             \n",
       "0                     -3.84  0.528    11.0       NaN       2.0       7.0  \n",
       "1                     -1.30  0.397     2.0       1.0       2.0       1.0  \n",
       "2                     -2.37  0.777     NaN       8.0       NaN       6.0  \n",
       "3                     -0.17  0.394     1.0       3.0       5.0       3.0  \n",
       "4                     -0.02  0.496     2.0       4.0       NaN       1.0  "
      ]
     },
     "execution_count": 108,
     "metadata": {},
     "output_type": "execute_result"
    }
   ],
   "source": [
    "analysis_two_all.groupby('cluster_label').min()"
   ]
  },
  {
   "cell_type": "code",
   "execution_count": 109,
   "metadata": {},
   "outputs": [
    {
     "data": {
      "text/html": [
       "<div>\n",
       "<style scoped>\n",
       "    .dataframe tbody tr th:only-of-type {\n",
       "        vertical-align: middle;\n",
       "    }\n",
       "\n",
       "    .dataframe tbody tr th {\n",
       "        vertical-align: top;\n",
       "    }\n",
       "\n",
       "    .dataframe thead th {\n",
       "        text-align: right;\n",
       "    }\n",
       "</style>\n",
       "<table border=\"1\" class=\"dataframe\">\n",
       "  <thead>\n",
       "    <tr style=\"text-align: right;\">\n",
       "      <th></th>\n",
       "      <th>country</th>\n",
       "      <th>agriculture</th>\n",
       "      <th>energy</th>\n",
       "      <th>waste</th>\n",
       "      <th>industrial</th>\n",
       "      <th>bunker fuels</th>\n",
       "      <th>hdi</th>\n",
       "      <th>Cotton</th>\n",
       "      <th>Clothing</th>\n",
       "      <th>Garments</th>\n",
       "      <th>Textiles</th>\n",
       "    </tr>\n",
       "    <tr>\n",
       "      <th>cluster_label</th>\n",
       "      <th></th>\n",
       "      <th></th>\n",
       "      <th></th>\n",
       "      <th></th>\n",
       "      <th></th>\n",
       "      <th></th>\n",
       "      <th></th>\n",
       "      <th></th>\n",
       "      <th></th>\n",
       "      <th></th>\n",
       "      <th></th>\n",
       "    </tr>\n",
       "  </thead>\n",
       "  <tbody>\n",
       "    <tr>\n",
       "      <th>0</th>\n",
       "      <td>Zambia</td>\n",
       "      <td>80.42</td>\n",
       "      <td>119.75</td>\n",
       "      <td>22.86</td>\n",
       "      <td>6.74</td>\n",
       "      <td>8.89</td>\n",
       "      <td>0.957</td>\n",
       "      <td>11.0</td>\n",
       "      <td>NaN</td>\n",
       "      <td>2.0</td>\n",
       "      <td>15.0</td>\n",
       "    </tr>\n",
       "    <tr>\n",
       "      <th>1</th>\n",
       "      <td>Yemen</td>\n",
       "      <td>1029.15</td>\n",
       "      <td>960.57</td>\n",
       "      <td>18.23</td>\n",
       "      <td>36.31</td>\n",
       "      <td>27.61</td>\n",
       "      <td>0.955</td>\n",
       "      <td>2.0</td>\n",
       "      <td>3.0</td>\n",
       "      <td>3.0</td>\n",
       "      <td>2.0</td>\n",
       "    </tr>\n",
       "    <tr>\n",
       "      <th>2</th>\n",
       "      <td>United Kingdom</td>\n",
       "      <td>99.48</td>\n",
       "      <td>123.41</td>\n",
       "      <td>0.17</td>\n",
       "      <td>13.71</td>\n",
       "      <td>13.70</td>\n",
       "      <td>0.940</td>\n",
       "      <td>NaN</td>\n",
       "      <td>16.0</td>\n",
       "      <td>NaN</td>\n",
       "      <td>15.0</td>\n",
       "    </tr>\n",
       "    <tr>\n",
       "      <th>3</th>\n",
       "      <td>Uruguay</td>\n",
       "      <td>3250.16</td>\n",
       "      <td>3095.94</td>\n",
       "      <td>57.18</td>\n",
       "      <td>476.61</td>\n",
       "      <td>62.29</td>\n",
       "      <td>0.955</td>\n",
       "      <td>4.0</td>\n",
       "      <td>4.0</td>\n",
       "      <td>7.0</td>\n",
       "      <td>6.0</td>\n",
       "    </tr>\n",
       "    <tr>\n",
       "      <th>4</th>\n",
       "      <td>Zimbabwe</td>\n",
       "      <td>83.42</td>\n",
       "      <td>100.69</td>\n",
       "      <td>0.83</td>\n",
       "      <td>6.56</td>\n",
       "      <td>1.96</td>\n",
       "      <td>0.895</td>\n",
       "      <td>2.0</td>\n",
       "      <td>9.0</td>\n",
       "      <td>NaN</td>\n",
       "      <td>1.0</td>\n",
       "    </tr>\n",
       "  </tbody>\n",
       "</table>\n",
       "</div>"
      ],
      "text/plain": [
       "                      country  agriculture   energy  waste  industrial  \\\n",
       "cluster_label                                                            \n",
       "0                      Zambia        80.42   119.75  22.86        6.74   \n",
       "1                       Yemen      1029.15   960.57  18.23       36.31   \n",
       "2              United Kingdom        99.48   123.41   0.17       13.71   \n",
       "3                     Uruguay      3250.16  3095.94  57.18      476.61   \n",
       "4                    Zimbabwe        83.42   100.69   0.83        6.56   \n",
       "\n",
       "               bunker fuels    hdi  Cotton  Clothing  Garments  Textiles  \n",
       "cluster_label                                                             \n",
       "0                      8.89  0.957    11.0       NaN       2.0      15.0  \n",
       "1                     27.61  0.955     2.0       3.0       3.0       2.0  \n",
       "2                     13.70  0.940     NaN      16.0       NaN      15.0  \n",
       "3                     62.29  0.955     4.0       4.0       7.0       6.0  \n",
       "4                      1.96  0.895     2.0       9.0       NaN       1.0  "
      ]
     },
     "execution_count": 109,
     "metadata": {},
     "output_type": "execute_result"
    }
   ],
   "source": [
    "analysis_two_all.groupby('cluster_label').max()"
   ]
  },
  {
   "cell_type": "code",
   "execution_count": 90,
   "metadata": {},
   "outputs": [
    {
     "data": {
      "text/plain": [
       "country           object\n",
       "agriculture       object\n",
       "energy            object\n",
       "waste             object\n",
       "industrial        object\n",
       "bunker fuels      object\n",
       "hdi              float64\n",
       "Cotton           float64\n",
       "Clothing         float64\n",
       "Garments         float64\n",
       "Textiles         float64\n",
       "cluster_label      int32\n",
       "dtype: object"
      ]
     },
     "execution_count": 90,
     "metadata": {},
     "output_type": "execute_result"
    }
   ],
   "source": [
    "analysis_two_all.dtypes"
   ]
  },
  {
   "cell_type": "code",
   "execution_count": null,
   "metadata": {},
   "outputs": [],
   "source": []
  }
 ],
 "metadata": {
  "kernelspec": {
   "display_name": "Python 3",
   "language": "python",
   "name": "python3"
  },
  "language_info": {
   "codemirror_mode": {
    "name": "ipython",
    "version": 3
   },
   "file_extension": ".py",
   "mimetype": "text/x-python",
   "name": "python",
   "nbconvert_exporter": "python",
   "pygments_lexer": "ipython3",
   "version": "3.8.5"
  }
 },
 "nbformat": 4,
 "nbformat_minor": 4
}
