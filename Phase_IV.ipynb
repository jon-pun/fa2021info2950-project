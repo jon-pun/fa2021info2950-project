{
 "cells": [
  {
   "cell_type": "markdown",
   "metadata": {},
   "source": [
    "## analysis one\n",
    "\n",
    "in this analysis, we will analyze correlation between HDI (human development index) and GHG emissions per economic sector (i.e. manufacturing, bunker fuel, etc)."
   ]
  },
  {
   "cell_type": "code",
   "execution_count": 109,
   "metadata": {},
   "outputs": [],
   "source": [
    "## load libraries\n",
    "\n",
    "## our old friends...\n",
    "import numpy as np\n",
    "import pandas as pd\n",
    "import matplotlib.pyplot as plt\n",
    "\n",
    "## ...and some new ones\n",
    "import seaborn as sns\n",
    "\n",
    "\n",
    "## load CSVs\n",
    "agriculture=pd.read_csv('agriculture.csv', na_values={'false','False','FALSE'})\n",
    "energy=pd.read_csv('energy.csv',  na_values={'false','False','FALSE'})\n",
    "waste=pd.read_csv('waste.csv',   na_values={'false','False','FALSE'})\n",
    "industrial=pd.read_csv('industrial-processes.csv',  na_values={'false','False','FALSE'})\n",
    "bunker_fuels=pd.read_csv('bunker-fuels.csv',  na_values={'false','False','FALSE'})"
   ]
  },
  {
   "cell_type": "code",
   "execution_count": 110,
   "metadata": {},
   "outputs": [],
   "source": [
    "## load HDI data\n",
    "hdi = pd.read_csv('Human Development Index (HDI)-2.csv', header = 5)\n",
    "cols = {'Country', '2019'} # subset to just keep 2019 hdis\n",
    "hdi = hdi[cols] # keeping only relevant data\n",
    "\n",
    "hdi['Country'] = hdi['Country'].str.strip(' ')\n",
    "\n",
    "hdi = hdi.rename(columns={'Country': 'country', '2019': 'hdi'})"
   ]
  },
  {
   "cell_type": "code",
   "execution_count": 111,
   "metadata": {},
   "outputs": [
    {
     "data": {
      "text/html": [
       "<div>\n",
       "<style scoped>\n",
       "    .dataframe tbody tr th:only-of-type {\n",
       "        vertical-align: middle;\n",
       "    }\n",
       "\n",
       "    .dataframe tbody tr th {\n",
       "        vertical-align: top;\n",
       "    }\n",
       "\n",
       "    .dataframe thead th {\n",
       "        text-align: right;\n",
       "    }\n",
       "</style>\n",
       "<table border=\"1\" class=\"dataframe\">\n",
       "  <thead>\n",
       "    <tr style=\"text-align: right;\">\n",
       "      <th></th>\n",
       "      <th>hdi</th>\n",
       "      <th>country</th>\n",
       "    </tr>\n",
       "  </thead>\n",
       "  <tbody>\n",
       "    <tr>\n",
       "      <th>0</th>\n",
       "      <td>0.511</td>\n",
       "      <td>Afghanistan</td>\n",
       "    </tr>\n",
       "    <tr>\n",
       "      <th>1</th>\n",
       "      <td>0.795</td>\n",
       "      <td>Albania</td>\n",
       "    </tr>\n",
       "    <tr>\n",
       "      <th>2</th>\n",
       "      <td>0.748</td>\n",
       "      <td>Algeria</td>\n",
       "    </tr>\n",
       "    <tr>\n",
       "      <th>3</th>\n",
       "      <td>0.868</td>\n",
       "      <td>Andorra</td>\n",
       "    </tr>\n",
       "    <tr>\n",
       "      <th>4</th>\n",
       "      <td>0.581</td>\n",
       "      <td>Angola</td>\n",
       "    </tr>\n",
       "  </tbody>\n",
       "</table>\n",
       "</div>"
      ],
      "text/plain": [
       "     hdi      country\n",
       "0  0.511  Afghanistan\n",
       "1  0.795      Albania\n",
       "2  0.748      Algeria\n",
       "3  0.868      Andorra\n",
       "4  0.581       Angola"
      ]
     },
     "execution_count": 111,
     "metadata": {},
     "output_type": "execute_result"
    }
   ],
   "source": [
    "hdi.head()"
   ]
  },
  {
   "cell_type": "code",
   "execution_count": 112,
   "metadata": {},
   "outputs": [],
   "source": [
    "agriculture = agriculture.sort_values('Country/Region')\n",
    "energy = energy.sort_values('Country/Region')\n",
    "waste = waste.sort_values('Country/Region')\n",
    "industrial = industrial.sort_values('Country/Region')\n",
    "bunker_fuels = bunker_fuels.sort_values('Country/Region')\n",
    "\n",
    "ag_ghgchange = (agriculture['2018']-agriculture['2008'])\n",
    "energy_ghgchange = (energy['2018']-energy['2008'])\n",
    "waste_ghgchange = (waste['2018']-waste['2008'])\n",
    "industrial_ghgchange = (industrial['2008']-industrial['1998'])\n",
    "bunker_ghgchange = (bunker_fuels['2008']-bunker_fuels['1998'])"
   ]
  },
  {
   "cell_type": "code",
   "execution_count": 113,
   "metadata": {},
   "outputs": [
    {
     "data": {
      "text/html": [
       "<div>\n",
       "<style scoped>\n",
       "    .dataframe tbody tr th:only-of-type {\n",
       "        vertical-align: middle;\n",
       "    }\n",
       "\n",
       "    .dataframe tbody tr th {\n",
       "        vertical-align: top;\n",
       "    }\n",
       "\n",
       "    .dataframe thead th {\n",
       "        text-align: right;\n",
       "    }\n",
       "</style>\n",
       "<table border=\"1\" class=\"dataframe\">\n",
       "  <thead>\n",
       "    <tr style=\"text-align: right;\">\n",
       "      <th></th>\n",
       "      <th>country</th>\n",
       "      <th>agriculture</th>\n",
       "      <th>energy</th>\n",
       "      <th>waste</th>\n",
       "      <th>industrial</th>\n",
       "      <th>bunker fuels</th>\n",
       "    </tr>\n",
       "  </thead>\n",
       "  <tbody>\n",
       "    <tr>\n",
       "      <th>57</th>\n",
       "      <td>Afghanistan</td>\n",
       "      <td>67.42</td>\n",
       "      <td>-4.08</td>\n",
       "      <td>-0.8</td>\n",
       "      <td>0.54</td>\n",
       "      <td>-1.3</td>\n",
       "    </tr>\n",
       "    <tr>\n",
       "      <th>145</th>\n",
       "      <td>Albania</td>\n",
       "      <td>2.17</td>\n",
       "      <td>0.68</td>\n",
       "      <td>0.95</td>\n",
       "      <td>0.05</td>\n",
       "      <td>-0.03</td>\n",
       "    </tr>\n",
       "    <tr>\n",
       "      <th>38</th>\n",
       "      <td>Algeria</td>\n",
       "      <td>58.44</td>\n",
       "      <td>-17.34</td>\n",
       "      <td>-0.39</td>\n",
       "      <td>5.61</td>\n",
       "      <td>0.56</td>\n",
       "    </tr>\n",
       "    <tr>\n",
       "      <th>177</th>\n",
       "      <td>Andorra</td>\n",
       "      <td>-0.05</td>\n",
       "      <td>0.15</td>\n",
       "      <td>0.08</td>\n",
       "      <td>0</td>\n",
       "      <td>0</td>\n",
       "    </tr>\n",
       "    <tr>\n",
       "      <th>47</th>\n",
       "      <td>Angola</td>\n",
       "      <td>1.2</td>\n",
       "      <td>64.3</td>\n",
       "      <td>-2.18</td>\n",
       "      <td>1.13</td>\n",
       "      <td>1.59</td>\n",
       "    </tr>\n",
       "    <tr>\n",
       "      <th>...</th>\n",
       "      <td>...</td>\n",
       "      <td>...</td>\n",
       "      <td>...</td>\n",
       "      <td>...</td>\n",
       "      <td>...</td>\n",
       "      <td>...</td>\n",
       "    </tr>\n",
       "    <tr>\n",
       "      <th>29</th>\n",
       "      <td>Venezuela</td>\n",
       "      <td>-67.4</td>\n",
       "      <td>44.14</td>\n",
       "      <td>0.62</td>\n",
       "      <td>6.66</td>\n",
       "      <td>1.41</td>\n",
       "    </tr>\n",
       "    <tr>\n",
       "      <th>23</th>\n",
       "      <td>Vietnam</td>\n",
       "      <td>126.44</td>\n",
       "      <td>126.77</td>\n",
       "      <td>1.21</td>\n",
       "      <td>3.64</td>\n",
       "      <td>-0.78</td>\n",
       "    </tr>\n",
       "    <tr>\n",
       "      <th>122</th>\n",
       "      <td>Yemen</td>\n",
       "      <td>-11.3</td>\n",
       "      <td>4.3</td>\n",
       "      <td>0.34</td>\n",
       "      <td>0.22</td>\n",
       "      <td>-0.03</td>\n",
       "    </tr>\n",
       "    <tr>\n",
       "      <th>59</th>\n",
       "      <td>Zambia</td>\n",
       "      <td>27.67</td>\n",
       "      <td>-5.72</td>\n",
       "      <td>0.52</td>\n",
       "      <td>0.89</td>\n",
       "      <td>0.63</td>\n",
       "    </tr>\n",
       "    <tr>\n",
       "      <th>49</th>\n",
       "      <td>Zimbabwe</td>\n",
       "      <td>83.42</td>\n",
       "      <td>4.39</td>\n",
       "      <td>0.78</td>\n",
       "      <td>2.39</td>\n",
       "      <td>1.06</td>\n",
       "    </tr>\n",
       "  </tbody>\n",
       "</table>\n",
       "<p>195 rows × 6 columns</p>\n",
       "</div>"
      ],
      "text/plain": [
       "         country agriculture  energy waste industrial bunker fuels\n",
       "57   Afghanistan       67.42   -4.08  -0.8       0.54         -1.3\n",
       "145      Albania        2.17    0.68  0.95       0.05        -0.03\n",
       "38       Algeria       58.44  -17.34 -0.39       5.61         0.56\n",
       "177      Andorra       -0.05    0.15  0.08          0            0\n",
       "47        Angola         1.2    64.3 -2.18       1.13         1.59\n",
       "..           ...         ...     ...   ...        ...          ...\n",
       "29     Venezuela       -67.4   44.14  0.62       6.66         1.41\n",
       "23       Vietnam      126.44  126.77  1.21       3.64        -0.78\n",
       "122        Yemen       -11.3     4.3  0.34       0.22        -0.03\n",
       "59        Zambia       27.67   -5.72  0.52       0.89         0.63\n",
       "49      Zimbabwe       83.42    4.39  0.78       2.39         1.06\n",
       "\n",
       "[195 rows x 6 columns]"
      ]
     },
     "execution_count": 113,
     "metadata": {},
     "output_type": "execute_result"
    }
   ],
   "source": [
    "data_ghgchange = {'country': agriculture['Country/Region'].str.strip(' '), 'agriculture': ag_ghgchange, 'energy': energy_ghgchange,\n",
    "                  'waste': waste_ghgchange, 'industrial': industrial_ghgchange, 'bunker fuels': bunker_ghgchange}\n",
    "df_ghgchange = pd.DataFrame.from_dict(data_ghgchange, orient = 'index')\n",
    "df_ghgchange = df_ghgchange.transpose()\n",
    "\n",
    "df_ghgchange"
   ]
  },
  {
   "cell_type": "code",
   "execution_count": 114,
   "metadata": {},
   "outputs": [
    {
     "data": {
      "text/plain": [
       "<AxesSubplot:xlabel='hdi', ylabel='agriculture'>"
      ]
     },
     "execution_count": 114,
     "metadata": {},
     "output_type": "execute_result"
    },
    {
     "data": {
      "image/png": "[encoded data removed]",
      "text/plain": [
       "<Figure size 432x288 with 1 Axes>"
      ]
     },
     "metadata": {
      "needs_background": "light"
     },
     "output_type": "display_data"
    }
   ],
   "source": [
    "analysis_one = hdi.merge(df_ghgchange, on = 'country')\n",
    "\n",
    "analysis_one = analysis_one[analysis_one['agriculture'] < 50]\n",
    "\n",
    "sns.scatterplot(data = analysis_one, x = \"hdi\", y = \"agriculture\")"
   ]
  },
  {
   "cell_type": "markdown",
   "metadata": {},
   "source": [
    "Dear Diane and Jon,\n",
    "    We are stealing your data frame. We renamed it as a new variable so we can use it later before you drop the country "
   ]
  },
  {
   "cell_type": "code",
   "execution_count": 115,
   "metadata": {},
   "outputs": [],
   "source": [
    "second_analysis_one=analysis_one\n",
    "analysis_one = analysis_one.drop(['country'], axis = 1)\n",
    "analysis_one = analysis_one.astype(float)"
   ]
  },
  {
   "cell_type": "code",
   "execution_count": 116,
   "metadata": {},
   "outputs": [
    {
     "data": {
      "text/html": [
       "<div>\n",
       "<style scoped>\n",
       "    .dataframe tbody tr th:only-of-type {\n",
       "        vertical-align: middle;\n",
       "    }\n",
       "\n",
       "    .dataframe tbody tr th {\n",
       "        vertical-align: top;\n",
       "    }\n",
       "\n",
       "    .dataframe thead th {\n",
       "        text-align: right;\n",
       "    }\n",
       "</style>\n",
       "<table border=\"1\" class=\"dataframe\">\n",
       "  <thead>\n",
       "    <tr style=\"text-align: right;\">\n",
       "      <th></th>\n",
       "      <th>hdi</th>\n",
       "      <th>agriculture</th>\n",
       "      <th>energy</th>\n",
       "      <th>waste</th>\n",
       "      <th>industrial</th>\n",
       "      <th>bunker fuels</th>\n",
       "    </tr>\n",
       "  </thead>\n",
       "  <tbody>\n",
       "    <tr>\n",
       "      <th>hdi</th>\n",
       "      <td>1.000000</td>\n",
       "      <td>-0.312070</td>\n",
       "      <td>0.135556</td>\n",
       "      <td>0.030513</td>\n",
       "      <td>0.067183</td>\n",
       "      <td>-0.027572</td>\n",
       "    </tr>\n",
       "    <tr>\n",
       "      <th>agriculture</th>\n",
       "      <td>-0.312070</td>\n",
       "      <td>1.000000</td>\n",
       "      <td>-0.070286</td>\n",
       "      <td>0.030426</td>\n",
       "      <td>0.133120</td>\n",
       "      <td>-0.002558</td>\n",
       "    </tr>\n",
       "    <tr>\n",
       "      <th>energy</th>\n",
       "      <td>0.135556</td>\n",
       "      <td>-0.070286</td>\n",
       "      <td>1.000000</td>\n",
       "      <td>0.092365</td>\n",
       "      <td>0.248048</td>\n",
       "      <td>0.194022</td>\n",
       "    </tr>\n",
       "    <tr>\n",
       "      <th>waste</th>\n",
       "      <td>0.030513</td>\n",
       "      <td>0.030426</td>\n",
       "      <td>0.092365</td>\n",
       "      <td>1.000000</td>\n",
       "      <td>0.084119</td>\n",
       "      <td>0.009608</td>\n",
       "    </tr>\n",
       "    <tr>\n",
       "      <th>industrial</th>\n",
       "      <td>0.067183</td>\n",
       "      <td>0.133120</td>\n",
       "      <td>0.248048</td>\n",
       "      <td>0.084119</td>\n",
       "      <td>1.000000</td>\n",
       "      <td>0.318410</td>\n",
       "    </tr>\n",
       "    <tr>\n",
       "      <th>bunker fuels</th>\n",
       "      <td>-0.027572</td>\n",
       "      <td>-0.002558</td>\n",
       "      <td>0.194022</td>\n",
       "      <td>0.009608</td>\n",
       "      <td>0.318410</td>\n",
       "      <td>1.000000</td>\n",
       "    </tr>\n",
       "  </tbody>\n",
       "</table>\n",
       "</div>"
      ],
      "text/plain": [
       "                   hdi  agriculture    energy     waste  industrial  \\\n",
       "hdi           1.000000    -0.312070  0.135556  0.030513    0.067183   \n",
       "agriculture  -0.312070     1.000000 -0.070286  0.030426    0.133120   \n",
       "energy        0.135556    -0.070286  1.000000  0.092365    0.248048   \n",
       "waste         0.030513     0.030426  0.092365  1.000000    0.084119   \n",
       "industrial    0.067183     0.133120  0.248048  0.084119    1.000000   \n",
       "bunker fuels -0.027572    -0.002558  0.194022  0.009608    0.318410   \n",
       "\n",
       "              bunker fuels  \n",
       "hdi              -0.027572  \n",
       "agriculture      -0.002558  \n",
       "energy            0.194022  \n",
       "waste             0.009608  \n",
       "industrial        0.318410  \n",
       "bunker fuels      1.000000  "
      ]
     },
     "execution_count": 116,
     "metadata": {},
     "output_type": "execute_result"
    }
   ],
   "source": [
    "analysis_one.corr(method = 'spearman')"
   ]
  },
  {
   "cell_type": "code",
   "execution_count": 117,
   "metadata": {},
   "outputs": [
    {
     "data": {
      "text/plain": [
       "dtype('float64')"
      ]
     },
     "execution_count": 117,
     "metadata": {},
     "output_type": "execute_result"
    }
   ],
   "source": [
    "analysis_one.hdi.dtype"
   ]
  },
  {
   "cell_type": "code",
   "execution_count": 118,
   "metadata": {},
   "outputs": [
    {
     "data": {
      "image/png": "[encoded data removed]",
      "text/plain": [
       "<Figure size 432x288 with 2 Axes>"
      ]
     },
     "metadata": {
      "needs_background": "light"
     },
     "output_type": "display_data"
    }
   ],
   "source": [
    "sns.heatmap(analysis_one.corr(method = 'spearman'), center=0, cmap='coolwarm')\n",
    "plt.tight_layout()\n",
    "plt.show()"
   ]
  },
  {
   "cell_type": "markdown",
   "metadata": {},
   "source": [
    "# Analysis Two"
   ]
  },
  {
   "cell_type": "code",
   "execution_count": 119,
   "metadata": {},
   "outputs": [],
   "source": [
    "industry_data=pd.read_csv('CIA_industry_data.csv')\n",
    "industry_data=industry_data.rename(columns={'Country/Region': 'country'})\n",
    "industry_data=industry_data.drop(columns='Jute')"
   ]
  },
  {
   "cell_type": "code",
   "execution_count": 120,
   "metadata": {},
   "outputs": [
    {
     "data": {
      "text/html": [
       "<div>\n",
       "<style scoped>\n",
       "    .dataframe tbody tr th:only-of-type {\n",
       "        vertical-align: middle;\n",
       "    }\n",
       "\n",
       "    .dataframe tbody tr th {\n",
       "        vertical-align: top;\n",
       "    }\n",
       "\n",
       "    .dataframe thead th {\n",
       "        text-align: right;\n",
       "    }\n",
       "</style>\n",
       "<table border=\"1\" class=\"dataframe\">\n",
       "  <thead>\n",
       "    <tr style=\"text-align: right;\">\n",
       "      <th></th>\n",
       "      <th>country</th>\n",
       "      <th>Cotton</th>\n",
       "      <th>Clothing</th>\n",
       "      <th>Garments</th>\n",
       "      <th>Textiles</th>\n",
       "    </tr>\n",
       "  </thead>\n",
       "  <tbody>\n",
       "    <tr>\n",
       "      <th>0</th>\n",
       "      <td>Afghanistan</td>\n",
       "      <td>NaN</td>\n",
       "      <td>NaN</td>\n",
       "      <td>NaN</td>\n",
       "      <td>2.0</td>\n",
       "    </tr>\n",
       "    <tr>\n",
       "      <th>1</th>\n",
       "      <td>Albania</td>\n",
       "      <td>NaN</td>\n",
       "      <td>2.0</td>\n",
       "      <td>NaN</td>\n",
       "      <td>NaN</td>\n",
       "    </tr>\n",
       "    <tr>\n",
       "      <th>2</th>\n",
       "      <td>Algeria</td>\n",
       "      <td>NaN</td>\n",
       "      <td>NaN</td>\n",
       "      <td>NaN</td>\n",
       "      <td>NaN</td>\n",
       "    </tr>\n",
       "    <tr>\n",
       "      <th>3</th>\n",
       "      <td>Andorra</td>\n",
       "      <td>NaN</td>\n",
       "      <td>NaN</td>\n",
       "      <td>NaN</td>\n",
       "      <td>NaN</td>\n",
       "    </tr>\n",
       "    <tr>\n",
       "      <th>4</th>\n",
       "      <td>Angola</td>\n",
       "      <td>NaN</td>\n",
       "      <td>NaN</td>\n",
       "      <td>NaN</td>\n",
       "      <td>5.0</td>\n",
       "    </tr>\n",
       "  </tbody>\n",
       "</table>\n",
       "</div>"
      ],
      "text/plain": [
       "       country  Cotton  Clothing  Garments  Textiles\n",
       "0  Afghanistan     NaN       NaN       NaN       2.0\n",
       "1      Albania     NaN       2.0       NaN       NaN\n",
       "2      Algeria     NaN       NaN       NaN       NaN\n",
       "3      Andorra     NaN       NaN       NaN       NaN\n",
       "4       Angola     NaN       NaN       NaN       5.0"
      ]
     },
     "execution_count": 120,
     "metadata": {},
     "output_type": "execute_result"
    }
   ],
   "source": [
    "industry_data.head()"
   ]
  },
  {
   "cell_type": "code",
   "execution_count": 121,
   "metadata": {},
   "outputs": [],
   "source": [
    "hdi = pd.read_csv('Human Development Index (HDI)-2.csv', header = 5)\n",
    "cols = {'Country', '2019'} # subset to just keep 2019 hdis\n",
    "hdi = hdi[cols] # keeping only relevant data\n",
    "\n",
    "hdi['Country'] = hdi['Country'].str.strip(' ')\n",
    "\n",
    "hdi = hdi.rename(columns={'Country': 'country', '2019': 'hdi'})"
   ]
  },
  {
   "cell_type": "code",
   "execution_count": 130,
   "metadata": {},
   "outputs": [
    {
     "name": "stdout",
     "output_type": "stream",
     "text": [
      "(207, 6)\n",
      "object\n",
      "0      0.511\n",
      "1      0.795\n",
      "2      0.748\n",
      "3      0.868\n",
      "4      0.581\n",
      "       ...  \n",
      "202    0.538\n",
      "203    0.728\n",
      "204    0.900\n",
      "205    0.737\n",
      "206      NaN\n",
      "Name: hdi, Length: 207, dtype: object\n",
      "<class 'numpy.float64'>\n"
     ]
    }
   ],
   "source": [
    "analysis_two=hdi.merge(industry_data, how='left', on='country')\n",
    "print(analysis_two.shape)\n",
    "print(analysis_two.hdi.dtype)\n",
    "print(analysis_two.hdi)\n",
    "print(type(analysis_two.iloc[1,2]))\n",
    "# print()\n",
    "# analysis_two=analysis_two[analysis_two['hdi']]"
   ]
  },
  {
   "cell_type": "code",
   "execution_count": 131,
   "metadata": {},
   "outputs": [
    {
     "data": {
      "text/html": [
       "<div>\n",
       "<style scoped>\n",
       "    .dataframe tbody tr th:only-of-type {\n",
       "        vertical-align: middle;\n",
       "    }\n",
       "\n",
       "    .dataframe tbody tr th {\n",
       "        vertical-align: top;\n",
       "    }\n",
       "\n",
       "    .dataframe thead th {\n",
       "        text-align: right;\n",
       "    }\n",
       "</style>\n",
       "<table border=\"1\" class=\"dataframe\">\n",
       "  <thead>\n",
       "    <tr style=\"text-align: right;\">\n",
       "      <th></th>\n",
       "      <th>hdi</th>\n",
       "      <th>country</th>\n",
       "      <th>Cotton</th>\n",
       "      <th>Clothing</th>\n",
       "      <th>Garments</th>\n",
       "      <th>Textiles</th>\n",
       "    </tr>\n",
       "  </thead>\n",
       "  <tbody>\n",
       "    <tr>\n",
       "      <th>0</th>\n",
       "      <td>0.511</td>\n",
       "      <td>Afghanistan</td>\n",
       "      <td>NaN</td>\n",
       "      <td>NaN</td>\n",
       "      <td>NaN</td>\n",
       "      <td>2.0</td>\n",
       "    </tr>\n",
       "    <tr>\n",
       "      <th>1</th>\n",
       "      <td>0.795</td>\n",
       "      <td>Albania</td>\n",
       "      <td>NaN</td>\n",
       "      <td>2.0</td>\n",
       "      <td>NaN</td>\n",
       "      <td>NaN</td>\n",
       "    </tr>\n",
       "    <tr>\n",
       "      <th>2</th>\n",
       "      <td>0.748</td>\n",
       "      <td>Algeria</td>\n",
       "      <td>NaN</td>\n",
       "      <td>NaN</td>\n",
       "      <td>NaN</td>\n",
       "      <td>NaN</td>\n",
       "    </tr>\n",
       "    <tr>\n",
       "      <th>3</th>\n",
       "      <td>0.868</td>\n",
       "      <td>Andorra</td>\n",
       "      <td>NaN</td>\n",
       "      <td>NaN</td>\n",
       "      <td>NaN</td>\n",
       "      <td>NaN</td>\n",
       "    </tr>\n",
       "    <tr>\n",
       "      <th>4</th>\n",
       "      <td>0.581</td>\n",
       "      <td>Angola</td>\n",
       "      <td>NaN</td>\n",
       "      <td>NaN</td>\n",
       "      <td>NaN</td>\n",
       "      <td>5.0</td>\n",
       "    </tr>\n",
       "  </tbody>\n",
       "</table>\n",
       "</div>"
      ],
      "text/plain": [
       "     hdi      country  Cotton  Clothing  Garments  Textiles\n",
       "0  0.511  Afghanistan     NaN       NaN       NaN       2.0\n",
       "1  0.795      Albania     NaN       2.0       NaN       NaN\n",
       "2  0.748      Algeria     NaN       NaN       NaN       NaN\n",
       "3  0.868      Andorra     NaN       NaN       NaN       NaN\n",
       "4  0.581       Angola     NaN       NaN       NaN       5.0"
      ]
     },
     "execution_count": 131,
     "metadata": {},
     "output_type": "execute_result"
    }
   ],
   "source": [
    "analysis_two.head()"
   ]
  },
  {
   "cell_type": "code",
   "execution_count": 132,
   "metadata": {},
   "outputs": [
    {
     "data": {
      "image/png": "[encoded data removed]",
      "text/plain": [
       "<Figure size 432x288 with 2 Axes>"
      ]
     },
     "metadata": {
      "needs_background": "light"
     },
     "output_type": "display_data"
    }
   ],
   "source": [
    "sns.heatmap(analysis_two.corr(), cmap='coolwarm')\n",
    "plt.tight_layout()\n",
    "plt.show()"
   ]
  },
  {
   "cell_type": "code",
   "execution_count": 133,
   "metadata": {},
   "outputs": [
    {
     "data": {
      "text/html": [
       "<div>\n",
       "<style scoped>\n",
       "    .dataframe tbody tr th:only-of-type {\n",
       "        vertical-align: middle;\n",
       "    }\n",
       "\n",
       "    .dataframe tbody tr th {\n",
       "        vertical-align: top;\n",
       "    }\n",
       "\n",
       "    .dataframe thead th {\n",
       "        text-align: right;\n",
       "    }\n",
       "</style>\n",
       "<table border=\"1\" class=\"dataframe\">\n",
       "  <thead>\n",
       "    <tr style=\"text-align: right;\">\n",
       "      <th></th>\n",
       "      <th>Cotton</th>\n",
       "      <th>Clothing</th>\n",
       "      <th>Garments</th>\n",
       "      <th>Textiles</th>\n",
       "    </tr>\n",
       "  </thead>\n",
       "  <tbody>\n",
       "    <tr>\n",
       "      <th>Cotton</th>\n",
       "      <td>1.000000</td>\n",
       "      <td>NaN</td>\n",
       "      <td>NaN</td>\n",
       "      <td>0.847122</td>\n",
       "    </tr>\n",
       "    <tr>\n",
       "      <th>Clothing</th>\n",
       "      <td>NaN</td>\n",
       "      <td>1.000000</td>\n",
       "      <td>NaN</td>\n",
       "      <td>0.978453</td>\n",
       "    </tr>\n",
       "    <tr>\n",
       "      <th>Garments</th>\n",
       "      <td>NaN</td>\n",
       "      <td>NaN</td>\n",
       "      <td>1.000000</td>\n",
       "      <td>-0.441726</td>\n",
       "    </tr>\n",
       "    <tr>\n",
       "      <th>Textiles</th>\n",
       "      <td>0.847122</td>\n",
       "      <td>0.978453</td>\n",
       "      <td>-0.441726</td>\n",
       "      <td>1.000000</td>\n",
       "    </tr>\n",
       "  </tbody>\n",
       "</table>\n",
       "</div>"
      ],
      "text/plain": [
       "            Cotton  Clothing  Garments  Textiles\n",
       "Cotton    1.000000       NaN       NaN  0.847122\n",
       "Clothing       NaN  1.000000       NaN  0.978453\n",
       "Garments       NaN       NaN  1.000000 -0.441726\n",
       "Textiles  0.847122  0.978453 -0.441726  1.000000"
      ]
     },
     "execution_count": 133,
     "metadata": {},
     "output_type": "execute_result"
    }
   ],
   "source": [
    "industry_with_hdi.corr(method='pearson')"
   ]
  },
  {
   "cell_type": "code",
   "execution_count": 134,
   "metadata": {},
   "outputs": [
    {
     "data": {
      "text/plain": [
       "dtype('O')"
      ]
     },
     "execution_count": 134,
     "metadata": {},
     "output_type": "execute_result"
    }
   ],
   "source": [
    "industry_with_hdi.hdi.dtype"
   ]
  },
  {
   "cell_type": "code",
   "execution_count": null,
   "metadata": {},
   "outputs": [],
   "source": []
  }
 ],
 "metadata": {
  "kernelspec": {
   "display_name": "Python 3",
   "language": "python",
   "name": "python3"
  },
  "language_info": {
   "codemirror_mode": {
    "name": "ipython",
    "version": 3
   },
   "file_extension": ".py",
   "mimetype": "text/x-python",
   "name": "python",
   "nbconvert_exporter": "python",
   "pygments_lexer": "ipython3",
   "version": "3.8.5"
  }
 },
 "nbformat": 4,
 "nbformat_minor": 4
}
