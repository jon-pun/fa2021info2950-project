{
 "cells": [
  {
   "cell_type": "markdown",
   "metadata": {},
   "source": [
    "# project phase iv: on fashion & climate change\n",
    "\n",
    "project contributors: jillian beck (jlb574), diane lee (ddl58), alex panovka (amp343), jonathan yun (jly37)\n",
    "\n",
    "-----"
   ]
  },
  {
   "cell_type": "markdown",
   "metadata": {},
   "source": [
    "## introduction\n",
    "\n",
    "[add intro text here]\n",
    "\n",
    "-----"
   ]
  },
  {
   "cell_type": "markdown",
   "metadata": {},
   "source": [
    "## data description\n",
    "\n",
    "#### motivation\n",
    "\n",
    "#### composition\n",
    "\n",
    "#### collection process\n",
    "\n",
    "#### postprocessing / cleaning / labelling\n",
    "\n",
    "-----"
   ]
  },
  {
   "cell_type": "markdown",
   "metadata": {},
   "source": [
    "## preregistration statement\n",
    "\n",
    "here are the following analyses we promised to conduct in project phase iii:\n",
    "\n",
    "#### Analysis One:\n",
    "- Goal: Analyze correlation between HDI (human development index) and GHG emissions per economic sector (i.e. Manufacturing, bunker fuel, etc)\n",
    "\n",
    "- How we’re going to do it: We are going to make a new data frame. It will have these twelve columns: [Country, HDI from 2019,  average annual GHG emissions for each economic sector between 2014-2019 ( 5 columns), average annual change in GHG emissions for each economic sector between 2014-2019 (another 5 columns)]. We will then make a heatmap of the spearman correlation between each variable in the data frame. The reason we use spearman is because we care more about a country's relative HDI and GHG compared to other countries rather than what the actual values are. We will pay specific attention to the correlation between HDI and annual GHG emissions. This will represent five cells in the heat map, each cell being a correlation between emissions from a single sector and HDI. We will also check to see any strong correlations between other variables, such as HDI and change in emissions, and correlation between emissions in separate sectors. With these correlations we will be able to make statements about the relationship between the variables in this dataframe. \n",
    "\n",
    "- What we expect to find: We expect that there will be a strong positive correlation between HDI and GHG emissions suggesting that developed countries release more greenhouse gases. Conversely, we expect a strong negative correlation between HDI and change in GHG emissions suggesting that less developed countries are where most of the industrial growth is occurring. When looking at sectors specifically, we expect a slight negative correlation between HDI and GHG emissions from bunker fuel since developing countries often export their goods to developed countries. Finally we expect a high correlation between emissions from each sector, suggesting that countries that have high emissions in one sector also have high emissions in other sectors. Scatter plots of the data, done outside of this analysis, will allow us to see more specific relationships between sectors by country. The information we will gather from this analysis does not directly pertain to the fashion industry, but the knowledge it gives us about the relationship between development and emissions will help us understand if the relationship between development and environmental impact from fashion has unique characteristics.  \n",
    "\n",
    "#### Analysis Two\n",
    "\n",
    "- Goal: Examine the relationship between HDI and the importance of the fashion industry in a country’s economy. \n",
    "\n",
    "- How we’re going to do it: We are going to make a new data frame with these columns: [Country, HDI, cotton, clothing, garments, textiles]. The HDI column will be downloaded from the United Nations Development Programme, and we will just use the most recent year. Cotton, clothing, garment, and textiles will have data taken from the industries list from the CIA factbook. This page shows the top industries by annual output for every country, and we are looking at industries that are just related to fashion. In the data frame these columns will house values representing what rank that industry has in that country. For instance, textiles is fourth in the list of industries in Argentina, so the textiles value for Argentina will be 4. First we will find the correlation between HDI and fashion industries ranking. Next we will merge this data with the data relating to emissions from analysis one. We will create multiple scatter plots of industry rank versus emissions and change in emissions, with different emissions sectors for each plot, and then cluster the data. We expect the clusters to relate to HDI, so we will then make histograms of the HDI per cluster and determine if the clusters correspond to a country’s stage of development. \n",
    "\n",
    "- What we expect to find: We expect to find a negative correlation between HDI and the importance of fashion in a country’s economy. Based on our knowledge that most clothing is manufactured in developing countries, we expect developing countries to rely more on the fashion industry for their economies than developed countries. Across the scatter plots we expect to see clusters of high HDI countries where importance of fashion is low, and change in emissions is low, and where importance of fashion is low, but absolute emissions are high. For low HDI countries, we expect clusters where importance of fashion is high and change in emissions is high, and where importance of fashion is high and emissions are medium to low. Our data does not take into account the size of each country, so the clusters in the annual emissions plots might represent country size, but we expect the clusters in the scatter plots of change in emissions to definitely represent development. With this information we will be able to determine if less developed countries bear a greater burden from the fashion industry than developed countries. \n",
    "\n",
    "-----"
   ]
  },
  {
   "cell_type": "markdown",
   "metadata": {},
   "source": [
    "## analysis one\n",
    "\n",
    "in this analysis, we will analyze correlation between HDI (human development index) and GHG emissions per economic sector (i.e. manufacturing, bunker fuel, etc)."
   ]
  },
  {
   "cell_type": "code",
   "execution_count": 129,
   "metadata": {},
   "outputs": [],
   "source": [
    "## load libraries\n",
    "\n",
    "## our old friends...\n",
    "import numpy as np\n",
    "import pandas as pd\n",
    "import matplotlib.pyplot as plt\n",
    "\n",
    "## ...and some new ones...\n",
    "import seaborn as sns\n",
    "from sklearn.cluster import KMeans\n",
    "\n",
    "## ..and a most new friend\n",
    "from sklearn.linear_model import LinearRegression\n",
    "\n",
    "## load CSVs\n",
    "agriculture=pd.read_csv('agriculture.csv', na_values={'false','False','FALSE'})\n",
    "energy=pd.read_csv('energy.csv',  na_values={'false','False','FALSE'})\n",
    "waste=pd.read_csv('waste.csv',   na_values={'false','False','FALSE'})\n",
    "industrial=pd.read_csv('industrial-processes.csv',  na_values={'false','False','FALSE'})\n",
    "bunker_fuels=pd.read_csv('bunker-fuels.csv',  na_values={'false','False','FALSE'})"
   ]
  },
  {
   "cell_type": "code",
   "execution_count": 130,
   "metadata": {},
   "outputs": [],
   "source": [
    "## load HDI data\n",
    "hdi = pd.read_csv('Human Development Index (HDI)-2.csv', header = 5)\n",
    "cols = {'Country', '2019'} # subset to just keep 2019 hdis\n",
    "hdi = hdi[cols] # keeping only relevant data\n",
    "\n",
    "hdi['Country'] = hdi['Country'].str.strip(' ')\n",
    "\n",
    "hdi = hdi.rename(columns={'Country': 'country', '2019': 'hdi'})"
   ]
  },
  {
   "cell_type": "markdown",
   "metadata": {},
   "source": [
    "#### data analysis\n",
    "\n",
    "first, let's see a little bit more about the hdi data, and then prepare it for merger with the ghg emissions datasets:"
   ]
  },
  {
   "cell_type": "code",
   "execution_count": 131,
   "metadata": {},
   "outputs": [
    {
     "data": {
      "text/html": [
       "<div>\n",
       "<style scoped>\n",
       "    .dataframe tbody tr th:only-of-type {\n",
       "        vertical-align: middle;\n",
       "    }\n",
       "\n",
       "    .dataframe tbody tr th {\n",
       "        vertical-align: top;\n",
       "    }\n",
       "\n",
       "    .dataframe thead th {\n",
       "        text-align: right;\n",
       "    }\n",
       "</style>\n",
       "<table border=\"1\" class=\"dataframe\">\n",
       "  <thead>\n",
       "    <tr style=\"text-align: right;\">\n",
       "      <th></th>\n",
       "      <th>country</th>\n",
       "      <th>hdi</th>\n",
       "    </tr>\n",
       "  </thead>\n",
       "  <tbody>\n",
       "    <tr>\n",
       "      <th>0</th>\n",
       "      <td>Afghanistan</td>\n",
       "      <td>0.511</td>\n",
       "    </tr>\n",
       "    <tr>\n",
       "      <th>1</th>\n",
       "      <td>Albania</td>\n",
       "      <td>0.795</td>\n",
       "    </tr>\n",
       "    <tr>\n",
       "      <th>2</th>\n",
       "      <td>Algeria</td>\n",
       "      <td>0.748</td>\n",
       "    </tr>\n",
       "    <tr>\n",
       "      <th>3</th>\n",
       "      <td>Andorra</td>\n",
       "      <td>0.868</td>\n",
       "    </tr>\n",
       "    <tr>\n",
       "      <th>4</th>\n",
       "      <td>Angola</td>\n",
       "      <td>0.581</td>\n",
       "    </tr>\n",
       "  </tbody>\n",
       "</table>\n",
       "</div>"
      ],
      "text/plain": [
       "       country    hdi\n",
       "0  Afghanistan  0.511\n",
       "1      Albania  0.795\n",
       "2      Algeria  0.748\n",
       "3      Andorra  0.868\n",
       "4       Angola  0.581"
      ]
     },
     "execution_count": 131,
     "metadata": {},
     "output_type": "execute_result"
    }
   ],
   "source": [
    "hdi.head()"
   ]
  },
  {
   "cell_type": "code",
   "execution_count": 132,
   "metadata": {},
   "outputs": [],
   "source": [
    "agriculture = agriculture.sort_values('Country/Region')\n",
    "energy = energy.sort_values('Country/Region')\n",
    "waste = waste.sort_values('Country/Region')\n",
    "industrial = industrial.sort_values('Country/Region')\n",
    "bunker_fuels = bunker_fuels.sort_values('Country/Region')\n",
    "\n",
    "ag_ghgchange = (agriculture['2018']-agriculture['2008'])\n",
    "energy_ghgchange = (energy['2018']-energy['2008'])\n",
    "waste_ghgchange = (waste['2018']-waste['2008'])\n",
    "industrial_ghgchange = (industrial['2008']-industrial['1998'])\n",
    "bunker_ghgchange = (bunker_fuels['2008']-bunker_fuels['1998'])"
   ]
  },
  {
   "cell_type": "markdown",
   "metadata": {},
   "source": [
    "great! we've sorted, subtracted and prepared our datasets for analysis. let's merge them all together into one dataset about ghg emissions, per country, per industry:"
   ]
  },
  {
   "cell_type": "code",
   "execution_count": 133,
   "metadata": {},
   "outputs": [
    {
     "data": {
      "text/html": [
       "<div>\n",
       "<style scoped>\n",
       "    .dataframe tbody tr th:only-of-type {\n",
       "        vertical-align: middle;\n",
       "    }\n",
       "\n",
       "    .dataframe tbody tr th {\n",
       "        vertical-align: top;\n",
       "    }\n",
       "\n",
       "    .dataframe thead th {\n",
       "        text-align: right;\n",
       "    }\n",
       "</style>\n",
       "<table border=\"1\" class=\"dataframe\">\n",
       "  <thead>\n",
       "    <tr style=\"text-align: right;\">\n",
       "      <th></th>\n",
       "      <th>country</th>\n",
       "      <th>agriculture</th>\n",
       "      <th>energy</th>\n",
       "      <th>waste</th>\n",
       "      <th>industrial</th>\n",
       "      <th>bunker fuels</th>\n",
       "    </tr>\n",
       "  </thead>\n",
       "  <tbody>\n",
       "    <tr>\n",
       "      <th>57</th>\n",
       "      <td>Afghanistan</td>\n",
       "      <td>67.42</td>\n",
       "      <td>-4.08</td>\n",
       "      <td>-0.8</td>\n",
       "      <td>0.54</td>\n",
       "      <td>-1.3</td>\n",
       "    </tr>\n",
       "    <tr>\n",
       "      <th>145</th>\n",
       "      <td>Albania</td>\n",
       "      <td>2.17</td>\n",
       "      <td>0.68</td>\n",
       "      <td>0.95</td>\n",
       "      <td>0.05</td>\n",
       "      <td>-0.03</td>\n",
       "    </tr>\n",
       "    <tr>\n",
       "      <th>38</th>\n",
       "      <td>Algeria</td>\n",
       "      <td>58.44</td>\n",
       "      <td>-17.34</td>\n",
       "      <td>-0.39</td>\n",
       "      <td>5.61</td>\n",
       "      <td>0.56</td>\n",
       "    </tr>\n",
       "    <tr>\n",
       "      <th>177</th>\n",
       "      <td>Andorra</td>\n",
       "      <td>-0.05</td>\n",
       "      <td>0.15</td>\n",
       "      <td>0.08</td>\n",
       "      <td>0.0</td>\n",
       "      <td>0.0</td>\n",
       "    </tr>\n",
       "    <tr>\n",
       "      <th>47</th>\n",
       "      <td>Angola</td>\n",
       "      <td>1.2</td>\n",
       "      <td>64.3</td>\n",
       "      <td>-2.18</td>\n",
       "      <td>1.13</td>\n",
       "      <td>1.59</td>\n",
       "    </tr>\n",
       "    <tr>\n",
       "      <th>...</th>\n",
       "      <td>...</td>\n",
       "      <td>...</td>\n",
       "      <td>...</td>\n",
       "      <td>...</td>\n",
       "      <td>...</td>\n",
       "      <td>...</td>\n",
       "    </tr>\n",
       "    <tr>\n",
       "      <th>29</th>\n",
       "      <td>Venezuela</td>\n",
       "      <td>-67.4</td>\n",
       "      <td>44.14</td>\n",
       "      <td>0.62</td>\n",
       "      <td>6.66</td>\n",
       "      <td>1.41</td>\n",
       "    </tr>\n",
       "    <tr>\n",
       "      <th>23</th>\n",
       "      <td>Vietnam</td>\n",
       "      <td>126.44</td>\n",
       "      <td>126.77</td>\n",
       "      <td>1.21</td>\n",
       "      <td>3.64</td>\n",
       "      <td>-0.78</td>\n",
       "    </tr>\n",
       "    <tr>\n",
       "      <th>122</th>\n",
       "      <td>Yemen</td>\n",
       "      <td>-11.3</td>\n",
       "      <td>4.3</td>\n",
       "      <td>0.34</td>\n",
       "      <td>0.22</td>\n",
       "      <td>-0.03</td>\n",
       "    </tr>\n",
       "    <tr>\n",
       "      <th>59</th>\n",
       "      <td>Zambia</td>\n",
       "      <td>27.67</td>\n",
       "      <td>-5.72</td>\n",
       "      <td>0.52</td>\n",
       "      <td>0.89</td>\n",
       "      <td>0.63</td>\n",
       "    </tr>\n",
       "    <tr>\n",
       "      <th>49</th>\n",
       "      <td>Zimbabwe</td>\n",
       "      <td>83.42</td>\n",
       "      <td>4.39</td>\n",
       "      <td>0.78</td>\n",
       "      <td>2.39</td>\n",
       "      <td>1.06</td>\n",
       "    </tr>\n",
       "  </tbody>\n",
       "</table>\n",
       "<p>195 rows × 6 columns</p>\n",
       "</div>"
      ],
      "text/plain": [
       "         country agriculture  energy waste industrial bunker fuels\n",
       "57   Afghanistan       67.42   -4.08  -0.8       0.54         -1.3\n",
       "145      Albania        2.17    0.68  0.95       0.05        -0.03\n",
       "38       Algeria       58.44  -17.34 -0.39       5.61         0.56\n",
       "177      Andorra       -0.05    0.15  0.08        0.0          0.0\n",
       "47        Angola         1.2    64.3 -2.18       1.13         1.59\n",
       "..           ...         ...     ...   ...        ...          ...\n",
       "29     Venezuela       -67.4   44.14  0.62       6.66         1.41\n",
       "23       Vietnam      126.44  126.77  1.21       3.64        -0.78\n",
       "122        Yemen       -11.3     4.3  0.34       0.22        -0.03\n",
       "59        Zambia       27.67   -5.72  0.52       0.89         0.63\n",
       "49      Zimbabwe       83.42    4.39  0.78       2.39         1.06\n",
       "\n",
       "[195 rows x 6 columns]"
      ]
     },
     "execution_count": 133,
     "metadata": {},
     "output_type": "execute_result"
    }
   ],
   "source": [
    "data_ghgchange = {'country': agriculture['Country/Region'].str.strip(' '), 'agriculture': ag_ghgchange, 'energy': energy_ghgchange,\n",
    "                  'waste': waste_ghgchange, 'industrial': industrial_ghgchange, 'bunker fuels': bunker_ghgchange}\n",
    "df_ghgchange = pd.DataFrame.from_dict(data_ghgchange, orient = 'index')\n",
    "df_ghgchange = df_ghgchange.transpose()\n",
    "\n",
    "df_ghgchange"
   ]
  },
  {
   "cell_type": "markdown",
   "metadata": {},
   "source": [
    "let's also run some summary statistics on this:"
   ]
  },
  {
   "cell_type": "code",
   "execution_count": 134,
   "metadata": {},
   "outputs": [
    {
     "name": "stdout",
     "output_type": "stream",
     "text": [
      "       country  agriculture  energy  waste  industrial  bunker fuels\n",
      "count      195       193.00  193.00  191.0       191.0         175.0\n",
      "unique     195       191.00  187.00  150.0       147.0         139.0\n",
      "top      Syria         0.03    0.68    0.0         0.0           0.0\n",
      "freq         1         2.00    2.00   12.0        15.0          20.0\n",
      "country         object\n",
      "agriculture     object\n",
      "energy          object\n",
      "waste           object\n",
      "industrial      object\n",
      "bunker fuels    object\n",
      "dtype: object\n"
     ]
    }
   ],
   "source": [
    "print(df_ghgchange.describe())\n",
    "\n",
    "print(df_ghgchange.dtypes)"
   ]
  },
  {
   "cell_type": "markdown",
   "metadata": {},
   "source": [
    "ok, our climate change emissions data (in megatons) should probably be numeric... let's do that, and then run summary statistics on it:"
   ]
  },
  {
   "cell_type": "code",
   "execution_count": 135,
   "metadata": {},
   "outputs": [
    {
     "data": {
      "text/html": [
       "<div>\n",
       "<style scoped>\n",
       "    .dataframe tbody tr th:only-of-type {\n",
       "        vertical-align: middle;\n",
       "    }\n",
       "\n",
       "    .dataframe tbody tr th {\n",
       "        vertical-align: top;\n",
       "    }\n",
       "\n",
       "    .dataframe thead th {\n",
       "        text-align: right;\n",
       "    }\n",
       "</style>\n",
       "<table border=\"1\" class=\"dataframe\">\n",
       "  <thead>\n",
       "    <tr style=\"text-align: right;\">\n",
       "      <th></th>\n",
       "      <th>energy</th>\n",
       "      <th>waste</th>\n",
       "      <th>bunker fuels</th>\n",
       "      <th>agriculture</th>\n",
       "      <th>industrial</th>\n",
       "    </tr>\n",
       "  </thead>\n",
       "  <tbody>\n",
       "    <tr>\n",
       "      <th>count</th>\n",
       "      <td>193.000000</td>\n",
       "      <td>191.000000</td>\n",
       "      <td>175.000000</td>\n",
       "      <td>193.000000</td>\n",
       "      <td>191.000000</td>\n",
       "    </tr>\n",
       "    <tr>\n",
       "      <th>mean</th>\n",
       "      <td>22.548031</td>\n",
       "      <td>0.837068</td>\n",
       "      <td>1.664286</td>\n",
       "      <td>29.479896</td>\n",
       "      <td>3.758848</td>\n",
       "    </tr>\n",
       "    <tr>\n",
       "      <th>std</th>\n",
       "      <td>239.662242</td>\n",
       "      <td>5.387391</td>\n",
       "      <td>5.954713</td>\n",
       "      <td>259.370847</td>\n",
       "      <td>34.781706</td>\n",
       "    </tr>\n",
       "    <tr>\n",
       "      <th>min</th>\n",
       "      <td>-612.040000</td>\n",
       "      <td>-19.850000</td>\n",
       "      <td>-3.840000</td>\n",
       "      <td>-610.260000</td>\n",
       "      <td>-28.900000</td>\n",
       "    </tr>\n",
       "    <tr>\n",
       "      <th>25%</th>\n",
       "      <td>-1.240000</td>\n",
       "      <td>0.010000</td>\n",
       "      <td>0.000000</td>\n",
       "      <td>-0.610000</td>\n",
       "      <td>0.020000</td>\n",
       "    </tr>\n",
       "    <tr>\n",
       "      <th>50%</th>\n",
       "      <td>0.640000</td>\n",
       "      <td>0.150000</td>\n",
       "      <td>0.120000</td>\n",
       "      <td>1.830000</td>\n",
       "      <td>0.250000</td>\n",
       "    </tr>\n",
       "    <tr>\n",
       "      <th>75%</th>\n",
       "      <td>7.050000</td>\n",
       "      <td>0.845000</td>\n",
       "      <td>0.770000</td>\n",
       "      <td>14.970000</td>\n",
       "      <td>1.120000</td>\n",
       "    </tr>\n",
       "    <tr>\n",
       "      <th>max</th>\n",
       "      <td>3095.940000</td>\n",
       "      <td>57.180000</td>\n",
       "      <td>62.290000</td>\n",
       "      <td>3250.160000</td>\n",
       "      <td>476.610000</td>\n",
       "    </tr>\n",
       "  </tbody>\n",
       "</table>\n",
       "</div>"
      ],
      "text/plain": [
       "            energy       waste  bunker fuels  agriculture  industrial\n",
       "count   193.000000  191.000000    175.000000   193.000000  191.000000\n",
       "mean     22.548031    0.837068      1.664286    29.479896    3.758848\n",
       "std     239.662242    5.387391      5.954713   259.370847   34.781706\n",
       "min    -612.040000  -19.850000     -3.840000  -610.260000  -28.900000\n",
       "25%      -1.240000    0.010000      0.000000    -0.610000    0.020000\n",
       "50%       0.640000    0.150000      0.120000     1.830000    0.250000\n",
       "75%       7.050000    0.845000      0.770000    14.970000    1.120000\n",
       "max    3095.940000   57.180000     62.290000  3250.160000  476.610000"
      ]
     },
     "execution_count": 135,
     "metadata": {},
     "output_type": "execute_result"
    }
   ],
   "source": [
    "df_ghgchange[\"agriculture\"] = df_ghgchange[\"agriculture\"].astype(float)\n",
    "df_ghgchange[\"energy\"] = df_ghgchange[\"energy\"].astype(float)\n",
    "df_ghgchange[\"waste\"] = df_ghgchange[\"waste\"].astype(float)\n",
    "df_ghgchange[\"industrial\"] = df_ghgchange[\"industrial\"].astype(float)\n",
    "df_ghgchange[\"bunker fuels\"] = df_ghgchange[\"bunker fuels\"].astype(float)\n",
    "\n",
    "df_ghgchange[{\"agriculture\", \"energy\", \"waste\", \"industrial\", \"bunker fuels\"}].describe()"
   ]
  },
  {
   "cell_type": "markdown",
   "metadata": {},
   "source": [
    "this data mostly makes sense (aside from some negative ghg emissions, which appear to be outliers), but also does not appear to be very comparable (since some countries might have 3250 megatons of co2-equivalent emissions solely based on size, and others might have almost 0 megatons as a small nation). let's standardize on the basis of population, using population data:"
   ]
  },
  {
   "cell_type": "code",
   "execution_count": 136,
   "metadata": {},
   "outputs": [
    {
     "data": {
      "text/html": [
       "<div>\n",
       "<style scoped>\n",
       "    .dataframe tbody tr th:only-of-type {\n",
       "        vertical-align: middle;\n",
       "    }\n",
       "\n",
       "    .dataframe tbody tr th {\n",
       "        vertical-align: top;\n",
       "    }\n",
       "\n",
       "    .dataframe thead th {\n",
       "        text-align: right;\n",
       "    }\n",
       "</style>\n",
       "<table border=\"1\" class=\"dataframe\">\n",
       "  <thead>\n",
       "    <tr style=\"text-align: right;\">\n",
       "      <th></th>\n",
       "      <th>country</th>\n",
       "      <th>agriculture</th>\n",
       "      <th>energy</th>\n",
       "      <th>waste</th>\n",
       "      <th>industrial</th>\n",
       "      <th>bunker fuels</th>\n",
       "      <th>Time</th>\n",
       "      <th>PopTotal</th>\n",
       "    </tr>\n",
       "  </thead>\n",
       "  <tbody>\n",
       "    <tr>\n",
       "      <th>0</th>\n",
       "      <td>Afghanistan</td>\n",
       "      <td>0.001772</td>\n",
       "      <td>-0.000107</td>\n",
       "      <td>-0.000021</td>\n",
       "      <td>0.000014</td>\n",
       "      <td>-0.000034</td>\n",
       "      <td>2019</td>\n",
       "      <td>38041.757</td>\n",
       "    </tr>\n",
       "    <tr>\n",
       "      <th>1</th>\n",
       "      <td>Albania</td>\n",
       "      <td>0.000753</td>\n",
       "      <td>0.000236</td>\n",
       "      <td>0.000330</td>\n",
       "      <td>0.000017</td>\n",
       "      <td>-0.000010</td>\n",
       "      <td>2019</td>\n",
       "      <td>2880.913</td>\n",
       "    </tr>\n",
       "    <tr>\n",
       "      <th>2</th>\n",
       "      <td>Algeria</td>\n",
       "      <td>0.001357</td>\n",
       "      <td>-0.000403</td>\n",
       "      <td>-0.000009</td>\n",
       "      <td>0.000130</td>\n",
       "      <td>0.000013</td>\n",
       "      <td>2019</td>\n",
       "      <td>43053.054</td>\n",
       "    </tr>\n",
       "    <tr>\n",
       "      <th>3</th>\n",
       "      <td>Andorra</td>\n",
       "      <td>-0.000648</td>\n",
       "      <td>0.001944</td>\n",
       "      <td>0.001037</td>\n",
       "      <td>0.000000</td>\n",
       "      <td>0.000000</td>\n",
       "      <td>2019</td>\n",
       "      <td>77.146</td>\n",
       "    </tr>\n",
       "    <tr>\n",
       "      <th>4</th>\n",
       "      <td>Angola</td>\n",
       "      <td>0.000038</td>\n",
       "      <td>0.002020</td>\n",
       "      <td>-0.000068</td>\n",
       "      <td>0.000036</td>\n",
       "      <td>0.000050</td>\n",
       "      <td>2019</td>\n",
       "      <td>31825.299</td>\n",
       "    </tr>\n",
       "  </tbody>\n",
       "</table>\n",
       "</div>"
      ],
      "text/plain": [
       "       country  agriculture    energy     waste  industrial  bunker fuels  \\\n",
       "0  Afghanistan     0.001772 -0.000107 -0.000021    0.000014     -0.000034   \n",
       "1      Albania     0.000753  0.000236  0.000330    0.000017     -0.000010   \n",
       "2      Algeria     0.001357 -0.000403 -0.000009    0.000130      0.000013   \n",
       "3      Andorra    -0.000648  0.001944  0.001037    0.000000      0.000000   \n",
       "4       Angola     0.000038  0.002020 -0.000068    0.000036      0.000050   \n",
       "\n",
       "   Time   PopTotal  \n",
       "0  2019  38041.757  \n",
       "1  2019   2880.913  \n",
       "2  2019  43053.054  \n",
       "3  2019     77.146  \n",
       "4  2019  31825.299  "
      ]
     },
     "execution_count": 136,
     "metadata": {},
     "output_type": "execute_result"
    }
   ],
   "source": [
    "pop = pd.read_csv(\"WPP2019_TotalPopulationBySex.csv\")\n",
    "\n",
    "pop = pop[pop[\"Time\"] == 2019] # ensuring it's only 2019 data\n",
    "pop = pop[{\"Location\", \"Time\", \"PopTotal\"}] # removing unnecessary columns\n",
    "pop = pop.rename(columns = {\"Location\" : \"country\"}) # renaming the column for the merge\n",
    "\n",
    "df_ghgchange = df_ghgchange.merge(pop, on = \"country\") # performing an inner join\n",
    "\n",
    "df_ghgchange.head()\n",
    "\n",
    "df_ghgchange.columns\n",
    "\n",
    "for emissions in {\"agriculture\", \"energy\", \"waste\", \"industrial\", \"bunker fuels\"}:\n",
    "    df_ghgchange[emissions] = df_ghgchange[emissions] / df_ghgchange[\"PopTotal\"]\n",
    "    \n",
    "df_ghgchange.head()"
   ]
  },
  {
   "cell_type": "markdown",
   "metadata": {},
   "source": [
    "nice! let's now merge this data with each country's human development index, and also drop the population column now that it's unneeded:"
   ]
  },
  {
   "cell_type": "code",
   "execution_count": 137,
   "metadata": {},
   "outputs": [
    {
     "name": "stdout",
     "output_type": "stream",
     "text": [
      "       country    hdi  agriculture    energy     waste  industrial  \\\n",
      "0  Afghanistan  0.511     0.001772 -0.000107 -0.000021    0.000014   \n",
      "1      Albania  0.795     0.000753  0.000236  0.000330    0.000017   \n",
      "2      Algeria  0.748     0.001357 -0.000403 -0.000009    0.000130   \n",
      "3      Andorra  0.868    -0.000648  0.001944  0.001037    0.000000   \n",
      "4       Angola  0.581     0.000038  0.002020 -0.000068    0.000036   \n",
      "\n",
      "   bunker fuels  \n",
      "0     -0.000034  \n",
      "1     -0.000010  \n",
      "2      0.000013  \n",
      "3      0.000000  \n",
      "4      0.000050  \n"
     ]
    },
    {
     "data": {
      "text/plain": [
       "True"
      ]
     },
     "execution_count": 137,
     "metadata": {},
     "output_type": "execute_result"
    }
   ],
   "source": [
    "analysis_one = hdi.merge(df_ghgchange, on = 'country')\n",
    "\n",
    "analysis_one.drop([\"Time\", \"PopTotal\"], axis = 1, inplace = True)\n",
    "print(analysis_one.head())\n",
    "\n",
    "analysis_one.isnull().values.any()"
   ]
  },
  {
   "cell_type": "markdown",
   "metadata": {},
   "source": [
    "interestingly, this data contains nans. let's remove them!"
   ]
  },
  {
   "cell_type": "code",
   "execution_count": 147,
   "metadata": {},
   "outputs": [],
   "source": [
    "analysis_one = analysis_one.dropna()"
   ]
  },
  {
   "cell_type": "markdown",
   "metadata": {},
   "source": [
    "Dear Diane and Jon,\n",
    "    We are stealing your data frame. We renamed it as a new variable so we can use it later before you drop the country "
   ]
  },
  {
   "cell_type": "code",
   "execution_count": 139,
   "metadata": {},
   "outputs": [],
   "source": [
    "# second_analysis_one=analysis_one\n",
    "analysis_one = analysis_one.drop(['country'], axis = 1)\n",
    "analysis_one = analysis_one.astype(float)"
   ]
  },
  {
   "cell_type": "markdown",
   "metadata": {},
   "source": [
    "in order to describe a little more about the data, let's create a heatmap to check for correlation! this is as follows:"
   ]
  },
  {
   "cell_type": "code",
   "execution_count": 140,
   "metadata": {},
   "outputs": [
    {
     "data": {
      "text/html": [
       "<div>\n",
       "<style scoped>\n",
       "    .dataframe tbody tr th:only-of-type {\n",
       "        vertical-align: middle;\n",
       "    }\n",
       "\n",
       "    .dataframe tbody tr th {\n",
       "        vertical-align: top;\n",
       "    }\n",
       "\n",
       "    .dataframe thead th {\n",
       "        text-align: right;\n",
       "    }\n",
       "</style>\n",
       "<table border=\"1\" class=\"dataframe\">\n",
       "  <thead>\n",
       "    <tr style=\"text-align: right;\">\n",
       "      <th></th>\n",
       "      <th>hdi</th>\n",
       "      <th>agriculture</th>\n",
       "      <th>energy</th>\n",
       "      <th>waste</th>\n",
       "      <th>industrial</th>\n",
       "      <th>bunker fuels</th>\n",
       "    </tr>\n",
       "  </thead>\n",
       "  <tbody>\n",
       "    <tr>\n",
       "      <th>hdi</th>\n",
       "      <td>1.000000</td>\n",
       "      <td>-0.183555</td>\n",
       "      <td>0.187827</td>\n",
       "      <td>0.129007</td>\n",
       "      <td>0.278464</td>\n",
       "      <td>0.053446</td>\n",
       "    </tr>\n",
       "    <tr>\n",
       "      <th>agriculture</th>\n",
       "      <td>-0.183555</td>\n",
       "      <td>1.000000</td>\n",
       "      <td>-0.023319</td>\n",
       "      <td>0.113897</td>\n",
       "      <td>0.168232</td>\n",
       "      <td>0.037648</td>\n",
       "    </tr>\n",
       "    <tr>\n",
       "      <th>energy</th>\n",
       "      <td>0.187827</td>\n",
       "      <td>-0.023319</td>\n",
       "      <td>1.000000</td>\n",
       "      <td>0.127375</td>\n",
       "      <td>0.079025</td>\n",
       "      <td>0.078211</td>\n",
       "    </tr>\n",
       "    <tr>\n",
       "      <th>waste</th>\n",
       "      <td>0.129007</td>\n",
       "      <td>0.113897</td>\n",
       "      <td>0.127375</td>\n",
       "      <td>1.000000</td>\n",
       "      <td>0.047546</td>\n",
       "      <td>-0.020237</td>\n",
       "    </tr>\n",
       "    <tr>\n",
       "      <th>industrial</th>\n",
       "      <td>0.278464</td>\n",
       "      <td>0.168232</td>\n",
       "      <td>0.079025</td>\n",
       "      <td>0.047546</td>\n",
       "      <td>1.000000</td>\n",
       "      <td>0.274530</td>\n",
       "    </tr>\n",
       "    <tr>\n",
       "      <th>bunker fuels</th>\n",
       "      <td>0.053446</td>\n",
       "      <td>0.037648</td>\n",
       "      <td>0.078211</td>\n",
       "      <td>-0.020237</td>\n",
       "      <td>0.274530</td>\n",
       "      <td>1.000000</td>\n",
       "    </tr>\n",
       "  </tbody>\n",
       "</table>\n",
       "</div>"
      ],
      "text/plain": [
       "                   hdi  agriculture    energy     waste  industrial  \\\n",
       "hdi           1.000000    -0.183555  0.187827  0.129007    0.278464   \n",
       "agriculture  -0.183555     1.000000 -0.023319  0.113897    0.168232   \n",
       "energy        0.187827    -0.023319  1.000000  0.127375    0.079025   \n",
       "waste         0.129007     0.113897  0.127375  1.000000    0.047546   \n",
       "industrial    0.278464     0.168232  0.079025  0.047546    1.000000   \n",
       "bunker fuels  0.053446     0.037648  0.078211 -0.020237    0.274530   \n",
       "\n",
       "              bunker fuels  \n",
       "hdi               0.053446  \n",
       "agriculture       0.037648  \n",
       "energy            0.078211  \n",
       "waste            -0.020237  \n",
       "industrial        0.274530  \n",
       "bunker fuels      1.000000  "
      ]
     },
     "execution_count": 140,
     "metadata": {},
     "output_type": "execute_result"
    }
   ],
   "source": [
    "analysis_one.corr(method = 'spearman')"
   ]
  },
  {
   "cell_type": "code",
   "execution_count": 141,
   "metadata": {},
   "outputs": [
    {
     "data": {
      "text/plain": [
       "dtype('float64')"
      ]
     },
     "execution_count": 141,
     "metadata": {},
     "output_type": "execute_result"
    }
   ],
   "source": [
    "analysis_one.hdi.dtype"
   ]
  },
  {
   "cell_type": "code",
   "execution_count": 142,
   "metadata": {},
   "outputs": [
    {
     "data": {
      "image/png": "[encoded data removed]",
      "text/plain": [
       "<Figure size 432x288 with 2 Axes>"
      ]
     },
     "metadata": {
      "needs_background": "light"
     },
     "output_type": "display_data"
    }
   ],
   "source": [
    "sns.heatmap(analysis_one.corr(method = 'spearman'), center=0, cmap='coolwarm')\n",
    "plt.tight_layout()\n",
    "plt.show()"
   ]
  },
  {
   "cell_type": "markdown",
   "metadata": {},
   "source": [
    "these results might not be very significant in themselves, but we'd like to at least try to construct a model based on this data (given the wealth of what we have, and that there is a known correlation *at the least* between hdi and ghg emissions per capita). along these lines, let's try creating a multivariate linear regression to predict hdi, since hdi is a continuous float from 0-1:"
   ]
  },
  {
   "cell_type": "code",
   "execution_count": 148,
   "metadata": {},
   "outputs": [
    {
     "name": "stdout",
     "output_type": "stream",
     "text": [
      "coefficients = [  6.86723421   7.08507715 -72.89289381  -1.8797825  288.46484019]\n",
      "r^2 = 0.06860448875673764\n"
     ]
    }
   ],
   "source": [
    "regression1 = LinearRegression().fit(analysis_one[{\"agriculture\", \"energy\", \"waste\", \"industrial\", \"bunker fuels\"}], analysis_one[\"hdi\"])\n",
    "print(\"coefficients = {}\".format(regression1.coef_))\n",
    "print(\"r^2 = {}\".format(regression1.score(analysis_one[{\"agriculture\", \"energy\", \"waste\", \"industrial\", \"bunker fuels\"}], analysis_one[\"hdi\"])))"
   ]
  },
  {
   "cell_type": "markdown",
   "metadata": {},
   "source": [
    "#### evaluation of significance\n",
    "\n",
    "already, this data doesn't seem particularly significant, but let's validate that with an evaluation of significance. for this, let's try bootstrapping our regression with n = 500 trials, to try and see how many slopes because of randomness could be more random than the one we got:"
   ]
  },
  {
   "cell_type": "code",
   "execution_count": 151,
   "metadata": {},
   "outputs": [
    {
     "name": "stdout",
     "output_type": "stream",
     "text": [
      "210 permuted slopes were of greater magnitude than the observed data.\n",
      "p-value implied: 0.42000\n"
     ]
    }
   ],
   "source": [
    "# creating the permutation method\n",
    "def permute(input_array):\n",
    "    # shuffle is inplace, so copy to preserve input\n",
    "    permuted = input_array.copy().values #convert to numpy array, avoiding warning\n",
    "    np.random.shuffle(permuted)\n",
    "    return pd.Series(permuted) # convert back to pandas\n",
    "\n",
    "count = 0\n",
    "\n",
    "for i in range(500):\n",
    "    permuted_model = LinearRegression().fit(analysis_one[{\"agriculture\", \"energy\", \"waste\", \"industrial\", \"bunker fuels\"}], permute(analysis_one[\"hdi\"]))\n",
    "    if(np.abs(permuted_model.coef_[0]) > np.abs(regression1.coef_[0])):\n",
    "        count += 1\n",
    "                                            \n",
    "print(\"{} permuted slopes were of greater magnitude than the observed data.\".format(count))\n",
    "                                            \n",
    "print(\"p-value implied: {:.5f}\".format(count / 500))"
   ]
  },
  {
   "cell_type": "markdown",
   "metadata": {},
   "source": [
    "that is... exactly what we thought? unfortunately, the implied value is much greater than most p-value cutoffs traditionally used (p = 0.1, p = 0.05, or p = 0.01); as a result, this data doesn't seem to be much better than could be done by random chance :("
   ]
  },
  {
   "cell_type": "markdown",
   "metadata": {},
   "source": [
    "#### interpretation and conclusions\n",
    "\n",
    "reflecting now (after completing the data analysis, and the evaluation of significance), it seems as if much of the prior data analysis isn't that significant. while we've found some (slightly) interesting trends, such as how ghg emissions are (somewhat) negatively correlated with hdi, we haven't found much else; the multivariate linear regression also did not return a statistically-significant slope. in this sense, i don't think that our results lined up with our initial expectations, that there would be a high correlation between hdi and certain industries' emissions; perhaps this is a quirk of our own analysis? it seems likely that climatewatch.org would be incentivized to publish such data if they proved significant connection between emissions and a countries \"developedness\": perhaps this sort of \"mangling\" of the data is how climate-change-related misinformation (and false statistics) spreads? \n",
    "\n",
    "\n",
    "#### limitations\n",
    "\n",
    "there are certainly many limitations to this data: at the very least, part of the scope of this analysis seems limited, since it's about *greenhouse gas emissions by industry* and not pointing directly at fashion itself. but, looking into the data itself, it seems like there could be limitations just based on scale (in megatons, or with population in thousands); given that some countries inevitably get rounded down (to ~ 0 emissions), it seems harder to create significant analyses. this is unsatisfying; however, we are unsure how this might otherwise be solved (since all data will come with this issue as well).\n",
    "\n",
    "#### acknowledgements\n",
    "\n",
    "we'd like to thank our ta, anna, for her constant support for this project, and for many early-rising tas showing up in rhodes to answer the questions we had! :)"
   ]
  },
  {
   "cell_type": "markdown",
   "metadata": {},
   "source": [
    "## analysis two"
   ]
  },
  {
   "cell_type": "code",
   "execution_count": null,
   "metadata": {},
   "outputs": [],
   "source": [
    "industry_data=pd.read_csv('CIA_industry_data.csv')\n",
    "industry_data=industry_data.rename(columns={'Country/Region': 'country'})\n",
    "industry_data=industry_data.drop(columns='Jute')\n",
    "industry_data.dtypes"
   ]
  },
  {
   "cell_type": "code",
   "execution_count": null,
   "metadata": {},
   "outputs": [],
   "source": [
    "industry_data.head()"
   ]
  },
  {
   "cell_type": "code",
   "execution_count": null,
   "metadata": {},
   "outputs": [],
   "source": [
    "analysis_two=hdi.merge(industry_data, how='left', on='country')\n",
    "# analysis_two = analysis_two.drop(['country'], axis = 1)"
   ]
  },
  {
   "cell_type": "code",
   "execution_count": null,
   "metadata": {},
   "outputs": [],
   "source": [
    "analysis_two[analysis_two.hdi.str.find('..')==0]"
   ]
  },
  {
   "cell_type": "code",
   "execution_count": null,
   "metadata": {},
   "outputs": [],
   "source": [
    "analysis_two=analysis_two.drop([189,195])\n",
    "analysis_two.hdi=analysis_two.hdi.astype(float)"
   ]
  },
  {
   "cell_type": "code",
   "execution_count": null,
   "metadata": {},
   "outputs": [],
   "source": [
    "sns.heatmap(analysis_two.corr(), cmap='coolwarm')\n",
    "plt.tight_layout()\n",
    "plt.show()"
   ]
  },
  {
   "cell_type": "code",
   "execution_count": null,
   "metadata": {},
   "outputs": [],
   "source": [
    "analysis_two.corr(method='pearson')"
   ]
  },
  {
   "cell_type": "code",
   "execution_count": null,
   "metadata": {},
   "outputs": [],
   "source": [
    "analysis_two.hdi.dtype"
   ]
  },
  {
   "cell_type": "code",
   "execution_count": null,
   "metadata": {},
   "outputs": [],
   "source": [
    "plt.scatter(analysis_two.Textiles, analysis_two.hdi)"
   ]
  },
  {
   "cell_type": "code",
   "execution_count": null,
   "metadata": {},
   "outputs": [],
   "source": [
    "plt.scatter(analysis_two.Cotton, analysis_two.hdi)"
   ]
  },
  {
   "cell_type": "code",
   "execution_count": null,
   "metadata": {},
   "outputs": [],
   "source": [
    "plt.scatter(analysis_two.Garments, analysis_two.hdi)"
   ]
  },
  {
   "cell_type": "code",
   "execution_count": null,
   "metadata": {},
   "outputs": [],
   "source": [
    "plt.scatter(analysis_two.Clothing, analysis_two.hdi)"
   ]
  },
  {
   "cell_type": "markdown",
   "metadata": {},
   "source": [
    "Here I'm merging the analysis_one dataframe that contains GHG emissions per sector ('countries','agriculture','energy','waste','industrial','bunker fuels') with the analysis_two df that contains the list of countries and their corresponding hdi and indexes regarding cotton, clothing, garments, and textiles."
   ]
  },
  {
   "cell_type": "code",
   "execution_count": null,
   "metadata": {},
   "outputs": [],
   "source": [
    "analysis_two"
   ]
  },
  {
   "cell_type": "markdown",
   "metadata": {},
   "source": [
    "In this cell, we are merging our analysis_two dataframe with the GHG emission dataframe and loading the merged data into a new dataframe labeled \"analysis_two_all\""
   ]
  },
  {
   "cell_type": "code",
   "execution_count": null,
   "metadata": {},
   "outputs": [],
   "source": [
    "analysis_two_all = df_ghgchange.merge(analysis_two, how='left', on='country')\n",
    "analysis_two_all"
   ]
  },
  {
   "cell_type": "markdown",
   "metadata": {},
   "source": [
    "### Task List\n",
    "- 1) Create a scatterplot for each sector compared against the GHG emissions. - Completed.\n",
    "- 2) Cluster the data.\n",
    "- 3) Make histogram of each cluster of HDI (assuming the clusters relate to HDI.\n",
    "- 4) determine if there is a correlation between each cluster and a country's stage of developement."
   ]
  },
  {
   "cell_type": "markdown",
   "metadata": {},
   "source": [
    "These are scatterplots representing the different emission sectors in comparison to the Textile production index of each country (all data is taken from the analysis_two_all dataframe)"
   ]
  },
  {
   "cell_type": "code",
   "execution_count": null,
   "metadata": {},
   "outputs": [],
   "source": [
    "list = ['agriculture','energy','waste','industrial','bunker fuels']\n",
    "i = 0\n",
    "for i in list:\n",
    "    first_scatter = sns.scatterplot(x=analysis_two_all[i], y=analysis_two_all['Textiles'])\n",
    "    first_scatter.set_xlabel(i + ' emissions')\n",
    "    first_scatter.set_ylabel('Textiles Index')\n",
    "    plt.show()"
   ]
  },
  {
   "cell_type": "markdown",
   "metadata": {},
   "source": [
    "These are scatterplots representing the different emission sectors in comparison to the Cotton production index of each country. "
   ]
  },
  {
   "cell_type": "code",
   "execution_count": null,
   "metadata": {},
   "outputs": [],
   "source": [
    "for i in list:\n",
    "    first_scatter = sns.scatterplot(x=analysis_two_all[i], y=analysis_two_all['Cotton'])\n",
    "    first_scatter.set_xlabel(i + ' emissions')\n",
    "    first_scatter.set_ylabel('Cotton Index')\n",
    "    plt.show()"
   ]
  },
  {
   "cell_type": "markdown",
   "metadata": {},
   "source": [
    "These are scatterplots representing the different emission sectors in comparison to the Clothing production index of each country. "
   ]
  },
  {
   "cell_type": "code",
   "execution_count": null,
   "metadata": {},
   "outputs": [],
   "source": [
    "for i in list:\n",
    "    first_scatter = sns.scatterplot(x=analysis_two_all[i], y=analysis_two_all['Clothing'])\n",
    "    first_scatter.set_xlabel(i + ' emissions')\n",
    "    first_scatter.set_ylabel('Clothing Index')\n",
    "    plt.show()"
   ]
  },
  {
   "cell_type": "markdown",
   "metadata": {},
   "source": [
    "These are scatterplots representing the different emission sectors in comparison to the Garment production index of each country. "
   ]
  },
  {
   "cell_type": "code",
   "execution_count": null,
   "metadata": {},
   "outputs": [],
   "source": [
    "for i in list:\n",
    "    first_scatter = sns.scatterplot(x=analysis_two_all[i], y=analysis_two_all['Garments'])\n",
    "    first_scatter.set_xlabel(i + ' emissions')\n",
    "    first_scatter.set_ylabel('Garments Index')\n",
    "    plt.show()"
   ]
  },
  {
   "cell_type": "markdown",
   "metadata": {},
   "source": [
    "In this cell, we are clustering the data. "
   ]
  },
  {
   "cell_type": "code",
   "execution_count": null,
   "metadata": {},
   "outputs": [],
   "source": [
    "clustering = KMeans(n_clusters = 3, random_state = 15)\n",
    "KM = clustering.fit(analysis_two_all[[\"agriculture\", \"Textiles\"]])\n",
    "KM.cluster_centers_\n",
    "\n",
    "cluster_labels = KM.labels_\n",
    "print(cluster_labels[:5])\n",
    "analysis_two_all[\"cluster_label\"] = cluster_labels\n",
    "analysis_two_all.head()\n",
    "\n",
    "\n",
    "\n",
    "\n",
    "\n",
    "\n",
    "\n",
    "\n",
    "#for i in list: \n",
    "#    KM = clustering.fit(analysis_two_all[[i, \"Textiles\"]])\n",
    "#    KM.cluster_centers_\n",
    " #   sns.relplot(x=analysis_two_all[i], y = \"Textiles\", style = \"cluster_label\", s = 80, alpha=.6, data = analysis_two_all)"
   ]
  },
  {
   "cell_type": "code",
   "execution_count": null,
   "metadata": {},
   "outputs": [],
   "source": [
    "sns.relplot(x=\"bill_length_mm\", y = \"flipper_length_mm\", style = \"cluster_label\", s = 80, hue = \"species\", alpha=.6, data = analysis_two_all)"
   ]
  }
 ],
 "metadata": {
  "kernelspec": {
   "display_name": "Python 3",
   "language": "python",
   "name": "python3"
  },
  "language_info": {
   "codemirror_mode": {
    "name": "ipython",
    "version": 3
   },
   "file_extension": ".py",
   "mimetype": "text/x-python",
   "name": "python",
   "nbconvert_exporter": "python",
   "pygments_lexer": "ipython3",
   "version": "3.8.5"
  }
 },
 "nbformat": 4,
 "nbformat_minor": 4
}
