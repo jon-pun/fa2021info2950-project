{
 "cells": [
  {
   "cell_type": "markdown",
   "metadata": {},
   "source": [
    "## analysis one\n",
    "\n",
    "in this analysis, we will analyze correlation between HDI (human development index) and GHG emissions per economic sector (i.e. manufacturing, bunker fuel, etc)."
   ]
  },
  {
   "cell_type": "code",
<<<<<<< Updated upstream
<<<<<<< HEAD
<<<<<<< HEAD
   "execution_count": 55,
=======
   "execution_count": 1,
=======
=======
>>>>>>> parent of d0a089a (added markdown cells)
   "execution_count": 3,
=======
<<<<<<< HEAD
   "execution_count": 10,
=======
   "execution_count": 3,
>>>>>>> 43a13bf2546af412be6dab0aa34190b2a1fd0e8b
<<<<<<< HEAD
>>>>>>> parent of d0a089a (added markdown cells)
=======
>>>>>>> parent of d0a089a (added markdown cells)
>>>>>>> Stashed changes
   "metadata": {},
   "outputs": [],
   "source": [
    "## load libraries\n",
    "\n",
    "## our old friends...\n",
    "import numpy as np\n",
    "import pandas as pd\n",
    "import matplotlib.pyplot as plt\n",
    "\n",
    "## ...and some new ones\n",
    "import seaborn as sns\n",
    "\n",
    "\n",
    "## load CSVs\n",
    "agriculture=pd.read_csv('agriculture.csv', na_values={'false','False','FALSE'})\n",
    "energy=pd.read_csv('energy.csv',  na_values={'false','False','FALSE'})\n",
    "waste=pd.read_csv('waste.csv',   na_values={'false','False','FALSE'})\n",
    "industrial=pd.read_csv('industrial-processes.csv',  na_values={'false','False','FALSE'})\n",
    "bunker_fuels=pd.read_csv('bunker-fuels.csv',  na_values={'false','False','FALSE'})"
   ]
  },
  {
   "cell_type": "code",
<<<<<<< Updated upstream
<<<<<<< HEAD
<<<<<<< HEAD
   "execution_count": 11,
=======
   "execution_count": 2,
=======
=======
>>>>>>> parent of d0a089a (added markdown cells)
   "execution_count": 4,
=======
<<<<<<< HEAD
   "execution_count": 11,
=======
   "execution_count": 4,
>>>>>>> 43a13bf2546af412be6dab0aa34190b2a1fd0e8b
<<<<<<< HEAD
>>>>>>> parent of d0a089a (added markdown cells)
=======
>>>>>>> parent of d0a089a (added markdown cells)
>>>>>>> Stashed changes
   "metadata": {},
   "outputs": [],
   "source": [
    "## load HDI data\n",
    "hdi = pd.read_csv('Human Development Index (HDI)-2.csv', header = 5)\n",
    "cols = {'Country', '2019'} # subset to just keep 2019 hdis\n",
    "hdi = hdi[cols] # keeping only relevant data\n",
    "\n",
    "hdi['Country'] = hdi['Country'].str.strip(' ')\n",
    "\n",
    "hdi = hdi.rename(columns={'Country': 'country', '2019': 'hdi'})"
   ]
  },
  {
   "cell_type": "code",
<<<<<<< Updated upstream
<<<<<<< HEAD
<<<<<<< HEAD
   "execution_count": 12,
=======
   "execution_count": 3,
=======
=======
>>>>>>> parent of d0a089a (added markdown cells)
   "execution_count": 5,
=======
<<<<<<< HEAD
   "execution_count": 12,
=======
   "execution_count": 5,
>>>>>>> 43a13bf2546af412be6dab0aa34190b2a1fd0e8b
<<<<<<< HEAD
>>>>>>> parent of d0a089a (added markdown cells)
=======
>>>>>>> parent of d0a089a (added markdown cells)
>>>>>>> Stashed changes
   "metadata": {},
   "outputs": [
    {
     "data": {
      "text/html": [
       "<div>\n",
       "<style scoped>\n",
       "    .dataframe tbody tr th:only-of-type {\n",
       "        vertical-align: middle;\n",
       "    }\n",
       "\n",
       "    .dataframe tbody tr th {\n",
       "        vertical-align: top;\n",
       "    }\n",
       "\n",
       "    .dataframe thead th {\n",
       "        text-align: right;\n",
       "    }\n",
       "</style>\n",
       "<table border=\"1\" class=\"dataframe\">\n",
       "  <thead>\n",
       "    <tr style=\"text-align: right;\">\n",
       "      <th></th>\n",
       "      <th>country</th>\n",
       "      <th>hdi</th>\n",
       "    </tr>\n",
       "  </thead>\n",
       "  <tbody>\n",
       "    <tr>\n",
       "      <td>0</td>\n",
       "      <td>Afghanistan</td>\n",
       "      <td>0.511</td>\n",
       "    </tr>\n",
       "    <tr>\n",
       "      <td>1</td>\n",
       "      <td>Albania</td>\n",
       "      <td>0.795</td>\n",
       "    </tr>\n",
       "    <tr>\n",
       "      <td>2</td>\n",
       "      <td>Algeria</td>\n",
       "      <td>0.748</td>\n",
       "    </tr>\n",
       "    <tr>\n",
       "      <td>3</td>\n",
       "      <td>Andorra</td>\n",
       "      <td>0.868</td>\n",
       "    </tr>\n",
       "    <tr>\n",
       "      <td>4</td>\n",
       "      <td>Angola</td>\n",
       "      <td>0.581</td>\n",
       "    </tr>\n",
       "  </tbody>\n",
       "</table>\n",
       "</div>"
      ],
      "text/plain": [
       "       country    hdi\n",
       "0  Afghanistan  0.511\n",
       "1      Albania  0.795\n",
       "2      Algeria  0.748\n",
       "3      Andorra  0.868\n",
       "4       Angola  0.581"
      ]
     },
<<<<<<< Updated upstream
<<<<<<< HEAD
<<<<<<< HEAD
     "execution_count": 12,
=======
     "execution_count": 3,
=======
     "execution_count": 5,
=======
<<<<<<< HEAD
     "execution_count": 12,
=======
     "execution_count": 5,
>>>>>>> 43a13bf2546af412be6dab0aa34190b2a1fd0e8b
>>>>>>> parent of d0a089a (added markdown cells)
=======
     "execution_count": 5,
=======
<<<<<<< HEAD
     "execution_count": 12,
=======
     "execution_count": 5,
>>>>>>> 43a13bf2546af412be6dab0aa34190b2a1fd0e8b
>>>>>>> parent of d0a089a (added markdown cells)
>>>>>>> Stashed changes
     "metadata": {},
     "output_type": "execute_result"
    }
   ],
   "source": [
    "hdi.head()"
   ]
  },
  {
   "cell_type": "code",
<<<<<<< Updated upstream
<<<<<<< HEAD
<<<<<<< HEAD
   "execution_count": 13,
=======
   "execution_count": 4,
=======
=======
>>>>>>> parent of d0a089a (added markdown cells)
   "execution_count": 6,
=======
<<<<<<< HEAD
   "execution_count": 13,
=======
   "execution_count": 6,
>>>>>>> 43a13bf2546af412be6dab0aa34190b2a1fd0e8b
<<<<<<< HEAD
>>>>>>> parent of d0a089a (added markdown cells)
=======
>>>>>>> parent of d0a089a (added markdown cells)
>>>>>>> Stashed changes
   "metadata": {},
   "outputs": [],
   "source": [
    "agriculture = agriculture.sort_values('Country/Region')\n",
    "energy = energy.sort_values('Country/Region')\n",
    "waste = waste.sort_values('Country/Region')\n",
    "industrial = industrial.sort_values('Country/Region')\n",
    "bunker_fuels = bunker_fuels.sort_values('Country/Region')\n",
    "\n",
    "ag_ghgchange = (agriculture['2018']-agriculture['2008'])\n",
    "energy_ghgchange = (energy['2018']-energy['2008'])\n",
    "waste_ghgchange = (waste['2018']-waste['2008'])\n",
    "industrial_ghgchange = (industrial['2008']-industrial['1998'])\n",
    "bunker_ghgchange = (bunker_fuels['2008']-bunker_fuels['1998'])"
   ]
  },
  {
   "cell_type": "code",
<<<<<<< Updated upstream
<<<<<<< HEAD
<<<<<<< HEAD
   "execution_count": 14,
=======
   "execution_count": 5,
=======
   "execution_count": 7,
=======
<<<<<<< HEAD
   "execution_count": 14,
=======
   "execution_count": 7,
>>>>>>> 43a13bf2546af412be6dab0aa34190b2a1fd0e8b
>>>>>>> parent of d0a089a (added markdown cells)
=======
   "execution_count": 7,
=======
<<<<<<< HEAD
   "execution_count": 14,
=======
   "execution_count": 7,
>>>>>>> 43a13bf2546af412be6dab0aa34190b2a1fd0e8b
>>>>>>> parent of d0a089a (added markdown cells)
>>>>>>> Stashed changes
   "metadata": {},
   "outputs": [
    {
     "data": {
      "text/html": [
       "<div>\n",
       "<style scoped>\n",
       "    .dataframe tbody tr th:only-of-type {\n",
       "        vertical-align: middle;\n",
       "    }\n",
       "\n",
       "    .dataframe tbody tr th {\n",
       "        vertical-align: top;\n",
       "    }\n",
       "\n",
       "    .dataframe thead th {\n",
       "        text-align: right;\n",
       "    }\n",
       "</style>\n",
       "<table border=\"1\" class=\"dataframe\">\n",
       "  <thead>\n",
       "    <tr style=\"text-align: right;\">\n",
       "      <th></th>\n",
       "      <th>country</th>\n",
       "      <th>agriculture</th>\n",
       "      <th>energy</th>\n",
       "      <th>waste</th>\n",
       "      <th>industrial</th>\n",
       "      <th>bunker fuels</th>\n",
       "    </tr>\n",
       "  </thead>\n",
       "  <tbody>\n",
       "    <tr>\n",
       "      <td>57</td>\n",
       "      <td>Afghanistan</td>\n",
       "      <td>67.42</td>\n",
       "      <td>-4.08</td>\n",
       "      <td>-0.8</td>\n",
       "      <td>0.54</td>\n",
       "      <td>-1.3</td>\n",
       "    </tr>\n",
       "    <tr>\n",
       "      <td>145</td>\n",
       "      <td>Albania</td>\n",
       "      <td>2.17</td>\n",
       "      <td>0.68</td>\n",
       "      <td>0.95</td>\n",
       "      <td>0.05</td>\n",
       "      <td>-0.03</td>\n",
       "    </tr>\n",
       "    <tr>\n",
       "      <td>38</td>\n",
       "      <td>Algeria</td>\n",
       "      <td>58.44</td>\n",
       "      <td>-17.34</td>\n",
       "      <td>-0.39</td>\n",
       "      <td>5.61</td>\n",
       "      <td>0.56</td>\n",
       "    </tr>\n",
       "    <tr>\n",
       "      <td>177</td>\n",
       "      <td>Andorra</td>\n",
       "      <td>-0.05</td>\n",
       "      <td>0.15</td>\n",
       "      <td>0.08</td>\n",
       "      <td>0</td>\n",
       "      <td>0</td>\n",
       "    </tr>\n",
       "    <tr>\n",
       "      <td>47</td>\n",
       "      <td>Angola</td>\n",
       "      <td>1.2</td>\n",
       "      <td>64.3</td>\n",
       "      <td>-2.18</td>\n",
       "      <td>1.13</td>\n",
       "      <td>1.59</td>\n",
       "    </tr>\n",
       "    <tr>\n",
       "      <td>...</td>\n",
       "      <td>...</td>\n",
       "      <td>...</td>\n",
       "      <td>...</td>\n",
       "      <td>...</td>\n",
       "      <td>...</td>\n",
       "      <td>...</td>\n",
       "    </tr>\n",
       "    <tr>\n",
       "      <td>29</td>\n",
       "      <td>Venezuela</td>\n",
       "      <td>-67.4</td>\n",
       "      <td>44.14</td>\n",
       "      <td>0.62</td>\n",
       "      <td>6.66</td>\n",
       "      <td>1.41</td>\n",
       "    </tr>\n",
       "    <tr>\n",
       "      <td>23</td>\n",
       "      <td>Vietnam</td>\n",
       "      <td>126.44</td>\n",
       "      <td>126.77</td>\n",
       "      <td>1.21</td>\n",
       "      <td>3.64</td>\n",
       "      <td>-0.78</td>\n",
       "    </tr>\n",
       "    <tr>\n",
       "      <td>122</td>\n",
       "      <td>Yemen</td>\n",
       "      <td>-11.3</td>\n",
       "      <td>4.3</td>\n",
       "      <td>0.34</td>\n",
       "      <td>0.22</td>\n",
       "      <td>-0.03</td>\n",
       "    </tr>\n",
       "    <tr>\n",
       "      <td>59</td>\n",
       "      <td>Zambia</td>\n",
       "      <td>27.67</td>\n",
       "      <td>-5.72</td>\n",
       "      <td>0.52</td>\n",
       "      <td>0.89</td>\n",
       "      <td>0.63</td>\n",
       "    </tr>\n",
       "    <tr>\n",
       "      <td>49</td>\n",
       "      <td>Zimbabwe</td>\n",
       "      <td>83.42</td>\n",
       "      <td>4.39</td>\n",
       "      <td>0.78</td>\n",
       "      <td>2.39</td>\n",
       "      <td>1.06</td>\n",
       "    </tr>\n",
       "  </tbody>\n",
       "</table>\n",
       "<p>195 rows × 6 columns</p>\n",
       "</div>"
      ],
      "text/plain": [
       "         country agriculture  energy waste industrial bunker fuels\n",
       "57   Afghanistan       67.42   -4.08  -0.8       0.54         -1.3\n",
       "145      Albania        2.17    0.68  0.95       0.05        -0.03\n",
       "38       Algeria       58.44  -17.34 -0.39       5.61         0.56\n",
       "177      Andorra       -0.05    0.15  0.08          0            0\n",
       "47        Angola         1.2    64.3 -2.18       1.13         1.59\n",
       "..           ...         ...     ...   ...        ...          ...\n",
       "29     Venezuela       -67.4   44.14  0.62       6.66         1.41\n",
       "23       Vietnam      126.44  126.77  1.21       3.64        -0.78\n",
       "122        Yemen       -11.3     4.3  0.34       0.22        -0.03\n",
       "59        Zambia       27.67   -5.72  0.52       0.89         0.63\n",
       "49      Zimbabwe       83.42    4.39  0.78       2.39         1.06\n",
       "\n",
       "[195 rows x 6 columns]"
      ]
     },
<<<<<<< Updated upstream
<<<<<<< HEAD
<<<<<<< HEAD
     "execution_count": 14,
=======
     "execution_count": 5,
=======
     "execution_count": 7,
=======
<<<<<<< HEAD
     "execution_count": 14,
=======
     "execution_count": 7,
>>>>>>> 43a13bf2546af412be6dab0aa34190b2a1fd0e8b
>>>>>>> parent of d0a089a (added markdown cells)
=======
     "execution_count": 7,
=======
<<<<<<< HEAD
     "execution_count": 14,
=======
     "execution_count": 7,
>>>>>>> 43a13bf2546af412be6dab0aa34190b2a1fd0e8b
>>>>>>> parent of d0a089a (added markdown cells)
>>>>>>> Stashed changes
     "metadata": {},
     "output_type": "execute_result"
    }
   ],
   "source": [
    "data_ghgchange = {'country': agriculture['Country/Region'].str.strip(' '), 'agriculture': ag_ghgchange, 'energy': energy_ghgchange,\n",
    "                  'waste': waste_ghgchange, 'industrial': industrial_ghgchange, 'bunker fuels': bunker_ghgchange}\n",
    "df_ghgchange = pd.DataFrame.from_dict(data_ghgchange, orient = 'index')\n",
    "df_ghgchange = df_ghgchange.transpose()\n",
    "\n",
    "df_ghgchange"
   ]
  },
  {
   "cell_type": "code",
<<<<<<< Updated upstream
<<<<<<< HEAD
<<<<<<< HEAD
   "execution_count": 15,
=======
   "execution_count": 6,
=======
=======
>>>>>>> parent of d0a089a (added markdown cells)
   "execution_count": 8,
=======
<<<<<<< HEAD
   "execution_count": 15,
=======
   "execution_count": 8,
>>>>>>> 43a13bf2546af412be6dab0aa34190b2a1fd0e8b
<<<<<<< HEAD
>>>>>>> parent of d0a089a (added markdown cells)
=======
>>>>>>> parent of d0a089a (added markdown cells)
>>>>>>> Stashed changes
   "metadata": {},
   "outputs": [
    {
     "data": {
      "text/plain": [
       "<matplotlib.axes._subplots.AxesSubplot at 0x7f833556ab10>"
      ]
     },
<<<<<<< Updated upstream
<<<<<<< HEAD
<<<<<<< HEAD
     "execution_count": 15,
=======
     "execution_count": 6,
=======
=======
>>>>>>> parent of d0a089a (added markdown cells)
     "execution_count": 8,
=======
<<<<<<< HEAD
     "execution_count": 15,
=======
     "execution_count": 8,
>>>>>>> 43a13bf2546af412be6dab0aa34190b2a1fd0e8b
<<<<<<< HEAD
>>>>>>> parent of d0a089a (added markdown cells)
=======
>>>>>>> parent of d0a089a (added markdown cells)
>>>>>>> Stashed changes
     "metadata": {},
     "output_type": "execute_result"
    },
    {
     "data": {
      "image/png": "iVBORw0KGgoAAAANSUhEUgAAAY0AAAEGCAYAAACZ0MnKAAAABHNCSVQICAgIfAhkiAAAAAlwSFlzAAALEgAACxIB0t1+/AAAADh0RVh0U29mdHdhcmUAbWF0cGxvdGxpYiB2ZXJzaW9uMy4xLjEsIGh0dHA6Ly9tYXRwbG90bGliLm9yZy8QZhcZAAAgAElEQVR4nO3df5xcVX3/8ddnZ7ObJRtITDYQSJTAN4kGikKW361FwYAWzUMBRcQgVkhEiu2jVbSW1pbar4jWgkUgtKBYW4ogJV+05Ydf0W9BJBv5IUQDEYpZfiRLSEKy2eyvOd8/7j0zZ2bu7N7dndmZ3X0/H4997MydO/eee++553N+3HvHnHOIiIik0VDrBIiIyMShoCEiIqkpaIiISGoKGiIikpqChoiIpNZY6wRU09y5c92hhx5a62SIiEwoGzZseNU515b02aQOGoceeigdHR21ToaIyIRiZi+U+0zdUyIikpqChoiIpKagISIiqSloiIhIagoaIiKS2qS+ekpEJrds1rG9u4++gUGaGjPMmdFEQ4NN+nXXkoKGiExI2axj09bdXHRrB507elgwu4WbVrWz9MCZVS+8a7nuWlP3lIhMSNu7+3KF9tELZ3HFmcvo7h3gldf3kc06sllH1+5eXtyxl67dvWSzlfsZiHDdAJ07erjo1g62d/dVbB31Si0NyZmqzW2pHyPJg30Dg7mA8WenL+XyO5/M1fpv/fhx9A5kq9YS8OsOde7ooW9gcMzLrncKGlNAmhOxXHN7cVsrO3r6FUik6kba5dPUmGHB7BbWnHJ4LmBAVHi/sH0vV9z9VElL4K5LTqZtZnPBOkdTUfLrDgPHgtktNDVmxrob6p66pyY5fyK+/5sPcfJVP+b933yITVt3lzTVk5rbX79/E5u2Df9dqayBgSwv7ezhhe3dvLSzh4GBbK2TNC5G2uUzZ0YTN61qZ86MppJa/35NmWFbAmnPjaHWvWB2C0AuwM2Z0TSiba6GanbLgYLGpJf2RExqbp+1fCGrv7NhSvbb1srAQJZfb93NB2/8Gb9/9YN88Maf8eutu+s2cKQtoNLMN9Iun4YGY+mBMzl4Vkuu8Pb29g2WTCtuCYxlXMKv+65LTuahy9/BXZecXBeD4GMJhGkpaExyaU9E39wOJdXgpkq/bSWMpsa3bU8va/6lMFCv+ZcNbNvTW+3kjljaAirtfEl5cLgun4YG46D9p5fU+t80Z79hWwJjHZdoaDDaZjZzyOz9aJvZXPOAAeMzQK8xjUkubd+rb26H/cnzZjYnfrelKUPX7l6NcwxhtJdk9g9mEwuygcH6aGmEYwBmllhAFY8blCvIiudLyoNpunzCWn+YJ4GSaeG+n4zjEuMxQK+gMQmFJ3ZLUybViZh04s1umVby3Vs/fhxbX++t2fXpE+VmrrQFZbFpmYbEgqwxU51OgZFsU3EgvGPNiYkFVDabLahUlCvIiuebM6MpsfD36Rkqrb7WX2yofT3aIDWWfVjtZY1HIFTQqIFqFnxJNdxbP34c37/kJPoHskOuL+nEKz6JHY5V33x4xIVhtbat0gGr3LEZ6bpHW+Ob19rMDecvz3VRLZjdwg3nL2dea/OQ6Rvtto5km4oD4fbuvpICasWyebza3ZcbC1swu4V//cTxqebz607KR9U49uVaKCNZXiXTVYllVSoQDsWcm7xXwrS3t7t6+xGmcoV66/TGYQv1NLp29/L+bz5UUtOoVKH+4o69nHzVj0umP3T5Ozhk9n6pljHagi/tto12+UOdtNu7+0a0X8uldd2lJzOYZci0DQxk2banl4HBLI2ZBua1Rv3lO3v6eHnnPlb/S2lBO5r8MtK8Unzsi++PWLFsHn/53iM4d+0jJQHi06ctKQkk5/3Tz8e8P8ejshIqzlsOxweCSpRPV5rjXKxS21iJioWZbXDOtSd9ppZGlfkCoH8wy7RMA83TCvuB21qb2fr6Plbd/GRBQRDeH9HSlGEg61IFldHUcEeSyco1f82i2vhwmXMstamhts13c7Q0ZUbdfVZ8h/GaUw6nbyDLy7t6GMy6Ee3XpBpf2q69xsYGDp6VHxD2++yVXftS3XtQTvFxHmleKT72j23Zybcffp7bV59IxuDV7j5e2bWvZJn3bdzGlSuPLKjRp123T/PevoGK9tUPledH0tr8lz88viRdba3NicF9uHuehtsnac/Tcl11laKgkaD44MxumZbqBrfi782a3simbXtKuhraWptzBdNXzj6KC7+1vqQg+O4njucj//Rz2lqb+ewZS/nMHU+mKgSbGjOsWDaPs5YvZN7MZlqbG+kbzJYt1EdaiCcVhleddRRfXPcUf/KupcMWziPp6y/en+X6+wezLldDu+Vjx466YB3uDuORBMuGBmNxWyu3rz6RgcEsmQbDgFU3PzqitGWzjlde38dFt3bwtXPeWrB+H9j29g3QtZvU4xEnHTaHi3//cKZljFs+dizX/uhZHtuyM7dNvv/b7/9sNsugg4zBjR9dzurvbKCttZnLTl3MorkzaMxE61z9nQ1cceaygv109MJZXHbqYnoHs7Q0NDD/gBYaGoyu3b25+fx2zJnRVLA/wzSHyy03f1pD5Xmg7E2u2/b0luTd51/tLskXl526OBcw/Hxfv39TSWuruIdhWmNy/m5qzNTVs64mXNAwszOAa4AM8E/OuS9XcvnhwWlrbebP3/MWtjZlcgX/imXz+Is/WEamwQqu0kjqOrjt4hMSL5/81oXHsfYnv2Hl0Yewq6c/sXbRtbuXzh09XHHmslzA8CeLf77OQftPL8kws1umcdmpSwoC1VVnHcU1DzyTWKinLcTDAvzA/Zu5ffWJvLSzh+3dfdz92IuctXwh3b0DvLqnF4yCVpFfTzabZd9AlrbWZq44cxmzWqbRHxeoYcFXvD99AfWW+TO5+uyjCgLoNz9yDH/7g425/bPwDS2J+zOpRhp2A2UajMYGK3uH8Zf/81clYw1hsCyuRc5umcZvd+xl2+5e2mY285uubua2Dn0Jc1Jl5dmuPXT3RrXsnT39BQVncWALC5GkbhQfMM4/8U187JZHc9+7+uyjuOsXL/Lu35nPkgNb6R/MsnVXD69293HNA89wwUmLCrqgvrf6BF7r7i/I677GfcODv+Gqs47i8jufTKzw+ILSZR03fnR5yfLLFdJ+ud9++PnE+dMUnuE+Scrz31t9Ig5yn31w+QIuevthNGaMF3f1sKe3tLVz7Y+e5cbzlxfsi0VzZ5TMF97zdPTCWXz2jKV09w7kKhErls3jr993RMmy/HhEufN0NN1gYzWhgoaZZYDrgHcBncB6M1vnnNtYqXX4g9PW2syfnb6UPb0D/Mntj+cO9gUnLcr1xYbPuEnqOugbSL58cufePtaccjirbn60pGYGUe3CX1c9q2VaSSHhC9G+gSz7NWeYOyN/jfiOnv6SQHX5nU9yxZnLEjNZUpO4rbWZvoFBXtyxt6Dw8pl2xbJ5fOEPlnH2DT8rSVdSIdE7kOXr92/igpMW0ZRpKJnn6rOP4o9ve5yuPb0l+9Mfh8vvfJKvnfNWvvJfm3IBZ2dPP0bU/eHTseW1nlRXj/ib6MIg8LVz3sp15x0NWGIXy6dPW8ItHzuWXT39bO/u46v3bsrV0Itrkd9bfQJbX99XsJ3XnXcMK5bN476N20rSllST/NdPHF9Qyw4L5KTA5o8vUFKB8YX6RW8/rKRl+5k7nuS7nzieL/1gY65AvuLMZVx5z0auOHNZwXru27iNDx/3ppK87mvcj23ZyVfvjY7RkgNb+eg/51tWxV2xSWMgYa28py+fN/1yy7XMh2tJhvv3Gx8+OvG87Okf5LXuvlzAOP/EN+XWVe74de3pZf6s6SUXixTnQX/Pk8+n+/qzfOaOXxSUK+fc+Ahtrc1cufJIFs2dUXBulztPKznGldZEu7nvOGCzc+4551wfcBuwspIr8AfHn5Th4wjKPePmols7Eh9bMJh1iTcrbe/uy2VOXxCENyFdd94x3LlhC0CudunX7QvRK+5+ilO++iAf+ObDBTdKhZnr6IWzuPGjy/naOW9lybxWTjpsDi/v3Fdwk1VxGn0t6ENrH8nN89KunoK+/gtOWsRzXd0ltfI1pxyeKySL989Zyxdy+Z1P0jswWDLPZ+54kj9dsYQrzlyGGQX7M1z+zp5+uvb0svo7G/jQ2kdY/Z0NvLqnryAd1/7o2ZL9mXT1SNJNdH/6vSfYvW+AN8xoSjxunTt6eK27j7Nv+Bmrv7OBx7bs5OiFs/jM6W/OBYwPLl/ALR87lr5Bx77+qFXll/+pf/0Fn3v3WwrSduvHj8PheDnYx37+bXFr0+eRrj29fPXeTVy58kjefNDMsoXIE1t2lXSP+EI901AaEH3L1h+jzh09ucqK/x9Kyuu+xu0Dx5X3bMSKgm9x/rhv47bEMRBfK/dXZ3mPbdlZtmUettaSbqgMa+qtzY2Jx/eF7Xtz67zo7YdxyXd/UbAPk47fTavamdXSVHCT39wZzSU3Fvp7noYrVx7bspMLv7We8//55xiWK/yTbnxM6gYbjyc2TKiWBnAIsCV43wkcH85gZhcDFwO88Y1vHPEK/MHxJ0vYJTDUCVTcdbDmlMMxg+vPX84ni7o0vnrvJtaccnjuBLv7sRe55WPH0tTYwHNd3Xz3kRe44KRFbHx5Nzc8+BuuPvsopmUa6NzRU1LzK65p+fSHNXS/7m9+5Biu+dEzBd/92x9szPVTd+7o4bJTF3PLQ88X1OZ3B83yMHhdddZRNDc25D4bav/4z/x2hDp39DB/VgsX3Pxort/e789wmWFN22+Tv/PXd+F07ujJ1XRntUxjweyWXD96qNxNdNMyDezc21eynuvOO4brfvwsZy1fWNJF5AuypNqpP96PbdlJ544edvX0R4X+/JlkLOrbXxVsd8gXYGHtfc6MJg6e1UJjxsr2pYfL8nlxbmsTN56/nKyj5Hu+IhPua7//w3zt+Ud0hNPS1LiT8kfSZbu+Vp50vMvdcDpcv39YmdrXP1iy3Os/cgx/effTAFx11lFlg+uunv6C45DURTzUPU9JXY1J+yUMhH6fFI8lFneDjWSMaywmWksjaQ8UXDPsnFvrnGt3zrW3tbWNeAX+4PgTI2wJ+AMdKp5vxbJ5/NnpS7nyno2c9vc/5Z7HO/n3i0/gjjUncsWZy3IFyJ0btnDj+ctZsWweK48+hAu/tZ4/vu1xpk9r4OHntudqlF//0NtYclBr7vk6w2Uwn/7LTl1cElwu+e4vOGv5woLv3rdxG3NnNOWeofPm+a1ccNIirrxnIx9a+whX3rORgUHHimXzgPyJ7wuyA+KCGRhy/xQXQqEFs1v47fa9BSeT35/hM4T8Oq9ceSQ//Wz0vJ9D58woef7QY1t2svo7G/jT7z1BU2Mm8cTxg+rF6djZ08+re/r49sNR4LzrkpO45WPHMqM5w6dPXcKdG7bk8oMPoEPVTn1XUm75e/t505z92Lm3n6dfej1XU0zaL3du2MKNHy2svc9obuSg/acn1mZ9IeKX5YPalfds5L3/+BDX/OgZ9p+e4fq4ReC/d8P5y7lzw5aCNPj9H26vn7/cIzqGq3EnPQ8q3Ea/LB8YwmB5x5oTuX31iRx8QEvZx4MM9QiNsKb+0q59fPvh57nlY8fmzss9vQN07enNrbOxTP7Ytru34DiUK5SLHzHS2NhQkE+HK1eKu1SLn3W17tKTaWrMpzE81r9/9YNVfbjohLpPw8xOBL7onDs9fv95AOfc/06af7T3aWSzLnEgdsmBrezs6S+5AsI/t/+kw+bwR6cuZuvr+9je3ccND/4mKsB+71DOfNuCghbHDecvZ+m8Vrq6+/jgjT8rqBledupiDp/XSsu00sv9isdOoPRa7mzW0blzL2//yoMl23bHmhM5+4aflf3uSzt7CtLj5/FXc/m+7jC9fowiHNMo3md+wDNpINPX8nx3TzhG8ufveQstwYUI5fptR3p1SdKYhh9o/dy735L4Wwx+sNtfTdQ/mOX3r34wl+b5B0znnV/7Scm6/v3iE/jT7z3BjecvZ/6s6Qxko2v7v3bOW/nQ2kdy+zFpYHuoyzTL3TPgW5l9A9nEvHLPH53M3r5s7j6QthlNbH61OzfuFA56/8UfLKO5sYFBB865kosbRnJFYbnLoZMuIgjH0IqPZblLT4e6h2j+AS0FF7h89oyl3PJQPi8Wj8eVO2fbWptoaGgY0b0/SRc3+HSUK1eGyrs+r4fHq/i89Md6tPexDHWfxkQLGo3AM8CpwIvAeuA859zTSfOP9ea+pMwJpScLJF89FXZNdHzhVPoGXcENW42NDSO6Wa44mA114pW76Si8qSopcw6VnqgLIFtyJ2946WBLU7TuV3b25tJYXPhkjFwhNK2xARx84PqHywbO0V7yPNyJnXT1lC8Qko5z8bLCm7GOXjiLaz58NOfd9EjJPr/t4hNoTijcbvzo8pIAnFRhSKv4yr+rz3krp/19aRArl7fCy2vDAFHJLo60x2g0N6gNd3NccQAbyDpc1uW2t/h+qFnTG+nq7is5Z0eyrWl/owbSBeHi7fRdUovntSZWWEZy021o0gQNADN7D/APRJfc3uyc+1K5ecfzjvByGdbXACp5p+tQtZekFlDammva9Ax3Qo90m+rpGvSRKE53udrpmw+cWVDY+P2TNO401u0ufqBgUqtxvO+iHi/1lo+qdRd7UsWuuAIy1nVNqqAxEuMZNMrV0O9YcyIzmhuHbWqOJaOP5ZEV1UjPaB41MlF/ajbphs7haqfFLQJ/k1zx5dOVSFs9FaLjoZ7yUSUeuZMk6XxPelTLWI61HiMyDso9XqPcFRZeJR6aVu7xAz19gyPOnJVIz2ietFntRx9US1K6w0eAlPvOWPdx2rSNx3rqST3lo2o9cTbpSip/g+l4HGu1NCqklrW6enmYm1fvNdx6qo1WwmTbnsmimudBtY+5uqfGSa1O3nospOu1IKvHfTUWk217Jpt6PQ+Go6AxBUzUzDne6q1VNlaTbXukPmhMYwqop77cejYeP4c5nibb9kj9m2h3hNeNcs+4kfqW9AyfSgxO1spk255q0LlaWQoao+D7kcMH/1Xrln2pDF9wZLPZksdWVPrnMMeTv5JmsmxPpelcrTyNaYyC+pEnluLB4qTfRJnI4z8azypP5+roaEyjwtSPXHsjKSiLH2R338ZtbHx596QpODSeVZ7O1cpT0BiFat20I+mM9DJTFRxTl87VytOYxiioH7m2hnoEdhINFk9dOlcrTy2NUZiKj2eoJyNtOSQ9dkEFx9Sgc7XyFDRGSf3ItTPSLgcVHFPbeJ2rU+WCBHVPyYQzmi6H4l9Sm4wns9TOVLq0V5fcyoQ0VWp1MjFMtkt7dcmtTDrqHpR6MpWu0FP3lIjIGE2lK/QUNERExmgqXdqr7ikRkTGaSlfoKWiIiFTAVBlnU/eUiIikVpOgYWbnmNnTZpY1s/aizz5vZpvNbJOZnR5MPyOettnMPjf+qRYRkVp1Tz0FfAC4MZxoZsuAc4EjgIOBB8xsSfzxdcC7gE5gvZmtc85tHL8ky3jTvRgi9acmQcM59ysAs5ICYCVwm3OuF3jezDYDx8WfbXbOPRd/77Z4XgWNSWqkT7IVkfFRb2MahwBbgved8bRy00uY2cVm1mFmHV1dXVVLqFTXSJ9kKyLjo2otDTN7ADgo4aMvOOfuLve1hGmO5OCW+PwT59xaYC1EjxFJkVSpQ5W6w1ZdXCKVVbWg4Zw7bRRf6wQWBu8XAC/Fr8tNl0moEj+eoy4ukcqrt+6pdcC5ZtZsZouAxcCjwHpgsZktMrMmosHydTVMp1RZJe6wVReXSOXVZCDczN4PfANoA35gZo875053zj1tZrcTDXAPAJ9yzg3G37kUuBfIADc7556uRdplfFTiDtvhurjUdSUycrW6euou4K4yn30J+FLC9B8CP6xy0qSOjPUO26G6uNR1JTI69dY9JVIxQ3VxqetKZHT07CmZtIbq4ppKv38gUkkKGjKpleviqsTVWSJTkbqnZEqaSr9/IFJJamnIlDSVfv9ApJIUNGTKmiq/fyBSSeqeEhGR1BQ0REQkNQUNERFJTUFDRERSU9AQEZHUFDRERCQ1BQ0REUlNQUNERFJT0BARkdQUNEREJDU9RkREpA7V6y9LKmiIiNSZev5lSXVPiYjUmXr+ZUkFDRGROlPPvyypoCEiUmf8L0uG6uWXJWsSNMzsajP7tZk9aWZ3mdms4LPPm9lmM9tkZqcH08+Ip202s8/VIt0iIuOhnn9Z0pxz479SsxXA/3XODZjZVQDOucvNbBnwb8BxwMHAA8CS+GvPAO8COoH1wIedcxuHWk97e7vr6Oio0laIiFRPLa+eMrMNzrn2pM9qcvWUc+6+4O0jwNnx65XAbc65XuB5M9tMFEAANjvnngMws9vieYcMGiIiE1W9/rJk6u4pM2sxs6VVSMPHgf+MXx8CbAk+64ynlZuelM6LzazDzDq6urqqkFwRkakrVdAws/cCjwP/Fb9/m5mtG+Y7D5jZUwl/K4N5vgAMAN/1kxIW5YaYXjrRubXOuXbnXHtbW9vwGyciIqml7Z76IlE30YMAzrnHzezQob7gnDttqM/N7ALgTOBUlx9Y6QQWBrMtAF6KX5ebLiIi4yRt99SAc25XpVZqZmcAlwPvc87tDT5aB5xrZs1mtghYDDxKNPC92MwWmVkTcG48r4iIjKO0LY2nzOw8IGNmi4HLgIfHsN5/BJqB+80M4BHn3Brn3NNmdjvRAPcA8Cnn3CCAmV0K3AtkgJudc0+PYf0iIjIKqS65NbP9gC8AK+JJ9wJ/65zbV8W0jZkuuRURGbkxXXJrZhngr51znyEKHCIiMkUNO6YRdw8tH4e0iIhInUs7pvFYfInt94BuP9E59/2qpEqqrl6f1S8i9S1t0HgDsB14ZzDNAQoaE1A9P6tfROpbqqDhnLuw2gmR8VPuWf13XXJyXT62QETqR6qgYWa3kHAHtnPu4xVPkVRdPT+rX0TqW9ruqXuC19OB96M7sics/6z+MHDUy7P6RaS+pboj3Dl3Z/D3XeCDwJHVTZpUSz0/q19E6ttoH42+GHhjJRMi46ehwVh64EzuuuRkXT0lIiOSdkxjN4VjGq8QPTtKJqh6fVa/iNS3tFdPzax2QkREpP6l/T2NH6WZJiIik9uQLQ0zmw7sB8w1s9nkfwxpf6Lf8BYRkSlkuO6p1cAfEwWIXwTTXweuq1aiRESkPg0ZNJxz1wDXmNkfOee+MU5pEhGROjVc99QH4pcvBq9z9MBCEZGpZbjuqfcO8ZkeWCgiMsUM1z2lBxWKiEhO2pv7/jJpunPubyqbHBERqWdpHyPSHbyeDpwJ/KryyRERkXqW9o7wr4XvzeyrwLqqpEhEROpWqjvCE+wHHDbalZrZlWb2pJk9bmb3mdnB8XQzs2vNbHP8+THBdy4ws2fjvwtGu24RERm9tGMavyT/wMIM0AaMZTzjaufcFfGyLwP+ElgDvJvoCbqLgeOB64HjzewNwF8B7XE6NpjZOufcjjGkQURERijtmMaZwesBYKtzbmC0K3XOvR68nUE+IK0EbnXOOeARM5tlZvOBU4D7nXOvAZjZ/cAZwL+NNg0iIjJyaYPGfOBp59xuADNrNbMjnHM/H+2KzexLwCpgF/COePIhwJZgts54WrnpScu9GLgY4I1v1E9+iIhUUtoxjeuBPcH7vfG0sszsATN7KuFvJYBz7gvOuYXAd4FL/dcSFuWGmF460bm1zrl251x7W1vbMJslIiIjkbalYXGXEQDOuayZDXdj4Gkpl/2vwA+Ixiw6gYXBZwuIfou8k6iLKpz+YMrli4hIhaRtaTxnZpeZ2bT479PAc6NdqZktDt6+D/h1/HodsCq+iuoEYJdz7mXgXmCFmc2OH9G+Ip4mIiLjKG1LYw1wLfAXRN1CPyIeNxilL5vZUiALvBAvH+CHwHuAzURdYBcCOOdeM7MrgfXxfH/jB8VFRGT8WNDrNOm0t7e7jo6OWidDRGRCMbMNzrn2pM+GezT6Z51zXzGzb5Aw8Oycu6xCaRQRkQlguO4p/3wpVddFRGTYR6P/HzPLAEc65z4zTmkSEZE6NezVU865QWD5OKRFRETqXNqrpx4zs3XA9wgek66fexURmVrSBo03ANuBdwbT9HOvIiJTTNrf09DPvoqISOpHo1+bMHkX0OGcu7uySRIRkXqV9jEi04G3Ac/Gf0cRdVn9oZn9Q5XSJiIidSbtmMb/At7pf0PDzK4H7gPeBfyySmkTEZE6k7alcQjRjyV5M4CD48txeyueKhERqUtpWxpfAR43sweJftvi7cDfmdkM4IEqpU1EROpM2qun/tnM/hP4KNFjzO8DOp1z3YDuFBcRmSLSXj31CeDTRD9+9DhwAvAzCu/bEBGRSS7tmMangWOBF5xz7wCOBrqqlioREalLaYPGPufcPgAza3bO/RpYWr1kiYhIPUo7EN5pZrOA/wDuN7MdRL/dLSIiU0jagfD3xy+/aGY/Bg4A/qtqqRIRkbqUtqWR45z7STUSIiIi9S/tmIaIiIiChoiIpFfToGFmf2Zmzszmxu/NzK41s81m9qSZHRPMe4GZPRv/XVC7VIuITF0jHtOoFDNbSPTAw98Gk98NLI7/jgeuB443szcAfwW0E/340wYzW+ec2zG+qRYRmdpq2dL4OvBZoiDgrQRudZFHgFlmNh84HbjfOfdaHCjuB84Y9xSLiExxNQkaZvY+4EXn3BNFHx0CbAned8bTyk1PWvbFZtZhZh1dXbppXUSkkqrWPWVmDwAHJXz0BeDPgRVJX0uY5oaYXjrRubXAWoD29vbEeUREZHSqFjScc6clTTez3wEWAU+YGUQPQfyFmR1H1IJYGMy+gOjO807glKLpD1Y80SIiMqRx755yzv3SOTfPOXeoc+5QooBwjHPuFWAdsCq+iuoEYJdz7mXgXmCFmc02s9lErZR7xzvtIiJTXc2unirjh8B7gM3AXuBCAOfca2Z2JbA+nu9vnHOv1SaJIiJTV82DRtza8K8d8Kky890M3DxOyRIRqQvZrGN7dx99A4M0NWaYM6OJhoakYd7xUfOgISIiybJZx9nZ3QEAABEuSURBVKatu7no1g46d/SwYHYLN61qZ+mBM2sWOPQYERGROrW9uy8XMAA6d/Rw0a0dbO/uq1maFDREROpU38BgLmB4nTt66BsYrFGKFDREROpWU2OGBbNbCqYtmN1CU2OmRilS0BARqVtzZjRx06r2XODwYxpzZjTVLE0aCBcRqVMNDcbSA2dy1yUn6+opEREZXkOD0TazudbJyFH3lIiIpKagISIiqSloiIhIagoaIiKSmoKGiIikpqAhIiKpKWiIiEhqChoiIpKagoaIiKSmoCEiIqkpaIiISGoKGiIikpqChoiIpKagISIiqdUkaJjZF83sRTN7PP57T/DZ581ss5ltMrPTg+lnxNM2m9nnapFuEZGprpa/p/F159xXwwlmtgw4FzgCOBh4wMyWxB9fB7wL6ATWm9k659zG8UywiMhUV28/wrQSuM051ws8b2abgePizzY7554DMLPb4nkVNERExlEtxzQuNbMnzexmM5sdTzsE2BLM0xlPKzddRETGUdWChpk9YGZPJfytBK4HDgfeBrwMfM1/LWFRbojpSeu92Mw6zKyjq6urAlsiIiJe1bqnnHOnpZnPzG4C7onfdgILg48XAC/Fr8tNL17vWmAtQHt7e2JgERGR0anV1VPzg7fvB56KX68DzjWzZjNbBCwGHgXWA4vNbJGZNRENlq8bzzSLiEjtBsK/YmZvI+pi+h9gNYBz7mkzu51ogHsA+JRzbhDAzC4F7gUywM3OuadrkXARkanMnJu8PTjt7e2uo6Oj1skQEZlQzGyDc6496TPdES4iIqkpaIiISGoKGiIikpqChoiIpKagISIiqSloiIhIagoaIiKSmoKGiIikpqAhIiKpKWiIiEhqChoiIpKagoaIiKSmoCEiIqkpaIiISGoKGiIikpqChoiIpKagISIiqSloiIhIagoaIiKSmoKGiIikpqAhIiKpKWiIiEhqNQsaZvZHZrbJzJ42s68E0z9vZpvjz04Ppp8RT9tsZp+rTapFRKa2xlqs1MzeAawEjnLO9ZrZvHj6MuBc4AjgYOABM1sSf+064F1AJ7DezNY55zaOf+pFRKaumgQN4JPAl51zvQDOuW3x9JXAbfH0581sM3Bc/Nlm59xzAGZ2WzyvgoaIyDiqVffUEuD3zOznZvYTMzs2nn4IsCWYrzOeVm56CTO72Mw6zKyjq6urCkmvL9mso2t3Ly/u2EvX7l6yWVfrJInIJFa1loaZPQAclPDRF+L1zgZOAI4FbjezwwBLmN+RHNwSS0fn3FpgLUB7e/ukLkGzWcemrbu56NYOOnf0sGB2CzetamfpgTNpaEjalSIiY1O1oOGcO63cZ2b2SeD7zjkHPGpmWWAuUQtiYTDrAuCl+HW56VPW9u6+XMAA6NzRw0W3dnDXJSfTNrO5xqkTkcmoVt1T/wG8EyAe6G4CXgXWAeeaWbOZLQIWA48C64HFZrbIzJqIBsvX1STldaRvYDAXMLzOHT30DQzWKEUiMtnVaiD8ZuBmM3sK6AMuiFsdT5vZ7UQD3APAp5xzgwBmdilwL5ABbnbOPV2bpNePpsYMC2a3FASOBbNbaGrM1DBVIjKZWVRWT07t7e2uo6Oj1smoGo1piEg1mNkG51x70me1amlIBTQ0GEsPnMldl5xM38AgTY0Z5sxoUsAQkapR0JjgGhpMg94iMm707CkREUlNQUNERFJT0BARkdQUNEREJDUFDRERSW1S36dhZl3AC2NYxFyiO9WL/yd9pvkn9/wTKa2av37XXYv5R+NNzrm2xE+cc/or8wd0JP1PO03zT575J1JaNX/9rrsW81f6T91TIiKSmoKGiIikpqAxtLVl/qedpvknz/wTKa2av37XXYv5K2pSD4SLiEhlqaUhIiKpKWiIiEhqU+Ypt2Z2BnAN0Y84/RQ4GZgJTAP6gVnxZ3uC6VmiwDoYfwbRb5Onffb4SOatFJ/mWhjv7R3N+mpxTEaqXtNYr+mayvqJyirPkT9OVvR5L1H5tgvYP/7/Q+BQ4DDn3JFpVjglWhpmlgGuA94NHAl8BPg00EN088sg0U2AJwCtwDNEO/gVop+azQBnAv9DdCAG4u/+d7yKffF/Fy8rG6x+IP6fJfoNdOLvDhL9aqF3d/x/U/ydLNAdT9sVv98B7A2W5+JluXhZXyJ/TB1RhvGvn4uX+//ibesPlvVasIxs/OfTvTtI49/F/3uDadk4DVmiffPT+LvhYNnL8fu98f/e4PNw3hfj137de4Jl/Dr+vylO+2C8vl7gN0Fa/G/d9gfT/PIeDPYFFG7jKcE0Px1gO/n91E9+/+yKp/mfTewLvuf/PxVs28YgPZDPC37/Dsbb0hdvl/9ef7AOf4y8F8jno5fiaa8G82aJ8qY/Xj79O4GtQXrCfe4LFp8mb1VRuvx2bCO/rweC9Pn1+/k749e7ye/P31J47jjgsfi9T0MPsDl+HZ4bfv/7PBPuo5eL0kDwPT/f80XL8dP8d16nMO/4fZENlr+NqEzoC7bzlWDb/LrDG+z2kc/z/pwGeDiYx2/7U8F6/Ta+HE97Pf7bR5QPssE0gMOAJeSPyVai49Qdv18PrAZ+l6iSnNqUCBrAccBm59xzwNFEO3klUWZ8kOhg3ApcHH+2COgiOpCHEe34M4kKV18w7QDeSHQgmoPpeyg8uXzNbDdwUDBtL1Ew8kHmxPg7h8bLNuBXRAd4Wvw/Q/6YNRBlGJ/5dgIfjz/z6/5V8H52vE1HxstZHyyrh3yGgsKTvYX8CX1OkB4/bYCoQPTb+TvB62ywjFfj/wPxfoR8we+3YUacDv/9XcF6DovnaSVqIfuC8Pl4nw2Qr1llybcMd8WvHdFvzu8F3hSse5Co4PlG/FlDMD9EBVUj+ZN3a/yZP+a+Ftcdfy9c9zzyDoz/+4qFD6A+CP2WwsIvDPh+mwbj7SXefh98u+N1DRIdZz+tgfwxGIzfG1FemR1Pt3hev33PAfsR5S0LlvXJYH4f4HxA8/nY50mI8rvfvkHgDfHrLeTzVGP8fX/seojuYibYh78i6gUAOCBYfmv8fz5RQenX1xvP5/ONX382Tq8vsOcSFfAtwX4+IH7dF2/zQJyOXgrzpC9kt8fvG8gf15nx64OJzuMB8udVeC77/NUbp+0I8kHKn1+HBfvbgCfi9O6Mt/+OeN3b42W2EFWgeuJlbI7TP43op7KfITruzcC/AR8iOtbbGIEpcfWUmZ0NnOGc+0T8+lKiHfsi0cl7KvBl4DyiDHoM0YFuIirIskQF7g5gabjo4LXPYH56cTdRUreRIzoJ/ElkwXT/v4F8ZjOiA+wLo7DpWfx9I6oFHZqwzrCgzpT5bCTdEL77LtzGMG3h9BfieRckLMfXRPcPlusLuqR5jagF8uYh5g/XPUC+S7aXfMG/j+jk8fOEyyhellGangGioHhQ0fQXgUOC9IbLK84PvmAIl198HPYQ7dfZwbb6+cJl9cTb1lC0zX3xtP8G3p6wLb3xvGFXrE+zb+WEv/jla7w+APltKk63L8CTKqnbyXcNJwmPky/4m4j2xQHBfGnyrC/Y/T55hahwTzovfbAtPj+KzxmfXxritDWS31/bgDnxPNOD74T7KTzn/DQo3X9J5+VrREGqP/7u9OD7PwEuJ6oUTyPK4zOIjtcGosBzNPBPROXfgeqeKmRlXie9n0cUMJ4BPgP8nCijHUDU3PO1wV+Sr430EWWW/vgvPEF6iLoOXiV/QHeRr/1MJ59BwyZ9D1FA8wWyEdUCfTMU8jWTPRR2XfjaiT9JdhHVOsKuM5/Z/XL2xNvj09AbfNZLvnnv9RNlxD7gx8F6fQ3a1z59a8S/biBfcxyI97MLPv8lhXzt0Rca4XTfesgSBZsM+WPn5zUKCy3f9G8iX8OdRnQSDRIdx/DkvC74jq8M9JPvyiP+ju/iC7vzDiLfUvDbELbQHNGxDMfMfPfnnuB1cUuMeFu6yRf8u8nnixby3VWZ+PUg+YrHEeRbs8Tbvi/eJ73xsnYHy36dKD82kc9zvuUbdpdBvmbvuxD9vvR5bWfRvLODz/YV7SM/bS/5498Sp2cn+Ty6nXxL6aX4PeRr9P7c8Hm+KV7mHPLH1Hfx+fzm86zfnm3kW7J+XWELBKL967fZt1wy8fr89hYLu/N+SzTGUFyT98t8jqjS5cuY2UTlyreCdfQTVQrmAtfG0x1Ri+wSogrZcUR5p4Wou3pELYepEjQ6gYXB64OJauELiU74aUQ13/8hqhn67o9ZRH2sBvw7+f01SNRN8XQ8r29+NlC6T5uJMuc88hlsD/luEH9ihgVVlqjmO43CWs1BRBnR18R9AdcTLy8cEMsQtTIyRLWRJyjsPvgN+ZPLEWUgX0sK+7Id8Gz83YeC6b72OkC0H336fcHka2R+m3yXz8HkuxYy8Xsj3/V2crAOH7Ac8AhRf64fw2ko+p7vMmiJ99POYN/4FsIgUcHrgu8Sp3k/8scuLMBXkQ8a+4L1bqEwkP2CfM2b4Pt+nzRTGhh8S9MXTOG+8sfSF1J+fr+de8l3KxhR5cPvV58//WcHkT8WGaCNKE96+5M/bvsR7cOwi3JGnH5f+PtzBgq74Hz+zwR/Ye0e8i26cP/47fZ97+G0PfG6wnUeQHSuNgfb6td1YLCvfCHu9+20II0z4u3062oiKlgh35rx6/MVqixR6/En5AO/b2H7Fms4JhVWtPy+DMfwjPx+9WmcT75i4L/nz8tFRMfSn3v98fxrKCybuoi6zo+I07fJObeHqAz4H/JdijOB7xON5S4xswdJYaoEjfXAYjNbBDxO1Kd9N1Et9RSijLwKuI/oIP4aWAZcCPyI6CD5gsNnupPIN8t903MP+T5a77HgvV/GRgprU0Z+MLebqMDrI18r87XXF+P0Q742nyEqLLLAV4LPXLC+XvLjDv7keiP55r2vVTWTP8n9wPyzwOHxd/0gX1joTqOwW+YZCgfvwvS/FuwLf1L9YZCGPgoD1qVxmpqB64kCjD9h/KDmYLxOP20fUSHoC3ffteHXEbZm/PhJFngP+ZM9rA3vIt8y2ku+4DwgTouvKb43Xs78YD295GuJa4Jl+GMTtroywX7Kkh/89V0pvsDz3UMzKBzA9P3bvvA5inwN2l/A4FtJjvyx9K2KcL/fQz4A+bT9efx6X7AMiCoe4TiMD9J+u3sprPi8Tn5My1/g4dMWbpPPJwcC/xG/9sd5D1GtHKL99GYKu/RmkD+ujeSPU9jt5FuW4eD4g/H3fJe0X8b+RJWEBqIavG+lhV3DfmzT54e95CsKvcGyfGvFb6PfF4/G2/47QRr9oHXYunssWEYncBX5C3J2Af9INLj9MvnK7HQzayTKg31Ex/tYom74DqLz7Bnn3CmkMCXGNADM7D3APxAdxP8mGnieT36g7wDyA5QQ1cTCoOoLFN9XX67fOZTUPzlWSWMjI/m8lvzJUIn0JfWbV2o/V2NZ9XxcvOG2u5L7pZaSxg/He7vGmh98UE66bSJsBW2N55lFvqtxF/kB+f8Evgrck3ZMY8oEDRERGbt6r/mIiEgdUdAQEZHUFDRERCQ1BQ0REUlNQUNERFJT0BCpIjM71MyeSjuPmbWb2bXjkzqRkZsyj0YXmQiccx1EN1yJ1CW1NESqL2NmN5nZ02Z2n5m1mNlyM3vCzH4GfMrPaGanmNk9NUyryJAUNESqbzFwnXPuCKLHV5wF3AJc5pw7saYpExkhBQ2R6nveOeefGbaB6Fles5xzP4mnfac2yRIZOQUNkeoLf+kw/KEkkQlHQUNk/O0EdpnZ78bvP1LLxIiMhIKGSG1cCFwXD4T3DDezSL3QU25FRCQ1tTRERCQ1BQ0REUlNQUNERFJT0BARkdQUNEREJDUFDRERSU1BQ0REUvv/sxGuzi3Ola8AAAAASUVORK5CYII=\n",
      "text/plain": [
       "<Figure size 432x288 with 1 Axes>"
      ]
     },
     "metadata": {
      "needs_background": "light"
     },
     "output_type": "display_data"
    }
   ],
   "source": [
    "analysis_one = hdi.merge(df_ghgchange, on = 'country')\n",
    "\n",
    "analysis_one = analysis_one[analysis_one['agriculture'] < 50]\n",
    "\n",
    "sns.scatterplot(data = analysis_one, x = \"hdi\", y = \"agriculture\")"
   ]
  },
  {
   "cell_type": "markdown",
   "metadata": {},
   "source": [
    "Dear Diane and Jon,\n",
    "    We are stealing your data frame. We renamed it as a new variable so we can use it later before you drop the country "
   ]
  },
  {
   "cell_type": "code",
<<<<<<< Updated upstream
<<<<<<< HEAD
<<<<<<< HEAD
   "execution_count": 16,
=======
   "execution_count": 7,
=======
   "execution_count": 9,
=======
<<<<<<< HEAD
   "execution_count": 16,
=======
   "execution_count": 9,
>>>>>>> 43a13bf2546af412be6dab0aa34190b2a1fd0e8b
>>>>>>> parent of d0a089a (added markdown cells)
=======
   "execution_count": 9,
=======
<<<<<<< HEAD
   "execution_count": 16,
=======
   "execution_count": 9,
>>>>>>> 43a13bf2546af412be6dab0aa34190b2a1fd0e8b
>>>>>>> parent of d0a089a (added markdown cells)
>>>>>>> Stashed changes
   "metadata": {},
   "outputs": [],
   "source": [
    "# second_analysis_one=analysis_one\n",
    "analysis_one = analysis_one.drop(['country'], axis = 1)\n",
    "analysis_one = analysis_one.astype(float)"
   ]
  },
  {
   "cell_type": "code",
<<<<<<< Updated upstream
<<<<<<< HEAD
<<<<<<< HEAD
   "execution_count": 17,
=======
   "execution_count": 8,
=======
=======
>>>>>>> parent of d0a089a (added markdown cells)
   "execution_count": 10,
=======
<<<<<<< HEAD
   "execution_count": 17,
=======
   "execution_count": 10,
>>>>>>> 43a13bf2546af412be6dab0aa34190b2a1fd0e8b
<<<<<<< HEAD
>>>>>>> parent of d0a089a (added markdown cells)
=======
>>>>>>> parent of d0a089a (added markdown cells)
>>>>>>> Stashed changes
   "metadata": {},
   "outputs": [
    {
     "data": {
      "text/html": [
       "<div>\n",
       "<style scoped>\n",
       "    .dataframe tbody tr th:only-of-type {\n",
       "        vertical-align: middle;\n",
       "    }\n",
       "\n",
       "    .dataframe tbody tr th {\n",
       "        vertical-align: top;\n",
       "    }\n",
       "\n",
       "    .dataframe thead th {\n",
       "        text-align: right;\n",
       "    }\n",
       "</style>\n",
       "<table border=\"1\" class=\"dataframe\">\n",
       "  <thead>\n",
       "    <tr style=\"text-align: right;\">\n",
       "      <th></th>\n",
       "      <th>hdi</th>\n",
       "      <th>agriculture</th>\n",
       "      <th>energy</th>\n",
       "      <th>waste</th>\n",
       "      <th>industrial</th>\n",
       "      <th>bunker fuels</th>\n",
       "    </tr>\n",
       "  </thead>\n",
       "  <tbody>\n",
       "    <tr>\n",
       "      <td>hdi</td>\n",
       "      <td>1.000000</td>\n",
       "      <td>-0.312070</td>\n",
       "      <td>0.135556</td>\n",
       "      <td>0.030513</td>\n",
       "      <td>0.067183</td>\n",
       "      <td>-0.027572</td>\n",
       "    </tr>\n",
       "    <tr>\n",
       "      <td>agriculture</td>\n",
       "      <td>-0.312070</td>\n",
       "      <td>1.000000</td>\n",
       "      <td>-0.070286</td>\n",
       "      <td>0.030426</td>\n",
       "      <td>0.133120</td>\n",
       "      <td>-0.002558</td>\n",
       "    </tr>\n",
       "    <tr>\n",
       "      <td>energy</td>\n",
       "      <td>0.135556</td>\n",
       "      <td>-0.070286</td>\n",
       "      <td>1.000000</td>\n",
       "      <td>0.092365</td>\n",
       "      <td>0.248048</td>\n",
       "      <td>0.194022</td>\n",
       "    </tr>\n",
       "    <tr>\n",
       "      <td>waste</td>\n",
       "      <td>0.030513</td>\n",
       "      <td>0.030426</td>\n",
       "      <td>0.092365</td>\n",
       "      <td>1.000000</td>\n",
       "      <td>0.084119</td>\n",
       "      <td>0.009608</td>\n",
       "    </tr>\n",
       "    <tr>\n",
       "      <td>industrial</td>\n",
       "      <td>0.067183</td>\n",
       "      <td>0.133120</td>\n",
       "      <td>0.248048</td>\n",
       "      <td>0.084119</td>\n",
       "      <td>1.000000</td>\n",
       "      <td>0.318410</td>\n",
       "    </tr>\n",
       "    <tr>\n",
       "      <td>bunker fuels</td>\n",
       "      <td>-0.027572</td>\n",
       "      <td>-0.002558</td>\n",
       "      <td>0.194022</td>\n",
       "      <td>0.009608</td>\n",
       "      <td>0.318410</td>\n",
       "      <td>1.000000</td>\n",
       "    </tr>\n",
       "  </tbody>\n",
       "</table>\n",
       "</div>"
      ],
      "text/plain": [
       "                   hdi  agriculture    energy     waste  industrial  \\\n",
       "hdi           1.000000    -0.312070  0.135556  0.030513    0.067183   \n",
       "agriculture  -0.312070     1.000000 -0.070286  0.030426    0.133120   \n",
       "energy        0.135556    -0.070286  1.000000  0.092365    0.248048   \n",
       "waste         0.030513     0.030426  0.092365  1.000000    0.084119   \n",
       "industrial    0.067183     0.133120  0.248048  0.084119    1.000000   \n",
       "bunker fuels -0.027572    -0.002558  0.194022  0.009608    0.318410   \n",
       "\n",
       "              bunker fuels  \n",
       "hdi              -0.027572  \n",
       "agriculture      -0.002558  \n",
       "energy            0.194022  \n",
       "waste             0.009608  \n",
       "industrial        0.318410  \n",
       "bunker fuels      1.000000  "
      ]
     },
<<<<<<< Updated upstream
<<<<<<< HEAD
<<<<<<< HEAD
     "execution_count": 17,
=======
     "execution_count": 8,
=======
     "execution_count": 10,
=======
<<<<<<< HEAD
     "execution_count": 17,
=======
     "execution_count": 10,
>>>>>>> 43a13bf2546af412be6dab0aa34190b2a1fd0e8b
>>>>>>> parent of d0a089a (added markdown cells)
=======
     "execution_count": 10,
=======
<<<<<<< HEAD
     "execution_count": 17,
=======
     "execution_count": 10,
>>>>>>> 43a13bf2546af412be6dab0aa34190b2a1fd0e8b
>>>>>>> parent of d0a089a (added markdown cells)
>>>>>>> Stashed changes
     "metadata": {},
     "output_type": "execute_result"
    }
   ],
   "source": [
    "analysis_one.corr(method = 'spearman')"
   ]
  },
  {
   "cell_type": "code",
<<<<<<< Updated upstream
<<<<<<< HEAD
<<<<<<< HEAD
   "execution_count": 18,
=======
   "execution_count": 9,
=======
=======
>>>>>>> parent of d0a089a (added markdown cells)
   "execution_count": 11,
=======
<<<<<<< HEAD
   "execution_count": 18,
=======
   "execution_count": 11,
>>>>>>> 43a13bf2546af412be6dab0aa34190b2a1fd0e8b
<<<<<<< HEAD
>>>>>>> parent of d0a089a (added markdown cells)
=======
>>>>>>> parent of d0a089a (added markdown cells)
>>>>>>> Stashed changes
   "metadata": {},
   "outputs": [
    {
     "data": {
      "text/plain": [
       "dtype('float64')"
      ]
     },
<<<<<<< Updated upstream
<<<<<<< HEAD
<<<<<<< HEAD
     "execution_count": 18,
=======
     "execution_count": 9,
=======
=======
>>>>>>> parent of d0a089a (added markdown cells)
     "execution_count": 11,
=======
<<<<<<< HEAD
     "execution_count": 18,
=======
     "execution_count": 11,
>>>>>>> 43a13bf2546af412be6dab0aa34190b2a1fd0e8b
<<<<<<< HEAD
>>>>>>> parent of d0a089a (added markdown cells)
=======
>>>>>>> parent of d0a089a (added markdown cells)
>>>>>>> Stashed changes
     "metadata": {},
     "output_type": "execute_result"
    }
   ],
   "source": [
    "analysis_one.hdi.dtype"
   ]
  },
  {
   "cell_type": "code",
<<<<<<< Updated upstream
<<<<<<< HEAD
<<<<<<< HEAD
   "execution_count": 19,
=======
   "execution_count": 10,
=======
   "execution_count": 12,
=======
<<<<<<< HEAD
   "execution_count": 19,
=======
   "execution_count": 12,
>>>>>>> 43a13bf2546af412be6dab0aa34190b2a1fd0e8b
>>>>>>> parent of d0a089a (added markdown cells)
=======
   "execution_count": 12,
=======
<<<<<<< HEAD
   "execution_count": 19,
=======
   "execution_count": 12,
>>>>>>> 43a13bf2546af412be6dab0aa34190b2a1fd0e8b
>>>>>>> parent of d0a089a (added markdown cells)
>>>>>>> Stashed changes
   "metadata": {},
   "outputs": [
    {
     "data": {
      "image/png": "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\n",
      "text/plain": [
       "<Figure size 432x288 with 2 Axes>"
      ]
     },
     "metadata": {
      "needs_background": "light"
     },
     "output_type": "display_data"
    }
   ],
   "source": [
    "sns.heatmap(analysis_one.corr(method = 'spearman'), center=0, cmap='coolwarm')\n",
    "plt.tight_layout()\n",
    "plt.show()"
   ]
  },
  {
   "cell_type": "markdown",
   "metadata": {},
   "source": [
    "# Analysis Two"
   ]
  },
  {
   "cell_type": "code",
<<<<<<< Updated upstream
<<<<<<< HEAD
<<<<<<< HEAD
   "execution_count": 20,
=======
   "execution_count": 11,
=======
   "execution_count": 13,
=======
<<<<<<< HEAD
   "execution_count": 20,
=======
   "execution_count": 13,
>>>>>>> 43a13bf2546af412be6dab0aa34190b2a1fd0e8b
>>>>>>> parent of d0a089a (added markdown cells)
=======
   "execution_count": 13,
=======
<<<<<<< HEAD
   "execution_count": 20,
=======
   "execution_count": 13,
>>>>>>> 43a13bf2546af412be6dab0aa34190b2a1fd0e8b
>>>>>>> parent of d0a089a (added markdown cells)
>>>>>>> Stashed changes
   "metadata": {},
   "outputs": [
    {
     "data": {
      "text/plain": [
       "country      object\n",
       "Cotton      float64\n",
       "Clothing    float64\n",
       "Garments    float64\n",
       "Textiles    float64\n",
       "dtype: object"
      ]
     },
<<<<<<< Updated upstream
     "execution_count": 13,
=======
<<<<<<< HEAD
     "execution_count": 20,
=======
     "execution_count": 13,
>>>>>>> 43a13bf2546af412be6dab0aa34190b2a1fd0e8b
>>>>>>> Stashed changes
     "metadata": {},
     "output_type": "execute_result"
    }
   ],
   "source": [
    "industry_data=pd.read_csv('CIA_industry_data.csv')\n",
    "industry_data=industry_data.rename(columns={'Country/Region': 'country'})\n",
    "industry_data=industry_data.drop(columns='Jute')\n",
    "industry_data.dtypes"
   ]
  },
  {
   "cell_type": "code",
<<<<<<< Updated upstream
<<<<<<< HEAD
<<<<<<< HEAD
   "execution_count": 21,
=======
   "execution_count": 12,
=======
=======
>>>>>>> parent of d0a089a (added markdown cells)
   "execution_count": 14,
=======
<<<<<<< HEAD
   "execution_count": 21,
=======
   "execution_count": 14,
>>>>>>> 43a13bf2546af412be6dab0aa34190b2a1fd0e8b
<<<<<<< HEAD
>>>>>>> parent of d0a089a (added markdown cells)
=======
>>>>>>> parent of d0a089a (added markdown cells)
>>>>>>> Stashed changes
   "metadata": {},
   "outputs": [
    {
     "data": {
      "text/html": [
       "<div>\n",
       "<style scoped>\n",
       "    .dataframe tbody tr th:only-of-type {\n",
       "        vertical-align: middle;\n",
       "    }\n",
       "\n",
       "    .dataframe tbody tr th {\n",
       "        vertical-align: top;\n",
       "    }\n",
       "\n",
       "    .dataframe thead th {\n",
       "        text-align: right;\n",
       "    }\n",
       "</style>\n",
       "<table border=\"1\" class=\"dataframe\">\n",
       "  <thead>\n",
       "    <tr style=\"text-align: right;\">\n",
       "      <th></th>\n",
       "      <th>country</th>\n",
       "      <th>Cotton</th>\n",
       "      <th>Clothing</th>\n",
       "      <th>Garments</th>\n",
       "      <th>Textiles</th>\n",
       "    </tr>\n",
       "  </thead>\n",
       "  <tbody>\n",
       "    <tr>\n",
       "      <td>0</td>\n",
       "      <td>Afghanistan</td>\n",
       "      <td>NaN</td>\n",
       "      <td>NaN</td>\n",
       "      <td>NaN</td>\n",
       "      <td>2.0</td>\n",
       "    </tr>\n",
       "    <tr>\n",
       "      <td>1</td>\n",
       "      <td>Albania</td>\n",
       "      <td>NaN</td>\n",
       "      <td>2.0</td>\n",
       "      <td>NaN</td>\n",
       "      <td>NaN</td>\n",
       "    </tr>\n",
       "    <tr>\n",
       "      <td>2</td>\n",
       "      <td>Algeria</td>\n",
       "      <td>NaN</td>\n",
       "      <td>NaN</td>\n",
       "      <td>NaN</td>\n",
       "      <td>NaN</td>\n",
       "    </tr>\n",
       "    <tr>\n",
       "      <td>3</td>\n",
       "      <td>Andorra</td>\n",
       "      <td>NaN</td>\n",
       "      <td>NaN</td>\n",
       "      <td>NaN</td>\n",
       "      <td>NaN</td>\n",
       "    </tr>\n",
       "    <tr>\n",
       "      <td>4</td>\n",
       "      <td>Angola</td>\n",
       "      <td>NaN</td>\n",
       "      <td>NaN</td>\n",
       "      <td>NaN</td>\n",
       "      <td>5.0</td>\n",
       "    </tr>\n",
       "  </tbody>\n",
       "</table>\n",
       "</div>"
      ],
      "text/plain": [
       "       country  Cotton  Clothing  Garments  Textiles\n",
       "0  Afghanistan     NaN       NaN       NaN       2.0\n",
       "1      Albania     NaN       2.0       NaN       NaN\n",
       "2      Algeria     NaN       NaN       NaN       NaN\n",
       "3      Andorra     NaN       NaN       NaN       NaN\n",
       "4       Angola     NaN       NaN       NaN       5.0"
      ]
     },
<<<<<<< Updated upstream
<<<<<<< HEAD
<<<<<<< HEAD
     "execution_count": 21,
=======
     "execution_count": 12,
=======
     "execution_count": 14,
=======
<<<<<<< HEAD
     "execution_count": 21,
=======
     "execution_count": 14,
>>>>>>> 43a13bf2546af412be6dab0aa34190b2a1fd0e8b
>>>>>>> parent of d0a089a (added markdown cells)
=======
     "execution_count": 14,
=======
<<<<<<< HEAD
     "execution_count": 21,
=======
     "execution_count": 14,
>>>>>>> 43a13bf2546af412be6dab0aa34190b2a1fd0e8b
>>>>>>> parent of d0a089a (added markdown cells)
>>>>>>> Stashed changes
     "metadata": {},
     "output_type": "execute_result"
    }
   ],
   "source": [
    "industry_data.head()"
   ]
  },
  {
   "cell_type": "code",
<<<<<<< Updated upstream
   "execution_count": 15,
=======
<<<<<<< HEAD
   "execution_count": 22,
=======
   "execution_count": 15,
>>>>>>> 43a13bf2546af412be6dab0aa34190b2a1fd0e8b
>>>>>>> Stashed changes
   "metadata": {},
<<<<<<< Updated upstream
   "outputs": [],
   "source": [
    "analysis_two=hdi.merge(industry_data, how='left', on='country')\n",
    "# analysis_two = analysis_two.drop(['country'], axis = 1)"
=======
   "outputs": [
    {
     "ename": "SyntaxError",
     "evalue": "invalid syntax (<ipython-input-22-23caa258694f>, line 3)",
     "output_type": "error",
     "traceback": [
      "\u001b[0;36m  File \u001b[0;32m\"<ipython-input-22-23caa258694f>\"\u001b[0;36m, line \u001b[0;32m3\u001b[0m\n\u001b[0;31m    hdi.loc[hdi='..']\u001b[0m\n\u001b[0m               ^\u001b[0m\n\u001b[0;31mSyntaxError\u001b[0m\u001b[0;31m:\u001b[0m invalid syntax\n"
     ]
    }
   ],
   "source": [
    "analysis_two=hdi.merge(industry_data, how='left', on='country')\n",
    "analysis_two = analysis_two.drop(['country'], axis = 1)\n",
    "hdi.loc[hdi=='..']\n",
    "#analysis_two = analysis_two.astype(float)\n",
    "# print(analysis_two.shape)\n",
    "# print(analysis_two.hdi.dtype)\n",
    "# # print(analysis_two.hdi)\n",
    "# print(type(analysis_two.iloc[1,2]))\n",
    "# # print()\n",
    "# # analysis_two=analysis_two[analysis_two['hdi']]"
>>>>>>> Stashed changes
   ]
  },
  {
   "cell_type": "code",
<<<<<<< Updated upstream
   "execution_count": 16,
=======
<<<<<<< HEAD
   "execution_count": 23,
=======
   "execution_count": 16,
>>>>>>> 43a13bf2546af412be6dab0aa34190b2a1fd0e8b
>>>>>>> Stashed changes
   "metadata": {},
   "outputs": [
    {
     "data": {
      "text/html": [
       "<div>\n",
       "<style scoped>\n",
       "    .dataframe tbody tr th:only-of-type {\n",
       "        vertical-align: middle;\n",
       "    }\n",
       "\n",
       "    .dataframe tbody tr th {\n",
       "        vertical-align: top;\n",
       "    }\n",
       "\n",
       "    .dataframe thead th {\n",
       "        text-align: right;\n",
       "    }\n",
       "</style>\n",
       "<table border=\"1\" class=\"dataframe\">\n",
       "  <thead>\n",
       "    <tr style=\"text-align: right;\">\n",
       "      <th></th>\n",
       "      <th>country</th>\n",
       "      <th>hdi</th>\n",
       "      <th>Cotton</th>\n",
       "      <th>Clothing</th>\n",
       "      <th>Garments</th>\n",
       "      <th>Textiles</th>\n",
       "    </tr>\n",
       "  </thead>\n",
       "  <tbody>\n",
       "    <tr>\n",
       "      <th>189</th>\n",
       "      <td>Human Development</td>\n",
       "      <td>..</td>\n",
       "      <td>NaN</td>\n",
       "      <td>NaN</td>\n",
       "      <td>NaN</td>\n",
       "      <td>NaN</td>\n",
       "    </tr>\n",
       "    <tr>\n",
       "      <th>195</th>\n",
       "      <td>Regions</td>\n",
       "      <td>..</td>\n",
       "      <td>NaN</td>\n",
       "      <td>NaN</td>\n",
       "      <td>NaN</td>\n",
       "      <td>NaN</td>\n",
       "    </tr>\n",
       "  </tbody>\n",
       "</table>\n",
       "</div>"
      ],
      "text/plain": [
       "               country hdi  Cotton  Clothing  Garments  Textiles\n",
       "189  Human Development  ..     NaN       NaN       NaN       NaN\n",
       "195            Regions  ..     NaN       NaN       NaN       NaN"
      ]
     },
<<<<<<< Updated upstream
     "execution_count": 16,
=======
<<<<<<< HEAD
     "execution_count": 23,
=======
     "execution_count": 16,
>>>>>>> 43a13bf2546af412be6dab0aa34190b2a1fd0e8b
>>>>>>> Stashed changes
     "metadata": {},
     "output_type": "execute_result"
    }
   ],
   "source": [
    "analysis_two[analysis_two.hdi.str.find('..')==0]"
   ]
  },
  {
   "cell_type": "code",
<<<<<<< Updated upstream
   "execution_count": 17,
=======
<<<<<<< HEAD
   "execution_count": 24,
=======
   "execution_count": 17,
>>>>>>> 43a13bf2546af412be6dab0aa34190b2a1fd0e8b
>>>>>>> Stashed changes
   "metadata": {},
   "outputs": [],
   "source": [
    "analysis_two=analysis_two.drop([189,195])\n",
    "analysis_two.hdi=analysis_two.hdi.astype(float)"
   ]
  },
  {
   "cell_type": "code",
<<<<<<< Updated upstream
   "execution_count": 18,
=======
<<<<<<< HEAD
   "execution_count": 25,
=======
   "execution_count": 18,
>>>>>>> 43a13bf2546af412be6dab0aa34190b2a1fd0e8b
>>>>>>> Stashed changes
   "metadata": {},
   "outputs": [
    {
     "data": {
      "image/png": "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\n",
      "text/plain": [
       "<Figure size 432x288 with 2 Axes>"
      ]
     },
     "metadata": {
      "needs_background": "light"
     },
     "output_type": "display_data"
    }
   ],
   "source": [
    "sns.heatmap(analysis_two.corr(), cmap='coolwarm')\n",
    "plt.tight_layout()\n",
    "plt.show()"
   ]
  },
  {
   "cell_type": "code",
<<<<<<< Updated upstream
   "execution_count": 19,
=======
<<<<<<< HEAD
   "execution_count": 26,
=======
   "execution_count": 19,
>>>>>>> 43a13bf2546af412be6dab0aa34190b2a1fd0e8b
>>>>>>> Stashed changes
   "metadata": {},
   "outputs": [
    {
     "data": {
      "text/html": [
       "<div>\n",
       "<style scoped>\n",
       "    .dataframe tbody tr th:only-of-type {\n",
       "        vertical-align: middle;\n",
       "    }\n",
       "\n",
       "    .dataframe tbody tr th {\n",
       "        vertical-align: top;\n",
       "    }\n",
       "\n",
       "    .dataframe thead th {\n",
       "        text-align: right;\n",
       "    }\n",
       "</style>\n",
       "<table border=\"1\" class=\"dataframe\">\n",
       "  <thead>\n",
       "    <tr style=\"text-align: right;\">\n",
       "      <th></th>\n",
       "      <th>hdi</th>\n",
       "      <th>Cotton</th>\n",
       "      <th>Clothing</th>\n",
       "      <th>Garments</th>\n",
       "      <th>Textiles</th>\n",
       "    </tr>\n",
       "  </thead>\n",
       "  <tbody>\n",
       "    <tr>\n",
       "      <th>hdi</th>\n",
       "      <td>1.000000</td>\n",
       "      <td>0.618061</td>\n",
       "      <td>0.379034</td>\n",
       "      <td>0.289884</td>\n",
       "      <td>0.394550</td>\n",
       "    </tr>\n",
       "    <tr>\n",
       "      <th>Cotton</th>\n",
       "      <td>0.618061</td>\n",
       "      <td>1.000000</td>\n",
       "      <td>NaN</td>\n",
       "      <td>NaN</td>\n",
       "      <td>0.847122</td>\n",
       "    </tr>\n",
       "    <tr>\n",
       "      <th>Clothing</th>\n",
       "      <td>0.379034</td>\n",
       "      <td>NaN</td>\n",
       "      <td>1.000000</td>\n",
       "      <td>NaN</td>\n",
       "      <td>0.978453</td>\n",
       "    </tr>\n",
       "    <tr>\n",
       "      <th>Garments</th>\n",
       "      <td>0.289884</td>\n",
       "      <td>NaN</td>\n",
       "      <td>NaN</td>\n",
       "      <td>1.000000</td>\n",
       "      <td>-0.441726</td>\n",
       "    </tr>\n",
       "    <tr>\n",
       "      <th>Textiles</th>\n",
       "      <td>0.394550</td>\n",
       "      <td>0.847122</td>\n",
       "      <td>0.978453</td>\n",
       "      <td>-0.441726</td>\n",
       "      <td>1.000000</td>\n",
       "    </tr>\n",
       "  </tbody>\n",
       "</table>\n",
       "</div>"
      ],
      "text/plain": [
       "               hdi    Cotton  Clothing  Garments  Textiles\n",
       "hdi       1.000000  0.618061  0.379034  0.289884  0.394550\n",
       "Cotton    0.618061  1.000000       NaN       NaN  0.847122\n",
       "Clothing  0.379034       NaN  1.000000       NaN  0.978453\n",
       "Garments  0.289884       NaN       NaN  1.000000 -0.441726\n",
       "Textiles  0.394550  0.847122  0.978453 -0.441726  1.000000"
      ]
     },
<<<<<<< Updated upstream
     "execution_count": 19,
=======
<<<<<<< HEAD
     "execution_count": 26,
=======
     "execution_count": 19,
>>>>>>> 43a13bf2546af412be6dab0aa34190b2a1fd0e8b
>>>>>>> Stashed changes
     "metadata": {},
     "output_type": "execute_result"
    }
   ],
   "source": [
    "analysis_two.corr(method='pearson')"
   ]
  },
  {
   "cell_type": "code",
<<<<<<< Updated upstream
   "execution_count": 20,
=======
<<<<<<< HEAD
   "execution_count": 27,
=======
   "execution_count": 20,
>>>>>>> 43a13bf2546af412be6dab0aa34190b2a1fd0e8b
>>>>>>> Stashed changes
   "metadata": {},
   "outputs": [
    {
     "data": {
      "text/plain": [
       "dtype('float64')"
      ]
     },
<<<<<<< Updated upstream
     "execution_count": 20,
=======
<<<<<<< HEAD
     "execution_count": 27,
=======
     "execution_count": 20,
>>>>>>> 43a13bf2546af412be6dab0aa34190b2a1fd0e8b
>>>>>>> Stashed changes
     "metadata": {},
     "output_type": "execute_result"
    }
   ],
   "source": [
    "analysis_two.hdi.dtype"
   ]
  },
  {
   "cell_type": "code",
<<<<<<< Updated upstream
   "execution_count": 21,
=======
<<<<<<< HEAD
   "execution_count": 28,
=======
   "execution_count": 21,
>>>>>>> 43a13bf2546af412be6dab0aa34190b2a1fd0e8b
>>>>>>> Stashed changes
   "metadata": {},
   "outputs": [
    {
     "data": {
      "text/plain": [
<<<<<<< Updated upstream
       "<matplotlib.collections.PathCollection at 0x7fdaa477cee0>"
      ]
     },
     "execution_count": 21,
=======
<<<<<<< HEAD
       "<matplotlib.collections.PathCollection at 0x11cddd100>"
      ]
     },
     "execution_count": 28,
=======
       "<matplotlib.collections.PathCollection at 0x7fdaa477cee0>"
      ]
     },
     "execution_count": 21,
>>>>>>> 43a13bf2546af412be6dab0aa34190b2a1fd0e8b
>>>>>>> Stashed changes
     "metadata": {},
     "output_type": "execute_result"
    },
    {
     "data": {
      "image/png": "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\n",
      "text/plain": [
       "<Figure size 432x288 with 1 Axes>"
      ]
     },
     "metadata": {
      "needs_background": "light"
     },
     "output_type": "display_data"
    }
   ],
   "source": [
    "plt.scatter(analysis_two.Textiles, analysis_two.hdi)"
   ]
  },
  {
   "cell_type": "code",
<<<<<<< Updated upstream
   "execution_count": 22,
=======
<<<<<<< HEAD
   "execution_count": 29,
=======
   "execution_count": 22,
>>>>>>> 43a13bf2546af412be6dab0aa34190b2a1fd0e8b
>>>>>>> Stashed changes
   "metadata": {},
   "outputs": [
    {
     "data": {
      "text/plain": [
<<<<<<< Updated upstream
=======
<<<<<<< HEAD
       "<matplotlib.collections.PathCollection at 0x11ceb7b50>"
      ]
     },
     "execution_count": 29,
=======
>>>>>>> Stashed changes
       "<matplotlib.collections.PathCollection at 0x7fdaa485de80>"
      ]
     },
     "execution_count": 22,
<<<<<<< Updated upstream
=======
>>>>>>> 43a13bf2546af412be6dab0aa34190b2a1fd0e8b
>>>>>>> Stashed changes
     "metadata": {},
     "output_type": "execute_result"
    },
    {
     "data": {
      "image/png": "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\n",
      "text/plain": [
       "<Figure size 432x288 with 1 Axes>"
      ]
     },
     "metadata": {
      "needs_background": "light"
     },
     "output_type": "display_data"
    }
   ],
   "source": [
    "plt.scatter(analysis_two.Cotton, analysis_two.hdi)"
   ]
  },
  {
   "cell_type": "code",
<<<<<<< Updated upstream
   "execution_count": 23,
=======
<<<<<<< HEAD
   "execution_count": 30,
=======
   "execution_count": 23,
>>>>>>> 43a13bf2546af412be6dab0aa34190b2a1fd0e8b
>>>>>>> Stashed changes
   "metadata": {},
   "outputs": [
    {
     "data": {
      "text/plain": [
<<<<<<< Updated upstream
       "<matplotlib.collections.PathCollection at 0x7fdaa48d3f70>"
      ]
     },
     "execution_count": 23,
=======
<<<<<<< HEAD
       "<matplotlib.collections.PathCollection at 0x11cf28cd0>"
      ]
     },
     "execution_count": 30,
=======
       "<matplotlib.collections.PathCollection at 0x7fdaa48d3f70>"
      ]
     },
     "execution_count": 23,
>>>>>>> 43a13bf2546af412be6dab0aa34190b2a1fd0e8b
>>>>>>> Stashed changes
     "metadata": {},
     "output_type": "execute_result"
    },
    {
     "data": {
      "image/png": "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\n",
      "text/plain": [
       "<Figure size 432x288 with 1 Axes>"
      ]
     },
     "metadata": {
      "needs_background": "light"
     },
     "output_type": "display_data"
    }
   ],
   "source": [
    "plt.scatter(analysis_two.Garments, analysis_two.hdi)"
   ]
  },
  {
   "cell_type": "code",
<<<<<<< Updated upstream
   "execution_count": 24,
=======
<<<<<<< HEAD
   "execution_count": 31,
=======
   "execution_count": 24,
>>>>>>> 43a13bf2546af412be6dab0aa34190b2a1fd0e8b
>>>>>>> Stashed changes
   "metadata": {},
   "outputs": [
    {
     "data": {
      "text/plain": [
<<<<<<< Updated upstream
=======
<<<<<<< HEAD
       "<matplotlib.collections.PathCollection at 0x11cfdde80>"
      ]
     },
     "execution_count": 31,
=======
>>>>>>> Stashed changes
       "<matplotlib.collections.PathCollection at 0x7fdaa4a1a2b0>"
      ]
     },
     "execution_count": 24,
<<<<<<< Updated upstream
=======
>>>>>>> 43a13bf2546af412be6dab0aa34190b2a1fd0e8b
>>>>>>> Stashed changes
     "metadata": {},
     "output_type": "execute_result"
    },
    {
     "data": {
      "image/png": "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\n",
      "text/plain": [
       "<Figure size 432x288 with 1 Axes>"
      ]
     },
     "metadata": {
      "needs_background": "light"
     },
     "output_type": "display_data"
    }
   ],
   "source": [
    "plt.scatter(analysis_two.Clothing, analysis_two.hdi)"
   ]
  },
  {
   "cell_type": "markdown",
   "metadata": {},
   "source": [
    "Here I'm merging the analysis_one dataframe that contains GHG emissions per sector ('countries','agriculture','energy','waste','industrial','bunker fuels') with the analysis_two df that contains the list of countries and their corresponding hdi and indexes regarding cotton, clothing, garments, and textiles."
   ]
  },
  {
   "cell_type": "code",
<<<<<<< Updated upstream
   "execution_count": 25,
=======
<<<<<<< HEAD
   "execution_count": 32,
=======
   "execution_count": 25,
>>>>>>> 43a13bf2546af412be6dab0aa34190b2a1fd0e8b
>>>>>>> Stashed changes
   "metadata": {},
   "outputs": [
    {
     "data": {
      "text/html": [
       "<div>\n",
       "<style scoped>\n",
       "    .dataframe tbody tr th:only-of-type {\n",
       "        vertical-align: middle;\n",
       "    }\n",
       "\n",
       "    .dataframe tbody tr th {\n",
       "        vertical-align: top;\n",
       "    }\n",
       "\n",
       "    .dataframe thead th {\n",
       "        text-align: right;\n",
       "    }\n",
       "</style>\n",
       "<table border=\"1\" class=\"dataframe\">\n",
       "  <thead>\n",
       "    <tr style=\"text-align: right;\">\n",
       "      <th></th>\n",
       "      <th>country</th>\n",
       "      <th>hdi</th>\n",
       "      <th>Cotton</th>\n",
       "      <th>Clothing</th>\n",
       "      <th>Garments</th>\n",
       "      <th>Textiles</th>\n",
       "    </tr>\n",
       "  </thead>\n",
       "  <tbody>\n",
       "    <tr>\n",
       "      <th>0</th>\n",
       "      <td>Afghanistan</td>\n",
       "      <td>0.511</td>\n",
       "      <td>NaN</td>\n",
       "      <td>NaN</td>\n",
       "      <td>NaN</td>\n",
       "      <td>2.0</td>\n",
       "    </tr>\n",
       "    <tr>\n",
       "      <th>1</th>\n",
       "      <td>Albania</td>\n",
       "      <td>0.795</td>\n",
       "      <td>NaN</td>\n",
       "      <td>2.0</td>\n",
       "      <td>NaN</td>\n",
       "      <td>NaN</td>\n",
       "    </tr>\n",
       "    <tr>\n",
       "      <th>2</th>\n",
       "      <td>Algeria</td>\n",
       "      <td>0.748</td>\n",
       "      <td>NaN</td>\n",
       "      <td>NaN</td>\n",
       "      <td>NaN</td>\n",
       "      <td>NaN</td>\n",
       "    </tr>\n",
       "    <tr>\n",
       "      <th>3</th>\n",
       "      <td>Andorra</td>\n",
       "      <td>0.868</td>\n",
       "      <td>NaN</td>\n",
       "      <td>NaN</td>\n",
       "      <td>NaN</td>\n",
       "      <td>NaN</td>\n",
       "    </tr>\n",
       "    <tr>\n",
       "      <th>4</th>\n",
       "      <td>Angola</td>\n",
       "      <td>0.581</td>\n",
       "      <td>NaN</td>\n",
       "      <td>NaN</td>\n",
       "      <td>NaN</td>\n",
       "      <td>5.0</td>\n",
       "    </tr>\n",
       "    <tr>\n",
       "      <th>...</th>\n",
       "      <td>...</td>\n",
       "      <td>...</td>\n",
       "      <td>...</td>\n",
       "      <td>...</td>\n",
       "      <td>...</td>\n",
       "      <td>...</td>\n",
       "    </tr>\n",
       "    <tr>\n",
       "      <th>202</th>\n",
       "      <td>Least Developed Countries</td>\n",
       "      <td>0.538</td>\n",
       "      <td>NaN</td>\n",
       "      <td>NaN</td>\n",
       "      <td>NaN</td>\n",
       "      <td>NaN</td>\n",
       "    </tr>\n",
       "    <tr>\n",
       "      <th>203</th>\n",
       "      <td>Small Island Developing States</td>\n",
       "      <td>0.728</td>\n",
       "      <td>NaN</td>\n",
       "      <td>NaN</td>\n",
       "      <td>NaN</td>\n",
       "      <td>NaN</td>\n",
       "    </tr>\n",
       "    <tr>\n",
       "      <th>204</th>\n",
       "      <td>Organization for Economic Co-operation and Dev...</td>\n",
       "      <td>0.900</td>\n",
       "      <td>NaN</td>\n",
       "      <td>NaN</td>\n",
       "      <td>NaN</td>\n",
       "      <td>NaN</td>\n",
       "    </tr>\n",
       "    <tr>\n",
       "      <th>205</th>\n",
       "      <td>World</td>\n",
       "      <td>0.737</td>\n",
       "      <td>NaN</td>\n",
       "      <td>NaN</td>\n",
       "      <td>NaN</td>\n",
       "      <td>NaN</td>\n",
       "    </tr>\n",
       "    <tr>\n",
       "      <th>206</th>\n",
       "      <td>NaN</td>\n",
       "      <td>NaN</td>\n",
       "      <td>NaN</td>\n",
       "      <td>NaN</td>\n",
       "      <td>NaN</td>\n",
       "      <td>NaN</td>\n",
       "    </tr>\n",
       "  </tbody>\n",
       "</table>\n",
       "<p>205 rows × 6 columns</p>\n",
       "</div>"
      ],
      "text/plain": [
       "                                               country    hdi  Cotton  \\\n",
       "0                                          Afghanistan  0.511     NaN   \n",
       "1                                              Albania  0.795     NaN   \n",
       "2                                              Algeria  0.748     NaN   \n",
       "3                                              Andorra  0.868     NaN   \n",
       "4                                               Angola  0.581     NaN   \n",
       "..                                                 ...    ...     ...   \n",
       "202                          Least Developed Countries  0.538     NaN   \n",
       "203                     Small Island Developing States  0.728     NaN   \n",
       "204  Organization for Economic Co-operation and Dev...  0.900     NaN   \n",
       "205                                              World  0.737     NaN   \n",
       "206                                                NaN    NaN     NaN   \n",
       "\n",
       "     Clothing  Garments  Textiles  \n",
       "0         NaN       NaN       2.0  \n",
       "1         2.0       NaN       NaN  \n",
       "2         NaN       NaN       NaN  \n",
       "3         NaN       NaN       NaN  \n",
       "4         NaN       NaN       5.0  \n",
       "..        ...       ...       ...  \n",
       "202       NaN       NaN       NaN  \n",
       "203       NaN       NaN       NaN  \n",
       "204       NaN       NaN       NaN  \n",
       "205       NaN       NaN       NaN  \n",
       "206       NaN       NaN       NaN  \n",
       "\n",
       "[205 rows x 6 columns]"
      ]
     },
<<<<<<< Updated upstream
     "execution_count": 25,
=======
<<<<<<< HEAD
     "execution_count": 32,
=======
     "execution_count": 25,
>>>>>>> 43a13bf2546af412be6dab0aa34190b2a1fd0e8b
>>>>>>> Stashed changes
     "metadata": {},
     "output_type": "execute_result"
    }
   ],
   "source": [
    "analysis_two"
   ]
  },
  {
   "cell_type": "code",
<<<<<<< Updated upstream
   "execution_count": 26,
=======
<<<<<<< HEAD
   "execution_count": 33,
=======
   "execution_count": 26,
>>>>>>> 43a13bf2546af412be6dab0aa34190b2a1fd0e8b
>>>>>>> Stashed changes
   "metadata": {},
   "outputs": [
    {
     "data": {
      "text/html": [
       "<div>\n",
       "<style scoped>\n",
       "    .dataframe tbody tr th:only-of-type {\n",
       "        vertical-align: middle;\n",
       "    }\n",
       "\n",
       "    .dataframe tbody tr th {\n",
       "        vertical-align: top;\n",
       "    }\n",
       "\n",
       "    .dataframe thead th {\n",
       "        text-align: right;\n",
       "    }\n",
       "</style>\n",
       "<table border=\"1\" class=\"dataframe\">\n",
       "  <thead>\n",
       "    <tr style=\"text-align: right;\">\n",
       "      <th></th>\n",
       "      <th>country</th>\n",
       "      <th>agriculture</th>\n",
       "      <th>energy</th>\n",
       "      <th>waste</th>\n",
       "      <th>industrial</th>\n",
       "      <th>bunker fuels</th>\n",
       "      <th>hdi</th>\n",
       "      <th>Cotton</th>\n",
       "      <th>Clothing</th>\n",
       "      <th>Garments</th>\n",
       "      <th>Textiles</th>\n",
       "    </tr>\n",
       "  </thead>\n",
       "  <tbody>\n",
       "    <tr>\n",
       "      <th>0</th>\n",
       "      <td>Afghanistan</td>\n",
       "      <td>67.42</td>\n",
       "      <td>-4.08</td>\n",
       "      <td>-0.8</td>\n",
       "      <td>0.54</td>\n",
       "      <td>-1.3</td>\n",
       "      <td>0.511</td>\n",
       "      <td>NaN</td>\n",
       "      <td>NaN</td>\n",
       "      <td>NaN</td>\n",
       "      <td>2.0</td>\n",
       "    </tr>\n",
       "    <tr>\n",
       "      <th>1</th>\n",
       "      <td>Albania</td>\n",
       "      <td>2.17</td>\n",
       "      <td>0.68</td>\n",
       "      <td>0.95</td>\n",
       "      <td>0.05</td>\n",
       "      <td>-0.03</td>\n",
       "      <td>0.795</td>\n",
       "      <td>NaN</td>\n",
       "      <td>2.0</td>\n",
       "      <td>NaN</td>\n",
       "      <td>NaN</td>\n",
       "    </tr>\n",
       "    <tr>\n",
       "      <th>2</th>\n",
       "      <td>Algeria</td>\n",
       "      <td>58.44</td>\n",
       "      <td>-17.34</td>\n",
       "      <td>-0.39</td>\n",
       "      <td>5.61</td>\n",
       "      <td>0.56</td>\n",
       "      <td>0.748</td>\n",
       "      <td>NaN</td>\n",
       "      <td>NaN</td>\n",
       "      <td>NaN</td>\n",
       "      <td>NaN</td>\n",
       "    </tr>\n",
       "    <tr>\n",
       "      <th>3</th>\n",
       "      <td>Andorra</td>\n",
       "      <td>-0.05</td>\n",
       "      <td>0.15</td>\n",
       "      <td>0.08</td>\n",
       "      <td>0</td>\n",
       "      <td>0</td>\n",
       "      <td>0.868</td>\n",
       "      <td>NaN</td>\n",
       "      <td>NaN</td>\n",
       "      <td>NaN</td>\n",
       "      <td>NaN</td>\n",
       "    </tr>\n",
       "    <tr>\n",
       "      <th>4</th>\n",
       "      <td>Angola</td>\n",
       "      <td>1.2</td>\n",
       "      <td>64.3</td>\n",
       "      <td>-2.18</td>\n",
       "      <td>1.13</td>\n",
       "      <td>1.59</td>\n",
       "      <td>0.581</td>\n",
       "      <td>NaN</td>\n",
       "      <td>NaN</td>\n",
       "      <td>NaN</td>\n",
       "      <td>5.0</td>\n",
       "    </tr>\n",
       "    <tr>\n",
       "      <th>...</th>\n",
       "      <td>...</td>\n",
       "      <td>...</td>\n",
       "      <td>...</td>\n",
       "      <td>...</td>\n",
       "      <td>...</td>\n",
       "      <td>...</td>\n",
       "      <td>...</td>\n",
       "      <td>...</td>\n",
       "      <td>...</td>\n",
       "      <td>...</td>\n",
       "      <td>...</td>\n",
       "    </tr>\n",
       "    <tr>\n",
       "      <th>190</th>\n",
       "      <td>Venezuela</td>\n",
       "      <td>-67.4</td>\n",
       "      <td>44.14</td>\n",
       "      <td>0.62</td>\n",
       "      <td>6.66</td>\n",
       "      <td>1.41</td>\n",
       "      <td>NaN</td>\n",
       "      <td>NaN</td>\n",
       "      <td>NaN</td>\n",
       "      <td>NaN</td>\n",
       "      <td>NaN</td>\n",
       "    </tr>\n",
       "    <tr>\n",
       "      <th>191</th>\n",
       "      <td>Vietnam</td>\n",
       "      <td>126.44</td>\n",
       "      <td>126.77</td>\n",
       "      <td>1.21</td>\n",
       "      <td>3.64</td>\n",
       "      <td>-0.78</td>\n",
       "      <td>NaN</td>\n",
       "      <td>NaN</td>\n",
       "      <td>NaN</td>\n",
       "      <td>NaN</td>\n",
       "      <td>NaN</td>\n",
       "    </tr>\n",
       "    <tr>\n",
       "      <th>192</th>\n",
       "      <td>Yemen</td>\n",
       "      <td>-11.3</td>\n",
       "      <td>4.3</td>\n",
       "      <td>0.34</td>\n",
       "      <td>0.22</td>\n",
       "      <td>-0.03</td>\n",
       "      <td>0.470</td>\n",
       "      <td>2.0</td>\n",
       "      <td>NaN</td>\n",
       "      <td>NaN</td>\n",
       "      <td>2.0</td>\n",
       "    </tr>\n",
       "    <tr>\n",
       "      <th>193</th>\n",
       "      <td>Zambia</td>\n",
       "      <td>27.67</td>\n",
       "      <td>-5.72</td>\n",
       "      <td>0.52</td>\n",
       "      <td>0.89</td>\n",
       "      <td>0.63</td>\n",
       "      <td>0.584</td>\n",
       "      <td>NaN</td>\n",
       "      <td>NaN</td>\n",
       "      <td>NaN</td>\n",
       "      <td>7.0</td>\n",
       "    </tr>\n",
       "    <tr>\n",
       "      <th>194</th>\n",
       "      <td>Zimbabwe</td>\n",
       "      <td>83.42</td>\n",
       "      <td>4.39</td>\n",
       "      <td>0.78</td>\n",
       "      <td>2.39</td>\n",
       "      <td>1.06</td>\n",
       "      <td>0.571</td>\n",
       "      <td>NaN</td>\n",
       "      <td>7.0</td>\n",
       "      <td>NaN</td>\n",
       "      <td>NaN</td>\n",
       "    </tr>\n",
       "  </tbody>\n",
       "</table>\n",
       "<p>195 rows × 11 columns</p>\n",
       "</div>"
      ],
      "text/plain": [
       "         country agriculture  energy waste industrial bunker fuels    hdi  \\\n",
       "0    Afghanistan       67.42   -4.08  -0.8       0.54         -1.3  0.511   \n",
       "1        Albania        2.17    0.68  0.95       0.05        -0.03  0.795   \n",
       "2        Algeria       58.44  -17.34 -0.39       5.61         0.56  0.748   \n",
       "3        Andorra       -0.05    0.15  0.08          0            0  0.868   \n",
       "4         Angola         1.2    64.3 -2.18       1.13         1.59  0.581   \n",
       "..           ...         ...     ...   ...        ...          ...    ...   \n",
       "190    Venezuela       -67.4   44.14  0.62       6.66         1.41    NaN   \n",
       "191      Vietnam      126.44  126.77  1.21       3.64        -0.78    NaN   \n",
       "192        Yemen       -11.3     4.3  0.34       0.22        -0.03  0.470   \n",
       "193       Zambia       27.67   -5.72  0.52       0.89         0.63  0.584   \n",
       "194     Zimbabwe       83.42    4.39  0.78       2.39         1.06  0.571   \n",
       "\n",
       "     Cotton  Clothing  Garments  Textiles  \n",
       "0       NaN       NaN       NaN       2.0  \n",
       "1       NaN       2.0       NaN       NaN  \n",
       "2       NaN       NaN       NaN       NaN  \n",
       "3       NaN       NaN       NaN       NaN  \n",
       "4       NaN       NaN       NaN       5.0  \n",
       "..      ...       ...       ...       ...  \n",
       "190     NaN       NaN       NaN       NaN  \n",
       "191     NaN       NaN       NaN       NaN  \n",
       "192     2.0       NaN       NaN       2.0  \n",
       "193     NaN       NaN       NaN       7.0  \n",
       "194     NaN       7.0       NaN       NaN  \n",
       "\n",
       "[195 rows x 11 columns]"
      ]
     },
<<<<<<< Updated upstream
     "execution_count": 26,
=======
<<<<<<< HEAD
     "execution_count": 33,
=======
     "execution_count": 26,
>>>>>>> 43a13bf2546af412be6dab0aa34190b2a1fd0e8b
>>>>>>> Stashed changes
     "metadata": {},
     "output_type": "execute_result"
    }
   ],
   "source": [
    "analysis_two_all = df_ghgchange.merge(analysis_two, how='left', on='country')\n",
    "analysis_two_all"
   ]
  },
  {
   "cell_type": "markdown",
   "metadata": {},
   "source": [
    "### Task List\n",
    "- 1) Create a scatterplot for each sector compared against the GHG emissions. - Completed.\n",
    "- 2) Cluster the data.\n",
    "- 3) Make histogram of each cluster of HDI (assuming the clusters relate to HDI.\n",
    "- 4) determine if there is a correlation between each cluster and a country's stage of developement."
   ]
  },
  {
   "cell_type": "code",
<<<<<<< Updated upstream
   "execution_count": 27,
=======
<<<<<<< HEAD
   "execution_count": 53,
=======
   "execution_count": 27,
>>>>>>> 43a13bf2546af412be6dab0aa34190b2a1fd0e8b
>>>>>>> Stashed changes
   "metadata": {},
   "outputs": [
    {
     "data": {
      "image/png": "iVBORw0KGgoAAAANSUhEUgAAAX4AAAEGCAYAAABiq/5QAAAAOXRFWHRTb2Z0d2FyZQBNYXRwbG90bGliIHZlcnNpb24zLjMuMiwgaHR0cHM6Ly9tYXRwbG90bGliLm9yZy8vihELAAAACXBIWXMAAAsTAAALEwEAmpwYAAAhY0lEQVR4nO3de5hddX3v8fdnJ5NMMpMJYTK5kAhDYpBjQgp0Hq/UC5FKLQfQCmpttdWW6lMlNHosVgtI7elFjY3Hc+iJVZHWR58gFwWVikHFevAyQBKCFMIl0IQkM0kgM5kwmUz29/yx157sGeaysyf7MrM+r+eZZ/Zea+29vrNm55s1v/3bn6WIwMzM0iNT7QLMzKyy3PjNzFLGjd/MLGXc+M3MUsaN38wsZaZWu4BizJ07N1pbW6tdhpnZhHL//ffvjYiWocsnRONvbW2lvb292mWYmU0okp4ebrmHeszMUsaN38wsZdz4zcxSxo3fzCxl3PjNzFJmQszqmciy2WD7vh72dPUyv6me1uYGMhmV/bFmZiNx4y+jbDa46+HdrNmwid4jWerrMqy9/GwuXL5gzAY+nseamY3GQz1ltH1fz0DjBug9kmXNhk1s39dT1seamY3Gjb+M9nT1DjTuvN4jWTq6e8v6WDOz0bjxl9H8pnrq6wYf4vq6DPNm1Zf1sWZmo3HjL6PW5gbWXn72QAPPj9O3NjeU9bFmZqPRRLj0YltbW0zUrJ78zJyO7l7mzSptVk8pjzUzk3R/RLQNXe5ZPWWWyYglLY0saWms6GPNzEbioR4zs5Rx4zczSxk3fjOzlHHjNzNLGTd+M7OUceM3M0uZsjV+SV+R1CFp6zDrPiopJM0t1/7NzGx45TzjvxG4cOhCSS8BLgCeKeO+zcxsBGVr/BFxL7B/mFWfBz4G1P5Hhs3MJqGKjvFLuhjYGRGbi9j2Ckntkto7OzsrUJ2ZWTpUrPFLmgl8ArimmO0jYn1EtEVEW0tLS3mLMzNLkUqe8S8FTgc2S9oOLAYekLSggjWYmaVexULaIuIhYF7+ftL82yJib6VqMDOz8k7n/AZwH/AySTskvb9c+zIzs+KV7Yw/It41xvrWcu3bzMxG5k/umpmljBu/mVnKuPGbmaWMG7+ZWcq48ZuZpYwvtl4F2WywfV8Pe7p6md9UT2tzA5mMql2WmaWEG3+FZbPBXQ/vZs2GTfQeyVJfl2Ht5Wdz4fIFbv5mVhEe6qmw7ft6Bpo+QO+RLGs2bGL7vp4qV2ZmaeHGX2F7unoHmn5e75EsHd29VarIzNLGjb/C5jfVU183+LDX12WYN6u+ShWZWdq48VdYa3MDay8/e6D558f4W5sbqlyZmaWF39ytsExGXLh8AWde+Vt0dPcyb5Zn9ZhZZbnxV0EmI5a0NLKkpbHapZhZCnmox8wsZdz4zcxSxo3fzCxl3PjNzFLGjd/MLGXc+M3MUqacF1v/iqQOSVsLln1G0n9K2iLpNkknlWv/ZmY2vHKe8d8IXDhk2d3AiohYCTwGfLyM+5/wstngyc6D3PfEXp7sPEg2G9UuycwmgbJ9gCsi7pXUOmTZDwru/hx4e7n2P9E5vtnMyqWaY/zvA75fxf3XNMc3m1m5VKXxS/oE0A98fZRtrpDULqm9s7OzcsXVCMc3m1m5VLzxS3ovcBHw7ogYcdA6ItZHRFtEtLW0tFSuwBrh+GYzK5eKNn5JFwJ/CVwcEYcque+JxvHNZlYuZXtzV9I3gDcAcyXtAK4lN4tnOnC3JICfR8QHylXDROb4ZjMrl3LO6nnXMIu/XK79TUaObzazcvAnd83MUsaN38wsZdz4zcxSxo3fzCxl3PjNzFLGjd/MLGXKNp3TSpfNBs/s72FP12F6+vo57eQGTp/rOfxmdmK48deYbDa459E9bNtzkHUbtzmZ08xOOA/11Jjt+3rYsuPAQNMHJ3Oa2Ynlxl9j9nT1kg2czGlmZePGX2PmN9UzRTiZ08zKxo2/xrQ2N3DW4tmsXrXMyZxmVhZ+c7fGZDLi/JfN56UtjZx76hwO9fVzqmf1mNkJ5MZfgzIZ0Tq3kda5TuU0sxPPQz1mZinjxm9mljJu/GZmKePGb2aWMm78ZmYpM2bjlzRvmGUvK085ZmZWbsWc8f9U0uX5O5I+Atw21oMkfUVSh6StBctOlnS3pG3J9zmllT25ZbPB43u6ufvXu/nptk4efvZ5nuo8yH1P7OXJzoNks1HtEs1sAitmHv8bgPWSLgPmA48AryjicTcCXwRuKlh2NbAxIv5e0tXJ/b88noInu2w2+P7W3Xzk5k0DyZyrVy2jYdoUbvjJkzx3qM9JnWY2LmOe8UfELuAu4NVAK3BTRBws4nH3AvuHLL4E+Fpy+2vApcdRayps39cz0PQhF862buM29vb08bZzFzup08zGrZgx/ruBVwIrgLcAn5f02RL3Nz/5jyT/H8qL3j8o2O8VktoltXd2dpa4u4lnT1fvsMmc2QDp2H0ndZpZqYoZ4//fEfGeiHg+IraSO/M/UOa6iIj1EdEWEW0tLS3l3l3NmN9UP2wyZ0YQcey+kzrNrFTFDPXcLuk8SX+cLJoD/FuJ+9sjaSFA8r2jxOeZtFqbG/jcZWcPSuZcvWoZcxumcesDO5zUaWbjNuabu5KuBdqAlwFfBaaRa/yvLWF/3wHeC/x98v3bJTzHpJbJiN9ZsYCXzT+Pp/b1UF83hZNn1jFz2lTOWDCLebPqaW12UqeZla6YWT1vBc4BHgCIiGclzRrrQZK+QW5G0FxJO4BryTX8DZLeDzwDXFZi3ZNaJiNeOn8WL50/+DCf3uK0TjMbv2Iaf19EhKQAkFTUGENEvGuEVauKLc7MzE68Yt7c3SDp/wInSfpT4IfAl8pblpmZlcuYZ/wR8VlJFwBd5Mb5r4mIu8temZmZlUVRV+BKGr2bvZnZJDBi45fUDYwYChMRTWWpyMzMymrExh8RswAkXQ/sBv4VEPBuYMxZPWZmVpuKGep5c0S8suD+DZJ+AfxjmWpKvWw22L6vhz1dvcxvqufUOTN55rlD7Os5zLQpGQ71HWV+k+fzm1lpimn8RyW9G/gmuaGfdwFHy1pVimWzwV0P72bNhlxQ22nNM/jw+cv4X/ds4x1tp/KFe7YNpHY6pdPMSlHMdM7fBy4H9iRflyXLrAy27+sZaPoAF61cxCdv38pFKxcNNH3AKZ1mVrJipnNuJxenbBUwNJ1TyjX5/PdC+ZTOJf5Er5kdh2KyelqAPyWXxT+wfUS8r3xlpVc+nbOwyRcGtg1d7pROMztexQz1fBuYTe4Tu98t+LIyaG1uYO3lx9I579i8k09fuoI7Nu/kyvOXDfpPwCmdZlYKRYx+/VZJmyLi7MqUM7y2trZob2+vZgkVlZ/V09Hdy7xZx2b17O85TJ1n9ZhZkSTdHxFtQ5cXM6vnTklviYjvlaEuG0YmI5a0NA4aux9638ysVMUM9awm1/xfkNQlqVtSV7kLMzOz8ihmVo8/pWtmNomMltVz7mgPjIgHTnw5ZmZWbqOd8X9ulHUBnH+CazEzswoYLaTtjZUsxMzMKqOYN3fNzGwSKepCLCeapL8A/oTckNFDwB9HRG81aqlV/f1ZHtndxXOH+pJ5+9Npqq+jo/sw82bVMyUDuw70ej6/mR23ijd+SYuAK4GXR8QLkjYA7wRurHQttaq/P8v3Ht7FzudeYN3GY2mcay44g6/+bDvPHepj9apl3HTf0zx3qM8pnWZ2XMYc6pH0WkkNye0/kLRW0mnj3O9UYIakqcBM4NlxPt+k8vCuAzzecXCg6UMukG3t3Y/xtnMX03sky7qN2wZuO6XTzI5HMWP8NwCHJP0G8DHgaeCmUncYETuBzwLPALuAAxHxg6HbSbpCUruk9s7OzlJ3NyHtOtBLNoZP45SGv93R7ZEyMytOMY2/P3KBPpcA6yJiHeO49KKkOclznQ6cAjRI+oOh20XE+ohoi4i2lpaWUnc3IS2cPYMpOpbKmVdflyEfrTT0tlM6zaxYxTT+bkkfB/4Q+K6kKUDdOPb5JuCpiOiMiCPArcBrxvF8k87yhU0sndfI6lWD0zjXXHAGtz6wg/q6DKtXLRu47ZROMzsexby5+w5yV9x6X0TslnQq8Jlx7PMZ4FWSZgIvAKuA9ERvFmHq1AxvWb6QR3Z3sfyUJg71HWXerOnMnlHHysWzaWnMzeo559STmDfLs3rM7PgUk9WzW9ItwLJk0V7gtlJ3GBG/kPQt4AGgH3gQWF/q801WU6dmOGvxSS9avnTesVG21rlO6zSz41fMFbj+FLgCOBlYCiwC/pncmXpJIuJa4NpSH29mZqUrZoz/z4HXAl0AEbENmFfOoszMrHyKafyHI6IvfyeZez/6ZbvMzKxmFdP4fyLpr8h94OoC4GbgjvKWZWZm5VJM478a6CSXqfNnwPeAT5azKDMzK59iZvVkgS8lX2ZmNsGNdgWuhxhlLD8iVpalopTKZoNn9vewp+swPX39LGmeyb6eI+w/1MfsGXXs7+lj4ewZLF/YxNSpGbLZYPu+HvZ0OaHTzI7PaGf8F1WsipTLZoN7Ht3Dtj25YLYz5jXyrleexj//5HHe0XYqX7jnWELnpy9dwcVnncIPH+1gzYZNA8ud0GlmxRrtClxPV7KQNNu+r4ctOw6w/t4n6T2S5U9et5SPfWsz7z9vyUDTh1wY2ydv30prc8NA088vX7NhE2de+VssafGHusxsdCO+uSvpP5Lv3ZK6Cr66JXVVrsTJb0/X4DTOFw73D6RvDpfQuburd9jlTug0s2KMdsZ/XvK95CROK878pvqBNM7eI1lmTp86KJytsMnX12VY0FQ/7HIndJpZMYq5EMu/FrPMStfa3MBZi2cPpHF+6d4nuPa/L+eOzTu58vzBCZ2fvnQFK0+ZzdrLzx603AmdZlYsRYz+IVxJD0TEuQX3pwJbIuLl5S4ur62tLdrbJ3eAZ+GsnkN9/ZxeOKunvo7nDvWxoKme5afMHjSrp6O71wmdZjYsSfdHRNvQ5aNN5/w4kP/Ebn5MX0AfntN/wmUyonVu46DEzdZRrj+TyYglLY1+M9fMjtuIQz0R8XfJ+P5nIqIp+ZoVEc0RcXUFazQzsxOomMiGxwvvSJoiyZHKZmYTVDGNf5Wk70laKOks4OeM45q7ZmZWXcVk9fy+pHeQC2k7BLwrIn5W9srMzKwsipnOuQxYDdwCbAf+MLlerpmZTUDFDPXcAVwTEX8GvB7YBvyqrFWZmVnZjDnUA7wiIvKXXQzgc5K+M56dSjoJ+BdgBbkE0PdFxH3jec6JZqx0zfz6Ay/00X806Og+zIKmes46ZTbTpk2pYuVmNtEV0/hnSPo8sCgiLpT0cuDV5M78S7UOuCsi3i5pGpCqoaNsNrjr4d0jpmvm13/lP57g9849lU/d+fDAdtdfsoJLV57i5m9mJStmqOdG4N+Bhcn9x4CrSt2hpCbgdcCXASKiLyKeL/X5JqLt+3qGTdfcvq9n0Pr3vGbJQNPPb3fNt7ey5dkDVavdzCa+0dI5838NzI2IDUAWICL6gaPj2OcScpdy/KqkByX9i6QXhcxIukJSu6T2zs7Oceyu9uwZI10zvz6f0jl0uz1dTuE0s9KNdsb/y+R7j6RmkqtxSXoVMJ5TzqnAucANEXEO0EPuur6DRMT6iGiLiLaWllGyCyag+Um6ZqHCdM38+sKUzsLt5jc5hdPMSjda48+/07gG+A6wVNLPgJuAD49jnzuAHRHxi+T+t8j9R5Aarc0No6Zr5td/7f89ybUXLR+03fWX5NI5zcxKNWI6p6QdwNrkbgaYTu4/g8PA0YhYO+wDi9mp9FPgTyLiUUnXAQ0R8T9G2n4ypnOOla453Kye+U31rPSsHjMr0nGncwJTgEaOnfnnnYgZOB8Gvp7M6HkS+OMT8JwTyljpmvn1ZmYn2miNf1dEXF+OnUbEJuBF/wuZmVn5FTPGb2Zmk8hojX9VxaowM7OKGe1CLPsrWYiZmVVGMZ/cNTOzScSN38wsZYoJabMqOPRCH492HKT7cD+H+o4ye8ZUFsyq57S5jYPm+5vZ5DRWgu94uPHXoEMv9PHDRzvZ+fwLrNu4bSCZc80FZ3D63B5WnTnfzd9sEhsrwXe8PNRTg7bu7ubxzoMDTR9y4Wxr736Mh3YeGEjxNLPJaawE3/Fy469Be7oOkw2GTebMBgMpnmY2OY2V4Dtebvw1aH7TdKaIYZM5M2IgxdPMJqexEnzHy42/Bq1YMIulLY2sXrVsUDLnmgvO4KxFswdSPM1schorwXe8RkznrCWTMZ1zLIWzel7oyzJrxhQWzKqn1bN6zFJhrATfYpSSzmlVNHPGNM457eRql2FmVTJWgu+4nvuEP6OZmdU0N34zs5Rx4zczSxk3fjOzlHHjNzNLGTd+M7OUqVrjlzRF0oOS7qxWDWZmaVTNefyrgUeApirWUFMKY1gXzq7n6NFgb89h+rNBz+F+mmbUsaCpnlNPPnHxrGaWPlVp/JIWA78L/C2wpho11JrCGNY5M6dx1aqXcrg/S29/LpUzH826etUyls1v5PyXOZrZzEpTraGefwI+BmTH2C41CmNY33buYnYe6GVvT99A04dcOt+6jdvYssPRzGZWuoo3fkkXAR0Rcf8Y210hqV1Se2dnZ4Wqq57CGFYJsoGjmc2sLKpxxv9a4GJJ24FvAudL+rehG0XE+ohoi4i2lpaWStdYcUNjWKcIRzObWVlUvPFHxMcjYnFEtALvBO6JiD+odB21pjCG9Zb7d3DK7HqaG6ax5oIzBkWzrl61jJWLHc1sZqVzOmeNyGTEhcsXcOaVv0VHdy8Lmo7N6vnye9voOXyUpvqpLJjtWT1mNj5VbfwR8WPgx9WsoZYMF8O6lFlVrMjMJiN/ctfMLGXc+M3MUsaN38wsZdz4zcxSxo3fzCxl3PjNzFLG8/hrSDYbPLW3h6f393DSjDqmSHQd7udgbz/NjdNomjGF7t6jNDdMH/gAVz7Nc35TPa3Nnt9vZmNz468RQ9M5P/j6JfT0HWXdxm0DyZyfung5GcFHb97MX1/0cvr6YyDYrb4uw9rLz+bC5Qvc/M1sVB7qqRFD0zn39vQNNH3IhbNd+52HmVE3lYtWLmLLjgMD2+fXr9mwyamdZjYmN/4aMVw653DJnD19/aOud2qnmY3Fjb9GDJfOOVwyZ8O0qUSMvN6pnWY2Fjf+GjE0nbO5YRqrVy0blMz5qYuX88KRfu7cspOzFs8e2D6/fu3lZzu108zGpIiodg1jamtri/b29mqXUXb5WT3P7O9hduGsnsP9NDdMo6l+CgcPH+XkIbN6Orp7mTfLs3rMbDBJ90dE29DlntVTQzIZsXReI0vnNY69cWJomqeZ2Vg81GNmljJu/GZmKePGb2aWMm78ZmYp48ZvZpYybvxmZilT8emckl4C3AQsALLA+ohYV+k6alk2Gzze0c1T+3qYUTeFxulTmTd7Gv+1Lzdff0oGdh3IJXKeOmcmzzx3qCYTOrPZcHqoWQ2qxjz+fuAjEfGApFnA/ZLujohfV6GWmpPNBt/fuouP3Lx5IHVz9aplLDqpngef3s832neyetUybrrvaaZNFR8+fxmfvH1rzSV0FqaN1lptZmlX8aGeiNgVEQ8kt7uBR4BFla6jVm3f1zPQ9CEXvLZu4zYe7+zhzWctGrj/tnMXc9HKRQNNP79trSR0FqaNQm3VZpZ2VR3jl9QKnAP8Yph1V0hql9Te2dlZ8dqqpTClM6/3SJZsQGeSvNl7JIuUS/Gs1YTOkX6OWqjNLO2q1vglNQK3AFdFRNfQ9RGxPiLaIqKtpaWl8gVWydCUTsgFsGUELUnyZn1dhnzEUq0mdI70c9RCbWZpV5XGL6mOXNP/ekTcWo0aalVrcwOfu+w3BqVurl61jJe2NPDvD+0cuH/rAzu4Y/NOPn3pippM6CxMG4Xaqs0s7SqezilJwNeA/RFxVTGPSUs6Z15+Vs/2fYeYXpdhVjKrZ8f+Xloac7N6dnflZvjkZ/XUYkJnflZPLdZmlgYjpXNWo/GfB/wUeIjcdE6Av4qI7430mLQ1fjOzE6FmYpkj4j8An/aZmVWJP7lrZpYybvxmZinjxm9mljJu/GZmKePGb2aWMpP2YusTKRlyaK2nzpnJU/t6eGpvD/V1GRqnT6Vheoau3qNMm5LhUN/RgZ8JGHjswtn1HM1CR3ft/8yVMJFeA2aVNCkb/0RKhhxa62nNM/jQG5fx19/eOiid85ST6lEEH7v12PIv/v459PUHazZsYs7Mabzn1aexbuO2mv+ZK2EivQbMKm1SDvVMpGTIobVetHLRQNOHY+mcT3T2cFLD9EHLt+w4MPDYt527eKDp59fX6s9cCRPpNWBWaZOy8U+kZMihtY6UuJkNeO7QkUHLs3Fs21pO6qyGifQaMKu0Sdn4J1Iy5Ei1Dr2fEcyZWTdo+RQN3nai/MyVMJFeA2aVNikb/0RKhhxa6x2bd/I3l6x4UTrn0pYGnu85PGj5WYtnDzz2lvt3sHrVsgnxM1fCRHoNmFVaxUPaSlFKSNtESoYcWmsps3o6untZ0JSb1dN5sPZ/5kqYSK8Bs3KomXTOUjid08zs+I3U+CflUI+ZmY3Mjd/MLGXc+M3MUsaN38wsZdz4zcxSZkLM6pHUCTxdxl3MBfaW8fnHo5Zrg9qur5Zrg9quz7WVrpbqOy0iWoYunBCNv9wktQ835akW1HJtUNv11XJtUNv1ubbS1Xp94KEeM7PUceM3M0sZN/6c9dUuYBS1XBvUdn21XBvUdn2urXS1Xp/H+M3M0sZn/GZmKePGb2aWMqlq/JKuk7RT0qbk6y0F6z4u6XFJj0p6c8Hy35T0ULLuC5Iqlusr6cKknsclXV2p/Q6pYXvy82+S1J4sO1nS3ZK2Jd/nFGw/7HE8QbV8RVKHpK0Fy467lnL9TkeoryZec5JeIulHkh6R9LCk1cnyqh+/UWqrlWNXL+mXkjYn9X0qWV71Y1eyiEjNF3Ad8NFhlr8c2AxMB04HngCmJOt+CbwaEPB94HcqVOuUpI4lwLSkvpdX4ZhtB+YOWfaPwNXJ7auBfxjrOJ6gWl4HnAtsHU8t5fqdjlBfTbzmgIXAucntWcBjSQ1VP36j1FYrx05AY3K7DvgF8KpaOHalfqXqjH8UlwDfjIjDEfEU8DjwCkkLgaaIuC9yv7WbgEsrVNMrgMcj4smI6AO+mdRZCy4Bvpbc/hrHjsmwx/FE7TQi7gX2j6eWcv5OR6hvJBWtLyJ2RcQDye1u4BFgETVw/EapbSSVPnYREQeTu3XJV1ADx65UaWz8H5K0JfmzPP+n2SLgvwq22ZEsW5TcHrq8EkaqqdIC+IGk+yVdkSybHxG7IPePFpiXLK9GzcdbSzV+pzX1mpPUCpxD7sy1po7fkNqgRo6dpCmSNgEdwN0RUXPH7nhMusYv6YeStg7zdQlwA7AUOBvYBXwu/7BhnipGWV4J1dx3oddGxLnA7wB/Lul1o2xbKzVD7fxOa+o1J6kRuAW4KiK6Rtt0hDrKVt8wtdXMsYuIoxFxNrCY3Nn7ilE2r5XX3oimVmOn5RQRbypmO0lfAu5M7u4AXlKwejHwbLJ88TDLK2GkmioqIp5NvndIuo3c0M0eSQsjYlfy52tHsnk1aj7eWir6O42IPfnb1X7NSaoj11i/HhG3Jotr4vgNV1stHbu8iHhe0o+BC6mRY1eKSXfGP5rkl5P3ViA/++I7wDslTZd0OrAM+GXy51u3pFcl776/B/h2hcr9FbBM0umSpgHvTOqsGEkNkmblbwO/Te6YfQd4b7LZezl2TIY9jmUu87hqqfTvtFZec8lzfRl4JCLWFqyq+vEbqbYaOnYtkk5Kbs8A3gT8JzVw7EpWjXeUq/UF/CvwELAl+eUsLFj3CXLvvj9KwTvtQBu5F9wTwBdJPu1coXrfQm6GwxPAJ6pwvJaQm52wGXg4XwPQDGwEtiXfTx7rOJ6ger5B7k/+I+TOnt5fSi3l+p2OUF9NvOaA88gNK2wBNiVfb6mF4zdKbbVy7FYCDyZ1bAWuKfXfQblee8f75cgGM7OUSdVQj5mZufGbmaWOG7+ZWcq48ZuZpYwbv5lZyrjx24Qi6WKVmFQq6UZJb09uXyVp5omt7sSQdL2koj6IWPCYNklfKFdNNrl4OqdNGJKmRkT/OB5/I3BnRHxL0nagLSL2Vmr/ZrXCZ/xWUZJuTwLfHi4IfUPS+yU9JunHkr4k6YvJ8hslrZX0I+AfJP1Rwbr5km5TLid9s6TXSGrV4Dz8j0q6bkgNVwKnAD9KnhdJBwvWvz35T2K4/S+VdFfyM/xU0pnD/IwNyoWK/UrSg0lOFEntt0u6Q9JTkj4kaU2yzc8lnVywz/xfJn8v6dfKBZV9Nll2mXL5U5sl3Zsse4OkO5PbJyf72ZI878pk+XVJXT+W9GRyHPL1fjd5vq2S3lH6b9gmgkmX1WM1730RsT/56PuvJN1CLrf8r8ll2XcD95D7tHDeGcCbIuKopD8qWP4F4CcR8VZJU4BGYA5jiIgvSFoDvLHIM/7C/W8EPhAR2yS9Evg/wPlDtv8EcE9EvC/5qP8vJf0wWbeCXPpkPbm43r+MiHMkfZ7cR/j/Kf8kyX8EbwXOjIjIxwYA1wBvjoidBcsKfQp4MCIulXQ+ufjfs5N1ZwJvJJd7/6ikG8jlzjwbEb+b7Hd2EcfEJjA3fqu0KyW9Nbn9EnI5JgvINfD9AJJuJtds826OiKPDPNf55JolyfoDKrgK0gl0c9L0G4HXADfr2IWTpg+z/W8DF0v6aHK/Hjg1uf2jyGXOd0s6ANyRLH+IXDRAoS6gF/gXSd/lWEjZz4AbJW0AbuXFzgN+DyAi7pHUXNDMvxsRh4HDkjqA+cm+PyvpH8gNhf10rANiE5sbv1WMpDeQC7h6dUQcUi7lsJ7h42oL9RzHbvoZPIRZX+TjCt/sGvqY/P4zwPORi+cdjYDfi4hHBy3M/YVwuGBRtuB+liH/HiOiX9IrgFXkQvo+BJwfER9Inut3gU2ShtYzWvxv4f6PAlMj4jFJv0kuH+fvJP0gIq4f42e0Ccxj/FZJs4HnkqZ/JrnL10EuwfP1kuZImkpytlqEjcAHYeBCGU3AHmBecpY7HbhohMd2kxvuyNsj6b9JypAbXnmRyGXEPyXpsmSfkvQbw2z678CHlfxZIOmcIn+eQZK/MGZHxPeAq0iGayQtjYhfRMQ1wF4GRwAD3Au8O9n2DcDeGCV7X9IpwKGI+Dfgs+SG3GwS8xm/VdJdwAckbSGXWvhzgGSs+n+Su+rSs8CvgQNFPN9qYL2k95M7e/1gRNwn6frkuZ4iF587nPXA9yXtiog3krtm6p3krpy0ldz7BcN5N3CDpE+SuwTfNxn8fgTA35Abq9+SNP/tjPwf0GhmAd+WlP+r6C+S5Z+RtCxZtjHZ/+sLHncd8NXkOB/iWHTwSM5KnjNLLln0gyXUahOIp3NaTZDUGBEHkzP+24CvRMRt1a7LbDLyUI/ViuuUu6bpVnJn6rdXtRqzScxn/GZmKeMzfjOzlHHjNzNLGTd+M7OUceM3M0sZN34zs5T5/wt2/aB7Ovo5AAAAAElFTkSuQmCC\n",
      "text/plain": [
       "<Figure size 432x288 with 1 Axes>"
      ]
     },
     "metadata": {
      "needs_background": "light"
     },
     "output_type": "display_data"
    },
    {
     "data": {
      "image/png": "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\n",
      "text/plain": [
       "<Figure size 432x288 with 1 Axes>"
      ]
     },
     "metadata": {
      "needs_background": "light"
     },
     "output_type": "display_data"
    },
    {
     "data": {
      "image/png": "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\n",
      "text/plain": [
       "<Figure size 432x288 with 1 Axes>"
      ]
     },
     "metadata": {
      "needs_background": "light"
     },
     "output_type": "display_data"
    },
    {
     "data": {
      "image/png": "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\n",
      "text/plain": [
       "<Figure size 432x288 with 1 Axes>"
      ]
     },
     "metadata": {
      "needs_background": "light"
     },
     "output_type": "display_data"
    },
    {
     "data": {
      "image/png": "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\n",
      "text/plain": [
       "<Figure size 432x288 with 1 Axes>"
      ]
     },
     "metadata": {
      "needs_background": "light"
     },
     "output_type": "display_data"
    }
   ],
   "source": [
    "list = ['agriculture','energy','waste','industrial','bunker fuels']\n",
    "i = 0\n",
    "for i in list:\n",
    "    first_scatter = sns.scatterplot(x=analysis_two_all[i], y=analysis_two_all['Textiles'])\n",
    "    first_scatter.set_xlabel(i + ' emissions')\n",
    "    first_scatter.set_ylabel('Textiles Index')\n",
    "    plt.show()"
   ]
  },
  {
   "cell_type": "code",
<<<<<<< Updated upstream
=======
<<<<<<< HEAD
   "execution_count": 50,
   "metadata": {},
   "outputs": [
    {
     "data": {
      "image/png": "iVBORw0KGgoAAAANSUhEUgAAAX4AAAEGCAYAAABiq/5QAAAAOXRFWHRTb2Z0d2FyZQBNYXRwbG90bGliIHZlcnNpb24zLjMuMiwgaHR0cHM6Ly9tYXRwbG90bGliLm9yZy8vihELAAAACXBIWXMAAAsTAAALEwEAmpwYAAAV8UlEQVR4nO3dfZBldX3n8fenZbR1HowOPYOK2mKMJBBFd+IaQaOIyfhQPkQhGq2VlQqrZQTEbFaj8SmV3aTWJcZKYmU0BqKWFqj4HNQgRNcHdEZGGSSKkVEJODOOKzOO1TjY3/3jnsaeYab7Mva5D33er6quvvfce8/59Onhw+nfPfd3UlVIkrpjYtgBJEmDZfFLUsdY/JLUMRa/JHWMxS9JHXPUsAP04+ijj67p6elhx5CksbJly5YfVNXUwcvHovinp6fZvHnzsGNI0lhJ8p1DLXeoR5I6xuKXpI6x+CWpYyx+SeoYi1+SOmYszurpstnZYvvufezYM8P6NZNMr13JxESGHUvSGLP4R9jsbHHZtd/n/Iu3MrN/lskVE1xwxklsPOEYy1/SEXOoZ4Rt373v9tIHmNk/y/kXb2X77n1DTiZpnFn8I2zHnpnbS3/OzP5Zdu6dGVIiScuBxT/C1q+ZZHLFgb+iyRUTrFs9OaREkpYDi3+ETa9dyQVnnHR7+c+N8U+vXTnkZJLGmW/ujrCJibDxhGM4/pzHsnPvDOtWe1aPpF+cxT/iJibCcVOrOG5q1bCjSFomHOqRpI6x+CWpYyx+SeoYi1+SOsbil6SOsfglqWMsfknqGItfkjrG4pekjrH4JaljLH5J6hiLX5I6prXiT/KOJDuTbJu37N5JPpXk+ub7vdraviTp0No84r8Q2HjQslcCl1fVQ4DLm/uSpAFqrfir6jPADw9a/Azgoub2RcAz29q+JOnQBj3Gv76qbgZovq873BOTnJ1kc5LNu3btGlhASVruRvbN3araVFUbqmrD1NTUsONI0rIx6OLfkeQ+AM33nQPeviR13qCL/8PAC5vbLwQ+NODtS1LntXk653uALwAPTXJjkrOAvwCelOR64EnNfUnSALV2sfWqet5hHnpiW9uUJC1uZN/clSS1w+KXpI6x+CWpYyx+SeoYi1+SOsbil6SOsfglqWMsfknqGItfkjrG4pekjrH4JaljLH5J6hiLX5I6xuKXpI6x+CWpYyx+SeoYi1+SOsbil6SOsfglqWMsfknqGItfkjrG4pekjrH4JaljLH5J6hiLX5I6xuKXpI6x+CWpYyx+SeoYi1+SOsbil6SOGUrxJ3l5kmuTbEvyniSTw8ghSV008OJPcj/gHGBDVZ0I3AV47qBzSFJXDWuo5yjg7kmOAu4B3DSkHJLUOQMv/qr6D+BNwHeBm4FbquqTg84hSV01jKGeewHPAB4E3BdYmeQFh3je2Uk2J9m8a9euQceUpGVrGEM9pwE3VNWuqtoPfAB4zMFPqqpNVbWhqjZMTU0NPKQkLVfDKP7vAo9Oco8kAZ4IXDeEHJLUScMY478KeB/wFeCaJsOmQeeQpK46ahgbrarXAa8bxrYlqev85K4kdYzFL0kdY/FLUsdY/JLUMYsW/6EmUEtydDtxJElt6+eI/8tJHj13J8mzgc+3F0mS1KZ+Tuf8feAdSa6kN8XCWuDUNkNJktqzaPFX1TVJ/hx4J7AXeFxV3dh6MklSKxYt/iT/ADwYeBjwK8BHkvxNVf1t2+EkSUuvnzH+bcATquqGqvoE8Gjgke3GkiS1ZdHir6q/Ah6Q5LRm0U+B89oMJUlqTz+nc/4BvUnV/r5ZdCzwwRYzSZJa1M9Qz0uBk4E9AFV1PbCuzVCSpPb0U/y3VtVP5+4018mt9iJJktrUT/H/a5I/oXdx9CcBlwAfaTeWJKkt/RT/K4Fd9C6a8t+AjwOvaTOUJKk9/XyAaxZ4W/MlSRpzhy3+JNewwFh+VT2slUSSpFYtdMT/tOb7S5vv72y+Px/4SWuJJEmtOmzxV9V3AJKcXFUnz3volUk+B7yx7XCSpKXXz5u7K5OcMncnyWOAle1FkiS1qZ9pmc+iNy3zPZv7PwJe1FoiSVKr+jmrZwvw8CRrgFTVLe3HkiS1pZ9pme8GPBuYBo5KAkBVOcYvSWOon6GeDwG3AFuAW9uNI0lqWz/Ff2xVbWw9iSRpIPo5q+fzSX699SSSpIHo54j/FODMJDfQG+oJUH5yV5LGUz/F/+TWU0iSBmahuXru3dzcO6AskqQBWOiIfwu9SdpyiMcKOK6VRJKkVi00V8+D2tpokl8C3g6cSO9/Ii+qqi+0tT1J0s/1M8bfhr8GLquq5yS5K3CPIeWQpM4ZePE3Uz88DjgToLme708Xeo0kaen0cx7/UjuO3qUc/zHJ1UnenuQOs30mOTvJ5iSbd+3aNfiUkrRM9VX8Se6S5L5JHjD39Qts8yjgkcBbq+oRwD561/U9QFVtqqoNVbVhamrqF9icJGm+fiZpexnwOmAHMNssLuBIP8B1I3BjVV3V3H8fhyh+SVI7+hnjPxd4aFXtXooNVtX3k3wvyUOr6hvAE4GvL8W6JUmL66f4v0dvds6l9DLg3c0ZPd8G/usSr1+SdBj9FP+3gSuTfIx50zJX1QVHutGq2gpsONLXS5KOXD/F/93m667NlyRpjPVz6cU3ACRZ3btbP249lSSpNYuezpnkxCRXA9uAa5NsSXJC+9EkSW3o5zz+TcD5VfXAqnog8Argbe3GkiS1pZ/iX1lVV8zdqaorgTt80laSNB76OqsnyZ8C72zuvwC4ob1IkqQ29XPE/yJgCvhA83U0zQRrkqTx088R/2lVdc78BUlOBy5pJ5IkqU39HPG/qs9lkqQxsNA1d58MPAW4X5K3zHtoDXBb28EkSe1YaKjnJmAz8HR619+dsxd4eZuhJEntWeiau18FvppkfVVdNP+xJOfSu3yiJGnM9DPG/9xDLDtziXNIkgZkoTH+5wG/DzwoyYfnPbQaWJK5+SVJg7fQGP/ngZvpnbf/f+Yt3wt8rc1QkqT2LDTG/x3gO8BvJlkP/Ebz0HVV5Vk9kjSm+pmd83TgS8DpwBnAVUme03YwSVI7+vnk7muA36iqnQBJpoB/oXeRdEnSmOnnrJ6JudJv7O7zdZKkEdTPEf9lST4BvKe5/3vAP7cXSZLUpn4uvfjfk/wucAoQYFNVXdp6MklSKxY6j/+XgfVV9bmqmpuSmSSPS/Lgqvr3QYWUJC2dhcbq30zvnP2D/aR5TJI0hhYq/umqusMHtapqMzDdWiJJUqsWKv7JBR67+1IHkSQNxkLF/+Ukf3DwwiRnceA0zZKkMbLQWT3nAZcmeT4/L/oNwF2BZ7WcS5LUkoXm6tkBPCbJE4ATm8Ufq6pPDySZJKkV/ZzHfwVwxQCySJIGwKkXJKljhlb8Se6S5OokHx1WBknqon7m6mnLucB1wJohZtAyNDtbbN+9jx17Zli/ZpLptSuZmMiwY0kjYyjFn+RY4KnAnwPnDyODlqfZ2eKya7/P+RdvZWb/LJMrJrjgjJPYeMIxlr/UGNZQz5uBPwZmh7R9LVPbd++7vfQBZvbPcv7FW9m+e9+Qk0mjY+DFn+RpwM6qWvBDYEnOTrI5yeZdu3YNKJ3G3Y49M7eX/pyZ/bPs3DszpETS6BnGEf/JwNOTbAfeC5ya5F0HP6mqNlXVhqraMDU1NeiMGlPr10wyueLAf9aTKyZYt3qhGUikbhl48VfVq6rq2KqaBp4LfLqqXjDoHFqepteu5IIzTrq9/OfG+KfXrhxyMml0DPOsHmnJTUyEjSccw/HnPJade2dYt9qzeqSDDbX4q+pK4MphZtDyMzERjptaxXFTq4YdRRpJfnJXkjrG4pekjrH4JaljLH5J6hiLX5I6xuKXpI6x+CWpYyx+SeoYi1+SOsbil6SOsfglqWMsfknqGItfkjrG4pekjrH4JaljLH5J6hiLX5I6xuKXpI6x+CWpYyx+SeoYi1+SOsbil6SOsfglqWMsfknqGItfkjrG4pekjrH4JaljLH5J6hiLX5I6xuKXpI6x+CWpY44a9AaT3B/4J+AYYBbYVFV/vdTbmZ0ttu/ex449M6xfM8n02pVMTGRk1jeuGUaF+2J0+LtoR5v7deDFD9wGvKKqvpJkNbAlyaeq6utLtYHZ2eKya7/P+RdvZWb/LJMrJrjgjJPYeMIxR7Tjlnp9R2IUMowK98Xo8HfRjrb368CHeqrq5qr6SnN7L3AdcL+l3Mb23ftu32EAM/tnOf/irWzfvW8k1jeuGUaF+2J0+LtoR9v7dahj/EmmgUcAVx3isbOTbE6yedeuXXdqvTv2zNy+w+bM7J9l596ZI8q51Osb1wyjwn0xOvxdtKPt/Tq04k+yCng/cF5V7Tn48araVFUbqmrD1NTUnVr3+jWTTK448EebXDHButWTR5R1qdc3rhlGhftidPi7aEfb+3UoxZ9kBb3Sf3dVfWCp1z+9diUXnHHS7Ttubnxseu3KkVjfuGYYFe6L0eHvoh1t79dU1ZKsqO8NJgEuAn5YVef185oNGzbU5s2b79R25t4R37l3hnWrl+6snqVa37hmGBXui9Hh76IdS7Ffk2ypqg13WD6E4j8F+CxwDb3TOQH+pKo+frjXHEnxS1LXHa74B346Z1X9X8DDAUkaEj+5K0kdY/FLUsdY/JLUMRa/JHWMxS9JHWPxS1LHWPyS1DEWvyR1jMUvSR1j8UtSx1j8ktQxw7j0otQqrwErLczi17LiNWClxTnUo2XFa8BKi7P4tax4DVhpcRa/lhWvASstzuLXsuI1YKXF+eaulpWJibDxhGM4/pzHeg1Y6TAsfi07ExPhuKlVHDe1athRpJHkUI8kdYzFL0kdY/FLUsdY/JLUMRa/JHVMqmrYGRaVZBfwnSVe7dHAD5Z4nYNi9uEw+/CMc/5hZn9gVU0dvHAsir8NSTZX1YZh5zgSZh8Osw/POOcfxewO9UhSx1j8ktQxXS7+TcMO8Asw+3CYfXjGOf/IZe/sGL8kdVWXj/glqZMsfknqmM4Vf5LTk1ybZDbJhoMee1WSbyX5RpLfGVbGhSTZ2OT7VpJXDjvPQpK8I8nOJNvmLbt3kk8lub75fq9hZjycJPdPckWS65p/L+c2y0c+f5LJJF9K8tUm+xua5SOffU6SuyS5OslHm/tjkT3J9iTXJNmaZHOzbOSyd674gW3A7wKfmb8wya8BzwVOADYCf5fkLoOPd3hNnr8Fngz8GvC8JveoupDevpzvlcDlVfUQ4PLm/ii6DXhFVf0q8Gjgpc2+Hof8twKnVtXDgZOAjUkezXhkn3MucN28++OU/QlVddK8c/dHLnvnir+qrquqbxzioWcA762qW6vqBuBbwKMGm25RjwK+VVXfrqqfAu+ll3skVdVngB8etPgZwEXN7YuAZw4yU7+q6uaq+kpzey+9ErofY5C/en7c3F3RfBVjkB0gybHAU4G3z1s8FtkPY+Syd674F3A/4Hvz7t/YLBsl45BxMeur6mbolSuwbsh5FpVkGngEcBVjkr8ZKtkK7AQ+VVVjkx14M/DHwOy8ZeOSvYBPJtmS5Oxm2chlX5ZX4EryL8Axh3jo1VX1ocO97BDLRu1c13HIuKwkWQW8HzivqvYk43EJx6r6GXBSkl8CLk1y4pAj9SXJ04CdVbUlyeOHHOdInFxVNyVZB3wqyb8NO9ChLMvir6rTjuBlNwL3n3f/WOCmpUm0ZMYh42J2JLlPVd2c5D70jkhHUpIV9Er/3VX1gWbx2OQHqKofJbmS3nst45D9ZODpSZ4CTAJrkryL8chOVd3UfN+Z5FJ6w7Mjl92hnp/7MPDcJHdL8iDgIcCXhpzpYF8GHpLkQUnuSu/N6A8POdOd9WHghc3tFwKH+wtsqNI7tP8H4LqqumDeQyOfP8lUc6RPkrsDpwH/xhhkr6pXVdWxVTVN79/3p6vqBYxB9iQrk6yeuw38Nr2TSUYve1V16gt4Fr0j51uBHcAn5j32auDfgW8ATx521sPkfwrwzSbnq4edZ5Gs7wFuBvY3+/wsYC29Mxuub77fe9g5D5P9FHrDaF8DtjZfTxmH/MDDgKub7NuA1zbLRz77QT/H44GPjkt24Djgq83XtXP/fY5idqdskKSOcahHkjrG4pekjrH4JaljLH5J6hiLX5I6xuLXWEny9COdlTTJhUme09w+L8k9ljbd0kjyxiR36kOISTYkeUtbmbS8eDqnxkaSo6rqtl/g9RfSOy/8fUm2Axuq6geD2r40Kjzi10Al+WAzgdW18yaxIslZSb6Z5Mokb0vyN83yC5NckOQK4C+TnDnvsfVJLm3mnf9qksckmc6B8///UZLXH5ThHOC+wBXNekny43mPP6f5n8Shtv/gJJc1P8Nnkxx/iJ9xZXrXIvhyM6f8M5rlZzY//0eS3JDkD5Oc3zzni0nuPW+bc3+Z/EWSryf5WpI3NctOT7Kt+Zk/0yx7fA6cu/6DzWu+mORhzfLXN7muTPLtZj/M5f1Ys75tSX7vyH/DGgfLcq4ejbQXVdUPm6kEvpzk/cDdgD8FHgnsBT5N79OPc34FOK2qfpbkzHnL3wL8a1U9K71rFawCFr3IRVW9Jcn59OZN7+eIf/72LwdeXFXXJ/nPwN8Bpx70/FfTm2rgRc3UCV9Kb+JAgBPpzfQ5SW/q7/9RVY9I8lfAf6E3MyXQK3B6nzQ/vqpqbhoG4LXA71TVf8xbNt8bgKur6plJTgX+id68/ADHA08AVgPfSPJWevP43FRVT222e88+9onGmMWvQTsnybOa2/enNyfSMfQK/IcASS6hV7ZzLqnebJMHO5VeWdI8fkvaubrRJU3prwIeA1ySn8/SebdDPP+36U009kfN/UngAc3tK6o3v//eJLcAH2mWX0NvqoX59gAzwNuTfAz4aLP8c8CFSS4GPsAdnQI8G6CqPp1k7bwy/1hV3QrcmmQnsL7Z9puS/CW9obDPLrZDNN4sfg1MetPsngb8ZlX9JL1ZIyc59HTT8+27E5u5jQOHMCf7fN38N7sOfs3c9ieAH1XVSYusK8Cz66AL/jR/Idw6b9HsvPuzHPTfY1XdluRRwBPpTVj2h/SurPXiZl1PBbYmOTjPQtN3z9/+z4CjquqbSf4TvbmI/leST1bVGxf5GTXGHOPXIN0T+H9N6R9P75KG0JsF9beS3CvJUTRHq324HHgJ3H7hkTX0Jt5b1xzl3g142mFeu5fecMecHUl+NckEveGVO6iqPcANSU5vtpkkDz/EUz8BvCzNnwVJHtHnz3OA5i+Me1bVx4HzaIZrkjy4qq6qqtcCP+DAqbqhd1nR5zfPfTzwgyb74bZzX+AnVfUu4E30hty0jHnEr0G6DHhxkq/RmwH1iwDNWPX/pHeFq5uArwO39LG+c4FNSc6id/T6kqr6QpI3Nuu6gd50xIeyCfjnJDdX1RPoXQf1o/SucLaN3vsFh/J84K1JXkPvkobv5cD3IwD+jN5Y/dea8t/O4f8HtJDVwIeSzP1V9PJm+f9O8pBm2eXN9n9r3uteD/xjs59/ws+nBD6cX2/WOUtvJtWXHEFWjRFP59RISLKqqn7cHPFfCryjqi4ddi5pOXKoR6Pi9eldI3YbvSP1Dw41jbSMecQvSR3jEb8kdYzFL0kdY/FLUsdY/JLUMRa/JHXM/wd70zKDbWvykAAAAABJRU5ErkJggg==\n",
      "text/plain": [
       "<Figure size 432x288 with 1 Axes>"
      ]
     },
     "metadata": {
      "needs_background": "light"
     },
     "output_type": "display_data"
    },
    {
     "data": {
      "image/png": "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\n",
      "text/plain": [
       "<Figure size 432x288 with 1 Axes>"
      ]
     },
     "metadata": {
      "needs_background": "light"
     },
     "output_type": "display_data"
    },
    {
     "data": {
      "image/png": "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\n",
      "text/plain": [
       "<Figure size 432x288 with 1 Axes>"
      ]
     },
     "metadata": {
      "needs_background": "light"
     },
     "output_type": "display_data"
    },
    {
     "data": {
      "image/png": "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\n",
      "text/plain": [
       "<Figure size 432x288 with 1 Axes>"
      ]
     },
     "metadata": {
      "needs_background": "light"
     },
     "output_type": "display_data"
    },
    {
     "data": {
      "image/png": "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\n",
      "text/plain": [
       "<Figure size 432x288 with 1 Axes>"
      ]
     },
     "metadata": {
      "needs_background": "light"
     },
     "output_type": "display_data"
    }
   ],
   "source": [
    "for i in list:\n",
    "    first_scatter = sns.scatterplot(x=analysis_two_all[i], y=analysis_two_all['Cotton'])\n",
    "    first_scatter.set_xlabel(i + ' emissions')\n",
    "    first_scatter.set_ylabel('Cotton Index')\n",
    "    plt.show()"
=======
>>>>>>> Stashed changes
   "execution_count": 29,
   "metadata": {},
   "outputs": [],
   "source": [
    "list=['agriculture','energy','waste','industrial','bunker fuels']"
<<<<<<< Updated upstream
=======
>>>>>>> 43a13bf2546af412be6dab0aa34190b2a1fd0e8b
>>>>>>> Stashed changes
   ]
  },
  {
   "cell_type": "code",
<<<<<<< Updated upstream
   "execution_count": 30,
=======
<<<<<<< HEAD
   "execution_count": 51,
=======
   "execution_count": 30,
>>>>>>> 43a13bf2546af412be6dab0aa34190b2a1fd0e8b
>>>>>>> Stashed changes
   "metadata": {},
   "outputs": [
    {
     "data": {
<<<<<<< Updated upstream
      "image/png": "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\n",
=======
<<<<<<< HEAD
      "image/png": "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\n",
=======
      "image/png": "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\n",
>>>>>>> 43a13bf2546af412be6dab0aa34190b2a1fd0e8b
>>>>>>> Stashed changes
      "text/plain": [
       "<Figure size 432x288 with 1 Axes>"
      ]
     },
     "metadata": {
      "needs_background": "light"
     },
     "output_type": "display_data"
    },
    {
     "data": {
<<<<<<< Updated upstream
      "image/png": "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\n",
=======
<<<<<<< HEAD
      "image/png": "iVBORw0KGgoAAAANSUhEUgAAAX4AAAEGCAYAAABiq/5QAAAAOXRFWHRTb2Z0d2FyZQBNYXRwbG90bGliIHZlcnNpb24zLjMuMiwgaHR0cHM6Ly9tYXRwbG90bGliLm9yZy8vihELAAAACXBIWXMAAAsTAAALEwEAmpwYAAAbZ0lEQVR4nO3dfZRddX3v8ffnMBMHJglgMnmQh46hCBIuBB29PgCiUG+kCNilKayyyq22WfV6DRhblav3Im29y1ZXql5r24gRVC42KiCopXARjHYpMsEYEvABQ4BAHoagSUgdMsl87x97z+RkmHPmZGb23ufM/rzWOiv77L3P/n3X5MwnO7+zz3crIjAzs/KoFF2AmZnly8FvZlYyDn4zs5Jx8JuZlYyD38ysZNqKLqARs2fPju7u7qLLMDNrKWvXrn0mIrpGrm+J4O/u7qa3t7foMszMWoqkx0db76keM7OScfCbmZWMg9/MrGQc/GZmJePgNzMrmcyCX9IqSTskbRix/r2Sfi5po6S/y2r8VjY4GGzqe44f/uoZNvU9x+CgG+mZ2eTJ8nLOG4DPAl8aWiHpjcAlwBkR8bykORmO35IGB4M7N25j+ep19A8M0tFeYcWSRSxeOI9KRUWXZ2ZTQGZn/BGxBnh2xOp3Ax+PiOfTfXZkNX6r2rxz73DoA/QPDLJ89To279xbcGVmNlXkPcf/MuAcSfdL+p6kV9XaUdJSSb2Sevv6+nIssVjbd/cPh/6Q/oFBduzpL6giM5tq8g7+NuBY4DXAXwKrJY06fxERKyOiJyJ6urpe8I3jKWvuzA462g/9a+lorzBnRkdBFZnZVJN38G8BbonEj4FBYHbONTS17lmdrFiyaDj8h+b4u2d1FlyZmU0VeffquQ14E3CfpJcB04Bncq6hqVUqYvHCeZy67Bx27OlnzowOumd1+oNdM5s0mQW/pJuB84DZkrYA1wKrgFXpJZ77gCvDN/19gUpFLOiazoKu6UWXYmZTUGbBHxGX19h0RVZjmpnZ2PzNXTOzknHwm5mVjIPfzKxkHPxmZiXj4DczKxkHv5lZyTj4zcxKxsFvZlYyDn4zs5Jx8JuZlYyD38ysZBz8ZmYl4+A3MysZB7+ZWck4+M3MSsbBb2ZWMg5+M7OSySz4Ja2StCO9zeLIbX8hKST5RutmZjnL8oz/BmDxyJWSTgB+D3giw7HNzKyGzII/ItYAz46y6e+BDwC+ybqZWQFyneOXdDHwVET8NM9xzczsoLa8BpJ0FPBh4M0N7r8UWApw4oknZliZmVm55HnGfxLwUuCnkjYDxwMPSpo32s4RsTIieiKip6urK8cyzcymttzO+CPiIWDO0PM0/Hsi4pm8ajAzs2wv57wZ+CFwiqQtkt6V1VhmZta4zM74I+LyMbZ3ZzW2mZnV5m/umpmVjIPfzKxkHPxmZiXj4DczKxkHv5lZyTj4zcxKxsFvZlYyDn4zs5Jx8JuZlYyD38ysZBz8ZmYl4+A3MysZB7+ZWck4+M3MSsbBb2ZWMg5+M7OScfCbmZWMg9/MrGSyvOfuKkk7JG2oWvcJST+TtF7SrZKOyWp8MzMbXZZn/DcAi0esuxs4PSLOAH4BXJPh+GZmNorMgj8i1gDPjlh3V0TsT5/+CDg+q/HNzGx0Rc7xvxP411obJS2V1Cupt6+vL8eyzMymtkKCX9KHgf3ATbX2iYiVEdETET1dXV35FWdmNsW15T2gpCuBi4DzIyLyHt/MrOxyDX5Ji4EPAm+IiP/Ic2wzM0tkeTnnzcAPgVMkbZH0LuCzwAzgbknrJP1TVuObmdnoMjvjj4jLR1n9hazGMzOzxvibu2ZmJePgNzMrGQe/mVnJOPjNzEom9+v4bXINDgabd+5l++5+5s7soHtWJ5WKii7LzJqYg7+FDQ4Gd27cxvLV6+gfGKSjvcKKJYtYvHCew9/MahpzqkfSX0tqq3o+U9IXsy3LGrF5597h0AfoHxhk+ep1bN65t+DKzKyZNTLH3wbcL+kMSW8GHgDWZluWNWL77v7h0B/SPzDIjj39BVVkZq1gzKmeiLhG0j3A/cCvgXMj4tHMK7MxzZ3ZQUd75ZDw72ivMGdGR4FVmVmza2Sq51zg08BfAfcBn5X0kozrsgZ0z+pkxZJFdLQnf41Dc/zdszoLrszMmlkjH+5+EnhHRDwMIOkPgO8Cp2ZZmI2tUhGLF87j1GXnsGNPP3Nm+KoeMxtbI8H/2og4MPQkIm6R9L0Ma7LDUKmIBV3TWdA1vehSzKxFNPLh7kmS7hm6abqkM4B3Z1uWmZllpZHg/zzJTdEHACJiPXBZlkWZmVl2Ggn+oyLixyPW7R91TzMza3qNBP8zkk4CAkDS24GtmVZlZmaZaeTD3fcAK4FTJT0FPAZckWlVZmaWmUa+wLUJuEBSJ1CJiD2NHFjSKpKbqu+IiNPTdS8G/gXoBjYDSyLi1+Mr3czMxqNm8EtaXmM9ABGxYoxj30Byj90vVa37EHBPRHxc0ofS5x88jHrNzGyC6s3xz0gfPSSXbx6XPv4cOG2sA0fEGuDZEasvAW5Ml28ELj28cs3MbKJqnvFHxHUAku4CXjE0xSPpo8DXxjne3IjYmh5/q6Q5tXaUtBRYCnDiiSeOczgzMxupkat6TgT2VT3fRzJHn6mIWBkRPRHR09XVlfVwZmal0chVPV8GfizpVpJLOt/GofP2h2O7pPnp2f58YMc4j2NmZuM05hl/RHwMeCdJS+bfAH8SEf97nOPdDlyZLl8JfHOcxzEzs3Fq9NaL60i+tNUGIOnEiHii3gsk3QycB8yWtAW4Fvg4sFrSu4AngHeMr2wzMxuvMYNf0ntJQns7cAAQyZTPGfVeFxGX19h0/mHWaGZmk6iRM/6rgFMiYmfWxZiZWfYauarnSWBX1oWYmVk+Gjnj3wTcJ+nbwPNDKxv45q6ZmTWhRoL/ifQxLX2YmVkLa6RJ23V5FFKUwcFg8869bN/dz9yZ2d6zdqJj5VmrmU1d9Zq03UHag380EXFxJhXlaHAwuHPjNpavXkf/wCAd7RVWLFnE4oXzJj1QJzpWnrWa2dSmiNGzXdIb6r0wInK74XpPT0/09vZO+nE39T3HhZ/5Pv0Dg8PrOtorfGfZOZN+8/KJjpVnrWY2NUhaGxE9I9fXa9KWW7AXZfvu/kOCFKB/YJAde/onPUwnOlaetZrZ1NbI5ZxT1tyZHXS0H/oj6GivMGdGR9ONlWetZja1lTr4u2d1smLJouFAHZo3757V2XRj5VmrmU1tNef4m0lWc/xw8EqZHXv6mTMjn6t6xjtWnrWaWes77Dn+qheOdnXPLqAX+OeI6J+cEotRqYgFXdNzmSef6Fh51mpmU1cjUz2bgOeAz6eP3SQN216WPjczsxbSyDd3z4qIc6ue3yFpTUScK2ljVoWZmVk2Gjnj75I0fNPbdHl2+nTf6C8xM7Nm1cgZ//uBH0j6FUkv/pcC/01SJ3BjlsWZmdnka6RXz3cknQycShL8P6v6QPdTGdZmZmYZaPTWi68EutP9z5BERIz3hutmZlagRi7n/DJwEsl9dw+kqwMYd/BLeh/wp+lxHiK5gXtLXxbaKHfYnDj/DK0MsnyfN3LG3wOcFpP0TS9JxwHL0mP+VtJq4DLghsk4fjNzh82J88/QyiDr93kjV/VsAOZNeKRDtQFHSmoDjgKenuTjN6XNO/cO/0VC0mRt+ep1bN65t+DKWod/hlYGWb/PGwn+2cDDkv5N0u1Dj/EOGBFPAZ8kuavXVmBXRNw1cj9JSyX1Surt6+sb73BNpV6HTWuMf4ZWBlm/zxuZ6vnopIyUknQscAnJZaG/Ab4m6YqI+Er1fhGxElgJSa+eyayhKEMdNkf21HeHzcb5Z2hlkPX7fMwz/oj43miPCYx5AfBYRPRFxABwC/C6CRyvZbjD5sT5Z2hlkPX7vN4duH4QEWdL2sOhTdoERETMHNeA0n8GVgGvAn5L8qFub0T8n1qvybI7Z97cYXPi/DO0MpiM93mt7pyFtGWWdB3wh8B+4CfAn0bE87X2n0rBb2aWl3G3ZU5ffAQwt3r/iHhivMVExLXAteN9vZmZjV8jX+B6L0lIbweGPmkI4IwM6zIzs4w0csZ/FXBKROzMuhgzM8teI9fxP0lyxy0zM5sCap7xS1qeLm4C7pP0bWD4A9iIWJFxbWZmloF6Uz0z0j+fSB/T0ge88B68NonchMzMslQz+CPiOgBJ74iIr1Vvk/SOrAsrKzchM7OsNTLHf02D62wSuAmZmWWt3hz/W4ALgeMkfaZq00ySL15ZBuo1Z1rQNb2gqsxsKqk3x/800AtcDKytWr8HeF+WRZWZm5CZWdZqTvVExE8j4kbgd4GbScJ/LXBHRPw6p/pKx03IzCxrjXyB63Ukt1ncTNKg7QRJV0bEmiwLK6tKRSxeOI9Tl53jJmRmlolGgn8F8OaI+DmApJeR/A/glVkWVmaViljQNd1z+maWiUau6mkfCn2AiPgF0J5dSWZmlqVGzvh7JX0B+HL6/I849MNeMzNrIY0E/7uB9wDLSOb41wCfy7IoMzPLzpjBn94gZUX6MDOzFlfvC1wPUacnT0S4H7+ZWQuqd8Z/UVaDSjoGuB44neQfl3dGxA+zGs/MzA6qF/ztwNyI+PfqlZLOIflW70R8GrgzIt4uaRpw1ASPZ2ZmDap3OeenSNozjPTbdNu4SJoJnAt8ASAi9kXEb8Z7PDMzOzz1gr87ItaPXBkRvUD3BMZcAPQBX5T0E0nXS3pBPwJJSyX1Surt6+ubwHBmZlatXvDX6wp25ATGbANeAfxjRJwF7AU+NHKniFgZET0R0dPV1TWB4czMrFq94H9A0p+NXCnpXUzsC1xbgC0RcX/6/Osk/xCYmVkO6n24ezVwq6Tqb+r2kNx+8W3jHTAitkl6UtIpaSuI84GHx3s8MzM7PPVuvbgdeJ2kN5Jcdgnw7Yj47iSM+17gpvSKnk3An0zCMc3MrAGNfHP3XuDeyRw0ItaR/O/BzMxy1kh3TjMzm0Ic/GZmJePgNzMrGQe/mVnJNNKP3ybJ/v2DbNy6i627+pl/9JEsnD+Ttjb/22tm+XLw52T//kFu++lTfOS2DfQPDNLRXuFvLj2dS888zuFvZrly4uRk49Zdw6EP0D8wyEdu28DGrbsKrszMysbBn5Otu/qHQ39I/8Ag23b1F1SRmZWVgz8n848+ko72Q3/cHe0V5h1drxeemdnkc/DnZOH8mfzNpacPh//QHP/C+UcXXJmZlY0/3M1JW1uFS888jpPnTGfbrn7mHd3BwvlH+4NdM8udgz9HbW0VzjzhWM48oehKzKzMfLppZlYyDn4zs5Jx8JuZlYyD38ysZBz8ZmYlU9hVPZKOAHqBpyLioqLqaCaDg8HmnXvZvrufuTM76J7VSaWiossyayn+PRpbkZdzXgU8AswssIamMTgY3LlxG8tXrxtu4rZiySIWL5znN61Zg/x71JhCpnokHQ/8PnB9EeM3o8079w6/WSHp47N89To279xbcGVmrcO/R40pao7/U8AHgMFaO0haKqlXUm9fX19uhRVl++7Rm7jt2OMmbmaN8u9RY3IPfkkXATsiYm29/SJiZUT0RERPV1dXTtUVZ+7MjlGbuM2Z4SZuZo3y71Fjijjjfz1wsaTNwFeBN0n6SgF1NJXuWZ2sWLLokCZuK5YsontWZ8GVmbUO/x41RhFR3ODSecBfjHVVT09PT/T29uZSU5GGrkbYsaefOTN8NYLZePj36CBJayOiZ+R6N2lrIpWKWNA1nQVd04suxaxl+fdobIUGf0TcB9xXZA1mZmXjb+6amZWMg9/MrGQc/GZmJePgNzMrGQe/mVnJ+HLOHO3bd4D1T+9i2+5+Zk2fxrFHtfG7s2eOecN1dxs0s8nk4M/Jvn0HuG390/yvb24Y7hp47VsX8vjO33L+KXNrhr+7DZrZZPNUT07WP71rOPQhaRx13R0bGdgfbNy6q+br3G3QzCabgz8n22p0Ddy7bz/bdtXuHOhug2Y22Rz8OZlfo2tg57Q25h1du3Oguw2a2WRz8OfkP73kaP7qktMP6Rp47VsX0t4mFs4/uubr3G3QzCabP9zNybRpR3DpGS9hwezO5KqezvSqnq76V/VUKmLxwnmcuuwcdxs0s0nh4M/RtGlH0NP94sN+nbsNmtlk8lSPmVnJOPjNzErGwW9mVjIOfjOzknHwm5mVTO5X9Ug6AfgSMA8YBFZGxKcne5yiGpvVG7d621HT2th34ACzOl/kyzPNLFdFXM65H3h/RDwoaQawVtLdEfHwZA1QVGOzeuMCL9i27E0n8y+9T/DBxS930zUzy03uUz0RsTUiHkyX9wCPAMdN5hhFNTarN+5o2z7z3V9y0RnHuemameWq0Dl+Sd3AWcD9o2xbKqlXUm9fX99hHbeoxmb1xq21TXLTNTPLV2HBL2k68A3g6ojYPXJ7RKyMiJ6I6Onq6jqsYxfV2KzeuLW2Rbjpmpnlq5Dgl9ROEvo3RcQtk338ohqb1Rt3tG3L3nQy31r/lJuumVmuFBH5DigJuBF4NiKubuQ1PT090dvbe1jjDF1Bk3djs3rjHnpVzxEMHBjkxb6qx8wyImltRPS8YH0BwX828H3gIZLLOQH+R0R8p9ZrxhP8ZmZlVyv4c7+cMyJ+APj01sysIP7mrplZyTj4zcxKxsFvZlYyDn4zs5LxrRfHUFSzNzOzrDj46yiq2ZuZWZY81VNHUc3ezMyy5OCvo6hmb2ZmWXLw11FUszczsyw5+OsoqtmbmVmW/OFuHZWKWLxwHqcuOyf3Zm9mZllx8I+hUhELuqazoGt60aWYmU0KT/WYmZWMg9/MrGQc/GZmJePgNzMrGQe/mVnJ5H7rxfGQ1Ac8PsZus4FncihnMrRSrdBa9brW7LRSva418TsR0TVyZUsEfyMk9Y52b8lm1Eq1QmvV61qz00r1utb6PNVjZlYyDn4zs5KZSsG/sugCDkMr1QqtVa9rzU4r1eta65gyc/xmZtaYqXTGb2ZmDXDwm5mVTMsHv6RPSPqZpPWSbpV0TNW2ayQ9Kunnkv5LgWUOk7Q4redRSR8qup5qkk6QdK+kRyRtlHRVuv7Fku6W9Mv0z2OLrnWIpCMk/UTSt9LnzVzrMZK+nr5fH5H02matV9L70vfABkk3S+pollolrZK0Q9KGqnU1ays6B2rUW2hutXzwA3cDp0fEGcAvgGsAJJ0GXAYsBBYDn5N0RGFVJjUdAfwD8BbgNODytM5msR94f0S8HHgN8J60vg8B90TEycA96fNmcRXwSNXzZq7108CdEXEqcCZJ3U1Xr6TjgGVAT0ScDhxB8rvULLXeQPI7XW3U2pokB27ghfUWmlstH/wRcVdE7E+f/gg4Pl2+BPhqRDwfEY8BjwKvLqLGKq8GHo2ITRGxD/gqSZ1NISK2RsSD6fIekmA6jqTGG9PdbgQuLaTAESQdD/w+cH3V6matdSZwLvAFgIjYFxG/oUnrJblXx5GS2oCjgKdpklojYg3w7IjVtWorPAdGq7fo3Gr54B/hncC/psvHAU9WbduSritSM9Y0KkndwFnA/cDciNgKyT8OwJwCS6v2KeADwGDVumatdQHQB3wxnZq6XlInTVhvRDwFfBJ4AtgK7IqIu2jCWqvUqq0Vfudyz62WCH5J/y+daxz5uKRqnw+TTFXcNLRqlEMVfe1qM9b0ApKmA98Aro6I3UXXMxpJFwE7ImJt0bU0qA14BfCPEXEWsJcmmNYZTTo/fgnwUuAlQKekK4qtatya+neuqNxqiVsvRsQF9bZLuhK4CDg/Dn4xYQtwQtVux5P8d7VIzVjTISS1k4T+TRFxS7p6u6T5EbFV0nxgR3EVDns9cLGkC4EOYKakr9CctULyd78lIu5Pn3+dJPibsd4LgMciog9A0i3A62jOWofUqq1pf+eKzK2WOOOvR9Ji4IPAxRHxH1Wbbgcuk/QiSS8FTgZ+XESNVR4ATpb0UknTSD7Eub3gmoZJEskc9CMRsaJq0+3AlenylcA3865tpIi4JiKOj4hukp/jdyPiCpqwVoCI2AY8KemUdNX5wMM0Z71PAK+RdFT6njif5POeZqx1SK3amjEHis+tiGjpB8mHH08C69LHP1Vt+zDwK+DnwFuKrjWt6UKST/F/BXy46HpG1HY2yX8r11f9PC8EZpFcKfHL9M8XF13riLrPA76VLjdtrcAioDf9+d4GHNus9QLXAT8DNgBfBl7ULLUCN5N89jBAcob8rnq1FZ0DNeotNLfcssHMrGRafqrHzMwOj4PfzKxkHPxmZiXj4DczKxkHv5lZyTj4zXIiqUfSZ8bxuu9Ud280myhfzmmlIaktDjbGMistn/FbU5J0haQfS1on6Z+HWtNKek7SxyT9VNKPJM1N13dJ+oakB9LH69P1H5W0UtJdwJfS/e6W9GB63MclzZb010rvP5C+7mOSlh1mXX8raW3aW+rVku6TtEnSxek+5+ngfQPekB5jXdq0bYak+ZLWpOs2SDon3XezpNnp8vKqXlVXp+u6lfT3/7ySHvp3SToy3bZM0sNK+r5/Nau/L2sxRX9D0A8/Rj6AlwN3AO3p888Bf5wuB/DWdPnvgI+ky/8XODtdPpGk7QTAR4G1wJHp888C16TLi9PjzQa6gQfT9RWSb07OOsy63pIu3wrcBbST9N1fl64/j4PfML4DeH26PJ2kb9b7Sb/NTdIDf0a6vDmt8ZXAQ0Bn+pqNJB1Uu0kafS1K918NXJEuPw28KF0+pui/Wz+a49ESTdqsdM4nCbkHklYxHMnBplv7gG+ly2uB30uXLwBOS/eHpGnbjHT59oj4bbp8NvA2gIi4U9Kv0+XNknZKOguYC/wkInYeZl13pssPAc9HxICkh0iCeaR/B1ZIugm4JSK2SHoAWJU2yrstItaNeM3ZwK0RsReGm6edQ9Lf5bGq/ddWjbkeuEnSbSRtIswc/NaUBNwYEdeMsm0gIoY+mDrAwfdwBXhtVcAnB0oCeu+IY9dyPfBfgXnAqgnUNQg8DxARg0puZnKIiPi4pG+T9EL6kaQLImKNpHNJbi7zZUmfiIgvNVj781XLB0j+USI91rnAxcD/lLQw/DlH6XmO35rRPcDbJc2B4fup/s4Yr7kL+O9DTyQtqrHfD4Al6T5vJmmUNuRWkumfVwH/Nkl1jUrSSRHxUET8LUnjtlPTY+2IiM+TdEl9xYiXrQEuTbtmdpL8z+X7dcaoACdExL0kN6w5hmSKyErOZ/zWdCLiYUkfAe5Kw2sAeA/weJ2XLQP+QdJ6kvf1GuDPR9nvOuBmSX8IfI+ka+KedNx9ku4FfhMRByaprlqulvRGkrPzh0nuwHQZ8JeSBoDngD8eMf6Dkm7gYJve6yPiJ0ruljaaI4CvSDqa5H8Lfx/J7R6t5Hw5p5WKpBcBByJiv6TXktwRa1G6rQI8CLwjIn5ZYJlmmfIZv5XNicDqNOT3AX8GIOk0kg+Nb3Xo21TnM34zs5Lxh7tmZiXj4DczKxkHv5lZyTj4zcxKxsFvZlYy/x/tJ2cBrW+5twAAAABJRU5ErkJggg==\n",
=======
      "image/png": "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\n",
>>>>>>> 43a13bf2546af412be6dab0aa34190b2a1fd0e8b
>>>>>>> Stashed changes
      "text/plain": [
       "<Figure size 432x288 with 1 Axes>"
      ]
     },
     "metadata": {
      "needs_background": "light"
     },
     "output_type": "display_data"
    },
    {
     "data": {
<<<<<<< Updated upstream
      "image/png": "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\n",
=======
<<<<<<< HEAD
      "image/png": "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\n",
=======
      "image/png": "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\n",
>>>>>>> 43a13bf2546af412be6dab0aa34190b2a1fd0e8b
>>>>>>> Stashed changes
      "text/plain": [
       "<Figure size 432x288 with 1 Axes>"
      ]
     },
     "metadata": {
      "needs_background": "light"
     },
     "output_type": "display_data"
    },
    {
     "data": {
<<<<<<< Updated upstream
      "image/png": "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\n",
=======
<<<<<<< HEAD
      "image/png": "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\n",
=======
      "image/png": "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\n",
>>>>>>> 43a13bf2546af412be6dab0aa34190b2a1fd0e8b
>>>>>>> Stashed changes
      "text/plain": [
       "<Figure size 432x288 with 1 Axes>"
      ]
     },
     "metadata": {
      "needs_background": "light"
     },
     "output_type": "display_data"
    },
    {
     "data": {
<<<<<<< Updated upstream
      "image/png": "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\n",
=======
<<<<<<< HEAD
      "image/png": "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\n",
=======
      "image/png": "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\n",
>>>>>>> 43a13bf2546af412be6dab0aa34190b2a1fd0e8b
>>>>>>> Stashed changes
      "text/plain": [
       "<Figure size 432x288 with 1 Axes>"
      ]
     },
     "metadata": {
      "needs_background": "light"
     },
     "output_type": "display_data"
    }
   ],
   "source": [
    "for i in list:\n",
    "    first_scatter = sns.scatterplot(x=analysis_two_all[i], y=analysis_two_all['Clothing'])\n",
    "    first_scatter.set_xlabel(i + ' emissions')\n",
    "    first_scatter.set_ylabel('Clothing Index')\n",
    "    plt.show()"
   ]
  },
  {
   "cell_type": "code",
<<<<<<< Updated upstream
   "execution_count": 31,
=======
<<<<<<< HEAD
   "execution_count": 52,
=======
   "execution_count": 31,
>>>>>>> 43a13bf2546af412be6dab0aa34190b2a1fd0e8b
>>>>>>> Stashed changes
   "metadata": {},
   "outputs": [
    {
     "data": {
<<<<<<< Updated upstream
      "image/png": "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\n",
=======
<<<<<<< HEAD
      "image/png": "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\n",
=======
      "image/png": "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\n",
>>>>>>> 43a13bf2546af412be6dab0aa34190b2a1fd0e8b
>>>>>>> Stashed changes
      "text/plain": [
       "<Figure size 432x288 with 1 Axes>"
      ]
     },
     "metadata": {
      "needs_background": "light"
     },
     "output_type": "display_data"
    },
    {
     "data": {
<<<<<<< Updated upstream
      "image/png": "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\n",
=======
<<<<<<< HEAD
      "image/png": "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\n",
=======
      "image/png": "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\n",
>>>>>>> 43a13bf2546af412be6dab0aa34190b2a1fd0e8b
>>>>>>> Stashed changes
      "text/plain": [
       "<Figure size 432x288 with 1 Axes>"
      ]
     },
     "metadata": {
      "needs_background": "light"
     },
     "output_type": "display_data"
    },
    {
     "data": {
<<<<<<< Updated upstream
      "image/png": "iVBORw0KGgoAAAANSUhEUgAAAXkAAAEGCAYAAACAd+UpAAAAOXRFWHRTb2Z0d2FyZQBNYXRwbG90bGliIHZlcnNpb24zLjMuMiwgaHR0cHM6Ly9tYXRwbG90bGliLm9yZy8vihELAAAACXBIWXMAAAsTAAALEwEAmpwYAAASqklEQVR4nO3dfZBdd33f8fdHtoUk4+hxYymYdo0mQwppbMyKIpwyxOQJksEweYIG8jAkDgkkmElDnGamNP2nTTpDAxPIjAeSkikJU1ygLoYUF+IYijFaG8sECwImMnYs2YslLwZZCFvf/nGvFFnW7p6V9uzd+9P7NXNH957H7++eq4+Ofvfc30lVIUlq06pRFyBJ6o8hL0kNM+QlqWGGvCQ1zJCXpIadO+oCTrRly5aanJwcdRmSNDZuu+22r1fVxFzzV1TIT05OMj09PeoyJGlsJLlnvvl210hSwwx5SWqYIS9JDTPkJalhhrwkNay3kE/yzCR3nPD4RpKr+9qfpHZVFfsefpS77p9l38OP4sCK3fV2CWVVfQm4FCDJOcA/Ah/sa3+S2lRV3HL3Q+zae4CjBasCOyY3sXP7ZpKMurwVb7m6a14M3F1V817PKUkn2z97+HjAAxwt2LX3APtnD4+2sDGxXCH/SuCvTjUjyVVJppNMz8zMLFM5ksbFwUNHjgf8MUdrMF0L6z3kk6wGXga8/1Tzq+raqpqqqqmJiTl/mSvpLLVx3WpWndQrsyqD6VrYcpzJvwS4vaoeWIZ9SWrM1vVr2DG56XjQH+uT37p+zWgLGxPLMXbNq5ijq0aSFpKEnds3c/GW8zl46Agb161m6/o1funaUa8hn2Qd8CPAr/W5H0ltS8K2DWvZtmHtqEsZO72GfFUdAjb3uQ9J0tz8xaskNcyQl6SGGfKS1DBDXpIaZshLUsMMeUlqmCEvSQ0z5CWpYYa8JDXMkJekhhnyktQwQ16SGmbIS1LDDHlJapghL0kNM+QlqWGGvCQ1zJCXpIYZ8pLUMENekhpmyEtSwwx5SWqYIS9JDTPkJalhhrwkNcyQl6SGGfKS1DBDXpIaZshLUsMMeUlqmCEvSQ3rNeSTbEhyXZIvJtmTZGef+5MkPdG5PW//bcBfV9VPJ1kNrOt5f5KkE/QW8km+C3gh8EsAVXUEONLX/iRJT9Znd80zgBngz5N8Lsm7kpx/8kJJrkoynWR6Zmamx3Ik6ezTZ8ifC1wG/GlVPQf4FnDNyQtV1bVVNVVVUxMTEz2WI0lnnz5D/j7gvqq6dfj6OgahL0laJr2FfFXtB+5N8szhpBcDd/W1P0nSk/V9dc1vAu8dXlnzVeCXe96fJOkEvYZ8Vd0BTPW5D0nS3PzFqyQ1zJCXpIYZ8pLUMENekhpmyEtSwwx5SWqYIS9JDTPkJalhhrwkNcyQl6SGGfKS1DBDXpIaZshLUsMMeUlqmCEvSQ0z5CWpYYa8JDXMkJekhhnyktQwQ16SGmbIS1LDDHlJapghL0kNM+QlqWGGvCQ1zJCXpIYZ8pLUMENekhpmyEtSwwx5SWrYuX1uPMle4BHgceCxqprqc3/S2aaq2D97mIOHjrBx3Wq2rl9DklGXpRWkU8gnuRy4o6q+leTVwGXA26rqng6r/1BVff1MipT0ZFXFLXc/xK69BzhasCqwY3ITO7dvNuh1XNfumj8FDiW5BHgzcA/wF71VJWlB+2cPHw94gKMFu/YeYP/s4dEWphWla8g/VlUFXMngDP5twAUd1ivgY0luS3LVqRZIclWS6STTMzMzHcuRdPDQkeMBf8zRGkyXjuka8o8k+T3g1cANSc4Bzuuw3uVVdRnwEuD1SV548gJVdW1VTVXV1MTEROfCpbPdxnWrWXVSr8yqDKZLx3QN+Z8Dvg28tqr2A08D/stCK1XV/cM/HwQ+CDzvNOuUdJKt69ewY3LT8aA/1ie/df2a0RamFaXr1TVvqqrfPfaiqr6W5NnzrZDkfGBVVT0yfP6jwH88/VIlnSgJO7dv5uIt53t1jebU9Uz+R04x7SULrHMh8Kkku4HPAjdU1V8vpjhJ80vCtg1redb3rGfbhrUGvJ5k3jP5JL8O/AbwjCR3njDrAuDT861bVV8FLjnjCiVJp22h7pq/BD4K/CfgmhOmP1JVB3qrSpK0JOYN+aqaBWaBVw2vqLlwuM5Tkzy1qr62DDVKkk5T11+8vgH4D8ADwNHh5AJ+oJ+yJElLoevVNVcDz6yqh3qsRZK0xLpeXXMvg24bSdIY6Xom/1XgpiQ3MPhRFABV9dZeqpIkLYmuIf+14WP18CFJGgOdQr6q/gAGv2Ktqm/1W5Ikaal06pNPsjPJXcCe4etLkryz18okSWes6xevfwz8GPAQQFXtBp40oqQkaWXpfI/Xqrr3pEmPL3EtkqQl1vWL13uTvACoJKuB32LYdSNJWrm6nsm/Dng9g3Hk7wMuHb6WJK1gXa+u+Trw8z3XIklaYl3HrrkY+E1g8sR1qupl/ZQlSVoKXfvkPwS8G/jf/NMAZZKkFa5ryB+uqrf3Wokkacl1Dfm3JXkL8DGeOHbN7b1UJUlaEl1D/l8CrwGu4InjyV/RR1GSpKXRNeRfATyjqo70WYwkaWl1vU5+N7ChxzokST3oeiZ/IfDFJLt4Yp+8l1BK0grWNeTf0msVkqReLBjySVYB76iq71+GeiRJS2jBPvmqOgrsTvLPlqEeSdIS6tpdsw34QpLPAsfvDGWfvCStbF1D/g96rUKS1Iuuo1D+bd+FSJKWXtd7vD4/ya4k30xyJMnjSb7Rd3GSpDPT9cdQfwK8CvgysBb4leE0SdIK1rVPnqr6SpJzqupx4M+TfLrHuiRJS6BryB8a3tt1d5I/AvYB53dZMck5wDTwj1X1k6dXpiTpdHTtrnnNcNnXM7iE8iLgpzqu+0a86bckjcS8IZ/kyiSvr6p7quowcCPwSwxGpbx0oY0nuQj4CeBdZ16qJGmxFjqTfzNw/QmvnwI8F3gR8Osdtv/Hw23MecvAJFclmU4yPTMz02GTkqSuFgr51VV17wmvP1VVB6rqayzQJ5/kJ4EHq+q2+ZarqmuraqqqpiYmJrpVLUnqZKGQ33jii6p6wwkvF0rky4GXJdkLvA+4Isl/X3SFkqTTtlDI35rkV0+emOTXgM/Ot2JV/V5VXVRVk8ArgU9U1atPu1JJ0qItdAnlm4APJfk3wLGbdj+XQd/8y3usS5K0BOYN+ap6EHhBkiuAZw8n31BVn1jMTqrqJuCm0ylQknT6ug5Q9glgUcEuSRq9rj+GkiSNIUNekhpmyEtSwwx5SWqYIS9JDTPkJalhhrwkNcyQl6SGGfKS1DBDXpIaZshLUsMMeUlqmCEvSQ0z5CWpYYa8JDXMkJekhhnyktQwQ16SGmbIS1LDDHlJapghL0kNM+QlqWGGvCQ1zJCXpIYZ8pLUMENekhpmyEtSwwx5SWqYIS9JDTu3rw0nWQPcDDxluJ/rquotS72fqmL/7GEOHjrCxnWr2bp+DUmWejeSNJZ6C3ng28AVVfXNJOcBn0ry0ar6zFLtoKq45e6H2LX3AEcLVgV2TG5i5/bNBr0k0WN3TQ18c/jyvOGjlnIf+2cPHw94gKMFu/YeYP/s4aXcjSSNrV775JOck+QO4EHgxqq69RTLXJVkOsn0zMzMorZ/8NCR4wF/zNEaTJck9RzyVfV4VV0KXAQ8L8n3n2KZa6tqqqqmJiYmFrX9jetWs+qkXplVGUyXJC3T1TVV9TBwE/DjS7ndrevXsGNy0/GgP9Ynv3X9mqXcjSSNrT6vrpkAvlNVDydZC/ww8IdLvA92bt/MxVvO9+oaSTqFPq+u2Qa8J8k5DP7H8D+q6sNLvZMkbNuwlm0b1i71piVp7PUW8lV1J/CcvrYvSVqYv3iVpIYZ8pLUMENekhpmyEtSwwx5SWqYIS9JDTPkJalhhrwkNcyQl6SGGfKS1DBDXpIaZshLUsMMeUlqmCEvSQ0z5CWpYYa8JDXMkJekhhnyktQwQ16SGmbIS1LDDHlJapghL0kNM+QlqWGGvCQ1zJCXpIYZ8pLUMENekhpmyEtSwwx5SWqYIS9JDTPkJalhvYV8kqcn+Zske5J8Ickb+9qX2lBV7Hv4Ue66f5Z9Dz9KVY26JKlXy/GZP3fJt/hPHgN+u6puT3IBcFuSG6vqrh73qTFVVdxy90Ps2nuAowWrAjsmN7Fz+2aSjLo8ackt12e+tzP5qtpXVbcPnz8C7AGe1tf+NN72zx4+/mEHOFqwa+8B9s8eHm1hUk+W6zO/LH3ySSaB5wC3nmLeVUmmk0zPzMwsRzlagQ4eOnL8w37M0RpMl1q0XJ/53kM+yVOB/wlcXVXfOHl+VV1bVVNVNTUxMdF3OVqhNq5bzaqT/oe6KoPpUouW6zPfa8gnOY9BwL+3qj7Q57403rauX8OOyU3HP/TH+ie3rl8z2sKknizXZ763L14z+Obg3cCeqnprX/tRG5Kwc/tmLt5yPgcPHWHjutVsXb/GL13VrOX6zPd5dc3lwGuAzye5Yzjt31XVR3rcp8ZYErZtWMu2DWtHXYq0LJbjM99byFfVpwBPwyRphPzFqyQ1zJCXpIYZ8pLUMENekhqWlTQIVJIZ4J45Zm8Bvr6M5SyXFtvVYpugzXbZpvExV7v+eVXN+UvSFRXy80kyXVVTo65jqbXYrhbbBG22yzaNj9Ntl901ktQwQ16SGjZOIX/tqAvoSYvtarFN0Ga7bNP4OK12jU2fvCRp8cbpTF6StEiGvCQ1bMWGfJKfGd4A/GiSOS8bSvLjSb6U5CtJrlnOGk9Hkk1Jbkzy5eGfG+dYbm+Szye5I8n0ctfZxULvfQbePpx/Z5LLRlHnYnRo04uSzA6Pyx1J/v0o6lyMJH+W5MEkfzfH/HE8Tgu1aRyP09OT/E2SPcPse+Mplln8saqqFfkA/gXwTOAmYGqOZc4B7gaeAawGdgPPGnXtC7Trj4Brhs+vAf5wjuX2AltGXe887VjwvQdeCnyUwWikzwduHXXdS9CmFwEfHnWti2zXC4HLgL+bY/5YHaeObRrH47QNuGz4/ALg75fi79SKPZOvqj1V9aUFFnse8JWq+mpVHQHeB1zZf3Vn5ErgPcPn7wFePrpSzkiX9/5K4C9q4DPAhiTblrvQRRjHz9OCqupm4MA8i4zbcerSprFTVfuq6vbh80eAPcDTTlps0cdqxYZ8R08D7j3h9X08+U1ZaS6sqn0wOKjAd8+xXAEfS3JbkquWrbruurz343Z8uta7M8nuJB9N8uzlKa1X43acuhrb45RkEngOcOtJsxZ9rPq8M9SCkvxfYOspZv1+Vf2vLps4xbSRXxM6X7sWsZnLq+r+JN8N3Jjki8Ozl5Wiy3u/Io/PPLrUezuDsUK+meSlwIeA7+27sJ6N23HqYmyPU5KnMrg39tVV9Y2TZ59ilXmP1UhDvqp++Aw3cR/w9BNeXwTcf4bbPGPztSvJA0m2VdW+4X+zHpxjG/cP/3wwyQcZdCWspJDv8t6vyOMzjwXrPfEvXVV9JMk7k2ypqnEeEGvcjtOCxvU4JTmPQcC/t6o+cIpFFn2sxr27ZhfwvUkuTrIaeCVw/YhrWsj1wC8On/8i8KT/sSQ5P8kFx54DPwqc8iqCEery3l8P/MLwioDnA7PHuqpWqAXblGRrMrjTcpLnMfg79NCyV7q0xu04LWgcj9Ow3ncDe6rqrXMstvhjNepvlOf5pvkVDP7V+jbwAPB/htO/B/jISd82/z2DqyJ+f9R1d2jXZuDjwJeHf246uV0Mru7YPXx8YaW261TvPfA64HXD5wHeMZz/eea4SmolPTq06Q3DY7Ib+AzwglHX3KFNfwXsA74z/Dv12gaO00JtGsfj9IMMul7uBO4YPl56psfKYQ0kqWHj3l0jSZqHIS9JDTPkJalhhrwkNcyQl6SGGfLSaUry8iTPGnUd0nwMeen0vRww5LWieZ28zipJ3gwcrqq3J/mvwCVVdUWSFwO/DDwC7ADWAtdV1VuG6/1n4GXAY8DHgA8AHwZmh4+fGu7iHcAEcAj41ar64rI1TjqFkY5dI43AzcBvA28HpoCnDMcL+UHgk8D7q+pAknOAjyf5AQa/qHwF8H1VVUk2VNXDSa5nMGb5dQBJPs7gl4lfTvKvgHcCVyx7C6UTGPI629wGPHc4NtC3GYxWOAX8a+C3gJ8dDu18LoObODwLuAs4DLwryQ0MzuCfYDhy4AuA9w+HTAF4Sr9NkRZmyOusUlXfSbKXQdfMpxmME/JDwHbgUeDfAjuq6mCS/wasqarHhoNcvZjBoGVv4Mln6KuAh6vq0uVoh9SVX7zqbHQzgzC/mUEXzesYDAb1XcC3gNkkFwIvgeNn6eur6iPA1cClw+08wuA2bdRgaNt/SPIzw3WS5JLlaY40N0NeZ6NPMuiKuaWqHmDQFfPJqtoNfI7B6IV/Bvy/4fIXAB9Ocifwt8CbhtPfB/xOks8l2Q78PPDaJMdGDx37Wwdq/Hl1jSQ1zDN5SWqYIS9JDTPkJalhhrwkNcyQl6SGGfKS1DBDXpIa9v8Bq76ym2ohprsAAAAASUVORK5CYII=\n",
=======
<<<<<<< HEAD
      "image/png": "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\n",
=======
      "image/png": "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\n",
>>>>>>> 43a13bf2546af412be6dab0aa34190b2a1fd0e8b
>>>>>>> Stashed changes
      "text/plain": [
       "<Figure size 432x288 with 1 Axes>"
      ]
     },
     "metadata": {
      "needs_background": "light"
     },
     "output_type": "display_data"
    },
    {
     "data": {
<<<<<<< Updated upstream
      "image/png": "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\n",
=======
<<<<<<< HEAD
      "image/png": "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\n",
=======
      "image/png": "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\n",
>>>>>>> 43a13bf2546af412be6dab0aa34190b2a1fd0e8b
>>>>>>> Stashed changes
      "text/plain": [
       "<Figure size 432x288 with 1 Axes>"
      ]
     },
     "metadata": {
      "needs_background": "light"
     },
     "output_type": "display_data"
    },
    {
     "data": {
<<<<<<< Updated upstream
      "image/png": "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\n",
=======
<<<<<<< HEAD
      "image/png": "iVBORw0KGgoAAAANSUhEUgAAAXgAAAEGCAYAAABvtY4XAAAAOXRFWHRTb2Z0d2FyZQBNYXRwbG90bGliIHZlcnNpb24zLjMuMiwgaHR0cHM6Ly9tYXRwbG90bGliLm9yZy8vihELAAAACXBIWXMAAAsTAAALEwEAmpwYAAAXMklEQVR4nO3deZRcZZ3G8e9ToWNLJxFNOgmi2MZR0LgEbBdkcBC3yDigR4kiKjpKxFERo0dBPW5nHA/qZMQZ9Rh3x+1Exm1ENhdUBKJN7LAYNzKtICHdxCNZtCFQv/nj3m4rTS83VXVreX0+59TJvVW37vvrN9VPbt66972KCMzMLD2VdhdgZmblcMCbmSXKAW9mligHvJlZohzwZmaJOqjdBdRasmRJDAwMtLsMM7Oucc0119wWEf3TvdZRAT8wMMDQ0FC7yzAz6xqSfjfTax6iMTNLlAPezCxRDngzs0Q54M3MEuWANzNLVGkBL+kIScM1j12Szi6rPWtMtRpsG9vDVTfexraxPVSrnoTOrNuVdppkRPwKWAUgaR7wB+DrZbVn9atWg4tvuJV1G4cZ31elt6fC+jWrWL1yOZWK2l2emdWpVUM0TwVujIgZz9e09hnZuXcy3AHG91VZt3GYkZ1721yZmTWiVQH/QuDL070gaa2kIUlDY2NjLSrHau3YNT4Z7hPG91UZ3T3eporMrBlKD3hJ84GTgK9O93pEbIiIwYgY7O+f9mpbK9myRb309uz/UejtqbB0YW+bKjKzZmjFEfyzgM0RsaMFbVkdBhb3sX7NqsmQnxiDH1jc1+bKzKwRrZiL5lRmGJ6xzlCpiNUrl3PkWccxunucpQt7GVjc5y9YzbpcqQEv6WDg6cCrymzHGlepiBX9C1jRv6DdpZhZk5Qa8BHxZ2BxmW2Ymdn0fCWrmVmiHPBmZolywJuZJcoBb2aWKAe8mVmiHPBmZolywJuZJcoBb2aWKAe8mVmiHPBmZolywJuZJcoBb2aWKAe8mVmiHPBmZolywJuZJcoBb2aWKAe8mVmiHPBmZolywJuZJcoBb2aWKAe8mVmiHPBmZolywJuZJcoBb2aWKAe8mVmiHPBmZolywJuZJcoBb2aWKAe8mVmiHPBmZolywJuZJarUgJd0iKQLJP1S0lZJx5TZnpmZ/dVBJe//fODiiHi+pPnAwSW3Z2ZmudICXtIi4MnAywAi4k7gzrLaMzOz/ZU5RLMCGAM+I+nnkj4pqW/qRpLWShqSNDQ2NlZiOWZmf1vKDPiDgKOBj0XEUcBe4JypG0XEhogYjIjB/v7+EssxM/vbUmbA3wzcHBGb8vULyALfzMxaoLSAj4hbgZskHZE/9VTgF2W1Z2Zm+yv7LJrXAV/Mz6DZBry85PbMzCxXasBHxDAwWGYbZmY2PV/JamaWKAe8mVmiHPBmZolywJuZJcoBb2aWKAe8mVmiHPBmZolywJuZJcoBb2aWKAe8mVmiHPBmZolywJuZJcoBb2aWKAe8mVmiHPBmZomaM+AlLZ3muSOm29bMzDpHkSP4H0taM7Ei6Y3A18sryczMmqHIHZ2OBzZIOgVYBmwFHl9mUWZm1rg5j+AjYjtwMXAMMAB8PiL2lFyXmZk1aM4jeEmXAduBRwIPAD4t6UcR8aayizMzs/oVGYP/SES8NCL+FBHXkx3J315yXWZm1qAiQzTfkPT3kl6eP3Vf4AvllmVmZo0qcprkO4G3AOfmT83HAW9m1vGKDNE8FzgJ2AsQEbcAC8ssyszMGlck4O+MiAACQFJfuSWZmVkzFAn4jZI+Dhwi6Qzgu8Anyi3LzMwaNedpkhHxQUlPB3YBRwDviIjLSq/MzMwaUuRKVvJAd6ibmXWRGQNe0m7ycffpRMSiUioyM7OmmDHgI2IhgKT3ALcC/w0IOA2fRWNm1vGKDNE8MyKeULP+MUmbgPfP9UZJI8Bu4G7grogYrKtKMytNtRqM7NzLjl3jLFvUy8DiPioVtbssa4IiAX+3pNOAr5AN2ZxKFthFPSUibqunODMrV7UaXHzDrazbOMz4viq9PRXWr1nF6pXLHfIJKHKa5IuANcCO/HFK/pyZdbmRnXsnwx1gfF+VdRuHGdm5t82VWTMUOU1yBDi5zv0HcKmkAD4eERumbiBpLbAW4PDDD6+zGTOrx45d45PhPmF8X5XR3eOs6F/QpqqsWYpMF9wPnEE2F/zk9hHxzwX2f2xE3JLf9u8ySb+MiB/VbpCH/gaAwcHBGc/aMbPmW7aol96eyn4h39tTYenC3jZWZc1SZIjmm8B9yK5gvbDmMad83hoiYpTsNn++E5RZBxlY3Mf6Navo7cmiYGIMfmCxZyRJQZEvWQ+OiLcc6I7zOWsqEbE7X34G8J4D3Y+ZladSEatXLufIs45jdPc4Sxf6LJqUFAn4b0s6MSK+c4D7XgZ8XdJEO1+KiIsPtEAzK1elIlb0L/CYe4KKBPzrgbdKugPYR3axU8x1JWtEbAMe03iJZmZWjyJn0fiqVTOzLjTbXDRHz/bGiNjc/HLMzKxZZjuC//dZXgvghCbXYmZmTTTbZGNPaWUhZmbWXEXOgzczsy7kgDczS5QD3swsUXMGvKRj8ytRkfRiSeslPaj80szMrBFFjuA/BvxZ0mOANwO/Az5falVmZtawIgF/V0QE2ZTB50fE+fiWfWZmHa/IVAW7JZ0LvBh4sqR5QE+5ZZmZWaOKHMG/ALgDeEVE3AocBnyg1KrMzKxhRY7g31A7XXBE/F7SyhJrMjOzJihyBP/0aZ57VrMLMTOz5pptsrFXA/8CrJB0bc1LC4Eryy7MzMwaM9sQzZeAi4D3AefUPL87Iv5YalVmZtaw2SYbux24HTg1P3NmWb79AkkLIuL3LarRzMzqMOeXrJJeC7wL2AFM3Ho9gEeXV5aZmTWqyFk0ZwNHRMTOkmsxM7MmKnIWzU1kQzVmZtZFihzBbwMul3Qh2QVPAETE+tKqMjOzhhUJ+N/nj/n5w8zMusCcAR8R7waQ1BcRe8svyczMmqHIfPDHSPoFsDVff4ykj5ZemZmZNaTIl6wfAp4J7ASIiC3Ak0usyczMmqDQLfsi4qYpT91dQi1mZtZERb5kvUnSk4CQNB84i3y4xszMOleRI/gzgdeQzQN/M7AqXzczsw5W5Cya24DTWlCLmZk1UZG5aB4MvA4YqN0+Ik4qrywzM2tUkTH4bwCfAv6Xv042ZmZmHa5IwI9HxIfrbSCfangI+ENEPLve/ZiZ2YEpEvDnS3oncCn7z0WzuWAbryc762bRgZdnZmb1KhLwjwJeApzA/vPBnzDXGyU9APhH4L3AujprNDOzOhQJ+OcCKyLizjr2/yHgzWT3cZ2WpLXAWoDDDz+8jibMzGw6Rc6D3wIccqA7lvRsYDQirpltu4jYEBGDETHY399/oM2YmdkMihzBLwN+Keln7D8GP9dpkscCJ0k6EegFFkn6QkS8uO5qzcyssCIB/856dhwR5wLnAkg6HniTw93MrHVmDXhJFeAjEfHIFtVjZmZNMusYfERUgS2SGvr2MyIu9znwZmatVWSI5lDgBkk/BSbv6OSpCszMOluRgH936VWYmVnTFZlN8oetKMTMzJqryD1ZnyjpZ5L2SLpT0t2SdrWiODMzq1+RC53+CzgV+A1wb+CV+XNmZtbBiozBExG/lTQvIu4GPiPpypLrMjOzBhUJ+D/n92IdlvR+YDvQV25ZZmbWqCJDNC/Jt3st2WmSDwSeV2ZRZmbWuCJn0fwuXxzHp0yamXWNGY/gJZ0s6TU165skbcsfz29NeWZmVq/ZhmjeDHyrZv1ewOOA44FXl1iTmZk1wWxDNPMj4qaa9SsiYiewU5K/ZDUz63CzHcHft3YlIl5bs+o7c5iZdbjZAn6TpDOmPinpVcBPyyvJzMyaYbYhmjcA35D0ImBz/txjycbin1NyXWZm1qAZAz4iRoEnSToBWJk/fWFEfL8llZmZWUOKnAf/fcChbmbWZYpcyWpmZl3IAW9mligHvJlZohzwZmaJcsCbmSXKAW9mligHvJlZohzwZmaJcsCbmSXKAW9mligHvJlZohzwZmaJcsCbmSVqztkk6yWpF/gR2fzxBwEXRMQ7m91OtRqM7NzLjl3jLFvUy8DiPioVNbsZM7OuU1rAA3cAJ0TEHkk9wBWSLoqIq5vVQLUaXHzDrazbOMz4viq9PRXWr1nF6pXLHfJm9jevtCGayOzJV3vyRzSzjZGdeyfDHWB8X5V1G4cZ2bm3mc2YmXWlUsfgJc2TNAyMApdFxKZptlkraUjS0NjY2AHtf8eu8clwnzC+r8ro7vEGqjYzS0OpAR8Rd0fEKuABwOMlPXKabTZExGBEDPb39x/Q/pct6qW3Z/8fobenwtKFvQ1UbWaWhpacRRMRfwIuB1Y3c78Di/tYv2bVZMhPjMEPLO5rZjNmZl2pzLNo+oF9EfEnSfcGngac18w2KhWxeuVyjjzrOEZ3j7N0oc+iMTObUOZZNIcCn5M0j+x/Chsj4tvNbqRSESv6F7Cif0Gzd21m1tVKC/iIuBY4qqz9m5nZ7Hwlq5lZohzwZmaJcsCbmSXKAW9mligHvJlZohzwZmaJcsCbmSXKAW9mligHvJlZohzwZmaJcsCbmSXKAW9mligHvJlZohzwZmaJcsCbmSXKAW9mligHvJlZohzwZmaJcsCbmSXKAW9mligHvJlZohzwZmaJcsCbmSXKAW9mligHvJlZohzwZmaJcsCbmSXKAW9mligHvJlZohzwZmaJcsCbmSWqtICX9EBJP5C0VdINkl5fVlvWWtVqsG1sD1fdeBvbxvZQrUa7SzLrSmX/Lh3U1L3t7y7gjRGxWdJC4BpJl0XEL0ps00pWrQYX33Ar6zYOM76vSm9PhfVrVrF65XIqFbW7PLOu0YrfpdKO4CNie0Rszpd3A1uBw8pqz1pjZOfeyQ8kwPi+Kus2DjOyc2+bKzPrLq34XWrJGLykAeAoYNM0r62VNCRpaGxsrBXlWAN27Bqf/EBOGN9XZXT3eJsqMutOrfhdKj3gJS0A/gc4OyJ2TX09IjZExGBEDPb395ddjjVo2aJeenv2/9j09lRYurC3TRWZdadW/C6VGvCSesjC/YsR8bUy27LWGFjcx/o1qyY/mBPjhgOL+9pcmVl3acXvkiLKOQNCkoDPAX+MiLOLvGdwcDCGhoZKqceap1oNRnbuZXT3OEsX9jKwuM9fsJrVoRm/S5KuiYjB6V4r8yyaY4GXANdJGs6fe2tEfKfENq0FKhWxon8BK/oXtLsUs65W9u9SaQEfEVcAPqwzM2sTX8lqZpYoB7yZWaIc8GZmiXLAm5klqrTTJOshaQz4XR1vXQLc1uRymq0baoTuqNM1Nk831OkaZ/egiJj2KtGOCvh6SRqa6TzQTtENNUJ31Okam6cb6nSN9fMQjZlZohzwZmaJSiXgN7S7gAK6oUbojjpdY/N0Q52usU5JjMGbmdk9pXIEb2ZmUzjgzcwS1ZUBL+mU/EbeVUkznpokabWkX0n6raRzWlzj/SRdJuk3+Z/3nWG7EUnXSRqW1JK5kufqF2U+nL9+raSjW1FXHXUeL+n2vO+GJb2jDTV+WtKopOtneL3tfVmgxk7oxwdK+oGkrfnv9uun2aatfVmwxrb35X4iousewMOBI4DLgcEZtpkH3AisAOYDW4BHtLDG9wPn5MvnAOfNsN0IsKSFdc3ZL8CJwEVks4E+EdjUhr/jInUeD3y7zZ/FJwNHA9fP8Hon9OVcNXZCPx4KHJ0vLwR+3Wmfy4I1tr0vax9deQQfEVsj4ldzbPZ44LcRsS0i7gS+ApxcfnWTTia74Qn5n89pYduzKdIvJwOfj8zVwCGSDu3AOtsuIn4E/HGWTdrelwVqbLuI2B4Rm/Pl3cBW4LApm7W1LwvW2FG6MuALOgy4qWb9Zlr7l7EsIrZD9sEAls6wXQCXSrpG0toW1FWkX9rddwdSwzGStki6SNLK1pR2QDqhL4vomH6UNAAcBWya8lLH9OUsNUIH9WWZd3RqiKTvAsuneeltEfHNIruY5rmmnhM6W40HsJtjI+IWSUuByyT9Mj/iKkuRfim97wooUsNmsnk49kg6EfgG8NCyCztAndCXc+mYfpS0gOw+zmdHxK6pL0/zlpb35Rw1dkxfQgcHfEQ8rcFd3Aw8sGb9AcAtDe5zP7PVKGmHpEMjYnv+38jRGfZxS/7nqKSvkw1NlBnwRfql9L4rYM4aan+5IuI7kj4qaUlEdNLEVJ3Ql7PqlH6U1EMWnF+MiK9Ns0nb+3KuGjulLyekPETzM+Chkh4saT7wQuBbLWz/W8Dp+fLpwD3+1yGpT9LCiWXgGcC0Zzo0UZF++Rbw0vyshScCt08MN7XQnHVKWi5J+fLjyT7PO1tc51w6oS9n1Qn9mLf/KWBrRKyfYbO29mWRGjuhL/fT7m9563kAzyX71/wOYAdwSf78/YHv1Gx3Itk33TeSDe20ssbFwPeA3+R/3m9qjWRniGzJHze0qsbp+gU4EzgzXxbwkfz165jhTKUOqPO1eb9tAa4GntSGGr8MbAf25Z/JV3RaXxaosRP68e/JhluuBYbzx4md1JcFa2x7X9Y+PFWBmVmiUh6iMTP7m+aANzNLlAPezCxRDngzs0Q54M3MEuWAt4ZJGphppsJ27ivf35fzmQff0O5a5mjr/pIuqON9n5T0iDJqsu7XsVeymh0oSQdFxF0168vJzkN+UBvLKiSyK5qfX8f7XllCOZYIH8Fbsxwk6XP50fIFkg6Gyfnul+TLg5Iuz5ffpWye8sslbZN01tQdSloh6eeSHifpIZIuzidl+7GkI/NtPitpvaQfAOdN2cWlwNJ8Xu7j8rYG8/ctkTSSL8+T9AFJP8vrf9U0tayU9NN8X9dKusf8IpKeIekqSZslfTWfs2SiD/4tf21I0tGSLpF0o6Qz820m/7cwXVv5Vc8XKpvE6npJL8i3rf2ZTlV2b4HrJZ1XU9ceSe/N33u1pGX586fk226RVOb0GNYu7bzKyo80HsAA2RV+x+brnwbelC+PkM93DwwCl+fL7wKuBO4FLCG7nLsn39f1ZPP9/xxYlW//PeCh+fITgO/ny58Fvg3Mm6Gu62vWLye/+jFvcyRfXgu8PV++FzAEPLj2/cB/Aqfly/OBe09pawnZHEJ9+fpbgHfU9MGr8+X/ILsSciHQD4xOrXW6toDnAZ+oae8+tT8T2RXSv8/3eRDwfeA5+TYB/FO+/P6an/U64LB8+ZB2f478aP7DR/DWLDdFxE/y5S+QXdY9lwsj4o7IJmIaBZblz/eTzd3z4ogYzo+EnwR8VdIw8HGymy9M+GpE3N1A7c8gm+NkmGz618XccwbAq4C3SnoL2WyBf5ny+hOBRwA/yfdzOlA7NDQxj851ZDeq2B0RY8C4pEMKtHUd8DRJ50k6LiJun/Kex5H94zkW2TDVF8lu9AFwJ9k/ggDXkP1jAvAT4LOSziC7wYolxgFvzTJ1zouJ9bv46+esd8o2d9Qs381fvxO6nWze72Pz9Qrwp4hYVfN4eM179xascaZaBLyuZt8PjohL9/thIr4EnAT8BbhE0glT9i3gspp9PCIiXjHNz1qd8nNXmfJd2HRtRcSvgceSBf37dM9bwU03le6EfREx8fcx2c8RcSbwdrIZGoclLZ5lH9aFHPDWLIdLOiZfPhW4Il8eIQsmyIYZiriT7A5YL5X0osimYP0/SafA5L05H1NHjbW11H6heQnwamVTwSLpYcpm95wkaQWwLSI+THY0/ugp+74aOFbS3+XbHyzpYXXUOG1bku4P/DkivgB8kOwWfLU2Af+Qf7cwj+zv4IdztPOQiNgUEe8AbmP/qXgtAQ54a5atwOmSrgXuB3wsf/7dwPmSfkx29FhIROwFng28QdLJwGnAKyRNzLxZz+37PkgW5FeSjZlP+CTwC2Bz/kXnx7nnGWYvAK7Ph1+OBD4/pd4x4GXAl/M+uDrfrh7TtfUo4Kf5c28D/nVK+9uBc4EfkM1kuDnmvjHOBya+lCX7/mBLnfVah/JskmZmifIRvJlZohzwZmaJcsCbmSXKAW9mligHvJlZohzwZmaJcsCbmSXq/wFCParLrzJT/gAAAABJRU5ErkJggg==\n",
=======
      "image/png": "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\n",
>>>>>>> 43a13bf2546af412be6dab0aa34190b2a1fd0e8b
>>>>>>> Stashed changes
      "text/plain": [
       "<Figure size 432x288 with 1 Axes>"
      ]
     },
     "metadata": {
      "needs_background": "light"
     },
     "output_type": "display_data"
    }
   ],
   "source": [
    "for i in list:\n",
    "    first_scatter = sns.scatterplot(x=analysis_two_all[i], y=analysis_two_all['Garments'])\n",
    "    first_scatter.set_xlabel(i + ' emissions')\n",
    "    first_scatter.set_ylabel('Garments Index')\n",
    "    plt.show()"
   ]
  },
  {
   "cell_type": "code",
   "execution_count": null,
   "metadata": {},
   "outputs": [],
   "source": []
  }
 ],
 "metadata": {
  "kernelspec": {
   "display_name": "Python 3",
   "language": "python",
   "name": "python3"
  },
  "language_info": {
   "codemirror_mode": {
    "name": "ipython",
    "version": 3
   },
   "file_extension": ".py",
   "mimetype": "text/x-python",
   "name": "python",
   "nbconvert_exporter": "python",
   "pygments_lexer": "ipython3",
   "version": "3.7.4"
  }
 },
 "nbformat": 4,
 "nbformat_minor": 4
}
