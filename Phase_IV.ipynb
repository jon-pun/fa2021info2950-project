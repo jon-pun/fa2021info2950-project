{
 "cells": [
  {
   "cell_type": "markdown",
   "metadata": {},
   "source": [
    "# project phase iv: on fashion & climate change\n",
    "\n",
    "project contributors: jillian beck (jlb574), diane lee (ddl58), alex panovka (amp343), jonathan yun (jly37)\n",
    "\n",
    "-----"
   ]
  },
  {
   "cell_type": "markdown",
   "metadata": {},
   "source": [
    "## introduction\n",
    "\n",
    "[add intro text here]\n",
    "\n",
    "-----"
   ]
  },
  {
   "cell_type": "markdown",
   "metadata": {},
   "source": [
    "## data description\n",
    "\n",
    "#### motivation\n",
    "\n",
    "#### composition\n",
    "\n",
    "#### collection process\n",
    "\n",
    "#### postprocessing / cleaning / labelling\n",
    "\n",
    "-----"
   ]
  },
  {
   "cell_type": "markdown",
   "metadata": {},
   "source": [
    "## preregistration statement\n",
    "\n",
    "here are the following analyses we promised to conduct in project phase iii:\n",
    "\n",
    "#### Analysis One:\n",
    "- Goal: Analyze correlation between HDI (human development index) and GHG emissions per economic sector (i.e. Manufacturing, bunker fuel, etc)\n",
    "\n",
    "- How we’re going to do it: We are going to make a new data frame. It will have these twelve columns: [Country, HDI from 2019,  average annual GHG emissions for each economic sector between 2014-2019 ( 5 columns), average annual change in GHG emissions for each economic sector between 2014-2019 (another 5 columns)]. We will then make a heatmap of the spearman correlation between each variable in the data frame. The reason we use spearman is because we care more about a country's relative HDI and GHG compared to other countries rather than what the actual values are. We will pay specific attention to the correlation between HDI and annual GHG emissions. This will represent five cells in the heat map, each cell being a correlation between emissions from a single sector and HDI. We will also check to see any strong correlations between other variables, such as HDI and change in emissions, and correlation between emissions in separate sectors. With these correlations we will be able to make statements about the relationship between the variables in this dataframe. \n",
    "\n",
    "- What we expect to find: We expect that there will be a strong positive correlation between HDI and GHG emissions suggesting that developed countries release more greenhouse gases. Conversely, we expect a strong negative correlation between HDI and change in GHG emissions suggesting that less developed countries are where most of the industrial growth is occurring. When looking at sectors specifically, we expect a slight negative correlation between HDI and GHG emissions from bunker fuel since developing countries often export their goods to developed countries. Finally we expect a high correlation between emissions from each sector, suggesting that countries that have high emissions in one sector also have high emissions in other sectors. Scatter plots of the data, done outside of this analysis, will allow us to see more specific relationships between sectors by country. The information we will gather from this analysis does not directly pertain to the fashion industry, but the knowledge it gives us about the relationship between development and emissions will help us understand if the relationship between development and environmental impact from fashion has unique characteristics.  \n",
    "\n",
    "#### Analysis Two\n",
    "\n",
    "- Goal: Examine the relationship between HDI and the importance of the fashion industry in a country’s economy. \n",
    "\n",
    "- How we’re going to do it: We are going to make a new data frame with these columns: [Country, HDI, cotton, clothing, garments, textiles]. The HDI column will be downloaded from the United Nations Development Programme, and we will just use the most recent year. Cotton, clothing, garment, and textiles will have data taken from the industries list from the CIA factbook. This page shows the top industries by annual output for every country, and we are looking at industries that are just related to fashion. In the data frame these columns will house values representing what rank that industry has in that country. For instance, textiles is fourth in the list of industries in Argentina, so the textiles value for Argentina will be 4. First we will find the correlation between HDI and fashion industries ranking. Next we will merge this data with the data relating to emissions from analysis one. We will create multiple scatter plots of industry rank versus emissions and change in emissions, with different emissions sectors for each plot, and then cluster the data. We expect the clusters to relate to HDI, so we will then make histograms of the HDI per cluster and determine if the clusters correspond to a country’s stage of development. \n",
    "\n",
    "- What we expect to find: We expect to find a negative correlation between HDI and the importance of fashion in a country’s economy. Based on our knowledge that most clothing is manufactured in developing countries, we expect developing countries to rely more on the fashion industry for their economies than developed countries. Across the scatter plots we expect to see clusters of high HDI countries where importance of fashion is low, and change in emissions is low, and where importance of fashion is low, but absolute emissions are high. For low HDI countries, we expect clusters where importance of fashion is high and change in emissions is high, and where importance of fashion is high and emissions are medium to low. Our data does not take into account the size of each country, so the clusters in the annual emissions plots might represent country size, but we expect the clusters in the scatter plots of change in emissions to definitely represent development. With this information we will be able to determine if less developed countries bear a greater burden from the fashion industry than developed countries. \n",
    "\n",
    "-----"
   ]
  },
  {
   "cell_type": "markdown",
   "metadata": {},
   "source": [
    "## analysis one\n",
    "\n",
    "in this analysis, we will analyze correlation between HDI (human development index) and GHG emissions per economic sector (i.e. manufacturing, bunker fuel, etc)."
   ]
  },
  {
   "cell_type": "code",
<<<<<<< Updated upstream
   "execution_count": 129,
=======
   "execution_count": 1,
>>>>>>> Stashed changes
   "metadata": {},
   "outputs": [],
   "source": [
    "## load libraries\n",
    "\n",
    "## our old friends...\n",
    "import numpy as np\n",
    "import pandas as pd\n",
    "import matplotlib.pyplot as plt\n",
    "\n",
    "## ...and some new ones...\n",
    "import seaborn as sns\n",
    "from sklearn.cluster import KMeans\n",
    "\n",
    "## ..and a most new friend\n",
    "from sklearn.linear_model import LinearRegression\n",
    "\n",
    "## load CSVs\n",
    "agriculture=pd.read_csv('agriculture.csv', na_values={'false','False','FALSE'})\n",
    "energy=pd.read_csv('energy.csv',  na_values={'false','False','FALSE'})\n",
    "waste=pd.read_csv('waste.csv',   na_values={'false','False','FALSE'})\n",
    "industrial=pd.read_csv('industrial-processes.csv',  na_values={'false','False','FALSE'})\n",
    "bunker_fuels=pd.read_csv('bunker-fuels.csv',  na_values={'false','False','FALSE'})"
   ]
  },
  {
   "cell_type": "code",
<<<<<<< Updated upstream
   "execution_count": 130,
=======
   "execution_count": 2,
>>>>>>> Stashed changes
   "metadata": {},
   "outputs": [],
   "source": [
    "## load HDI data\n",
    "hdi = pd.read_csv('Human Development Index (HDI)-2.csv', header = 5)\n",
    "cols = {'Country', '2019'} # subset to just keep 2019 hdis\n",
    "hdi = hdi[cols] # keeping only relevant data\n",
    "\n",
    "hdi['Country'] = hdi['Country'].str.strip(' ')\n",
    "\n",
    "hdi = hdi.rename(columns={'Country': 'country', '2019': 'hdi'})"
   ]
  },
  {
   "cell_type": "markdown",
   "metadata": {},
   "source": [
    "#### data analysis\n",
    "\n",
    "first, let's see a little bit more about the hdi data, and then prepare it for merger with the ghg emissions datasets:"
   ]
  },
  {
   "cell_type": "code",
<<<<<<< Updated upstream
   "execution_count": 131,
=======
   "execution_count": 3,
>>>>>>> Stashed changes
   "metadata": {},
   "outputs": [
    {
     "data": {
      "text/html": [
       "<div>\n",
       "<style scoped>\n",
       "    .dataframe tbody tr th:only-of-type {\n",
       "        vertical-align: middle;\n",
       "    }\n",
       "\n",
       "    .dataframe tbody tr th {\n",
       "        vertical-align: top;\n",
       "    }\n",
       "\n",
       "    .dataframe thead th {\n",
       "        text-align: right;\n",
       "    }\n",
       "</style>\n",
       "<table border=\"1\" class=\"dataframe\">\n",
       "  <thead>\n",
       "    <tr style=\"text-align: right;\">\n",
       "      <th></th>\n",
       "      <th>hdi</th>\n",
       "      <th>country</th>\n",
       "    </tr>\n",
       "  </thead>\n",
       "  <tbody>\n",
       "    <tr>\n",
       "      <th>0</th>\n",
       "      <td>0.511</td>\n",
       "      <td>Afghanistan</td>\n",
       "    </tr>\n",
       "    <tr>\n",
       "      <th>1</th>\n",
       "      <td>0.795</td>\n",
       "      <td>Albania</td>\n",
       "    </tr>\n",
       "    <tr>\n",
       "      <th>2</th>\n",
       "      <td>0.748</td>\n",
       "      <td>Algeria</td>\n",
       "    </tr>\n",
       "    <tr>\n",
       "      <th>3</th>\n",
       "      <td>0.868</td>\n",
       "      <td>Andorra</td>\n",
       "    </tr>\n",
       "    <tr>\n",
       "      <th>4</th>\n",
       "      <td>0.581</td>\n",
       "      <td>Angola</td>\n",
       "    </tr>\n",
       "  </tbody>\n",
       "</table>\n",
       "</div>"
      ],
      "text/plain": [
       "     hdi      country\n",
       "0  0.511  Afghanistan\n",
       "1  0.795      Albania\n",
       "2  0.748      Algeria\n",
       "3  0.868      Andorra\n",
       "4  0.581       Angola"
      ]
     },
<<<<<<< Updated upstream
     "execution_count": 131,
=======
     "execution_count": 3,
>>>>>>> Stashed changes
     "metadata": {},
     "output_type": "execute_result"
    }
   ],
   "source": [
    "hdi.head()"
   ]
  },
  {
   "cell_type": "code",
<<<<<<< Updated upstream
   "execution_count": 132,
=======
   "execution_count": 4,
>>>>>>> Stashed changes
   "metadata": {},
   "outputs": [],
   "source": [
    "agriculture = agriculture.sort_values('Country/Region')\n",
    "energy = energy.sort_values('Country/Region')\n",
    "waste = waste.sort_values('Country/Region')\n",
    "industrial = industrial.sort_values('Country/Region')\n",
    "bunker_fuels = bunker_fuels.sort_values('Country/Region')\n",
    "\n",
    "ag_ghgchange = (agriculture['2018']-agriculture['2008'])\n",
    "energy_ghgchange = (energy['2018']-energy['2008'])\n",
    "waste_ghgchange = (waste['2018']-waste['2008'])\n",
    "industrial_ghgchange = (industrial['2008']-industrial['1998'])\n",
    "bunker_ghgchange = (bunker_fuels['2008']-bunker_fuels['1998'])"
   ]
  },
  {
   "cell_type": "markdown",
   "metadata": {},
   "source": [
    "great! we've sorted, subtracted and prepared our datasets for analysis. let's merge them all together into one dataset about ghg emissions, per country, per industry:"
   ]
  },
  {
   "cell_type": "code",
<<<<<<< Updated upstream
   "execution_count": 133,
=======
   "execution_count": 5,
>>>>>>> Stashed changes
   "metadata": {},
   "outputs": [
    {
     "data": {
      "text/html": [
       "<div>\n",
       "<style scoped>\n",
       "    .dataframe tbody tr th:only-of-type {\n",
       "        vertical-align: middle;\n",
       "    }\n",
       "\n",
       "    .dataframe tbody tr th {\n",
       "        vertical-align: top;\n",
       "    }\n",
       "\n",
       "    .dataframe thead th {\n",
       "        text-align: right;\n",
       "    }\n",
       "</style>\n",
       "<table border=\"1\" class=\"dataframe\">\n",
       "  <thead>\n",
       "    <tr style=\"text-align: right;\">\n",
       "      <th></th>\n",
       "      <th>country</th>\n",
       "      <th>agriculture</th>\n",
       "      <th>energy</th>\n",
       "      <th>waste</th>\n",
       "      <th>industrial</th>\n",
       "      <th>bunker fuels</th>\n",
       "    </tr>\n",
       "  </thead>\n",
       "  <tbody>\n",
       "    <tr>\n",
       "      <th>57</th>\n",
       "      <td>Afghanistan</td>\n",
       "      <td>67.42</td>\n",
       "      <td>-4.08</td>\n",
       "      <td>-0.8</td>\n",
       "      <td>0.54</td>\n",
       "      <td>-1.3</td>\n",
       "    </tr>\n",
       "    <tr>\n",
       "      <th>145</th>\n",
       "      <td>Albania</td>\n",
       "      <td>2.17</td>\n",
       "      <td>0.68</td>\n",
       "      <td>0.95</td>\n",
       "      <td>0.05</td>\n",
       "      <td>-0.03</td>\n",
       "    </tr>\n",
       "    <tr>\n",
       "      <th>38</th>\n",
       "      <td>Algeria</td>\n",
       "      <td>58.44</td>\n",
       "      <td>-17.34</td>\n",
       "      <td>-0.39</td>\n",
       "      <td>5.61</td>\n",
       "      <td>0.56</td>\n",
       "    </tr>\n",
       "    <tr>\n",
       "      <th>177</th>\n",
       "      <td>Andorra</td>\n",
       "      <td>-0.05</td>\n",
       "      <td>0.15</td>\n",
       "      <td>0.08</td>\n",
       "      <td>0.0</td>\n",
       "      <td>0.0</td>\n",
       "    </tr>\n",
       "    <tr>\n",
       "      <th>47</th>\n",
       "      <td>Angola</td>\n",
       "      <td>1.2</td>\n",
       "      <td>64.3</td>\n",
       "      <td>-2.18</td>\n",
       "      <td>1.13</td>\n",
       "      <td>1.59</td>\n",
       "    </tr>\n",
       "    <tr>\n",
       "      <th>...</th>\n",
       "      <td>...</td>\n",
       "      <td>...</td>\n",
       "      <td>...</td>\n",
       "      <td>...</td>\n",
       "      <td>...</td>\n",
       "      <td>...</td>\n",
       "    </tr>\n",
       "    <tr>\n",
       "      <th>29</th>\n",
       "      <td>Venezuela</td>\n",
       "      <td>-67.4</td>\n",
       "      <td>44.14</td>\n",
       "      <td>0.62</td>\n",
       "      <td>6.66</td>\n",
       "      <td>1.41</td>\n",
       "    </tr>\n",
       "    <tr>\n",
       "      <th>23</th>\n",
       "      <td>Vietnam</td>\n",
       "      <td>126.44</td>\n",
       "      <td>126.77</td>\n",
       "      <td>1.21</td>\n",
       "      <td>3.64</td>\n",
       "      <td>-0.78</td>\n",
       "    </tr>\n",
       "    <tr>\n",
       "      <th>122</th>\n",
       "      <td>Yemen</td>\n",
       "      <td>-11.3</td>\n",
       "      <td>4.3</td>\n",
       "      <td>0.34</td>\n",
       "      <td>0.22</td>\n",
       "      <td>-0.03</td>\n",
       "    </tr>\n",
       "    <tr>\n",
       "      <th>59</th>\n",
       "      <td>Zambia</td>\n",
       "      <td>27.67</td>\n",
       "      <td>-5.72</td>\n",
       "      <td>0.52</td>\n",
       "      <td>0.89</td>\n",
       "      <td>0.63</td>\n",
       "    </tr>\n",
       "    <tr>\n",
       "      <th>49</th>\n",
       "      <td>Zimbabwe</td>\n",
       "      <td>83.42</td>\n",
       "      <td>4.39</td>\n",
       "      <td>0.78</td>\n",
       "      <td>2.39</td>\n",
       "      <td>1.06</td>\n",
       "    </tr>\n",
       "  </tbody>\n",
       "</table>\n",
       "<p>195 rows × 6 columns</p>\n",
       "</div>"
      ],
      "text/plain": [
       "         country agriculture  energy waste industrial bunker fuels\n",
       "57   Afghanistan       67.42   -4.08  -0.8       0.54         -1.3\n",
       "145      Albania        2.17    0.68  0.95       0.05        -0.03\n",
       "38       Algeria       58.44  -17.34 -0.39       5.61         0.56\n",
       "177      Andorra       -0.05    0.15  0.08        0.0          0.0\n",
       "47        Angola         1.2    64.3 -2.18       1.13         1.59\n",
       "..           ...         ...     ...   ...        ...          ...\n",
       "29     Venezuela       -67.4   44.14  0.62       6.66         1.41\n",
       "23       Vietnam      126.44  126.77  1.21       3.64        -0.78\n",
       "122        Yemen       -11.3     4.3  0.34       0.22        -0.03\n",
       "59        Zambia       27.67   -5.72  0.52       0.89         0.63\n",
       "49      Zimbabwe       83.42    4.39  0.78       2.39         1.06\n",
       "\n",
       "[195 rows x 6 columns]"
      ]
     },
<<<<<<< Updated upstream
     "execution_count": 133,
=======
     "execution_count": 5,
>>>>>>> Stashed changes
     "metadata": {},
     "output_type": "execute_result"
    }
   ],
   "source": [
    "data_ghgchange = {'country': agriculture['Country/Region'].str.strip(' '), 'agriculture': ag_ghgchange, 'energy': energy_ghgchange,\n",
    "                  'waste': waste_ghgchange, 'industrial': industrial_ghgchange, 'bunker fuels': bunker_ghgchange}\n",
    "df_ghgchange = pd.DataFrame.from_dict(data_ghgchange, orient = 'index')\n",
    "df_ghgchange = df_ghgchange.transpose()\n",
    "\n",
    "df_ghgchange"
   ]
  },
  {
   "cell_type": "markdown",
   "metadata": {},
   "source": [
    "let's also run some summary statistics on this:"
   ]
  },
  {
   "cell_type": "code",
<<<<<<< Updated upstream
   "execution_count": 134,
   "metadata": {},
   "outputs": [
    {
     "name": "stdout",
     "output_type": "stream",
     "text": [
      "       country  agriculture  energy  waste  industrial  bunker fuels\n",
      "count      195       193.00  193.00  191.0       191.0         175.0\n",
      "unique     195       191.00  187.00  150.0       147.0         139.0\n",
      "top      Syria         0.03    0.68    0.0         0.0           0.0\n",
      "freq         1         2.00    2.00   12.0        15.0          20.0\n",
      "country         object\n",
      "agriculture     object\n",
      "energy          object\n",
      "waste           object\n",
      "industrial      object\n",
      "bunker fuels    object\n",
      "dtype: object\n"
     ]
=======
   "execution_count": 6,
   "metadata": {},
   "outputs": [
    {
     "data": {
      "text/plain": [
       "<AxesSubplot:xlabel='hdi', ylabel='agriculture'>"
      ]
     },
     "execution_count": 6,
     "metadata": {},
     "output_type": "execute_result"
    },
    {
     "data": {
      "image/png": "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\n",
      "text/plain": [
       "<Figure size 432x288 with 1 Axes>"
      ]
     },
     "metadata": {
      "needs_background": "light"
     },
     "output_type": "display_data"
>>>>>>> Stashed changes
    }
   ],
   "source": [
    "print(df_ghgchange.describe())\n",
    "\n",
    "print(df_ghgchange.dtypes)"
   ]
  },
  {
   "cell_type": "markdown",
   "metadata": {},
   "source": [
<<<<<<< Updated upstream
    "ok, our climate change emissions data (in megatons) should probably be numeric... let's do that, and then run summary statistics on it:"
=======
    "Dear Diane and Jon,\n",
    "    We are stealing your data frame. We renamed it as a new variable so we can use it later before you drop the country "
   ]
  },
  {
   "cell_type": "code",
   "execution_count": 7,
   "metadata": {},
   "outputs": [],
   "source": [
    "# second_analysis_one=analysis_one\n",
    "analysis_one = analysis_one.drop(['country'], axis = 1)\n",
    "analysis_one = analysis_one.astype(float)"
>>>>>>> Stashed changes
   ]
  },
  {
   "cell_type": "code",
<<<<<<< Updated upstream
   "execution_count": 135,
=======
   "execution_count": 8,
>>>>>>> Stashed changes
   "metadata": {},
   "outputs": [
    {
     "data": {
      "text/html": [
       "<div>\n",
       "<style scoped>\n",
       "    .dataframe tbody tr th:only-of-type {\n",
       "        vertical-align: middle;\n",
       "    }\n",
       "\n",
       "    .dataframe tbody tr th {\n",
       "        vertical-align: top;\n",
       "    }\n",
       "\n",
       "    .dataframe thead th {\n",
       "        text-align: right;\n",
       "    }\n",
       "</style>\n",
       "<table border=\"1\" class=\"dataframe\">\n",
       "  <thead>\n",
       "    <tr style=\"text-align: right;\">\n",
       "      <th></th>\n",
       "      <th>energy</th>\n",
       "      <th>waste</th>\n",
       "      <th>bunker fuels</th>\n",
       "      <th>agriculture</th>\n",
       "      <th>industrial</th>\n",
       "    </tr>\n",
       "  </thead>\n",
       "  <tbody>\n",
       "    <tr>\n",
       "      <th>count</th>\n",
       "      <td>193.000000</td>\n",
       "      <td>191.000000</td>\n",
       "      <td>175.000000</td>\n",
       "      <td>193.000000</td>\n",
       "      <td>191.000000</td>\n",
       "    </tr>\n",
       "    <tr>\n",
       "      <th>mean</th>\n",
       "      <td>22.548031</td>\n",
       "      <td>0.837068</td>\n",
       "      <td>1.664286</td>\n",
       "      <td>29.479896</td>\n",
       "      <td>3.758848</td>\n",
       "    </tr>\n",
       "    <tr>\n",
       "      <th>std</th>\n",
       "      <td>239.662242</td>\n",
       "      <td>5.387391</td>\n",
       "      <td>5.954713</td>\n",
       "      <td>259.370847</td>\n",
       "      <td>34.781706</td>\n",
       "    </tr>\n",
       "    <tr>\n",
       "      <th>min</th>\n",
       "      <td>-612.040000</td>\n",
       "      <td>-19.850000</td>\n",
       "      <td>-3.840000</td>\n",
       "      <td>-610.260000</td>\n",
       "      <td>-28.900000</td>\n",
       "    </tr>\n",
       "    <tr>\n",
       "      <th>25%</th>\n",
       "      <td>-1.240000</td>\n",
       "      <td>0.010000</td>\n",
       "      <td>0.000000</td>\n",
       "      <td>-0.610000</td>\n",
       "      <td>0.020000</td>\n",
       "    </tr>\n",
       "    <tr>\n",
       "      <th>50%</th>\n",
       "      <td>0.640000</td>\n",
       "      <td>0.150000</td>\n",
       "      <td>0.120000</td>\n",
       "      <td>1.830000</td>\n",
       "      <td>0.250000</td>\n",
       "    </tr>\n",
       "    <tr>\n",
       "      <th>75%</th>\n",
       "      <td>7.050000</td>\n",
       "      <td>0.845000</td>\n",
       "      <td>0.770000</td>\n",
       "      <td>14.970000</td>\n",
       "      <td>1.120000</td>\n",
       "    </tr>\n",
       "    <tr>\n",
       "      <th>max</th>\n",
       "      <td>3095.940000</td>\n",
       "      <td>57.180000</td>\n",
       "      <td>62.290000</td>\n",
       "      <td>3250.160000</td>\n",
       "      <td>476.610000</td>\n",
       "    </tr>\n",
       "  </tbody>\n",
       "</table>\n",
       "</div>"
      ],
      "text/plain": [
<<<<<<< Updated upstream
       "            energy       waste  bunker fuels  agriculture  industrial\n",
       "count   193.000000  191.000000    175.000000   193.000000  191.000000\n",
       "mean     22.548031    0.837068      1.664286    29.479896    3.758848\n",
       "std     239.662242    5.387391      5.954713   259.370847   34.781706\n",
       "min    -612.040000  -19.850000     -3.840000  -610.260000  -28.900000\n",
       "25%      -1.240000    0.010000      0.000000    -0.610000    0.020000\n",
       "50%       0.640000    0.150000      0.120000     1.830000    0.250000\n",
       "75%       7.050000    0.845000      0.770000    14.970000    1.120000\n",
       "max    3095.940000   57.180000     62.290000  3250.160000  476.610000"
      ]
     },
     "execution_count": 135,
=======
       "                   hdi  agriculture    energy     waste  industrial  \\\n",
       "hdi           1.000000    -0.312070  0.135556  0.030513    0.067183   \n",
       "agriculture  -0.312070     1.000000 -0.070286  0.030426    0.133120   \n",
       "energy        0.135556    -0.070286  1.000000  0.092365    0.248048   \n",
       "waste         0.030513     0.030426  0.092365  1.000000    0.084119   \n",
       "industrial    0.067183     0.133120  0.248048  0.084119    1.000000   \n",
       "bunker fuels -0.027572    -0.002558  0.194022  0.009608    0.318410   \n",
       "\n",
       "              bunker fuels  \n",
       "hdi              -0.027572  \n",
       "agriculture      -0.002558  \n",
       "energy            0.194022  \n",
       "waste             0.009608  \n",
       "industrial        0.318410  \n",
       "bunker fuels      1.000000  "
      ]
     },
     "execution_count": 8,
     "metadata": {},
     "output_type": "execute_result"
    }
   ],
   "source": [
    "analysis_one.corr(method = 'spearman')"
   ]
  },
  {
   "cell_type": "code",
   "execution_count": 9,
   "metadata": {},
   "outputs": [
    {
     "data": {
      "text/plain": [
       "dtype('float64')"
      ]
     },
     "execution_count": 9,
>>>>>>> Stashed changes
     "metadata": {},
     "output_type": "execute_result"
    }
   ],
   "source": [
<<<<<<< Updated upstream
    "df_ghgchange[\"agriculture\"] = df_ghgchange[\"agriculture\"].astype(float)\n",
    "df_ghgchange[\"energy\"] = df_ghgchange[\"energy\"].astype(float)\n",
    "df_ghgchange[\"waste\"] = df_ghgchange[\"waste\"].astype(float)\n",
    "df_ghgchange[\"industrial\"] = df_ghgchange[\"industrial\"].astype(float)\n",
    "df_ghgchange[\"bunker fuels\"] = df_ghgchange[\"bunker fuels\"].astype(float)\n",
    "\n",
    "df_ghgchange[{\"agriculture\", \"energy\", \"waste\", \"industrial\", \"bunker fuels\"}].describe()"
=======
    "analysis_one.hdi.dtype"
   ]
  },
  {
   "cell_type": "code",
   "execution_count": 10,
   "metadata": {},
   "outputs": [
    {
     "data": {
      "image/png": "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\n",
      "text/plain": [
       "<Figure size 432x288 with 2 Axes>"
      ]
     },
     "metadata": {
      "needs_background": "light"
     },
     "output_type": "display_data"
    }
   ],
   "source": [
    "sns.heatmap(analysis_one.corr(method = 'spearman'), center=0, cmap='coolwarm')\n",
    "plt.tight_layout()\n",
    "plt.show()"
>>>>>>> Stashed changes
   ]
  },
  {
   "cell_type": "markdown",
   "metadata": {},
   "source": [
    "this data mostly makes sense (aside from some negative ghg emissions, which appear to be outliers), but also does not appear to be very comparable (since some countries might have 3250 megatons of co2-equivalent emissions solely based on size, and others might have almost 0 megatons as a small nation). let's standardize on the basis of population, using population data:"
   ]
  },
  {
   "cell_type": "code",
<<<<<<< Updated upstream
   "execution_count": 136,
=======
   "execution_count": 11,
   "metadata": {},
   "outputs": [],
   "source": [
    "industry_data=pd.read_csv('CIA_industry_data.csv')\n",
    "industry_data=industry_data.rename(columns={'Country/Region': 'country'})\n",
    "industry_data=industry_data.drop(columns='Jute')"
   ]
  },
  {
   "cell_type": "code",
   "execution_count": 12,
>>>>>>> Stashed changes
   "metadata": {},
   "outputs": [
    {
     "data": {
      "text/html": [
       "<div>\n",
       "<style scoped>\n",
       "    .dataframe tbody tr th:only-of-type {\n",
       "        vertical-align: middle;\n",
       "    }\n",
       "\n",
       "    .dataframe tbody tr th {\n",
       "        vertical-align: top;\n",
       "    }\n",
       "\n",
       "    .dataframe thead th {\n",
       "        text-align: right;\n",
       "    }\n",
       "</style>\n",
       "<table border=\"1\" class=\"dataframe\">\n",
       "  <thead>\n",
       "    <tr style=\"text-align: right;\">\n",
       "      <th></th>\n",
       "      <th>country</th>\n",
       "      <th>agriculture</th>\n",
       "      <th>energy</th>\n",
       "      <th>waste</th>\n",
       "      <th>industrial</th>\n",
       "      <th>bunker fuels</th>\n",
       "      <th>Time</th>\n",
       "      <th>PopTotal</th>\n",
       "    </tr>\n",
       "  </thead>\n",
       "  <tbody>\n",
       "    <tr>\n",
       "      <th>0</th>\n",
       "      <td>Afghanistan</td>\n",
       "      <td>0.001772</td>\n",
       "      <td>-0.000107</td>\n",
       "      <td>-0.000021</td>\n",
       "      <td>0.000014</td>\n",
       "      <td>-0.000034</td>\n",
       "      <td>2019</td>\n",
       "      <td>38041.757</td>\n",
       "    </tr>\n",
       "    <tr>\n",
       "      <th>1</th>\n",
       "      <td>Albania</td>\n",
       "      <td>0.000753</td>\n",
       "      <td>0.000236</td>\n",
       "      <td>0.000330</td>\n",
       "      <td>0.000017</td>\n",
       "      <td>-0.000010</td>\n",
       "      <td>2019</td>\n",
       "      <td>2880.913</td>\n",
       "    </tr>\n",
       "    <tr>\n",
       "      <th>2</th>\n",
       "      <td>Algeria</td>\n",
       "      <td>0.001357</td>\n",
       "      <td>-0.000403</td>\n",
       "      <td>-0.000009</td>\n",
       "      <td>0.000130</td>\n",
       "      <td>0.000013</td>\n",
       "      <td>2019</td>\n",
       "      <td>43053.054</td>\n",
       "    </tr>\n",
       "    <tr>\n",
       "      <th>3</th>\n",
       "      <td>Andorra</td>\n",
       "      <td>-0.000648</td>\n",
       "      <td>0.001944</td>\n",
       "      <td>0.001037</td>\n",
       "      <td>0.000000</td>\n",
       "      <td>0.000000</td>\n",
       "      <td>2019</td>\n",
       "      <td>77.146</td>\n",
       "    </tr>\n",
       "    <tr>\n",
       "      <th>4</th>\n",
       "      <td>Angola</td>\n",
       "      <td>0.000038</td>\n",
       "      <td>0.002020</td>\n",
       "      <td>-0.000068</td>\n",
       "      <td>0.000036</td>\n",
       "      <td>0.000050</td>\n",
       "      <td>2019</td>\n",
       "      <td>31825.299</td>\n",
       "    </tr>\n",
       "  </tbody>\n",
       "</table>\n",
       "</div>"
      ],
      "text/plain": [
       "       country  agriculture    energy     waste  industrial  bunker fuels  \\\n",
       "0  Afghanistan     0.001772 -0.000107 -0.000021    0.000014     -0.000034   \n",
       "1      Albania     0.000753  0.000236  0.000330    0.000017     -0.000010   \n",
       "2      Algeria     0.001357 -0.000403 -0.000009    0.000130      0.000013   \n",
       "3      Andorra    -0.000648  0.001944  0.001037    0.000000      0.000000   \n",
       "4       Angola     0.000038  0.002020 -0.000068    0.000036      0.000050   \n",
       "\n",
       "   Time   PopTotal  \n",
       "0  2019  38041.757  \n",
       "1  2019   2880.913  \n",
       "2  2019  43053.054  \n",
       "3  2019     77.146  \n",
       "4  2019  31825.299  "
      ]
     },
<<<<<<< Updated upstream
     "execution_count": 136,
=======
     "execution_count": 12,
>>>>>>> Stashed changes
     "metadata": {},
     "output_type": "execute_result"
    }
   ],
   "source": [
    "pop = pd.read_csv(\"WPP2019_TotalPopulationBySex.csv\")\n",
    "\n",
    "pop = pop[pop[\"Time\"] == 2019] # ensuring it's only 2019 data\n",
    "pop = pop[{\"Location\", \"Time\", \"PopTotal\"}] # removing unnecessary columns\n",
    "pop = pop.rename(columns = {\"Location\" : \"country\"}) # renaming the column for the merge\n",
    "\n",
    "df_ghgchange = df_ghgchange.merge(pop, on = \"country\") # performing an inner join\n",
    "\n",
    "df_ghgchange.head()\n",
    "\n",
    "df_ghgchange.columns\n",
    "\n",
    "for emissions in {\"agriculture\", \"energy\", \"waste\", \"industrial\", \"bunker fuels\"}:\n",
    "    df_ghgchange[emissions] = df_ghgchange[emissions] / df_ghgchange[\"PopTotal\"]\n",
    "    \n",
    "df_ghgchange.head()"
   ]
  },
  {
   "cell_type": "markdown",
   "metadata": {},
   "source": [
    "nice! let's now merge this data with each country's human development index, and also drop the population column now that it's unneeded:"
   ]
  },
  {
   "cell_type": "code",
   "execution_count": 137,
   "metadata": {},
   "outputs": [
    {
     "name": "stdout",
     "output_type": "stream",
     "text": [
      "       country    hdi  agriculture    energy     waste  industrial  \\\n",
      "0  Afghanistan  0.511     0.001772 -0.000107 -0.000021    0.000014   \n",
      "1      Albania  0.795     0.000753  0.000236  0.000330    0.000017   \n",
      "2      Algeria  0.748     0.001357 -0.000403 -0.000009    0.000130   \n",
      "3      Andorra  0.868    -0.000648  0.001944  0.001037    0.000000   \n",
      "4       Angola  0.581     0.000038  0.002020 -0.000068    0.000036   \n",
      "\n",
      "   bunker fuels  \n",
      "0     -0.000034  \n",
      "1     -0.000010  \n",
      "2      0.000013  \n",
      "3      0.000000  \n",
      "4      0.000050  \n"
     ]
    },
    {
     "data": {
      "text/plain": [
       "True"
      ]
     },
     "execution_count": 137,
     "metadata": {},
     "output_type": "execute_result"
    }
   ],
   "source": [
    "analysis_one = hdi.merge(df_ghgchange, on = 'country')\n",
    "\n",
    "analysis_one.drop([\"Time\", \"PopTotal\"], axis = 1, inplace = True)\n",
    "print(analysis_one.head())\n",
    "\n",
    "analysis_one.isnull().values.any()"
   ]
  },
  {
   "cell_type": "markdown",
   "metadata": {},
   "source": [
    "interestingly, this data contains nans. let's remove them!"
   ]
  },
  {
   "cell_type": "code",
<<<<<<< Updated upstream
   "execution_count": 147,
=======
   "execution_count": 13,
>>>>>>> Stashed changes
   "metadata": {},
   "outputs": [],
   "source": [
    "analysis_one = analysis_one.dropna()"
   ]
  },
  {
   "cell_type": "markdown",
   "metadata": {},
   "source": [
    "Dear Diane and Jon,\n",
    "    We are stealing your data frame. We renamed it as a new variable so we can use it later before you drop the country "
   ]
  },
  {
   "cell_type": "code",
   "execution_count": 139,
   "metadata": {},
   "outputs": [],
   "source": [
    "# second_analysis_one=analysis_one\n",
    "analysis_one = analysis_one.drop(['country'], axis = 1)\n",
    "analysis_one = analysis_one.astype(float)"
   ]
  },
  {
   "cell_type": "markdown",
   "metadata": {},
   "source": [
    "in order to describe a little more about the data, let's create a heatmap to check for correlation! this is as follows:"
   ]
  },
  {
   "cell_type": "code",
<<<<<<< Updated upstream
   "execution_count": 140,
=======
   "execution_count": 14,
>>>>>>> Stashed changes
   "metadata": {},
   "outputs": [
    {
     "data": {
      "text/html": [
       "<div>\n",
       "<style scoped>\n",
       "    .dataframe tbody tr th:only-of-type {\n",
       "        vertical-align: middle;\n",
       "    }\n",
       "\n",
       "    .dataframe tbody tr th {\n",
       "        vertical-align: top;\n",
       "    }\n",
       "\n",
       "    .dataframe thead th {\n",
       "        text-align: right;\n",
       "    }\n",
       "</style>\n",
       "<table border=\"1\" class=\"dataframe\">\n",
       "  <thead>\n",
       "    <tr style=\"text-align: right;\">\n",
       "      <th></th>\n",
       "      <th>hdi</th>\n",
<<<<<<< Updated upstream
       "      <th>agriculture</th>\n",
       "      <th>energy</th>\n",
       "      <th>waste</th>\n",
       "      <th>industrial</th>\n",
       "      <th>bunker fuels</th>\n",
=======
       "      <th>country</th>\n",
       "      <th>Cotton</th>\n",
       "      <th>Clothing</th>\n",
       "      <th>Garments</th>\n",
       "      <th>Textiles</th>\n",
       "    </tr>\n",
       "  </thead>\n",
       "  <tbody>\n",
       "    <tr>\n",
       "      <th>189</th>\n",
       "      <td>..</td>\n",
       "      <td>Human Development</td>\n",
       "      <td>NaN</td>\n",
       "      <td>NaN</td>\n",
       "      <td>NaN</td>\n",
       "      <td>NaN</td>\n",
       "    </tr>\n",
       "    <tr>\n",
       "      <th>195</th>\n",
       "      <td>..</td>\n",
       "      <td>Regions</td>\n",
       "      <td>NaN</td>\n",
       "      <td>NaN</td>\n",
       "      <td>NaN</td>\n",
       "      <td>NaN</td>\n",
       "    </tr>\n",
       "  </tbody>\n",
       "</table>\n",
       "</div>"
      ],
      "text/plain": [
       "    hdi            country  Cotton  Clothing  Garments  Textiles\n",
       "189  ..  Human Development     NaN       NaN       NaN       NaN\n",
       "195  ..            Regions     NaN       NaN       NaN       NaN"
      ]
     },
     "execution_count": 14,
     "metadata": {},
     "output_type": "execute_result"
    }
   ],
   "source": [
    "analysis_two[analysis_two.hdi.str.find('..')==0]"
   ]
  },
  {
   "cell_type": "code",
   "execution_count": 15,
   "metadata": {},
   "outputs": [],
   "source": [
    "analysis_two=analysis_two.drop([189,195])\n",
    "analysis_two.hdi=analysis_two.hdi.astype(float)"
   ]
  },
  {
   "cell_type": "code",
   "execution_count": 16,
   "metadata": {},
   "outputs": [
    {
     "data": {
      "image/png": "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\n",
      "text/plain": [
       "<Figure size 432x288 with 2 Axes>"
      ]
     },
     "metadata": {
      "needs_background": "light"
     },
     "output_type": "display_data"
    }
   ],
   "source": [
    "sns.heatmap(analysis_two.corr(), cmap='coolwarm')\n",
    "plt.tight_layout()\n",
    "plt.show()"
   ]
  },
  {
   "cell_type": "code",
   "execution_count": 17,
   "metadata": {},
   "outputs": [
    {
     "data": {
      "text/html": [
       "<div>\n",
       "<style scoped>\n",
       "    .dataframe tbody tr th:only-of-type {\n",
       "        vertical-align: middle;\n",
       "    }\n",
       "\n",
       "    .dataframe tbody tr th {\n",
       "        vertical-align: top;\n",
       "    }\n",
       "\n",
       "    .dataframe thead th {\n",
       "        text-align: right;\n",
       "    }\n",
       "</style>\n",
       "<table border=\"1\" class=\"dataframe\">\n",
       "  <thead>\n",
       "    <tr style=\"text-align: right;\">\n",
       "      <th></th>\n",
       "      <th>hdi</th>\n",
       "      <th>Cotton</th>\n",
       "      <th>Clothing</th>\n",
       "      <th>Garments</th>\n",
       "      <th>Textiles</th>\n",
>>>>>>> Stashed changes
       "    </tr>\n",
       "  </thead>\n",
       "  <tbody>\n",
       "    <tr>\n",
       "      <th>hdi</th>\n",
       "      <td>1.000000</td>\n",
       "      <td>-0.183555</td>\n",
       "      <td>0.187827</td>\n",
       "      <td>0.129007</td>\n",
       "      <td>0.278464</td>\n",
       "      <td>0.053446</td>\n",
       "    </tr>\n",
       "    <tr>\n",
       "      <th>agriculture</th>\n",
       "      <td>-0.183555</td>\n",
       "      <td>1.000000</td>\n",
       "      <td>-0.023319</td>\n",
       "      <td>0.113897</td>\n",
       "      <td>0.168232</td>\n",
       "      <td>0.037648</td>\n",
       "    </tr>\n",
       "    <tr>\n",
       "      <th>energy</th>\n",
       "      <td>0.187827</td>\n",
       "      <td>-0.023319</td>\n",
       "      <td>1.000000</td>\n",
       "      <td>0.127375</td>\n",
       "      <td>0.079025</td>\n",
       "      <td>0.078211</td>\n",
       "    </tr>\n",
       "    <tr>\n",
       "      <th>waste</th>\n",
       "      <td>0.129007</td>\n",
       "      <td>0.113897</td>\n",
       "      <td>0.127375</td>\n",
       "      <td>1.000000</td>\n",
       "      <td>0.047546</td>\n",
       "      <td>-0.020237</td>\n",
       "    </tr>\n",
       "    <tr>\n",
       "      <th>industrial</th>\n",
       "      <td>0.278464</td>\n",
       "      <td>0.168232</td>\n",
       "      <td>0.079025</td>\n",
       "      <td>0.047546</td>\n",
       "      <td>1.000000</td>\n",
       "      <td>0.274530</td>\n",
       "    </tr>\n",
       "    <tr>\n",
       "      <th>bunker fuels</th>\n",
       "      <td>0.053446</td>\n",
       "      <td>0.037648</td>\n",
       "      <td>0.078211</td>\n",
       "      <td>-0.020237</td>\n",
       "      <td>0.274530</td>\n",
       "      <td>1.000000</td>\n",
       "    </tr>\n",
       "  </tbody>\n",
       "</table>\n",
       "</div>"
      ],
      "text/plain": [
       "                   hdi  agriculture    energy     waste  industrial  \\\n",
       "hdi           1.000000    -0.183555  0.187827  0.129007    0.278464   \n",
       "agriculture  -0.183555     1.000000 -0.023319  0.113897    0.168232   \n",
       "energy        0.187827    -0.023319  1.000000  0.127375    0.079025   \n",
       "waste         0.129007     0.113897  0.127375  1.000000    0.047546   \n",
       "industrial    0.278464     0.168232  0.079025  0.047546    1.000000   \n",
       "bunker fuels  0.053446     0.037648  0.078211 -0.020237    0.274530   \n",
       "\n",
       "              bunker fuels  \n",
       "hdi               0.053446  \n",
       "agriculture       0.037648  \n",
       "energy            0.078211  \n",
       "waste            -0.020237  \n",
       "industrial        0.274530  \n",
       "bunker fuels      1.000000  "
      ]
     },
<<<<<<< Updated upstream
     "execution_count": 140,
=======
     "execution_count": 17,
>>>>>>> Stashed changes
     "metadata": {},
     "output_type": "execute_result"
    }
   ],
   "source": [
    "analysis_one.corr(method = 'spearman')"
   ]
  },
  {
   "cell_type": "code",
<<<<<<< Updated upstream
   "execution_count": 141,
=======
   "execution_count": 18,
>>>>>>> Stashed changes
   "metadata": {},
   "outputs": [
    {
     "data": {
      "text/plain": [
       "dtype('float64')"
      ]
     },
<<<<<<< Updated upstream
     "execution_count": 141,
=======
     "execution_count": 18,
>>>>>>> Stashed changes
     "metadata": {},
     "output_type": "execute_result"
    }
   ],
   "source": [
    "analysis_one.hdi.dtype"
   ]
  },
  {
   "cell_type": "code",
<<<<<<< Updated upstream
   "execution_count": 142,
=======
   "execution_count": 19,
>>>>>>> Stashed changes
   "metadata": {},
   "outputs": [
    {
     "data": {
      "image/png": "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\n",
      "text/plain": [
<<<<<<< Updated upstream
       "<Figure size 432x288 with 2 Axes>"
=======
       "<matplotlib.collections.PathCollection at 0x7ffea182f4f0>"
      ]
     },
     "execution_count": 19,
     "metadata": {},
     "output_type": "execute_result"
    },
    {
     "data": {
      "image/png": "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\n",
      "text/plain": [
       "<Figure size 432x288 with 1 Axes>"
>>>>>>> Stashed changes
      ]
     },
     "metadata": {
      "needs_background": "light"
     },
     "output_type": "display_data"
    }
   ],
   "source": [
    "sns.heatmap(analysis_one.corr(method = 'spearman'), center=0, cmap='coolwarm')\n",
    "plt.tight_layout()\n",
    "plt.show()"
   ]
  },
  {
<<<<<<< Updated upstream
   "cell_type": "markdown",
   "metadata": {},
=======
   "cell_type": "code",
   "execution_count": 20,
   "metadata": {},
   "outputs": [
    {
     "data": {
      "text/plain": [
       "<matplotlib.collections.PathCollection at 0x7ffea10591c0>"
      ]
     },
     "execution_count": 20,
     "metadata": {},
     "output_type": "execute_result"
    },
    {
     "data": {
      "image/png": "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\n",
      "text/plain": [
       "<Figure size 432x288 with 1 Axes>"
      ]
     },
     "metadata": {
      "needs_background": "light"
     },
     "output_type": "display_data"
    }
   ],
>>>>>>> Stashed changes
   "source": [
    "these results might not be very significant in themselves, but we'd like to at least try to construct a model based on this data (given the wealth of what we have, and that there is a known correlation *at the least* between hdi and ghg emissions per capita). along these lines, let's try creating a multivariate linear regression to predict hdi, since hdi is a continuous float from 0-1:"
   ]
  },
  {
   "cell_type": "code",
<<<<<<< Updated upstream
   "execution_count": 148,
   "metadata": {},
   "outputs": [
    {
     "name": "stdout",
     "output_type": "stream",
     "text": [
      "coefficients = [  6.86723421   7.08507715 -72.89289381  -1.8797825  288.46484019]\n",
      "r^2 = 0.06860448875673764\n"
     ]
=======
   "execution_count": 21,
   "metadata": {},
   "outputs": [
    {
     "data": {
      "text/plain": [
       "<matplotlib.collections.PathCollection at 0x7ffea177e9d0>"
      ]
     },
     "execution_count": 21,
     "metadata": {},
     "output_type": "execute_result"
    },
    {
     "data": {
      "image/png": "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\n",
      "text/plain": [
       "<Figure size 432x288 with 1 Axes>"
      ]
     },
     "metadata": {
      "needs_background": "light"
     },
     "output_type": "display_data"
>>>>>>> Stashed changes
    }
   ],
   "source": [
    "regression1 = LinearRegression().fit(analysis_one[{\"agriculture\", \"energy\", \"waste\", \"industrial\", \"bunker fuels\"}], analysis_one[\"hdi\"])\n",
    "print(\"coefficients = {}\".format(regression1.coef_))\n",
    "print(\"r^2 = {}\".format(regression1.score(analysis_one[{\"agriculture\", \"energy\", \"waste\", \"industrial\", \"bunker fuels\"}], analysis_one[\"hdi\"])))"
   ]
  },
  {
   "cell_type": "markdown",
   "metadata": {},
   "source": [
    "#### evaluation of significance\n",
    "\n",
    "already, this data doesn't seem particularly significant, but let's validate that with an evaluation of significance. for this, let's try bootstrapping our regression with n = 500 trials, to try and see how many slopes because of randomness could be more random than the one we got:"
   ]
  },
  {
   "cell_type": "code",
<<<<<<< Updated upstream
   "execution_count": 151,
   "metadata": {},
   "outputs": [
    {
     "name": "stdout",
     "output_type": "stream",
     "text": [
      "210 permuted slopes were of greater magnitude than the observed data.\n",
      "p-value implied: 0.42000\n"
     ]
=======
   "execution_count": 22,
   "metadata": {},
   "outputs": [
    {
     "data": {
      "text/plain": [
       "<matplotlib.collections.PathCollection at 0x7ffea113c070>"
      ]
     },
     "execution_count": 22,
     "metadata": {},
     "output_type": "execute_result"
    },
    {
     "data": {
      "image/png": "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\n",
      "text/plain": [
       "<Figure size 432x288 with 1 Axes>"
      ]
     },
     "metadata": {
      "needs_background": "light"
     },
     "output_type": "display_data"
>>>>>>> Stashed changes
    }
   ],
   "source": [
    "# creating the permutation method\n",
    "def permute(input_array):\n",
    "    # shuffle is inplace, so copy to preserve input\n",
    "    permuted = input_array.copy().values #convert to numpy array, avoiding warning\n",
    "    np.random.shuffle(permuted)\n",
    "    return pd.Series(permuted) # convert back to pandas\n",
    "\n",
    "count = 0\n",
    "\n",
    "for i in range(500):\n",
    "    permuted_model = LinearRegression().fit(analysis_one[{\"agriculture\", \"energy\", \"waste\", \"industrial\", \"bunker fuels\"}], permute(analysis_one[\"hdi\"]))\n",
    "    if(np.abs(permuted_model.coef_[0]) > np.abs(regression1.coef_[0])):\n",
    "        count += 1\n",
    "                                            \n",
    "print(\"{} permuted slopes were of greater magnitude than the observed data.\".format(count))\n",
    "                                            \n",
    "print(\"p-value implied: {:.5f}\".format(count / 500))"
   ]
  },
  {
   "cell_type": "markdown",
   "metadata": {},
   "source": [
    "that is... exactly what we thought? unfortunately, the implied value is much greater than most p-value cutoffs traditionally used (p = 0.1, p = 0.05, or p = 0.01); as a result, this data doesn't seem to be much better than could be done by random chance :("
   ]
  },
  {
   "cell_type": "markdown",
   "metadata": {},
   "source": [
    "#### interpretation and conclusions\n",
    "\n",
    "reflecting now (after completing the data analysis, and the evaluation of significance), it seems as if much of the prior data analysis isn't that significant. while we've found some (slightly) interesting trends, such as how ghg emissions are (somewhat) negatively correlated with hdi, we haven't found much else; the multivariate linear regression also did not return a statistically-significant slope. in this sense, i don't think that our results lined up with our initial expectations, that there would be a high correlation between hdi and certain industries' emissions; perhaps this is a quirk of our own analysis? it seems likely that climatewatch.org would be incentivized to publish such data if they proved significant connection between emissions and a countries \"developedness\": perhaps this sort of \"mangling\" of the data is how climate-change-related misinformation (and false statistics) spreads? \n",
    "\n",
    "\n",
    "#### limitations\n",
    "\n",
    "there are certainly many limitations to this data: at the very least, part of the scope of this analysis seems limited, since it's about *greenhouse gas emissions by industry* and not pointing directly at fashion itself. but, looking into the data itself, it seems like there could be limitations just based on scale (in megatons, or with population in thousands); given that some countries inevitably get rounded down (to ~ 0 emissions), it seems harder to create significant analyses. this is unsatisfying; however, we are unsure how this might otherwise be solved (since all data will come with this issue as well).\n",
    "\n",
    "#### acknowledgements\n",
    "\n",
    "we'd like to thank our ta, anna, for her constant support for this project, and for many early-rising tas showing up in rhodes to answer the questions we had! :)"
   ]
  },
  {
   "cell_type": "markdown",
   "metadata": {},
   "source": [
    "## analysis two"
   ]
  },
  {
   "cell_type": "code",
<<<<<<< Updated upstream
   "execution_count": null,
   "metadata": {},
   "outputs": [],
=======
   "execution_count": 23,
   "metadata": {},
   "outputs": [
    {
     "data": {
      "text/html": [
       "<div>\n",
       "<style scoped>\n",
       "    .dataframe tbody tr th:only-of-type {\n",
       "        vertical-align: middle;\n",
       "    }\n",
       "\n",
       "    .dataframe tbody tr th {\n",
       "        vertical-align: top;\n",
       "    }\n",
       "\n",
       "    .dataframe thead th {\n",
       "        text-align: right;\n",
       "    }\n",
       "</style>\n",
       "<table border=\"1\" class=\"dataframe\">\n",
       "  <thead>\n",
       "    <tr style=\"text-align: right;\">\n",
       "      <th></th>\n",
       "      <th>hdi</th>\n",
       "      <th>country</th>\n",
       "      <th>Cotton</th>\n",
       "      <th>Clothing</th>\n",
       "      <th>Garments</th>\n",
       "      <th>Textiles</th>\n",
       "    </tr>\n",
       "  </thead>\n",
       "  <tbody>\n",
       "    <tr>\n",
       "      <th>0</th>\n",
       "      <td>0.511</td>\n",
       "      <td>Afghanistan</td>\n",
       "      <td>NaN</td>\n",
       "      <td>NaN</td>\n",
       "      <td>NaN</td>\n",
       "      <td>2.0</td>\n",
       "    </tr>\n",
       "    <tr>\n",
       "      <th>1</th>\n",
       "      <td>0.795</td>\n",
       "      <td>Albania</td>\n",
       "      <td>NaN</td>\n",
       "      <td>2.0</td>\n",
       "      <td>NaN</td>\n",
       "      <td>NaN</td>\n",
       "    </tr>\n",
       "    <tr>\n",
       "      <th>2</th>\n",
       "      <td>0.748</td>\n",
       "      <td>Algeria</td>\n",
       "      <td>NaN</td>\n",
       "      <td>NaN</td>\n",
       "      <td>NaN</td>\n",
       "      <td>NaN</td>\n",
       "    </tr>\n",
       "    <tr>\n",
       "      <th>3</th>\n",
       "      <td>0.868</td>\n",
       "      <td>Andorra</td>\n",
       "      <td>NaN</td>\n",
       "      <td>NaN</td>\n",
       "      <td>NaN</td>\n",
       "      <td>NaN</td>\n",
       "    </tr>\n",
       "    <tr>\n",
       "      <th>4</th>\n",
       "      <td>0.581</td>\n",
       "      <td>Angola</td>\n",
       "      <td>NaN</td>\n",
       "      <td>NaN</td>\n",
       "      <td>NaN</td>\n",
       "      <td>5.0</td>\n",
       "    </tr>\n",
       "    <tr>\n",
       "      <th>...</th>\n",
       "      <td>...</td>\n",
       "      <td>...</td>\n",
       "      <td>...</td>\n",
       "      <td>...</td>\n",
       "      <td>...</td>\n",
       "      <td>...</td>\n",
       "    </tr>\n",
       "    <tr>\n",
       "      <th>202</th>\n",
       "      <td>0.538</td>\n",
       "      <td>Least Developed Countries</td>\n",
       "      <td>NaN</td>\n",
       "      <td>NaN</td>\n",
       "      <td>NaN</td>\n",
       "      <td>NaN</td>\n",
       "    </tr>\n",
       "    <tr>\n",
       "      <th>203</th>\n",
       "      <td>0.728</td>\n",
       "      <td>Small Island Developing States</td>\n",
       "      <td>NaN</td>\n",
       "      <td>NaN</td>\n",
       "      <td>NaN</td>\n",
       "      <td>NaN</td>\n",
       "    </tr>\n",
       "    <tr>\n",
       "      <th>204</th>\n",
       "      <td>0.900</td>\n",
       "      <td>Organization for Economic Co-operation and Dev...</td>\n",
       "      <td>NaN</td>\n",
       "      <td>NaN</td>\n",
       "      <td>NaN</td>\n",
       "      <td>NaN</td>\n",
       "    </tr>\n",
       "    <tr>\n",
       "      <th>205</th>\n",
       "      <td>0.737</td>\n",
       "      <td>World</td>\n",
       "      <td>NaN</td>\n",
       "      <td>NaN</td>\n",
       "      <td>NaN</td>\n",
       "      <td>NaN</td>\n",
       "    </tr>\n",
       "    <tr>\n",
       "      <th>206</th>\n",
       "      <td>NaN</td>\n",
       "      <td>NaN</td>\n",
       "      <td>NaN</td>\n",
       "      <td>NaN</td>\n",
       "      <td>NaN</td>\n",
       "      <td>NaN</td>\n",
       "    </tr>\n",
       "  </tbody>\n",
       "</table>\n",
       "<p>205 rows × 6 columns</p>\n",
       "</div>"
      ],
      "text/plain": [
       "       hdi                                            country  Cotton  \\\n",
       "0    0.511                                        Afghanistan     NaN   \n",
       "1    0.795                                            Albania     NaN   \n",
       "2    0.748                                            Algeria     NaN   \n",
       "3    0.868                                            Andorra     NaN   \n",
       "4    0.581                                             Angola     NaN   \n",
       "..     ...                                                ...     ...   \n",
       "202  0.538                          Least Developed Countries     NaN   \n",
       "203  0.728                     Small Island Developing States     NaN   \n",
       "204  0.900  Organization for Economic Co-operation and Dev...     NaN   \n",
       "205  0.737                                              World     NaN   \n",
       "206    NaN                                                NaN     NaN   \n",
       "\n",
       "     Clothing  Garments  Textiles  \n",
       "0         NaN       NaN       2.0  \n",
       "1         2.0       NaN       NaN  \n",
       "2         NaN       NaN       NaN  \n",
       "3         NaN       NaN       NaN  \n",
       "4         NaN       NaN       5.0  \n",
       "..        ...       ...       ...  \n",
       "202       NaN       NaN       NaN  \n",
       "203       NaN       NaN       NaN  \n",
       "204       NaN       NaN       NaN  \n",
       "205       NaN       NaN       NaN  \n",
       "206       NaN       NaN       NaN  \n",
       "\n",
       "[205 rows x 6 columns]"
      ]
     },
     "execution_count": 23,
     "metadata": {},
     "output_type": "execute_result"
    }
   ],
>>>>>>> Stashed changes
   "source": [
    "industry_data=pd.read_csv('CIA_industry_data.csv')\n",
    "industry_data=industry_data.rename(columns={'Country/Region': 'country'})\n",
    "industry_data=industry_data.drop(columns='Jute')\n",
    "industry_data.dtypes"
   ]
  },
  {
   "cell_type": "code",
   "execution_count": null,
   "metadata": {},
   "outputs": [],
   "source": [
    "industry_data.head()"
   ]
  },
  {
   "cell_type": "code",
<<<<<<< Updated upstream
   "execution_count": null,
   "metadata": {},
   "outputs": [],
   "source": [
    "analysis_two=hdi.merge(industry_data, how='left', on='country')\n",
    "# analysis_two = analysis_two.drop(['country'], axis = 1)"
   ]
  },
  {
   "cell_type": "code",
   "execution_count": null,
   "metadata": {},
   "outputs": [],
   "source": [
    "analysis_two[analysis_two.hdi.str.find('..')==0]"
   ]
  },
  {
   "cell_type": "code",
   "execution_count": null,
   "metadata": {},
   "outputs": [],
   "source": [
    "analysis_two=analysis_two.drop([189,195])\n",
    "analysis_two.hdi=analysis_two.hdi.astype(float)"
   ]
  },
  {
   "cell_type": "code",
   "execution_count": null,
   "metadata": {},
   "outputs": [],
   "source": [
    "sns.heatmap(analysis_two.corr(), cmap='coolwarm')\n",
    "plt.tight_layout()\n",
    "plt.show()"
   ]
  },
  {
   "cell_type": "code",
   "execution_count": null,
   "metadata": {},
   "outputs": [],
   "source": [
    "analysis_two.corr(method='pearson')"
   ]
  },
  {
   "cell_type": "code",
   "execution_count": null,
   "metadata": {},
   "outputs": [],
   "source": [
    "analysis_two.hdi.dtype"
   ]
  },
  {
   "cell_type": "code",
   "execution_count": null,
   "metadata": {},
   "outputs": [],
   "source": [
    "plt.scatter(analysis_two.Textiles, analysis_two.hdi)"
   ]
  },
  {
   "cell_type": "code",
   "execution_count": null,
   "metadata": {},
   "outputs": [],
   "source": [
    "plt.scatter(analysis_two.Cotton, analysis_two.hdi)"
   ]
  },
  {
   "cell_type": "code",
   "execution_count": null,
   "metadata": {},
   "outputs": [],
   "source": [
    "plt.scatter(analysis_two.Garments, analysis_two.hdi)"
   ]
  },
  {
   "cell_type": "code",
   "execution_count": null,
   "metadata": {},
   "outputs": [],
   "source": [
    "plt.scatter(analysis_two.Clothing, analysis_two.hdi)"
   ]
  },
  {
   "cell_type": "markdown",
   "metadata": {},
   "source": [
    "Here I'm merging the analysis_one dataframe that contains GHG emissions per sector ('countries','agriculture','energy','waste','industrial','bunker fuels') with the analysis_two df that contains the list of countries and their corresponding hdi and indexes regarding cotton, clothing, garments, and textiles."
   ]
  },
  {
   "cell_type": "code",
   "execution_count": null,
   "metadata": {},
   "outputs": [],
   "source": [
    "analysis_two"
   ]
  },
  {
   "cell_type": "markdown",
   "metadata": {},
   "source": [
    "In this cell, we are merging our analysis_two dataframe with the GHG emission dataframe and loading the merged data into a new dataframe labeled \"analysis_two_all\""
   ]
  },
  {
   "cell_type": "code",
   "execution_count": null,
   "metadata": {},
   "outputs": [],
=======
   "execution_count": 24,
   "metadata": {},
   "outputs": [
    {
     "data": {
      "text/html": [
       "<div>\n",
       "<style scoped>\n",
       "    .dataframe tbody tr th:only-of-type {\n",
       "        vertical-align: middle;\n",
       "    }\n",
       "\n",
       "    .dataframe tbody tr th {\n",
       "        vertical-align: top;\n",
       "    }\n",
       "\n",
       "    .dataframe thead th {\n",
       "        text-align: right;\n",
       "    }\n",
       "</style>\n",
       "<table border=\"1\" class=\"dataframe\">\n",
       "  <thead>\n",
       "    <tr style=\"text-align: right;\">\n",
       "      <th></th>\n",
       "      <th>country</th>\n",
       "      <th>agriculture</th>\n",
       "      <th>energy</th>\n",
       "      <th>waste</th>\n",
       "      <th>industrial</th>\n",
       "      <th>bunker fuels</th>\n",
       "      <th>hdi</th>\n",
       "      <th>Cotton</th>\n",
       "      <th>Clothing</th>\n",
       "      <th>Garments</th>\n",
       "      <th>Textiles</th>\n",
       "    </tr>\n",
       "  </thead>\n",
       "  <tbody>\n",
       "    <tr>\n",
       "      <th>0</th>\n",
       "      <td>Afghanistan</td>\n",
       "      <td>67.42</td>\n",
       "      <td>-4.08</td>\n",
       "      <td>-0.8</td>\n",
       "      <td>0.54</td>\n",
       "      <td>-1.3</td>\n",
       "      <td>0.511</td>\n",
       "      <td>NaN</td>\n",
       "      <td>NaN</td>\n",
       "      <td>NaN</td>\n",
       "      <td>2.0</td>\n",
       "    </tr>\n",
       "    <tr>\n",
       "      <th>1</th>\n",
       "      <td>Albania</td>\n",
       "      <td>2.17</td>\n",
       "      <td>0.68</td>\n",
       "      <td>0.95</td>\n",
       "      <td>0.05</td>\n",
       "      <td>-0.03</td>\n",
       "      <td>0.795</td>\n",
       "      <td>NaN</td>\n",
       "      <td>2.0</td>\n",
       "      <td>NaN</td>\n",
       "      <td>NaN</td>\n",
       "    </tr>\n",
       "    <tr>\n",
       "      <th>2</th>\n",
       "      <td>Algeria</td>\n",
       "      <td>58.44</td>\n",
       "      <td>-17.34</td>\n",
       "      <td>-0.39</td>\n",
       "      <td>5.61</td>\n",
       "      <td>0.56</td>\n",
       "      <td>0.748</td>\n",
       "      <td>NaN</td>\n",
       "      <td>NaN</td>\n",
       "      <td>NaN</td>\n",
       "      <td>NaN</td>\n",
       "    </tr>\n",
       "    <tr>\n",
       "      <th>3</th>\n",
       "      <td>Andorra</td>\n",
       "      <td>-0.05</td>\n",
       "      <td>0.15</td>\n",
       "      <td>0.08</td>\n",
       "      <td>0</td>\n",
       "      <td>0</td>\n",
       "      <td>0.868</td>\n",
       "      <td>NaN</td>\n",
       "      <td>NaN</td>\n",
       "      <td>NaN</td>\n",
       "      <td>NaN</td>\n",
       "    </tr>\n",
       "    <tr>\n",
       "      <th>4</th>\n",
       "      <td>Angola</td>\n",
       "      <td>1.2</td>\n",
       "      <td>64.3</td>\n",
       "      <td>-2.18</td>\n",
       "      <td>1.13</td>\n",
       "      <td>1.59</td>\n",
       "      <td>0.581</td>\n",
       "      <td>NaN</td>\n",
       "      <td>NaN</td>\n",
       "      <td>NaN</td>\n",
       "      <td>5.0</td>\n",
       "    </tr>\n",
       "    <tr>\n",
       "      <th>...</th>\n",
       "      <td>...</td>\n",
       "      <td>...</td>\n",
       "      <td>...</td>\n",
       "      <td>...</td>\n",
       "      <td>...</td>\n",
       "      <td>...</td>\n",
       "      <td>...</td>\n",
       "      <td>...</td>\n",
       "      <td>...</td>\n",
       "      <td>...</td>\n",
       "      <td>...</td>\n",
       "    </tr>\n",
       "    <tr>\n",
       "      <th>190</th>\n",
       "      <td>Venezuela</td>\n",
       "      <td>-67.4</td>\n",
       "      <td>44.14</td>\n",
       "      <td>0.62</td>\n",
       "      <td>6.66</td>\n",
       "      <td>1.41</td>\n",
       "      <td>NaN</td>\n",
       "      <td>NaN</td>\n",
       "      <td>NaN</td>\n",
       "      <td>NaN</td>\n",
       "      <td>NaN</td>\n",
       "    </tr>\n",
       "    <tr>\n",
       "      <th>191</th>\n",
       "      <td>Vietnam</td>\n",
       "      <td>126.44</td>\n",
       "      <td>126.77</td>\n",
       "      <td>1.21</td>\n",
       "      <td>3.64</td>\n",
       "      <td>-0.78</td>\n",
       "      <td>NaN</td>\n",
       "      <td>NaN</td>\n",
       "      <td>NaN</td>\n",
       "      <td>NaN</td>\n",
       "      <td>NaN</td>\n",
       "    </tr>\n",
       "    <tr>\n",
       "      <th>192</th>\n",
       "      <td>Yemen</td>\n",
       "      <td>-11.3</td>\n",
       "      <td>4.3</td>\n",
       "      <td>0.34</td>\n",
       "      <td>0.22</td>\n",
       "      <td>-0.03</td>\n",
       "      <td>0.470</td>\n",
       "      <td>2.0</td>\n",
       "      <td>NaN</td>\n",
       "      <td>NaN</td>\n",
       "      <td>2.0</td>\n",
       "    </tr>\n",
       "    <tr>\n",
       "      <th>193</th>\n",
       "      <td>Zambia</td>\n",
       "      <td>27.67</td>\n",
       "      <td>-5.72</td>\n",
       "      <td>0.52</td>\n",
       "      <td>0.89</td>\n",
       "      <td>0.63</td>\n",
       "      <td>0.584</td>\n",
       "      <td>NaN</td>\n",
       "      <td>NaN</td>\n",
       "      <td>NaN</td>\n",
       "      <td>7.0</td>\n",
       "    </tr>\n",
       "    <tr>\n",
       "      <th>194</th>\n",
       "      <td>Zimbabwe</td>\n",
       "      <td>83.42</td>\n",
       "      <td>4.39</td>\n",
       "      <td>0.78</td>\n",
       "      <td>2.39</td>\n",
       "      <td>1.06</td>\n",
       "      <td>0.571</td>\n",
       "      <td>NaN</td>\n",
       "      <td>7.0</td>\n",
       "      <td>NaN</td>\n",
       "      <td>NaN</td>\n",
       "    </tr>\n",
       "  </tbody>\n",
       "</table>\n",
       "<p>195 rows × 11 columns</p>\n",
       "</div>"
      ],
      "text/plain": [
       "         country agriculture  energy waste industrial bunker fuels    hdi  \\\n",
       "0    Afghanistan       67.42   -4.08  -0.8       0.54         -1.3  0.511   \n",
       "1        Albania        2.17    0.68  0.95       0.05        -0.03  0.795   \n",
       "2        Algeria       58.44  -17.34 -0.39       5.61         0.56  0.748   \n",
       "3        Andorra       -0.05    0.15  0.08          0            0  0.868   \n",
       "4         Angola         1.2    64.3 -2.18       1.13         1.59  0.581   \n",
       "..           ...         ...     ...   ...        ...          ...    ...   \n",
       "190    Venezuela       -67.4   44.14  0.62       6.66         1.41    NaN   \n",
       "191      Vietnam      126.44  126.77  1.21       3.64        -0.78    NaN   \n",
       "192        Yemen       -11.3     4.3  0.34       0.22        -0.03  0.470   \n",
       "193       Zambia       27.67   -5.72  0.52       0.89         0.63  0.584   \n",
       "194     Zimbabwe       83.42    4.39  0.78       2.39         1.06  0.571   \n",
       "\n",
       "     Cotton  Clothing  Garments  Textiles  \n",
       "0       NaN       NaN       NaN       2.0  \n",
       "1       NaN       2.0       NaN       NaN  \n",
       "2       NaN       NaN       NaN       NaN  \n",
       "3       NaN       NaN       NaN       NaN  \n",
       "4       NaN       NaN       NaN       5.0  \n",
       "..      ...       ...       ...       ...  \n",
       "190     NaN       NaN       NaN       NaN  \n",
       "191     NaN       NaN       NaN       NaN  \n",
       "192     2.0       NaN       NaN       2.0  \n",
       "193     NaN       NaN       NaN       7.0  \n",
       "194     NaN       7.0       NaN       NaN  \n",
       "\n",
       "[195 rows x 11 columns]"
      ]
     },
     "execution_count": 24,
     "metadata": {},
     "output_type": "execute_result"
    }
   ],
>>>>>>> Stashed changes
   "source": [
    "analysis_two_all = df_ghgchange.merge(analysis_two, how='left', on='country')\n",
    "analysis_two_all"
   ]
  },
  {
   "cell_type": "markdown",
   "metadata": {},
   "source": [
    "### Task List\n",
    "- 1) Create a scatterplot for each sector compared against the GHG emissions. - Completed.\n",
    "- 2) Cluster the data.\n",
    "- 3) Make histogram of each cluster of HDI (assuming the clusters relate to HDI.\n",
    "- 4) determine if there is a correlation between each cluster and a country's stage of developement."
   ]
  },
  {
   "cell_type": "markdown",
   "metadata": {},
   "source": [
    "These are scatterplots representing the different emission sectors in comparison to the Textile production index of each country (all data is taken from the analysis_two_all dataframe)"
   ]
  },
  {
   "cell_type": "code",
<<<<<<< Updated upstream
   "execution_count": null,
=======
   "execution_count": 25,
>>>>>>> Stashed changes
   "metadata": {},
   "outputs": [],
   "source": [
    "list = ['agriculture','energy','waste','industrial','bunker fuels']\n",
    "i = 0\n",
    "for i in list:\n",
    "    first_scatter = sns.scatterplot(x=analysis_two_all[i], y=analysis_two_all['Textiles'])\n",
    "    first_scatter.set_xlabel(i + ' emissions')\n",
    "    first_scatter.set_ylabel('Textiles Index')\n",
    "    plt.show()"
   ]
  },
  {
   "cell_type": "markdown",
   "metadata": {},
   "source": [
    "These are scatterplots representing the different emission sectors in comparison to the Cotton production index of each country. "
   ]
  },
  {
   "cell_type": "code",
<<<<<<< Updated upstream
   "execution_count": null,
=======
   "execution_count": 26,
>>>>>>> Stashed changes
   "metadata": {},
   "outputs": [],
   "source": [
    "for i in list:\n",
    "    first_scatter = sns.scatterplot(x=analysis_two_all[i], y=analysis_two_all['Cotton'])\n",
    "    first_scatter.set_xlabel(i + ' emissions')\n",
    "    first_scatter.set_ylabel('Cotton Index')\n",
    "    plt.show()"
   ]
  },
  {
   "cell_type": "markdown",
   "metadata": {},
   "source": [
    "These are scatterplots representing the different emission sectors in comparison to the Clothing production index of each country. "
   ]
  },
  {
   "cell_type": "code",
<<<<<<< Updated upstream
   "execution_count": null,
=======
   "execution_count": 27,
>>>>>>> Stashed changes
   "metadata": {},
   "outputs": [],
   "source": [
    "for i in list:\n",
    "    first_scatter = sns.scatterplot(x=analysis_two_all[i], y=analysis_two_all['Clothing'])\n",
    "    first_scatter.set_xlabel(i + ' emissions')\n",
    "    first_scatter.set_ylabel('Clothing Index')\n",
    "    plt.show()"
   ]
  },
  {
   "cell_type": "markdown",
   "metadata": {},
   "source": [
    "These are scatterplots representing the different emission sectors in comparison to the Garment production index of each country. "
   ]
  },
  {
   "cell_type": "code",
<<<<<<< Updated upstream
   "execution_count": null,
=======
   "execution_count": 28,
>>>>>>> Stashed changes
   "metadata": {},
   "outputs": [],
   "source": [
    "for i in list:\n",
    "    first_scatter = sns.scatterplot(x=analysis_two_all[i], y=analysis_two_all['Garments'])\n",
    "    first_scatter.set_xlabel(i + ' emissions')\n",
    "    first_scatter.set_ylabel('Garments Index')\n",
    "    plt.show()"
   ]
  },
  {
   "cell_type": "markdown",
   "metadata": {},
   "source": [
    "In this cell, we are clustering the data. "
   ]
  },
  {
   "cell_type": "code",
<<<<<<< Updated upstream
   "execution_count": null,
   "metadata": {},
   "outputs": [],
=======
   "execution_count": 29,
   "metadata": {},
   "outputs": [
    {
     "ename": "ValueError",
     "evalue": "Input contains NaN, infinity or a value too large for dtype('float64').",
     "output_type": "error",
     "traceback": [
      "\u001b[0;31m---------------------------------------------------------------------------\u001b[0m",
      "\u001b[0;31mValueError\u001b[0m                                Traceback (most recent call last)",
      "\u001b[0;32m<ipython-input-29-44a757bedbe1>\u001b[0m in \u001b[0;36m<module>\u001b[0;34m\u001b[0m\n\u001b[1;32m      1\u001b[0m \u001b[0mclustering\u001b[0m \u001b[0;34m=\u001b[0m \u001b[0mKMeans\u001b[0m\u001b[0;34m(\u001b[0m\u001b[0mn_clusters\u001b[0m \u001b[0;34m=\u001b[0m \u001b[0;36m3\u001b[0m\u001b[0;34m,\u001b[0m \u001b[0mrandom_state\u001b[0m \u001b[0;34m=\u001b[0m \u001b[0;36m15\u001b[0m\u001b[0;34m)\u001b[0m\u001b[0;34m\u001b[0m\u001b[0;34m\u001b[0m\u001b[0m\n\u001b[0;32m----> 2\u001b[0;31m \u001b[0mKM\u001b[0m \u001b[0;34m=\u001b[0m \u001b[0mclustering\u001b[0m\u001b[0;34m.\u001b[0m\u001b[0mfit\u001b[0m\u001b[0;34m(\u001b[0m\u001b[0manalysis_two_all\u001b[0m\u001b[0;34m[\u001b[0m\u001b[0;34m[\u001b[0m\u001b[0;34m\"agriculture\"\u001b[0m\u001b[0;34m,\u001b[0m \u001b[0;34m\"Textiles\"\u001b[0m\u001b[0;34m]\u001b[0m\u001b[0;34m]\u001b[0m\u001b[0;34m)\u001b[0m\u001b[0;34m\u001b[0m\u001b[0;34m\u001b[0m\u001b[0m\n\u001b[0m\u001b[1;32m      3\u001b[0m \u001b[0mKM\u001b[0m\u001b[0;34m.\u001b[0m\u001b[0mcluster_centers_\u001b[0m\u001b[0;34m\u001b[0m\u001b[0;34m\u001b[0m\u001b[0m\n\u001b[1;32m      4\u001b[0m \u001b[0;34m\u001b[0m\u001b[0m\n\u001b[1;32m      5\u001b[0m \u001b[0mcluster_labels\u001b[0m \u001b[0;34m=\u001b[0m \u001b[0mKM\u001b[0m\u001b[0;34m.\u001b[0m\u001b[0mlabels_\u001b[0m\u001b[0;34m\u001b[0m\u001b[0;34m\u001b[0m\u001b[0m\n",
      "\u001b[0;32m/Applications/anaconda3/lib/python3.8/site-packages/sklearn/cluster/_kmeans.py\u001b[0m in \u001b[0;36mfit\u001b[0;34m(self, X, y, sample_weight)\u001b[0m\n\u001b[1;32m   1028\u001b[0m             \u001b[0mFitted\u001b[0m \u001b[0mestimator\u001b[0m\u001b[0;34m.\u001b[0m\u001b[0;34m\u001b[0m\u001b[0;34m\u001b[0m\u001b[0m\n\u001b[1;32m   1029\u001b[0m         \"\"\"\n\u001b[0;32m-> 1030\u001b[0;31m         X = self._validate_data(X, accept_sparse='csr',\n\u001b[0m\u001b[1;32m   1031\u001b[0m                                 \u001b[0mdtype\u001b[0m\u001b[0;34m=\u001b[0m\u001b[0;34m[\u001b[0m\u001b[0mnp\u001b[0m\u001b[0;34m.\u001b[0m\u001b[0mfloat64\u001b[0m\u001b[0;34m,\u001b[0m \u001b[0mnp\u001b[0m\u001b[0;34m.\u001b[0m\u001b[0mfloat32\u001b[0m\u001b[0;34m]\u001b[0m\u001b[0;34m,\u001b[0m\u001b[0;34m\u001b[0m\u001b[0;34m\u001b[0m\u001b[0m\n\u001b[1;32m   1032\u001b[0m                                 \u001b[0morder\u001b[0m\u001b[0;34m=\u001b[0m\u001b[0;34m'C'\u001b[0m\u001b[0;34m,\u001b[0m \u001b[0mcopy\u001b[0m\u001b[0;34m=\u001b[0m\u001b[0mself\u001b[0m\u001b[0;34m.\u001b[0m\u001b[0mcopy_x\u001b[0m\u001b[0;34m,\u001b[0m\u001b[0;34m\u001b[0m\u001b[0;34m\u001b[0m\u001b[0m\n",
      "\u001b[0;32m/Applications/anaconda3/lib/python3.8/site-packages/sklearn/base.py\u001b[0m in \u001b[0;36m_validate_data\u001b[0;34m(self, X, y, reset, validate_separately, **check_params)\u001b[0m\n\u001b[1;32m    418\u001b[0m                     \u001b[0;34mf\"requires y to be passed, but the target y is None.\"\u001b[0m\u001b[0;34m\u001b[0m\u001b[0;34m\u001b[0m\u001b[0m\n\u001b[1;32m    419\u001b[0m                 )\n\u001b[0;32m--> 420\u001b[0;31m             \u001b[0mX\u001b[0m \u001b[0;34m=\u001b[0m \u001b[0mcheck_array\u001b[0m\u001b[0;34m(\u001b[0m\u001b[0mX\u001b[0m\u001b[0;34m,\u001b[0m \u001b[0;34m**\u001b[0m\u001b[0mcheck_params\u001b[0m\u001b[0;34m)\u001b[0m\u001b[0;34m\u001b[0m\u001b[0;34m\u001b[0m\u001b[0m\n\u001b[0m\u001b[1;32m    421\u001b[0m             \u001b[0mout\u001b[0m \u001b[0;34m=\u001b[0m \u001b[0mX\u001b[0m\u001b[0;34m\u001b[0m\u001b[0;34m\u001b[0m\u001b[0m\n\u001b[1;32m    422\u001b[0m         \u001b[0;32melse\u001b[0m\u001b[0;34m:\u001b[0m\u001b[0;34m\u001b[0m\u001b[0;34m\u001b[0m\u001b[0m\n",
      "\u001b[0;32m/Applications/anaconda3/lib/python3.8/site-packages/sklearn/utils/validation.py\u001b[0m in \u001b[0;36minner_f\u001b[0;34m(*args, **kwargs)\u001b[0m\n\u001b[1;32m     70\u001b[0m                           FutureWarning)\n\u001b[1;32m     71\u001b[0m         \u001b[0mkwargs\u001b[0m\u001b[0;34m.\u001b[0m\u001b[0mupdate\u001b[0m\u001b[0;34m(\u001b[0m\u001b[0;34m{\u001b[0m\u001b[0mk\u001b[0m\u001b[0;34m:\u001b[0m \u001b[0marg\u001b[0m \u001b[0;32mfor\u001b[0m \u001b[0mk\u001b[0m\u001b[0;34m,\u001b[0m \u001b[0marg\u001b[0m \u001b[0;32min\u001b[0m \u001b[0mzip\u001b[0m\u001b[0;34m(\u001b[0m\u001b[0msig\u001b[0m\u001b[0;34m.\u001b[0m\u001b[0mparameters\u001b[0m\u001b[0;34m,\u001b[0m \u001b[0margs\u001b[0m\u001b[0;34m)\u001b[0m\u001b[0;34m}\u001b[0m\u001b[0;34m)\u001b[0m\u001b[0;34m\u001b[0m\u001b[0;34m\u001b[0m\u001b[0m\n\u001b[0;32m---> 72\u001b[0;31m         \u001b[0;32mreturn\u001b[0m \u001b[0mf\u001b[0m\u001b[0;34m(\u001b[0m\u001b[0;34m**\u001b[0m\u001b[0mkwargs\u001b[0m\u001b[0;34m)\u001b[0m\u001b[0;34m\u001b[0m\u001b[0;34m\u001b[0m\u001b[0m\n\u001b[0m\u001b[1;32m     73\u001b[0m     \u001b[0;32mreturn\u001b[0m \u001b[0minner_f\u001b[0m\u001b[0;34m\u001b[0m\u001b[0;34m\u001b[0m\u001b[0m\n\u001b[1;32m     74\u001b[0m \u001b[0;34m\u001b[0m\u001b[0m\n",
      "\u001b[0;32m/Applications/anaconda3/lib/python3.8/site-packages/sklearn/utils/validation.py\u001b[0m in \u001b[0;36mcheck_array\u001b[0;34m(array, accept_sparse, accept_large_sparse, dtype, order, copy, force_all_finite, ensure_2d, allow_nd, ensure_min_samples, ensure_min_features, estimator)\u001b[0m\n\u001b[1;32m    642\u001b[0m \u001b[0;34m\u001b[0m\u001b[0m\n\u001b[1;32m    643\u001b[0m         \u001b[0;32mif\u001b[0m \u001b[0mforce_all_finite\u001b[0m\u001b[0;34m:\u001b[0m\u001b[0;34m\u001b[0m\u001b[0;34m\u001b[0m\u001b[0m\n\u001b[0;32m--> 644\u001b[0;31m             _assert_all_finite(array,\n\u001b[0m\u001b[1;32m    645\u001b[0m                                allow_nan=force_all_finite == 'allow-nan')\n\u001b[1;32m    646\u001b[0m \u001b[0;34m\u001b[0m\u001b[0m\n",
      "\u001b[0;32m/Applications/anaconda3/lib/python3.8/site-packages/sklearn/utils/validation.py\u001b[0m in \u001b[0;36m_assert_all_finite\u001b[0;34m(X, allow_nan, msg_dtype)\u001b[0m\n\u001b[1;32m     94\u001b[0m                 not allow_nan and not np.isfinite(X).all()):\n\u001b[1;32m     95\u001b[0m             \u001b[0mtype_err\u001b[0m \u001b[0;34m=\u001b[0m \u001b[0;34m'infinity'\u001b[0m \u001b[0;32mif\u001b[0m \u001b[0mallow_nan\u001b[0m \u001b[0;32melse\u001b[0m \u001b[0;34m'NaN, infinity'\u001b[0m\u001b[0;34m\u001b[0m\u001b[0;34m\u001b[0m\u001b[0m\n\u001b[0;32m---> 96\u001b[0;31m             raise ValueError(\n\u001b[0m\u001b[1;32m     97\u001b[0m                     \u001b[0mmsg_err\u001b[0m\u001b[0;34m.\u001b[0m\u001b[0mformat\u001b[0m\u001b[0;34m\u001b[0m\u001b[0;34m\u001b[0m\u001b[0m\n\u001b[1;32m     98\u001b[0m                     (type_err,\n",
      "\u001b[0;31mValueError\u001b[0m: Input contains NaN, infinity or a value too large for dtype('float64')."
     ]
    }
   ],
>>>>>>> Stashed changes
   "source": [
    "clustering = KMeans(n_clusters = 3, random_state = 15)\n",
    "KM = clustering.fit(analysis_two_all[[\"agriculture\", \"Textiles\"]])\n",
    "KM.cluster_centers_\n",
    "\n",
    "cluster_labels = KM.labels_\n",
    "print(cluster_labels[:5])\n",
    "analysis_two_all[\"cluster_label\"] = cluster_labels\n",
    "analysis_two_all.head()\n",
    "\n",
    "\n",
    "\n",
    "\n",
    "\n",
    "\n",
    "\n",
    "\n",
    "#for i in list: \n",
    "#    KM = clustering.fit(analysis_two_all[[i, \"Textiles\"]])\n",
    "#    KM.cluster_centers_\n",
    " #   sns.relplot(x=analysis_two_all[i], y = \"Textiles\", style = \"cluster_label\", s = 80, alpha=.6, data = analysis_two_all)"
   ]
  },
  {
   "cell_type": "code",
   "execution_count": null,
   "metadata": {},
   "outputs": [],
   "source": [
    "sns.relplot(x=\"bill_length_mm\", y = \"flipper_length_mm\", style = \"cluster_label\", s = 80, hue = \"species\", alpha=.6, data = analysis_two_all)"
   ]
  }
 ],
 "metadata": {
  "kernelspec": {
   "display_name": "Python 3",
   "language": "python",
   "name": "python3"
  },
  "language_info": {
   "codemirror_mode": {
    "name": "ipython",
    "version": 3
   },
   "file_extension": ".py",
   "mimetype": "text/x-python",
   "name": "python",
   "nbconvert_exporter": "python",
   "pygments_lexer": "ipython3",
   "version": "3.8.5"
  }
 },
 "nbformat": 4,
 "nbformat_minor": 4
}
