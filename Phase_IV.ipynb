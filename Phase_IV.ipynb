{
 "cells": [
  {
   "cell_type": "markdown",
   "metadata": {},
   "source": [
    "# project phase iv: on fashion & climate change\n",
    "\n",
    "project contributors: jillian beck (jlb574), diane lee (ddl58), alex panovka (amp343), jonathan yun (jly37)\n",
    "\n",
    "-----"
   ]
  },
  {
   "cell_type": "markdown",
   "metadata": {},
   "source": [
    "## introduction\n",
    "\n",
    "[add intro text here]\n",
    "\n",
    "-----"
   ]
  },
  {
   "cell_type": "markdown",
   "metadata": {},
   "source": [
    "## data description\n",
    "\n",
    "#### motivation\n",
    "\n",
    "#### composition\n",
    "\n",
    "#### collection process\n",
    "\n",
    "#### postprocessing / cleaning / labelling\n",
    "\n",
    "-----"
   ]
  },
  {
   "cell_type": "markdown",
   "metadata": {},
   "source": [
    "## preregistration statement\n",
    "\n",
    "here are the following analyses we promised to conduct in project phase iii:\n",
    "\n",
    "#### Analysis One:\n",
    "- Goal: Analyze correlation between HDI (human development index) and GHG emissions per economic sector (i.e. Manufacturing, bunker fuel, etc)\n",
    "\n",
    "- How we’re going to do it: We are going to make a new data frame. It will have these twelve columns: [Country, HDI from 2019,  average annual GHG emissions for each economic sector between 2014-2019 ( 5 columns), average annual change in GHG emissions for each economic sector between 2014-2019 (another 5 columns)]. We will then make a heatmap of the spearman correlation between each variable in the data frame. The reason we use spearman is because we care more about a country's relative HDI and GHG compared to other countries rather than what the actual values are. We will pay specific attention to the correlation between HDI and annual GHG emissions. This will represent five cells in the heat map, each cell being a correlation between emissions from a single sector and HDI. We will also check to see any strong correlations between other variables, such as HDI and change in emissions, and correlation between emissions in separate sectors. With these correlations we will be able to make statements about the relationship between the variables in this dataframe. \n",
    "\n",
    "- What we expect to find: We expect that there will be a strong positive correlation between HDI and GHG emissions suggesting that developed countries release more greenhouse gases. Conversely, we expect a strong negative correlation between HDI and change in GHG emissions suggesting that less developed countries are where most of the industrial growth is occurring. When looking at sectors specifically, we expect a slight negative correlation between HDI and GHG emissions from bunker fuel since developing countries often export their goods to developed countries. Finally we expect a high correlation between emissions from each sector, suggesting that countries that have high emissions in one sector also have high emissions in other sectors. Scatter plots of the data, done outside of this analysis, will allow us to see more specific relationships between sectors by country. The information we will gather from this analysis does not directly pertain to the fashion industry, but the knowledge it gives us about the relationship between development and emissions will help us understand if the relationship between development and environmental impact from fashion has unique characteristics.  \n",
    "\n",
    "#### Analysis Two\n",
    "\n",
    "- Goal: Examine the relationship between HDI and the importance of the fashion industry in a country’s economy. \n",
    "\n",
    "- How we’re going to do it: We are going to make a new data frame with these columns: [Country, HDI, cotton, clothing, garments, textiles]. The HDI column will be downloaded from the United Nations Development Programme, and we will just use the most recent year. Cotton, clothing, garment, and textiles will have data taken from the industries list from the CIA factbook. This page shows the top industries by annual output for every country, and we are looking at industries that are just related to fashion. In the data frame these columns will house values representing what rank that industry has in that country. For instance, textiles is fourth in the list of industries in Argentina, so the textiles value for Argentina will be 4. First we will find the correlation between HDI and fashion industries ranking. Next we will merge this data with the data relating to emissions from analysis one. We will create multiple scatter plots of industry rank versus emissions and change in emissions, with different emissions sectors for each plot, and then cluster the data. We expect the clusters to relate to HDI, so we will then make histograms of the HDI per cluster and determine if the clusters correspond to a country’s stage of development. \n",
    "\n",
    "- What we expect to find: We expect to find a negative correlation between HDI and the importance of fashion in a country’s economy. Based on our knowledge that most clothing is manufactured in developing countries, we expect developing countries to rely more on the fashion industry for their economies than developed countries. Across the scatter plots we expect to see clusters of high HDI countries where importance of fashion is low, and change in emissions is low, and where importance of fashion is low, but absolute emissions are high. For low HDI countries, we expect clusters where importance of fashion is high and change in emissions is high, and where importance of fashion is high and emissions are medium to low. Our data does not take into account the size of each country, so the clusters in the annual emissions plots might represent country size, but we expect the clusters in the scatter plots of change in emissions to definitely represent development. With this information we will be able to determine if less developed countries bear a greater burden from the fashion industry than developed countries. \n",
    "\n",
    "-----"
   ]
  },
  {
   "cell_type": "markdown",
   "metadata": {},
   "source": [
    "## analysis one\n",
    "\n",
    "in this analysis, we will analyze correlation between HDI (human development index) and GHG emissions per economic sector (i.e. manufacturing, bunker fuel, etc)."
   ]
  },
  {
   "cell_type": "code",
   "execution_count": 1,
   "metadata": {},
   "outputs": [],
   "source": [
    "## load libraries\n",
    "\n",
    "## our old friends...\n",
    "import numpy as np\n",
    "import pandas as pd\n",
    "import matplotlib.pyplot as plt\n",
    "\n",
    "## ...and some new ones...\n",
    "import seaborn as sns\n",
    "from sklearn.cluster import KMeans\n",
    "\n",
    "## ..and a most new friend\n",
    "from sklearn.linear_model import LinearRegression\n",
    "\n",
    "## load CSVs\n",
    "agriculture=pd.read_csv('agriculture.csv', na_values={'false','False','FALSE'})\n",
    "energy=pd.read_csv('energy.csv',  na_values={'false','False','FALSE'})\n",
    "waste=pd.read_csv('waste.csv',   na_values={'false','False','FALSE'})\n",
    "industrial=pd.read_csv('industrial-processes.csv',  na_values={'false','False','FALSE'})\n",
    "bunker_fuels=pd.read_csv('bunker-fuels.csv',  na_values={'false','False','FALSE'})"
   ]
  },
  {
   "cell_type": "code",
   "execution_count": 2,
   "metadata": {},
   "outputs": [],
   "source": [
    "## load HDI data\n",
    "hdi = pd.read_csv('Human Development Index (HDI)-2.csv', header = 5)\n",
    "cols = {'Country', '2019'} # subset to just keep 2019 hdis\n",
    "hdi = hdi[cols] # keeping only relevant data\n",
    "\n",
    "hdi['Country'] = hdi['Country'].str.strip(' ')\n",
    "\n",
    "hdi = hdi.rename(columns={'Country': 'country', '2019': 'hdi'})"
   ]
  },
  {
   "cell_type": "markdown",
   "metadata": {},
   "source": [
    "#### data analysis\n",
    "\n",
    "first, let's see a little bit more about the hdi data, and then prepare it for merger with the ghg emissions datasets:"
   ]
  },
  {
   "cell_type": "code",
   "execution_count": 3,
   "metadata": {},
   "outputs": [
    {
     "data": {
      "text/html": [
       "<div>\n",
       "<style scoped>\n",
       "    .dataframe tbody tr th:only-of-type {\n",
       "        vertical-align: middle;\n",
       "    }\n",
       "\n",
       "    .dataframe tbody tr th {\n",
       "        vertical-align: top;\n",
       "    }\n",
       "\n",
       "    .dataframe thead th {\n",
       "        text-align: right;\n",
       "    }\n",
       "</style>\n",
       "<table border=\"1\" class=\"dataframe\">\n",
       "  <thead>\n",
       "    <tr style=\"text-align: right;\">\n",
       "      <th></th>\n",
       "      <th>hdi</th>\n",
       "      <th>country</th>\n",
       "    </tr>\n",
       "  </thead>\n",
       "  <tbody>\n",
       "    <tr>\n",
       "      <th>0</th>\n",
       "      <td>0.511</td>\n",
       "      <td>Afghanistan</td>\n",
       "    </tr>\n",
       "    <tr>\n",
       "      <th>1</th>\n",
       "      <td>0.795</td>\n",
       "      <td>Albania</td>\n",
       "    </tr>\n",
       "    <tr>\n",
       "      <th>2</th>\n",
       "      <td>0.748</td>\n",
       "      <td>Algeria</td>\n",
       "    </tr>\n",
       "    <tr>\n",
       "      <th>3</th>\n",
       "      <td>0.868</td>\n",
       "      <td>Andorra</td>\n",
       "    </tr>\n",
       "    <tr>\n",
       "      <th>4</th>\n",
       "      <td>0.581</td>\n",
       "      <td>Angola</td>\n",
       "    </tr>\n",
       "  </tbody>\n",
       "</table>\n",
       "</div>"
      ],
      "text/plain": [
       "     hdi      country\n",
       "0  0.511  Afghanistan\n",
       "1  0.795      Albania\n",
       "2  0.748      Algeria\n",
       "3  0.868      Andorra\n",
       "4  0.581       Angola"
      ]
     },
     "execution_count": 3,
     "metadata": {},
     "output_type": "execute_result"
    }
   ],
   "source": [
    "hdi.head()"
   ]
  },
  {
   "cell_type": "code",
   "execution_count": 4,
   "metadata": {},
   "outputs": [],
   "source": [
    "agriculture = agriculture.sort_values('Country/Region')\n",
    "energy = energy.sort_values('Country/Region')\n",
    "waste = waste.sort_values('Country/Region')\n",
    "industrial = industrial.sort_values('Country/Region')\n",
    "bunker_fuels = bunker_fuels.sort_values('Country/Region')\n",
    "\n",
    "ag_ghgchange = (agriculture['2018']-agriculture['2008'])\n",
    "energy_ghgchange = (energy['2018']-energy['2008'])\n",
    "waste_ghgchange = (waste['2018']-waste['2008'])\n",
    "industrial_ghgchange = (industrial['2008']-industrial['1998'])\n",
    "bunker_ghgchange = (bunker_fuels['2008']-bunker_fuels['1998'])"
   ]
  },
  {
   "cell_type": "markdown",
   "metadata": {},
   "source": [
    "great! we've sorted, subtracted and prepared our datasets for analysis. let's merge them all together into one dataset about ghg emissions, per country, per industry:"
   ]
  },
  {
   "cell_type": "code",
   "execution_count": 5,
   "metadata": {},
   "outputs": [
    {
     "data": {
      "text/html": [
       "<div>\n",
       "<style scoped>\n",
       "    .dataframe tbody tr th:only-of-type {\n",
       "        vertical-align: middle;\n",
       "    }\n",
       "\n",
       "    .dataframe tbody tr th {\n",
       "        vertical-align: top;\n",
       "    }\n",
       "\n",
       "    .dataframe thead th {\n",
       "        text-align: right;\n",
       "    }\n",
       "</style>\n",
       "<table border=\"1\" class=\"dataframe\">\n",
       "  <thead>\n",
       "    <tr style=\"text-align: right;\">\n",
       "      <th></th>\n",
       "      <th>country</th>\n",
       "      <th>agriculture</th>\n",
       "      <th>energy</th>\n",
       "      <th>waste</th>\n",
       "      <th>industrial</th>\n",
       "      <th>bunker fuels</th>\n",
       "    </tr>\n",
       "  </thead>\n",
       "  <tbody>\n",
       "    <tr>\n",
       "      <th>57</th>\n",
       "      <td>Afghanistan</td>\n",
       "      <td>67.42</td>\n",
       "      <td>-4.08</td>\n",
       "      <td>-0.8</td>\n",
       "      <td>0.54</td>\n",
       "      <td>-1.3</td>\n",
       "    </tr>\n",
       "    <tr>\n",
       "      <th>145</th>\n",
       "      <td>Albania</td>\n",
       "      <td>2.17</td>\n",
       "      <td>0.68</td>\n",
       "      <td>0.95</td>\n",
       "      <td>0.05</td>\n",
       "      <td>-0.03</td>\n",
       "    </tr>\n",
       "    <tr>\n",
       "      <th>38</th>\n",
       "      <td>Algeria</td>\n",
       "      <td>58.44</td>\n",
       "      <td>-17.34</td>\n",
       "      <td>-0.39</td>\n",
       "      <td>5.61</td>\n",
       "      <td>0.56</td>\n",
       "    </tr>\n",
       "    <tr>\n",
       "      <th>177</th>\n",
       "      <td>Andorra</td>\n",
       "      <td>-0.05</td>\n",
       "      <td>0.15</td>\n",
       "      <td>0.08</td>\n",
       "      <td>0</td>\n",
       "      <td>0</td>\n",
       "    </tr>\n",
       "    <tr>\n",
       "      <th>47</th>\n",
       "      <td>Angola</td>\n",
       "      <td>1.2</td>\n",
       "      <td>64.3</td>\n",
       "      <td>-2.18</td>\n",
       "      <td>1.13</td>\n",
       "      <td>1.59</td>\n",
       "    </tr>\n",
       "    <tr>\n",
       "      <th>...</th>\n",
       "      <td>...</td>\n",
       "      <td>...</td>\n",
       "      <td>...</td>\n",
       "      <td>...</td>\n",
       "      <td>...</td>\n",
       "      <td>...</td>\n",
       "    </tr>\n",
       "    <tr>\n",
       "      <th>29</th>\n",
       "      <td>Venezuela</td>\n",
       "      <td>-67.4</td>\n",
       "      <td>44.14</td>\n",
       "      <td>0.62</td>\n",
       "      <td>6.66</td>\n",
       "      <td>1.41</td>\n",
       "    </tr>\n",
       "    <tr>\n",
       "      <th>23</th>\n",
       "      <td>Vietnam</td>\n",
       "      <td>126.44</td>\n",
       "      <td>126.77</td>\n",
       "      <td>1.21</td>\n",
       "      <td>3.64</td>\n",
       "      <td>-0.78</td>\n",
       "    </tr>\n",
       "    <tr>\n",
       "      <th>122</th>\n",
       "      <td>Yemen</td>\n",
       "      <td>-11.3</td>\n",
       "      <td>4.3</td>\n",
       "      <td>0.34</td>\n",
       "      <td>0.22</td>\n",
       "      <td>-0.03</td>\n",
       "    </tr>\n",
       "    <tr>\n",
       "      <th>59</th>\n",
       "      <td>Zambia</td>\n",
       "      <td>27.67</td>\n",
       "      <td>-5.72</td>\n",
       "      <td>0.52</td>\n",
       "      <td>0.89</td>\n",
       "      <td>0.63</td>\n",
       "    </tr>\n",
       "    <tr>\n",
       "      <th>49</th>\n",
       "      <td>Zimbabwe</td>\n",
       "      <td>83.42</td>\n",
       "      <td>4.39</td>\n",
       "      <td>0.78</td>\n",
       "      <td>2.39</td>\n",
       "      <td>1.06</td>\n",
       "    </tr>\n",
       "  </tbody>\n",
       "</table>\n",
       "<p>195 rows × 6 columns</p>\n",
       "</div>"
      ],
      "text/plain": [
       "         country agriculture  energy waste industrial bunker fuels\n",
       "57   Afghanistan       67.42   -4.08  -0.8       0.54         -1.3\n",
       "145      Albania        2.17    0.68  0.95       0.05        -0.03\n",
       "38       Algeria       58.44  -17.34 -0.39       5.61         0.56\n",
       "177      Andorra       -0.05    0.15  0.08          0            0\n",
       "47        Angola         1.2    64.3 -2.18       1.13         1.59\n",
       "..           ...         ...     ...   ...        ...          ...\n",
       "29     Venezuela       -67.4   44.14  0.62       6.66         1.41\n",
       "23       Vietnam      126.44  126.77  1.21       3.64        -0.78\n",
       "122        Yemen       -11.3     4.3  0.34       0.22        -0.03\n",
       "59        Zambia       27.67   -5.72  0.52       0.89         0.63\n",
       "49      Zimbabwe       83.42    4.39  0.78       2.39         1.06\n",
       "\n",
       "[195 rows x 6 columns]"
      ]
     },
     "execution_count": 5,
     "metadata": {},
     "output_type": "execute_result"
    }
   ],
   "source": [
    "data_ghgchange = {'country': agriculture['Country/Region'].str.strip(' '), 'agriculture': ag_ghgchange, 'energy': energy_ghgchange,\n",
    "                  'waste': waste_ghgchange, 'industrial': industrial_ghgchange, 'bunker fuels': bunker_ghgchange}\n",
    "df_ghgchange = pd.DataFrame.from_dict(data_ghgchange, orient = 'index')\n",
    "df_ghgchange = df_ghgchange.transpose()\n",
    "\n",
    "df_ghgchange"
   ]
  },
  {
   "cell_type": "markdown",
   "metadata": {},
   "source": [
    "let's also run some summary statistics on this:"
   ]
  },
  {
   "cell_type": "code",
   "execution_count": 6,
   "metadata": {},
   "outputs": [
    {
     "name": "stdout",
     "output_type": "stream",
     "text": [
      "        country  agriculture  energy  waste  industrial  bunker fuels\n",
      "count       195       193.00  193.00  191.0       191.0         175.0\n",
      "unique      195       191.00  187.00  150.0       147.0         139.0\n",
      "top     Lebanon         0.03    0.68    0.0         0.0           0.0\n",
      "freq          1         2.00    2.00   12.0        15.0          20.0\n",
      "country         object\n",
      "agriculture     object\n",
      "energy          object\n",
      "waste           object\n",
      "industrial      object\n",
      "bunker fuels    object\n",
      "dtype: object\n"
     ]
    }
   ],
   "source": [
    "print(df_ghgchange.describe())\n",
    "\n",
    "print(df_ghgchange.dtypes)"
   ]
  },
  {
   "cell_type": "markdown",
   "metadata": {},
   "source": [
    "ok, our climate change emissions data (in megatons) should probably be numeric... let's do that, and then run summary statistics on it:"
   ]
  },
  {
   "cell_type": "code",
   "execution_count": 7,
   "metadata": {},
   "outputs": [
    {
     "data": {
      "text/html": [
       "<div>\n",
       "<style scoped>\n",
       "    .dataframe tbody tr th:only-of-type {\n",
       "        vertical-align: middle;\n",
       "    }\n",
       "\n",
       "    .dataframe tbody tr th {\n",
       "        vertical-align: top;\n",
       "    }\n",
       "\n",
       "    .dataframe thead th {\n",
       "        text-align: right;\n",
       "    }\n",
       "</style>\n",
       "<table border=\"1\" class=\"dataframe\">\n",
       "  <thead>\n",
       "    <tr style=\"text-align: right;\">\n",
       "      <th></th>\n",
       "      <th>agriculture</th>\n",
       "      <th>industrial</th>\n",
       "      <th>bunker fuels</th>\n",
       "      <th>energy</th>\n",
       "      <th>waste</th>\n",
       "    </tr>\n",
       "  </thead>\n",
       "  <tbody>\n",
       "    <tr>\n",
       "      <th>count</th>\n",
       "      <td>193.000000</td>\n",
       "      <td>191.000000</td>\n",
       "      <td>175.000000</td>\n",
       "      <td>193.000000</td>\n",
       "      <td>191.000000</td>\n",
       "    </tr>\n",
       "    <tr>\n",
       "      <th>mean</th>\n",
       "      <td>29.479896</td>\n",
       "      <td>3.758848</td>\n",
       "      <td>1.664286</td>\n",
       "      <td>22.548031</td>\n",
       "      <td>0.837068</td>\n",
       "    </tr>\n",
       "    <tr>\n",
       "      <th>std</th>\n",
       "      <td>259.370847</td>\n",
       "      <td>34.781706</td>\n",
       "      <td>5.954713</td>\n",
       "      <td>239.662242</td>\n",
       "      <td>5.387391</td>\n",
       "    </tr>\n",
       "    <tr>\n",
       "      <th>min</th>\n",
       "      <td>-610.260000</td>\n",
       "      <td>-28.900000</td>\n",
       "      <td>-3.840000</td>\n",
       "      <td>-612.040000</td>\n",
       "      <td>-19.850000</td>\n",
       "    </tr>\n",
       "    <tr>\n",
       "      <th>25%</th>\n",
       "      <td>-0.610000</td>\n",
       "      <td>0.020000</td>\n",
       "      <td>0.000000</td>\n",
       "      <td>-1.240000</td>\n",
       "      <td>0.010000</td>\n",
       "    </tr>\n",
       "    <tr>\n",
       "      <th>50%</th>\n",
       "      <td>1.830000</td>\n",
       "      <td>0.250000</td>\n",
       "      <td>0.120000</td>\n",
       "      <td>0.640000</td>\n",
       "      <td>0.150000</td>\n",
       "    </tr>\n",
       "    <tr>\n",
       "      <th>75%</th>\n",
       "      <td>14.970000</td>\n",
       "      <td>1.120000</td>\n",
       "      <td>0.770000</td>\n",
       "      <td>7.050000</td>\n",
       "      <td>0.845000</td>\n",
       "    </tr>\n",
       "    <tr>\n",
       "      <th>max</th>\n",
       "      <td>3250.160000</td>\n",
       "      <td>476.610000</td>\n",
       "      <td>62.290000</td>\n",
       "      <td>3095.940000</td>\n",
       "      <td>57.180000</td>\n",
       "    </tr>\n",
       "  </tbody>\n",
       "</table>\n",
       "</div>"
      ],
      "text/plain": [
       "       agriculture  industrial  bunker fuels       energy       waste\n",
       "count   193.000000  191.000000    175.000000   193.000000  191.000000\n",
       "mean     29.479896    3.758848      1.664286    22.548031    0.837068\n",
       "std     259.370847   34.781706      5.954713   239.662242    5.387391\n",
       "min    -610.260000  -28.900000     -3.840000  -612.040000  -19.850000\n",
       "25%      -0.610000    0.020000      0.000000    -1.240000    0.010000\n",
       "50%       1.830000    0.250000      0.120000     0.640000    0.150000\n",
       "75%      14.970000    1.120000      0.770000     7.050000    0.845000\n",
       "max    3250.160000  476.610000     62.290000  3095.940000   57.180000"
      ]
     },
     "execution_count": 7,
     "metadata": {},
     "output_type": "execute_result"
    }
   ],
   "source": [
    "df_ghgchange[\"agriculture\"] = df_ghgchange[\"agriculture\"].astype(float)\n",
    "df_ghgchange[\"energy\"] = df_ghgchange[\"energy\"].astype(float)\n",
    "df_ghgchange[\"waste\"] = df_ghgchange[\"waste\"].astype(float)\n",
    "df_ghgchange[\"industrial\"] = df_ghgchange[\"industrial\"].astype(float)\n",
    "df_ghgchange[\"bunker fuels\"] = df_ghgchange[\"bunker fuels\"].astype(float)\n",
    "\n",
    "df_ghgchange[{\"agriculture\", \"energy\", \"waste\", \"industrial\", \"bunker fuels\"}].describe()"
   ]
  },
  {
   "cell_type": "markdown",
   "metadata": {},
   "source": [
    "this data mostly makes sense (aside from some negative ghg emissions, which appear to be outliers), but also does not appear to be very comparable (since some countries might have 3250 megatons of co2-equivalent emissions solely based on size, and others might have almost 0 megatons as a small nation). let's standardize on the basis of population, using population data:"
   ]
  },
  {
   "cell_type": "code",
   "execution_count": 8,
   "metadata": {},
   "outputs": [
    {
     "data": {
      "text/html": [
       "<div>\n",
       "<style scoped>\n",
       "    .dataframe tbody tr th:only-of-type {\n",
       "        vertical-align: middle;\n",
       "    }\n",
       "\n",
       "    .dataframe tbody tr th {\n",
       "        vertical-align: top;\n",
       "    }\n",
       "\n",
       "    .dataframe thead th {\n",
       "        text-align: right;\n",
       "    }\n",
       "</style>\n",
       "<table border=\"1\" class=\"dataframe\">\n",
       "  <thead>\n",
       "    <tr style=\"text-align: right;\">\n",
       "      <th></th>\n",
       "      <th>country</th>\n",
       "      <th>agriculture</th>\n",
       "      <th>energy</th>\n",
       "      <th>waste</th>\n",
       "      <th>industrial</th>\n",
       "      <th>bunker fuels</th>\n",
       "      <th>Time</th>\n",
       "      <th>PopTotal</th>\n",
       "    </tr>\n",
       "  </thead>\n",
       "  <tbody>\n",
       "    <tr>\n",
       "      <th>0</th>\n",
       "      <td>Afghanistan</td>\n",
       "      <td>0.001772</td>\n",
       "      <td>-0.000107</td>\n",
       "      <td>-0.000021</td>\n",
       "      <td>0.000014</td>\n",
       "      <td>-0.000034</td>\n",
       "      <td>2019</td>\n",
       "      <td>38041.757</td>\n",
       "    </tr>\n",
       "    <tr>\n",
       "      <th>1</th>\n",
       "      <td>Albania</td>\n",
       "      <td>0.000753</td>\n",
       "      <td>0.000236</td>\n",
       "      <td>0.000330</td>\n",
       "      <td>0.000017</td>\n",
       "      <td>-0.000010</td>\n",
       "      <td>2019</td>\n",
       "      <td>2880.913</td>\n",
       "    </tr>\n",
       "    <tr>\n",
       "      <th>2</th>\n",
       "      <td>Algeria</td>\n",
       "      <td>0.001357</td>\n",
       "      <td>-0.000403</td>\n",
       "      <td>-0.000009</td>\n",
       "      <td>0.000130</td>\n",
       "      <td>0.000013</td>\n",
       "      <td>2019</td>\n",
       "      <td>43053.054</td>\n",
       "    </tr>\n",
       "    <tr>\n",
       "      <th>3</th>\n",
       "      <td>Andorra</td>\n",
       "      <td>-0.000648</td>\n",
       "      <td>0.001944</td>\n",
       "      <td>0.001037</td>\n",
       "      <td>0.000000</td>\n",
       "      <td>0.000000</td>\n",
       "      <td>2019</td>\n",
       "      <td>77.146</td>\n",
       "    </tr>\n",
       "    <tr>\n",
       "      <th>4</th>\n",
       "      <td>Angola</td>\n",
       "      <td>0.000038</td>\n",
       "      <td>0.002020</td>\n",
       "      <td>-0.000068</td>\n",
       "      <td>0.000036</td>\n",
       "      <td>0.000050</td>\n",
       "      <td>2019</td>\n",
       "      <td>31825.299</td>\n",
       "    </tr>\n",
       "  </tbody>\n",
       "</table>\n",
       "</div>"
      ],
      "text/plain": [
       "       country  agriculture    energy     waste  industrial  bunker fuels  \\\n",
       "0  Afghanistan     0.001772 -0.000107 -0.000021    0.000014     -0.000034   \n",
       "1      Albania     0.000753  0.000236  0.000330    0.000017     -0.000010   \n",
       "2      Algeria     0.001357 -0.000403 -0.000009    0.000130      0.000013   \n",
       "3      Andorra    -0.000648  0.001944  0.001037    0.000000      0.000000   \n",
       "4       Angola     0.000038  0.002020 -0.000068    0.000036      0.000050   \n",
       "\n",
       "   Time   PopTotal  \n",
       "0  2019  38041.757  \n",
       "1  2019   2880.913  \n",
       "2  2019  43053.054  \n",
       "3  2019     77.146  \n",
       "4  2019  31825.299  "
      ]
     },
     "execution_count": 8,
     "metadata": {},
     "output_type": "execute_result"
    }
   ],
   "source": [
    "pop = pd.read_csv(\"WPP2019_TotalPopulationBySex.csv\")\n",
    "\n",
    "pop = pop[pop[\"Time\"] == 2019] # ensuring it's only 2019 data\n",
    "pop = pop[{\"Location\", \"Time\", \"PopTotal\"}] # removing unnecessary columns\n",
    "pop = pop.rename(columns = {\"Location\" : \"country\"}) # renaming the column for the merge\n",
    "\n",
    "df_ghgchange = df_ghgchange.merge(pop, on = \"country\") # performing an inner join\n",
    "\n",
    "df_ghgchange.head()\n",
    "\n",
    "df_ghgchange.columns\n",
    "\n",
    "for emissions in {\"agriculture\", \"energy\", \"waste\", \"industrial\", \"bunker fuels\"}:\n",
    "    df_ghgchange[emissions] = df_ghgchange[emissions] / df_ghgchange[\"PopTotal\"]\n",
    "    \n",
    "df_ghgchange.head()"
   ]
  },
  {
   "cell_type": "markdown",
   "metadata": {},
   "source": [
    "nice! let's now merge this data with each country's human development index, and also drop the population column now that it's unneeded:"
   ]
  },
  {
   "cell_type": "code",
   "execution_count": 9,
   "metadata": {},
   "outputs": [
    {
     "name": "stdout",
     "output_type": "stream",
     "text": [
      "     hdi      country  agriculture    energy     waste  industrial  \\\n",
      "0  0.511  Afghanistan     0.001772 -0.000107 -0.000021    0.000014   \n",
      "1  0.795      Albania     0.000753  0.000236  0.000330    0.000017   \n",
      "2  0.748      Algeria     0.001357 -0.000403 -0.000009    0.000130   \n",
      "3  0.868      Andorra    -0.000648  0.001944  0.001037    0.000000   \n",
      "4  0.581       Angola     0.000038  0.002020 -0.000068    0.000036   \n",
      "\n",
      "   bunker fuels  \n",
      "0     -0.000034  \n",
      "1     -0.000010  \n",
      "2      0.000013  \n",
      "3      0.000000  \n",
      "4      0.000050  \n"
     ]
    },
    {
     "data": {
      "text/plain": [
       "True"
      ]
     },
     "execution_count": 9,
     "metadata": {},
     "output_type": "execute_result"
    }
   ],
   "source": [
    "analysis_one = hdi.merge(df_ghgchange, on = 'country')\n",
    "\n",
    "analysis_one.drop([\"Time\", \"PopTotal\"], axis = 1, inplace = True)\n",
    "print(analysis_one.head())\n",
    "\n",
    "analysis_one.isnull().values.any()"
   ]
  },
  {
   "cell_type": "markdown",
   "metadata": {},
   "source": [
    "interestingly, this data contains nans. let's remove them!"
   ]
  },
  {
   "cell_type": "code",
   "execution_count": 10,
   "metadata": {},
   "outputs": [],
   "source": [
    "analysis_one = analysis_one.dropna()"
   ]
  },
  {
   "cell_type": "markdown",
   "metadata": {},
   "source": [
    "Dear Diane and Jon,\n",
    "    We are stealing your data frame. We renamed it as a new variable so we can use it later before you drop the country "
   ]
  },
  {
   "cell_type": "code",
   "execution_count": 11,
   "metadata": {},
   "outputs": [],
   "source": [
    "# second_analysis_one=analysis_one\n",
    "analysis_one = analysis_one.drop(['country'], axis = 1)\n",
    "analysis_one = analysis_one.astype(float)"
   ]
  },
  {
   "cell_type": "markdown",
   "metadata": {},
   "source": [
    "in order to describe a little more about the data, let's create a heatmap to check for correlation! this is as follows:"
   ]
  },
  {
   "cell_type": "code",
   "execution_count": 12,
   "metadata": {},
   "outputs": [
    {
     "data": {
      "text/html": [
       "<div>\n",
       "<style scoped>\n",
       "    .dataframe tbody tr th:only-of-type {\n",
       "        vertical-align: middle;\n",
       "    }\n",
       "\n",
       "    .dataframe tbody tr th {\n",
       "        vertical-align: top;\n",
       "    }\n",
       "\n",
       "    .dataframe thead th {\n",
       "        text-align: right;\n",
       "    }\n",
       "</style>\n",
       "<table border=\"1\" class=\"dataframe\">\n",
       "  <thead>\n",
       "    <tr style=\"text-align: right;\">\n",
       "      <th></th>\n",
       "      <th>hdi</th>\n",
       "      <th>agriculture</th>\n",
       "      <th>energy</th>\n",
       "      <th>waste</th>\n",
       "      <th>industrial</th>\n",
       "      <th>bunker fuels</th>\n",
       "    </tr>\n",
       "  </thead>\n",
       "  <tbody>\n",
       "    <tr>\n",
       "      <th>hdi</th>\n",
       "      <td>1.000000</td>\n",
       "      <td>-0.189365</td>\n",
       "      <td>0.169190</td>\n",
       "      <td>0.104434</td>\n",
       "      <td>0.317381</td>\n",
       "      <td>0.059256</td>\n",
       "    </tr>\n",
       "    <tr>\n",
       "      <th>agriculture</th>\n",
       "      <td>-0.189365</td>\n",
       "      <td>1.000000</td>\n",
       "      <td>-0.046080</td>\n",
       "      <td>0.106627</td>\n",
       "      <td>0.184285</td>\n",
       "      <td>0.030401</td>\n",
       "    </tr>\n",
       "    <tr>\n",
       "      <th>energy</th>\n",
       "      <td>0.169190</td>\n",
       "      <td>-0.046080</td>\n",
       "      <td>1.000000</td>\n",
       "      <td>0.118310</td>\n",
       "      <td>0.111474</td>\n",
       "      <td>0.090661</td>\n",
       "    </tr>\n",
       "    <tr>\n",
       "      <th>waste</th>\n",
       "      <td>0.104434</td>\n",
       "      <td>0.106627</td>\n",
       "      <td>0.118310</td>\n",
       "      <td>1.000000</td>\n",
       "      <td>0.084658</td>\n",
       "      <td>-0.020237</td>\n",
       "    </tr>\n",
       "    <tr>\n",
       "      <th>industrial</th>\n",
       "      <td>0.317381</td>\n",
       "      <td>0.184285</td>\n",
       "      <td>0.111474</td>\n",
       "      <td>0.084658</td>\n",
       "      <td>1.000000</td>\n",
       "      <td>0.287276</td>\n",
       "    </tr>\n",
       "    <tr>\n",
       "      <th>bunker fuels</th>\n",
       "      <td>0.059256</td>\n",
       "      <td>0.030401</td>\n",
       "      <td>0.090661</td>\n",
       "      <td>-0.020237</td>\n",
       "      <td>0.287276</td>\n",
       "      <td>1.000000</td>\n",
       "    </tr>\n",
       "  </tbody>\n",
       "</table>\n",
       "</div>"
      ],
      "text/plain": [
       "                   hdi  agriculture    energy     waste  industrial  \\\n",
       "hdi           1.000000    -0.189365  0.169190  0.104434    0.317381   \n",
       "agriculture  -0.189365     1.000000 -0.046080  0.106627    0.184285   \n",
       "energy        0.169190    -0.046080  1.000000  0.118310    0.111474   \n",
       "waste         0.104434     0.106627  0.118310  1.000000    0.084658   \n",
       "industrial    0.317381     0.184285  0.111474  0.084658    1.000000   \n",
       "bunker fuels  0.059256     0.030401  0.090661 -0.020237    0.287276   \n",
       "\n",
       "              bunker fuels  \n",
       "hdi               0.059256  \n",
       "agriculture       0.030401  \n",
       "energy            0.090661  \n",
       "waste            -0.020237  \n",
       "industrial        0.287276  \n",
       "bunker fuels      1.000000  "
      ]
     },
     "execution_count": 12,
     "metadata": {},
     "output_type": "execute_result"
    }
   ],
   "source": [
    "analysis_one.corr(method = 'spearman')"
   ]
  },
  {
   "cell_type": "code",
   "execution_count": 13,
   "metadata": {},
   "outputs": [
    {
     "data": {
      "text/plain": [
       "dtype('float64')"
      ]
     },
     "execution_count": 13,
     "metadata": {},
     "output_type": "execute_result"
    }
   ],
   "source": [
    "analysis_one.hdi.dtype"
   ]
  },
  {
   "cell_type": "code",
   "execution_count": 14,
   "metadata": {},
   "outputs": [
    {
     "data": {
      "image/png": "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\n",
      "text/plain": [
       "<Figure size 432x288 with 2 Axes>"
      ]
     },
     "metadata": {
      "needs_background": "light"
     },
     "output_type": "display_data"
    }
   ],
   "source": [
    "sns.heatmap(analysis_one.corr(method = 'spearman'), center=0, cmap='coolwarm')\n",
    "plt.tight_layout()\n",
    "plt.show()"
   ]
  },
  {
   "cell_type": "markdown",
   "metadata": {},
   "source": [
    "these results might not be very significant in themselves, but we'd like to at least try to construct a model based on this data (given the wealth of what we have, and that there is a known correlation *at the least* between hdi and ghg emissions per capita). along these lines, let's try creating a multivariate linear regression to predict hdi, since hdi is a continuous float from 0-1:"
   ]
  },
  {
   "cell_type": "code",
   "execution_count": 15,
   "metadata": {},
   "outputs": [
    {
     "name": "stdout",
     "output_type": "stream",
     "text": [
      "coefficients = [ -1.8797825  288.46484019 -72.89289381   6.86723421   7.08507715]\n",
      "r^2 = 0.06860448875673741\n"
     ]
    }
   ],
   "source": [
    "regression1 = LinearRegression().fit(analysis_one[{\"agriculture\", \"energy\", \"waste\", \"industrial\", \"bunker fuels\"}], analysis_one[\"hdi\"])\n",
    "print(\"coefficients = {}\".format(regression1.coef_))\n",
    "print(\"r^2 = {}\".format(regression1.score(analysis_one[{\"agriculture\", \"energy\", \"waste\", \"industrial\", \"bunker fuels\"}], analysis_one[\"hdi\"])))"
   ]
  },
  {
   "cell_type": "markdown",
   "metadata": {},
   "source": [
    "#### evaluation of significance\n",
    "\n",
    "already, this data doesn't seem particularly significant, but let's validate that with an evaluation of significance. for this, let's try bootstrapping our regression with n = 500 trials, to try and see how many slopes because of randomness could be more random than the one we got:"
   ]
  },
  {
   "cell_type": "code",
   "execution_count": 16,
   "metadata": {},
   "outputs": [
    {
     "name": "stdout",
     "output_type": "stream",
     "text": [
      "207 permuted slopes were of greater magnitude than the observed data.\n",
      "p-value implied: 0.41400\n"
     ]
    }
   ],
   "source": [
    "# creating the permutation method\n",
    "def permute(input_array):\n",
    "    # shuffle is inplace, so copy to preserve input\n",
    "    permuted = input_array.copy().values #convert to numpy array, avoiding warning\n",
    "    np.random.shuffle(permuted)\n",
    "    return pd.Series(permuted) # convert back to pandas\n",
    "\n",
    "count = 0\n",
    "\n",
    "for i in range(500):\n",
    "    permuted_model = LinearRegression().fit(analysis_one[{\"agriculture\", \"energy\", \"waste\", \"industrial\", \"bunker fuels\"}], permute(analysis_one[\"hdi\"]))\n",
    "    if(np.abs(permuted_model.coef_[0]) > np.abs(regression1.coef_[0])):\n",
    "        count += 1\n",
    "                                            \n",
    "print(\"{} permuted slopes were of greater magnitude than the observed data.\".format(count))\n",
    "                                            \n",
    "print(\"p-value implied: {:.5f}\".format(count / 500))"
   ]
  },
  {
   "cell_type": "markdown",
   "metadata": {},
   "source": [
    "that is... exactly what we thought? unfortunately, the implied value is much greater than most p-value cutoffs traditionally used (p = 0.1, p = 0.05, or p = 0.01); as a result, this data doesn't seem to be much better than could be done by random chance :("
   ]
  },
  {
   "cell_type": "markdown",
   "metadata": {},
   "source": [
    "#### interpretation and conclusions\n",
    "\n",
    "reflecting now (after completing the data analysis, and the evaluation of significance), it seems as if much of the prior data analysis isn't that significant. while we've found some (slightly) interesting trends, such as how ghg emissions are (somewhat) negatively correlated with hdi, we haven't found much else; the multivariate linear regression also did not return a statistically-significant slope. in this sense, i don't think that our results lined up with our initial expectations, that there would be a high correlation between hdi and certain industries' emissions; perhaps this is a quirk of our own analysis? it seems likely that climatewatch.org would be incentivized to publish such data if they proved significant connection between emissions and a countries \"developedness\": perhaps this sort of \"mangling\" of the data is how climate-change-related misinformation (and false statistics) spreads? \n",
    "\n",
    "\n",
    "#### limitations\n",
    "\n",
    "there are certainly many limitations to this data: at the very least, part of the scope of this analysis seems limited, since it's about *greenhouse gas emissions by industry* and not pointing directly at fashion itself. but, looking into the data itself, it seems like there could be limitations just based on scale (in megatons, or with population in thousands); given that some countries inevitably get rounded down (to ~ 0 emissions), it seems harder to create significant analyses. this is unsatisfying; however, we are unsure how this might otherwise be solved (since all data will come with this issue as well).\n",
    "\n",
    "#### acknowledgements\n",
    "\n",
    "we'd like to thank our ta, anna, for her constant support for this project, and for many early-rising tas showing up in rhodes to answer the questions we had! :)"
   ]
  },
  {
   "cell_type": "markdown",
   "metadata": {},
   "source": [
    "## analysis two"
   ]
  },
  {
   "cell_type": "code",
   "execution_count": 17,
   "metadata": {},
   "outputs": [
    {
     "data": {
      "text/plain": [
       "country      object\n",
       "Cotton      float64\n",
       "Clothing    float64\n",
       "Garments    float64\n",
       "Textiles    float64\n",
       "dtype: object"
      ]
     },
     "execution_count": 17,
     "metadata": {},
     "output_type": "execute_result"
    }
   ],
   "source": [
    "industry_data=pd.read_csv('CIA_industry_data.csv')\n",
    "industry_data=industry_data.rename(columns={'Country/Region': 'country'})\n",
    "industry_data=industry_data.drop(columns='Jute')\n",
    "industry_data.dtypes"
   ]
  },
  {
   "cell_type": "code",
   "execution_count": 18,
   "metadata": {},
   "outputs": [
    {
     "data": {
      "text/html": [
       "<div>\n",
       "<style scoped>\n",
       "    .dataframe tbody tr th:only-of-type {\n",
       "        vertical-align: middle;\n",
       "    }\n",
       "\n",
       "    .dataframe tbody tr th {\n",
       "        vertical-align: top;\n",
       "    }\n",
       "\n",
       "    .dataframe thead th {\n",
       "        text-align: right;\n",
       "    }\n",
       "</style>\n",
       "<table border=\"1\" class=\"dataframe\">\n",
       "  <thead>\n",
       "    <tr style=\"text-align: right;\">\n",
       "      <th></th>\n",
       "      <th>country</th>\n",
       "      <th>Cotton</th>\n",
       "      <th>Clothing</th>\n",
       "      <th>Garments</th>\n",
       "      <th>Textiles</th>\n",
       "    </tr>\n",
       "  </thead>\n",
       "  <tbody>\n",
       "    <tr>\n",
       "      <th>0</th>\n",
       "      <td>Afghanistan</td>\n",
       "      <td>NaN</td>\n",
       "      <td>NaN</td>\n",
       "      <td>NaN</td>\n",
       "      <td>2.0</td>\n",
       "    </tr>\n",
       "    <tr>\n",
       "      <th>1</th>\n",
       "      <td>Albania</td>\n",
       "      <td>NaN</td>\n",
       "      <td>2.0</td>\n",
       "      <td>NaN</td>\n",
       "      <td>NaN</td>\n",
       "    </tr>\n",
       "    <tr>\n",
       "      <th>2</th>\n",
       "      <td>Algeria</td>\n",
       "      <td>NaN</td>\n",
       "      <td>NaN</td>\n",
       "      <td>NaN</td>\n",
       "      <td>NaN</td>\n",
       "    </tr>\n",
       "    <tr>\n",
       "      <th>3</th>\n",
       "      <td>Andorra</td>\n",
       "      <td>NaN</td>\n",
       "      <td>NaN</td>\n",
       "      <td>NaN</td>\n",
       "      <td>NaN</td>\n",
       "    </tr>\n",
       "    <tr>\n",
       "      <th>4</th>\n",
       "      <td>Angola</td>\n",
       "      <td>NaN</td>\n",
       "      <td>NaN</td>\n",
       "      <td>NaN</td>\n",
       "      <td>5.0</td>\n",
       "    </tr>\n",
       "  </tbody>\n",
       "</table>\n",
       "</div>"
      ],
      "text/plain": [
       "       country  Cotton  Clothing  Garments  Textiles\n",
       "0  Afghanistan     NaN       NaN       NaN       2.0\n",
       "1      Albania     NaN       2.0       NaN       NaN\n",
       "2      Algeria     NaN       NaN       NaN       NaN\n",
       "3      Andorra     NaN       NaN       NaN       NaN\n",
       "4       Angola     NaN       NaN       NaN       5.0"
      ]
     },
     "execution_count": 18,
     "metadata": {},
     "output_type": "execute_result"
    }
   ],
   "source": [
    "industry_data.head()"
   ]
  },
  {
   "cell_type": "code",
   "execution_count": 19,
   "metadata": {},
   "outputs": [],
   "source": [
    "analysis_two=hdi.merge(industry_data, how='left', on='country')\n",
    "# analysis_two = analysis_two.drop(['country'], axis = 1)"
   ]
  },
  {
   "cell_type": "code",
   "execution_count": 20,
   "metadata": {},
   "outputs": [
    {
     "data": {
      "text/html": [
       "<div>\n",
       "<style scoped>\n",
       "    .dataframe tbody tr th:only-of-type {\n",
       "        vertical-align: middle;\n",
       "    }\n",
       "\n",
       "    .dataframe tbody tr th {\n",
       "        vertical-align: top;\n",
       "    }\n",
       "\n",
       "    .dataframe thead th {\n",
       "        text-align: right;\n",
       "    }\n",
       "</style>\n",
       "<table border=\"1\" class=\"dataframe\">\n",
       "  <thead>\n",
       "    <tr style=\"text-align: right;\">\n",
       "      <th></th>\n",
       "      <th>hdi</th>\n",
       "      <th>country</th>\n",
       "      <th>Cotton</th>\n",
       "      <th>Clothing</th>\n",
       "      <th>Garments</th>\n",
       "      <th>Textiles</th>\n",
       "    </tr>\n",
       "  </thead>\n",
       "  <tbody>\n",
       "    <tr>\n",
       "      <th>189</th>\n",
       "      <td>..</td>\n",
       "      <td>Human Development</td>\n",
       "      <td>NaN</td>\n",
       "      <td>NaN</td>\n",
       "      <td>NaN</td>\n",
       "      <td>NaN</td>\n",
       "    </tr>\n",
       "    <tr>\n",
       "      <th>195</th>\n",
       "      <td>..</td>\n",
       "      <td>Regions</td>\n",
       "      <td>NaN</td>\n",
       "      <td>NaN</td>\n",
       "      <td>NaN</td>\n",
       "      <td>NaN</td>\n",
       "    </tr>\n",
       "  </tbody>\n",
       "</table>\n",
       "</div>"
      ],
      "text/plain": [
       "    hdi            country  Cotton  Clothing  Garments  Textiles\n",
       "189  ..  Human Development     NaN       NaN       NaN       NaN\n",
       "195  ..            Regions     NaN       NaN       NaN       NaN"
      ]
     },
     "execution_count": 20,
     "metadata": {},
     "output_type": "execute_result"
    }
   ],
   "source": [
    "analysis_two[analysis_two.hdi.str.find('..')==0]"
   ]
  },
  {
   "cell_type": "code",
   "execution_count": 21,
   "metadata": {},
   "outputs": [],
   "source": [
    "analysis_two=analysis_two.drop([189,195])\n",
    "analysis_two.hdi=analysis_two.hdi.astype(float)"
   ]
  },
  {
   "cell_type": "code",
   "execution_count": 22,
   "metadata": {},
   "outputs": [
    {
     "data": {
      "image/png": "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\n",
      "text/plain": [
       "<Figure size 432x288 with 2 Axes>"
      ]
     },
     "metadata": {
      "needs_background": "light"
     },
     "output_type": "display_data"
    }
   ],
   "source": [
    "sns.heatmap(analysis_two.corr(), cmap='coolwarm')\n",
    "plt.tight_layout()\n",
    "plt.show()"
   ]
  },
  {
   "cell_type": "code",
   "execution_count": 23,
   "metadata": {},
   "outputs": [
    {
     "data": {
      "text/html": [
       "<div>\n",
       "<style scoped>\n",
       "    .dataframe tbody tr th:only-of-type {\n",
       "        vertical-align: middle;\n",
       "    }\n",
       "\n",
       "    .dataframe tbody tr th {\n",
       "        vertical-align: top;\n",
       "    }\n",
       "\n",
       "    .dataframe thead th {\n",
       "        text-align: right;\n",
       "    }\n",
       "</style>\n",
       "<table border=\"1\" class=\"dataframe\">\n",
       "  <thead>\n",
       "    <tr style=\"text-align: right;\">\n",
       "      <th></th>\n",
       "      <th>hdi</th>\n",
       "      <th>Cotton</th>\n",
       "      <th>Clothing</th>\n",
       "      <th>Garments</th>\n",
       "      <th>Textiles</th>\n",
       "    </tr>\n",
       "  </thead>\n",
       "  <tbody>\n",
       "    <tr>\n",
       "      <th>hdi</th>\n",
       "      <td>1.000000</td>\n",
       "      <td>0.618061</td>\n",
       "      <td>0.379034</td>\n",
       "      <td>0.289884</td>\n",
       "      <td>0.394550</td>\n",
       "    </tr>\n",
       "    <tr>\n",
       "      <th>Cotton</th>\n",
       "      <td>0.618061</td>\n",
       "      <td>1.000000</td>\n",
       "      <td>NaN</td>\n",
       "      <td>NaN</td>\n",
       "      <td>0.847122</td>\n",
       "    </tr>\n",
       "    <tr>\n",
       "      <th>Clothing</th>\n",
       "      <td>0.379034</td>\n",
       "      <td>NaN</td>\n",
       "      <td>1.000000</td>\n",
       "      <td>NaN</td>\n",
       "      <td>0.978453</td>\n",
       "    </tr>\n",
       "    <tr>\n",
       "      <th>Garments</th>\n",
       "      <td>0.289884</td>\n",
       "      <td>NaN</td>\n",
       "      <td>NaN</td>\n",
       "      <td>1.000000</td>\n",
       "      <td>-0.441726</td>\n",
       "    </tr>\n",
       "    <tr>\n",
       "      <th>Textiles</th>\n",
       "      <td>0.394550</td>\n",
       "      <td>0.847122</td>\n",
       "      <td>0.978453</td>\n",
       "      <td>-0.441726</td>\n",
       "      <td>1.000000</td>\n",
       "    </tr>\n",
       "  </tbody>\n",
       "</table>\n",
       "</div>"
      ],
      "text/plain": [
       "               hdi    Cotton  Clothing  Garments  Textiles\n",
       "hdi       1.000000  0.618061  0.379034  0.289884  0.394550\n",
       "Cotton    0.618061  1.000000       NaN       NaN  0.847122\n",
       "Clothing  0.379034       NaN  1.000000       NaN  0.978453\n",
       "Garments  0.289884       NaN       NaN  1.000000 -0.441726\n",
       "Textiles  0.394550  0.847122  0.978453 -0.441726  1.000000"
      ]
     },
     "execution_count": 23,
     "metadata": {},
     "output_type": "execute_result"
    }
   ],
   "source": [
    "analysis_two.corr(method='pearson')"
   ]
  },
  {
   "cell_type": "code",
   "execution_count": 24,
   "metadata": {},
   "outputs": [
    {
     "data": {
      "text/plain": [
       "dtype('float64')"
      ]
     },
     "execution_count": 24,
     "metadata": {},
     "output_type": "execute_result"
    }
   ],
   "source": [
    "analysis_two.hdi.dtype"
   ]
  },
  {
   "cell_type": "code",
   "execution_count": 25,
   "metadata": {},
   "outputs": [
    {
     "data": {
      "text/plain": [
       "<matplotlib.collections.PathCollection at 0x7fed0d4ced00>"
      ]
     },
     "execution_count": 25,
     "metadata": {},
     "output_type": "execute_result"
    },
    {
     "data": {
      "image/png": "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\n",
      "text/plain": [
       "<Figure size 432x288 with 1 Axes>"
      ]
     },
     "metadata": {
      "needs_background": "light"
     },
     "output_type": "display_data"
    }
   ],
   "source": [
    "plt.scatter(analysis_two.Textiles, analysis_two.hdi)"
   ]
  },
  {
   "cell_type": "code",
   "execution_count": 26,
   "metadata": {},
   "outputs": [
    {
     "data": {
      "text/plain": [
       "<matplotlib.collections.PathCollection at 0x7fed0d5b9a90>"
      ]
     },
     "execution_count": 26,
     "metadata": {},
     "output_type": "execute_result"
    },
    {
     "data": {
      "image/png": "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\n",
      "text/plain": [
       "<Figure size 432x288 with 1 Axes>"
      ]
     },
     "metadata": {
      "needs_background": "light"
     },
     "output_type": "display_data"
    }
   ],
   "source": [
    "plt.scatter(analysis_two.Cotton, analysis_two.hdi)"
   ]
  },
  {
   "cell_type": "code",
   "execution_count": 27,
   "metadata": {},
   "outputs": [
    {
     "data": {
      "text/plain": [
       "<matplotlib.collections.PathCollection at 0x7fed0d68a310>"
      ]
     },
     "execution_count": 27,
     "metadata": {},
     "output_type": "execute_result"
    },
    {
     "data": {
      "image/png": "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\n",
      "text/plain": [
       "<Figure size 432x288 with 1 Axes>"
      ]
     },
     "metadata": {
      "needs_background": "light"
     },
     "output_type": "display_data"
    }
   ],
   "source": [
    "plt.scatter(analysis_two.Garments, analysis_two.hdi)"
   ]
  },
  {
   "cell_type": "code",
   "execution_count": 28,
   "metadata": {},
   "outputs": [
    {
     "data": {
      "text/plain": [
       "<matplotlib.collections.PathCollection at 0x7fed0d5e5940>"
      ]
     },
     "execution_count": 28,
     "metadata": {},
     "output_type": "execute_result"
    },
    {
     "data": {
      "image/png": "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\n",
      "text/plain": [
       "<Figure size 432x288 with 1 Axes>"
      ]
     },
     "metadata": {
      "needs_background": "light"
     },
     "output_type": "display_data"
    }
   ],
   "source": [
    "plt.scatter(analysis_two.Clothing, analysis_two.hdi)"
   ]
  },
  {
   "cell_type": "markdown",
   "metadata": {},
   "source": [
    "Here I'm merging the analysis_one dataframe that contains GHG emissions per sector ('countries','agriculture','energy','waste','industrial','bunker fuels') with the analysis_two df that contains the list of countries and their corresponding hdi and indexes regarding cotton, clothing, garments, and textiles."
   ]
  },
  {
   "cell_type": "code",
   "execution_count": 29,
   "metadata": {},
   "outputs": [
    {
     "data": {
      "text/html": [
       "<div>\n",
       "<style scoped>\n",
       "    .dataframe tbody tr th:only-of-type {\n",
       "        vertical-align: middle;\n",
       "    }\n",
       "\n",
       "    .dataframe tbody tr th {\n",
       "        vertical-align: top;\n",
       "    }\n",
       "\n",
       "    .dataframe thead th {\n",
       "        text-align: right;\n",
       "    }\n",
       "</style>\n",
       "<table border=\"1\" class=\"dataframe\">\n",
       "  <thead>\n",
       "    <tr style=\"text-align: right;\">\n",
       "      <th></th>\n",
       "      <th>hdi</th>\n",
       "      <th>country</th>\n",
       "      <th>Cotton</th>\n",
       "      <th>Clothing</th>\n",
       "      <th>Garments</th>\n",
       "      <th>Textiles</th>\n",
       "    </tr>\n",
       "  </thead>\n",
       "  <tbody>\n",
       "    <tr>\n",
       "      <th>0</th>\n",
       "      <td>0.511</td>\n",
       "      <td>Afghanistan</td>\n",
       "      <td>NaN</td>\n",
       "      <td>NaN</td>\n",
       "      <td>NaN</td>\n",
       "      <td>2.0</td>\n",
       "    </tr>\n",
       "    <tr>\n",
       "      <th>1</th>\n",
       "      <td>0.795</td>\n",
       "      <td>Albania</td>\n",
       "      <td>NaN</td>\n",
       "      <td>2.0</td>\n",
       "      <td>NaN</td>\n",
       "      <td>NaN</td>\n",
       "    </tr>\n",
       "    <tr>\n",
       "      <th>2</th>\n",
       "      <td>0.748</td>\n",
       "      <td>Algeria</td>\n",
       "      <td>NaN</td>\n",
       "      <td>NaN</td>\n",
       "      <td>NaN</td>\n",
       "      <td>NaN</td>\n",
       "    </tr>\n",
       "    <tr>\n",
       "      <th>3</th>\n",
       "      <td>0.868</td>\n",
       "      <td>Andorra</td>\n",
       "      <td>NaN</td>\n",
       "      <td>NaN</td>\n",
       "      <td>NaN</td>\n",
       "      <td>NaN</td>\n",
       "    </tr>\n",
       "    <tr>\n",
       "      <th>4</th>\n",
       "      <td>0.581</td>\n",
       "      <td>Angola</td>\n",
       "      <td>NaN</td>\n",
       "      <td>NaN</td>\n",
       "      <td>NaN</td>\n",
       "      <td>5.0</td>\n",
       "    </tr>\n",
       "    <tr>\n",
       "      <th>...</th>\n",
       "      <td>...</td>\n",
       "      <td>...</td>\n",
       "      <td>...</td>\n",
       "      <td>...</td>\n",
       "      <td>...</td>\n",
       "      <td>...</td>\n",
       "    </tr>\n",
       "    <tr>\n",
       "      <th>202</th>\n",
       "      <td>0.538</td>\n",
       "      <td>Least Developed Countries</td>\n",
       "      <td>NaN</td>\n",
       "      <td>NaN</td>\n",
       "      <td>NaN</td>\n",
       "      <td>NaN</td>\n",
       "    </tr>\n",
       "    <tr>\n",
       "      <th>203</th>\n",
       "      <td>0.728</td>\n",
       "      <td>Small Island Developing States</td>\n",
       "      <td>NaN</td>\n",
       "      <td>NaN</td>\n",
       "      <td>NaN</td>\n",
       "      <td>NaN</td>\n",
       "    </tr>\n",
       "    <tr>\n",
       "      <th>204</th>\n",
       "      <td>0.900</td>\n",
       "      <td>Organization for Economic Co-operation and Dev...</td>\n",
       "      <td>NaN</td>\n",
       "      <td>NaN</td>\n",
       "      <td>NaN</td>\n",
       "      <td>NaN</td>\n",
       "    </tr>\n",
       "    <tr>\n",
       "      <th>205</th>\n",
       "      <td>0.737</td>\n",
       "      <td>World</td>\n",
       "      <td>NaN</td>\n",
       "      <td>NaN</td>\n",
       "      <td>NaN</td>\n",
       "      <td>NaN</td>\n",
       "    </tr>\n",
       "    <tr>\n",
       "      <th>206</th>\n",
       "      <td>NaN</td>\n",
       "      <td>NaN</td>\n",
       "      <td>NaN</td>\n",
       "      <td>NaN</td>\n",
       "      <td>NaN</td>\n",
       "      <td>NaN</td>\n",
       "    </tr>\n",
       "  </tbody>\n",
       "</table>\n",
       "<p>205 rows × 6 columns</p>\n",
       "</div>"
      ],
      "text/plain": [
       "       hdi                                            country  Cotton  \\\n",
       "0    0.511                                        Afghanistan     NaN   \n",
       "1    0.795                                            Albania     NaN   \n",
       "2    0.748                                            Algeria     NaN   \n",
       "3    0.868                                            Andorra     NaN   \n",
       "4    0.581                                             Angola     NaN   \n",
       "..     ...                                                ...     ...   \n",
       "202  0.538                          Least Developed Countries     NaN   \n",
       "203  0.728                     Small Island Developing States     NaN   \n",
       "204  0.900  Organization for Economic Co-operation and Dev...     NaN   \n",
       "205  0.737                                              World     NaN   \n",
       "206    NaN                                                NaN     NaN   \n",
       "\n",
       "     Clothing  Garments  Textiles  \n",
       "0         NaN       NaN       2.0  \n",
       "1         2.0       NaN       NaN  \n",
       "2         NaN       NaN       NaN  \n",
       "3         NaN       NaN       NaN  \n",
       "4         NaN       NaN       5.0  \n",
       "..        ...       ...       ...  \n",
       "202       NaN       NaN       NaN  \n",
       "203       NaN       NaN       NaN  \n",
       "204       NaN       NaN       NaN  \n",
       "205       NaN       NaN       NaN  \n",
       "206       NaN       NaN       NaN  \n",
       "\n",
       "[205 rows x 6 columns]"
      ]
     },
     "execution_count": 29,
     "metadata": {},
     "output_type": "execute_result"
    }
   ],
   "source": [
    "analysis_two"
   ]
  },
  {
   "cell_type": "markdown",
   "metadata": {},
   "source": [
    "In this cell, we are merging our analysis_two dataframe with the GHG emission dataframe and loading the merged data into a new dataframe labeled \"analysis_two_all\""
   ]
  },
  {
   "cell_type": "code",
   "execution_count": 30,
   "metadata": {},
   "outputs": [
    {
     "data": {
      "text/html": [
       "<div>\n",
       "<style scoped>\n",
       "    .dataframe tbody tr th:only-of-type {\n",
       "        vertical-align: middle;\n",
       "    }\n",
       "\n",
       "    .dataframe tbody tr th {\n",
       "        vertical-align: top;\n",
       "    }\n",
       "\n",
       "    .dataframe thead th {\n",
       "        text-align: right;\n",
       "    }\n",
       "</style>\n",
       "<table border=\"1\" class=\"dataframe\">\n",
       "  <thead>\n",
       "    <tr style=\"text-align: right;\">\n",
       "      <th></th>\n",
       "      <th>country</th>\n",
       "      <th>agriculture</th>\n",
       "      <th>energy</th>\n",
       "      <th>waste</th>\n",
       "      <th>industrial</th>\n",
       "      <th>bunker fuels</th>\n",
       "      <th>Time</th>\n",
       "      <th>PopTotal</th>\n",
       "      <th>hdi</th>\n",
       "      <th>Cotton</th>\n",
       "      <th>Clothing</th>\n",
       "      <th>Garments</th>\n",
       "      <th>Textiles</th>\n",
       "    </tr>\n",
       "  </thead>\n",
       "  <tbody>\n",
       "    <tr>\n",
       "      <th>0</th>\n",
       "      <td>Afghanistan</td>\n",
       "      <td>0.001772</td>\n",
       "      <td>-0.000107</td>\n",
       "      <td>-0.000021</td>\n",
       "      <td>0.000014</td>\n",
       "      <td>-0.000034</td>\n",
       "      <td>2019</td>\n",
       "      <td>38041.757</td>\n",
       "      <td>0.511</td>\n",
       "      <td>NaN</td>\n",
       "      <td>NaN</td>\n",
       "      <td>NaN</td>\n",
       "      <td>2.0</td>\n",
       "    </tr>\n",
       "    <tr>\n",
       "      <th>1</th>\n",
       "      <td>Albania</td>\n",
       "      <td>0.000753</td>\n",
       "      <td>0.000236</td>\n",
       "      <td>0.000330</td>\n",
       "      <td>0.000017</td>\n",
       "      <td>-0.000010</td>\n",
       "      <td>2019</td>\n",
       "      <td>2880.913</td>\n",
       "      <td>0.795</td>\n",
       "      <td>NaN</td>\n",
       "      <td>2.0</td>\n",
       "      <td>NaN</td>\n",
       "      <td>NaN</td>\n",
       "    </tr>\n",
       "    <tr>\n",
       "      <th>2</th>\n",
       "      <td>Algeria</td>\n",
       "      <td>0.001357</td>\n",
       "      <td>-0.000403</td>\n",
       "      <td>-0.000009</td>\n",
       "      <td>0.000130</td>\n",
       "      <td>0.000013</td>\n",
       "      <td>2019</td>\n",
       "      <td>43053.054</td>\n",
       "      <td>0.748</td>\n",
       "      <td>NaN</td>\n",
       "      <td>NaN</td>\n",
       "      <td>NaN</td>\n",
       "      <td>NaN</td>\n",
       "    </tr>\n",
       "    <tr>\n",
       "      <th>3</th>\n",
       "      <td>Andorra</td>\n",
       "      <td>-0.000648</td>\n",
       "      <td>0.001944</td>\n",
       "      <td>0.001037</td>\n",
       "      <td>0.000000</td>\n",
       "      <td>0.000000</td>\n",
       "      <td>2019</td>\n",
       "      <td>77.146</td>\n",
       "      <td>0.868</td>\n",
       "      <td>NaN</td>\n",
       "      <td>NaN</td>\n",
       "      <td>NaN</td>\n",
       "      <td>NaN</td>\n",
       "    </tr>\n",
       "    <tr>\n",
       "      <th>4</th>\n",
       "      <td>Angola</td>\n",
       "      <td>0.000038</td>\n",
       "      <td>0.002020</td>\n",
       "      <td>-0.000068</td>\n",
       "      <td>0.000036</td>\n",
       "      <td>0.000050</td>\n",
       "      <td>2019</td>\n",
       "      <td>31825.299</td>\n",
       "      <td>0.581</td>\n",
       "      <td>NaN</td>\n",
       "      <td>NaN</td>\n",
       "      <td>NaN</td>\n",
       "      <td>5.0</td>\n",
       "    </tr>\n",
       "    <tr>\n",
       "      <th>...</th>\n",
       "      <td>...</td>\n",
       "      <td>...</td>\n",
       "      <td>...</td>\n",
       "      <td>...</td>\n",
       "      <td>...</td>\n",
       "      <td>...</td>\n",
       "      <td>...</td>\n",
       "      <td>...</td>\n",
       "      <td>...</td>\n",
       "      <td>...</td>\n",
       "      <td>...</td>\n",
       "      <td>...</td>\n",
       "      <td>...</td>\n",
       "    </tr>\n",
       "    <tr>\n",
       "      <th>171</th>\n",
       "      <td>Uzbekistan</td>\n",
       "      <td>-0.000468</td>\n",
       "      <td>-0.000447</td>\n",
       "      <td>0.000030</td>\n",
       "      <td>0.000089</td>\n",
       "      <td>0.000059</td>\n",
       "      <td>2019</td>\n",
       "      <td>32981.715</td>\n",
       "      <td>0.720</td>\n",
       "      <td>NaN</td>\n",
       "      <td>NaN</td>\n",
       "      <td>NaN</td>\n",
       "      <td>1.0</td>\n",
       "    </tr>\n",
       "    <tr>\n",
       "      <th>172</th>\n",
       "      <td>Vanuatu</td>\n",
       "      <td>0.000467</td>\n",
       "      <td>-0.000267</td>\n",
       "      <td>-0.001200</td>\n",
       "      <td>0.000067</td>\n",
       "      <td>0.000033</td>\n",
       "      <td>2019</td>\n",
       "      <td>299.882</td>\n",
       "      <td>0.609</td>\n",
       "      <td>NaN</td>\n",
       "      <td>NaN</td>\n",
       "      <td>NaN</td>\n",
       "      <td>NaN</td>\n",
       "    </tr>\n",
       "    <tr>\n",
       "      <th>173</th>\n",
       "      <td>Yemen</td>\n",
       "      <td>-0.000387</td>\n",
       "      <td>0.000147</td>\n",
       "      <td>0.000012</td>\n",
       "      <td>0.000008</td>\n",
       "      <td>-0.000001</td>\n",
       "      <td>2019</td>\n",
       "      <td>29161.922</td>\n",
       "      <td>0.470</td>\n",
       "      <td>2.0</td>\n",
       "      <td>NaN</td>\n",
       "      <td>NaN</td>\n",
       "      <td>2.0</td>\n",
       "    </tr>\n",
       "    <tr>\n",
       "      <th>174</th>\n",
       "      <td>Zambia</td>\n",
       "      <td>0.001549</td>\n",
       "      <td>-0.000320</td>\n",
       "      <td>0.000029</td>\n",
       "      <td>0.000050</td>\n",
       "      <td>0.000035</td>\n",
       "      <td>2019</td>\n",
       "      <td>17861.034</td>\n",
       "      <td>0.584</td>\n",
       "      <td>NaN</td>\n",
       "      <td>NaN</td>\n",
       "      <td>NaN</td>\n",
       "      <td>7.0</td>\n",
       "    </tr>\n",
       "    <tr>\n",
       "      <th>175</th>\n",
       "      <td>Zimbabwe</td>\n",
       "      <td>0.005696</td>\n",
       "      <td>0.000300</td>\n",
       "      <td>0.000053</td>\n",
       "      <td>0.000163</td>\n",
       "      <td>0.000072</td>\n",
       "      <td>2019</td>\n",
       "      <td>14645.473</td>\n",
       "      <td>0.571</td>\n",
       "      <td>NaN</td>\n",
       "      <td>7.0</td>\n",
       "      <td>NaN</td>\n",
       "      <td>NaN</td>\n",
       "    </tr>\n",
       "  </tbody>\n",
       "</table>\n",
       "<p>176 rows × 13 columns</p>\n",
       "</div>"
      ],
      "text/plain": [
       "         country  agriculture    energy     waste  industrial  bunker fuels  \\\n",
       "0    Afghanistan     0.001772 -0.000107 -0.000021    0.000014     -0.000034   \n",
       "1        Albania     0.000753  0.000236  0.000330    0.000017     -0.000010   \n",
       "2        Algeria     0.001357 -0.000403 -0.000009    0.000130      0.000013   \n",
       "3        Andorra    -0.000648  0.001944  0.001037    0.000000      0.000000   \n",
       "4         Angola     0.000038  0.002020 -0.000068    0.000036      0.000050   \n",
       "..           ...          ...       ...       ...         ...           ...   \n",
       "171   Uzbekistan    -0.000468 -0.000447  0.000030    0.000089      0.000059   \n",
       "172      Vanuatu     0.000467 -0.000267 -0.001200    0.000067      0.000033   \n",
       "173        Yemen    -0.000387  0.000147  0.000012    0.000008     -0.000001   \n",
       "174       Zambia     0.001549 -0.000320  0.000029    0.000050      0.000035   \n",
       "175     Zimbabwe     0.005696  0.000300  0.000053    0.000163      0.000072   \n",
       "\n",
       "     Time   PopTotal    hdi  Cotton  Clothing  Garments  Textiles  \n",
       "0    2019  38041.757  0.511     NaN       NaN       NaN       2.0  \n",
       "1    2019   2880.913  0.795     NaN       2.0       NaN       NaN  \n",
       "2    2019  43053.054  0.748     NaN       NaN       NaN       NaN  \n",
       "3    2019     77.146  0.868     NaN       NaN       NaN       NaN  \n",
       "4    2019  31825.299  0.581     NaN       NaN       NaN       5.0  \n",
       "..    ...        ...    ...     ...       ...       ...       ...  \n",
       "171  2019  32981.715  0.720     NaN       NaN       NaN       1.0  \n",
       "172  2019    299.882  0.609     NaN       NaN       NaN       NaN  \n",
       "173  2019  29161.922  0.470     2.0       NaN       NaN       2.0  \n",
       "174  2019  17861.034  0.584     NaN       NaN       NaN       7.0  \n",
       "175  2019  14645.473  0.571     NaN       7.0       NaN       NaN  \n",
       "\n",
       "[176 rows x 13 columns]"
      ]
     },
     "execution_count": 30,
     "metadata": {},
     "output_type": "execute_result"
    }
   ],
   "source": [
    "analysis_two_all = df_ghgchange.merge(analysis_two, how='left', on='country')\n",
    "analysis_two_all"
   ]
  },
  {
   "cell_type": "markdown",
   "metadata": {},
   "source": [
    "### Task List\n",
    "- 1) Create a scatterplot for each sector compared against the GHG emissions. - Completed.\n",
    "- 2) Cluster the data.\n",
    "- 3) Make histogram of each cluster of HDI (assuming the clusters relate to HDI.\n",
    "- 4) determine if there is a correlation between each cluster and a country's stage of developement."
   ]
  },
  {
   "cell_type": "markdown",
   "metadata": {},
   "source": [
    "These are scatterplots representing the different emission sectors in comparison to the Textile production index of each country (all data is taken from the analysis_two_all dataframe)"
   ]
  },
  {
   "cell_type": "code",
<<<<<<< Updated upstream
   "execution_count": null,
>>>>>>> d878987757b357b790b032b58c18b20294366173
=======
   "execution_count": 31,
>>>>>>> Stashed changes
   "metadata": {},
   "outputs": [
    {
     "data": {
<<<<<<< Updated upstream
      "image/png": "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\n",
=======
      "image/png": "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\n",
>>>>>>> Stashed changes
      "text/plain": [
       "<Figure size 432x288 with 1 Axes>"
      ]
     },
     "metadata": {
      "needs_background": "light"
     },
     "output_type": "display_data"
    },
    {
     "data": {
<<<<<<< Updated upstream
      "image/png": "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\n",
=======
      "image/png": "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\n",
>>>>>>> Stashed changes
      "text/plain": [
       "<Figure size 432x288 with 1 Axes>"
      ]
     },
     "metadata": {
      "needs_background": "light"
     },
     "output_type": "display_data"
    },
    {
     "data": {
<<<<<<< Updated upstream
      "image/png": "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\n",
=======
      "image/png": "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\n",
>>>>>>> Stashed changes
      "text/plain": [
       "<Figure size 432x288 with 1 Axes>"
      ]
     },
     "metadata": {
      "needs_background": "light"
     },
     "output_type": "display_data"
    },
    {
     "data": {
<<<<<<< Updated upstream
      "image/png": "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\n",
=======
      "image/png": "iVBORw0KGgoAAAANSUhEUgAAAX4AAAEGCAYAAABiq/5QAAAAOXRFWHRTb2Z0d2FyZQBNYXRwbG90bGliIHZlcnNpb24zLjMuMiwgaHR0cHM6Ly9tYXRwbG90bGliLm9yZy8vihELAAAACXBIWXMAAAsTAAALEwEAmpwYAAAh9ElEQVR4nO3dfZhcdX338fdns0k2T7tA2GyWRAjYFCUhIG59qLXFpNjU5pbcrYXSB3rbWtr7sgWlVrFSn5peFbVYsF72RotAtVpabAS0VAq1aqvW5SEhETEKARM2yRJ0EjZsks187z9mZjO7mZk9OztPu+fzuq69NjPnd87vd37n5JvJmTOfUURgZmbp0dbsAZiZWWO58JuZpYwLv5lZyrjwm5mljAu/mVnKtDd7AEmceuqpsWLFimYPw8xsWnnggQeeiYju8c9Pi8K/YsUK+vv7mz0MM7NpRdKTpZ73pR4zs5Rx4TczSxkXfjOzlHHhNzNLGRd+M7OUmRZ39Zg1UjYb7Nw/xN4Dw/R0drBi8QLa2tTsYU1ouo7bGs+F36xINhvcs30PV9/+MMNHs3TMbuP6S85n/aqlLV1Ep+u4rTl8qcesyM79Q6PFE2D4aJarb3+YnfuHmjyyyqbruK05XPjNiuw9MDxaPAuGj2bZd3C4SSNKZrqO25rDhd+sSE9nBx2zx/616JjdxpJFHU0aUTLTddzWHC78ZkVWLF7A9ZecP1pEC9fKVyxe0OSRVTZdx23Noenw1Yt9fX3hrB5rlMLdMfsODrNk0fS5O2a6jtvqR9IDEdE3/nnf1WM2TlubOKt7IWd1L2z2UCZluo7bGs+XeszMUsaF38wsZVz4zcxSxoXfzCxlXPjNzFLGhd/MLGXqVvgl3Sxpn6RtJZa9TVJIOrVe/ZuZWWn1fMV/C7B+/JOSXgBcBDxVx77NzKyMuhX+iPgq8GyJRR8B3g60/keGzcxmoIZe45f0emB3RGxJ0PYKSf2S+gcHBxswOjOzdGhY4Zc0H3gX8O4k7SPipojoi4i+7u7u+g7OzCxFGvmK/4XAmcAWSTuB5cCDkpY2cAxmZqnXsJC2iHgEWFJ4nC/+fRHxTKPGYGZm9b2d87PAN4CzJe2S9Lv16svMzJKr2yv+iLhsguUr6tW3mZmV50/umpmljAu/mVnKuPCbmaWMC7+ZWcq48JuZpYy/bN2sAbLZYOf+IfYeGKans4MVixfQ1qZmD8tSyoXfrM6y2eCe7Xu4+vaHGT6apWN2G9dfcj7rVy118bem8KUeszrbuX9otOgDDB/NcvXtD7Nz/1CTR2Zp5cJvVmd7DwyPFv2C4aNZ9h0cbtKILO1c+M3qrKezg47ZY/+qdcxuY8mijiaNyNLOhd+szlYsXsD1l5w/WvwL1/hXLF7Q5JFZWvnNXbM6a2sT61ct5UVXvpp9B4dZssh39VhzufCbNUBbmzireyFndS9s9lDMfKnHzCxtXPjNzFLGhd/MLGVc+M3MUsaF38wsZVz4zcxSpp5ftn6zpH2SthU99yFJ35W0VdK/SDqpXv2bmVlp9XzFfwuwftxz9wKrI2IN8D3gnXXs36wpstng8cHn+MYPnuHxwefIZqPZQzIbo24f4IqIr0paMe65Lxc9/Cbwhnr1b9YMjmC26aCZ1/h/B/jXJvZvVnOOYLbpoCmFX9K7gBHgMxXaXCGpX1L/4OBg4wZnNgWOYLbpoOGFX9JvAxuA34iIshc/I+KmiOiLiL7u7u7GDdBsChzBbNNBQwu/pPXAO4DXR8ShRvZt1giOYLbpoG5v7kr6LHAhcKqkXcB7yN3FMxe4VxLANyPiD+o1BrNGcwSzTQf1vKvnshJP/129+jNrFY5gtlbnT+6amaWMC7+ZWcq48JuZpYwLv5lZyrjwm5mljAu/mVnK1O12TmtN2Wywc/8Qew8M09Ppe8ynOx9Pq4YLf4o4OXJm8fG0avlST4o4OXJm8fG0arnwp4iTI2cWH0+rlgt/ijg5cmbx8bRqufCniJMjZxYfT6uWKkTit4y+vr7o7+9v9jBmhMJdIE6OnBl8PK0SSQ9ERN/4531XT8o4OXJm8fG0avhSj5lZyrjwm5mljAu/mVnKuPCbmaWMC7+ZWcpMWPglLSnx3Nn1GY6ZmdVbklf8X5N0SeGBpD8G/mWilSTdLGmfpG1Fz50i6V5JO/K/T65u2Gata2Qky5Yf/oh7tg2w5Yc/ZmRkbKxCNhs8Pvgc3965ny0//BHf+MEzPD74HNls63+mxmaGJPfxXwjcJOlXgR7gUeBlCda7Bfgb4Lai564B7ouID0i6Jv/4HZMZsFkrGxnJsnnLbq7dvG00MXPTxtVsPG8Z7e1to4ma193zKJf2nc6N9+9wsqY13ISv+CNiALgHeCWwArgtIp5LsN5XgWfHPX0xcGv+z7cCGycxVrOWt30gM1r0IReadu3mbWwfyADHEzU3rFk2WvQL7ZysaY2S5Br/vcDLgdXA64CPSPpwlf315P8hKfyDcsL7B0X9XiGpX1L/4OBgld2ZNdZApnRi5p5MLjGzkKgp4WRNa5ok1/g/FhGXR8SPI2IbuVf+mTqPi4i4KSL6IqKvu7u73t2Z1URv17ySiZlLu3KJmcWJmk7WtGZJcqlns6SfkfTG/FMnA5+usr+9knoB8r/3Vbkds5a0qreTTRtXjynumzauZlVvF3A8UfOuLbu5cu1KJ2taU0z45q6k9wB9wNnAp4A55Ar/q6ro707gt4EP5H9/oYptmLWs9vY2Np63jJVLFrInM8zSrg5W9XbR3p4r8G1tYv2qpbxo6SKeHTrMP17xCg4dOebvy7WGSnJXz/8GXgI8CBART0taNNFKkj5L7o6gUyXtAt5DruDfLul3gaeAX61y3GYtq729jfNecDLnvaD0cidqWrMlKfxHIiIkBYCkRP8XjYjLyixal3RwZmZWe0ne3L1d0v8DTpL0e8C/A5+o77DMzKxeJnzFHxEflnQRcIDcdf53R8S9dR+ZmZnVRaJv4MoXehd7M7MZoGzhl3QQKBseEhGddRmRmZnVVdnCHxGLACS9H9gD/D0g4DeACe/qMTOz1pTkUs8vRMTLix5/XNK3gA/WaUxm0042G+zcP8TeA8NNvye/lcZi1avncUxS+I9J+g3gc+Qu/VwGHKtJ72YzQCFx8+rbH2560mYrjcWqV+/jmOR2zl8HLgH25n9+Nf+cmXE8cbMVkjZbaSxWvXofxyRZPTsj4uKIODUiuiNiY0TsrEnvZjNAIXGzWLOSNltpLFa9eh/HJFk93cDvkcviH20fEb9TkxGYTXOFxM3iv6jNStpspbFY9ep9HJNc6vkC0EXuE7tfLPoxM44nbrZC0mYrjcWqV+/jqIjK3/Mp6eGIOL8mvVWpr68v+vv7mzkEs4oKd2DsOzjMkkWtcVdPK4zFqleL4yjpgYjoG/98krt67pb0uoj40qR6NEuRVkrcbKWxWPXqeRyTXOq5ilzxf17SAUkHJR2o+UjMzKwhkoS0+VO6ZmYzSKWsngsqrRgRD9Z+OGZmVm+VXvH/VYVlAayt8VjMzKwBKoW0vaaRAzEzs8ZI8uaumZnNIIm+iKXWJL0VeBO5S0aPAG+MCH+m3EpqlbTJ4nHMn9POkWPHWLxgLisWLyCbDbYPZBjIDNPbNY9VvZ20t7eVXb+ns4PTT57PUz861PT9qqVWOVZWWcMLv6RlwJXAORHxvKTbgV8Dbmn0WKz1tUraZKlxXLl2Jf/Y/xR/tuEcfnzoKNdu3ja6bNPG1Ww8b9lo8S+1/qaNq/no/Tt4cv/zMyJFs1WOlU1swks9kl4laUH+z78p6XpJZ0yx33ZgnqR2YD7w9BS3ZzNUq6RNlhrHjffvYMOaZWzdlRkt+oVl127exvaBTMX1r928jQ1rljV1v2qpVY6VTSzJNf6PA4cknQe8HXgSuK3aDiNiN/Bh4ClgAMhExJfHt5N0haR+Sf2Dg4PVdmfTXKukTZYbhwTZoOSyPZnhROsXP57OKZqtcqxsYkkK/0jkAn0uBm6IiBuYwlcvSjo5v60zgdOABZJ+c3y7iLgpIvoioq+7u7va7myaK6QUFmtG2mS5cUTALFFy2dKujkTrFz+ezimarXKsbGJJCv9BSe8Efgv4oqRZwOwp9PnzwBMRMRgRR4HPAz89he3ZDNYqaZOlxnHl2pXcvXU35y7vYtPG1WOWbdq4mlW9XRXX37RxNXdv3d3U/aqlVjlWNrEk6ZxLyX3j1rcj4muSTgcujIiqLvdIejlwM/BTwPPk3tTtj4iPllvH6Zzp1ippk2Pv6pnF0WNZThl3V8+ezDBLuzpY1dtV9q6ewn4U7upp9n7VUqscK8spl845YeHPr3wGsDIi/l3SfGBWRBycwmDeB1wKjAAPAW+KiMPl2rvwm5lNXtWxzJJ+D7gCOAV4IbAM+FtgXbWDiYj3AO+pdn0zM6tekmv8bwZeBRwAiIgdwJJ6DsrMzOonSeE/HBFHCg/y995PfH3IzMxaUpLC/5+S/pTcB64uAv4JuKu+wzIzs3pJUvivAQbJZer8PvAl4Np6DsrMzOonyTdwZYFP5H/MzGyaq/QNXI9Q4Vp+RKypy4isIZyimEzSeSrVDhh9rrerg2NZ2HdwavM9MpLlOwMZns4M0zmvnd7OeZwxhWPn8yCdKr3i39CwUVhDOUUxmaTzVK7dnHbxh//wECfPn8PlrzyDG+7bMaX5HhnJsnnL7jEpoFetW8nKnoWsPbtn0sfO50F6lb3GHxFPVvpp5CCttpyimEzSeSrXbuuuDMNHs/zyBctHi36l7Uxk+8CJKaA33LeDrbsyVR07nwfpVbbwS/p6/vdBSQeKfg5KOtC4IVqtOUUxmaTzVK5dNn+hVCqd3jnZ+R7IlO+nmmPn8yC9Kr3i/5n870UR0Vn0sygiOhs3RKs1pygmk3SeyrUrvlpSi/nu7ZpXtp9qjp3Pg/RK8kUsf5/kOZs+nKKYTNJ5KtduzfIuOma3cccDu7hq3copz/eq3s4TUkCvWreSNcu7qjp2Pg/SK0k654MRcUHR43Zga0ScU+/BFTikrfacophM0nkq1Q4YfW5pZ+6unsHnpjbfhbt6BjKHWdgxi9O6anNXj8+DmWnS6Zz5DP4/BeYBhwpPA0eAT0TENXUa6wlc+M3MJq9c4a90jf8vI2IR8KFx1/cXN7Lom5lZbSWJbPh+8QNJsyQ5UtnMbJpKUvjXSfqSpF5J5wLfZArfuWtmZs2VJKvn1yVdSi6k7RBwWUT8V91HZmZmdZHkds6VwFXAHcBO4LfyX79oZmbTUJJLPXcB746I3wd+DtgBfLuuozIzs7qZ8FIP8LKIKHztYgB/JenOqXQq6STgk8BqcgmgvxMR35jKNsdz6qBB/c6Dwnb3Dx1mzqw2Dh05VjKV0+eetaIkhX+epI8AyyJivaRzgFeSe+VfrRuAeyLiDZLmADW9dOTUQYP6nQeF7V53z6Nc2nc6N96/o2Qqp889a1VJLvXcAvwb0Jt//D3gLdV2KKkT+Fng7wAi4khE/Lja7ZXi1EGD+p0Hhe1uWLNstOgXb7+QylnLPs1qqVI6Z+F/A6dGxO1AFiAiRoBjU+jzLHJf5fgpSQ9J+qSkE8JBJF0hqV9S/+Dg4KQ6cOqgQf3Og8J2y6VuZsd9GN7nnrWaSq/4/yf/e0jSYvLfxiXpFUBmCn22AxcAH4+IlwBD5L7Xd4yIuCki+iKir7u7e1IdOHXQoH7nQfF2J0rlrFWfZrVUqfAXTt+rgTuBF0r6L+A24I+m0OcuYFdEfCv/+J/J/UNQM04dNKjfeVDY7l1bdnPl2hNTNwupnLXs06yWKoW07QKuzz9sA+aS+8fgMHAsIq4vuWKSTqWvAW+KiMckvRdYEBF/Uq59NSFtTh00qN95UNjus0OHmV3mrh6fe9Zs5ULaKt3VMwtYyPFX/gW1uAPnj4DP5O/oeRx4Yw22OUZbmzireyFndS+s9aZtGqnXeTDRdn3uWSurVPgHIuL99eg0Ih4GTvhXyMzM6i/JNX4zM5tBKhX+dQ0bhZmZNUylL2J5tpEDMTOzxkjyyV0zM5tBXPjNzFImSUibmSWQzQZPPTvEngOHOfD8URZ2zKKzYzYv6umkvb3thLZJEzzHtz395Pk89aNDJ6ybzQZPPDPEk88OsWBOOz2dczn9lOnzGYJ6JKk6pbc0F36zGshmg/sf28uOvc9xw33H0zqvvugneeKZIX5xVe9o8Z9Mamiptps2ruaj9+/gyf3Pj6772hf38OVH945pd9W6lazsWcjas3tavtjVI0nVKb3l+VKPWQ3s3D/E1l2Z0aIPuXC26+/9Hjv2Pcf2gcyYtklTQ0u1vXbzNjasWTZm3e0DmRPa3XDfDrbuykyLZNB6JKk6pbc8F36zGth7YJhslE/r3JMZHtM2aWpoubbS2McDmdLtssG0SAatR5KqU3rLc+E3q4Gezg5mqXxa59KujjFtk6aGlmtbHLHVMbuN3q55ZfueDsmg9UhSdUpveS78ZjWwYvECzl3exVXrxqZ1Xn3RT7JyyUJW9XaNaZs0NbRU200bV3P31t1j1l3V23lCu6vWrWTN8q5pkQxajyRVp/SWVzads5VUk85p1miFu3r2HjhM5vmjLJg7i655le/qSZLgOb5t4a6e8esW7up56tkh5k/ju3pqmWqa9pTecumcLvxmZjNUucLvSz1mZinjwm9mljIu/GZmKePCb2aWMi78ZmYp48JvZpYyTSv8kmZJekjS3c0ag5lZGjUznfMq4FGgs4ljMJu0SlG/IyNZvjOQ4enMMJ3z2untnMcZ4z40VGn9WsQIpz2KOO37n0RTCr+k5cAvAX8BXN2MMZhVo1LUbzYbbN6ym2s3bysbjVxpfWDKMcJpjyJO+/4n1axLPX8NvB3ITtDOrKVUivrdPpAZLfqFZeOjkSutX4sY4bRHEad9/5NqeOGXtAHYFxEPTNDuCkn9kvoHBwcbNDqzyipF/SaJRq60fi1ihNMeRZz2/U+qGa/4XwW8XtJO4HPAWkmfHt8oIm6KiL6I6Ovu7m70GM1KqhT1myQaudL6tYgRTnsUcdr3P6mGF/6IeGdELI+IFcCvAfdHxG82ehxm1agU9buqt5NNG1dXjEautH4tYoTTHkWc9v1PqqnpnJIuBN4WERsqtXM6p7WSSlG/hbt6BjKHWdgxi9O6yt/VU2r9WsQIpz2KOO37X8yxzGZmKeNYZjMzA1z4zcxSx4XfzCxlXPjNzFLGhd/MLGVc+M3MUqaZ6ZwtzQl/M99kjvHISJbtAxkGMsP0ds3j7O6FPDZ4cPTxqt5O2tvbSrYtXpa073LLJ3teOu3TSnHhL8EJfzPfZI7xyEj2hNTN979+NR/7yg6e3P88HbPb2LRxNRvPWwZwQtvCskLxn6jvcstf++Ievvzo3sTnZS3OY/9dmJl8qacEJ/zNfJM5xqVSN9995zY2rFk2+vjazdvYPpAp2bawLGnf5ZZvH8hM6rx02qeV48JfghP+Zr7JHONyqZvS2Md7MuUTOvdkjm93or7LLS+37XLnpdM+rRwX/hKc8DfzTeYYl0vdLE476ZjdxtKu8gmdS7uOb3eivsst7+2a3HnptE8rx4W/BCf8zXyTOcalUjff//rV3L119+jjTRtXs6q3q2TbwrKkfZdbvqq3a1LnpdM+rRyHtJXhhL+ZbzLHuHCnzp7MMEu7Oji7exGPDR4cfbyqt+uEu3pKLUvad7nlkz0vnfaZbk7nNDNLGadzmpkZ4MJvZpY6LvxmZinjwm9mljIu/GZmKePCb2aWMg0PaZP0AuA2YCmQBW6KiBsaPQ5Lr6mkTRavu2BuO0dHsmSGj3LGKQs489TS9+LvHzrMnFltHDpyjCWLOpjVlouB6OnsYHnXPB7de6BikmejOY1z5mtGOucI8McR8aCkRcADku6NiO80YSyWMlNJmyy17lXrVnLbN57kR4eOlEzYvO6eR7m073RuvH/HCessO2kul/zUGbz7C+WTPBvNaZzp0PCzKyIGIuLB/J8PAo8Cyxo9DkunqaRNllr3hvt28MsXLC+bsLlhzbLRoj9+nct/+qzRol9YNj7Js9GcxpkOTf0/paQVwEuAb5VYdoWkfkn9g4ODDR+bzUxTSZsst24hpbNUwqZE2XWePzwyYZJnozmNMx2aVvglLQTuAN4SEQfGL4+ImyKiLyL6uru7Gz9Am5GmkjZZbt1C6km5hM1y68yf2z5hkmejOY0zHZpS+CXNJlf0PxMRn2/GGCydppI2WWrdq9at5PMP7iqbsHnXlt1cuXZlyXVu/e/Hef/FlZM8G81pnOnQ8JA2SQJuBZ6NiLckWcchbVZLU0mbHHNXz5xZHD0WHBg+yukV7up5dugws8fd1bPnQK7vwl09lZI8G81pnDNHy6RzSvoZ4GvAI+Ru5wT404j4Url1XPjNzCavXOFv+O2cEfF1wC8fzMyaxJ/cNTNLGRd+M7OUceE3M0sZF34zs5Rx4TczS5lmhLSZtYypJlEeOXKMrU9n2HdwmO6Fcwng1IVzx2wnmw2eeGaIJ58dYsGcdno653L6KSf2MzKSZftAZjSp88U9i9iVeb7i2EqNH3C6plXkwm+pNdUkyiNHjrF569Nj0jWvXLuSf+x/inesfzHrVy0FKJnoubJnIWvP7hntZ2Qky+Ytu7l2c25bZyyex5tfs3LMtsePrdz457SLP/yHh5yuaWX5Uo+l1lSTKLc+nTkhXfPG+3ewYc2y0e2US/Tcuiszpp/tA5nRog+wYc2yE7Y9fmzlxr91V8bpmlaRC7+l1lSTKPdUSOssbKdcH9lgTD8DmbHtyqV6Fq9TadvV7pOlgwu/pdZUkyh7K6R1FrZTro82Maaf3q55JdtVGlulbVe7T5YOLvyWWlNNojz3tK4T0jWvXLuSu7fuHt1OuUTPNcu7xvSzqreTTRuPb+uuLbtP2Pb4sZUb/5rlXU7XtIoaHtJWDYe0Wb1MNYly/F09CBYvKH1Xz1PPDjE/wV09haTOF/d0sivzfMWxlRo/4HRNA1oonbMaLvxmZpNXrvD7Uo+ZWcq48JuZpYwLv5lZyrjwm5mljAu/mVnKTIu7eiQNAk82uNtTgWca3Ger8lwc57nI8Twc18pzcUZEdI9/cloU/maQ1F/qNqg08lwc57nI8TwcNx3nwpd6zMxSxoXfzCxlXPjLu6nZA2ghnovjPBc5nofjpt1c+Bq/mVnK+BW/mVnKuPCbmaVMKgq/pFMk3StpR/73yWXarZf0mKTvS7omyfqS3plv/5ikXyixzTslbavPnk1Oo+dB0nxJX5T0XUnbJX2g/ntZWbl9K1ouSTfml2+VdMFE607l/GiWRs6DpIskPSDpkfzvtY3Zy2QafU7kl58u6TlJb6vv3pURETP+B/ggcE3+z9cA15VoMwv4AXAWMAfYApxTaX3gnHy7ucCZ+fVnFW3zl4F/ALY1ew6aMQ/AfOA1+TZzgK8Bv9jE/S+7b0VtXgf8KyDgFcC36nV+pGgeXgKclv/zamB3s+egWXNRtM07gH8C3taM/U7FK37gYuDW/J9vBTaWaPMy4PsR8XhEHAE+l1+v0voXA5+LiMMR8QTw/fx2kLQQuBrYVNM9mZqGzkNEHIqI/wDIb+tBYHlN92hyKu1bwcXAbZHzTeAkSb0TrDvp86PJGjoPEfFQRDydf3470CFpbp32bbIafU4gaSPwOLm5aIq0FP6eiBgAyP9eUqLNMuCHRY935Z+rtH6ldf4c+CvgUC12oEaaMQ8ASDoJ+F/AfVPbhSmZcJwV2tRlXpqk0fNQ7FeAhyLicNWjr62GzoWkBcA7gPfVaPxVaW9m57Uk6d+BpSUWvSvpJko8N9G9riXXkXQ+8BMR8VZJKxL2XxOtNA9FY2oHPgvcGBGPJxxHPSTZt3Jtaj4vTdToechtUFoFXAe8Nkn7Bmn0XLwP+EhEPCc17+swZ0zhj4ifL7dM0l5JvRExkP8v2r4SzXYBLyh6vBwo/Pe03Prl1nkl8FJJO8nN8RJJX4mIC6vYtUlpsXkouAnYERF/Pbm9qbmJxlmpzZwK61Y7L83S6HlA0nLgX4DLI+IHNdmL2mj0XLwceIOkDwInAVlJwxHxN7XYmcSa8cZCo3+ADzH2jZYPlmjTTu6625kcf6NmVaX1gVWMffPucca9eQesoHXe3G34PJB7j+MOoK0F9r/svhW1+SXGvpH3P/U8P1IyDyfl2/1Ks/e92XMxbrvvpUlv7jZ94ht0cBeTu7a8I//7lPzzpwFfKmr3OuB75N6pf9dE6+eXvSvf/jFK3LFCaxX+hs4DuVdAATwKPJz/eVOT5+CEfQP+APiD/J8FfCy//BGgr57nRxrmAbgWGCo6Bx4GljR7Dpp1ThS1eS9NKvyObDAzS5m03NVjZmZ5LvxmZinjwm9mljIu/GZmKePCb2aWMi781jSS/nuS7S+UdHeVfb1F0vwKyz8p6ZwJtvEVSTX/Uu3JzkN+nfdLKvthPbNKZswnd236iYifbmB3bwE+TYnsJEmzIuJNDRzLGNXMQ0S8ux5jsXTwK35rGknP5X9fmH81/c/KZfd/Rvkgk3ze+XclfZ1czHVh3fcWZ5lL2iZphaQFyn0HwJb8c5dKupLch9T+Q9J/FPrOv2r+FvDK4lfzkj4uqV+57xCYMExL0ksl/Wc+a/7f8h/RL/wP4SOSvirpUUk/Jenz+Yz2TUXrF+ahN9/24fzYXy1plqRb8o8fkfTWfNtbJL0h/+d1kh7KL7+5kHwpaaek90l6ML/sRfnnfy7fx8P59RZVfxRtOnLht1bxEnKvys8hl2/+KkkdwCfIpXq+mtLhc+OtB56OiPMiYjVwT0TcSC5D5TUR8Zp8uwXkPlH98oj4+rhtvCsi+oA1wM9JWlOuM0mzgY8Cb4iIlwI3A39R1ORIRPws8LfAF4A3k8uk/z+SFo/b3K8D/xYR5wPnkfuE6/nAsohYHRHnAp8a138HcAtwaX55O/B/i5o8ExEXAB8HCv9Qvg14c76fVwPPl9s/m5lc+K1V/E9E7IqILLmCtwJ4EfBEROyI3EfMP51gO48APy/pOkmvjohMmXbHyGUIlXKJpAeBh8jl7VS69n82uUJ+r6SHycUTFH/nwJ1F49oeEQORiyR+nLEBXwDfBt4o6b3AuRFxMN/uLEkflbQeOFCi/yci4nv5x7cCP1u0/PP53w+Qm1OA/wKuz/9P6KSIGKmwfzYDufBbqyjOZz/G8fefymWKjDD2/O0AyBfAl5IrtH8pqdy18OGIODb+SUlnkntFvC4i1gBfLGy7DJEr6Ofnf86NiOLY4cJ+ZRm7j1nGvccWEV8lV7R3A38v6fKI+BG5V/9fIfe/hU+W6L+SQp+jcxoRHwDeBMwDvlm4BGTp4cJvrey7wJmSXph/fFnRsp3ABQDKfQfqmfk/nwYciohPAx8utAEOAkmuZXeSCxTLSOoBfnGC9o8B3ZJeme9/tnK585Mm6QxgX0R8Avg74AJJp5JLNr0D+DOO70/Bd4EVkn4i//i3gP+coJ8XRsQjEXEd0E/uf1aWIr6rx1pWRAxLugL4oqRngK+Tu6wCucs0l+cvr3ybXEIiwLnAhyRlgaMcv959E/CvkgaKrvOX6nOLpIfIfS3e4+Qui1Qa45H8m6w3Suoi93fqr6nua/UuBP5E0lHgOeByct/o9ClJhRdp7xzX/7CkNwL/pNwX3nyb3PsJlbxF0mvI/S/gO+Qihy1FnM5pZpYyvtRjZpYyLvxmZinjwm9mljIu/GZmKePCb2aWMi78ZmYp48JvZpYy/x9Qt2w0rUA3LgAAAABJRU5ErkJggg==\n",
>>>>>>> Stashed changes
      "text/plain": [
       "<Figure size 432x288 with 1 Axes>"
      ]
     },
     "metadata": {
      "needs_background": "light"
     },
     "output_type": "display_data"
    },
    {
     "data": {
<<<<<<< Updated upstream
      "image/png": "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\n",
=======
      "image/png": "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\n",
>>>>>>> Stashed changes
      "text/plain": [
       "<Figure size 432x288 with 1 Axes>"
      ]
     },
     "metadata": {
      "needs_background": "light"
     },
     "output_type": "display_data"
    }
   ],
   "source": [
    "list = ['agriculture','energy','waste','industrial','bunker fuels']\n",
    "i = 0\n",
    "for i in list:\n",
    "    first_scatter = sns.scatterplot(x=analysis_two_all[i], y=analysis_two_all['Textiles'])\n",
    "    first_scatter.set_xlabel(i + ' emissions')\n",
    "    first_scatter.set_ylabel('Textiles Index')\n",
    "    plt.show()"
   ]
  },
  {
   "cell_type": "markdown",
   "metadata": {},
   "source": [
    "These are scatterplots representing the different emission sectors in comparison to the Cotton production index of each country. "
   ]
  },
  {
   "cell_type": "code",
   "execution_count": 32,
   "metadata": {},
   "outputs": [
    {
     "data": {
      "image/png": "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\n",
      "text/plain": [
       "<Figure size 432x288 with 1 Axes>"
      ]
     },
     "metadata": {
      "needs_background": "light"
     },
     "output_type": "display_data"
    },
    {
     "data": {
      "image/png": "iVBORw0KGgoAAAANSUhEUgAAAX4AAAEGCAYAAABiq/5QAAAAOXRFWHRTb2Z0d2FyZQBNYXRwbG90bGliIHZlcnNpb24zLjMuMiwgaHR0cHM6Ly9tYXRwbG90bGliLm9yZy8vihELAAAACXBIWXMAAAsTAAALEwEAmpwYAAAUfklEQVR4nO3df5BlZ13n8fenk4GByYQfk84ECdCEXWEJiwEbC0jCioTdoC7gAhGVUhaKrFVoiKG0gmKhu0WVqBuVknUdkDUgQkVNIr8MQSSgICEzScjPygaTCUTCzDguZBjtZEJ/9497OunpzPTcZPrc0z3P+1V1q889v55vPzn5zOlzz31OqgpJUjumhi5AkjRZBr8kNcbgl6TGGPyS1BiDX5Iac/TQBYzjuOOOq5mZmaHLkKQ1Zdu2bf9UVdNL56+J4J+ZmWHr1q1DlyFJa0qSOw4030s9ktQYg1+SGmPwS1JjDH5JaozBL0mNWRN39UhSa+bni+2797Lj7jk2H7uemU0bmJrKiuzb4JekVWZ+vrjsxm9y3kXXMrdvnvXrprjgrFM48+QTViT8vdQjSavM9t177w99gLl985x30bVs3713RfZv8EvSKrPj7rn7Q3/B3L55du6ZW5H9G/yStMpsPnY969ftH8/r101x/Mb1K7J/g1+SVpmZTRu44KxT7g//hWv8M5s2rMj+/XBXklaZqalw5skn8IxzTmfnnjmO3+hdPZJ0xJuaCidNH8NJ08es/L5XfI+SpFXN4Jekxhj8ktQYg1+SGmPwS1JjDH5JaozBL0mNMfglqTEGvyQ1xuCXpMYY/JLUGINfkhrTW/AneX+SnUluWDTv8Uk+neTW7ufj+mpfknRgfZ7x/zFw5pJ55wOfqap/C3ymey9JmqDegr+qPg/885LZrwAu7KYvBF7ZV/uSpAOb9DX+zVV1F0D38/iDrZjk7CRbk2zdtWvXxAqUpCPdqv1wt6q2VNVsVc1OT08PXY4kHTEmHfw7kjwBoPu5c8LtS1LzJh38HwV+ppv+GeAvJ9y+JDWvz9s5Pwz8PfD0JHcmeSPwG8BLk9wKvLR7L0maoN4etl5VP3GQRS/pq01J0qGt2g93JUn9MPglqTEGvyQ1xuCXpMYY/JLUGINfkhpj8EtSYwx+SWqMwS9JjTH4JakxBr8kNcbgl6TGGPyS1BiDX5IaY/BLUmMMfklqjMEvSY0x+CWpMQa/JDXG4Jekxhj8ktQYg1+SGmPwS1JjDH5JaozBL0mNMfglqTEGvyQ1xuCXpMYY/JLUGINfkhozSPAn+YUkNya5IcmHk6wfog5JatHEgz/JE4FzgNmqehZwFPDaSdchSa0a6lLP0cCjkhwNPBr4xkB1SFJzJh78VfWPwG8DXwPuAr5dVZdPug5JatUQl3oeB7wCeCrwPcCGJK87wHpnJ9maZOuuXbsmXaYkHbGGuNRzBnB7Ve2qqn3AxcALl65UVVuqaraqZqenpydepCQdqYYI/q8Bz0/y6CQBXgLcPEAdktSkIa7xXwn8OXA1cH1Xw5ZJ1yFJrTp6iEar6h3AO4ZoW5Ja5zd3JakxBr8kNcbgl6TGGPyS1JhDBv+BBlBLclw/5UiS+jbOGf9VSZ6/8CbJq4Av9leSJKlP49zO+ZPA+5NcwWiIhU3AD/VZlCSpP4cM/qq6Psk7gQ8Ce4AXVdWdvVcmSerFIYM/yR8BTwOeDXwv8LEkv19V7+m7OEnSyhvnGv8NwIur6vaq+hTwfOC5/ZYlSerLIYO/qn4HeHKSM7pZ9wLn9lmUJKk/49zO+SZGg6r9YTfrRODSHmuSJPVonEs9bwZOBe4GqKpbgeP7LEqS1J9xgv+eqrp34U33nNzqryRJUp/GCf7PJfllRg9HfynwZ8DH+i1LktSXcYL/fGAXo4em/Dfgk8Db+yxKktSfcb7ANQ+8t3tJkta4gwZ/kutZ5lp+VT27l4okSb1a7oz/R7ufb+5+frD7+VPAv/RWkSSpVwcN/qq6AyDJqVV16qJF5yf5AvDf+y5OkrTyxvlwd0OS0xbeJHkhsKG/kiRJfRpnWOY3MhqW+THd+28Bb+itIklSr8a5q2cb8H1JjgVSVd/uvyxJUl/GGZb5kcCrgBng6CQAVJXX+CVpDRrnUs9fAt8GtgH39FuOJKlv4wT/iVV1Zu+VSJImYpy7er6Y5N/3XokkaSLGOeM/DXh9ktsZXeoJUH5zV5LWpnGC/2W9VyFJmpjlxup5fDe5Z0K1SJImYLkz/m2MBmnLAZYVcFIvFUmSerXcWD1P7avRJI8F3gc8i9E/Im+oqr/vqz1J0gPGucbfh98DLquqVyd5BPDogeqQpOZMPPi7oR9eBLweoHue773LbSNJWjnj3Me/0k5i9CjH/5PkmiTvS/Kg0T6TnJ1ka5Ktu3btmnyVknSEGiv4kxyV5HuSPHnhdRhtHg08F/iDqnoOsJfRc333U1Vbqmq2qmanp6cPozlJ0mLjDNL288A7gB3AfDe7gIf7Ba47gTur6sru/Z9zgOCXJPVjnGv8bwGeXlW7V6LBqvpmkq8neXpV3QK8BLhpJfYtSTq0cYL/64xG51xJPw98qLuj5zbgv67w/iVJBzFO8N8GXJHkEywalrmqLni4jVbVtcDsw91ekvTwjRP8X+tej+hekqQ1bJxHL/46QJKNo7f1nd6rkiT15pC3cyZ5VpJrgBuAG5NsS3Jy/6VJkvowzn38W4DzquopVfUU4K3Ae/stS5LUl3GCf0NVfXbhTVVdATzom7aSpLVhrLt6kvwq8MHu/euA2/srSZLUp3HO+N8ATAMXd6/j6AZYkyStPeOc8Z9RVecsnpHkNcCf9VOSJKlP45zxv23MeZKkNWC5Z+6+DPhh4IlJ3r1o0bHAfX0XJknqx3KXer4BbAVezuj5uwv2AL/QZ1GSpP4s98zdrwBfSbK5qi5cvCzJWxg9PlGStMaMc43/tQeY9/oVrkOSNCHLXeP/CeAngacm+eiiRRuBFRmbX5I0ectd4/8icBej+/b/56L5e4Dr+ixKktSf5a7x3wHcAbwgyWbged2im6vKu3okaY0aZ3TO1wBfBl4DnAVcmeTVfRcmSerHON/cfTvwvKraCZBkGvhrRg9JlyStMePc1TO1EPqd3WNuJ0lahcY5478syaeAD3fvfxz4q/5KkiT1aZxHL/5ikv8CnAYE2FJVl/RemSSpF8vdx/9vgM1V9YWqWhiSmSQvSvK0qvqHSRUpSVo5y12r/11G9+wv9S/dMknSGrRc8M9U1YO+qFVVW4GZ3iqSJPVqueBfv8yyR610IZKkyVgu+K9K8qalM5O8kf2HaZYkrSHL3dVzLnBJkp/igaCfBR4B/FjPdUmSerLcWD07gBcmeTHwrG72J6rqbyZSmSSpF+Pcx/9Z4LMTqEWSNAEOvSBJjRks+JMcleSaJB8fqgZJatE4Y/X05S3AzcCxA9agI8T8fLF991523D3H5mPXM7NpA1NTGbosaVUaJPiTnAj8CPBO4LwhatCRY36+uOzGb3LeRdcyt2+e9eumuOCsUzjz5BMMf+kAhrrU87vALwHzA7WvI8j23XvvD32AuX3znHfRtWzfvXfgyqTVaeLBn+RHgZ1VteyXwJKcnWRrkq27du2aUHVai3bcPXd/6C+Y2zfPzj1zA1UkrW5DnPGfCrw8yXbgI8APJfmTpStV1Zaqmq2q2enp6UnXqDVk87HrWb9u/0N5/bopjt+43KgjUrsmHvxV9baqOrGqZoDXAn9TVa+bdB06csxs2sAFZ51yf/gvXOOf2bRh4Mqk1WnIu3qkFTE1Fc48+QSecc7p7Nwzx/EbvatHWs6gwV9VVwBXDFmDjgxTU+Gk6WM4afqYoUuRVj2/uStJjTH4JakxBr8kNcbgl6TGGPyS1BiDX5IaY/BLUmMMfklqjMEvSY0x+CWpMQa/JDXG4Jekxhj8ktQYg1+SGmPwS1JjDH5JaozBL0mNMfglqTEGvyQ1xuCXpMYY/JLUGINfkhpj8EtSYwx+SWqMwS9JjTH4JakxBr8kNcbgl6TGGPyS1BiDX5IaY/BLUmOOnnSDSZ4EfAA4AZgHtlTV7610O/Pzxfbde9lx9xybj13PzKYNTE1lpZtZc3UdqH1g1fTV0P3TKvu9LRMPfuA+4K1VdXWSjcC2JJ+uqptWqoH5+eKyG7/JeRddy9y+edavm+KCs07hzJNPGPRgHrqug7X/iKPDz/3pNYP31dD90yr7vT0Tv9RTVXdV1dXd9B7gZuCJK9nG9t177z+IAeb2zXPeRdeyfffelWxmzdV1sPavu/Pbq6Kvhu6fVtnv7Rn0Gn+SGeA5wJUHWHZ2kq1Jtu7atesh7XfH3XP3H8QL5vbNs3PP3GFUe/iGrutg7c8XD5o3RF8N3T+tst/bM1jwJzkG+Avg3Kq6e+nyqtpSVbNVNTs9Pf2Q9r352PWsX7f/r7Z+3RTHb1x/OCUftqHrOlj7S/+aH6qvhu6fVtnv7Rkk+JOsYxT6H6qqi1d6/zObNnDBWafcfzAvXLNc+CBzKEPXdbD2n33iY1ZFXw3dP62y39uTqjr0WivZYBLgQuCfq+rccbaZnZ2trVu3PqR2Fu5S2LlnjuM3rp67FIau60DtA6umr4bun1bZ70emJNuqavZB8wcI/tOAvwWuZ3Q7J8AvV9UnD7bNwwl+SWrdwYJ/4rdzVtXfAZ5KSNJA/OauJDXG4Jekxhj8ktQYg1+SGmPwS1JjDH5JaozBL0mNMfglqTEGvyQ1xuCXpMYY/JLUmCEevSg9bD4bVjp8Br/WDJ8NK60ML/VozfDZsNLKMPi1ZvhsWGllGPxaM3w2rLQyDH6tGT4bVloZfrirNWNqKpx58gk845zTfTasdBgMfq0pU1PhpOljOGn6mKFLkdYsL/VIUmMMfklqjMEvSY0x+CWpMQa/JDUmVTV0DYeUZBdwx9B1rALHAf80dBGrhH2xP/vjAfbFA55SVdNLZ66J4NdIkq1VNTt0HauBfbE/++MB9sWhealHkhpj8EtSYwz+tWXL0AWsIvbF/uyPB9gXh+A1fklqjGf8ktQYg1+SGmPwT1CSM5PckuSrSc4/wPIkeXe3/Lokzz3Utkken+TTSW7tfj5u0bK3devfkuQ/9f8bjm+SfZFkJsm/Jrm2e/3vyfyW4+upP16T5MYk80lml+yvtWPjgH2xFo6NXlSVrwm8gKOAfwBOAh4BfAV45pJ1fhj4KyDA84ErD7Ut8JvA+d30+cC7uulndus9Enhqt/1RQ/fDQH0xA9ww9O89QH/8O+DpwBXA7KJ9tXhsHKwvVvWx0dfLM/7J+QHgq1V1W1XdC3wEeMWSdV4BfKBGvgQ8NskTDrHtK4ALu+kLgVcumv+Rqrqnqm4HvtrtZzWYdF+sdr30R1XdXFW3HKC95o6NZfqiSQb/5DwR+Pqi93d288ZZZ7ltN1fVXQDdz+MfQntDmXRfADw1yTVJPpfk9MP/FVZUX/1xOO0NZdJ9Aav72OiFT+CanAM9H3DpvbQHW2ecbR9Oe0OZdF/cBTy5qnYn+X7g0iQnV9Xdhy51Ijw2HuCxMQGe8U/OncCTFr0/EfjGmOsst+2O7s9cup87H0J7Q5loX3SXNHZ309sYXQf+3hX5TVZGX/1xOO0NZaJ9sQaOjX4M/SFDKy9Gf13dxujDtIUPnk5ess6PsP+HVl8+1LbAb7H/B5q/2U2fzP4f4N3G6vkAb9J9Mb3wuzP64O8fgccP3Q9998eiba9g/w80mzs2lumLVX1s9NbPQxfQ0ovR3Qj/l9FZxa90834W+NluOsB7uuXXLzlAH7RtN38T8Bng1u7n4xct+5Vu/VuAlw39+w/VF8CrgBu7ILga+M9D//4T6o8fY3QWfA+wA/hUw8fGAftiLRwbfbwcskGSGuM1fklqjMEvSY0x+CWpMQa/JDXG4Jekxhj80oQkmU3y7oex3SeTPLaHktQob+dUM5IcXVX3DV2HNDTP+LUqJXldki93Y6T/YZKjuvnfSfLOJF9J8qUkm7v500n+IslV3evUbv6vJdmS5HLgA916n05ydbffO5Icl+R/JHnLovbfmeSch1jXu5JsS/LXSX4gyRVJbkvy8m6dH0zy8W76PywaA/6aJBuTPCHJ57t5NywMGJZke5LjuunzumU3JDm3mzeT5OYk7+3GnL88yaO6Zeckuakbt/4jff330hoz9DfIfPla+mI0dvrHgHXd+/8F/HQ3XXTfrmQ0/v7bu+k/BU7rpp8M3NxN/xqwDXhU9/73gbd102d2+zuO0bjsV3fzpxh983PTQ6zrZd30JcDlwDrg+4Bru/k/CHy8m/4YcGo3fQyj4QbeygPfVD0K2NhNb+9q/H5G31Td0G1zI/Ccrvb7gFO69S8CXtdNfwN4ZDf92KH/2/paHS9H59Rq9BJGIXdVEoBH8cDgc/cCH++mtwEv7abPAJ7ZrQ9wbJKN3fRHq+pfu+nTGH19n6q6LMn/66a3J9md5DnAZuCa6gbvegh1XdZNXw/cU1X7klzPKJiX+gJwQZIPARdX1Z1JrgLen2QdcGlVXbtkm9OAS6pqL0CSi4HTgY8Cty9af9uiNq8DPpTkUuDSA9ShBhn8Wo0CXFhVbzvAsn1VtfDB1Hd54BieAl6wKOBHOxoF9N4l+z6Y9wGvB04A3n8Ydc0zGhOGqppP8qD/z6rqN5J8gtHYMl9KckZVfT7JixgNQvbBJL9VVR8Ys/Z7Fk1/l9E/SnT7ehHwcuBXuyGH/ZyjcV7j12r0GeDVSY6H+5+l+5RDbHM58HMLb5KccpD1/g44q1vnPwKPW7TsEkaXf54HfGqF6jqgJE+rquur6l3AVuAZ3b52VtV7gT8Cnrtks88Dr0zy6CQbGP3l8rfLtDEFPKmqPgv8EvBYRpeI1DjP+LXqVNVNSd4OXN6F1z7gzcAdy2x2DvCeJNcxOq4/z2hEx6V+Hfhwkh8HPsfoQRx7unbvTfJZ4FtV9d0Vqutgzk3yYkZn5zcxGmb4tcAvJtkHfAf46SXtX53kj4Evd7PeV1XXJJk5SBtHAX+S5DGM/lr4nar61sOoVUcYb+dUU5I8EvhuVd2X5AXAH1TVKd2yKUZD876mqm4dsEypV57xqzVPBi7qQv5e4E0ASZ7J6EPjSwx9Hek845ekxvjhriQ1xuCXpMYY/JLUGINfkhpj8EtSY/4/SDQb/ipcmrAAAAAASUVORK5CYII=\n",
      "text/plain": [
       "<Figure size 432x288 with 1 Axes>"
      ]
     },
     "metadata": {
      "needs_background": "light"
     },
     "output_type": "display_data"
    },
    {
     "data": {
      "image/png": "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\n",
      "text/plain": [
       "<Figure size 432x288 with 1 Axes>"
      ]
     },
     "metadata": {
      "needs_background": "light"
     },
     "output_type": "display_data"
    },
    {
     "data": {
      "image/png": "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\n",
      "text/plain": [
       "<Figure size 432x288 with 1 Axes>"
      ]
     },
     "metadata": {
      "needs_background": "light"
     },
     "output_type": "display_data"
    },
    {
     "data": {
      "image/png": "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\n",
      "text/plain": [
       "<Figure size 432x288 with 1 Axes>"
      ]
     },
     "metadata": {
      "needs_background": "light"
     },
     "output_type": "display_data"
    }
   ],
   "source": [
    "for i in list:\n",
    "    first_scatter = sns.scatterplot(x=analysis_two_all[i], y=analysis_two_all['Cotton'])\n",
    "    first_scatter.set_xlabel(i + ' emissions')\n",
    "    first_scatter.set_ylabel('Cotton Index')\n",
    "    plt.show()"
   ]
  },
  {
   "cell_type": "markdown",
   "metadata": {},
   "source": [
    "These are scatterplots representing the different emission sectors in comparison to the Clothing production index of each country. "
   ]
  },
  {
   "cell_type": "code",
   "execution_count": 33,
   "metadata": {},
   "outputs": [
    {
     "data": {
      "image/png": "iVBORw0KGgoAAAANSUhEUgAAAYgAAAEGCAYAAAB/+QKOAAAAOXRFWHRTb2Z0d2FyZQBNYXRwbG90bGliIHZlcnNpb24zLjMuMiwgaHR0cHM6Ly9tYXRwbG90bGliLm9yZy8vihELAAAACXBIWXMAAAsTAAALEwEAmpwYAAAbMElEQVR4nO3dfZRcdZ3n8fenSWNDnoCk88DTtmGFjGGYoK3jsII8DZtVDg87gnr0DAqzObAzRMywios7AuPMonKisu44GxUB9TATZoARQcThUefwYAcCJCiooQcDIWmCJiHakFDf/ePejp3mVvXt6rp1q7o/r3PqdNWte3+/7/11dX37Pn2vIgIzM7OROsoOwMzMWpMThJmZZXKCMDOzTE4QZmaWyQnCzMwyTSk7gDxmz54dPT09ZYdhZtZWVq9e/WJEdNe7fFskiJ6eHvr6+soOw8ysrUj69/Es711MZmaWyQnCzMwyOUGYmVkmJwgzM8vkBGFmZpkKSxCSrpG0WdLaEdMvlPSUpHWSPldU/3lVKsH6gZd54Bcvsn7gZSoVFy80M4NiT3O9FvgycP3QBEknAKcDR0XEK5LmFNj/qCqV4I51L7B81RoGd1bo6uxgxdmLWbJoHh0dKjM0M7PSFbYFERH3Ay+NmHwBcGVEvJLOs7mo/vPo37Jjd3IAGNxZYfmqNfRv2VFmWGZmLaHZxyAOB46V9JCk+yS9rdqMkpZK6pPUNzAwUEgwm7YN7k4OQwZ3Vti8fbCQ/szM2kmzE8QUYH/gHcD/AFZJytyXExErI6I3Inq7u+u+UrymuTO66Orccwi6OjuYM72rkP7MzNpJsxPEBuCmSDwMVIDZTY5ht55ZU1lx9uLdSWLoGETPrKllhWRm1jKaXYvpFuBE4F5JhwN7Ay82OYbdOjrEkkXzWLjsWDZvH2TO9C56Zk31AWozMwpMEJJuAI4HZkvaAHwauAa4Jj319VXgnCj5ptgdHWJB9zQWdE8rMwwzs5ZTWIKIiA9UeetDRfVpZmaN4yupzcwskxOEmZllcoIwM7NMThBmZpbJCcLMzDI5QZiZWSYnCDMzy+QEYWZmmZwgzMwskxOEmZllcoIwM7NMThBmZpbJCcLMzDI5QZiZWSYnCDMzy+QEYWZmmZwgzMwsU2EJQtI1kjantxcd+d7FkkLS7KL6NzOz8SlyC+JaYMnIiZIOAf4YeLbAvs3MbJwKSxARcT/wUsZbXwA+DkRRfZuZ2fg19RiEpNOA5yLisWb2a2ZmYzelWR1J2he4FDgl5/xLgaUAhx56aIGRmZlZlmZuQRwGvBF4TFI/cDDwiKR5WTNHxMqI6I2I3u7u7iaGaWZm0MQtiIh4Apgz9DpNEr0R8WKzYjAzs/yKPM31BuAB4AhJGySdV1RfZmbWeIVtQUTEB0Z5v6eovs3MbPx8JbWZmWVygjAzs0xOEGZmlskJwszMMjlBmJlZJicIMzPL5ARhZmaZnCDMzCyTE4SZmWVygjAzs0xOEGZmlskJwszMMjlBmJlZJicIMzPL5ARhZmaZnCDMzCyTE4SZmWVygjAzs0xF3pP6GkmbJa0dNu3zkn4q6XFJN0var6j+zcxsfIrcgrgWWDJi2g+AIyPiKOBp4JMF9m9mZuNQWIKIiPuBl0ZMuzMidqUvHwQOLqp/MzMbnzKPQZwLfK/am5KWSuqT1DcwMNDEsMzMDEpKEJIuBXYB3642T0SsjIjeiOjt7u5uXnBmZgbAlGZ3KOkc4FTgpIiIZvdvZmb5NDVBSFoCfAJ4V0T8ppl9m5nZ2BR5musNwAPAEZI2SDoP+DIwHfiBpDWS/r6o/s3MbHwK24KIiA9kTP56Uf2ZmVlj+UpqMzPL5ARhZmaZnCDMzCyTE4SZmWVq+nUQzVKpBP1bdrBp2yBzZ3TRM2sqHR0qOywzs7YxIRNEpRLcse4Flq9aw+DOCl2dHaw4ezFLFs1zkjAzy2nUXUyS/lrSlGGvZ0j6RrFhjU//lh27kwPA4M4Ky1etoX/LjpIjMzNrH3mOQUwBHpJ0lKRTgB8Dq4sNa3w2bRvcnRyGDO6ssHn7YEkRmZm1n1F3MUXEJyXdBTwE/Ao4LiJ+Xnhk4zB3RhddnR17JImuzg7mTO8qMSozs/aSZxfTccCXgCuAe4EvSzqw4LjGpWfWVFacvZiuzmT1ho5B9MyaWnJkZmbtI89B6quAsyLiSQBJ/xW4G1hYZGDj0dEhliyax8Jlx7J5+yBzpvssJjOzscqTIP4oIl4behERN0m6r8CYGqKjQyzonsaC7mllh2Jm1pbyHKQ+TNJdktYCSDoKuKDYsMzMrGx5EsRXgU8COwEi4nHg/UUGZWZm5cuTIPaNiIdHTNtVRDBmZtY68iSIFyUdBgSApPcCGwuNyszMSpfnIPWfAyuBhZKeA54BPlRoVGZmVro8F8qtB06WNBXoiIjteRqWdA1wKrA5Io5Mpx0A/CPQA/QDZ0fEr+oL3czMilQ1QUhaXmU6ABGxYpS2ryW5B/X1w6ZdAtwVEVdKuiR9/YkxxGtmZk1S6xjE9PTRS3Ja60Hp43zgzaM1HBH3Ay+NmHw6cF36/DrgjLGFa2ZmzVJ1CyIiLgeQdCfwlqFdS5IuA26ss7+5EbExbX+jpDnVZpS0FFgKcOihh9bZnZmZ1SvPWUyHAq8Oe/0qyTGEQkXEyojojYje7u7uorszM7MR8pzF9E3gYUk3k5zqeiZ7HlcYi02S5qdbD/OBzXW2Y2ZmBRt1CyIi/gY4l6TU96+Bj0TE39bZ33eAc9Ln5wD/Umc7ZmZWsLy3HF1DcnHcFABJh0bEs7UWkHQDcDwwW9IG4NPAlcAqSecBzwJn1Re2mZkVbdQEIelCki/3TcBrgEh2NR1Va7mI+ECVt04aY4xmZlaCPFsQHwWOiIgtRQdjZmatI89ZTL8EthYdiJmZtZY8WxDrgXsl3Qa8MjQxx5XUZmbWxvIkiGfTx97pw8zMJoE8xfoub0YgZrVUKkH/lh1s2jbI3BnNv8d4tf7LjsusSLWK9d1Keg+ILBFxWiERmY1QqQR3rHuB5avWMLizQldnByvOXsySRfOa8mVcrf9Tfm8ud/5kU2lxmRVNEdk5QNK7ai0YEfcVElGG3t7e6Ovra1Z31mLWD7zMu6/+IYM7K7undXV2cPuyY1nQPa20/v9x6Tt438oHS4vLbDSSVkdEb73L1yrW17QEYFbLpm2De3wJAwzurLB5+2BTvoir9b9xa7lxmRUtz2muZqWaO6OLrs49P6pdnR3Mmd5Vav/zZ+5TalxmRXOCsJbXM2sqK85evPvLeGhff8+sqaX2v2j+jFLjMita1WMQrcTHIGzobKHN2weZM728s5hG9l92XGa1FHYMYlgHWWczbQX6gP8XEYP1dm6WV0eHWNA9rbR9+9X6LzsusyLl2cW0HngZ+Gr62EZSuO/w9LWZmU1Aea6kPjoijhv2+lZJ90fEcZLWFRWYmZmVK88WRLek3TeFTp/PTl++mr2ImZm1uzxbEH8J/EjSL0juBfFG4L9LmgpcV2RwZmZWnjy1mG6X9CZgIUmC+OmwA9NfLDA2MzMrUd5bjr4V6EnnP0oSEXF9YVGZmVnp8pzm+k3gMJL7Ur+WTg6g7gQh6WPAn6XtPAF8pF1Oly2yeqcrgxbL42s2Nnm2IHqBN0eDrqiTdBCwLG3zt5JWAe8Hrm1E+0Uqsqpo2RVLJzqPr9nY5TmLaS0wr8H9TgH2kTQF2Bd4vsHtF6J/y47dXzCQFGZbvmoN/Vt2tHTb5vE1q0eeBDEbeFLS9yV9Z+hRb4cR8RxwFcld6jYCWyPizpHzSVoqqU9S38DAQL3dNVStqqKt3LZ5fM3qkWcX02WN7FDS/sDpJKfL/hq4UdKHIuJbw+eLiJXASkhqMTUyhnoNVfUcWf+/EdU7i2zbPL5m9Rh1CyIi7st6jKPPk4FnImIgInYCNwHHjKO9pimyqmjZFUsnOo+v2djVuqPcjyLinZK2s2exPgERETPq6lD6Q+Aa4G3Ab0kOTvdFxP+ptkwrVXMtsnqnK4MWy+Nrk814q7mWUu5b0uXA+4BdwKPAn0XEK9Xmb6UEYWbWLgov9512shcwd/j8EfFsvZ1GxKeBT9e7vJmZFS/PhXIXknyZbwKGjvAFcFSBcZmZWcnybEF8FDgiIrYUHYyZmbWOPNdB/JLkDnJmZjaJVN2CkLQ8fboeuFfSbcDuA8kRsaLg2MzMrES1djFNT38+mz72Th/w+ntUm5lZA7VCccmqCSIiLgeQdFZE3Dj8PUlnFR2Ymdlk1SrFJfMcg/hkzmlmZtYArVJcstYxiP8CvBs4SNLVw96aQXKBm5mZFaBWcckF3dOaFketYxDPA33AacDqYdO3Ax8rMigzs8msVYpLVt3FFBGPRcR1wH8EbiBJEquBWyPiV02Kz8xs0mmV4pJ5LpQ7huT2ov0khfoOkXRORNxfZGBmZpNVR4dYsmgeC5cdW2pxyTwJYgVwSkQ8BSDpcJItircWGZiZ2WTW0SEWdE9r6jGH18WQY57OoeQAEBFPA53FhWRmZq0gzxZEn6SvA99MX3+QPQ9am5nZBJQnQVwA/DmwjOQYxP3A3xUZlJmZlW/UBJHeyGdF+jAzs0mi1oVyT1Cj5lJE+H4QZmYTWK0tiFOL6lTSfsDXgCNJktC5EfFAUf2ZmdnY1UoQncDciPi34RMlHUtylfV4fAm4IyLeK2lvYN9xtmdmZg1W6zTXL5KU1Rjpt+l7dZE0AzgO+DpARLwaEb+utz0zMytGrQTRExGPj5wYEX1Azzj6XAAMAN+Q9Kikr0l63fXjkpZK6pPUNzAwMI7uzMysHrUSRK2qUPuMo88pwFuAr0TE0cAO4JKRM0XEyojojYje7u7ucXRnZmb1qJUgfizpv42cKOk8xneh3AZgQ0Q8lL7+J5KEYWZmLaTWQeqLgJslDb9yupfktqNn1tthRLwg6ZeSjkhLeJwEPFlve2ZmVoxatxzdBBwj6QSS01EBbouIuxvQ74XAt9MzmNYDH2lAm2Zm1kB5rqS+B7inkZ1GxBqSrREzM2tReaq5mpnZJOQEYWZmmZwgzMwskxOEmZllynM/CLOWUqkE/Vt2sGnbIHNnZN+rN888ZlabE4S1lUoluGPdCyxftYbBnRW6OjtYcfZiliyatzsB5JnHzEbnXUzWVvq37Nj9xQ8wuLPC8lVr6N+yY0zzmNnonCCsrWzaNrj7i3/I4M4Km7cPjmkeMxudE4S1lbkzuujq3PNj29XZwZzpXWOax8xG5wRhbaVn1lRWnL14dwIYOr7QM2vqmOYxs9Epouptp1tGb29v9PX1lR2GtYihM5Q2bx9kzvTaZzHVmsdsopO0OiLqLmvks5is7XR0iAXd01jQPW1c85hZbd7FZGZmmZwgzMwskxOEmZllcoIwM7NMThBmZpaptLOYJO0F9AHPRcSpZcVh7atWQT4X6zMbvzJPc/0o8BNgRokxWJuqVZAPcLE+swYoZReTpIOB9wBfK6N/a3+1CvK5WJ9ZY5R1DOKLwMeBSrUZJC2V1Cepb2BgoGmBWXuoVZDPxfrMGqPpCULSqcDmiFhda76IWBkRvRHR293d3aTorF3UKsjnYn1mjVHGFsR/Ak6T1A/8A3CipG+VEIe1sVoF+Vysz6wxSi3WJ+l44OLRzmJysT7LUqsgn4v1mblYn01itQryuVif2fiVmiAi4l7g3jJjMDOzbL6S2szMMjlBmJlZJicIMzPL5ARhZmaZnCDMzCyTT3OdpFqp2mmRsVRre9euCus2bmXj1kHmz9yHRfNnMGXKxPl/qZV+v9a+nCAmoVqVUJv9JVJkLNXaPvmIOXznief51C1rd0//zBlHcsYfHDQhkkQr/X6tvbX/X4ONWStVOy0ylmptP/781t3JYWj6p25Zy7qNW8fdZytopd+vtTcniEmolaqdFhlLtbZfqDZ968So9tpKv19rb04Qk1ArVTstMpZqbc+vMn3ezIlR7bWVfr/W3pwgJqFWqnZaZCzV2v79A2fymTOO3GP6Z844kkXzZ467z1bQSr9fa2+lVnPNy9VcG6+Vqp0WGUu1tofOYnph6yDzZnaxaP7MCXGAekgr/X6tPOOt5uoEYWY2QY03QUycf5nMzKyhnCDMzCyTE4SZmWVygjAzs0xOEGZmlqnptZgkHQJcD8wDKsDKiPhSs+Ow2ppR7K3RfdRqz8XrzMaujGJ9u4C/jIhHJE0HVkv6QUQ8WUIslqEZxd4a3Uet9gAXrzOrQ9N3MUXExoh4JH2+HfgJcFCz47DqmlHsrdF91GrPxevM6lPqMQhJPcDRwEMZ7y2V1Cepb2BgoOmxTWbNKPbW6D5qtefidWb1KS1BSJoG/DNwUURsG/l+RKyMiN6I6O3u7m5+gJNYM4q9NbqPWu25eJ1ZfUpJEJI6SZLDtyPipjJisOqaUeyt0X3Uas/F68zq0/RaTJIEXAe8FBEX5VnGtZiarxnF3hrdR632XLzOJqO2K9Yn6Z3AD4EnSE5zBfifEXF7tWWcIMzMxm68CaLpp7lGxI8A/+tmZtbifCW1mZllcoIwM7NMThBmZpbJCcLMzDKVUYvJJikXzDNrL04Q1hTNKABoZo3lXUzWFC6YZ9Z+nCCsKVwwz6z9OEFYU7hgnln7cYKwpnDBPLP244PU1hQdHWLJonksXHasC+aZtQknCGuajg6xoHsaC7qnlR2KmeXgXUxmZpbJCcLMzDI5QZiZWSYnCDMzy+QEYWZmmZp+y9F6SBoA/r3sOBpkNvBi2UG0II/L63lMsnlcsmWNy3+IiO56G2yLBDGRSOobzz1iJyqPy+t5TLJ5XLIVMS7exWRmZpmcIMzMLJMTRPOtLDuAFuVxeT2PSTaPS7aGj4uPQZiZWSZvQZiZWSYnCDMzy+QE0QCSDpD0A0k/S3/uX2W+JZKekvRzSZeMtrykP5a0WtIT6c8Tm7VO41FtPYe9L0lXp+8/Luktoy2bd4xbWUHj8nlJP03nv1nSfk1anYYpYlyGvX+xpJA0u+j1aKSixkTShel76yR9btRAIsKPcT6AzwGXpM8vAT6bMc9ewC+ABcDewGPAm2stDxwNHJg+PxJ4rux1zTEWVddz2DzvBr4HCHgH8FC9Y9QujwLH5RRgSvr8sx6X3y0LHAJ8n+Qi29llr2vZYwKcAPwr8Ib09ZzRYvEWRGOcDlyXPr8OOCNjnrcDP4+I9RHxKvAP6XJVl4+IRyPi+XT6OqBL0hsaHn1j1VrPIacD10fiQWA/SfNHWTbPGLeyQsYlIu6MiF3p8g8CBzdjZRqoqM8LwBeAjwPtdiZOUWNyAXBlRLwCEBGbRwvECaIx5kbERoD055yMeQ4Cfjns9YZ0Wt7l/wR4dOiX28Jqredo84x3jFpZUeMy3Lkk/1W2k0LGRdJpJFvcjzU64CYo6rNyOHCspIck3SfpbaMF4jvK5STpX4F5GW9dmreJjGm5/rORtIhk98EpOfsqU571rDZP3WPUBgodF0mXAruAb9cVXXkaPi6S9iX5u2yHv5csRX1WpgD7k+ySehuwStKCSPc3ZXGCyCkiTq72nqRNkuZHxMZ0My9r020DyT7RIQcDQ7uPqi4v6WDgZuBPI+IX416R4tVaz9Hm2bvGsnnGuJUVNS5IOgc4FTip1h97iypiXA4D3gg8Jmlo+iOS3h4RLzQ0+mIU9VnZANyUfkYellQhKfA3UDWSsg/ITIQH8Hn2PID6uYx5pgDrST64QwePFtVaHtgvne9Pyl7HMYxF1fUcNs972PMA28P1jlG7PAoclyXAk0B32evYSuMyYvl+2usgdVGflfOBK9Lnh5PsilLNWMoejInwAGYBdwE/S38ekE4/ELh92HzvBp4mOcvg0hzLfwrYAawZ9hj1zIOyH1nrmX44z0+fC/i/6ftPAL31jlE7PQoal5+nf+hDn4+/L3s9W2FcRrTfTxsliAI/K3sD3wLWAo8AJ44Wh0ttmJlZJp/FZGZmmZwgzMwskxOEmZllcoIwM7NMThBmZpbJCcLaiqTTsqpb5lz2WknvTZ9flF5x23IkXSGp6oWZVZbplXR1UTHZ5OTTXK1tSJoSvytMV8/y1wLfjYh/ktRPcu74i83q36zdeAvCmkrSLem9LdZJWjps+nmSnpZ0r6SvSvpyOv1aSSsk3QN8VtKHh703N70HwmPp4xhJPZLWDmv3YkmXjYhhGclFjPek7SLp5WHvvzdNJln9HybpjnQdfihpYcY6TpV0jaQfS3pU0unp9A+n63+rpGck/YWk5ek8D0o6YFifQ1s6V0p6Mq35f1U67SxJa9N1vj+ddryk76bPD0j7eTxt96h0+mVpXPdKWp+Ow1C8t6XtrZX0vvp/wzaRuBaTNdu5EfGSpH2AH0v6Z+ANwP8C3gJsB+4mKREw5HDg5Ih4TdKHh02/GrgvIs6UtBcwjaQYWU0RcbWk5cAJObcghvd/F8nVrD+T9IfA3wEjb+R0KXB3RJyr5AY+D6fFHiG5r8fRQBfJVdCfiIijJX0B+FPgi0ONpAnjTGBhRIR+dzOgvwL+c0Q8p+wbBF1OUvn3DCU3mboeWJy+t5DkvgDTgackfYWkXMfzEfGetN+ZOcbEJgEnCGu2ZZLOTJ8fAryJpErufRHxEoCkG0m+lIfcGBGvZbR1IsmXKun7W1XMneZuTJPDNOAY4Ma0CBwkyW2kU4DTJF2cvu4CDk2f3xMR24HtkrYCt6bTnwCOGtHONmAQ+Jqk24DvptP/DbhW0irgpoz+30lSHp6IuFvSrGFf+rdFUjL+FUmbgblp31dJ+izJLrgfjjYgNjk4QVjTSDoeOBn4o4j4jaR7Sb48s0oUD7djDN3sYs9dp105lxt+MG7kMkP9dwC/jojFo7QlkgKLT+0xMdniGH4/j8qw1xVG/D1GxC5JbwdOAt4P/AVJ/Zzz07beA6yRNDKeWiWfh/f/Gsnd6J6W9FaSGj7/W9KdEXHFKOtok4CPQVgzzQR+lSaHhSRVKAEeBt4laX9JU0j/+83hLpK7ZCFpL0kzgE3AnPS/5jeQlMHOsp1kN8uQTZJ+T1IHyW6d14mIbcAzks5K+5SkP8iY9fvAhUo3MyQdnXN99pBuscyMiNuBi0h3E0k6LCIeioi/Al5kz/LOAPcDH0znPR54MY29Wj8HAr+JiG8BV5Hs6jPzFoQ11R3A+ZIeB54iuUUm6b70vwUeIqld/ySwNUd7HwVWSjqP5L/hCyLiAUlXpG09A/y0yrIrge9J2hgRJ5CUEP8uSWXUtSTHM7J8EPiKpE8BnSS3dBx517K/JjmW8HiaJPqpnqhqmQ78i6ShrayPpdM/L+lN6bS70v7fNWy5y4BvpOP8G+CcUfr5/bTNCrCTNOma+TRXawmSpkXEy+kWxM3ANRFxc9lxmU1m3sVkreIySWtI/nt/Bril1GjMzFsQZmaWzVsQZmaWyQnCzMwyOUGYmVkmJwgzM8vkBGFmZpn+P9/puyD0pPdEAAAAAElFTkSuQmCC\n",
      "text/plain": [
       "<Figure size 432x288 with 1 Axes>"
      ]
     },
     "metadata": {
      "needs_background": "light"
     },
     "output_type": "display_data"
    },
    {
     "data": {
      "image/png": "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\n",
      "text/plain": [
       "<Figure size 432x288 with 1 Axes>"
      ]
     },
     "metadata": {
      "needs_background": "light"
     },
     "output_type": "display_data"
    },
    {
     "data": {
      "image/png": "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\n",
      "text/plain": [
       "<Figure size 432x288 with 1 Axes>"
      ]
     },
     "metadata": {
      "needs_background": "light"
     },
     "output_type": "display_data"
    },
    {
     "data": {
      "image/png": "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\n",
      "text/plain": [
       "<Figure size 432x288 with 1 Axes>"
      ]
     },
     "metadata": {
      "needs_background": "light"
     },
     "output_type": "display_data"
    },
    {
     "data": {
      "image/png": "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\n",
      "text/plain": [
       "<Figure size 432x288 with 1 Axes>"
      ]
     },
     "metadata": {
      "needs_background": "light"
     },
     "output_type": "display_data"
    }
   ],
   "source": [
    "for i in list:\n",
    "    first_scatter = sns.scatterplot(x=analysis_two_all[i], y=analysis_two_all['Clothing'])\n",
    "    first_scatter.set_xlabel(i + ' emissions')\n",
    "    first_scatter.set_ylabel('Clothing Index')\n",
    "    plt.show()"
   ]
  },
  {
   "cell_type": "markdown",
   "metadata": {},
   "source": [
    "These are scatterplots representing the different emission sectors in comparison to the Garment production index of each country. "
   ]
  },
  {
   "cell_type": "code",
   "execution_count": 34,
   "metadata": {},
   "outputs": [
    {
     "data": {
      "image/png": "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\n",
      "text/plain": [
       "<Figure size 432x288 with 1 Axes>"
      ]
     },
     "metadata": {
      "needs_background": "light"
     },
     "output_type": "display_data"
    },
    {
     "data": {
      "image/png": "iVBORw0KGgoAAAANSUhEUgAAAXgAAAEGCAYAAABvtY4XAAAAOXRFWHRTb2Z0d2FyZQBNYXRwbG90bGliIHZlcnNpb24zLjMuMiwgaHR0cHM6Ly9tYXRwbG90bGliLm9yZy8vihELAAAACXBIWXMAAAsTAAALEwEAmpwYAAAXP0lEQVR4nO3dfZQddX3H8ffnJhsXNknRsEmoGNe0p1hjS9DVlvJQRNGIlWrVKBU9fYLaahGjRai2QltPC9ZUPFoP0Wq1Pp2gQhUwglREWgU2cXkISCnpIigky7aYZO3CkvvtHzMbbtK7u7N379yHH5/XOXMyd55+39xsPpn8ZuY3igjMzCw9lXYXYGZm5XDAm5klygFvZpYoB7yZWaIc8GZmiVrY7gJqHX744TEwMNDuMszMusbWrVsfjoj+eus6KuAHBgYYGhpqdxlmZl1D0n3TrXMXjZlZohzwZmaJcsCbmSXKAW9mligHvJlZokoLeElHSRqumXZLOqes9sxSV60GO0b38t17H2bH6F6qVQ8UaDMr7TbJiLgbWAsgaQHwI+DystozS1m1GmzZ/hAbNg8zMVmlt6fCxvVrWbdmJZWK2l2edahWddG8GLg3Iqa9X9PMpjcyNr4/3AEmJqts2DzMyNh4myuzTtaqgH8D8IV6KySdJWlI0tDo6GiLyjHrLjt3T+wP9ykTk1V27ZloU0XWDUoPeEmLgNOAy+qtj4hNETEYEYP9/XWftjV70luxtJfengP/uvb2VFi+pLdNFVk3aMUZ/MuBbRGxswVtmSVpYFkfG9ev3R/yU33wA8v62lyZdbJWjEVzOtN0z5hZMZWKWLdmJc8++wR27Zlg+ZJeBpb1+QKrzajUgJd0KHAK8IdltmP2ZFCpiNX9i1ndv7jdpViXKDXgI+KnwLIy2zAzs/r8JKuZWaIc8GZmiXLAm5klygFvZpYoB7yZWaIc8GZmiXLAm5klygFvZpYoB7yZWaIc8GZmiXLAm5klygFvZpYoB7yZWaIc8GZmiXLAm5klygFvZpYoB7yZWaIc8GZmiXLAm5klygFvZpYoB7yZWaIc8GZmiXLAm5klygFvZpYoB7yZWaIc8GZmiXLAm5klygFvZpYoB7yZWaIc8GZmiXLAm5klqtSAl3SYpC9J+oGkuyQdW2Z7Zmb2hIUlH/8SYEtEvFbSIuDQktszM7NcaQEvaSlwIvA7ABHxGPBYWe2ZmdmByuyiWQ2MAp+S9H1Jn5DUd/BGks6SNCRpaHR0tMRyzMyeXMoM+IXA84CPRcQxwDhw3sEbRcSmiBiMiMH+/v4SyzEze3IpM+AfAB6IiJvyz18iC3wzM2uB0gI+Ih4C7pd0VL7oxcCdZbVnZmYHKvsumj8BPpffQbMD+N2S2zMzs1ypAR8Rw8BgmW2YmVl9fpLVzCxRDngzs0Q54M3MEuWANzNLlAPezCxRDngzs0Q54M3MEuWANzNLlAPezCxRDngzs0Q54M3MEuWANzNLlAPezCxRDngzs0Q54M3MEjVrwEtaXmfZUfW2NTOzzlHkDP47ktZPfZD0TuDy8koyM7NmKPJGp5OATZJeB6wA7gJeWGZRZmY2f7OewUfEg8AW4FhgAPhMROwtuS4zM5unWc/gJV0LPAg8FzgS+KSkGyLiXWUXZ2ZmjSvSB//RiHhzRDwSEXeQncn/pOS6zMxsnop00Vwh6XhJv5sveirw2XLLMjOz+Spym+T7gHcD5+eLFuGANzPreEW6aF4NnAaMA0TEj4ElZRZlZmbzVyTgH4uIAAJAUl+5JZmZWTMUCfjNki4FDpN0JvBN4OPllmVmZvM1622SEfF3kk4BdgNHAX8REdeWXpmZmc1LkSdZyQPdoW5m1kWmDXhJe8j73euJiKWlVGRmZk0xbcBHxBIASX8JPAT8MyDgjfguGjOzjleki+ZlEfErNZ8/Jukm4OLZdpQ0AuwB9gGPR8RgQ1VaU1SrwcjYODt3T7BiaS8Dy/qoVNTussysJEUCfp+kNwJfJOuyOZ0ssIt6UUQ83Ehx1jzVarBl+0Ns2DzMxGSV3p4KG9evZd2alQ55s0QVuU3yt4H1wM58el2+zLrIyNj4/nAHmJissmHzMCNj422uzMzKUuQ2yRHgNxs8fgDXSArg0ojYdPAGks4CzgJYtWpVg83YbHbuntgf7lMmJqvs2jPB6v7FbarKzMpUZLjgfuBMsrHg928fEb9X4PjHRcSP89f+XSvpBxFxQ+0GeehvAhgcHJz2rh2bnxVLe+ntqRwQ8r09FZYv6W1jVWZWpiJdNP8C/AzZE6xX1UyzysetISJ2kb3mz2+CapOBZX1sXL+W3p7sj3yqD35gmUeeMEtVkYush0bEu+d64HzMmkpE7MnnXwr85VyPY81RqYh1a1by7LNPYNeeCZYv8V00ZqkrEvBXSjo1Iq6e47FXAJdLmmrn8xGxZa4FWvNUKmJ1/2L3uZs9SRQJ+LcDfybpUWCS7GGnmO1J1ojYARw9/xLNzKwRRe6i8VOrZmZdaKaxaJ43044Rsa355ZiZWbPMdAb/wRnWBXByk2sxM7MmmmmwsRe1shAzM2uuIvfBm5lZF3LAm5klygFvZpaoWQNe0nH5k6hIOkPSRknPLL80MzObjyJn8B8DfirpaOBc4D7gM6VWZWZm81Yk4B+PiCAbMviSiLgEv7LPzKzjFRmqYI+k84EzgBMlLQB6yi3LzMzmq8gZ/OuBR4Hfj4iHgKcDHyi1KjMzm7ciZ/DvqB0uOCJ+KGlNiTWZmVkTFDmDP6XOspc3uxAzM2uumQYb+yPgj4HVkm6rWbUE+PeyCzMzs/mZqYvm88DXgb8BzqtZvici/rvUqszMbN5mGmzsJ8BPgNPzO2dW5NsvlrQ4In7YohrNzKwBs15klfQ24AJgJ1DNFwfwy+WVZWZm81XkLppzgKMiYqzkWszMrImK3EVzP1lXjZmZdZEiZ/A7gOslXUX2wBMAEbGxtKrMzGzeigT8D/NpUT6ZmVkXmDXgI+JCAEl9ETFefklmZtYMRcaDP1bSncBd+eejJf1D6ZWZmdm8FLnI+iHgZcAYQETcCpxYYk1mZtYEhV7ZFxH3H7RoXwm1mJlZExW5yHq/pF8DQtIi4Gzy7hozM+tcRc7g3wK8lWwc+AeAtflnMzPrYEXuonkYeGMLajEzsyYqMhbNs4A/AQZqt4+I08ory8zM5qtIH/wVwD8CX+OJwcbMzKzDFQn4iYj4cKMN5EMNDwE/iojfaPQ4ZmY2N0UC/hJJ7wOu4cCxaLYVbOPtZHfdLJ17eWZm1qgiAf9LwJuAkzlwPPiTZ9tR0pHAK4D3AxsarNHMzBpQJOBfDayOiMcaOP6HgHPJ3uNal6SzgLMAVq1a1UATZmZWT5H74G8FDpvrgSX9BrArIrbOtF1EbIqIwYgY7O/vn2szZmY2jSJn8CuAH0i6hQP74Ge7TfI44DRJpwK9wFJJn42IMxqu1szMCisS8O9r5MARcT5wPoCkk4B3OdzNzFpnxoCXVAE+GhHPbVE9ZmbWJDP2wUdEFbhV0ryufkbE9b4H3systYp00RwBbJd0M7D/jU4eqsDMrLMVCfgLS6/CzMyarshokt9uRSFmZtZcRd7J+quSbpG0V9JjkvZJ2t2K4szMrHFFHnT6CHA6cA9wCPAH+TIzM+tgRfrgiYj/lLQgIvYBn5L07yXXZWZm81Qk4H+av4t1WNLFwINAX7llmZnZfBXponlTvt3byG6TfAbwmjKLMjOz+StyF819+ewEvmXSzKxrTHsGL+k3Jb215vNNknbk02tbU56ZmTVqpi6ac4Gv1nx+CvAC4CTgj0qsyczMmmCmLppFEXF/zecbI2IMGJPki6xmZh1upjP4p9Z+iIi31Xz0mznMzDrcTAF/k6QzD14o6Q+Bm8sryczMmmGmLpp3AFdI+m1gW77s+WR98a8quS4zM5unaQM+InYBvybpZGBNvviqiPjXllRmZmbzUuQ++H8FHOpmZl2myJOsZmbWhRzwZmaJcsCbmSXKAW9mligHvJlZohzwZmaJcsCbmSXKAW9mligHvJlZohzwZmaJcsCbmSXKAW9mligHvJlZomYdTbJRknqBG8jGj18IfCki3ldWe2ZPBtVqMDI2zs7dE6xY2svAsj4qFbW7LOtQpQU88ChwckTsldQD3Cjp6xHxvRLbNEtWtRps2f4QGzYPMzFZpbenwsb1a1m3ZqVD3uoqrYsmMnvzjz35FGW1Z5a6kbHx/eEOMDFZZcPmYUbGxttcmXWqUvvgJS2QNAzsAq6NiJvqbHOWpCFJQ6Ojo2WWY9bVdu6e2B/uUyYmq+zaM9GmiqzTlRrwEbEvItYCRwIvlPTcOttsiojBiBjs7+8vsxyzrrZiaS+9PQf+le3tqbB8SW+bKrJO15K7aCLiEeB6YF0r2jNL0cCyPjauX7s/5Kf64AeW9bW5MutUZd5F0w9MRsQjkg4BXgJcVFZ7ZqmrVMS6NSt59tknsGvPBMuX+C4am1mZd9EcAXxa0gKy/ylsjogrS2zPLHmViljdv5jV/YvbXYp1gdICPiJuA44p6/hmZjYzP8lqZpYoB7yZWaIc8GZmiXLAm5klygFvZpYoB7yZWaIc8GZmiXLAm5klygFvZpYoB7yZWaIc8GZmiXLAm5klygFvZpYoB7yZWaIc8GZmiXLAm5klygFvZpYoB7yZWaIc8GZmiXLAm5klygFvZpYoB7yZWaIc8GZmiXLAm5klygFvZpYoB7yZWaIc8GZmiXLAm5klygFvZpYoB7yZWaIc8GZmiSot4CU9Q9K3JN0labukt5fRTrUa7Bjdy3fvfZgdo3upVqOMZszMmq7s/FrY1KMd6HHgnRGxTdISYKukayPizmY1UK0GW7Y/xIbNw0xMVuntqbBx/VrWrVlJpaJmNWNm1nStyK/SzuAj4sGI2JbP7wHuAp7ezDZGxsb3fzkAE5NVNmweZmRsvJnNmJk1XSvyqyV98JIGgGOAm+qsO0vSkKSh0dHROR135+6J/V/OlInJKrv2TMyjWjOz8rUiv0oPeEmLgS8D50TE7oPXR8SmiBiMiMH+/v45HXvF0l56ew78LfT2VFi+pHc+JZuZla4V+VVqwEvqIQv3z0XEV5p9/IFlfWxcv3b/lzTVhzWwrK/ZTZmZNVUr8ksR5dx1IknAp4H/johziuwzODgYQ0NDc2qnWg1GxsbZtWeC5Ut6GVjW5wusZtYVmpFfkrZGxGC9dWXeRXMc8CbgdknD+bI/i4irm9lIpSJW9y9mdf/iZh7WzKx0ZedXaQEfETcCPpU2M2sTP8lqZpYoB7yZWaIc8GZmiXLAm5klqrTbJBshaRS4rw1NHw483IZ256Pbana95eu2mrutXujMmp8ZEXWfEu2ogG8XSUPT3UfaqbqtZtdbvm6rudvqhe6r2V00ZmaJcsCbmSXKAZ/Z1O4CGtBtNbve8nVbzd1WL3RZze6DNzNLlM/gzcwS5YA3M0tUcgEv6WmSrpV0T/7rU6fZbp2kuyX9p6Tziuwv6fx8+7slvaxm+SJJmyT9h6QfSHpNJ9dbs/6rku4oWms76pV0qKSr8u91u6S/nUOtdWuoWS9JH87X3ybpec2ufy5aWa+kUyRtlXR7/uvJnVxvzfpVkvZKetdc621HzZJ+WdJ385/d2yW19m1EEZHUBFwMnJfPnwdcVGebBcC9wGpgEXAr8JyZ9geek2/3FOBZ+f4L8nUXAn+dz1eAwzu53nz9bwGfB+7o5O8XOBR4Ub7NIuA7wMsL1DltDTXbnAp8nWzU018Fbirr++7Aeo8Bfjaffy7wozn+HLS03ppjfhm4DHhXA9nQ6u94IXAbcHT+edlcfiaaMbWsoZb9huBu4Ih8/gjg7jrbHAt8o+bz+cD5M+1fu03++RvAsfn8/UBfF9W7GLiRLJTmGvAtr/egY18CnFmgzmlrqFl2KXD6wb+3MuvvlHoPOq6AMeApnVwv8CrgA8AFNBbwrf6ZOBX47FzrbOaUXBcNsCIiHgTIf11eZ5unk4XylAfyZTPtX3cfSYfln/9K0jZJl0la0an1TtUKfBD46RzqbGe9AOTf9SuB6wrUOevxZtimlPo7rN5arwG+HxGPdmq9kvqAd5P9b7lRrf6OfwEISd/Is+HcedTekDLf6FQaSd8EVtZZ9Z6ih6izbLb7RafbZyFwJPBvEbFB0gbg78jeZpXt2EH1SloL/HxEvEPSQN0dO6jempoWAl8APhwRO5pUw3TbNL3+Alpdb3ZAaQ1wEfDSItsXqKXINo3UeyHw9xGxV2r4PUKtrnkhcDzwArKTqeuUvV6vyAlKU3RlwEfES6ZbJ2mnpCMi4kFJRwC76mz2APCMms9HAj/O56fbf7p9xsj+8C7Pl18G/H4H13ss8HxJI2R//sslXR8RJ3VovVM2AfdExIemq20ONcy2zaIS6u+0epF0JNnP7Zsj4t451NqOen8FeK2ki4HDgKqkiYj4SAfX/ADw7Yh4GEDS1cDzKPY/0OZoZ/9QGRNZH13tBY+L62yzENhBdjFs6oLJmpn2B9Zw4EW0HTxxkfWLwMn5/O8Al3VyvTXHHWDuffDt+H7/muziWmUOdU5bQ802r+DAC2o3l/l9d1i9h+XbvabBv2ctrfeg415AY33wrf6OnwpsI7tRYCHwTeAVjXzfjU4ta6hlv6HsSvV1wD35r0/Ll/8scHXNdqcC/0F2Zfw9s+2fr3tPvv3d1NzJATwTuIHsivl1wKpOrrdm/QBzD/iW1kt2phTAXcBwPv1BwVr/Xw3AW4C35PMCPpqvvx0YLPP77qR6gfcC4zXf6TCwvFPrPajdC2gg4Nv0M3EGsB24gzr/WJU9eagCM7NEpXgXjZmZ4YA3M0uWA97MLFEOeDOzRDngzcwS5YA3ayJJg5I+3MB+V9cMe2HWFL5N0pIiaWFEPN7uOsw6gc/grW0knSHpZknDki6VtCBfvlfS+yXdKul7U4O3SeqX9GVJt+TTcfnyC5SNx38N8Jl8u2vzAZ4ulXSfpMMl/ZWkt9e0/35JZ8+xrouUjZ/+TUkvlHS9pB2STsu3OUnSlfn8r+fHGJb0fUlLJB0h6YZ82R2STsi3HZF0eD6/IV93h6Rz8mUDku6S9PF8bPFrJB2Srztb0p3Kxi//Yll/XtaFWv1klSdPEQHwi8DXgJ788z+QjYkC2ZOrr8znLwbem89/Hjg+n18F3JXPXwBsBQ7JP3+EJ4ZyXZcf73CyJ3e35csrZE8kLptjXVNP2F4OXAP0AEcDw/nyk4Ar8/mvAcfl84vJHld/J088QbkAWJLPj+Q1Pp/sCcq+fJ/tZGO3DwCPA2vz7TcDZ+TzPyYf6hc4rN1/tp46Z+rKwcYsCS8mC7Nb8tEBD+GJQZoeA67M57cCp+TzLwGeUzOa4FJJS/L5r0bE/+bzxwOvBoiILZL+J58fkTQm6RhgBdkQuWNzrGtLPn878GhETEq6nSyAD/ZvwEZJnwO+EhEPSLoF+KSkHuCKiBg+aJ/jgcsjYhxA0leAE4CvAv9Vs/3WmjZvAz4n6Qrgijp12JOUA97aRcCnI+L8OusmI2Lq4tA+nvg5rZC9RON/azfOg3j8oGNP5xNkA8KtBD45j7qqwKMAEVHNhzM+QET8raSryMYw+Z6kl0TEDZJOJBvU6p8lfSAiPlOw9trx2veR/eNDfqwTgdOAP5e0JnwdwnAfvLXPdWTDv0690OFpkp45yz7XAG+b+qBsbPt6bgTW59u8lGxUvymXk3XbvIDsrUvNqKsuST8XEbdHxEXAEPDs/Fi7IuLjwD+SDR9b6wbgVcreRdtH9j+R78zQRgV4RkR8CziXbJTIxY3Ua+nxGby1RUTcKem9wDV5SE0CbwXum2G3s4GPSrqN7Gf3BrKRAA92IfAFSa8Hvg08COzJ231M0reARyJiX5Pqms45kl5EdrZ9J9kwtG8A/lTSJLAXePNB7W+T9E/AzfmiT0TE9zXNy1nI+vE/K+lnyM7+/z4iHmmgVkuQb5O05Eh6CrAvIh6XdCzwsYhYm6+rkI3R/bqIuKeNZZqVzmfwlqJVwOY8zB8DzgSQ9Byyi7eXO9ztycBn8GZmifJFVjOzRDngzcwS5YA3M0uUA97MLFEOeDOzRP0fjOzIG/grGfAAAAAASUVORK5CYII=\n",
      "text/plain": [
       "<Figure size 432x288 with 1 Axes>"
      ]
     },
     "metadata": {
      "needs_background": "light"
     },
     "output_type": "display_data"
    },
    {
     "data": {
      "image/png": "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\n",
      "text/plain": [
       "<Figure size 432x288 with 1 Axes>"
      ]
     },
     "metadata": {
      "needs_background": "light"
     },
     "output_type": "display_data"
    },
    {
     "data": {
      "image/png": "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\n",
      "text/plain": [
       "<Figure size 432x288 with 1 Axes>"
      ]
     },
     "metadata": {
      "needs_background": "light"
     },
     "output_type": "display_data"
    },
    {
     "data": {
      "image/png": "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\n",
      "text/plain": [
       "<Figure size 432x288 with 1 Axes>"
      ]
     },
     "metadata": {
      "needs_background": "light"
     },
     "output_type": "display_data"
    }
   ],
   "source": [
    "for i in list:\n",
    "    first_scatter = sns.scatterplot(x=analysis_two_all[i], y=analysis_two_all['Garments'])\n",
    "    first_scatter.set_xlabel(i + ' emissions')\n",
    "    first_scatter.set_ylabel('Garments Index')\n",
    "    plt.show()"
   ]
  },
  {
   "cell_type": "code",
   "execution_count": 92,
   "metadata": {},
   "outputs": [
    {
     "data": {
      "text/html": [
       "<div>\n",
       "<style scoped>\n",
       "    .dataframe tbody tr th:only-of-type {\n",
       "        vertical-align: middle;\n",
       "    }\n",
       "\n",
       "    .dataframe tbody tr th {\n",
       "        vertical-align: top;\n",
       "    }\n",
       "\n",
       "    .dataframe thead th {\n",
       "        text-align: right;\n",
       "    }\n",
       "</style>\n",
       "<table border=\"1\" class=\"dataframe\">\n",
       "  <thead>\n",
       "    <tr style=\"text-align: right;\">\n",
       "      <th></th>\n",
       "      <th>Cotton</th>\n",
       "      <th>Clothing</th>\n",
       "      <th>Garments</th>\n",
       "      <th>Textiles</th>\n",
       "    </tr>\n",
       "  </thead>\n",
       "  <tbody>\n",
       "    <tr>\n",
       "      <th>0</th>\n",
       "      <td>0.0</td>\n",
       "      <td>0.0</td>\n",
       "      <td>0.0</td>\n",
       "      <td>2.0</td>\n",
       "    </tr>\n",
       "    <tr>\n",
       "      <th>1</th>\n",
       "      <td>0.0</td>\n",
       "      <td>2.0</td>\n",
       "      <td>0.0</td>\n",
       "      <td>0.0</td>\n",
       "    </tr>\n",
       "    <tr>\n",
       "      <th>2</th>\n",
       "      <td>0.0</td>\n",
       "      <td>0.0</td>\n",
       "      <td>0.0</td>\n",
       "      <td>0.0</td>\n",
       "    </tr>\n",
       "    <tr>\n",
       "      <th>3</th>\n",
       "      <td>0.0</td>\n",
       "      <td>0.0</td>\n",
       "      <td>0.0</td>\n",
       "      <td>0.0</td>\n",
       "    </tr>\n",
       "    <tr>\n",
       "      <th>4</th>\n",
       "      <td>0.0</td>\n",
       "      <td>0.0</td>\n",
       "      <td>0.0</td>\n",
       "      <td>5.0</td>\n",
       "    </tr>\n",
       "    <tr>\n",
       "      <th>...</th>\n",
       "      <td>...</td>\n",
       "      <td>...</td>\n",
       "      <td>...</td>\n",
       "      <td>...</td>\n",
       "    </tr>\n",
       "    <tr>\n",
       "      <th>190</th>\n",
       "      <td>0.0</td>\n",
       "      <td>0.0</td>\n",
       "      <td>0.0</td>\n",
       "      <td>0.0</td>\n",
       "    </tr>\n",
       "    <tr>\n",
       "      <th>191</th>\n",
       "      <td>0.0</td>\n",
       "      <td>0.0</td>\n",
       "      <td>0.0</td>\n",
       "      <td>0.0</td>\n",
       "    </tr>\n",
       "    <tr>\n",
       "      <th>192</th>\n",
       "      <td>2.0</td>\n",
       "      <td>0.0</td>\n",
       "      <td>0.0</td>\n",
       "      <td>2.0</td>\n",
       "    </tr>\n",
       "    <tr>\n",
       "      <th>193</th>\n",
       "      <td>0.0</td>\n",
       "      <td>0.0</td>\n",
       "      <td>0.0</td>\n",
       "      <td>7.0</td>\n",
       "    </tr>\n",
       "    <tr>\n",
       "      <th>194</th>\n",
       "      <td>0.0</td>\n",
       "      <td>7.0</td>\n",
       "      <td>0.0</td>\n",
       "      <td>0.0</td>\n",
       "    </tr>\n",
       "  </tbody>\n",
       "</table>\n",
       "<p>195 rows × 4 columns</p>\n",
       "</div>"
      ],
      "text/plain": [
       "     Cotton  Clothing  Garments  Textiles\n",
       "0       0.0       0.0       0.0       2.0\n",
       "1       0.0       2.0       0.0       0.0\n",
       "2       0.0       0.0       0.0       0.0\n",
       "3       0.0       0.0       0.0       0.0\n",
       "4       0.0       0.0       0.0       5.0\n",
       "..      ...       ...       ...       ...\n",
       "190     0.0       0.0       0.0       0.0\n",
       "191     0.0       0.0       0.0       0.0\n",
       "192     2.0       0.0       0.0       2.0\n",
       "193     0.0       0.0       0.0       7.0\n",
       "194     0.0       7.0       0.0       0.0\n",
       "\n",
       "[195 rows x 4 columns]"
      ]
     },
     "execution_count": 92,
     "metadata": {},
     "output_type": "execute_result"
    }
   ],
   "source": [
    "analysis_two_all_temp = analysis_two_all[['Cotton','Clothing','Garments','Textiles']].fillna(0)\n",
    "analysis_two_all_temp"
   ]
  },
  {
   "cell_type": "code",
   "execution_count": 35,
   "metadata": {},
   "outputs": [
    {
     "ename": "ValueError",
     "evalue": "Input contains NaN, infinity or a value too large for dtype('float64').",
     "output_type": "error",
     "traceback": [
      "\u001b[0;31m---------------------------------------------------------------------------\u001b[0m",
      "\u001b[0;31mValueError\u001b[0m                                Traceback (most recent call last)",
      "\u001b[0;32m<ipython-input-35-44a757bedbe1>\u001b[0m in \u001b[0;36m<module>\u001b[0;34m\u001b[0m\n\u001b[1;32m      1\u001b[0m \u001b[0mclustering\u001b[0m \u001b[0;34m=\u001b[0m \u001b[0mKMeans\u001b[0m\u001b[0;34m(\u001b[0m\u001b[0mn_clusters\u001b[0m \u001b[0;34m=\u001b[0m \u001b[0;36m3\u001b[0m\u001b[0;34m,\u001b[0m \u001b[0mrandom_state\u001b[0m \u001b[0;34m=\u001b[0m \u001b[0;36m15\u001b[0m\u001b[0;34m)\u001b[0m\u001b[0;34m\u001b[0m\u001b[0;34m\u001b[0m\u001b[0m\n\u001b[0;32m----> 2\u001b[0;31m \u001b[0mKM\u001b[0m \u001b[0;34m=\u001b[0m \u001b[0mclustering\u001b[0m\u001b[0;34m.\u001b[0m\u001b[0mfit\u001b[0m\u001b[0;34m(\u001b[0m\u001b[0manalysis_two_all\u001b[0m\u001b[0;34m[\u001b[0m\u001b[0;34m[\u001b[0m\u001b[0;34m\"agriculture\"\u001b[0m\u001b[0;34m,\u001b[0m \u001b[0;34m\"Textiles\"\u001b[0m\u001b[0;34m]\u001b[0m\u001b[0;34m]\u001b[0m\u001b[0;34m)\u001b[0m\u001b[0;34m\u001b[0m\u001b[0;34m\u001b[0m\u001b[0m\n\u001b[0m\u001b[1;32m      3\u001b[0m \u001b[0mKM\u001b[0m\u001b[0;34m.\u001b[0m\u001b[0mcluster_centers_\u001b[0m\u001b[0;34m\u001b[0m\u001b[0;34m\u001b[0m\u001b[0m\n\u001b[1;32m      4\u001b[0m \u001b[0;34m\u001b[0m\u001b[0m\n\u001b[1;32m      5\u001b[0m \u001b[0mcluster_labels\u001b[0m \u001b[0;34m=\u001b[0m \u001b[0mKM\u001b[0m\u001b[0;34m.\u001b[0m\u001b[0mlabels_\u001b[0m\u001b[0;34m\u001b[0m\u001b[0;34m\u001b[0m\u001b[0m\n",
      "\u001b[0;32m/Applications/anaconda3/lib/python3.8/site-packages/sklearn/cluster/_kmeans.py\u001b[0m in \u001b[0;36mfit\u001b[0;34m(self, X, y, sample_weight)\u001b[0m\n\u001b[1;32m   1028\u001b[0m             \u001b[0mFitted\u001b[0m \u001b[0mestimator\u001b[0m\u001b[0;34m.\u001b[0m\u001b[0;34m\u001b[0m\u001b[0;34m\u001b[0m\u001b[0m\n\u001b[1;32m   1029\u001b[0m         \"\"\"\n\u001b[0;32m-> 1030\u001b[0;31m         X = self._validate_data(X, accept_sparse='csr',\n\u001b[0m\u001b[1;32m   1031\u001b[0m                                 \u001b[0mdtype\u001b[0m\u001b[0;34m=\u001b[0m\u001b[0;34m[\u001b[0m\u001b[0mnp\u001b[0m\u001b[0;34m.\u001b[0m\u001b[0mfloat64\u001b[0m\u001b[0;34m,\u001b[0m \u001b[0mnp\u001b[0m\u001b[0;34m.\u001b[0m\u001b[0mfloat32\u001b[0m\u001b[0;34m]\u001b[0m\u001b[0;34m,\u001b[0m\u001b[0;34m\u001b[0m\u001b[0;34m\u001b[0m\u001b[0m\n\u001b[1;32m   1032\u001b[0m                                 \u001b[0morder\u001b[0m\u001b[0;34m=\u001b[0m\u001b[0;34m'C'\u001b[0m\u001b[0;34m,\u001b[0m \u001b[0mcopy\u001b[0m\u001b[0;34m=\u001b[0m\u001b[0mself\u001b[0m\u001b[0;34m.\u001b[0m\u001b[0mcopy_x\u001b[0m\u001b[0;34m,\u001b[0m\u001b[0;34m\u001b[0m\u001b[0;34m\u001b[0m\u001b[0m\n",
      "\u001b[0;32m/Applications/anaconda3/lib/python3.8/site-packages/sklearn/base.py\u001b[0m in \u001b[0;36m_validate_data\u001b[0;34m(self, X, y, reset, validate_separately, **check_params)\u001b[0m\n\u001b[1;32m    418\u001b[0m                     \u001b[0;34mf\"requires y to be passed, but the target y is None.\"\u001b[0m\u001b[0;34m\u001b[0m\u001b[0;34m\u001b[0m\u001b[0m\n\u001b[1;32m    419\u001b[0m                 )\n\u001b[0;32m--> 420\u001b[0;31m             \u001b[0mX\u001b[0m \u001b[0;34m=\u001b[0m \u001b[0mcheck_array\u001b[0m\u001b[0;34m(\u001b[0m\u001b[0mX\u001b[0m\u001b[0;34m,\u001b[0m \u001b[0;34m**\u001b[0m\u001b[0mcheck_params\u001b[0m\u001b[0;34m)\u001b[0m\u001b[0;34m\u001b[0m\u001b[0;34m\u001b[0m\u001b[0m\n\u001b[0m\u001b[1;32m    421\u001b[0m             \u001b[0mout\u001b[0m \u001b[0;34m=\u001b[0m \u001b[0mX\u001b[0m\u001b[0;34m\u001b[0m\u001b[0;34m\u001b[0m\u001b[0m\n\u001b[1;32m    422\u001b[0m         \u001b[0;32melse\u001b[0m\u001b[0;34m:\u001b[0m\u001b[0;34m\u001b[0m\u001b[0;34m\u001b[0m\u001b[0m\n",
      "\u001b[0;32m/Applications/anaconda3/lib/python3.8/site-packages/sklearn/utils/validation.py\u001b[0m in \u001b[0;36minner_f\u001b[0;34m(*args, **kwargs)\u001b[0m\n\u001b[1;32m     70\u001b[0m                           FutureWarning)\n\u001b[1;32m     71\u001b[0m         \u001b[0mkwargs\u001b[0m\u001b[0;34m.\u001b[0m\u001b[0mupdate\u001b[0m\u001b[0;34m(\u001b[0m\u001b[0;34m{\u001b[0m\u001b[0mk\u001b[0m\u001b[0;34m:\u001b[0m \u001b[0marg\u001b[0m \u001b[0;32mfor\u001b[0m \u001b[0mk\u001b[0m\u001b[0;34m,\u001b[0m \u001b[0marg\u001b[0m \u001b[0;32min\u001b[0m \u001b[0mzip\u001b[0m\u001b[0;34m(\u001b[0m\u001b[0msig\u001b[0m\u001b[0;34m.\u001b[0m\u001b[0mparameters\u001b[0m\u001b[0;34m,\u001b[0m \u001b[0margs\u001b[0m\u001b[0;34m)\u001b[0m\u001b[0;34m}\u001b[0m\u001b[0;34m)\u001b[0m\u001b[0;34m\u001b[0m\u001b[0;34m\u001b[0m\u001b[0m\n\u001b[0;32m---> 72\u001b[0;31m         \u001b[0;32mreturn\u001b[0m \u001b[0mf\u001b[0m\u001b[0;34m(\u001b[0m\u001b[0;34m**\u001b[0m\u001b[0mkwargs\u001b[0m\u001b[0;34m)\u001b[0m\u001b[0;34m\u001b[0m\u001b[0;34m\u001b[0m\u001b[0m\n\u001b[0m\u001b[1;32m     73\u001b[0m     \u001b[0;32mreturn\u001b[0m \u001b[0minner_f\u001b[0m\u001b[0;34m\u001b[0m\u001b[0;34m\u001b[0m\u001b[0m\n\u001b[1;32m     74\u001b[0m \u001b[0;34m\u001b[0m\u001b[0m\n",
      "\u001b[0;32m/Applications/anaconda3/lib/python3.8/site-packages/sklearn/utils/validation.py\u001b[0m in \u001b[0;36mcheck_array\u001b[0;34m(array, accept_sparse, accept_large_sparse, dtype, order, copy, force_all_finite, ensure_2d, allow_nd, ensure_min_samples, ensure_min_features, estimator)\u001b[0m\n\u001b[1;32m    642\u001b[0m \u001b[0;34m\u001b[0m\u001b[0m\n\u001b[1;32m    643\u001b[0m         \u001b[0;32mif\u001b[0m \u001b[0mforce_all_finite\u001b[0m\u001b[0;34m:\u001b[0m\u001b[0;34m\u001b[0m\u001b[0;34m\u001b[0m\u001b[0m\n\u001b[0;32m--> 644\u001b[0;31m             _assert_all_finite(array,\n\u001b[0m\u001b[1;32m    645\u001b[0m                                allow_nan=force_all_finite == 'allow-nan')\n\u001b[1;32m    646\u001b[0m \u001b[0;34m\u001b[0m\u001b[0m\n",
      "\u001b[0;32m/Applications/anaconda3/lib/python3.8/site-packages/sklearn/utils/validation.py\u001b[0m in \u001b[0;36m_assert_all_finite\u001b[0;34m(X, allow_nan, msg_dtype)\u001b[0m\n\u001b[1;32m     94\u001b[0m                 not allow_nan and not np.isfinite(X).all()):\n\u001b[1;32m     95\u001b[0m             \u001b[0mtype_err\u001b[0m \u001b[0;34m=\u001b[0m \u001b[0;34m'infinity'\u001b[0m \u001b[0;32mif\u001b[0m \u001b[0mallow_nan\u001b[0m \u001b[0;32melse\u001b[0m \u001b[0;34m'NaN, infinity'\u001b[0m\u001b[0;34m\u001b[0m\u001b[0;34m\u001b[0m\u001b[0m\n\u001b[0;32m---> 96\u001b[0;31m             raise ValueError(\n\u001b[0m\u001b[1;32m     97\u001b[0m                     \u001b[0mmsg_err\u001b[0m\u001b[0;34m.\u001b[0m\u001b[0mformat\u001b[0m\u001b[0;34m\u001b[0m\u001b[0;34m\u001b[0m\u001b[0m\n\u001b[1;32m     98\u001b[0m                     (type_err,\n",
      "\u001b[0;31mValueError\u001b[0m: Input contains NaN, infinity or a value too large for dtype('float64')."
     ]
    }
   ],
   "source": [
    "analysis_two_all['agriculture'] = pd.to_numeric(analysis_two_all['agriculture'])\n",
    "analysis_two_all['energy'] = pd.to_numeric(analysis_two_all['energy'])\n",
    "analysis_two_all['bunker fuels'] = pd.to_numeric(analysis_two_all['bunker fuels'])\n",
    "analysis_two_all['waste'] = pd.to_numeric(analysis_two_all['waste'])\n",
    "analysis_two_all['industrial'] = pd.to_numeric(analysis_two_all['industrial'])"
   ]
  },
  {
   "cell_type": "code",
   "execution_count": 94,
   "metadata": {},
   "outputs": [
    {
     "data": {
      "text/html": [
       "<div>\n",
       "<style scoped>\n",
       "    .dataframe tbody tr th:only-of-type {\n",
       "        vertical-align: middle;\n",
       "    }\n",
       "\n",
       "    .dataframe tbody tr th {\n",
       "        vertical-align: top;\n",
       "    }\n",
       "\n",
       "    .dataframe thead th {\n",
       "        text-align: right;\n",
       "    }\n",
       "</style>\n",
       "<table border=\"1\" class=\"dataframe\">\n",
       "  <thead>\n",
       "    <tr style=\"text-align: right;\">\n",
       "      <th></th>\n",
       "      <th>agriculture</th>\n",
       "      <th>energy</th>\n",
       "      <th>waste</th>\n",
       "      <th>industrial</th>\n",
       "      <th>bunker fuels</th>\n",
       "      <th>hdi</th>\n",
       "      <th>Cotton</th>\n",
       "      <th>Clothing</th>\n",
       "      <th>Garments</th>\n",
       "      <th>Textiles</th>\n",
       "      <th>cluster_label</th>\n",
       "    </tr>\n",
       "  </thead>\n",
       "  <tbody>\n",
       "    <tr>\n",
       "      <th>agriculture</th>\n",
       "      <td>1.000000</td>\n",
       "      <td>0.921810</td>\n",
       "      <td>0.785876</td>\n",
       "      <td>0.919212</td>\n",
       "      <td>0.709618</td>\n",
       "      <td>-0.044247</td>\n",
       "      <td>-0.232577</td>\n",
       "      <td>-0.393654</td>\n",
       "      <td>-0.625888</td>\n",
       "      <td>-0.074252</td>\n",
       "      <td>-0.083347</td>\n",
       "    </tr>\n",
       "    <tr>\n",
       "      <th>energy</th>\n",
       "      <td>0.921810</td>\n",
       "      <td>1.000000</td>\n",
       "      <td>0.765420</td>\n",
       "      <td>0.943233</td>\n",
       "      <td>0.723118</td>\n",
       "      <td>0.002142</td>\n",
       "      <td>-0.106314</td>\n",
       "      <td>0.161572</td>\n",
       "      <td>-0.012721</td>\n",
       "      <td>-0.020179</td>\n",
       "      <td>-0.120738</td>\n",
       "    </tr>\n",
       "    <tr>\n",
       "      <th>waste</th>\n",
       "      <td>0.785876</td>\n",
       "      <td>0.765420</td>\n",
       "      <td>1.000000</td>\n",
       "      <td>0.779162</td>\n",
       "      <td>0.680511</td>\n",
       "      <td>0.019266</td>\n",
       "      <td>-0.006164</td>\n",
       "      <td>-0.366712</td>\n",
       "      <td>0.266033</td>\n",
       "      <td>-0.127175</td>\n",
       "      <td>-0.032355</td>\n",
       "    </tr>\n",
       "    <tr>\n",
       "      <th>industrial</th>\n",
       "      <td>0.919212</td>\n",
       "      <td>0.943233</td>\n",
       "      <td>0.779162</td>\n",
       "      <td>1.000000</td>\n",
       "      <td>0.806495</td>\n",
       "      <td>0.023644</td>\n",
       "      <td>0.063064</td>\n",
       "      <td>0.063551</td>\n",
       "      <td>0.294240</td>\n",
       "      <td>-0.035727</td>\n",
       "      <td>-0.093974</td>\n",
       "    </tr>\n",
       "    <tr>\n",
       "      <th>bunker fuels</th>\n",
       "      <td>0.709618</td>\n",
       "      <td>0.723118</td>\n",
       "      <td>0.680511</td>\n",
       "      <td>0.806495</td>\n",
       "      <td>1.000000</td>\n",
       "      <td>0.106523</td>\n",
       "      <td>-0.093080</td>\n",
       "      <td>0.456522</td>\n",
       "      <td>-0.196186</td>\n",
       "      <td>-0.059026</td>\n",
       "      <td>-0.042823</td>\n",
       "    </tr>\n",
       "    <tr>\n",
       "      <th>hdi</th>\n",
       "      <td>-0.044247</td>\n",
       "      <td>0.002142</td>\n",
       "      <td>0.019266</td>\n",
       "      <td>0.023644</td>\n",
       "      <td>0.106523</td>\n",
       "      <td>1.000000</td>\n",
       "      <td>0.618061</td>\n",
       "      <td>0.379034</td>\n",
       "      <td>0.289884</td>\n",
       "      <td>0.394550</td>\n",
       "      <td>-0.113843</td>\n",
       "    </tr>\n",
       "    <tr>\n",
       "      <th>Cotton</th>\n",
       "      <td>-0.232577</td>\n",
       "      <td>-0.106314</td>\n",
       "      <td>-0.006164</td>\n",
       "      <td>0.063064</td>\n",
       "      <td>-0.093080</td>\n",
       "      <td>0.618061</td>\n",
       "      <td>1.000000</td>\n",
       "      <td>NaN</td>\n",
       "      <td>NaN</td>\n",
       "      <td>0.847122</td>\n",
       "      <td>-0.544735</td>\n",
       "    </tr>\n",
       "    <tr>\n",
       "      <th>Clothing</th>\n",
       "      <td>-0.393654</td>\n",
       "      <td>0.161572</td>\n",
       "      <td>-0.366712</td>\n",
       "      <td>0.063551</td>\n",
       "      <td>0.456522</td>\n",
       "      <td>0.379034</td>\n",
       "      <td>NaN</td>\n",
       "      <td>1.000000</td>\n",
       "      <td>NaN</td>\n",
       "      <td>0.978453</td>\n",
       "      <td>-0.646167</td>\n",
       "    </tr>\n",
       "    <tr>\n",
       "      <th>Garments</th>\n",
       "      <td>-0.625888</td>\n",
       "      <td>-0.012721</td>\n",
       "      <td>0.266033</td>\n",
       "      <td>0.294240</td>\n",
       "      <td>-0.196186</td>\n",
       "      <td>0.289884</td>\n",
       "      <td>NaN</td>\n",
       "      <td>NaN</td>\n",
       "      <td>1.000000</td>\n",
       "      <td>-0.441726</td>\n",
       "      <td>0.464140</td>\n",
       "    </tr>\n",
       "    <tr>\n",
       "      <th>Textiles</th>\n",
       "      <td>-0.074252</td>\n",
       "      <td>-0.020179</td>\n",
       "      <td>-0.127175</td>\n",
       "      <td>-0.035727</td>\n",
       "      <td>-0.059026</td>\n",
       "      <td>0.394550</td>\n",
       "      <td>0.847122</td>\n",
       "      <td>0.978453</td>\n",
       "      <td>-0.441726</td>\n",
       "      <td>1.000000</td>\n",
       "      <td>-0.689489</td>\n",
       "    </tr>\n",
       "    <tr>\n",
       "      <th>cluster_label</th>\n",
       "      <td>-0.083347</td>\n",
       "      <td>-0.120738</td>\n",
       "      <td>-0.032355</td>\n",
       "      <td>-0.093974</td>\n",
       "      <td>-0.042823</td>\n",
       "      <td>-0.113843</td>\n",
       "      <td>-0.544735</td>\n",
       "      <td>-0.646167</td>\n",
       "      <td>0.464140</td>\n",
       "      <td>-0.689489</td>\n",
       "      <td>1.000000</td>\n",
       "    </tr>\n",
       "  </tbody>\n",
       "</table>\n",
       "</div>"
      ],
      "text/plain": [
       "               agriculture    energy     waste  industrial  bunker fuels  \\\n",
       "agriculture       1.000000  0.921810  0.785876    0.919212      0.709618   \n",
       "energy            0.921810  1.000000  0.765420    0.943233      0.723118   \n",
       "waste             0.785876  0.765420  1.000000    0.779162      0.680511   \n",
       "industrial        0.919212  0.943233  0.779162    1.000000      0.806495   \n",
       "bunker fuels      0.709618  0.723118  0.680511    0.806495      1.000000   \n",
       "hdi              -0.044247  0.002142  0.019266    0.023644      0.106523   \n",
       "Cotton           -0.232577 -0.106314 -0.006164    0.063064     -0.093080   \n",
       "Clothing         -0.393654  0.161572 -0.366712    0.063551      0.456522   \n",
       "Garments         -0.625888 -0.012721  0.266033    0.294240     -0.196186   \n",
       "Textiles         -0.074252 -0.020179 -0.127175   -0.035727     -0.059026   \n",
       "cluster_label    -0.083347 -0.120738 -0.032355   -0.093974     -0.042823   \n",
       "\n",
       "                    hdi    Cotton  Clothing  Garments  Textiles  cluster_label  \n",
       "agriculture   -0.044247 -0.232577 -0.393654 -0.625888 -0.074252      -0.083347  \n",
       "energy         0.002142 -0.106314  0.161572 -0.012721 -0.020179      -0.120738  \n",
       "waste          0.019266 -0.006164 -0.366712  0.266033 -0.127175      -0.032355  \n",
       "industrial     0.023644  0.063064  0.063551  0.294240 -0.035727      -0.093974  \n",
       "bunker fuels   0.106523 -0.093080  0.456522 -0.196186 -0.059026      -0.042823  \n",
       "hdi            1.000000  0.618061  0.379034  0.289884  0.394550      -0.113843  \n",
       "Cotton         0.618061  1.000000       NaN       NaN  0.847122      -0.544735  \n",
       "Clothing       0.379034       NaN  1.000000       NaN  0.978453      -0.646167  \n",
       "Garments       0.289884       NaN       NaN  1.000000 -0.441726       0.464140  \n",
       "Textiles       0.394550  0.847122  0.978453 -0.441726  1.000000      -0.689489  \n",
       "cluster_label -0.113843 -0.544735 -0.646167  0.464140 -0.689489       1.000000  "
      ]
     },
     "execution_count": 94,
     "metadata": {},
     "output_type": "execute_result"
    }
   ],
   "source": [
    "analysis_two_all.corr(method='pearson')"
   ]
  },
  {
   "cell_type": "code",
   "execution_count": 95,
   "metadata": {},
   "outputs": [
    {
     "data": {
      "image/png": "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\n",
      "text/plain": [
       "<Figure size 432x288 with 1 Axes>"
      ]
     },
     "metadata": {
      "needs_background": "light"
     },
     "output_type": "display_data"
    },
    {
     "data": {
      "text/plain": [
       "(0, 12)"
      ]
     },
     "execution_count": 95,
     "metadata": {},
     "output_type": "execute_result"
    }
   ],
   "source": [
    "# overall US volume vs. price\n",
    "temp_df = analysis_two_all.dropna()\n",
    "\n",
    "sns.regplot(\n",
    "    x = 'agriculture',\n",
    "    y = 'Clothing',\n",
    "    data = analysis_two_all\n",
    ")\n",
    "plt.show()\n",
    "temp_df.shape"
   ]
  },
  {
   "cell_type": "markdown",
   "metadata": {},
   "source": [
    "In this cell, we are organizing the data into clear groups via kmeans clustering. "
   ]
  },
  {
   "cell_type": "code",
   "execution_count": 117,
   "metadata": {},
   "outputs": [
    {
     "name": "stdout",
     "output_type": "stream",
     "text": [
      "[1 1 1 1 3]\n"
     ]
    },
    {
     "data": {
      "text/html": [
       "<div>\n",
       "<style scoped>\n",
       "    .dataframe tbody tr th:only-of-type {\n",
       "        vertical-align: middle;\n",
       "    }\n",
       "\n",
       "    .dataframe tbody tr th {\n",
       "        vertical-align: top;\n",
       "    }\n",
       "\n",
       "    .dataframe thead th {\n",
       "        text-align: right;\n",
       "    }\n",
       "</style>\n",
       "<table border=\"1\" class=\"dataframe\">\n",
       "  <thead>\n",
       "    <tr style=\"text-align: right;\">\n",
       "      <th></th>\n",
       "      <th>country</th>\n",
       "      <th>agriculture</th>\n",
       "      <th>energy</th>\n",
       "      <th>waste</th>\n",
       "      <th>industrial</th>\n",
       "      <th>bunker fuels</th>\n",
       "      <th>hdi</th>\n",
       "      <th>Cotton</th>\n",
       "      <th>Clothing</th>\n",
       "      <th>Garments</th>\n",
       "      <th>Textiles</th>\n",
       "      <th>cluster_label</th>\n",
       "    </tr>\n",
       "  </thead>\n",
       "  <tbody>\n",
       "    <tr>\n",
       "      <th>0</th>\n",
       "      <td>Afghanistan</td>\n",
       "      <td>67.42</td>\n",
       "      <td>-4.08</td>\n",
       "      <td>-0.80</td>\n",
       "      <td>0.54</td>\n",
       "      <td>-1.30</td>\n",
       "      <td>0.511</td>\n",
       "      <td>NaN</td>\n",
       "      <td>NaN</td>\n",
       "      <td>NaN</td>\n",
       "      <td>2.0</td>\n",
       "      <td>1</td>\n",
       "    </tr>\n",
       "    <tr>\n",
       "      <th>1</th>\n",
       "      <td>Albania</td>\n",
       "      <td>2.17</td>\n",
       "      <td>0.68</td>\n",
       "      <td>0.95</td>\n",
       "      <td>0.05</td>\n",
       "      <td>-0.03</td>\n",
       "      <td>0.795</td>\n",
       "      <td>NaN</td>\n",
       "      <td>2.0</td>\n",
       "      <td>NaN</td>\n",
       "      <td>NaN</td>\n",
       "      <td>1</td>\n",
       "    </tr>\n",
       "    <tr>\n",
       "      <th>2</th>\n",
       "      <td>Algeria</td>\n",
       "      <td>58.44</td>\n",
       "      <td>-17.34</td>\n",
       "      <td>-0.39</td>\n",
       "      <td>5.61</td>\n",
       "      <td>0.56</td>\n",
       "      <td>0.748</td>\n",
       "      <td>NaN</td>\n",
       "      <td>NaN</td>\n",
       "      <td>NaN</td>\n",
       "      <td>NaN</td>\n",
       "      <td>1</td>\n",
       "    </tr>\n",
       "    <tr>\n",
       "      <th>3</th>\n",
       "      <td>Andorra</td>\n",
       "      <td>-0.05</td>\n",
       "      <td>0.15</td>\n",
       "      <td>0.08</td>\n",
       "      <td>0.00</td>\n",
       "      <td>0.00</td>\n",
       "      <td>0.868</td>\n",
       "      <td>NaN</td>\n",
       "      <td>NaN</td>\n",
       "      <td>NaN</td>\n",
       "      <td>NaN</td>\n",
       "      <td>1</td>\n",
       "    </tr>\n",
       "    <tr>\n",
       "      <th>4</th>\n",
       "      <td>Angola</td>\n",
       "      <td>1.20</td>\n",
       "      <td>64.30</td>\n",
       "      <td>-2.18</td>\n",
       "      <td>1.13</td>\n",
       "      <td>1.59</td>\n",
       "      <td>0.581</td>\n",
       "      <td>NaN</td>\n",
       "      <td>NaN</td>\n",
       "      <td>NaN</td>\n",
       "      <td>5.0</td>\n",
       "      <td>3</td>\n",
       "    </tr>\n",
       "    <tr>\n",
       "      <th>5</th>\n",
       "      <td>Antigua and Barbuda</td>\n",
       "      <td>0.24</td>\n",
       "      <td>0.12</td>\n",
       "      <td>0.21</td>\n",
       "      <td>0.01</td>\n",
       "      <td>0.01</td>\n",
       "      <td>0.778</td>\n",
       "      <td>NaN</td>\n",
       "      <td>3.0</td>\n",
       "      <td>NaN</td>\n",
       "      <td>NaN</td>\n",
       "      <td>1</td>\n",
       "    </tr>\n",
       "    <tr>\n",
       "      <th>6</th>\n",
       "      <td>Argentina</td>\n",
       "      <td>-47.48</td>\n",
       "      <td>29.57</td>\n",
       "      <td>2.98</td>\n",
       "      <td>5.89</td>\n",
       "      <td>1.63</td>\n",
       "      <td>0.845</td>\n",
       "      <td>NaN</td>\n",
       "      <td>NaN</td>\n",
       "      <td>NaN</td>\n",
       "      <td>4.0</td>\n",
       "      <td>3</td>\n",
       "    </tr>\n",
       "    <tr>\n",
       "      <th>7</th>\n",
       "      <td>Armenia</td>\n",
       "      <td>0.29</td>\n",
       "      <td>1.32</td>\n",
       "      <td>1.22</td>\n",
       "      <td>0.07</td>\n",
       "      <td>NaN</td>\n",
       "      <td>0.776</td>\n",
       "      <td>NaN</td>\n",
       "      <td>NaN</td>\n",
       "      <td>NaN</td>\n",
       "      <td>NaN</td>\n",
       "      <td>1</td>\n",
       "    </tr>\n",
       "    <tr>\n",
       "      <th>8</th>\n",
       "      <td>Australia</td>\n",
       "      <td>2.17</td>\n",
       "      <td>1.13</td>\n",
       "      <td>-4.82</td>\n",
       "      <td>10.55</td>\n",
       "      <td>3.76</td>\n",
       "      <td>0.944</td>\n",
       "      <td>NaN</td>\n",
       "      <td>NaN</td>\n",
       "      <td>NaN</td>\n",
       "      <td>NaN</td>\n",
       "      <td>1</td>\n",
       "    </tr>\n",
       "    <tr>\n",
       "      <th>9</th>\n",
       "      <td>Austria</td>\n",
       "      <td>-9.94</td>\n",
       "      <td>-2.18</td>\n",
       "      <td>0.23</td>\n",
       "      <td>-0.28</td>\n",
       "      <td>0.33</td>\n",
       "      <td>0.922</td>\n",
       "      <td>NaN</td>\n",
       "      <td>NaN</td>\n",
       "      <td>NaN</td>\n",
       "      <td>NaN</td>\n",
       "      <td>1</td>\n",
       "    </tr>\n",
       "    <tr>\n",
       "      <th>10</th>\n",
       "      <td>Azerbaijan</td>\n",
       "      <td>6.37</td>\n",
       "      <td>-7.47</td>\n",
       "      <td>-0.13</td>\n",
       "      <td>1.28</td>\n",
       "      <td>0.32</td>\n",
       "      <td>0.756</td>\n",
       "      <td>NaN</td>\n",
       "      <td>NaN</td>\n",
       "      <td>NaN</td>\n",
       "      <td>5.0</td>\n",
       "      <td>3</td>\n",
       "    </tr>\n",
       "    <tr>\n",
       "      <th>11</th>\n",
       "      <td>Bahamas</td>\n",
       "      <td>0.17</td>\n",
       "      <td>-0.46</td>\n",
       "      <td>0.20</td>\n",
       "      <td>0.04</td>\n",
       "      <td>0.01</td>\n",
       "      <td>0.814</td>\n",
       "      <td>NaN</td>\n",
       "      <td>NaN</td>\n",
       "      <td>NaN</td>\n",
       "      <td>NaN</td>\n",
       "      <td>1</td>\n",
       "    </tr>\n",
       "    <tr>\n",
       "      <th>12</th>\n",
       "      <td>Bahrain</td>\n",
       "      <td>12.52</td>\n",
       "      <td>4.64</td>\n",
       "      <td>0.01</td>\n",
       "      <td>0.36</td>\n",
       "      <td>-0.20</td>\n",
       "      <td>0.852</td>\n",
       "      <td>NaN</td>\n",
       "      <td>NaN</td>\n",
       "      <td>NaN</td>\n",
       "      <td>NaN</td>\n",
       "      <td>1</td>\n",
       "    </tr>\n",
       "    <tr>\n",
       "      <th>13</th>\n",
       "      <td>Bangladesh</td>\n",
       "      <td>53.39</td>\n",
       "      <td>29.09</td>\n",
       "      <td>-0.93</td>\n",
       "      <td>-1.66</td>\n",
       "      <td>-0.99</td>\n",
       "      <td>0.632</td>\n",
       "      <td>2.0</td>\n",
       "      <td>NaN</td>\n",
       "      <td>3.0</td>\n",
       "      <td>NaN</td>\n",
       "      <td>1</td>\n",
       "    </tr>\n",
       "    <tr>\n",
       "      <th>14</th>\n",
       "      <td>Barbados</td>\n",
       "      <td>-0.38</td>\n",
       "      <td>-1.18</td>\n",
       "      <td>0.47</td>\n",
       "      <td>0.02</td>\n",
       "      <td>0.00</td>\n",
       "      <td>0.814</td>\n",
       "      <td>NaN</td>\n",
       "      <td>NaN</td>\n",
       "      <td>NaN</td>\n",
       "      <td>NaN</td>\n",
       "      <td>1</td>\n",
       "    </tr>\n",
       "  </tbody>\n",
       "</table>\n",
       "</div>"
      ],
      "text/plain": [
       "                country  agriculture  energy  waste  industrial  bunker fuels  \\\n",
       "0           Afghanistan        67.42   -4.08  -0.80        0.54         -1.30   \n",
       "1               Albania         2.17    0.68   0.95        0.05         -0.03   \n",
       "2               Algeria        58.44  -17.34  -0.39        5.61          0.56   \n",
       "3               Andorra        -0.05    0.15   0.08        0.00          0.00   \n",
       "4                Angola         1.20   64.30  -2.18        1.13          1.59   \n",
       "5   Antigua and Barbuda         0.24    0.12   0.21        0.01          0.01   \n",
       "6             Argentina       -47.48   29.57   2.98        5.89          1.63   \n",
       "7               Armenia         0.29    1.32   1.22        0.07           NaN   \n",
       "8             Australia         2.17    1.13  -4.82       10.55          3.76   \n",
       "9               Austria        -9.94   -2.18   0.23       -0.28          0.33   \n",
       "10           Azerbaijan         6.37   -7.47  -0.13        1.28          0.32   \n",
       "11              Bahamas         0.17   -0.46   0.20        0.04          0.01   \n",
       "12              Bahrain        12.52    4.64   0.01        0.36         -0.20   \n",
       "13           Bangladesh        53.39   29.09  -0.93       -1.66         -0.99   \n",
       "14             Barbados        -0.38   -1.18   0.47        0.02          0.00   \n",
       "\n",
       "      hdi  Cotton  Clothing  Garments  Textiles  cluster_label  \n",
       "0   0.511     NaN       NaN       NaN       2.0              1  \n",
       "1   0.795     NaN       2.0       NaN       NaN              1  \n",
       "2   0.748     NaN       NaN       NaN       NaN              1  \n",
       "3   0.868     NaN       NaN       NaN       NaN              1  \n",
       "4   0.581     NaN       NaN       NaN       5.0              3  \n",
       "5   0.778     NaN       3.0       NaN       NaN              1  \n",
       "6   0.845     NaN       NaN       NaN       4.0              3  \n",
       "7   0.776     NaN       NaN       NaN       NaN              1  \n",
       "8   0.944     NaN       NaN       NaN       NaN              1  \n",
       "9   0.922     NaN       NaN       NaN       NaN              1  \n",
       "10  0.756     NaN       NaN       NaN       5.0              3  \n",
       "11  0.814     NaN       NaN       NaN       NaN              1  \n",
       "12  0.852     NaN       NaN       NaN       NaN              1  \n",
       "13  0.632     2.0       NaN       3.0       NaN              1  \n",
       "14  0.814     NaN       NaN       NaN       NaN              1  "
      ]
     },
     "execution_count": 117,
     "metadata": {},
     "output_type": "execute_result"
    }
   ],
   "source": [
    "clustering = KMeans(n_clusters = 5, random_state = 15)\n",
    "KM = clustering.fit(analysis_two_all_temp)\n",
    "KM.cluster_centers_\n",
    "\n",
    "cluster_labels = KM.labels_\n",
    "print(cluster_labels[:5])\n",
    "analysis_two_all[\"cluster_label\"] = cluster_labels\n",
    "analysis_two_all.head(15)\n",
    "\n",
    "\n",
    "\n",
    "\n",
    "#for c in cluster_labels:\n",
    "#    countries = analysis_two_all[analysis_two_all['cluster_label']==c].count()\n",
    "#    print(countries)\n",
    "\n",
    "#analysis_two_all[analysis_two_all['cluster_label']==0]\n",
    "\n",
    "\n",
    "#for i in list: \n",
    "#    KM = clustering.fit(analysis_two_all[[i, \"Textiles\"]])\n",
    "#    KM.cluster_centers_\n",
    " #   sns.relplot(x=analysis_two_all[i], y = \"Textiles\", style = \"cluster_label\", s = 80, alpha=.6, data = analysis_two_all)"
   ]
  },
  {
   "cell_type": "code",
   "execution_count": 121,
   "metadata": {},
   "outputs": [
    {
     "data": {
      "text/plain": [
       "<matplotlib.collections.PathCollection at 0x11f0464f0>"
      ]
     },
     "execution_count": 121,
     "metadata": {},
     "output_type": "execute_result"
    },
    {
     "data": {
      "image/png": "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\n",
      "text/plain": [
       "<Figure size 432x288 with 1 Axes>"
      ]
     },
     "metadata": {
      "needs_background": "light"
     },
     "output_type": "display_data"
    }
   ],
   "source": [
    "plt.scatter(analysis_two_all.agriculture, analysis_two_all.Clothing, s=analysis_two_all.cluster_label, alpha = 0.6)"
   ]
  },
  {
   "cell_type": "code",
   "execution_count": 107,
   "metadata": {},
   "outputs": [
    {
     "data": {
      "text/html": [
       "<div>\n",
       "<style scoped>\n",
       "    .dataframe tbody tr th:only-of-type {\n",
       "        vertical-align: middle;\n",
       "    }\n",
       "\n",
       "    .dataframe tbody tr th {\n",
       "        vertical-align: top;\n",
       "    }\n",
       "\n",
       "    .dataframe thead th {\n",
       "        text-align: right;\n",
       "    }\n",
       "</style>\n",
       "<table border=\"1\" class=\"dataframe\">\n",
       "  <thead>\n",
       "    <tr style=\"text-align: right;\">\n",
       "      <th></th>\n",
       "      <th>agriculture</th>\n",
       "      <th>energy</th>\n",
       "      <th>waste</th>\n",
       "      <th>industrial</th>\n",
       "      <th>bunker fuels</th>\n",
       "      <th>hdi</th>\n",
       "      <th>Cotton</th>\n",
       "      <th>Clothing</th>\n",
       "      <th>Garments</th>\n",
       "      <th>Textiles</th>\n",
       "    </tr>\n",
       "    <tr>\n",
       "      <th>cluster_label</th>\n",
       "      <th></th>\n",
       "      <th></th>\n",
       "      <th></th>\n",
       "      <th></th>\n",
       "      <th></th>\n",
       "      <th></th>\n",
       "      <th></th>\n",
       "      <th></th>\n",
       "      <th></th>\n",
       "      <th></th>\n",
       "    </tr>\n",
       "  </thead>\n",
       "  <tbody>\n",
       "    <tr>\n",
       "      <th>0</th>\n",
       "      <td>2.168000</td>\n",
       "      <td>6.858000</td>\n",
       "      <td>-0.062609</td>\n",
       "      <td>-0.936400</td>\n",
       "      <td>0.606250</td>\n",
       "      <td>0.784040</td>\n",
       "      <td>11.000000</td>\n",
       "      <td>NaN</td>\n",
       "      <td>2.0</td>\n",
       "      <td>8.880000</td>\n",
       "    </tr>\n",
       "    <tr>\n",
       "      <th>1</th>\n",
       "      <td>18.296417</td>\n",
       "      <td>4.342000</td>\n",
       "      <td>0.828583</td>\n",
       "      <td>1.923559</td>\n",
       "      <td>1.599905</td>\n",
       "      <td>0.714792</td>\n",
       "      <td>2.000000</td>\n",
       "      <td>2.333333</td>\n",
       "      <td>2.5</td>\n",
       "      <td>1.476190</td>\n",
       "    </tr>\n",
       "    <tr>\n",
       "      <th>2</th>\n",
       "      <td>-25.901667</td>\n",
       "      <td>28.245000</td>\n",
       "      <td>-1.891667</td>\n",
       "      <td>1.920000</td>\n",
       "      <td>3.806667</td>\n",
       "      <td>0.876333</td>\n",
       "      <td>NaN</td>\n",
       "      <td>10.166667</td>\n",
       "      <td>NaN</td>\n",
       "      <td>9.166667</td>\n",
       "    </tr>\n",
       "    <tr>\n",
       "      <th>3</th>\n",
       "      <td>96.683889</td>\n",
       "      <td>94.012222</td>\n",
       "      <td>1.955278</td>\n",
       "      <td>13.717778</td>\n",
       "      <td>2.367429</td>\n",
       "      <td>0.682750</td>\n",
       "      <td>2.333333</td>\n",
       "      <td>3.333333</td>\n",
       "      <td>6.0</td>\n",
       "      <td>4.166667</td>\n",
       "    </tr>\n",
       "    <tr>\n",
       "      <th>4</th>\n",
       "      <td>19.106667</td>\n",
       "      <td>17.561667</td>\n",
       "      <td>0.475000</td>\n",
       "      <td>1.501667</td>\n",
       "      <td>0.602000</td>\n",
       "      <td>0.707667</td>\n",
       "      <td>2.000000</td>\n",
       "      <td>6.333333</td>\n",
       "      <td>NaN</td>\n",
       "      <td>1.000000</td>\n",
       "    </tr>\n",
       "  </tbody>\n",
       "</table>\n",
       "</div>"
      ],
      "text/plain": [
       "               agriculture     energy     waste  industrial  bunker fuels  \\\n",
       "cluster_label                                                               \n",
       "0                 2.168000   6.858000 -0.062609   -0.936400      0.606250   \n",
       "1                18.296417   4.342000  0.828583    1.923559      1.599905   \n",
       "2               -25.901667  28.245000 -1.891667    1.920000      3.806667   \n",
       "3                96.683889  94.012222  1.955278   13.717778      2.367429   \n",
       "4                19.106667  17.561667  0.475000    1.501667      0.602000   \n",
       "\n",
       "                    hdi     Cotton   Clothing  Garments  Textiles  \n",
       "cluster_label                                                      \n",
       "0              0.784040  11.000000        NaN       2.0  8.880000  \n",
       "1              0.714792   2.000000   2.333333       2.5  1.476190  \n",
       "2              0.876333        NaN  10.166667       NaN  9.166667  \n",
       "3              0.682750   2.333333   3.333333       6.0  4.166667  \n",
       "4              0.707667   2.000000   6.333333       NaN  1.000000  "
      ]
     },
     "execution_count": 107,
     "metadata": {},
     "output_type": "execute_result"
    }
   ],
   "source": [
    "analysis_two_all.groupby('cluster_label').mean()"
   ]
  },
  {
   "cell_type": "code",
   "execution_count": 108,
   "metadata": {},
   "outputs": [
    {
     "data": {
      "text/html": [
       "<div>\n",
       "<style scoped>\n",
       "    .dataframe tbody tr th:only-of-type {\n",
       "        vertical-align: middle;\n",
       "    }\n",
       "\n",
       "    .dataframe tbody tr th {\n",
       "        vertical-align: top;\n",
       "    }\n",
       "\n",
       "    .dataframe thead th {\n",
       "        text-align: right;\n",
       "    }\n",
       "</style>\n",
       "<table border=\"1\" class=\"dataframe\">\n",
       "  <thead>\n",
       "    <tr style=\"text-align: right;\">\n",
       "      <th></th>\n",
       "      <th>country</th>\n",
       "      <th>agriculture</th>\n",
       "      <th>energy</th>\n",
       "      <th>waste</th>\n",
       "      <th>industrial</th>\n",
       "      <th>bunker fuels</th>\n",
       "      <th>hdi</th>\n",
       "      <th>Cotton</th>\n",
       "      <th>Clothing</th>\n",
       "      <th>Garments</th>\n",
       "      <th>Textiles</th>\n",
       "    </tr>\n",
       "    <tr>\n",
       "      <th>cluster_label</th>\n",
       "      <th></th>\n",
       "      <th></th>\n",
       "      <th></th>\n",
       "      <th></th>\n",
       "      <th></th>\n",
       "      <th></th>\n",
       "      <th></th>\n",
       "      <th></th>\n",
       "      <th></th>\n",
       "      <th></th>\n",
       "      <th></th>\n",
       "    </tr>\n",
       "  </thead>\n",
       "  <tbody>\n",
       "    <tr>\n",
       "      <th>0</th>\n",
       "      <td>Belarus</td>\n",
       "      <td>-112.86</td>\n",
       "      <td>-80.06</td>\n",
       "      <td>-19.85</td>\n",
       "      <td>-28.90</td>\n",
       "      <td>-3.84</td>\n",
       "      <td>0.528</td>\n",
       "      <td>11.0</td>\n",
       "      <td>NaN</td>\n",
       "      <td>2.0</td>\n",
       "      <td>7.0</td>\n",
       "    </tr>\n",
       "    <tr>\n",
       "      <th>1</th>\n",
       "      <td>Afghanistan</td>\n",
       "      <td>-610.26</td>\n",
       "      <td>-612.04</td>\n",
       "      <td>-7.33</td>\n",
       "      <td>-2.61</td>\n",
       "      <td>-1.30</td>\n",
       "      <td>0.397</td>\n",
       "      <td>2.0</td>\n",
       "      <td>1.0</td>\n",
       "      <td>2.0</td>\n",
       "      <td>1.0</td>\n",
       "    </tr>\n",
       "    <tr>\n",
       "      <th>2</th>\n",
       "      <td>Denmark</td>\n",
       "      <td>-184.43</td>\n",
       "      <td>-12.79</td>\n",
       "      <td>-7.54</td>\n",
       "      <td>-3.24</td>\n",
       "      <td>-2.37</td>\n",
       "      <td>0.777</td>\n",
       "      <td>NaN</td>\n",
       "      <td>8.0</td>\n",
       "      <td>NaN</td>\n",
       "      <td>6.0</td>\n",
       "    </tr>\n",
       "    <tr>\n",
       "      <th>3</th>\n",
       "      <td>Angola</td>\n",
       "      <td>-47.48</td>\n",
       "      <td>-37.12</td>\n",
       "      <td>-2.18</td>\n",
       "      <td>-16.13</td>\n",
       "      <td>-0.17</td>\n",
       "      <td>0.394</td>\n",
       "      <td>1.0</td>\n",
       "      <td>3.0</td>\n",
       "      <td>5.0</td>\n",
       "      <td>3.0</td>\n",
       "    </tr>\n",
       "    <tr>\n",
       "      <th>4</th>\n",
       "      <td>Colombia</td>\n",
       "      <td>-1.05</td>\n",
       "      <td>0.01</td>\n",
       "      <td>0.07</td>\n",
       "      <td>0.00</td>\n",
       "      <td>-0.02</td>\n",
       "      <td>0.496</td>\n",
       "      <td>2.0</td>\n",
       "      <td>4.0</td>\n",
       "      <td>NaN</td>\n",
       "      <td>1.0</td>\n",
       "    </tr>\n",
       "  </tbody>\n",
       "</table>\n",
       "</div>"
      ],
      "text/plain": [
       "                   country  agriculture  energy  waste  industrial  \\\n",
       "cluster_label                                                        \n",
       "0                  Belarus      -112.86  -80.06 -19.85      -28.90   \n",
       "1              Afghanistan      -610.26 -612.04  -7.33       -2.61   \n",
       "2                  Denmark      -184.43  -12.79  -7.54       -3.24   \n",
       "3                   Angola       -47.48  -37.12  -2.18      -16.13   \n",
       "4                 Colombia        -1.05    0.01   0.07        0.00   \n",
       "\n",
       "               bunker fuels    hdi  Cotton  Clothing  Garments  Textiles  \n",
       "cluster_label                                                             \n",
       "0                     -3.84  0.528    11.0       NaN       2.0       7.0  \n",
       "1                     -1.30  0.397     2.0       1.0       2.0       1.0  \n",
       "2                     -2.37  0.777     NaN       8.0       NaN       6.0  \n",
       "3                     -0.17  0.394     1.0       3.0       5.0       3.0  \n",
       "4                     -0.02  0.496     2.0       4.0       NaN       1.0  "
      ]
     },
     "execution_count": 108,
     "metadata": {},
     "output_type": "execute_result"
    }
   ],
   "source": [
    "analysis_two_all.groupby('cluster_label').min()"
   ]
  },
  {
   "cell_type": "code",
   "execution_count": 109,
   "metadata": {},
   "outputs": [
    {
     "data": {
      "text/html": [
       "<div>\n",
       "<style scoped>\n",
       "    .dataframe tbody tr th:only-of-type {\n",
       "        vertical-align: middle;\n",
       "    }\n",
       "\n",
       "    .dataframe tbody tr th {\n",
       "        vertical-align: top;\n",
       "    }\n",
       "\n",
       "    .dataframe thead th {\n",
       "        text-align: right;\n",
       "    }\n",
       "</style>\n",
       "<table border=\"1\" class=\"dataframe\">\n",
       "  <thead>\n",
       "    <tr style=\"text-align: right;\">\n",
       "      <th></th>\n",
       "      <th>country</th>\n",
       "      <th>agriculture</th>\n",
       "      <th>energy</th>\n",
       "      <th>waste</th>\n",
       "      <th>industrial</th>\n",
       "      <th>bunker fuels</th>\n",
       "      <th>hdi</th>\n",
       "      <th>Cotton</th>\n",
       "      <th>Clothing</th>\n",
       "      <th>Garments</th>\n",
       "      <th>Textiles</th>\n",
       "    </tr>\n",
       "    <tr>\n",
       "      <th>cluster_label</th>\n",
       "      <th></th>\n",
       "      <th></th>\n",
       "      <th></th>\n",
       "      <th></th>\n",
       "      <th></th>\n",
       "      <th></th>\n",
       "      <th></th>\n",
       "      <th></th>\n",
       "      <th></th>\n",
       "      <th></th>\n",
       "      <th></th>\n",
       "    </tr>\n",
       "  </thead>\n",
       "  <tbody>\n",
       "    <tr>\n",
       "      <th>0</th>\n",
       "      <td>Zambia</td>\n",
       "      <td>80.42</td>\n",
       "      <td>119.75</td>\n",
       "      <td>22.86</td>\n",
       "      <td>6.74</td>\n",
       "      <td>8.89</td>\n",
       "      <td>0.957</td>\n",
       "      <td>11.0</td>\n",
       "      <td>NaN</td>\n",
       "      <td>2.0</td>\n",
       "      <td>15.0</td>\n",
       "    </tr>\n",
       "    <tr>\n",
       "      <th>1</th>\n",
       "      <td>Yemen</td>\n",
       "      <td>1029.15</td>\n",
       "      <td>960.57</td>\n",
       "      <td>18.23</td>\n",
       "      <td>36.31</td>\n",
       "      <td>27.61</td>\n",
       "      <td>0.955</td>\n",
       "      <td>2.0</td>\n",
       "      <td>3.0</td>\n",
       "      <td>3.0</td>\n",
       "      <td>2.0</td>\n",
       "    </tr>\n",
       "    <tr>\n",
       "      <th>2</th>\n",
       "      <td>United Kingdom</td>\n",
       "      <td>99.48</td>\n",
       "      <td>123.41</td>\n",
       "      <td>0.17</td>\n",
       "      <td>13.71</td>\n",
       "      <td>13.70</td>\n",
       "      <td>0.940</td>\n",
       "      <td>NaN</td>\n",
       "      <td>16.0</td>\n",
       "      <td>NaN</td>\n",
       "      <td>15.0</td>\n",
       "    </tr>\n",
       "    <tr>\n",
       "      <th>3</th>\n",
       "      <td>Uruguay</td>\n",
       "      <td>3250.16</td>\n",
       "      <td>3095.94</td>\n",
       "      <td>57.18</td>\n",
       "      <td>476.61</td>\n",
       "      <td>62.29</td>\n",
       "      <td>0.955</td>\n",
       "      <td>4.0</td>\n",
       "      <td>4.0</td>\n",
       "      <td>7.0</td>\n",
       "      <td>6.0</td>\n",
       "    </tr>\n",
       "    <tr>\n",
       "      <th>4</th>\n",
       "      <td>Zimbabwe</td>\n",
       "      <td>83.42</td>\n",
       "      <td>100.69</td>\n",
       "      <td>0.83</td>\n",
       "      <td>6.56</td>\n",
       "      <td>1.96</td>\n",
       "      <td>0.895</td>\n",
       "      <td>2.0</td>\n",
       "      <td>9.0</td>\n",
       "      <td>NaN</td>\n",
       "      <td>1.0</td>\n",
       "    </tr>\n",
       "  </tbody>\n",
       "</table>\n",
       "</div>"
      ],
      "text/plain": [
       "                      country  agriculture   energy  waste  industrial  \\\n",
       "cluster_label                                                            \n",
       "0                      Zambia        80.42   119.75  22.86        6.74   \n",
       "1                       Yemen      1029.15   960.57  18.23       36.31   \n",
       "2              United Kingdom        99.48   123.41   0.17       13.71   \n",
       "3                     Uruguay      3250.16  3095.94  57.18      476.61   \n",
       "4                    Zimbabwe        83.42   100.69   0.83        6.56   \n",
       "\n",
       "               bunker fuels    hdi  Cotton  Clothing  Garments  Textiles  \n",
       "cluster_label                                                             \n",
       "0                      8.89  0.957    11.0       NaN       2.0      15.0  \n",
       "1                     27.61  0.955     2.0       3.0       3.0       2.0  \n",
       "2                     13.70  0.940     NaN      16.0       NaN      15.0  \n",
       "3                     62.29  0.955     4.0       4.0       7.0       6.0  \n",
       "4                      1.96  0.895     2.0       9.0       NaN       1.0  "
      ]
     },
     "execution_count": 109,
     "metadata": {},
     "output_type": "execute_result"
    }
   ],
   "source": [
    "analysis_two_all.groupby('cluster_label').max()"
   ]
  },
  {
   "cell_type": "code",
   "execution_count": 90,
   "metadata": {},
   "outputs": [
    {
     "data": {
      "text/plain": [
       "country           object\n",
       "agriculture       object\n",
       "energy            object\n",
       "waste             object\n",
       "industrial        object\n",
       "bunker fuels      object\n",
       "hdi              float64\n",
       "Cotton           float64\n",
       "Clothing         float64\n",
       "Garments         float64\n",
       "Textiles         float64\n",
       "cluster_label      int32\n",
       "dtype: object"
      ]
     },
     "execution_count": 90,
     "metadata": {},
     "output_type": "execute_result"
    }
   ],
   "source": [
    "analysis_two_all.dtypes"
   ]
  },
  {
   "cell_type": "code",
   "execution_count": null,
   "metadata": {},
   "outputs": [],
   "source": []
  }
 ],
 "metadata": {
  "kernelspec": {
   "display_name": "Python 3",
   "language": "python",
   "name": "python3"
  },
  "language_info": {
   "codemirror_mode": {
    "name": "ipython",
    "version": 3
   },
   "file_extension": ".py",
   "mimetype": "text/x-python",
   "name": "python",
   "nbconvert_exporter": "python",
   "pygments_lexer": "ipython3",
   "version": "3.8.5"
  }
 },
 "nbformat": 4,
 "nbformat_minor": 4
}
