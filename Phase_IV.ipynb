{
 "cells": [
  {
   "cell_type": "markdown",
   "metadata": {},
   "source": [
    "# project phase iv: on fashion & climate change\n",
    "\n",
    "project contributors: jillian beck (jlb574), diane lee (ddl58), alexander panovka (amp343), jonathan yun (jly37)\n",
    "\n",
    "-----"
   ]
  },
  {
   "cell_type": "markdown",
   "metadata": {},
   "source": [
    "## Introduction\n",
    "In an age where people want everything in the most convenient and fast way possible, it is no surprise that the fashion industry has stepped up to this expectation but with less than desirable consequences. Today, millions of Americans shop at the height of fast fashion’s boom. Fast fashion refers to cheaply produced, and therefore cheaply priced, clothing that gets pumped through stores quickly, hence the “fast” notation The very premise of fast fashion emphasizes quantity over quality; brands aim to market and promote short-lived trends that allow for the production of dozens of clothing collections each year. Fast fashion brands like H&M, Zara, and Shein release thousands, if not tens of thousands, of new styles each week. This process allows for a steady monetary gain on behalf of the partaking companies, but it also comes with one major drawback: it is an unsustainable method with possibly detrimental environmental effects. To maintain such a cycle, the fast fashion industry uses petrochemical textiles made from non-renewable fossil fuels. To make matters worse, the fast fashion industry exports its production overseas for cheap labor. As fast fashion has grown significantly in the garment industry over the past few decades, the industrial sectors involved, such as agriculture, bunker fuels, waste and more, consequently have also experienced changes, all to a different extent in different countries. In our analysis, we will be answering the question, “How does the impact of fast fashion vary across countries, based on the development of a country?”\n",
    "\n",
    "-----"
   ]
  },
  {
   "cell_type": "markdown",
   "metadata": {},
   "source": [
    "## Data description\n",
    "We are examining three main datasets to address our research question.\n",
    "\n",
    "#### motivation\n",
    "The first is from the United Nations and lists the Human Development Index (HDI) for each country starting from 1990 to 2019. HDI measures the average achievement of a country in terms of human development by examining and ranking the country in three dimensions - 1) human longevity 2) education 3) gross national income. These dimensions are examined and then the geometric mean between them is found and that number becomes the country’s corresponding HDI. The UN created this dataset for research to further their mission of fostering human welfare through the advocacy for change in restrictive government policies, and the promotion of innovative ideas. For focus and simplicity, we are only examining the HDI observed in 2019; the resultant dataset is a singular column of the 2019 HDI’s indexed by country. The observations(row values) are the country names, and the only attribute(column value) is the recorded HDI in 2019.  ( http://hdr.undp.org/en/indicators/137506 )\n",
    "\n",
    "#### composition\n",
    "The second dataset we examine contains raw data concerning anthropogenic greenhouse gas (GHG) emissions for all 195 countries from 1990 to 2018 taken from and created by Climate Watch. The GHG emissions (measured in metric tons of carbon dioxide) are divided into multiple sectors including energy, bunker-fuels, industry, waste, and agriculture. The GHG emissions per country per year are then listed in relation to each of those sectors. Climate Watch created this dataset in order to raise awareness not only to the broader and most pressing issue of our time, climate change, but also to hone in on the sectors and countries that are causing the most detrimental environmental effects. The observations (row values) are the country names, and the attributes (column values) are the recorded GHG emissions for every year from 1990 to 2018.  A potential influence on the observed and recorded data in this dataset is that the creator of the dataset (e.g the UN) does not use the GHG emissions listed in each country’s annual inventory report in hopes of avoiding bias and inaccuracy. Although this seems like a good way to mitigate bias, it also warrants a three year gap between updating the dataset so that the GHG emissions for every country can be measured. This brief lapse in time could pose a small threat to using the dataset to predict trends since the values are always, at the latest update, three years old. (https://www.climatewatchdata.org/ghg-emissions?end_year=2018&start_year=1990 )\n",
    "\n",
    "#### collection process\n",
    "The third dataset is a dataframe that we created ourselves using data from the CIA World Factbook, which lists countries and their annual industry output by rank. We decided to create this dataset so that we could access and analyze industries that have a direct correlation with the fashion industry, as such we chose to examine only industries relevant to fast fashion: Clothing, textiles, garments, cotton, and jute (which we later decided to drop for redundancy mitigation). We sifted through the factbook for our relevant industries and wrote down where that industry output was ranked for the specific country in question. Due to the wide variety of existing industries, there were a surprisingly low number of countries that produced garments, clothing, textiles, or cotton. Despite this, we were still able to construct a fairly comprehensive CSV file of ranked industry output by country to use in our data analysis. The CIA created the World Factbook, and this specific dataset, as part of their mission to provide accessible, up-to-date information about the world to anyone interested in doing research or simply learning more about specific fields of study. The observations (row values) are the country names, and the attributes (column values) are the four chosen industries with their annual output rank: Clothing, textiles, garments, and cotton. A potential limitation in this dataset is that some industries, like “mining” for example, listed under one country can be listed under another country as “steel, coal, and iron ore.” This lack of specification and continuity could cause issues to an inattentive observer. ( https://www.cia.gov/the-world-factbook/field/industries/ )\n",
    "\n",
    "#### postprocessing / cleaning / labelling\n",
    "\n",
    "-----"
   ]
  },
  {
   "cell_type": "markdown",
   "metadata": {},
   "source": [
    "## preregistration statement\n",
    "\n",
    "here are the following analyses we promised to conduct in project phase iii:\n",
    "\n",
    "#### Analysis One:\n",
    "- Goal: Analyze correlation between HDI (human development index) and GHG emissions per economic sector (i.e. Manufacturing, bunker fuel, etc)\n",
    "\n",
    "- How we’re going to do it: We are going to make a new data frame. It will have these twelve columns: [Country, HDI from 2019,  average annual GHG emissions for each economic sector between 2014-2019 ( 5 columns), average annual change in GHG emissions for each economic sector between 2014-2019 (another 5 columns)]. We will then make a heatmap of the spearman correlation between each variable in the data frame. The reason we use spearman is because we care more about a country's relative HDI and GHG compared to other countries rather than what the actual values are. We will pay specific attention to the correlation between HDI and annual GHG emissions. This will represent five cells in the heat map, each cell being a correlation between emissions from a single sector and HDI. We will also check to see any strong correlations between other variables, such as HDI and change in emissions, and correlation between emissions in separate sectors. With these correlations we will be able to make statements about the relationship between the variables in this dataframe. \n",
    "\n",
    "- What we expect to find: We expect that there will be a strong positive correlation between HDI and GHG emissions suggesting that developed countries release more greenhouse gases. Conversely, we expect a strong negative correlation between HDI and change in GHG emissions suggesting that less developed countries are where most of the industrial growth is occurring. When looking at sectors specifically, we expect a slight negative correlation between HDI and GHG emissions from bunker fuel since developing countries often export their goods to developed countries. Finally we expect a high correlation between emissions from each sector, suggesting that countries that have high emissions in one sector also have high emissions in other sectors. Scatter plots of the data, done outside of this analysis, will allow us to see more specific relationships between sectors by country. The information we will gather from this analysis does not directly pertain to the fashion industry, but the knowledge it gives us about the relationship between development and emissions will help us understand if the relationship between development and environmental impact from fashion has unique characteristics.  \n",
    "\n",
    "#### Analysis Two\n",
    "\n",
    "- Goal: Examine the relationship between HDI and the importance of the fashion industry in a country’s economy. \n",
    "\n",
    "- How we’re going to do it: We are going to make a new data frame with these columns: [Country, HDI, cotton, clothing, garments, textiles]. The HDI column will be downloaded from the United Nations Development Programme, and we will just use the most recent year. Cotton, clothing, garment, and textiles will have data taken from the industries list from the CIA factbook. This page shows the top industries by annual output for every country, and we are looking at industries that are just related to fashion. In the data frame these columns will house values representing what rank that industry has in that country. For instance, textiles is fourth in the list of industries in Argentina, so the textiles value for Argentina will be 4. First we will find the correlation between HDI and fashion industries ranking. Next we will merge this data with the data relating to emissions from analysis one. We will create multiple scatter plots of industry rank versus emissions and change in emissions, with different emissions sectors for each plot, and then cluster the data. We expect the clusters to relate to HDI, so we will then make histograms of the HDI per cluster and determine if the clusters correspond to a country’s stage of development. \n",
    "\n",
    "- What we expect to find: We expect to find a negative correlation between HDI and the importance of fashion in a country’s economy. Based on our knowledge that most clothing is manufactured in developing countries, we expect developing countries to rely more on the fashion industry for their economies than developed countries. Across the scatter plots we expect to see clusters of high HDI countries where importance of fashion is low, and change in emissions is low, and where importance of fashion is low, but absolute emissions are high. For low HDI countries, we expect clusters where importance of fashion is high and change in emissions is high, and where importance of fashion is high and emissions are medium to low. Our data does not take into account the size of each country, so the clusters in the annual emissions plots might represent country size, but we expect the clusters in the scatter plots of change in emissions to definitely represent development. With this information we will be able to determine if less developed countries bear a greater burden from the fashion industry than developed countries. \n",
    "\n",
    "-----"
   ]
  },
  {
   "cell_type": "markdown",
   "metadata": {},
   "source": [
    "## analysis one\n",
    "\n",
    "in this analysis, we will analyze correlation between HDI (human development index) and GHG emissions per economic sector (i.e. manufacturing, bunker fuel, etc)."
   ]
  },
  {
   "cell_type": "code",
   "execution_count": 176,
   "metadata": {},
   "outputs": [],
   "source": [
    "## load libraries\n",
    "\n",
    "## our old friends...\n",
    "import numpy as np\n",
    "import pandas as pd\n",
    "import matplotlib.pyplot as plt\n",
    "\n",
    "## ...and some new ones...\n",
    "import seaborn as sns\n",
    "from sklearn.cluster import KMeans\n",
    "\n",
    "## ..and a most new friend\n",
    "from sklearn.linear_model import LinearRegression\n",
    "\n",
    "## load CSVs\n",
    "agriculture=pd.read_csv('agriculture.csv', na_values={'false','False','FALSE'})\n",
    "energy=pd.read_csv('energy.csv',  na_values={'false','False','FALSE'})\n",
    "waste=pd.read_csv('waste.csv',   na_values={'false','False','FALSE'})\n",
    "industrial=pd.read_csv('industrial-processes.csv',  na_values={'false','False','FALSE'})\n",
    "bunker_fuels=pd.read_csv('bunker-fuels.csv',  na_values={'false','False','FALSE'})"
   ]
  },
  {
   "cell_type": "code",
   "execution_count": 177,
   "metadata": {},
   "outputs": [],
   "source": [
    "## load HDI data\n",
    "hdi = pd.read_csv('Human Development Index (HDI)-2.csv', header = 5)\n",
    "cols = {'Country', '2019'} # subset to just keep 2019 hdis\n",
    "hdi = hdi[cols] # keeping only relevant data\n",
    "\n",
    "hdi['Country'] = hdi['Country'].str.strip(' ')\n",
    "\n",
    "hdi = hdi.rename(columns={'Country': 'country', '2019': 'hdi'})"
   ]
  },
  {
   "cell_type": "markdown",
   "metadata": {},
   "source": [
    "#### Data Analysis\n",
    "\n",
    "First, let's see a little bit more about the hdi data, and then prepare it for merger with the ghg emissions datasets:"
   ]
  },
  {
   "cell_type": "code",
   "execution_count": 178,
   "metadata": {},
   "outputs": [
    {
     "data": {
      "text/html": [
       "<div>\n",
       "<style scoped>\n",
       "    .dataframe tbody tr th:only-of-type {\n",
       "        vertical-align: middle;\n",
       "    }\n",
       "\n",
       "    .dataframe tbody tr th {\n",
       "        vertical-align: top;\n",
       "    }\n",
       "\n",
       "    .dataframe thead th {\n",
       "        text-align: right;\n",
       "    }\n",
       "</style>\n",
       "<table border=\"1\" class=\"dataframe\">\n",
       "  <thead>\n",
       "    <tr style=\"text-align: right;\">\n",
       "      <th></th>\n",
       "      <th>hdi</th>\n",
       "      <th>country</th>\n",
       "    </tr>\n",
       "  </thead>\n",
       "  <tbody>\n",
       "    <tr>\n",
       "      <th>0</th>\n",
       "      <td>0.511</td>\n",
       "      <td>Afghanistan</td>\n",
       "    </tr>\n",
       "    <tr>\n",
       "      <th>1</th>\n",
       "      <td>0.795</td>\n",
       "      <td>Albania</td>\n",
       "    </tr>\n",
       "    <tr>\n",
       "      <th>2</th>\n",
       "      <td>0.748</td>\n",
       "      <td>Algeria</td>\n",
       "    </tr>\n",
       "    <tr>\n",
       "      <th>3</th>\n",
       "      <td>0.868</td>\n",
       "      <td>Andorra</td>\n",
       "    </tr>\n",
       "    <tr>\n",
       "      <th>4</th>\n",
       "      <td>0.581</td>\n",
       "      <td>Angola</td>\n",
       "    </tr>\n",
       "  </tbody>\n",
       "</table>\n",
       "</div>"
      ],
      "text/plain": [
       "     hdi      country\n",
       "0  0.511  Afghanistan\n",
       "1  0.795      Albania\n",
       "2  0.748      Algeria\n",
       "3  0.868      Andorra\n",
       "4  0.581       Angola"
      ]
     },
     "execution_count": 178,
     "metadata": {},
     "output_type": "execute_result"
    }
   ],
   "source": [
    "hdi.head()"
   ]
  },
  {
   "cell_type": "code",
   "execution_count": 179,
   "metadata": {},
   "outputs": [],
   "source": [
    "agriculture = agriculture.sort_values('Country/Region')\n",
    "energy = energy.sort_values('Country/Region')\n",
    "waste = waste.sort_values('Country/Region')\n",
    "industrial = industrial.sort_values('Country/Region')\n",
    "bunker_fuels = bunker_fuels.sort_values('Country/Region')\n",
    "\n",
    "ag_ghgchange = (agriculture['2018']-agriculture['2008'])\n",
    "energy_ghgchange = (energy['2018']-energy['2008'])\n",
    "waste_ghgchange = (waste['2018']-waste['2008'])\n",
    "industrial_ghgchange = (industrial['2008']-industrial['1998'])\n",
    "bunker_ghgchange = (bunker_fuels['2008']-bunker_fuels['1998'])"
   ]
  },
  {
   "cell_type": "markdown",
   "metadata": {},
   "source": [
    "great! we've sorted, subtracted and prepared our datasets for analysis. let's merge them all together into one dataset about ghg emissions, per country, per industry:"
   ]
  },
  {
   "cell_type": "code",
   "execution_count": 180,
   "metadata": {},
   "outputs": [
    {
     "data": {
      "text/html": [
       "<div>\n",
       "<style scoped>\n",
       "    .dataframe tbody tr th:only-of-type {\n",
       "        vertical-align: middle;\n",
       "    }\n",
       "\n",
       "    .dataframe tbody tr th {\n",
       "        vertical-align: top;\n",
       "    }\n",
       "\n",
       "    .dataframe thead th {\n",
       "        text-align: right;\n",
       "    }\n",
       "</style>\n",
       "<table border=\"1\" class=\"dataframe\">\n",
       "  <thead>\n",
       "    <tr style=\"text-align: right;\">\n",
       "      <th></th>\n",
       "      <th>country</th>\n",
       "      <th>agriculture</th>\n",
       "      <th>energy</th>\n",
       "      <th>waste</th>\n",
       "      <th>industrial</th>\n",
       "      <th>bunker fuels</th>\n",
       "    </tr>\n",
       "  </thead>\n",
       "  <tbody>\n",
       "    <tr>\n",
       "      <th>57</th>\n",
       "      <td>Afghanistan</td>\n",
       "      <td>67.42</td>\n",
       "      <td>-4.08</td>\n",
       "      <td>-0.8</td>\n",
       "      <td>0.54</td>\n",
       "      <td>-1.3</td>\n",
       "    </tr>\n",
       "    <tr>\n",
       "      <th>145</th>\n",
       "      <td>Albania</td>\n",
       "      <td>2.17</td>\n",
       "      <td>0.68</td>\n",
       "      <td>0.95</td>\n",
       "      <td>0.05</td>\n",
       "      <td>-0.03</td>\n",
       "    </tr>\n",
       "    <tr>\n",
       "      <th>38</th>\n",
       "      <td>Algeria</td>\n",
       "      <td>58.44</td>\n",
       "      <td>-17.34</td>\n",
       "      <td>-0.39</td>\n",
       "      <td>5.61</td>\n",
       "      <td>0.56</td>\n",
       "    </tr>\n",
       "    <tr>\n",
       "      <th>177</th>\n",
       "      <td>Andorra</td>\n",
       "      <td>-0.05</td>\n",
       "      <td>0.15</td>\n",
       "      <td>0.08</td>\n",
       "      <td>0</td>\n",
       "      <td>0</td>\n",
       "    </tr>\n",
       "    <tr>\n",
       "      <th>47</th>\n",
       "      <td>Angola</td>\n",
       "      <td>1.2</td>\n",
       "      <td>64.3</td>\n",
       "      <td>-2.18</td>\n",
       "      <td>1.13</td>\n",
       "      <td>1.59</td>\n",
       "    </tr>\n",
       "    <tr>\n",
       "      <th>...</th>\n",
       "      <td>...</td>\n",
       "      <td>...</td>\n",
       "      <td>...</td>\n",
       "      <td>...</td>\n",
       "      <td>...</td>\n",
       "      <td>...</td>\n",
       "    </tr>\n",
       "    <tr>\n",
       "      <th>29</th>\n",
       "      <td>Venezuela</td>\n",
       "      <td>-67.4</td>\n",
       "      <td>44.14</td>\n",
       "      <td>0.62</td>\n",
       "      <td>6.66</td>\n",
       "      <td>1.41</td>\n",
       "    </tr>\n",
       "    <tr>\n",
       "      <th>23</th>\n",
       "      <td>Vietnam</td>\n",
       "      <td>126.44</td>\n",
       "      <td>126.77</td>\n",
       "      <td>1.21</td>\n",
       "      <td>3.64</td>\n",
       "      <td>-0.78</td>\n",
       "    </tr>\n",
       "    <tr>\n",
       "      <th>122</th>\n",
       "      <td>Yemen</td>\n",
       "      <td>-11.3</td>\n",
       "      <td>4.3</td>\n",
       "      <td>0.34</td>\n",
       "      <td>0.22</td>\n",
       "      <td>-0.03</td>\n",
       "    </tr>\n",
       "    <tr>\n",
       "      <th>59</th>\n",
       "      <td>Zambia</td>\n",
       "      <td>27.67</td>\n",
       "      <td>-5.72</td>\n",
       "      <td>0.52</td>\n",
       "      <td>0.89</td>\n",
       "      <td>0.63</td>\n",
       "    </tr>\n",
       "    <tr>\n",
       "      <th>49</th>\n",
       "      <td>Zimbabwe</td>\n",
       "      <td>83.42</td>\n",
       "      <td>4.39</td>\n",
       "      <td>0.78</td>\n",
       "      <td>2.39</td>\n",
       "      <td>1.06</td>\n",
       "    </tr>\n",
       "  </tbody>\n",
       "</table>\n",
       "<p>195 rows × 6 columns</p>\n",
       "</div>"
      ],
      "text/plain": [
       "         country agriculture  energy waste industrial bunker fuels\n",
       "57   Afghanistan       67.42   -4.08  -0.8       0.54         -1.3\n",
       "145      Albania        2.17    0.68  0.95       0.05        -0.03\n",
       "38       Algeria       58.44  -17.34 -0.39       5.61         0.56\n",
       "177      Andorra       -0.05    0.15  0.08          0            0\n",
       "47        Angola         1.2    64.3 -2.18       1.13         1.59\n",
       "..           ...         ...     ...   ...        ...          ...\n",
       "29     Venezuela       -67.4   44.14  0.62       6.66         1.41\n",
       "23       Vietnam      126.44  126.77  1.21       3.64        -0.78\n",
       "122        Yemen       -11.3     4.3  0.34       0.22        -0.03\n",
       "59        Zambia       27.67   -5.72  0.52       0.89         0.63\n",
       "49      Zimbabwe       83.42    4.39  0.78       2.39         1.06\n",
       "\n",
       "[195 rows x 6 columns]"
      ]
     },
     "execution_count": 180,
     "metadata": {},
     "output_type": "execute_result"
    }
   ],
   "source": [
    "data_ghgchange = {'country': agriculture['Country/Region'].str.strip(' '), 'agriculture': ag_ghgchange, 'energy': energy_ghgchange,\n",
    "                  'waste': waste_ghgchange, 'industrial': industrial_ghgchange, 'bunker fuels': bunker_ghgchange}\n",
    "# data_ghgchange = {'country': agriculture['Country/Region'].str.strip(' '), 'agriculture': agriculture['2018'], 'energy': energy['2018'],\n",
    "#                   'waste': waste['2018'], 'industrial': industrial['2018'], 'bunker fuels': bunker_fuels['2018']}\n",
    "df_ghgchange = pd.DataFrame.from_dict(data_ghgchange, orient = 'index')\n",
    "df_ghgchange = df_ghgchange.transpose()\n",
    "\n",
    "df_ghgchange"
   ]
  },
  {
   "cell_type": "markdown",
   "metadata": {},
   "source": [
    "let's also run some summary statistics on this:"
   ]
  },
  {
   "cell_type": "code",
   "execution_count": 181,
   "metadata": {},
   "outputs": [
    {
     "data": {
      "text/html": [
       "<div>\n",
       "<style scoped>\n",
       "    .dataframe tbody tr th:only-of-type {\n",
       "        vertical-align: middle;\n",
       "    }\n",
       "\n",
       "    .dataframe tbody tr th {\n",
       "        vertical-align: top;\n",
       "    }\n",
       "\n",
       "    .dataframe thead th {\n",
       "        text-align: right;\n",
       "    }\n",
       "</style>\n",
       "<table border=\"1\" class=\"dataframe\">\n",
       "  <thead>\n",
       "    <tr style=\"text-align: right;\">\n",
       "      <th></th>\n",
       "      <th>country</th>\n",
       "      <th>agriculture</th>\n",
       "      <th>energy</th>\n",
       "      <th>waste</th>\n",
       "      <th>industrial</th>\n",
       "      <th>bunker fuels</th>\n",
       "    </tr>\n",
       "  </thead>\n",
       "  <tbody>\n",
       "    <tr>\n",
       "      <th>count</th>\n",
       "      <td>195</td>\n",
       "      <td>193.00</td>\n",
       "      <td>193.00</td>\n",
       "      <td>191.0</td>\n",
       "      <td>191.0</td>\n",
       "      <td>175.0</td>\n",
       "    </tr>\n",
       "    <tr>\n",
       "      <th>unique</th>\n",
       "      <td>195</td>\n",
       "      <td>191.00</td>\n",
       "      <td>187.00</td>\n",
       "      <td>150.0</td>\n",
       "      <td>147.0</td>\n",
       "      <td>139.0</td>\n",
       "    </tr>\n",
       "    <tr>\n",
       "      <th>top</th>\n",
       "      <td>Kenya</td>\n",
       "      <td>0.03</td>\n",
       "      <td>0.68</td>\n",
       "      <td>0.0</td>\n",
       "      <td>0.0</td>\n",
       "      <td>0.0</td>\n",
       "    </tr>\n",
       "    <tr>\n",
       "      <th>freq</th>\n",
       "      <td>1</td>\n",
       "      <td>2.00</td>\n",
       "      <td>2.00</td>\n",
       "      <td>12.0</td>\n",
       "      <td>15.0</td>\n",
       "      <td>20.0</td>\n",
       "    </tr>\n",
       "  </tbody>\n",
       "</table>\n",
       "</div>"
      ],
      "text/plain": [
       "       country  agriculture  energy  waste  industrial  bunker fuels\n",
       "count      195       193.00  193.00  191.0       191.0         175.0\n",
       "unique     195       191.00  187.00  150.0       147.0         139.0\n",
       "top      Kenya         0.03    0.68    0.0         0.0           0.0\n",
       "freq         1         2.00    2.00   12.0        15.0          20.0"
      ]
     },
     "execution_count": 181,
     "metadata": {},
     "output_type": "execute_result"
    }
   ],
   "source": [
    "df_ghgchange.describe()\n"
   ]
  },
  {
   "cell_type": "code",
   "execution_count": 182,
   "metadata": {},
   "outputs": [
    {
     "data": {
      "text/plain": [
       "country         object\n",
       "agriculture     object\n",
       "energy          object\n",
       "waste           object\n",
       "industrial      object\n",
       "bunker fuels    object\n",
       "dtype: object"
      ]
     },
     "execution_count": 182,
     "metadata": {},
     "output_type": "execute_result"
    }
   ],
   "source": [
    "df_ghgchange.dtypes"
   ]
  },
  {
   "cell_type": "markdown",
   "metadata": {},
   "source": [
    "ok, our climate change emissions data (in megatons) should probably be numeric... let's do that, and then run summary statistics on it:"
   ]
  },
  {
   "cell_type": "code",
   "execution_count": 183,
   "metadata": {},
   "outputs": [
    {
     "data": {
      "text/html": [
       "<div>\n",
       "<style scoped>\n",
       "    .dataframe tbody tr th:only-of-type {\n",
       "        vertical-align: middle;\n",
       "    }\n",
       "\n",
       "    .dataframe tbody tr th {\n",
       "        vertical-align: top;\n",
       "    }\n",
       "\n",
       "    .dataframe thead th {\n",
       "        text-align: right;\n",
       "    }\n",
       "</style>\n",
       "<table border=\"1\" class=\"dataframe\">\n",
       "  <thead>\n",
       "    <tr style=\"text-align: right;\">\n",
       "      <th></th>\n",
       "      <th>bunker fuels</th>\n",
       "      <th>industrial</th>\n",
       "      <th>energy</th>\n",
       "      <th>agriculture</th>\n",
       "      <th>waste</th>\n",
       "    </tr>\n",
       "  </thead>\n",
       "  <tbody>\n",
       "    <tr>\n",
       "      <th>count</th>\n",
       "      <td>175.000000</td>\n",
       "      <td>191.000000</td>\n",
       "      <td>193.000000</td>\n",
       "      <td>193.000000</td>\n",
       "      <td>191.000000</td>\n",
       "    </tr>\n",
       "    <tr>\n",
       "      <th>mean</th>\n",
       "      <td>1.664286</td>\n",
       "      <td>3.758848</td>\n",
       "      <td>22.548031</td>\n",
       "      <td>29.479896</td>\n",
       "      <td>0.837068</td>\n",
       "    </tr>\n",
       "    <tr>\n",
       "      <th>std</th>\n",
       "      <td>5.954713</td>\n",
       "      <td>34.781706</td>\n",
       "      <td>239.662242</td>\n",
       "      <td>259.370847</td>\n",
       "      <td>5.387391</td>\n",
       "    </tr>\n",
       "    <tr>\n",
       "      <th>min</th>\n",
       "      <td>-3.840000</td>\n",
       "      <td>-28.900000</td>\n",
       "      <td>-612.040000</td>\n",
       "      <td>-610.260000</td>\n",
       "      <td>-19.850000</td>\n",
       "    </tr>\n",
       "    <tr>\n",
       "      <th>25%</th>\n",
       "      <td>0.000000</td>\n",
       "      <td>0.020000</td>\n",
       "      <td>-1.240000</td>\n",
       "      <td>-0.610000</td>\n",
       "      <td>0.010000</td>\n",
       "    </tr>\n",
       "    <tr>\n",
       "      <th>50%</th>\n",
       "      <td>0.120000</td>\n",
       "      <td>0.250000</td>\n",
       "      <td>0.640000</td>\n",
       "      <td>1.830000</td>\n",
       "      <td>0.150000</td>\n",
       "    </tr>\n",
       "    <tr>\n",
       "      <th>75%</th>\n",
       "      <td>0.770000</td>\n",
       "      <td>1.120000</td>\n",
       "      <td>7.050000</td>\n",
       "      <td>14.970000</td>\n",
       "      <td>0.845000</td>\n",
       "    </tr>\n",
       "    <tr>\n",
       "      <th>max</th>\n",
       "      <td>62.290000</td>\n",
       "      <td>476.610000</td>\n",
       "      <td>3095.940000</td>\n",
       "      <td>3250.160000</td>\n",
       "      <td>57.180000</td>\n",
       "    </tr>\n",
       "  </tbody>\n",
       "</table>\n",
       "</div>"
      ],
      "text/plain": [
       "       bunker fuels  industrial       energy  agriculture       waste\n",
       "count    175.000000  191.000000   193.000000   193.000000  191.000000\n",
       "mean       1.664286    3.758848    22.548031    29.479896    0.837068\n",
       "std        5.954713   34.781706   239.662242   259.370847    5.387391\n",
       "min       -3.840000  -28.900000  -612.040000  -610.260000  -19.850000\n",
       "25%        0.000000    0.020000    -1.240000    -0.610000    0.010000\n",
       "50%        0.120000    0.250000     0.640000     1.830000    0.150000\n",
       "75%        0.770000    1.120000     7.050000    14.970000    0.845000\n",
       "max       62.290000  476.610000  3095.940000  3250.160000   57.180000"
      ]
     },
     "execution_count": 183,
     "metadata": {},
     "output_type": "execute_result"
    }
   ],
   "source": [
    "df_ghgchange[\"agriculture\"] = df_ghgchange[\"agriculture\"].astype(float)\n",
    "df_ghgchange[\"energy\"] = df_ghgchange[\"energy\"].astype(float)\n",
    "df_ghgchange[\"waste\"] = df_ghgchange[\"waste\"].astype(float)\n",
    "df_ghgchange[\"industrial\"] = df_ghgchange[\"industrial\"].astype(float)\n",
    "df_ghgchange[\"bunker fuels\"] = df_ghgchange[\"bunker fuels\"].astype(float)\n",
    "\n",
    "df_ghgchange[{\"agriculture\", \"energy\", \"waste\", \"industrial\", \"bunker fuels\"}].describe()"
   ]
  },
  {
   "cell_type": "markdown",
   "metadata": {},
   "source": [
    "This data mostly makes sense (aside from some negative ghg emissions, which appear to be outliers), but also does not appear to be very comparable (since some countries might have 3250 megatons of co2-equivalent emissions solely based on size, and others might have almost 0 megatons as a small nation). let's standardize on the basis of population, using a population data:"
   ]
  },
  {
   "cell_type": "code",
   "execution_count": 184,
   "metadata": {},
   "outputs": [
    {
     "data": {
      "text/html": [
       "<div>\n",
       "<style scoped>\n",
       "    .dataframe tbody tr th:only-of-type {\n",
       "        vertical-align: middle;\n",
       "    }\n",
       "\n",
       "    .dataframe tbody tr th {\n",
       "        vertical-align: top;\n",
       "    }\n",
       "\n",
       "    .dataframe thead th {\n",
       "        text-align: right;\n",
       "    }\n",
       "</style>\n",
       "<table border=\"1\" class=\"dataframe\">\n",
       "  <thead>\n",
       "    <tr style=\"text-align: right;\">\n",
       "      <th></th>\n",
       "      <th>country</th>\n",
       "      <th>agriculture</th>\n",
       "      <th>energy</th>\n",
       "      <th>waste</th>\n",
       "      <th>industrial</th>\n",
       "      <th>bunker fuels</th>\n",
       "      <th>Time</th>\n",
       "      <th>PopTotal</th>\n",
       "    </tr>\n",
       "  </thead>\n",
       "  <tbody>\n",
       "    <tr>\n",
       "      <th>0</th>\n",
       "      <td>Afghanistan</td>\n",
       "      <td>1.772263</td>\n",
       "      <td>-0.107251</td>\n",
       "      <td>-0.021030</td>\n",
       "      <td>0.014195</td>\n",
       "      <td>-0.034173</td>\n",
       "      <td>2019</td>\n",
       "      <td>38041757.0</td>\n",
       "    </tr>\n",
       "    <tr>\n",
       "      <th>1</th>\n",
       "      <td>Albania</td>\n",
       "      <td>0.753233</td>\n",
       "      <td>0.236036</td>\n",
       "      <td>0.329757</td>\n",
       "      <td>0.017356</td>\n",
       "      <td>-0.010413</td>\n",
       "      <td>2019</td>\n",
       "      <td>2880913.0</td>\n",
       "    </tr>\n",
       "    <tr>\n",
       "      <th>2</th>\n",
       "      <td>Algeria</td>\n",
       "      <td>1.357395</td>\n",
       "      <td>-0.402759</td>\n",
       "      <td>-0.009059</td>\n",
       "      <td>0.130304</td>\n",
       "      <td>0.013007</td>\n",
       "      <td>2019</td>\n",
       "      <td>43053054.0</td>\n",
       "    </tr>\n",
       "    <tr>\n",
       "      <th>3</th>\n",
       "      <td>Andorra</td>\n",
       "      <td>-0.648122</td>\n",
       "      <td>1.944365</td>\n",
       "      <td>1.036995</td>\n",
       "      <td>0.000000</td>\n",
       "      <td>0.000000</td>\n",
       "      <td>2019</td>\n",
       "      <td>77146.0</td>\n",
       "    </tr>\n",
       "    <tr>\n",
       "      <th>4</th>\n",
       "      <td>Angola</td>\n",
       "      <td>0.037706</td>\n",
       "      <td>2.020405</td>\n",
       "      <td>-0.068499</td>\n",
       "      <td>0.035506</td>\n",
       "      <td>0.049960</td>\n",
       "      <td>2019</td>\n",
       "      <td>31825299.0</td>\n",
       "    </tr>\n",
       "  </tbody>\n",
       "</table>\n",
       "</div>"
      ],
      "text/plain": [
       "       country  agriculture    energy     waste  industrial  bunker fuels  \\\n",
       "0  Afghanistan     1.772263 -0.107251 -0.021030    0.014195     -0.034173   \n",
       "1      Albania     0.753233  0.236036  0.329757    0.017356     -0.010413   \n",
       "2      Algeria     1.357395 -0.402759 -0.009059    0.130304      0.013007   \n",
       "3      Andorra    -0.648122  1.944365  1.036995    0.000000      0.000000   \n",
       "4       Angola     0.037706  2.020405 -0.068499    0.035506      0.049960   \n",
       "\n",
       "   Time    PopTotal  \n",
       "0  2019  38041757.0  \n",
       "1  2019   2880913.0  \n",
       "2  2019  43053054.0  \n",
       "3  2019     77146.0  \n",
       "4  2019  31825299.0  "
      ]
     },
     "execution_count": 184,
     "metadata": {},
     "output_type": "execute_result"
    }
   ],
   "source": [
    "pop = pd.read_csv(\"WPP2019_TotalPopulationBySex.csv\")\n",
    "\n",
    "pop = pop[pop[\"Time\"] == 2019] # ensuring it's only 2019 data\n",
    "pop = pop[{\"Location\", \"Time\", \"PopTotal\"}] # removing unnecessary columns\n",
    "pop = pop.rename(columns = {\"Location\" : \"country\"}) # renaming the column for the merge\n",
    "pop['PopTotal']=pop['PopTotal']*1000\n",
    "\n",
    "df_ghgchange = df_ghgchange.merge(pop, on = \"country\") # performing an inner join\n",
    "\n",
    "df_ghgchange.head()\n",
    "\n",
    "df_ghgchange.columns\n",
    "\n",
    "for emissions in {\"agriculture\", \"energy\", \"waste\", \"industrial\", \"bunker fuels\"}:\n",
    "    df_ghgchange[emissions] = (df_ghgchange[emissions]*1000000/ df_ghgchange[\"PopTotal\"])\n",
    "    \n",
    "df_ghgchange.head()"
   ]
  },
  {
   "cell_type": "code",
   "execution_count": 185,
   "metadata": {},
   "outputs": [
    {
     "data": {
      "text/html": [
       "<div>\n",
       "<style scoped>\n",
       "    .dataframe tbody tr th:only-of-type {\n",
       "        vertical-align: middle;\n",
       "    }\n",
       "\n",
       "    .dataframe tbody tr th {\n",
       "        vertical-align: top;\n",
       "    }\n",
       "\n",
       "    .dataframe thead th {\n",
       "        text-align: right;\n",
       "    }\n",
       "</style>\n",
       "<table border=\"1\" class=\"dataframe\">\n",
       "  <thead>\n",
       "    <tr style=\"text-align: right;\">\n",
       "      <th></th>\n",
       "      <th>Time</th>\n",
       "      <th>country</th>\n",
       "      <th>PopTotal</th>\n",
       "    </tr>\n",
       "  </thead>\n",
       "  <tbody>\n",
       "    <tr>\n",
       "      <th>69</th>\n",
       "      <td>2019</td>\n",
       "      <td>Afghanistan</td>\n",
       "      <td>3.804176e+07</td>\n",
       "    </tr>\n",
       "    <tr>\n",
       "      <th>953</th>\n",
       "      <td>2019</td>\n",
       "      <td>Africa</td>\n",
       "      <td>1.308064e+09</td>\n",
       "    </tr>\n",
       "    <tr>\n",
       "      <th>1837</th>\n",
       "      <td>2019</td>\n",
       "      <td>African Group</td>\n",
       "      <td>1.306321e+09</td>\n",
       "    </tr>\n",
       "    <tr>\n",
       "      <th>1988</th>\n",
       "      <td>2019</td>\n",
       "      <td>African Union</td>\n",
       "      <td>1.306903e+09</td>\n",
       "    </tr>\n",
       "    <tr>\n",
       "      <th>2139</th>\n",
       "      <td>2019</td>\n",
       "      <td>African Union: Central Africa</td>\n",
       "      <td>1.540137e+08</td>\n",
       "    </tr>\n",
       "  </tbody>\n",
       "</table>\n",
       "</div>"
      ],
      "text/plain": [
       "      Time                        country      PopTotal\n",
       "69    2019                    Afghanistan  3.804176e+07\n",
       "953   2019                         Africa  1.308064e+09\n",
       "1837  2019                  African Group  1.306321e+09\n",
       "1988  2019                  African Union  1.306903e+09\n",
       "2139  2019  African Union: Central Africa  1.540137e+08"
      ]
     },
     "execution_count": 185,
     "metadata": {},
     "output_type": "execute_result"
    }
   ],
   "source": [
    "pop.head()"
   ]
  },
  {
   "cell_type": "markdown",
   "metadata": {},
   "source": [
    "nice! let's now merge this data with each country's human development index, and also drop the population column now that it's unneeded:"
   ]
  },
  {
   "cell_type": "code",
   "execution_count": 186,
   "metadata": {},
   "outputs": [
    {
     "name": "stdout",
     "output_type": "stream",
     "text": [
      "     hdi      country  agriculture    energy     waste  industrial  \\\n",
      "0  0.511  Afghanistan     1.772263 -0.107251 -0.021030    0.014195   \n",
      "1  0.795      Albania     0.753233  0.236036  0.329757    0.017356   \n",
      "2  0.748      Algeria     1.357395 -0.402759 -0.009059    0.130304   \n",
      "3  0.868      Andorra    -0.648122  1.944365  1.036995    0.000000   \n",
      "4  0.581       Angola     0.037706  2.020405 -0.068499    0.035506   \n",
      "\n",
      "   bunker fuels  \n",
      "0     -0.034173  \n",
      "1     -0.010413  \n",
      "2      0.013007  \n",
      "3      0.000000  \n",
      "4      0.049960  \n"
     ]
    },
    {
     "data": {
      "text/plain": [
       "True"
      ]
     },
     "execution_count": 186,
     "metadata": {},
     "output_type": "execute_result"
    }
   ],
   "source": [
    "analysis_one = hdi.merge(df_ghgchange, on = 'country')\n",
    "\n",
    "analysis_one.drop([\"Time\", \"PopTotal\"], axis = 1, inplace = True)\n",
    "print(analysis_one.head())\n",
    "\n",
    "analysis_one.isnull().values.any()"
   ]
  },
  {
   "cell_type": "markdown",
   "metadata": {},
   "source": [
    "interestingly, this data contains nans. let's remove them!"
   ]
  },
  {
   "cell_type": "code",
   "execution_count": 187,
   "metadata": {},
   "outputs": [],
   "source": [
    "analysis_one = analysis_one.dropna()"
   ]
  },
  {
   "cell_type": "code",
   "execution_count": 188,
   "metadata": {},
   "outputs": [],
   "source": [
    "\n",
    "analysis_one = analysis_one.drop(['country'], axis = 1)\n",
    "analysis_one = analysis_one.astype(float)"
   ]
  },
  {
   "cell_type": "markdown",
   "metadata": {},
   "source": [
    "in order to describe a little more about the data, let's create a heatmap to check for correlation! this is as follows:"
   ]
  },
  {
   "cell_type": "code",
   "execution_count": 189,
   "metadata": {},
   "outputs": [
    {
     "data": {
      "image/png": "[encoded data removed]",
      "text/plain": [
       "<Figure size 432x288 with 2 Axes>"
      ]
     },
     "metadata": {
      "needs_background": "light"
     },
     "output_type": "display_data"
    }
   ],
   "source": [
    "sns.heatmap(analysis_one.corr(method = 'spearman'), center=0, cmap='coolwarm')\n",
    "plt.tight_layout()\n",
    "plt.show()"
   ]
  },
  {
   "cell_type": "markdown",
   "metadata": {},
   "source": [
    "these results might not be very significant in themselves, but we'd like to at least try to construct a model based on this data (given the wealth of what we have, and that there is a known correlation *at the least* between hdi and ghg emissions per capita). along these lines, let's try creating a multivariate linear regression to predict hdi, since hdi is a continuous float from 0-1:"
   ]
  },
  {
   "cell_type": "code",
   "execution_count": 190,
   "metadata": {},
   "outputs": [
    {
     "name": "stdout",
     "output_type": "stream",
     "text": [
      "                Agriculture  Energy      Waste      Industiral   Bunker Fuels\n",
      "coefficients = [-0.07289289  0.28846484  0.00686723 -0.00187978  0.00708508]\n",
      "r^2 = 0.06860448875673741\n"
     ]
    }
   ],
   "source": [
    "regression1 = LinearRegression().fit(analysis_one[{\"agriculture\", \"energy\", \"waste\", \"industrial\", \"bunker fuels\"}], analysis_one[\"hdi\"])\n",
    "print(\"                Agriculture  Energy      Waste      Industiral   Bunker Fuels\")\n",
    "print(\"coefficients = {}\".format(regression1.coef_))\n",
    "print(\"r^2 = {}\".format(regression1.score(analysis_one[{\"agriculture\", \"energy\", \"waste\", \"industrial\", \"bunker fuels\"}], analysis_one[\"hdi\"])))"
   ]
  },
  {
   "cell_type": "code",
   "execution_count": 191,
   "metadata": {},
   "outputs": [],
   "source": [
    "# for x in [\"agriculture\", \"energy\", \"waste\", \"industrial\", \"bunker fuels\"]:\n",
    "#     regression1 = LinearRegression().fit(analysis_one[[x]], analysis_one[\"hdi\"])\n",
    "#     print(x.capitalize() +':')\n",
    "#     print(\"coefficients = {}\".format(regression1.coef_))\n",
    "#     print(\"r^2 = {}\".format(regression1.score(analysis_one[[x]], analysis_one[\"hdi\"])))"
   ]
  },
  {
   "cell_type": "markdown",
   "metadata": {},
   "source": [
    "#### evaluation of significance\n",
    "\n",
    "already, this data doesn't seem particularly significant, but let's validate that with an evaluation of significance. for this, let's try bootstrapping our regression with n = 500 trials, to try and see how many slopes because of randomness could be more random than the one we got:"
   ]
  },
  {
   "cell_type": "code",
   "execution_count": 192,
   "metadata": {},
   "outputs": [
    {
     "name": "stdout",
     "output_type": "stream",
     "text": [
      "263 permuted slopes were of greater magnitude than the observed data.\n",
      "p-value implied: 0.52600\n"
     ]
    }
   ],
   "source": [
    "# creating the permutation method\n",
    "def permute(input_array):\n",
    "    # shuffle is inplace, so copy to preserve input\n",
    "    permuted = input_array.copy().values #convert to numpy array, avoiding warning\n",
    "    np.random.shuffle(permuted)\n",
    "    return pd.Series(permuted) # convert back to pandas\n",
    "\n",
    "count = 0\n",
    "\n",
    "for i in range(500):\n",
    "    permuted_model = LinearRegression().fit(analysis_one[{\"agriculture\", \"energy\", \"waste\", \"industrial\", \"bunker fuels\"}], permute(analysis_one[\"hdi\"]))\n",
    "    if(np.abs(permuted_model.coef_[0]) > np.abs(regression1.coef_[0])):\n",
    "        count += 1\n",
    "                                            \n",
    "print(\"{} permuted slopes were of greater magnitude than the observed data.\".format(count))\n",
    "                                            \n",
    "print(\"p-value implied: {:.5f}\".format(count / 500))"
   ]
  },
  {
   "cell_type": "markdown",
   "metadata": {},
   "source": [
    "that is... exactly what we thought? unfortunately, the implied value is much greater than most p-value cutoffs traditionally used (p = 0.1, p = 0.05, or p = 0.01); as a result, this data doesn't seem to be much better than could be done by random chance :("
   ]
  },
  {
   "cell_type": "markdown",
   "metadata": {},
   "source": [
    "#### interpretation and conclusions\n",
    "\n",
    "reflecting now (after completing the data analysis, and the evaluation of significance), it seems as if much of the prior data analysis isn't that significant. while we've found some (slightly) interesting trends, such as how ghg emissions are (somewhat) negatively correlated with hdi, we haven't found much else; the multivariate linear regression also did not return a statistically-significant slope. in this sense, i don't think that our results lined up with our initial expectations, that there would be a high correlation between hdi and certain industries' emissions; perhaps this is a quirk of our own analysis? it seems likely that climatewatch.org would be incentivized to publish such data if they proved significant connection between emissions and a countries \"developedness\": perhaps this sort of \"mangling\" of the data is how climate-change-related misinformation (and false statistics) spreads? \n",
    "\n",
    "\n",
    "#### limitations\n",
    "\n",
    "there are certainly many limitations to this data: at the very least, part of the scope of this analysis seems limited, since it's about *greenhouse gas emissions by industry* and not pointing directly at fashion itself. but, looking into the data itself, it seems like there could be limitations just based on scale (in megatons, or with population in thousands); given that some countries inevitably get rounded down (to ~ 0 emissions), it seems harder to create significant analyses. this is unsatisfying; however, we are unsure how this might otherwise be solved (since all data will come with this issue as well).\n",
    "\n",
    "#### acknowledgements\n",
    "\n",
    "we'd like to thank our ta, anna, for her constant support for this project, and for many early-rising tas showing up in rhodes to answer the questions we had! :)"
   ]
  },
  {
   "cell_type": "markdown",
   "metadata": {},
   "source": [
    "## Analysis Two"
   ]
  },
  {
   "cell_type": "markdown",
   "metadata": {},
   "source": [
    "The first step in the second analysis is loading in the CIA industry data from a csv file we made in excel. The file contains the CIA's ranking of the most important industires for each country's economy. We have chosen to look at four industires related to fashion: Cotton, Clothing, Garments, Textiles. "
   ]
  },
  {
   "cell_type": "code",
   "execution_count": 193,
   "metadata": {},
   "outputs": [
    {
     "data": {
      "text/html": [
       "<div>\n",
       "<style scoped>\n",
       "    .dataframe tbody tr th:only-of-type {\n",
       "        vertical-align: middle;\n",
       "    }\n",
       "\n",
       "    .dataframe tbody tr th {\n",
       "        vertical-align: top;\n",
       "    }\n",
       "\n",
       "    .dataframe thead th {\n",
       "        text-align: right;\n",
       "    }\n",
       "</style>\n",
       "<table border=\"1\" class=\"dataframe\">\n",
       "  <thead>\n",
       "    <tr style=\"text-align: right;\">\n",
       "      <th></th>\n",
       "      <th>country</th>\n",
       "      <th>Cotton</th>\n",
       "      <th>Clothing</th>\n",
       "      <th>Garments</th>\n",
       "      <th>Textiles</th>\n",
       "    </tr>\n",
       "  </thead>\n",
       "  <tbody>\n",
       "    <tr>\n",
       "      <th>89</th>\n",
       "      <td>Kuwait</td>\n",
       "      <td>NaN</td>\n",
       "      <td>NaN</td>\n",
       "      <td>NaN</td>\n",
       "      <td>NaN</td>\n",
       "    </tr>\n",
       "    <tr>\n",
       "      <th>7</th>\n",
       "      <td>Armenia</td>\n",
       "      <td>NaN</td>\n",
       "      <td>NaN</td>\n",
       "      <td>NaN</td>\n",
       "      <td>NaN</td>\n",
       "    </tr>\n",
       "    <tr>\n",
       "      <th>81</th>\n",
       "      <td>Israel</td>\n",
       "      <td>NaN</td>\n",
       "      <td>NaN</td>\n",
       "      <td>NaN</td>\n",
       "      <td>15.0</td>\n",
       "    </tr>\n",
       "    <tr>\n",
       "      <th>189</th>\n",
       "      <td>Vietnam</td>\n",
       "      <td>NaN</td>\n",
       "      <td>NaN</td>\n",
       "      <td>2.0</td>\n",
       "      <td>NaN</td>\n",
       "    </tr>\n",
       "    <tr>\n",
       "      <th>10</th>\n",
       "      <td>Azerbaijan</td>\n",
       "      <td>NaN</td>\n",
       "      <td>NaN</td>\n",
       "      <td>NaN</td>\n",
       "      <td>5.0</td>\n",
       "    </tr>\n",
       "    <tr>\n",
       "      <th>16</th>\n",
       "      <td>Belgium</td>\n",
       "      <td>NaN</td>\n",
       "      <td>NaN</td>\n",
       "      <td>NaN</td>\n",
       "      <td>9.0</td>\n",
       "    </tr>\n",
       "    <tr>\n",
       "      <th>177</th>\n",
       "      <td>Turkey</td>\n",
       "      <td>NaN</td>\n",
       "      <td>NaN</td>\n",
       "      <td>NaN</td>\n",
       "      <td>1.0</td>\n",
       "    </tr>\n",
       "    <tr>\n",
       "      <th>170</th>\n",
       "      <td>Tanzania</td>\n",
       "      <td>NaN</td>\n",
       "      <td>NaN</td>\n",
       "      <td>NaN</td>\n",
       "      <td>NaN</td>\n",
       "    </tr>\n",
       "    <tr>\n",
       "      <th>18</th>\n",
       "      <td>Benin</td>\n",
       "      <td>NaN</td>\n",
       "      <td>NaN</td>\n",
       "      <td>NaN</td>\n",
       "      <td>1.0</td>\n",
       "    </tr>\n",
       "    <tr>\n",
       "      <th>159</th>\n",
       "      <td>South Africa</td>\n",
       "      <td>NaN</td>\n",
       "      <td>NaN</td>\n",
       "      <td>NaN</td>\n",
       "      <td>5.0</td>\n",
       "    </tr>\n",
       "  </tbody>\n",
       "</table>\n",
       "</div>"
      ],
      "text/plain": [
       "          country  Cotton  Clothing  Garments  Textiles\n",
       "89         Kuwait     NaN       NaN       NaN       NaN\n",
       "7         Armenia     NaN       NaN       NaN       NaN\n",
       "81         Israel     NaN       NaN       NaN      15.0\n",
       "189       Vietnam     NaN       NaN       2.0       NaN\n",
       "10     Azerbaijan     NaN       NaN       NaN       5.0\n",
       "16        Belgium     NaN       NaN       NaN       9.0\n",
       "177        Turkey     NaN       NaN       NaN       1.0\n",
       "170      Tanzania     NaN       NaN       NaN       NaN\n",
       "18          Benin     NaN       NaN       NaN       1.0\n",
       "159  South Africa     NaN       NaN       NaN       5.0"
      ]
     },
     "execution_count": 193,
     "metadata": {},
     "output_type": "execute_result"
    }
   ],
   "source": [
    "industry_data=pd.read_csv('CIA_industry_data.csv')\n",
    "industry_data=industry_data.rename(columns={'Country/Region': 'country'}) #changing column names to match industry_data's\n",
    "industry_data=industry_data.drop(columns='Jute') # we orginally wanted to consider Jute, but it wasnt important to enough countires\n",
    "industry_data.sample(10)"
   ]
  },
  {
   "cell_type": "markdown",
   "metadata": {},
   "source": [
    "Now that we have a usuable dataframe of industry ranks we are going to merge it with the hdi dataframe from analysis one. Both dataframes have the column 'country' so if we merge can pair a country's hdi with its industry ranks by performing a merge on this column."
   ]
  },
  {
   "cell_type": "code",
   "execution_count": 194,
   "metadata": {},
   "outputs": [],
   "source": [
    "analysis_two=hdi.merge(industry_data, how='left', on='country')"
   ]
  },
  {
   "cell_type": "markdown",
   "metadata": {},
   "source": [
    "When attempting to perform numerical analysis on the dataframe we discovered that certain rows in the hdi column could not be converted to strings. In order to find these rows we used the below code. We found that rows 189 and 195 had the string '..' for their hdi so we removed them so that the rest of the column could be converted to floats. "
   ]
  },
  {
   "cell_type": "code",
   "execution_count": 195,
   "metadata": {},
   "outputs": [
    {
     "data": {
      "text/html": [
       "<div>\n",
       "<style scoped>\n",
       "    .dataframe tbody tr th:only-of-type {\n",
       "        vertical-align: middle;\n",
       "    }\n",
       "\n",
       "    .dataframe tbody tr th {\n",
       "        vertical-align: top;\n",
       "    }\n",
       "\n",
       "    .dataframe thead th {\n",
       "        text-align: right;\n",
       "    }\n",
       "</style>\n",
       "<table border=\"1\" class=\"dataframe\">\n",
       "  <thead>\n",
       "    <tr style=\"text-align: right;\">\n",
       "      <th></th>\n",
       "      <th>hdi</th>\n",
       "      <th>country</th>\n",
       "      <th>Cotton</th>\n",
       "      <th>Clothing</th>\n",
       "      <th>Garments</th>\n",
       "      <th>Textiles</th>\n",
       "    </tr>\n",
       "  </thead>\n",
       "  <tbody>\n",
       "    <tr>\n",
       "      <th>189</th>\n",
       "      <td>..</td>\n",
       "      <td>Human Development</td>\n",
       "      <td>NaN</td>\n",
       "      <td>NaN</td>\n",
       "      <td>NaN</td>\n",
       "      <td>NaN</td>\n",
       "    </tr>\n",
       "    <tr>\n",
       "      <th>195</th>\n",
       "      <td>..</td>\n",
       "      <td>Regions</td>\n",
       "      <td>NaN</td>\n",
       "      <td>NaN</td>\n",
       "      <td>NaN</td>\n",
       "      <td>NaN</td>\n",
       "    </tr>\n",
       "  </tbody>\n",
       "</table>\n",
       "</div>"
      ],
      "text/plain": [
       "    hdi            country  Cotton  Clothing  Garments  Textiles\n",
       "189  ..  Human Development     NaN       NaN       NaN       NaN\n",
       "195  ..            Regions     NaN       NaN       NaN       NaN"
      ]
     },
     "execution_count": 195,
     "metadata": {},
     "output_type": "execute_result"
    }
   ],
   "source": [
    "analysis_two[analysis_two.hdi.str.find('..')==0]"
   ]
  },
  {
   "cell_type": "code",
   "execution_count": 196,
   "metadata": {},
   "outputs": [],
   "source": [
    "analysis_two=analysis_two.drop([189,195])\n",
    "analysis_two.hdi=analysis_two.hdi.astype(float)"
   ]
  },
  {
   "cell_type": "markdown",
   "metadata": {},
   "source": [
    "Now we can perform numerical analysis on the analysis two dataframe. The first thing we will do is create a heatmap of correlations in the dataframe. "
   ]
  },
  {
   "cell_type": "code",
   "execution_count": 197,
   "metadata": {},
   "outputs": [
    {
     "data": {
      "image/png": "[encoded data removed]",
      "text/plain": [
       "<Figure size 432x288 with 2 Axes>"
      ]
     },
     "metadata": {
      "needs_background": "light"
     },
     "output_type": "display_data"
    }
   ],
   "source": [
    "sns.heatmap(analysis_two.corr(), cmap='coolwarm', annot=True)\n",
    "plt.tight_layout()\n",
    "plt.show()"
   ]
  },
  {
   "cell_type": "markdown",
   "metadata": {},
   "source": [
    "We want to look at the correlations between hdi and the industry ranks, so we will only consider the first row. We see postive correlations between .29 and .62 for all four variables. The industry rank data is arranged in such a way that the higher the number, the less important that industry is in a counrty's economy. These correlations are showing that fashion related industries are less important to more developed countries. This fits with our intial expectations which were that the fashion industry is more important for less developed countries."
   ]
  },
  {
   "cell_type": "markdown",
   "metadata": {},
   "source": [
    "#### Scatter Plots:\n",
    "To visualize these correaltions we will make scatter plots with linear regression lines"
   ]
  },
  {
   "cell_type": "code",
   "execution_count": 198,
   "metadata": {},
   "outputs": [
    {
     "data": {
      "text/plain": [
       "<function matplotlib.pyplot.ylabel(ylabel, fontdict=None, labelpad=None, *, loc=None, **kwargs)>"
      ]
     },
     "execution_count": 198,
     "metadata": {},
     "output_type": "execute_result"
    },
    {
     "data": {
      "image/png": "[encoded data removed]",
      "text/plain": [
       "<Figure size 432x288 with 1 Axes>"
      ]
     },
     "metadata": {
      "needs_background": "light"
     },
     "output_type": "display_data"
    }
   ],
   "source": [
    "plt.scatter(analysis_two.Textiles, analysis_two.hdi)\n",
    "plt.xlabel('Textiles')\n",
    "plt.ylabel"
   ]
  },
  {
   "cell_type": "code",
   "execution_count": 199,
   "metadata": {},
   "outputs": [
    {
     "data": {
      "text/plain": [
       "<matplotlib.collections.PathCollection at 0x7fbe7e571820>"
      ]
     },
     "execution_count": 199,
     "metadata": {},
     "output_type": "execute_result"
    },
    {
     "data": {
      "image/png": "[encoded data removed]",
      "text/plain": [
       "<Figure size 432x288 with 1 Axes>"
      ]
     },
     "metadata": {
      "needs_background": "light"
     },
     "output_type": "display_data"
    }
   ],
   "source": [
    "plt.scatter(analysis_two.Cotton, analysis_two.hdi)"
   ]
  },
  {
   "cell_type": "code",
   "execution_count": 200,
   "metadata": {},
   "outputs": [
    {
     "data": {
      "text/plain": [
       "<matplotlib.collections.PathCollection at 0x7fbe9950cf70>"
      ]
     },
     "execution_count": 200,
     "metadata": {},
     "output_type": "execute_result"
    },
    {
     "data": {
      "image/png": "[encoded data removed]",
      "text/plain": [
       "<Figure size 432x288 with 1 Axes>"
      ]
     },
     "metadata": {
      "needs_background": "light"
     },
     "output_type": "display_data"
    }
   ],
   "source": [
    "plt.scatter(analysis_two.Garments, analysis_two.hdi)"
   ]
  },
  {
   "cell_type": "code",
   "execution_count": 201,
   "metadata": {},
   "outputs": [
    {
     "data": {
      "text/plain": [
       "<matplotlib.collections.PathCollection at 0x7fbe7e57ac10>"
      ]
     },
     "execution_count": 201,
     "metadata": {},
     "output_type": "execute_result"
    },
    {
     "data": {
      "image/png": "[encoded data removed]",
      "text/plain": [
       "<Figure size 432x288 with 1 Axes>"
      ]
     },
     "metadata": {
      "needs_background": "light"
     },
     "output_type": "display_data"
    }
   ],
   "source": [
    "plt.scatter(analysis_two.Clothing, analysis_two.hdi)"
   ]
  },
  {
   "cell_type": "markdown",
   "metadata": {},
   "source": [
    "Here I'm merging the analysis_one dataframe that contains GHG emissions per sector ('countries', 'agriculture', 'energy', 'waste','industrial','bunker fuels') with the analysis_two df that contains the list of countries and their corresponding hdi and indexes regarding cotton, clothing, garments, and textiles."
   ]
  },
  {
   "cell_type": "code",
   "execution_count": 202,
   "metadata": {},
   "outputs": [
    {
     "data": {
      "text/html": [
       "<div>\n",
       "<style scoped>\n",
       "    .dataframe tbody tr th:only-of-type {\n",
       "        vertical-align: middle;\n",
       "    }\n",
       "\n",
       "    .dataframe tbody tr th {\n",
       "        vertical-align: top;\n",
       "    }\n",
       "\n",
       "    .dataframe thead th {\n",
       "        text-align: right;\n",
       "    }\n",
       "</style>\n",
       "<table border=\"1\" class=\"dataframe\">\n",
       "  <thead>\n",
       "    <tr style=\"text-align: right;\">\n",
       "      <th></th>\n",
       "      <th>country</th>\n",
       "      <th>agriculture</th>\n",
       "      <th>energy</th>\n",
       "      <th>waste</th>\n",
       "      <th>industrial</th>\n",
       "      <th>bunker fuels</th>\n",
       "      <th>Time</th>\n",
       "      <th>PopTotal</th>\n",
       "      <th>hdi</th>\n",
       "      <th>Cotton</th>\n",
       "      <th>Clothing</th>\n",
       "      <th>Garments</th>\n",
       "      <th>Textiles</th>\n",
       "    </tr>\n",
       "  </thead>\n",
       "  <tbody>\n",
       "    <tr>\n",
       "      <th>0</th>\n",
       "      <td>Afghanistan</td>\n",
       "      <td>1.772263</td>\n",
       "      <td>-0.107251</td>\n",
       "      <td>-0.021030</td>\n",
       "      <td>0.014195</td>\n",
       "      <td>-0.034173</td>\n",
       "      <td>2019</td>\n",
       "      <td>38041757.0</td>\n",
       "      <td>0.511</td>\n",
       "      <td>NaN</td>\n",
       "      <td>NaN</td>\n",
       "      <td>NaN</td>\n",
       "      <td>2.0</td>\n",
       "    </tr>\n",
       "    <tr>\n",
       "      <th>1</th>\n",
       "      <td>Albania</td>\n",
       "      <td>0.753233</td>\n",
       "      <td>0.236036</td>\n",
       "      <td>0.329757</td>\n",
       "      <td>0.017356</td>\n",
       "      <td>-0.010413</td>\n",
       "      <td>2019</td>\n",
       "      <td>2880913.0</td>\n",
       "      <td>0.795</td>\n",
       "      <td>NaN</td>\n",
       "      <td>2.0</td>\n",
       "      <td>NaN</td>\n",
       "      <td>NaN</td>\n",
       "    </tr>\n",
       "    <tr>\n",
       "      <th>2</th>\n",
       "      <td>Algeria</td>\n",
       "      <td>1.357395</td>\n",
       "      <td>-0.402759</td>\n",
       "      <td>-0.009059</td>\n",
       "      <td>0.130304</td>\n",
       "      <td>0.013007</td>\n",
       "      <td>2019</td>\n",
       "      <td>43053054.0</td>\n",
       "      <td>0.748</td>\n",
       "      <td>NaN</td>\n",
       "      <td>NaN</td>\n",
       "      <td>NaN</td>\n",
       "      <td>NaN</td>\n",
       "    </tr>\n",
       "    <tr>\n",
       "      <th>3</th>\n",
       "      <td>Andorra</td>\n",
       "      <td>-0.648122</td>\n",
       "      <td>1.944365</td>\n",
       "      <td>1.036995</td>\n",
       "      <td>0.000000</td>\n",
       "      <td>0.000000</td>\n",
       "      <td>2019</td>\n",
       "      <td>77146.0</td>\n",
       "      <td>0.868</td>\n",
       "      <td>NaN</td>\n",
       "      <td>NaN</td>\n",
       "      <td>NaN</td>\n",
       "      <td>NaN</td>\n",
       "    </tr>\n",
       "    <tr>\n",
       "      <th>4</th>\n",
       "      <td>Angola</td>\n",
       "      <td>0.037706</td>\n",
       "      <td>2.020405</td>\n",
       "      <td>-0.068499</td>\n",
       "      <td>0.035506</td>\n",
       "      <td>0.049960</td>\n",
       "      <td>2019</td>\n",
       "      <td>31825299.0</td>\n",
       "      <td>0.581</td>\n",
       "      <td>NaN</td>\n",
       "      <td>NaN</td>\n",
       "      <td>NaN</td>\n",
       "      <td>5.0</td>\n",
       "    </tr>\n",
       "    <tr>\n",
       "      <th>...</th>\n",
       "      <td>...</td>\n",
       "      <td>...</td>\n",
       "      <td>...</td>\n",
       "      <td>...</td>\n",
       "      <td>...</td>\n",
       "      <td>...</td>\n",
       "      <td>...</td>\n",
       "      <td>...</td>\n",
       "      <td>...</td>\n",
       "      <td>...</td>\n",
       "      <td>...</td>\n",
       "      <td>...</td>\n",
       "      <td>...</td>\n",
       "    </tr>\n",
       "    <tr>\n",
       "      <th>171</th>\n",
       "      <td>Uzbekistan</td>\n",
       "      <td>-0.468138</td>\n",
       "      <td>-0.446914</td>\n",
       "      <td>0.030320</td>\n",
       "      <td>0.088534</td>\n",
       "      <td>0.058517</td>\n",
       "      <td>2019</td>\n",
       "      <td>32981715.0</td>\n",
       "      <td>0.720</td>\n",
       "      <td>NaN</td>\n",
       "      <td>NaN</td>\n",
       "      <td>NaN</td>\n",
       "      <td>1.0</td>\n",
       "    </tr>\n",
       "    <tr>\n",
       "      <th>172</th>\n",
       "      <td>Vanuatu</td>\n",
       "      <td>0.466850</td>\n",
       "      <td>-0.266772</td>\n",
       "      <td>-1.200472</td>\n",
       "      <td>0.066693</td>\n",
       "      <td>0.033346</td>\n",
       "      <td>2019</td>\n",
       "      <td>299882.0</td>\n",
       "      <td>0.609</td>\n",
       "      <td>NaN</td>\n",
       "      <td>NaN</td>\n",
       "      <td>NaN</td>\n",
       "      <td>NaN</td>\n",
       "    </tr>\n",
       "    <tr>\n",
       "      <th>173</th>\n",
       "      <td>Yemen</td>\n",
       "      <td>-0.387492</td>\n",
       "      <td>0.147453</td>\n",
       "      <td>0.011659</td>\n",
       "      <td>0.007544</td>\n",
       "      <td>-0.001029</td>\n",
       "      <td>2019</td>\n",
       "      <td>29161922.0</td>\n",
       "      <td>0.470</td>\n",
       "      <td>2.0</td>\n",
       "      <td>NaN</td>\n",
       "      <td>NaN</td>\n",
       "      <td>2.0</td>\n",
       "    </tr>\n",
       "    <tr>\n",
       "      <th>174</th>\n",
       "      <td>Zambia</td>\n",
       "      <td>1.549182</td>\n",
       "      <td>-0.320250</td>\n",
       "      <td>0.029114</td>\n",
       "      <td>0.049829</td>\n",
       "      <td>0.035272</td>\n",
       "      <td>2019</td>\n",
       "      <td>17861034.0</td>\n",
       "      <td>0.584</td>\n",
       "      <td>NaN</td>\n",
       "      <td>NaN</td>\n",
       "      <td>NaN</td>\n",
       "      <td>7.0</td>\n",
       "    </tr>\n",
       "    <tr>\n",
       "      <th>175</th>\n",
       "      <td>Zimbabwe</td>\n",
       "      <td>5.695958</td>\n",
       "      <td>0.299751</td>\n",
       "      <td>0.053259</td>\n",
       "      <td>0.163190</td>\n",
       "      <td>0.072377</td>\n",
       "      <td>2019</td>\n",
       "      <td>14645473.0</td>\n",
       "      <td>0.571</td>\n",
       "      <td>NaN</td>\n",
       "      <td>7.0</td>\n",
       "      <td>NaN</td>\n",
       "      <td>NaN</td>\n",
       "    </tr>\n",
       "  </tbody>\n",
       "</table>\n",
       "<p>176 rows × 13 columns</p>\n",
       "</div>"
      ],
      "text/plain": [
       "         country  agriculture    energy     waste  industrial  bunker fuels  \\\n",
       "0    Afghanistan     1.772263 -0.107251 -0.021030    0.014195     -0.034173   \n",
       "1        Albania     0.753233  0.236036  0.329757    0.017356     -0.010413   \n",
       "2        Algeria     1.357395 -0.402759 -0.009059    0.130304      0.013007   \n",
       "3        Andorra    -0.648122  1.944365  1.036995    0.000000      0.000000   \n",
       "4         Angola     0.037706  2.020405 -0.068499    0.035506      0.049960   \n",
       "..           ...          ...       ...       ...         ...           ...   \n",
       "171   Uzbekistan    -0.468138 -0.446914  0.030320    0.088534      0.058517   \n",
       "172      Vanuatu     0.466850 -0.266772 -1.200472    0.066693      0.033346   \n",
       "173        Yemen    -0.387492  0.147453  0.011659    0.007544     -0.001029   \n",
       "174       Zambia     1.549182 -0.320250  0.029114    0.049829      0.035272   \n",
       "175     Zimbabwe     5.695958  0.299751  0.053259    0.163190      0.072377   \n",
       "\n",
       "     Time    PopTotal    hdi  Cotton  Clothing  Garments  Textiles  \n",
       "0    2019  38041757.0  0.511     NaN       NaN       NaN       2.0  \n",
       "1    2019   2880913.0  0.795     NaN       2.0       NaN       NaN  \n",
       "2    2019  43053054.0  0.748     NaN       NaN       NaN       NaN  \n",
       "3    2019     77146.0  0.868     NaN       NaN       NaN       NaN  \n",
       "4    2019  31825299.0  0.581     NaN       NaN       NaN       5.0  \n",
       "..    ...         ...    ...     ...       ...       ...       ...  \n",
       "171  2019  32981715.0  0.720     NaN       NaN       NaN       1.0  \n",
       "172  2019    299882.0  0.609     NaN       NaN       NaN       NaN  \n",
       "173  2019  29161922.0  0.470     2.0       NaN       NaN       2.0  \n",
       "174  2019  17861034.0  0.584     NaN       NaN       NaN       7.0  \n",
       "175  2019  14645473.0  0.571     NaN       7.0       NaN       NaN  \n",
       "\n",
       "[176 rows x 13 columns]"
      ]
     },
     "execution_count": 202,
     "metadata": {},
     "output_type": "execute_result"
    }
   ],
   "source": [
    "analysis_two_all = df_ghgchange.merge(analysis_two, how='left', on='country')\n",
    "analysis_two_all"
   ]
  },
  {
   "cell_type": "markdown",
   "metadata": {},
   "source": [
    "### Task List\n",
    "- 1) Create a scatterplot for each sector compared against the GHG emissions. - Completed.\n",
    "- 2) Cluster the data.\n",
    "- 3) Make histogram of each cluster of HDI (assuming the clusters relate to HDI.\n",
    "- 4) determine if there is a correlation between each cluster and a country's stage of developement."
   ]
  },
  {
   "cell_type": "markdown",
   "metadata": {},
   "source": [
    "These are scatterplots representing the different emission sectors in comparison to the Textile production index of each country (all data is taken from the analysis_two_all dataframe)"
   ]
  },
  {
   "cell_type": "code",
   "execution_count": 203,
   "metadata": {},
   "outputs": [
    {
     "data": {
      "image/png": "[encoded data removed]",
      "text/plain": [
       "<Figure size 432x288 with 1 Axes>"
      ]
     },
     "metadata": {
      "needs_background": "light"
     },
     "output_type": "display_data"
    },
    {
     "data": {
      "image/png": "[encoded data removed]",
      "text/plain": [
       "<Figure size 432x288 with 1 Axes>"
      ]
     },
     "metadata": {
      "needs_background": "light"
     },
     "output_type": "display_data"
    },
    {
     "data": {
      "image/png": "[encoded data removed]",
      "text/plain": [
       "<Figure size 432x288 with 1 Axes>"
      ]
     },
     "metadata": {
      "needs_background": "light"
     },
     "output_type": "display_data"
    },
    {
     "data": {
      "image/png": "[encoded data removed]",
      "text/plain": [
       "<Figure size 432x288 with 1 Axes>"
      ]
     },
     "metadata": {
      "needs_background": "light"
     },
     "output_type": "display_data"
    },
    {
     "data": {
      "image/png": "[encoded data removed]",
      "text/plain": [
       "<Figure size 432x288 with 1 Axes>"
      ]
     },
     "metadata": {
      "needs_background": "light"
     },
     "output_type": "display_data"
    }
   ],
   "source": [
    "list = ['agriculture','energy','waste','industrial','bunker fuels']\n",
    "i = 0\n",
    "for i in list:\n",
    "    first_scatter = sns.scatterplot(x=analysis_two_all[i], y=analysis_two_all['Textiles'])\n",
    "    first_scatter.set_xlabel(i + ' emissions')\n",
    "    first_scatter.set_ylabel('Textiles Index')\n",
    "    plt.show()"
   ]
  },
  {
   "cell_type": "markdown",
   "metadata": {},
   "source": [
    "These are scatterplots representing the different emission sectors in comparison to the Cotton production index of each country. "
   ]
  },
  {
   "cell_type": "code",
   "execution_count": 204,
   "metadata": {},
   "outputs": [
    {
     "data": {
      "image/png": "[encoded data removed]",
      "text/plain": [
       "<Figure size 432x288 with 1 Axes>"
      ]
     },
     "metadata": {
      "needs_background": "light"
     },
     "output_type": "display_data"
    },
    {
     "data": {
      "image/png": "[encoded data removed]",
      "text/plain": [
       "<Figure size 432x288 with 1 Axes>"
      ]
     },
     "metadata": {
      "needs_background": "light"
     },
     "output_type": "display_data"
    },
    {
     "data": {
      "image/png": "[encoded data removed]",
      "text/plain": [
       "<Figure size 432x288 with 1 Axes>"
      ]
     },
     "metadata": {
      "needs_background": "light"
     },
     "output_type": "display_data"
    },
    {
     "data": {
      "image/png": "[encoded data removed]",
      "text/plain": [
       "<Figure size 432x288 with 1 Axes>"
      ]
     },
     "metadata": {
      "needs_background": "light"
     },
     "output_type": "display_data"
    },
    {
     "data": {
      "image/png": "[encoded data removed]",
      "text/plain": [
       "<Figure size 432x288 with 1 Axes>"
      ]
     },
     "metadata": {
      "needs_background": "light"
     },
     "output_type": "display_data"
    }
   ],
   "source": [
    "for i in list:\n",
    "    first_scatter = sns.scatterplot(x=analysis_two_all[i], y=analysis_two_all['Cotton'])\n",
    "    first_scatter.set_xlabel(i + ' emissions')\n",
    "    first_scatter.set_ylabel('Cotton Index')\n",
    "    plt.show()"
   ]
  },
  {
   "cell_type": "markdown",
   "metadata": {},
   "source": [
    "These are scatterplots representing the different emission sectors in comparison to the Clothing production index of each country. "
   ]
  },
  {
   "cell_type": "code",
   "execution_count": 205,
   "metadata": {},
   "outputs": [
    {
     "data": {
      "image/png": "[encoded data removed]",
      "text/plain": [
       "<Figure size 432x288 with 1 Axes>"
      ]
     },
     "metadata": {
      "needs_background": "light"
     },
     "output_type": "display_data"
    },
    {
     "data": {
      "image/png": "[encoded data removed]",
      "text/plain": [
       "<Figure size 432x288 with 1 Axes>"
      ]
     },
     "metadata": {
      "needs_background": "light"
     },
     "output_type": "display_data"
    },
    {
     "data": {
      "image/png": "[encoded data removed]",
      "text/plain": [
       "<Figure size 432x288 with 1 Axes>"
      ]
     },
     "metadata": {
      "needs_background": "light"
     },
     "output_type": "display_data"
    },
    {
     "data": {
      "image/png": "[encoded data removed]",
      "text/plain": [
       "<Figure size 432x288 with 1 Axes>"
      ]
     },
     "metadata": {
      "needs_background": "light"
     },
     "output_type": "display_data"
    },
    {
     "data": {
      "image/png": "[encoded data removed]",
      "text/plain": [
       "<Figure size 432x288 with 1 Axes>"
      ]
     },
     "metadata": {
      "needs_background": "light"
     },
     "output_type": "display_data"
    }
   ],
   "source": [
    "for i in list:\n",
    "    first_scatter = sns.scatterplot(x=analysis_two_all[i], y=analysis_two_all['Clothing'])\n",
    "    first_scatter.set_xlabel(i + ' emissions')\n",
    "    first_scatter.set_ylabel('Clothing Index')\n",
    "    plt.show()"
   ]
  },
  {
   "cell_type": "markdown",
   "metadata": {},
   "source": [
    "These are scatterplots representing the different emission sectors in comparison to the Garment production index of each country. "
   ]
  },
  {
   "cell_type": "code",
   "execution_count": 206,
   "metadata": {},
   "outputs": [
    {
     "data": {
      "image/png": "[encoded data removed]",
      "text/plain": [
       "<Figure size 432x288 with 1 Axes>"
      ]
     },
     "metadata": {
      "needs_background": "light"
     },
     "output_type": "display_data"
    },
    {
     "data": {
      "image/png": "[encoded data removed]",
      "text/plain": [
       "<Figure size 432x288 with 1 Axes>"
      ]
     },
     "metadata": {
      "needs_background": "light"
     },
     "output_type": "display_data"
    },
    {
     "data": {
      "image/png": "[encoded data removed]",
      "text/plain": [
       "<Figure size 432x288 with 1 Axes>"
      ]
     },
     "metadata": {
      "needs_background": "light"
     },
     "output_type": "display_data"
    },
    {
     "data": {
      "image/png": "[encoded data removed]",
      "text/plain": [
       "<Figure size 432x288 with 1 Axes>"
      ]
     },
     "metadata": {
      "needs_background": "light"
     },
     "output_type": "display_data"
    },
    {
     "data": {
      "image/png": "[encoded data removed]",
      "text/plain": [
       "<Figure size 432x288 with 1 Axes>"
      ]
     },
     "metadata": {
      "needs_background": "light"
     },
     "output_type": "display_data"
    }
   ],
   "source": [
    "for i in list:\n",
    "    first_scatter = sns.scatterplot(x=analysis_two_all[i], y=analysis_two_all['Garments'])\n",
    "    first_scatter.set_xlabel(i + ' emissions')\n",
    "    first_scatter.set_ylabel('Garments Index')\n",
    "    plt.show()"
   ]
  },
  {
   "cell_type": "markdown",
   "metadata": {},
   "source": [
    "In this cell, we are replacing all empty values with 0 so that we are able to run correlation tests with more data and so we can complete a KMeans clustering. "
   ]
  },
  {
   "cell_type": "code",
   "execution_count": 207,
   "metadata": {},
   "outputs": [
    {
     "data": {
      "text/html": [
       "<div>\n",
       "<style scoped>\n",
       "    .dataframe tbody tr th:only-of-type {\n",
       "        vertical-align: middle;\n",
       "    }\n",
       "\n",
       "    .dataframe tbody tr th {\n",
       "        vertical-align: top;\n",
       "    }\n",
       "\n",
       "    .dataframe thead th {\n",
       "        text-align: right;\n",
       "    }\n",
       "</style>\n",
       "<table border=\"1\" class=\"dataframe\">\n",
       "  <thead>\n",
       "    <tr style=\"text-align: right;\">\n",
       "      <th></th>\n",
       "      <th>Cotton</th>\n",
       "      <th>Clothing</th>\n",
       "      <th>Garments</th>\n",
       "      <th>Textiles</th>\n",
       "    </tr>\n",
       "  </thead>\n",
       "  <tbody>\n",
       "    <tr>\n",
       "      <th>0</th>\n",
       "      <td>0.0</td>\n",
       "      <td>0.0</td>\n",
       "      <td>0.0</td>\n",
       "      <td>2.0</td>\n",
       "    </tr>\n",
       "    <tr>\n",
       "      <th>1</th>\n",
       "      <td>0.0</td>\n",
       "      <td>2.0</td>\n",
       "      <td>0.0</td>\n",
       "      <td>0.0</td>\n",
       "    </tr>\n",
       "    <tr>\n",
       "      <th>2</th>\n",
       "      <td>0.0</td>\n",
       "      <td>0.0</td>\n",
       "      <td>0.0</td>\n",
       "      <td>0.0</td>\n",
       "    </tr>\n",
       "    <tr>\n",
       "      <th>3</th>\n",
       "      <td>0.0</td>\n",
       "      <td>0.0</td>\n",
       "      <td>0.0</td>\n",
       "      <td>0.0</td>\n",
       "    </tr>\n",
       "    <tr>\n",
       "      <th>4</th>\n",
       "      <td>0.0</td>\n",
       "      <td>0.0</td>\n",
       "      <td>0.0</td>\n",
       "      <td>5.0</td>\n",
       "    </tr>\n",
       "    <tr>\n",
       "      <th>...</th>\n",
       "      <td>...</td>\n",
       "      <td>...</td>\n",
       "      <td>...</td>\n",
       "      <td>...</td>\n",
       "    </tr>\n",
       "    <tr>\n",
       "      <th>171</th>\n",
       "      <td>0.0</td>\n",
       "      <td>0.0</td>\n",
       "      <td>0.0</td>\n",
       "      <td>1.0</td>\n",
       "    </tr>\n",
       "    <tr>\n",
       "      <th>172</th>\n",
       "      <td>0.0</td>\n",
       "      <td>0.0</td>\n",
       "      <td>0.0</td>\n",
       "      <td>0.0</td>\n",
       "    </tr>\n",
       "    <tr>\n",
       "      <th>173</th>\n",
       "      <td>2.0</td>\n",
       "      <td>0.0</td>\n",
       "      <td>0.0</td>\n",
       "      <td>2.0</td>\n",
       "    </tr>\n",
       "    <tr>\n",
       "      <th>174</th>\n",
       "      <td>0.0</td>\n",
       "      <td>0.0</td>\n",
       "      <td>0.0</td>\n",
       "      <td>7.0</td>\n",
       "    </tr>\n",
       "    <tr>\n",
       "      <th>175</th>\n",
       "      <td>0.0</td>\n",
       "      <td>7.0</td>\n",
       "      <td>0.0</td>\n",
       "      <td>0.0</td>\n",
       "    </tr>\n",
       "  </tbody>\n",
       "</table>\n",
       "<p>176 rows × 4 columns</p>\n",
       "</div>"
      ],
      "text/plain": [
       "     Cotton  Clothing  Garments  Textiles\n",
       "0       0.0       0.0       0.0       2.0\n",
       "1       0.0       2.0       0.0       0.0\n",
       "2       0.0       0.0       0.0       0.0\n",
       "3       0.0       0.0       0.0       0.0\n",
       "4       0.0       0.0       0.0       5.0\n",
       "..      ...       ...       ...       ...\n",
       "171     0.0       0.0       0.0       1.0\n",
       "172     0.0       0.0       0.0       0.0\n",
       "173     2.0       0.0       0.0       2.0\n",
       "174     0.0       0.0       0.0       7.0\n",
       "175     0.0       7.0       0.0       0.0\n",
       "\n",
       "[176 rows x 4 columns]"
      ]
     },
     "execution_count": 207,
     "metadata": {},
     "output_type": "execute_result"
    }
   ],
   "source": [
    "analysis_two_all_temp = analysis_two_all[['Cotton','Clothing','Garments','Textiles']].fillna(0)\n",
    "analysis_two_all_temp"
   ]
  },
  {
   "cell_type": "code",
   "execution_count": 208,
   "metadata": {},
   "outputs": [
    {
     "data": {
      "text/html": [
       "<div>\n",
       "<style scoped>\n",
       "    .dataframe tbody tr th:only-of-type {\n",
       "        vertical-align: middle;\n",
       "    }\n",
       "\n",
       "    .dataframe tbody tr th {\n",
       "        vertical-align: top;\n",
       "    }\n",
       "\n",
       "    .dataframe thead th {\n",
       "        text-align: right;\n",
       "    }\n",
       "</style>\n",
       "<table border=\"1\" class=\"dataframe\">\n",
       "  <thead>\n",
       "    <tr style=\"text-align: right;\">\n",
       "      <th></th>\n",
       "      <th>Cotton</th>\n",
       "      <th>Clothing</th>\n",
       "      <th>Garments</th>\n",
       "      <th>Textiles</th>\n",
       "    </tr>\n",
       "  </thead>\n",
       "  <tbody>\n",
       "    <tr>\n",
       "      <th>Cotton</th>\n",
       "      <td>1.000000</td>\n",
       "      <td>-0.028088</td>\n",
       "      <td>0.025150</td>\n",
       "      <td>0.144092</td>\n",
       "    </tr>\n",
       "    <tr>\n",
       "      <th>Clothing</th>\n",
       "      <td>-0.028088</td>\n",
       "      <td>1.000000</td>\n",
       "      <td>-0.049113</td>\n",
       "      <td>0.228152</td>\n",
       "    </tr>\n",
       "    <tr>\n",
       "      <th>Garments</th>\n",
       "      <td>0.025150</td>\n",
       "      <td>-0.049113</td>\n",
       "      <td>1.000000</td>\n",
       "      <td>0.023861</td>\n",
       "    </tr>\n",
       "    <tr>\n",
       "      <th>Textiles</th>\n",
       "      <td>0.144092</td>\n",
       "      <td>0.228152</td>\n",
       "      <td>0.023861</td>\n",
       "      <td>1.000000</td>\n",
       "    </tr>\n",
       "  </tbody>\n",
       "</table>\n",
       "</div>"
      ],
      "text/plain": [
       "            Cotton  Clothing  Garments  Textiles\n",
       "Cotton    1.000000 -0.028088  0.025150  0.144092\n",
       "Clothing -0.028088  1.000000 -0.049113  0.228152\n",
       "Garments  0.025150 -0.049113  1.000000  0.023861\n",
       "Textiles  0.144092  0.228152  0.023861  1.000000"
      ]
     },
     "execution_count": 208,
     "metadata": {},
     "output_type": "execute_result"
    }
   ],
   "source": [
    "analysis_two_all_temp.corr(method='pearson')"
   ]
  },
  {
   "cell_type": "code",
   "execution_count": 209,
   "metadata": {},
   "outputs": [
    {
     "data": {
      "image/png": "[encoded data removed]",
      "text/plain": [
       "<Figure size 432x288 with 1 Axes>"
      ]
     },
     "metadata": {
      "needs_background": "light"
     },
     "output_type": "display_data"
    },
    {
     "data": {
      "image/png": "[encoded data removed]",
      "text/plain": [
       "<Figure size 432x288 with 1 Axes>"
      ]
     },
     "metadata": {
      "needs_background": "light"
     },
     "output_type": "display_data"
    },
    {
     "data": {
      "image/png": "[encoded data removed]",
      "text/plain": [
       "<Figure size 432x288 with 1 Axes>"
      ]
     },
     "metadata": {
      "needs_background": "light"
     },
     "output_type": "display_data"
    },
    {
     "data": {
      "image/png": "[encoded data removed]",
      "text/plain": [
       "<Figure size 432x288 with 1 Axes>"
      ]
     },
     "metadata": {
      "needs_background": "light"
     },
     "output_type": "display_data"
    },
    {
     "data": {
      "image/png": "[encoded data removed]",
      "text/plain": [
       "<Figure size 432x288 with 1 Axes>"
      ]
     },
     "metadata": {
      "needs_background": "light"
     },
     "output_type": "display_data"
    }
   ],
   "source": [
    "for c in list:\n",
    "  sns.regplot(x = c, y ='Textiles', data = analysis_two_all, scatter_kws ={'alpha': 0.5}) \n",
    "  plt.show()"
   ]
  },
  {
   "cell_type": "code",
   "execution_count": 210,
   "metadata": {},
   "outputs": [
    {
     "data": {
      "image/png": "[encoded data removed]",
      "text/plain": [
       "<Figure size 432x288 with 1 Axes>"
      ]
     },
     "metadata": {
      "needs_background": "light"
     },
     "output_type": "display_data"
    },
    {
     "data": {
      "image/png": "[encoded data removed]",
      "text/plain": [
       "<Figure size 432x288 with 1 Axes>"
      ]
     },
     "metadata": {
      "needs_background": "light"
     },
     "output_type": "display_data"
    },
    {
     "data": {
      "image/png": "[encoded data removed]",
      "text/plain": [
       "<Figure size 432x288 with 1 Axes>"
      ]
     },
     "metadata": {
      "needs_background": "light"
     },
     "output_type": "display_data"
    },
    {
     "data": {
      "image/png": "[encoded data removed]",
      "text/plain": [
       "<Figure size 432x288 with 1 Axes>"
      ]
     },
     "metadata": {
      "needs_background": "light"
     },
     "output_type": "display_data"
    },
    {
     "data": {
      "image/png": "[encoded data removed]",
      "text/plain": [
       "<Figure size 432x288 with 1 Axes>"
      ]
     },
     "metadata": {
      "needs_background": "light"
     },
     "output_type": "display_data"
    }
   ],
   "source": [
    "for c in list:\n",
    "  sns.regplot(x = c, y ='Garments', data = analysis_two_all, scatter_kws ={'alpha': 0.5}) \n",
    "  plt.show()"
   ]
  },
  {
   "cell_type": "code",
   "execution_count": 211,
   "metadata": {},
   "outputs": [
    {
     "data": {
      "image/png": "[encoded data removed]",
      "text/plain": [
       "<Figure size 432x288 with 1 Axes>"
      ]
     },
     "metadata": {
      "needs_background": "light"
     },
     "output_type": "display_data"
    },
    {
     "data": {
      "image/png": "[encoded data removed]",
      "text/plain": [
       "<Figure size 432x288 with 1 Axes>"
      ]
     },
     "metadata": {
      "needs_background": "light"
     },
     "output_type": "display_data"
    },
    {
     "data": {
      "image/png": "[encoded data removed]",
      "text/plain": [
       "<Figure size 432x288 with 1 Axes>"
      ]
     },
     "metadata": {
      "needs_background": "light"
     },
     "output_type": "display_data"
    },
    {
     "data": {
      "image/png": "[encoded data removed]",
      "text/plain": [
       "<Figure size 432x288 with 1 Axes>"
      ]
     },
     "metadata": {
      "needs_background": "light"
     },
     "output_type": "display_data"
    },
    {
     "data": {
      "image/png": "[encoded data removed]",
      "text/plain": [
       "<Figure size 432x288 with 1 Axes>"
      ]
     },
     "metadata": {
      "needs_background": "light"
     },
     "output_type": "display_data"
    }
   ],
   "source": [
    "for c in list:\n",
    "  sns.regplot(x = c, y ='Cotton', data = analysis_two_all, scatter_kws ={'alpha': 0.5}) \n",
    "  plt.show()"
   ]
  },
  {
   "cell_type": "code",
   "execution_count": 212,
   "metadata": {},
   "outputs": [
    {
     "data": {
      "image/png": "[encoded data removed]",
      "text/plain": [
       "<Figure size 432x288 with 1 Axes>"
      ]
     },
     "metadata": {
      "needs_background": "light"
     },
     "output_type": "display_data"
    },
    {
     "data": {
      "image/png": "[encoded data removed]",
      "text/plain": [
       "<Figure size 432x288 with 1 Axes>"
      ]
     },
     "metadata": {
      "needs_background": "light"
     },
     "output_type": "display_data"
    },
    {
     "data": {
      "image/png": "[encoded data removed]",
      "text/plain": [
       "<Figure size 432x288 with 1 Axes>"
      ]
     },
     "metadata": {
      "needs_background": "light"
     },
     "output_type": "display_data"
    },
    {
     "data": {
      "image/png": "[encoded data removed]",
      "text/plain": [
       "<Figure size 432x288 with 1 Axes>"
      ]
     },
     "metadata": {
      "needs_background": "light"
     },
     "output_type": "display_data"
    },
    {
     "data": {
      "image/png": "[encoded data removed]",
      "text/plain": [
       "<Figure size 432x288 with 1 Axes>"
      ]
     },
     "metadata": {
      "needs_background": "light"
     },
     "output_type": "display_data"
    }
   ],
   "source": [
    "for c in list:\n",
    "  sns.regplot(x = c, y ='Clothing', data = analysis_two_all, scatter_kws ={'alpha': 0.5}) \n",
    "  plt.show()"
   ]
  },
  {
   "cell_type": "markdown",
   "metadata": {},
   "source": [
    "In this cell, we are clustering the data. "
   ]
  },
  {
   "cell_type": "code",
   "execution_count": 213,
   "metadata": {},
   "outputs": [
    {
     "name": "stdout",
     "output_type": "stream",
     "text": [
      "[0 0 0 0 3]\n"
     ]
    },
    {
     "data": {
      "text/html": [
       "<div>\n",
       "<style scoped>\n",
       "    .dataframe tbody tr th:only-of-type {\n",
       "        vertical-align: middle;\n",
       "    }\n",
       "\n",
       "    .dataframe tbody tr th {\n",
       "        vertical-align: top;\n",
       "    }\n",
       "\n",
       "    .dataframe thead th {\n",
       "        text-align: right;\n",
       "    }\n",
       "</style>\n",
       "<table border=\"1\" class=\"dataframe\">\n",
       "  <thead>\n",
       "    <tr style=\"text-align: right;\">\n",
       "      <th></th>\n",
       "      <th>country</th>\n",
       "      <th>agriculture</th>\n",
       "      <th>energy</th>\n",
       "      <th>waste</th>\n",
       "      <th>industrial</th>\n",
       "      <th>bunker fuels</th>\n",
       "      <th>Time</th>\n",
       "      <th>PopTotal</th>\n",
       "      <th>hdi</th>\n",
       "      <th>Cotton</th>\n",
       "      <th>Clothing</th>\n",
       "      <th>Garments</th>\n",
       "      <th>Textiles</th>\n",
       "      <th>cluster_label</th>\n",
       "    </tr>\n",
       "  </thead>\n",
       "  <tbody>\n",
       "    <tr>\n",
       "      <th>0</th>\n",
       "      <td>Afghanistan</td>\n",
       "      <td>1.772263</td>\n",
       "      <td>-0.107251</td>\n",
       "      <td>-0.021030</td>\n",
       "      <td>0.014195</td>\n",
       "      <td>-0.034173</td>\n",
       "      <td>2019</td>\n",
       "      <td>38041757.0</td>\n",
       "      <td>0.511</td>\n",
       "      <td>NaN</td>\n",
       "      <td>NaN</td>\n",
       "      <td>NaN</td>\n",
       "      <td>2.0</td>\n",
       "      <td>0</td>\n",
       "    </tr>\n",
       "    <tr>\n",
       "      <th>1</th>\n",
       "      <td>Albania</td>\n",
       "      <td>0.753233</td>\n",
       "      <td>0.236036</td>\n",
       "      <td>0.329757</td>\n",
       "      <td>0.017356</td>\n",
       "      <td>-0.010413</td>\n",
       "      <td>2019</td>\n",
       "      <td>2880913.0</td>\n",
       "      <td>0.795</td>\n",
       "      <td>NaN</td>\n",
       "      <td>2.0</td>\n",
       "      <td>NaN</td>\n",
       "      <td>NaN</td>\n",
       "      <td>0</td>\n",
       "    </tr>\n",
       "    <tr>\n",
       "      <th>2</th>\n",
       "      <td>Algeria</td>\n",
       "      <td>1.357395</td>\n",
       "      <td>-0.402759</td>\n",
       "      <td>-0.009059</td>\n",
       "      <td>0.130304</td>\n",
       "      <td>0.013007</td>\n",
       "      <td>2019</td>\n",
       "      <td>43053054.0</td>\n",
       "      <td>0.748</td>\n",
       "      <td>NaN</td>\n",
       "      <td>NaN</td>\n",
       "      <td>NaN</td>\n",
       "      <td>NaN</td>\n",
       "      <td>0</td>\n",
       "    </tr>\n",
       "    <tr>\n",
       "      <th>3</th>\n",
       "      <td>Andorra</td>\n",
       "      <td>-0.648122</td>\n",
       "      <td>1.944365</td>\n",
       "      <td>1.036995</td>\n",
       "      <td>0.000000</td>\n",
       "      <td>0.000000</td>\n",
       "      <td>2019</td>\n",
       "      <td>77146.0</td>\n",
       "      <td>0.868</td>\n",
       "      <td>NaN</td>\n",
       "      <td>NaN</td>\n",
       "      <td>NaN</td>\n",
       "      <td>NaN</td>\n",
       "      <td>0</td>\n",
       "    </tr>\n",
       "    <tr>\n",
       "      <th>4</th>\n",
       "      <td>Angola</td>\n",
       "      <td>0.037706</td>\n",
       "      <td>2.020405</td>\n",
       "      <td>-0.068499</td>\n",
       "      <td>0.035506</td>\n",
       "      <td>0.049960</td>\n",
       "      <td>2019</td>\n",
       "      <td>31825299.0</td>\n",
       "      <td>0.581</td>\n",
       "      <td>NaN</td>\n",
       "      <td>NaN</td>\n",
       "      <td>NaN</td>\n",
       "      <td>5.0</td>\n",
       "      <td>3</td>\n",
       "    </tr>\n",
       "    <tr>\n",
       "      <th>5</th>\n",
       "      <td>Antigua and Barbuda</td>\n",
       "      <td>2.471297</td>\n",
       "      <td>1.235648</td>\n",
       "      <td>2.162385</td>\n",
       "      <td>0.102971</td>\n",
       "      <td>0.102971</td>\n",
       "      <td>2019</td>\n",
       "      <td>97115.0</td>\n",
       "      <td>0.778</td>\n",
       "      <td>NaN</td>\n",
       "      <td>3.0</td>\n",
       "      <td>NaN</td>\n",
       "      <td>NaN</td>\n",
       "      <td>4</td>\n",
       "    </tr>\n",
       "    <tr>\n",
       "      <th>6</th>\n",
       "      <td>Argentina</td>\n",
       "      <td>-1.060279</td>\n",
       "      <td>0.660329</td>\n",
       "      <td>0.066547</td>\n",
       "      <td>0.131530</td>\n",
       "      <td>0.036400</td>\n",
       "      <td>2019</td>\n",
       "      <td>44780675.0</td>\n",
       "      <td>0.845</td>\n",
       "      <td>NaN</td>\n",
       "      <td>NaN</td>\n",
       "      <td>NaN</td>\n",
       "      <td>4.0</td>\n",
       "      <td>3</td>\n",
       "    </tr>\n",
       "    <tr>\n",
       "      <th>7</th>\n",
       "      <td>Armenia</td>\n",
       "      <td>0.098048</td>\n",
       "      <td>0.446289</td>\n",
       "      <td>0.412479</td>\n",
       "      <td>0.023667</td>\n",
       "      <td>NaN</td>\n",
       "      <td>2019</td>\n",
       "      <td>2957728.0</td>\n",
       "      <td>0.776</td>\n",
       "      <td>NaN</td>\n",
       "      <td>NaN</td>\n",
       "      <td>NaN</td>\n",
       "      <td>NaN</td>\n",
       "      <td>0</td>\n",
       "    </tr>\n",
       "    <tr>\n",
       "      <th>8</th>\n",
       "      <td>Australia</td>\n",
       "      <td>0.086100</td>\n",
       "      <td>0.044836</td>\n",
       "      <td>-0.191246</td>\n",
       "      <td>0.418598</td>\n",
       "      <td>0.149187</td>\n",
       "      <td>2019</td>\n",
       "      <td>25203200.0</td>\n",
       "      <td>0.944</td>\n",
       "      <td>NaN</td>\n",
       "      <td>NaN</td>\n",
       "      <td>NaN</td>\n",
       "      <td>NaN</td>\n",
       "      <td>0</td>\n",
       "    </tr>\n",
       "    <tr>\n",
       "      <th>9</th>\n",
       "      <td>Austria</td>\n",
       "      <td>-1.109981</td>\n",
       "      <td>-0.243436</td>\n",
       "      <td>0.025684</td>\n",
       "      <td>-0.031267</td>\n",
       "      <td>0.036850</td>\n",
       "      <td>2019</td>\n",
       "      <td>8955108.0</td>\n",
       "      <td>0.922</td>\n",
       "      <td>NaN</td>\n",
       "      <td>NaN</td>\n",
       "      <td>NaN</td>\n",
       "      <td>NaN</td>\n",
       "      <td>0</td>\n",
       "    </tr>\n",
       "    <tr>\n",
       "      <th>10</th>\n",
       "      <td>Azerbaijan</td>\n",
       "      <td>0.633975</td>\n",
       "      <td>-0.743452</td>\n",
       "      <td>-0.012938</td>\n",
       "      <td>0.127392</td>\n",
       "      <td>0.031848</td>\n",
       "      <td>2019</td>\n",
       "      <td>10047719.0</td>\n",
       "      <td>0.756</td>\n",
       "      <td>NaN</td>\n",
       "      <td>NaN</td>\n",
       "      <td>NaN</td>\n",
       "      <td>5.0</td>\n",
       "      <td>3</td>\n",
       "    </tr>\n",
       "    <tr>\n",
       "      <th>11</th>\n",
       "      <td>Bahamas</td>\n",
       "      <td>0.436473</td>\n",
       "      <td>-1.181044</td>\n",
       "      <td>0.513497</td>\n",
       "      <td>0.102699</td>\n",
       "      <td>0.025675</td>\n",
       "      <td>2019</td>\n",
       "      <td>389486.0</td>\n",
       "      <td>0.814</td>\n",
       "      <td>NaN</td>\n",
       "      <td>NaN</td>\n",
       "      <td>NaN</td>\n",
       "      <td>NaN</td>\n",
       "      <td>0</td>\n",
       "    </tr>\n",
       "    <tr>\n",
       "      <th>12</th>\n",
       "      <td>Bahrain</td>\n",
       "      <td>7.628732</td>\n",
       "      <td>2.827262</td>\n",
       "      <td>0.006093</td>\n",
       "      <td>0.219357</td>\n",
       "      <td>-0.121865</td>\n",
       "      <td>2019</td>\n",
       "      <td>1641164.0</td>\n",
       "      <td>0.852</td>\n",
       "      <td>NaN</td>\n",
       "      <td>NaN</td>\n",
       "      <td>NaN</td>\n",
       "      <td>NaN</td>\n",
       "      <td>0</td>\n",
       "    </tr>\n",
       "    <tr>\n",
       "      <th>13</th>\n",
       "      <td>Bangladesh</td>\n",
       "      <td>0.327453</td>\n",
       "      <td>0.178416</td>\n",
       "      <td>-0.005704</td>\n",
       "      <td>-0.010181</td>\n",
       "      <td>-0.006072</td>\n",
       "      <td>2019</td>\n",
       "      <td>163046173.0</td>\n",
       "      <td>0.632</td>\n",
       "      <td>2.0</td>\n",
       "      <td>NaN</td>\n",
       "      <td>3.0</td>\n",
       "      <td>NaN</td>\n",
       "      <td>0</td>\n",
       "    </tr>\n",
       "    <tr>\n",
       "      <th>14</th>\n",
       "      <td>Barbados</td>\n",
       "      <td>-1.323945</td>\n",
       "      <td>-4.111197</td>\n",
       "      <td>1.637511</td>\n",
       "      <td>0.069681</td>\n",
       "      <td>0.000000</td>\n",
       "      <td>2019</td>\n",
       "      <td>287021.0</td>\n",
       "      <td>0.814</td>\n",
       "      <td>NaN</td>\n",
       "      <td>NaN</td>\n",
       "      <td>NaN</td>\n",
       "      <td>NaN</td>\n",
       "      <td>0</td>\n",
       "    </tr>\n",
       "  </tbody>\n",
       "</table>\n",
       "</div>"
      ],
      "text/plain": [
       "                country  agriculture    energy     waste  industrial  \\\n",
       "0           Afghanistan     1.772263 -0.107251 -0.021030    0.014195   \n",
       "1               Albania     0.753233  0.236036  0.329757    0.017356   \n",
       "2               Algeria     1.357395 -0.402759 -0.009059    0.130304   \n",
       "3               Andorra    -0.648122  1.944365  1.036995    0.000000   \n",
       "4                Angola     0.037706  2.020405 -0.068499    0.035506   \n",
       "5   Antigua and Barbuda     2.471297  1.235648  2.162385    0.102971   \n",
       "6             Argentina    -1.060279  0.660329  0.066547    0.131530   \n",
       "7               Armenia     0.098048  0.446289  0.412479    0.023667   \n",
       "8             Australia     0.086100  0.044836 -0.191246    0.418598   \n",
       "9               Austria    -1.109981 -0.243436  0.025684   -0.031267   \n",
       "10           Azerbaijan     0.633975 -0.743452 -0.012938    0.127392   \n",
       "11              Bahamas     0.436473 -1.181044  0.513497    0.102699   \n",
       "12              Bahrain     7.628732  2.827262  0.006093    0.219357   \n",
       "13           Bangladesh     0.327453  0.178416 -0.005704   -0.010181   \n",
       "14             Barbados    -1.323945 -4.111197  1.637511    0.069681   \n",
       "\n",
       "    bunker fuels  Time     PopTotal    hdi  Cotton  Clothing  Garments  \\\n",
       "0      -0.034173  2019   38041757.0  0.511     NaN       NaN       NaN   \n",
       "1      -0.010413  2019    2880913.0  0.795     NaN       2.0       NaN   \n",
       "2       0.013007  2019   43053054.0  0.748     NaN       NaN       NaN   \n",
       "3       0.000000  2019      77146.0  0.868     NaN       NaN       NaN   \n",
       "4       0.049960  2019   31825299.0  0.581     NaN       NaN       NaN   \n",
       "5       0.102971  2019      97115.0  0.778     NaN       3.0       NaN   \n",
       "6       0.036400  2019   44780675.0  0.845     NaN       NaN       NaN   \n",
       "7            NaN  2019    2957728.0  0.776     NaN       NaN       NaN   \n",
       "8       0.149187  2019   25203200.0  0.944     NaN       NaN       NaN   \n",
       "9       0.036850  2019    8955108.0  0.922     NaN       NaN       NaN   \n",
       "10      0.031848  2019   10047719.0  0.756     NaN       NaN       NaN   \n",
       "11      0.025675  2019     389486.0  0.814     NaN       NaN       NaN   \n",
       "12     -0.121865  2019    1641164.0  0.852     NaN       NaN       NaN   \n",
       "13     -0.006072  2019  163046173.0  0.632     2.0       NaN       3.0   \n",
       "14      0.000000  2019     287021.0  0.814     NaN       NaN       NaN   \n",
       "\n",
       "    Textiles  cluster_label  \n",
       "0        2.0              0  \n",
       "1        NaN              0  \n",
       "2        NaN              0  \n",
       "3        NaN              0  \n",
       "4        5.0              3  \n",
       "5        NaN              4  \n",
       "6        4.0              3  \n",
       "7        NaN              0  \n",
       "8        NaN              0  \n",
       "9        NaN              0  \n",
       "10       5.0              3  \n",
       "11       NaN              0  \n",
       "12       NaN              0  \n",
       "13       NaN              0  \n",
       "14       NaN              0  "
      ]
     },
     "execution_count": 213,
     "metadata": {},
     "output_type": "execute_result"
    }
   ],
   "source": [
    "clustering = KMeans(n_clusters = 5, random_state = 15)\n",
    "KM = clustering.fit(analysis_two_all_temp)\n",
    "KM.cluster_centers_\n",
    "\n",
    "cluster_labels = KM.labels_\n",
    "print(cluster_labels[:5])\n",
    "analysis_two_all[\"cluster_label\"] = cluster_labels\n",
    "analysis_two_all.head(15)\n"
   ]
  },
  {
   "cell_type": "code",
   "execution_count": 214,
   "metadata": {},
   "outputs": [
    {
     "data": {
      "text/html": [
       "<div>\n",
       "<style scoped>\n",
       "    .dataframe tbody tr th:only-of-type {\n",
       "        vertical-align: middle;\n",
       "    }\n",
       "\n",
       "    .dataframe tbody tr th {\n",
       "        vertical-align: top;\n",
       "    }\n",
       "\n",
       "    .dataframe thead th {\n",
       "        text-align: right;\n",
       "    }\n",
       "</style>\n",
       "<table border=\"1\" class=\"dataframe\">\n",
       "  <thead>\n",
       "    <tr style=\"text-align: right;\">\n",
       "      <th></th>\n",
       "      <th>country</th>\n",
       "      <th>agriculture</th>\n",
       "      <th>energy</th>\n",
       "      <th>waste</th>\n",
       "      <th>industrial</th>\n",
       "      <th>bunker fuels</th>\n",
       "      <th>Time</th>\n",
       "      <th>PopTotal</th>\n",
       "      <th>hdi</th>\n",
       "      <th>Cotton</th>\n",
       "      <th>Clothing</th>\n",
       "      <th>Garments</th>\n",
       "      <th>Textiles</th>\n",
       "    </tr>\n",
       "    <tr>\n",
       "      <th>cluster_label</th>\n",
       "      <th></th>\n",
       "      <th></th>\n",
       "      <th></th>\n",
       "      <th></th>\n",
       "      <th></th>\n",
       "      <th></th>\n",
       "      <th></th>\n",
       "      <th></th>\n",
       "      <th></th>\n",
       "      <th></th>\n",
       "      <th></th>\n",
       "      <th></th>\n",
       "      <th></th>\n",
       "    </tr>\n",
       "  </thead>\n",
       "  <tbody>\n",
       "    <tr>\n",
       "      <th>0</th>\n",
       "      <td>99</td>\n",
       "      <td>99</td>\n",
       "      <td>99</td>\n",
       "      <td>99</td>\n",
       "      <td>97</td>\n",
       "      <td>86</td>\n",
       "      <td>99</td>\n",
       "      <td>99</td>\n",
       "      <td>91</td>\n",
       "      <td>4</td>\n",
       "      <td>5</td>\n",
       "      <td>2</td>\n",
       "      <td>20</td>\n",
       "    </tr>\n",
       "    <tr>\n",
       "      <th>1</th>\n",
       "      <td>17</td>\n",
       "      <td>17</td>\n",
       "      <td>17</td>\n",
       "      <td>15</td>\n",
       "      <td>17</td>\n",
       "      <td>16</td>\n",
       "      <td>17</td>\n",
       "      <td>17</td>\n",
       "      <td>17</td>\n",
       "      <td>1</td>\n",
       "      <td>0</td>\n",
       "      <td>1</td>\n",
       "      <td>17</td>\n",
       "    </tr>\n",
       "    <tr>\n",
       "      <th>2</th>\n",
       "      <td>6</td>\n",
       "      <td>6</td>\n",
       "      <td>6</td>\n",
       "      <td>6</td>\n",
       "      <td>6</td>\n",
       "      <td>6</td>\n",
       "      <td>6</td>\n",
       "      <td>6</td>\n",
       "      <td>6</td>\n",
       "      <td>0</td>\n",
       "      <td>6</td>\n",
       "      <td>0</td>\n",
       "      <td>6</td>\n",
       "    </tr>\n",
       "    <tr>\n",
       "      <th>3</th>\n",
       "      <td>41</td>\n",
       "      <td>41</td>\n",
       "      <td>41</td>\n",
       "      <td>41</td>\n",
       "      <td>41</td>\n",
       "      <td>40</td>\n",
       "      <td>41</td>\n",
       "      <td>41</td>\n",
       "      <td>41</td>\n",
       "      <td>3</td>\n",
       "      <td>0</td>\n",
       "      <td>2</td>\n",
       "      <td>41</td>\n",
       "    </tr>\n",
       "    <tr>\n",
       "      <th>4</th>\n",
       "      <td>13</td>\n",
       "      <td>13</td>\n",
       "      <td>13</td>\n",
       "      <td>13</td>\n",
       "      <td>13</td>\n",
       "      <td>12</td>\n",
       "      <td>13</td>\n",
       "      <td>13</td>\n",
       "      <td>13</td>\n",
       "      <td>1</td>\n",
       "      <td>13</td>\n",
       "      <td>0</td>\n",
       "      <td>5</td>\n",
       "    </tr>\n",
       "  </tbody>\n",
       "</table>\n",
       "</div>"
      ],
      "text/plain": [
       "               country  agriculture  energy  waste  industrial  bunker fuels  \\\n",
       "cluster_label                                                                  \n",
       "0                   99           99      99     99          97            86   \n",
       "1                   17           17      17     15          17            16   \n",
       "2                    6            6       6      6           6             6   \n",
       "3                   41           41      41     41          41            40   \n",
       "4                   13           13      13     13          13            12   \n",
       "\n",
       "               Time  PopTotal  hdi  Cotton  Clothing  Garments  Textiles  \n",
       "cluster_label                                                             \n",
       "0                99        99   91       4         5         2        20  \n",
       "1                17        17   17       1         0         1        17  \n",
       "2                 6         6    6       0         6         0         6  \n",
       "3                41        41   41       3         0         2        41  \n",
       "4                13        13   13       1        13         0         5  "
      ]
     },
     "execution_count": 214,
     "metadata": {},
     "output_type": "execute_result"
    }
   ],
   "source": [
    "analysis_two_all.groupby('cluster_label').count()"
   ]
  },
  {
   "cell_type": "code",
   "execution_count": 215,
   "metadata": {},
   "outputs": [
    {
     "data": {
      "text/html": [
       "<div>\n",
       "<style scoped>\n",
       "    .dataframe tbody tr th:only-of-type {\n",
       "        vertical-align: middle;\n",
       "    }\n",
       "\n",
       "    .dataframe tbody tr th {\n",
       "        vertical-align: top;\n",
       "    }\n",
       "\n",
       "    .dataframe thead th {\n",
       "        text-align: right;\n",
       "    }\n",
       "</style>\n",
       "<table border=\"1\" class=\"dataframe\">\n",
       "  <thead>\n",
       "    <tr style=\"text-align: right;\">\n",
       "      <th></th>\n",
       "      <th>agriculture</th>\n",
       "      <th>energy</th>\n",
       "      <th>waste</th>\n",
       "      <th>industrial</th>\n",
       "      <th>bunker fuels</th>\n",
       "      <th>Time</th>\n",
       "      <th>PopTotal</th>\n",
       "      <th>hdi</th>\n",
       "      <th>Cotton</th>\n",
       "      <th>Clothing</th>\n",
       "      <th>Garments</th>\n",
       "      <th>Textiles</th>\n",
       "    </tr>\n",
       "    <tr>\n",
       "      <th>cluster_label</th>\n",
       "      <th></th>\n",
       "      <th></th>\n",
       "      <th></th>\n",
       "      <th></th>\n",
       "      <th></th>\n",
       "      <th></th>\n",
       "      <th></th>\n",
       "      <th></th>\n",
       "      <th></th>\n",
       "      <th></th>\n",
       "      <th></th>\n",
       "      <th></th>\n",
       "    </tr>\n",
       "  </thead>\n",
       "  <tbody>\n",
       "    <tr>\n",
       "      <th>0</th>\n",
       "      <td>1.672265</td>\n",
       "      <td>0.062718</td>\n",
       "      <td>0.172178</td>\n",
       "      <td>0.057534</td>\n",
       "      <td>0.045997</td>\n",
       "      <td>2019</td>\n",
       "      <td>3.605073e+07</td>\n",
       "      <td>0.710330</td>\n",
       "      <td>2.000000</td>\n",
       "      <td>1.800000</td>\n",
       "      <td>2.5</td>\n",
       "      <td>1.450000</td>\n",
       "    </tr>\n",
       "    <tr>\n",
       "      <th>1</th>\n",
       "      <td>0.543987</td>\n",
       "      <td>0.514621</td>\n",
       "      <td>0.479432</td>\n",
       "      <td>0.068449</td>\n",
       "      <td>-0.003097</td>\n",
       "      <td>2019</td>\n",
       "      <td>2.562439e+07</td>\n",
       "      <td>0.814353</td>\n",
       "      <td>11.000000</td>\n",
       "      <td>NaN</td>\n",
       "      <td>2.0</td>\n",
       "      <td>9.764706</td>\n",
       "    </tr>\n",
       "    <tr>\n",
       "      <th>2</th>\n",
       "      <td>-0.687114</td>\n",
       "      <td>0.694941</td>\n",
       "      <td>-0.026455</td>\n",
       "      <td>0.015840</td>\n",
       "      <td>0.037901</td>\n",
       "      <td>2019</td>\n",
       "      <td>4.991171e+07</td>\n",
       "      <td>0.876333</td>\n",
       "      <td>NaN</td>\n",
       "      <td>10.166667</td>\n",
       "      <td>NaN</td>\n",
       "      <td>9.166667</td>\n",
       "    </tr>\n",
       "    <tr>\n",
       "      <th>3</th>\n",
       "      <td>0.494067</td>\n",
       "      <td>0.324951</td>\n",
       "      <td>-0.170130</td>\n",
       "      <td>0.047834</td>\n",
       "      <td>0.034934</td>\n",
       "      <td>2019</td>\n",
       "      <td>5.800863e+07</td>\n",
       "      <td>0.689878</td>\n",
       "      <td>2.333333</td>\n",
       "      <td>NaN</td>\n",
       "      <td>6.0</td>\n",
       "      <td>4.780488</td>\n",
       "    </tr>\n",
       "    <tr>\n",
       "      <th>4</th>\n",
       "      <td>0.745114</td>\n",
       "      <td>0.445356</td>\n",
       "      <td>0.503715</td>\n",
       "      <td>0.066149</td>\n",
       "      <td>0.018926</td>\n",
       "      <td>2019</td>\n",
       "      <td>8.474097e+06</td>\n",
       "      <td>0.719308</td>\n",
       "      <td>2.000000</td>\n",
       "      <td>4.615385</td>\n",
       "      <td>NaN</td>\n",
       "      <td>2.600000</td>\n",
       "    </tr>\n",
       "  </tbody>\n",
       "</table>\n",
       "</div>"
      ],
      "text/plain": [
       "               agriculture    energy     waste  industrial  bunker fuels  \\\n",
       "cluster_label                                                              \n",
       "0                 1.672265  0.062718  0.172178    0.057534      0.045997   \n",
       "1                 0.543987  0.514621  0.479432    0.068449     -0.003097   \n",
       "2                -0.687114  0.694941 -0.026455    0.015840      0.037901   \n",
       "3                 0.494067  0.324951 -0.170130    0.047834      0.034934   \n",
       "4                 0.745114  0.445356  0.503715    0.066149      0.018926   \n",
       "\n",
       "               Time      PopTotal       hdi     Cotton   Clothing  Garments  \\\n",
       "cluster_label                                                                 \n",
       "0              2019  3.605073e+07  0.710330   2.000000   1.800000       2.5   \n",
       "1              2019  2.562439e+07  0.814353  11.000000        NaN       2.0   \n",
       "2              2019  4.991171e+07  0.876333        NaN  10.166667       NaN   \n",
       "3              2019  5.800863e+07  0.689878   2.333333        NaN       6.0   \n",
       "4              2019  8.474097e+06  0.719308   2.000000   4.615385       NaN   \n",
       "\n",
       "               Textiles  \n",
       "cluster_label            \n",
       "0              1.450000  \n",
       "1              9.764706  \n",
       "2              9.166667  \n",
       "3              4.780488  \n",
       "4              2.600000  "
      ]
     },
     "execution_count": 215,
     "metadata": {},
     "output_type": "execute_result"
    }
   ],
   "source": [
    "analysis_two_all.groupby('cluster_label').mean()"
   ]
  },
  {
   "cell_type": "code",
   "execution_count": 216,
   "metadata": {},
   "outputs": [
    {
     "data": {
      "text/html": [
       "<div>\n",
       "<style scoped>\n",
       "    .dataframe tbody tr th:only-of-type {\n",
       "        vertical-align: middle;\n",
       "    }\n",
       "\n",
       "    .dataframe tbody tr th {\n",
       "        vertical-align: top;\n",
       "    }\n",
       "\n",
       "    .dataframe thead th {\n",
       "        text-align: right;\n",
       "    }\n",
       "</style>\n",
       "<table border=\"1\" class=\"dataframe\">\n",
       "  <thead>\n",
       "    <tr style=\"text-align: right;\">\n",
       "      <th></th>\n",
       "      <th>country</th>\n",
       "      <th>agriculture</th>\n",
       "      <th>energy</th>\n",
       "      <th>waste</th>\n",
       "      <th>industrial</th>\n",
       "      <th>bunker fuels</th>\n",
       "      <th>Time</th>\n",
       "      <th>PopTotal</th>\n",
       "      <th>hdi</th>\n",
       "      <th>Cotton</th>\n",
       "      <th>Clothing</th>\n",
       "      <th>Garments</th>\n",
       "      <th>Textiles</th>\n",
       "    </tr>\n",
       "    <tr>\n",
       "      <th>cluster_label</th>\n",
       "      <th></th>\n",
       "      <th></th>\n",
       "      <th></th>\n",
       "      <th></th>\n",
       "      <th></th>\n",
       "      <th></th>\n",
       "      <th></th>\n",
       "      <th></th>\n",
       "      <th></th>\n",
       "      <th></th>\n",
       "      <th></th>\n",
       "      <th></th>\n",
       "      <th></th>\n",
       "    </tr>\n",
       "  </thead>\n",
       "  <tbody>\n",
       "    <tr>\n",
       "      <th>0</th>\n",
       "      <td>Afghanistan</td>\n",
       "      <td>-6.311774</td>\n",
       "      <td>-9.771516</td>\n",
       "      <td>-9.412631</td>\n",
       "      <td>-0.487748</td>\n",
       "      <td>-0.144150</td>\n",
       "      <td>2019</td>\n",
       "      <td>1614.0</td>\n",
       "      <td>0.397</td>\n",
       "      <td>2.0</td>\n",
       "      <td>1.0</td>\n",
       "      <td>2.0</td>\n",
       "      <td>1.0</td>\n",
       "    </tr>\n",
       "    <tr>\n",
       "      <th>1</th>\n",
       "      <td>Belarus</td>\n",
       "      <td>-2.484082</td>\n",
       "      <td>-4.064264</td>\n",
       "      <td>-4.111083</td>\n",
       "      <td>-0.097132</td>\n",
       "      <td>-0.332775</td>\n",
       "      <td>2019</td>\n",
       "      <td>1394969.0</td>\n",
       "      <td>0.539</td>\n",
       "      <td>11.0</td>\n",
       "      <td>NaN</td>\n",
       "      <td>2.0</td>\n",
       "      <td>8.0</td>\n",
       "    </tr>\n",
       "    <tr>\n",
       "      <th>2</th>\n",
       "      <td>Denmark</td>\n",
       "      <td>-3.021547</td>\n",
       "      <td>-0.393412</td>\n",
       "      <td>-0.124525</td>\n",
       "      <td>-0.233893</td>\n",
       "      <td>-0.072900</td>\n",
       "      <td>2019</td>\n",
       "      <td>5532159.0</td>\n",
       "      <td>0.777</td>\n",
       "      <td>NaN</td>\n",
       "      <td>8.0</td>\n",
       "      <td>NaN</td>\n",
       "      <td>6.0</td>\n",
       "    </tr>\n",
       "    <tr>\n",
       "      <th>3</th>\n",
       "      <td>Angola</td>\n",
       "      <td>-5.220250</td>\n",
       "      <td>-3.975030</td>\n",
       "      <td>-9.136611</td>\n",
       "      <td>-0.442260</td>\n",
       "      <td>-0.073794</td>\n",
       "      <td>2019</td>\n",
       "      <td>782775.0</td>\n",
       "      <td>0.394</td>\n",
       "      <td>1.0</td>\n",
       "      <td>NaN</td>\n",
       "      <td>5.0</td>\n",
       "      <td>3.0</td>\n",
       "    </tr>\n",
       "    <tr>\n",
       "      <th>4</th>\n",
       "      <td>Antigua and Barbuda</td>\n",
       "      <td>-2.384321</td>\n",
       "      <td>-0.283538</td>\n",
       "      <td>0.000990</td>\n",
       "      <td>0.000000</td>\n",
       "      <td>-0.045416</td>\n",
       "      <td>2019</td>\n",
       "      <td>52834.0</td>\n",
       "      <td>0.459</td>\n",
       "      <td>2.0</td>\n",
       "      <td>3.0</td>\n",
       "      <td>NaN</td>\n",
       "      <td>1.0</td>\n",
       "    </tr>\n",
       "  </tbody>\n",
       "</table>\n",
       "</div>"
      ],
      "text/plain": [
       "                           country  agriculture    energy     waste  \\\n",
       "cluster_label                                                         \n",
       "0                      Afghanistan    -6.311774 -9.771516 -9.412631   \n",
       "1                          Belarus    -2.484082 -4.064264 -4.111083   \n",
       "2                          Denmark    -3.021547 -0.393412 -0.124525   \n",
       "3                           Angola    -5.220250 -3.975030 -9.136611   \n",
       "4              Antigua and Barbuda    -2.384321 -0.283538  0.000990   \n",
       "\n",
       "               industrial  bunker fuels  Time   PopTotal    hdi  Cotton  \\\n",
       "cluster_label                                                             \n",
       "0               -0.487748     -0.144150  2019     1614.0  0.397     2.0   \n",
       "1               -0.097132     -0.332775  2019  1394969.0  0.539    11.0   \n",
       "2               -0.233893     -0.072900  2019  5532159.0  0.777     NaN   \n",
       "3               -0.442260     -0.073794  2019   782775.0  0.394     1.0   \n",
       "4                0.000000     -0.045416  2019    52834.0  0.459     2.0   \n",
       "\n",
       "               Clothing  Garments  Textiles  \n",
       "cluster_label                                \n",
       "0                   1.0       2.0       1.0  \n",
       "1                   NaN       2.0       8.0  \n",
       "2                   8.0       NaN       6.0  \n",
       "3                   NaN       5.0       3.0  \n",
       "4                   3.0       NaN       1.0  "
      ]
     },
     "execution_count": 216,
     "metadata": {},
     "output_type": "execute_result"
    }
   ],
   "source": [
    "analysis_two_all.groupby('cluster_label').min()"
   ]
  },
  {
   "cell_type": "code",
   "execution_count": 217,
   "metadata": {},
   "outputs": [
    {
     "data": {
      "text/html": [
       "<div>\n",
       "<style scoped>\n",
       "    .dataframe tbody tr th:only-of-type {\n",
       "        vertical-align: middle;\n",
       "    }\n",
       "\n",
       "    .dataframe tbody tr th {\n",
       "        vertical-align: top;\n",
       "    }\n",
       "\n",
       "    .dataframe thead th {\n",
       "        text-align: right;\n",
       "    }\n",
       "</style>\n",
       "<table border=\"1\" class=\"dataframe\">\n",
       "  <thead>\n",
       "    <tr style=\"text-align: right;\">\n",
       "      <th></th>\n",
       "      <th>country</th>\n",
       "      <th>agriculture</th>\n",
       "      <th>energy</th>\n",
       "      <th>waste</th>\n",
       "      <th>industrial</th>\n",
       "      <th>bunker fuels</th>\n",
       "      <th>Time</th>\n",
       "      <th>PopTotal</th>\n",
       "      <th>hdi</th>\n",
       "      <th>Cotton</th>\n",
       "      <th>Clothing</th>\n",
       "      <th>Garments</th>\n",
       "      <th>Textiles</th>\n",
       "    </tr>\n",
       "    <tr>\n",
       "      <th>cluster_label</th>\n",
       "      <th></th>\n",
       "      <th></th>\n",
       "      <th></th>\n",
       "      <th></th>\n",
       "      <th></th>\n",
       "      <th></th>\n",
       "      <th></th>\n",
       "      <th></th>\n",
       "      <th></th>\n",
       "      <th></th>\n",
       "      <th></th>\n",
       "      <th></th>\n",
       "      <th></th>\n",
       "    </tr>\n",
       "  </thead>\n",
       "  <tbody>\n",
       "    <tr>\n",
       "      <th>0</th>\n",
       "      <td>Yemen</td>\n",
       "      <td>65.614545</td>\n",
       "      <td>7.655175</td>\n",
       "      <td>3.921818</td>\n",
       "      <td>0.418598</td>\n",
       "      <td>0.857924</td>\n",
       "      <td>2019</td>\n",
       "      <td>1.366418e+09</td>\n",
       "      <td>0.955</td>\n",
       "      <td>2.0</td>\n",
       "      <td>2.0</td>\n",
       "      <td>3.0</td>\n",
       "      <td>2.0</td>\n",
       "    </tr>\n",
       "    <tr>\n",
       "      <th>1</th>\n",
       "      <td>United Arab Emirates</td>\n",
       "      <td>6.483786</td>\n",
       "      <td>1.878178</td>\n",
       "      <td>10.997501</td>\n",
       "      <td>0.470804</td>\n",
       "      <td>0.121795</td>\n",
       "      <td>2019</td>\n",
       "      <td>2.009636e+08</td>\n",
       "      <td>0.957</td>\n",
       "      <td>11.0</td>\n",
       "      <td>NaN</td>\n",
       "      <td>2.0</td>\n",
       "      <td>15.0</td>\n",
       "    </tr>\n",
       "    <tr>\n",
       "      <th>2</th>\n",
       "      <td>United Kingdom</td>\n",
       "      <td>1.375250</td>\n",
       "      <td>1.623389</td>\n",
       "      <td>0.030729</td>\n",
       "      <td>0.224144</td>\n",
       "      <td>0.160669</td>\n",
       "      <td>2019</td>\n",
       "      <td>1.275755e+08</td>\n",
       "      <td>0.940</td>\n",
       "      <td>NaN</td>\n",
       "      <td>16.0</td>\n",
       "      <td>NaN</td>\n",
       "      <td>15.0</td>\n",
       "    </tr>\n",
       "    <tr>\n",
       "      <th>3</th>\n",
       "      <td>Zambia</td>\n",
       "      <td>8.022740</td>\n",
       "      <td>2.211745</td>\n",
       "      <td>0.739482</td>\n",
       "      <td>0.332414</td>\n",
       "      <td>0.445595</td>\n",
       "      <td>2019</td>\n",
       "      <td>1.433784e+09</td>\n",
       "      <td>0.955</td>\n",
       "      <td>4.0</td>\n",
       "      <td>NaN</td>\n",
       "      <td>7.0</td>\n",
       "      <td>7.0</td>\n",
       "    </tr>\n",
       "    <tr>\n",
       "      <th>4</th>\n",
       "      <td>Zimbabwe</td>\n",
       "      <td>5.695958</td>\n",
       "      <td>2.000221</td>\n",
       "      <td>2.162385</td>\n",
       "      <td>0.189272</td>\n",
       "      <td>0.102971</td>\n",
       "      <td>2019</td>\n",
       "      <td>5.033944e+07</td>\n",
       "      <td>0.895</td>\n",
       "      <td>2.0</td>\n",
       "      <td>9.0</td>\n",
       "      <td>NaN</td>\n",
       "      <td>4.0</td>\n",
       "    </tr>\n",
       "  </tbody>\n",
       "</table>\n",
       "</div>"
      ],
      "text/plain": [
       "                            country  agriculture    energy      waste  \\\n",
       "cluster_label                                                           \n",
       "0                             Yemen    65.614545  7.655175   3.921818   \n",
       "1              United Arab Emirates     6.483786  1.878178  10.997501   \n",
       "2                    United Kingdom     1.375250  1.623389   0.030729   \n",
       "3                            Zambia     8.022740  2.211745   0.739482   \n",
       "4                          Zimbabwe     5.695958  2.000221   2.162385   \n",
       "\n",
       "               industrial  bunker fuels  Time      PopTotal    hdi  Cotton  \\\n",
       "cluster_label                                                                \n",
       "0                0.418598      0.857924  2019  1.366418e+09  0.955     2.0   \n",
       "1                0.470804      0.121795  2019  2.009636e+08  0.957    11.0   \n",
       "2                0.224144      0.160669  2019  1.275755e+08  0.940     NaN   \n",
       "3                0.332414      0.445595  2019  1.433784e+09  0.955     4.0   \n",
       "4                0.189272      0.102971  2019  5.033944e+07  0.895     2.0   \n",
       "\n",
       "               Clothing  Garments  Textiles  \n",
       "cluster_label                                \n",
       "0                   2.0       3.0       2.0  \n",
       "1                   NaN       2.0      15.0  \n",
       "2                  16.0       NaN      15.0  \n",
       "3                   NaN       7.0       7.0  \n",
       "4                   9.0       NaN       4.0  "
      ]
     },
     "execution_count": 217,
     "metadata": {},
     "output_type": "execute_result"
    }
   ],
   "source": [
    "analysis_two_all.groupby('cluster_label').max()"
   ]
  },
  {
   "cell_type": "code",
   "execution_count": null,
   "metadata": {},
   "outputs": [],
   "source": []
  }
 ],
 "metadata": {
  "kernelspec": {
   "display_name": "Python 3",
   "language": "python",
   "name": "python3"
  },
  "language_info": {
   "codemirror_mode": {
    "name": "ipython",
    "version": 3
   },
   "file_extension": ".py",
   "mimetype": "text/x-python",
   "name": "python",
   "nbconvert_exporter": "python",
   "pygments_lexer": "ipython3",
   "version": "3.8.5"
  }
 },
 "nbformat": 4,
 "nbformat_minor": 4
}
